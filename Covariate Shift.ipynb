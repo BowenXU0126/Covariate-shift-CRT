{
 "cells": [
  {
   "cell_type": "code",
   "execution_count": 4,
   "id": "f276cf02",
   "metadata": {},
   "outputs": [],
   "source": [
    "import numpy as np\n",
    "import pandas as pd\n",
    "import matplotlib.pyplot as plt\n",
    "from scipy.stats import norm, chi2, truncnorm\n",
    "from tqdm import trange\n",
    "from sklearn import linear_model\n",
    "from sklearn.linear_model import LassoCV\n",
    "from sklearn.linear_model import Lasso\n",
    "\n",
    "import matplotlib.pyplot as plt"
   ]
  },
  {
   "cell_type": "markdown",
   "id": "34841abf",
   "metadata": {},
   "source": [
    "## 生成数据"
   ]
  },
  {
   "cell_type": "code",
   "execution_count": 5,
   "id": "b71bf1c8",
   "metadata": {},
   "outputs": [],
   "source": [
    "n, p=500, 20\n",
    "s = np.random.normal(0, 1, p)\n",
    "t = s + np.random.normal(0, 0.1, p)\n",
    "u = np.random.normal(0, 1, p)"
   ]
  },
  {
   "cell_type": "code",
   "execution_count": 6,
   "id": "8a429fec",
   "metadata": {},
   "outputs": [],
   "source": [
    "def generate(n, p, s, t, u, Alpha = 0):\n",
    "    Z_source, Z_target = np.zeros((n, p)), np.zeros((n, p))\n",
    "    V_source, V_target = 0, 0\n",
    "    for i in range(n):\n",
    "        Z_source[i] = np.random.normal(0, 1, p)\n",
    "        Z_target[i] = np.random.normal(0.1, 1, p)\n",
    "        \n",
    "    X_source = Z_source @ u + np.random.normal(0, 1, n)\n",
    "    X_target = Z_target @ u + np.random.normal(0, 1, n)\n",
    "    \n",
    "    V_source = Z_source @ s + X_source + np.random.normal(0, 1, n)\n",
    "    V_target = Z_target @ t - X_target + np.random.normal(0, 1, n)\n",
    "    \n",
    "    Y_source, Y_target = np.zeros(n), np.zeros(n)\n",
    "    for i in range(n):\n",
    "        Y_source[i] = np.sin(Z_source[i].sum() + X_source[i] + V_source[i]) + np.random.normal(0, 1, 1) + Alpha * X_source[i]\n",
    "        Y_target[i] = np.sin(Z_target[i].sum() + X_target[i] + V_target[i]) + np.random.normal(0, 1, 1) + Alpha * X_target[i]\n",
    "    return Y_source, X_source, V_source, Z_source, Y_target, X_target, V_target, Z_target"
   ]
  },
  {
   "cell_type": "code",
   "execution_count": 7,
   "id": "0083f3ed",
   "metadata": {},
   "outputs": [],
   "source": [
    "Y_source, X_source, V_source, Z_source, Y_target, X_target, V_target, Z_target = generate(n, p, s, t, u, 0)"
   ]
  },
  {
   "cell_type": "code",
   "execution_count": 8,
   "id": "9040e78e",
   "metadata": {},
   "outputs": [
    {
     "data": {
      "text/plain": [
       "1.8846445338158873"
      ]
     },
     "execution_count": 8,
     "metadata": {},
     "output_type": "execute_result"
    }
   ],
   "source": [
    "reg = LassoCV().fit(Z_source,Y_source)\n",
    "Y_source[3]"
   ]
  },
  {
   "cell_type": "code",
   "execution_count": 9,
   "id": "fc6c7681",
   "metadata": {},
   "outputs": [
    {
     "data": {
      "text/plain": [
       "(500,)"
      ]
     },
     "execution_count": 9,
     "metadata": {},
     "output_type": "execute_result"
    }
   ],
   "source": [
    "X_source.shape"
   ]
  },
  {
   "cell_type": "code",
   "execution_count": 10,
   "id": "45050627",
   "metadata": {},
   "outputs": [],
   "source": [
    "def Covariate_Shift_Weight(x, z, v = 0):\n",
    "    return np.exp(((x - z @ s)**2 - (x - z @ t)**2)/2)\n",
    "\n",
    "def Model_X(z, v):\n",
    "    return z @ u + np.random.normal(0, 1, 1)\n",
    "\n",
    "def T_statistic(y, x, z, v = 0):\n",
    "    d_y = reg.predict(z.reshape(1,20))\n",
    "    d_x = z @ u\n",
    "    return np.abs((y-d_y)*(x-d_x))"
   ]
  },
  {
   "cell_type": "code",
   "execution_count": 11,
   "id": "2e1867f2",
   "metadata": {},
   "outputs": [
    {
     "data": {
      "text/plain": [
       "array([1.00151025])"
      ]
     },
     "execution_count": 11,
     "metadata": {},
     "output_type": "execute_result"
    }
   ],
   "source": [
    "T_statistic(Y_source[1], X_source[1], Z_source[1])"
   ]
  },
  {
   "cell_type": "code",
   "execution_count": 12,
   "id": "d156a854",
   "metadata": {},
   "outputs": [
    {
     "name": "stdout",
     "output_type": "stream",
     "text": [
      "[0.62883561]\n",
      "[1.00151025]\n",
      "[4.64956768]\n",
      "[2.11225433]\n",
      "[1.38612382]\n",
      "[1.46191983]\n",
      "[1.03372469]\n",
      "[0.08014713]\n",
      "[3.10903179]\n",
      "[1.37132904]\n"
     ]
    }
   ],
   "source": [
    "for i in range(10):\n",
    "    x=X_source[i]\n",
    "    z=Z_source[i]\n",
    "    t=T_statistic(Y_source[i], X_source[i], Z_source[i])\n",
    "    print(t)"
   ]
  },
  {
   "cell_type": "code",
   "execution_count": 13,
   "id": "4ee27feb",
   "metadata": {},
   "outputs": [],
   "source": [
    "def Conterfeits(y, x, z, v = 0, L = 5, K = 10):\n",
    "    M = L * K - 1\n",
    "    cnt = 0 \n",
    "    \n",
    "    for i in range(M):\n",
    "        x_ = Model_X(z, v)\n",
    "        if T_statistic(y, x, z, v) > T_statistic(y, x_, z, v):\n",
    "            cnt=cnt+1\n",
    "            \n",
    "    return cnt // K\n",
    "\n",
    "def PCRtest(Y, X, Z, V = 0, L = 5, K = 20, covariate_shift = True):\n",
    "    n = Y.size\n",
    "    W = np.array([0.0]*L)\n",
    "    \n",
    "    for j in range(n):\n",
    "        y, x, z, v = Y[j], X[j], Z[j], 0\n",
    "        if covariate_shift == True:\n",
    "            W[Conterfeits(y, x, z, v, L, K)] += Covariate_Shift_Weight(x, z, v)\n",
    "        if covariate_shift == False:\n",
    "            W[Conterfeits(y, x, z, v, L, K)] += 1\n",
    "            \n",
    "    return W, L/n * np.dot(W - n/L, W - n/L)"
   ]
  },
  {
   "cell_type": "code",
   "execution_count": 16,
   "id": "c8fd609a",
   "metadata": {},
   "outputs": [
    {
     "data": {
      "text/plain": [
       "(array([125.,  92.,  94.,  88., 101.]), 8.700000000000001)"
      ]
     },
     "execution_count": 16,
     "metadata": {},
     "output_type": "execute_result"
    }
   ],
   "source": [
    "PCRtest(Y_target, X_target, Z_target, L = 5, K = 20, covariate_shift = False)"
   ]
  },
  {
   "cell_type": "code",
   "execution_count": 15,
   "id": "93bf7bac",
   "metadata": {},
   "outputs": [
    {
     "data": {
      "text/plain": [
       "(array([ 95., 113.,  89., 100., 103.]), 3.24)"
      ]
     },
     "execution_count": 15,
     "metadata": {},
     "output_type": "execute_result"
    }
   ],
   "source": [
    "PCRtest(Y_source, X_source, Z_source, L = 5, K = 20, covariate_shift = False)"
   ]
  },
  {
   "cell_type": "code",
   "execution_count": 88,
   "id": "4d9e0667",
   "metadata": {},
   "outputs": [],
   "source": [
    "def int_(x):\n",
    "    if x >= 80: return 79\n",
    "    return int(x)\n",
    "\n",
    "def Mutiple_Tests(m, Alpha):\n",
    "    X = []\n",
    "    n, p=500, 20\n",
    "    for i in trange(m):\n",
    "        s = np.random.normal(0, 1, p)\n",
    "        t = s + np.random.normal(0, 0.1, p)\n",
    "        u = np.random.normal(0, 1, p)\n",
    "        Y_source, X_source, V_source, Z_source, Y_target, X_target, V_target, Z_target = generate(n, p, s, t, u, Alpha)\n",
    "        u, v = PCRtest(Y_source, X_source, Z_source, L = 5, K = 20, covariate_shift = False)\n",
    "        X.append(v)\n",
    "    return X"
   ]
  },
  {
   "cell_type": "code",
   "execution_count": 89,
   "id": "d3a47289",
   "metadata": {},
   "outputs": [
    {
     "name": "stderr",
     "output_type": "stream",
     "text": [
      "100%|██████████████████████████████████████████████████████████████████████████████████| 10/10 [00:59<00:00,  5.92s/it]\n",
      "100%|██████████████████████████████████████████████████████████████████████████████████| 10/10 [00:59<00:00,  5.93s/it]\n"
     ]
    }
   ],
   "source": [
    "H_0 = Mutiple_Tests(10, 1)\n",
    "H_1 = Mutiple_Tests(10, 0)"
   ]
  },
  {
   "cell_type": "code",
   "execution_count": 92,
   "id": "1a6732a6",
   "metadata": {},
   "outputs": [],
   "source": [
    "H_1.sort()\n",
    "H_0.sort()"
   ]
  },
  {
   "cell_type": "code",
   "execution_count": 94,
   "id": "b348e528",
   "metadata": {},
   "outputs": [
    {
     "data": {
      "text/plain": [
       "[1187.14,\n",
       " 1188.6200000000001,\n",
       " 1243.34,\n",
       " 1281.16,\n",
       " 1304.5,\n",
       " 1321.94,\n",
       " 1329.54,\n",
       " 1386.7,\n",
       " 1412.06,\n",
       " 1446.14]"
      ]
     },
     "execution_count": 94,
     "metadata": {},
     "output_type": "execute_result"
    }
   ],
   "source": [
    "H_0"
   ]
  },
  {
   "cell_type": "code",
   "execution_count": 70,
   "id": "de20fc20",
   "metadata": {},
   "outputs": [],
   "source": [
    "def Density_Variance(n):\n",
    "    a, b=0, 0\n",
    "    for i in range(n):\n",
    "        z = np.random.normal(0, 1, p)\n",
    "        x = z @ s + np.random.normal(0, 1, 1)\n",
    "        a += Covariate_Shift_Weight(x, z)**2\n",
    "        b += np.exp((z @ t - z @ s)**2)\n",
    "    return a/n, b/n"
   ]
  },
  {
   "cell_type": "code",
   "execution_count": 71,
   "id": "e1b38b1e",
   "metadata": {},
   "outputs": [
    {
     "data": {
      "text/plain": [
       "(array([1.14891235]), 1.161448981209541)"
      ]
     },
     "execution_count": 71,
     "metadata": {},
     "output_type": "execute_result"
    }
   ],
   "source": [
    "Density_Variance(100000)"
   ]
  },
  {
   "cell_type": "code",
   "execution_count": 19,
   "id": "7e17cf81",
   "metadata": {},
   "outputs": [],
   "source": [
    "a=[]\n",
    "for i in range(50):\n",
    "    b=PCRtest(Y_source, X_source, Z_source, L = 5, K = 20, covariate_shift = False)\n",
    "    a.append(b)"
   ]
  },
  {
   "cell_type": "code",
   "execution_count": 20,
   "id": "f652e7c0",
   "metadata": {},
   "outputs": [
    {
     "data": {
      "text/plain": [
       "[(array([107., 117.,  85., 100.,  91.]), 6.44),\n",
       " (array([108.,  97., 101., 108.,  86.]), 3.34),\n",
       " (array([103., 115.,  93.,  98.,  91.]), 3.68),\n",
       " (array([112.,  98.,  96., 103.,  91.]), 2.54),\n",
       " (array([107., 108.,  86., 116.,  83.]), 8.540000000000001),\n",
       " (array([105., 108., 100., 103.,  84.]), 3.54),\n",
       " (array([102., 119.,  91., 101.,  87.]), 6.16),\n",
       " (array([107., 106.,  97.,  99.,  91.]), 1.76),\n",
       " (array([102., 111.,  99., 102.,  86.]), 3.2600000000000002),\n",
       " (array([106., 107.,  97.,  99.,  91.]), 1.76),\n",
       " (array([109., 102.,  91., 115.,  83.]), 6.8),\n",
       " (array([109.,  97., 102., 107.,  85.]), 3.68),\n",
       " (array([107., 102.,  97., 118.,  76.]), 9.620000000000001),\n",
       " (array([106., 106.,  94.,  97.,  97.]), 1.26),\n",
       " (array([103., 111., 105., 100.,  81.]), 5.16),\n",
       " (array([105., 108.,  95., 103.,  89.]), 2.44),\n",
       " (array([108., 106., 106.,  95.,  85.]), 3.86),\n",
       " (array([109., 108.,  84., 113.,  86.]), 7.66),\n",
       " (array([103., 113.,  98.,  98.,  88.]), 3.3000000000000003),\n",
       " (array([102., 108.,  99., 104.,  87.]), 2.54),\n",
       " (array([105., 109.,  94., 104.,  88.]), 3.02),\n",
       " (array([106., 100., 100., 113.,  81.]), 5.66),\n",
       " (array([104., 115.,  89., 104.,  88.]), 5.22),\n",
       " (array([104., 114.,  95., 100.,  87.]), 4.0600000000000005),\n",
       " (array([110., 102., 103., 103.,  82.]), 4.46),\n",
       " (array([108., 104.,  93., 103.,  92.]), 2.02),\n",
       " (array([105., 110.,  93., 104.,  88.]), 3.34),\n",
       " (array([106., 112.,  92., 102.,  88.]), 3.92),\n",
       " (array([104., 112.,  93., 108.,  83.]), 5.62),\n",
       " (array([107., 100., 103., 104.,  86.]), 2.7),\n",
       " (array([105.,  99., 103., 101.,  92.]), 1.0),\n",
       " (array([102., 113.,  97., 100.,  88.]), 3.2600000000000002),\n",
       " (array([110., 101.,  97., 101.,  91.]), 1.92),\n",
       " (array([105., 105.,  97., 107.,  86.]), 3.04),\n",
       " (array([106., 111.,  90., 108.,  85.]), 5.46),\n",
       " (array([106., 109.,  99., 103.,  83.]), 4.16),\n",
       " (array([104., 114.,  96.,  97.,  89.]), 3.58),\n",
       " (array([103., 111.,  94.,  98.,  94.]), 2.06),\n",
       " (array([107., 106., 101., 107.,  79.]), 5.76),\n",
       " (array([103., 115.,  89., 106.,  87.]), 5.6000000000000005),\n",
       " (array([109., 104.,  98., 104.,  85.]), 3.42),\n",
       " (array([103., 116.,  90., 107.,  84.]), 6.7),\n",
       " (array([104., 107., 100., 105.,  84.]), 3.46),\n",
       " (array([110.,  99., 102., 106.,  83.]), 4.3),\n",
       " (array([106., 110.,  93.,  96.,  95.]), 2.2600000000000002),\n",
       " (array([111.,  99., 102.,  92.,  96.]), 2.06),\n",
       " (array([105., 102., 106., 100.,  87.]), 2.34),\n",
       " (array([103., 111.,  92., 111.,  83.]), 6.04),\n",
       " (array([112.,  98.,  96., 103.,  91.]), 2.54),\n",
       " (array([102., 107., 101., 110.,  80.]), 5.54)]"
      ]
     },
     "execution_count": 20,
     "metadata": {},
     "output_type": "execute_result"
    }
   ],
   "source": [
    "a.sort\n",
    "a"
   ]
  },
  {
   "cell_type": "code",
   "execution_count": null,
   "id": "3ccc2b4f",
   "metadata": {},
   "outputs": [],
   "source": []
  }
 ],
 "metadata": {
  "kernelspec": {
   "display_name": "Python 3 (ipykernel)",
   "language": "python",
   "name": "python3"
  },
  "language_info": {
   "codemirror_mode": {
    "name": "ipython",
    "version": 3
   },
   "file_extension": ".py",
   "mimetype": "text/x-python",
   "name": "python",
   "nbconvert_exporter": "python",
   "pygments_lexer": "ipython3",
   "version": "3.9.13"
  }
 },
 "nbformat": 4,
 "nbformat_minor": 5
}
