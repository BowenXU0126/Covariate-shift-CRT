{
 "cells": [
  {
   "cell_type": "code",
   "execution_count": 26,
   "id": "f276cf02",
   "metadata": {},
   "outputs": [],
   "source": [
    "import numpy as np\n",
    "import pandas as pd\n",
    "import matplotlib.pyplot as plt\n",
    "from scipy.stats import norm, chi2, truncnorm\n",
    "from tqdm import trange\n",
    "from sklearn import linear_model\n",
    "from sklearn.linear_model import LassoCV\n",
    "from sklearn.linear_model import Lasso\n",
    "\n",
    "import matplotlib.pyplot as plt"
   ]
  },
  {
   "cell_type": "markdown",
   "id": "34841abf",
   "metadata": {},
   "source": [
    "## 生成数据"
   ]
  },
  {
   "cell_type": "code",
   "execution_count": 14,
   "id": "b71bf1c8",
   "metadata": {},
   "outputs": [],
   "source": [
    "n, p=500, 20\n",
    "s = np.random.normal(0, 1, p)\n",
    "t = s + np.random.normal(0, 0.1, p)\n",
    "u = np.random.normal(0, 1, p)"
   ]
  },
  {
   "cell_type": "code",
   "execution_count": 15,
   "id": "8a429fec",
   "metadata": {},
   "outputs": [],
   "source": [
    "def generate(n, p, s, t, u, Alpha = 0):\n",
    "    Z_sample[i], Z_target[i] = np.zeros((n, p)), np.zeros((n, p))\n",
    "    for i in range(n):\n",
    "        Z_sample[i] = np.random.normal(0, 1, p)\n",
    "        Z_target[i] = np.random.normal(0.1, 1, p)\n",
    "        \n",
    "    X_sample = Z @ u + np.random.normal(0, 1, n)\n",
    "    X_target = Z @ u + np.random.normal(0, 1, n)\n",
    "    \n",
    "    V_sample = Z @ s + np.random.normal(0, 1, n) + X\n",
    "    V_target = Z @ t + np.random.normal(0, 1, n) - X\n",
    "    \n",
    "    Y = np.zeros(n)\n",
    "    for i in range(n):\n",
    "        Y_sample[i] = Z_sample[i] @ Z_sample[i] + Z_sample[i].sum() + X_sample[i] + V_sample + np.random.normal(0, 1, 1)\n",
    "        Y_target[i] = Z_target[i] @ Z_target[i] + Z_target[i].sum() + X_target[i] + V_target + np.random.normal(0, 1, 1)\n",
    "    return Y, X_sample, X_target, V_sample, V_target, Z"
   ]
  },
  {
   "cell_type": "code",
   "execution_count": 16,
   "id": "0083f3ed",
   "metadata": {},
   "outputs": [],
   "source": [
    "Y, X_sample, X_target, Z = generate(s, t, 0)"
   ]
  },
  {
   "cell_type": "code",
   "execution_count": 17,
   "id": "45050627",
   "metadata": {},
   "outputs": [],
   "source": [
    "a = np.c_[Z,X_sample]\n",
    "reg = LassoCV().fit(a,Y)\n",
    "\n",
    "def Covariate_Shift_Weight(x, z, v = 0):\n",
    "    return np.exp(((x - z @ s)**2 - (x - z @ t)**2)/2)\n",
    "\n",
    "def Model_X(z, v = 0):\n",
    "    return z @ t + np.random.normal(0, 1, 1)\n",
    "\n",
    "def T_statistic(y, x, z, v = 0):\n",
    "    b = np.append(Z[0],X_sample[0])\n",
    "    c = reg.predict(b.reshape(1,21))\n",
    "    return (y - 1.5*x - z @ z) ** 2"
   ]
  },
  {
   "cell_type": "code",
   "execution_count": 18,
   "id": "d156a854",
   "metadata": {},
   "outputs": [
    {
     "name": "stdout",
     "output_type": "stream",
     "text": [
      "1.6706944384034188\n",
      "1.7496329547856648\n",
      "0.9858853290795901\n",
      "1.0081388816838919\n",
      "1.092654554498052\n",
      "0.894500168911984\n",
      "0.5633644789535892\n",
      "0.7849766073724715\n",
      "0.6026440809542113\n",
      "0.8681296028230419\n"
     ]
    }
   ],
   "source": [
    "for i in range(10):\n",
    "    x=X_sample[i]\n",
    "    z=Z[i]\n",
    "    print(Covariate_Shift_Weight(x, z))"
   ]
  },
  {
   "cell_type": "code",
   "execution_count": 19,
   "id": "4ee27feb",
   "metadata": {},
   "outputs": [],
   "source": [
    "def Conterfeits(y, x, z, v = 0, L = 5, K = 10):\n",
    "    M = L * K - 1\n",
    "    cnt = 0\n",
    "    \n",
    "    for i in range(M):\n",
    "        x_ = Model_X(z, v)\n",
    "        if T_statistic(y, x, z, v) > T_statistic(y, x_, z, v):\n",
    "            cnt=cnt+1\n",
    "            \n",
    "    return cnt // K\n",
    "\n",
    "def PCRtest(Y, X, Z, V = 0, L = 5, K = 20, covariate_shift = True):\n",
    "    n = Y.size\n",
    "    W = np.array([0.0]*L)\n",
    "    \n",
    "    for j in range(n):\n",
    "        y, x, z, v = Y[j], X[j], Z[j], 0\n",
    "        if covariate_shift == True:\n",
    "            W[Conterfeits(y, x, z, v, L, K)] += Covariate_Shift_Weight(x, z, v)\n",
    "        if covariate_shift == False:\n",
    "            W[Conterfeits(y, x, z, v, L, K)] += 1\n",
    "            \n",
    "    return W, L/n * np.dot(W - n/L, W - n/L)"
   ]
  },
  {
   "cell_type": "code",
   "execution_count": 22,
   "id": "c8fd609a",
   "metadata": {},
   "outputs": [
    {
     "data": {
      "text/plain": [
       "(array([ 88.6912104 , 111.64327617, 114.99401231,  89.91094202,\n",
       "         89.4021802 ]),\n",
       " 7.023778827144947)"
      ]
     },
     "execution_count": 22,
     "metadata": {},
     "output_type": "execute_result"
    }
   ],
   "source": [
    "PCRtest(Y, X_sample, Z, L = 5, K = 20, covariate_shift = True)"
   ]
  },
  {
   "cell_type": "code",
   "execution_count": 23,
   "id": "93bf7bac",
   "metadata": {},
   "outputs": [
    {
     "data": {
      "text/plain": [
       "(array([ 99., 109., 105.,  87., 100.]), 2.7600000000000002)"
      ]
     },
     "execution_count": 23,
     "metadata": {},
     "output_type": "execute_result"
    }
   ],
   "source": [
    "PCRtest(Y, X_target, Z, L = 5, K = 20, covariate_shift = False)"
   ]
  },
  {
   "cell_type": "code",
   "execution_count": 35,
   "id": "4d9e0667",
   "metadata": {},
   "outputs": [],
   "source": [
    "def int_(x):\n",
    "    if x >= 80: return 79\n",
    "    return int(x)\n",
    "\n",
    "def Mutiple_Tests(n, s, t, Alpha):\n",
    "    X = []\n",
    "    for i in trange(n):\n",
    "        Y, X_sample, X_target, Z = generate(s, t, Alpha)\n",
    "        u, v = PCRtest(Y, X_sample, Z, L = 5, K = 20, covariate_shift = True)\n",
    "        X.append(v)\n",
    "    return X"
   ]
  },
  {
   "cell_type": "code",
   "execution_count": 37,
   "id": "d3a47289",
   "metadata": {},
   "outputs": [
    {
     "name": "stderr",
     "output_type": "stream",
     "text": [
      "100%|████████████████████████████████████████████████████████████████████████████████| 100/100 [11:26<00:00,  6.86s/it]\n",
      "100%|████████████████████████████████████████████████████████████████████████████████| 100/100 [11:27<00:00,  6.87s/it]\n"
     ]
    }
   ],
   "source": [
    "H_0 = Mutiple_Tests(100, s, t, 1)\n",
    "H_1 = Mutiple_Tests(100, s, t, 0)"
   ]
  },
  {
   "cell_type": "code",
   "execution_count": 43,
   "id": "1a6732a6",
   "metadata": {},
   "outputs": [],
   "source": [
    "H_1.sort()\n",
    "H_0.sort()"
   ]
  },
  {
   "cell_type": "code",
   "execution_count": 48,
   "id": "b348e528",
   "metadata": {},
   "outputs": [
    {
     "data": {
      "text/plain": [
       "[1.948400469401161,\n",
       " 2.4299937478718165,\n",
       " 3.6434562977166247,\n",
       " 4.192055619339859,\n",
       " 4.361423853852116,\n",
       " 4.814655410600205,\n",
       " 5.145560994303507,\n",
       " 5.222000395658265,\n",
       " 5.476832275572569,\n",
       " 5.505930989379524,\n",
       " 7.0620107426429675,\n",
       " 7.444367408318267,\n",
       " 8.27021471609173,\n",
       " 8.608313958006407,\n",
       " 8.756883913548155,\n",
       " 8.944933412748505,\n",
       " 9.097236905228986,\n",
       " 9.433770724795512,\n",
       " 9.617372847626033,\n",
       " 9.79271628775856,\n",
       " 9.859879983039056,\n",
       " 10.044168220093953,\n",
       " 10.202166567383404,\n",
       " 10.292358237785825,\n",
       " 10.32457997616735,\n",
       " 10.336217151392265,\n",
       " 10.989299130225348,\n",
       " 11.087379669699786,\n",
       " 11.768842089186142,\n",
       " 11.782698961150928,\n",
       " 11.847374900962862,\n",
       " 11.98667639833087,\n",
       " 12.115183048170502,\n",
       " 12.230560158327991,\n",
       " 12.305185474654946,\n",
       " 12.36829839684255,\n",
       " 12.373638675943058,\n",
       " 12.386005507473712,\n",
       " 12.69996047013001,\n",
       " 12.763876774775976,\n",
       " 12.8307545885898,\n",
       " 13.227255981724301,\n",
       " 13.26694112800803,\n",
       " 13.384423006898544,\n",
       " 13.479112326937997,\n",
       " 13.73255689907025,\n",
       " 13.992335774503681,\n",
       " 14.002229716368825,\n",
       " 14.804101972605004,\n",
       " 15.250562488527416,\n",
       " 15.791807513555577,\n",
       " 15.792093342400209,\n",
       " 15.809186195054139,\n",
       " 15.86279143399092,\n",
       " 15.985250587594622,\n",
       " 16.230380891370146,\n",
       " 16.86339983893756,\n",
       " 16.874090274657796,\n",
       " 17.139661378385853,\n",
       " 17.158928250294508,\n",
       " 17.39508848625783,\n",
       " 17.46741481770317,\n",
       " 17.924712271675066,\n",
       " 17.936477903210072,\n",
       " 18.13185047319263,\n",
       " 18.18445139694392,\n",
       " 18.228250559533457,\n",
       " 18.473136713365513,\n",
       " 18.48126421676308,\n",
       " 18.62028713272199,\n",
       " 18.668348879899582,\n",
       " 18.9730539841943,\n",
       " 19.13624287067537,\n",
       " 19.174784879380454,\n",
       " 19.280581945805817,\n",
       " 19.454927698384953,\n",
       " 19.491712529280377,\n",
       " 19.699412881103594,\n",
       " 19.83022876124792,\n",
       " 19.907262962176112,\n",
       " 20.569017466623727,\n",
       " 20.9136072705952,\n",
       " 20.963543846594252,\n",
       " 21.80349574514983,\n",
       " 22.074782915644224,\n",
       " 22.314686071766765,\n",
       " 22.849209742697546,\n",
       " 23.783285579417274,\n",
       " 24.514236113339933,\n",
       " 25.32600980192593,\n",
       " 25.896218167149343,\n",
       " 26.474230990893677,\n",
       " 26.758893026101347,\n",
       " 27.045838156755355,\n",
       " 29.29891838302887,\n",
       " 31.659327723524513,\n",
       " 34.376179619411836,\n",
       " 39.27094926639763,\n",
       " 40.07710543274192,\n",
       " 40.46114444143142]"
      ]
     },
     "execution_count": 48,
     "metadata": {},
     "output_type": "execute_result"
    }
   ],
   "source": [
    "H_0"
   ]
  },
  {
   "cell_type": "code",
   "execution_count": 70,
   "id": "de20fc20",
   "metadata": {},
   "outputs": [],
   "source": [
    "def Density_Variance(n):\n",
    "    a, b=0, 0\n",
    "    for i in range(n):\n",
    "        z = np.random.normal(0, 1, p)\n",
    "        x = z @ s + np.random.normal(0, 1, 1)\n",
    "        a += Covariate_Shift_Weight(x, z)**2\n",
    "        b += np.exp((z @ t - z @ s)**2)\n",
    "    return a/n, b/n"
   ]
  },
  {
   "cell_type": "code",
   "execution_count": 71,
   "id": "e1b38b1e",
   "metadata": {},
   "outputs": [
    {
     "data": {
      "text/plain": [
       "(array([1.14891235]), 1.161448981209541)"
      ]
     },
     "execution_count": 71,
     "metadata": {},
     "output_type": "execute_result"
    }
   ],
   "source": [
    "Density_Variance(100000)"
   ]
  },
  {
   "cell_type": "code",
   "execution_count": null,
   "id": "7e17cf81",
   "metadata": {},
   "outputs": [],
   "source": []
  }
 ],
 "metadata": {
  "kernelspec": {
   "display_name": "Python 3 (ipykernel)",
   "language": "python",
   "name": "python3"
  },
  "language_info": {
   "codemirror_mode": {
    "name": "ipython",
    "version": 3
   },
   "file_extension": ".py",
   "mimetype": "text/x-python",
   "name": "python",
   "nbconvert_exporter": "python",
   "pygments_lexer": "ipython3",
   "version": "3.9.13"
  }
 },
 "nbformat": 4,
 "nbformat_minor": 5
}
