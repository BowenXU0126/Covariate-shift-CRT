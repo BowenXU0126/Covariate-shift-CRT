{
 "cells": [
  {
   "cell_type": "code",
   "execution_count": 1468,
   "id": "f276cf02",
   "metadata": {},
   "outputs": [],
   "source": [
    "import numpy as np\n",
    "import pandas as pd\n",
    "import matplotlib.pyplot as plt\n",
    "from scipy.stats import norm, chi2, truncnorm, multivariate_normal\n",
    "from tqdm import trange\n",
    "from sklearn import linear_model\n",
    "from sklearn.linear_model import LassoCV\n",
    "from sklearn.linear_model import Lasso\n",
    "from sklearn.linear_model import LinearRegression\n",
    "from sklearn.linear_model import LogisticRegressionCV\n",
    "from sklearn.model_selection import train_test_split\n",
    "\n",
    "from densratio import densratio\n",
    "from numpy import linalg as la\n",
    "import matplotlib.pyplot as plt\n",
    "from densratio import densratio"
   ]
  },
  {
   "cell_type": "markdown",
   "id": "2477d71f-6e89-4daf-ba46-c70817843f11",
   "metadata": {},
   "source": [
    "# Functions"
   ]
  },
  {
   "cell_type": "code",
   "execution_count": 1582,
   "id": "350cf0d2-13aa-4f9c-b4b9-389460865eaf",
   "metadata": {},
   "outputs": [],
   "source": [
    "import numpy as np\n",
    "from sklearn.linear_model import LogisticRegression\n",
    "from sklearn.neural_network import MLPClassifier\n",
    "from sklearn.ensemble import RandomForestClassifier\n",
    "from sklearn.svm import SVC\n",
    "from sklearn.model_selection import cross_val_predict\n",
    "from sklearn.linear_model import Lasso\n",
    "\n",
    "def density_ratio_estimate_normal(D_nu, D_de):\n",
    "    mean_nu = np.mean(D_nu, axis = 0)\n",
    "    mean_de = np.mean(D_de, axis = 0)\n",
    "    \n",
    "    cov_nu = np.cov(D_nu, rowvar=False)\n",
    "    cov_de = np.cov(D_de, rowvar = False)\n",
    "    \n",
    "\n",
    "def density_ratio_estimate_prob_RF(D_nu, D_de, n_estimators=100):\n",
    "    l_nu = np.ones(len(D_nu))\n",
    "    l_de = np.zeros(len(D_de))\n",
    "    \n",
    "    l = np.concatenate((l_nu, l_de))\n",
    "    D = np.concatenate((D_nu, D_de))\n",
    "    \n",
    "    # Fit Random Forest model\n",
    "    model = RandomForestClassifier()\n",
    "    model.fit(D, l)\n",
    "    \n",
    "    # Get density ratios for all samples\n",
    "    density_ratios = (model.predict_proba(D_de)[:, 1] / model.predict_proba(D_de)[:, 0]) * (len(D_de) / len(D_nu))\n",
    "    \n",
    "    return density_ratios\n",
    "\n",
    "\n",
    "def density_ratio_estimate_prob_NN(D_nu, D_de, hidden_layer_sizes=(100,), cv=2):\n",
    "    l_nu = np.ones(len(D_nu))\n",
    "    l_de = np.zeros(len(D_de))\n",
    "    \n",
    "    l = np.concatenate((l_nu, l_de))\n",
    "    D = np.concatenate((D_nu, D_de))\n",
    "    \n",
    "    # Fit neural network model with cross-validation\n",
    "    model = MLPClassifier(activation= 'tanh',hidden_layer_sizes = hidden_layer_sizes)\n",
    "    model.fit(D,l)\n",
    "    \n",
    "    # Get density ratios for all samples\n",
    "    density_ratios = (model.predict_proba(D_de)[:, 1] / model.predict_proba(D_de)[:, 0]) * (len(D_de) / len(D_nu))\n",
    "    \n",
    "    return density_ratios\n",
    "\n",
    "def density_ratio_estimate_prob_LR(D_nu, D_de):\n",
    "    l_nu = np.ones(len(D_nu))\n",
    "    l_de = np.zeros(len(D_de))\n",
    "    \n",
    "    l = np.concatenate((l_nu, l_de))\n",
    "    D = np.concatenate((D_nu, D_de))\n",
    "    \n",
    "    #fit losgistic model\n",
    "    C = 0.1\n",
    "    model = LogisticRegressionCV(penalty= 'l1', solver = 'liblinear')\n",
    "    model.fit(D, l)\n",
    "    \n",
    "    # get density ratios for all samples\n",
    "    density_ratios = (model.predict_proba(D_de)[:, 1] / model.predict_proba(D_de)[:, 0])*(len(D_de)/len(D_nu))\n",
    "    \n",
    "    return density_ratios\n",
    "    \n",
    "\n",
    "    \n",
    "\n",
    "\n",
    "# def Covariate_Shift_Weight(x, z, v = 0):\n",
    "#     return np.exp(((x - z @ s)**2 - (x - z @ t)**2)/2)\n",
    "\n",
    "def Model_X(z, v, u):\n",
    "    return z[:5] @ u + np.random.normal(0, 1, 1)\n",
    "\n",
    "## group samples together\n",
    "\n",
    "def T_statistic(y, x, z, v, u,s, t,regr):\n",
    "#     d_y = regr.predict(z.reshape(1, z.shape[0]))\n",
    "#     # d_y = (1+s)@z\n",
    "#     d_x = z[:5]@u\n",
    "    \n",
    "#     return np.abs(((y-d_y)*(x-d_x)))\n",
    "    return (y - z.sum()- x)**2\n",
    "    # return coef[0]\n",
    "\n",
    "def Conterfeits(y, x, z, v, u,s, t, L, K, regr):\n",
    "    M = L * K - 1\n",
    "    cnt = 0\n",
    "    t_stat = T_statistic(y, x, z, v, u,s, t,regr)\n",
    "\n",
    "    for i in range(M):\n",
    "        x_ = Model_X(z, v, u)\n",
    "        if t_stat > T_statistic(y, x_, z, v, u,s, t, regr):\n",
    "            cnt=cnt+1\n",
    "            \n",
    "    return cnt // K\n",
    "\n",
    "def PCRtest(Y, X, Z, V, u, s, t, L, K, covariate_shift, density_ratio, regr):\n",
    "    n = Y.size\n",
    "    W = np.array([0.0]*L)\n",
    "\n",
    "    for j in range(n):\n",
    "        y, x, z, v = Y[j], X[j], Z[j], V[j]\n",
    "        if covariate_shift == True:\n",
    "            ind = Conterfeits(y, x, z, v, u,s, t, L, K, regr)\n",
    "            W[ind] += density_ratio[j]\n",
    "            # W[ind] += true_density_ratio(x, z, v, s, t, p, q)\n",
    "        if covariate_shift == False:\n",
    "            W[Conterfeits(y, x, z, v, u,s, t, L, K, regr)] += 1\n",
    "    return W, L/n * np.dot(W - n/L, W - n/L)\n",
    "\n",
    "def generate_cov_matrix(Y, X, Z, V,u, s, t, L, K, density_ratio, regr):\n",
    "    \"\"\"\n",
    "    Generate a covariance matrix for quadratic form normal rv.\n",
    "\n",
    "    Parameters:\n",
    "    - L (int): The size of the covariance matrix.\n",
    "\n",
    "    Returns:\n",
    "    - covariance_matrix (ndarray): The generated covariance matrix.\n",
    "    \"\"\"\n",
    "    n = Y.size\n",
    "    diag = np.array([0.0]*L)\n",
    "    \n",
    "    for j in range(n):\n",
    "        y, x, z, v = Y[j], X[j], Z[j], V[j]\n",
    "        diag[Conterfeits(y, x, z, v, u,s,t,L, K, regr)] += (density_ratio[j]**2)\n",
    "        # diag[Conterfeits(y, x, z, v,u,s,t, L, K, regr)] += (true_density_ratio(x,z,v,s,t,p,q)**2)\n",
    "    diag = L*(diag/n)- 1/L\n",
    "    covariance_matrix = np.full((L, L), -1/L)  # Fill all entries with 1/L\n",
    "    np.fill_diagonal(covariance_matrix, diag)  # Set diagonal entries to 1 - 1/L^2\n",
    "    return covariance_matrix\n",
    "    "
   ]
  },
  {
   "cell_type": "code",
   "execution_count": 1583,
   "id": "93657a58-79da-400b-8064-fc5ba7d5885a",
   "metadata": {},
   "outputs": [],
   "source": [
    "#get p values\n",
    "\n",
    "import scipy.stats as stats\n",
    "\n",
    "def chi_squared_p_value(chi_squared_statistic, df):\n",
    "    \"\"\"\n",
    "    Calculate the p-value from a chi-squared distribution.\n",
    "\n",
    "    Parameters:\n",
    "    - chi_squared_statistic (float): The observed chi-squared test statistic.\n",
    "    - df (int): The degrees of freedom.\n",
    "\n",
    "    Returns:\n",
    "    - p_value (float): The calculated p-value.\n",
    "    \"\"\"\n",
    "    p_value = 1 - stats.chi2.cdf(chi_squared_statistic, df)\n",
    "    return p_value\n",
    "\n",
    "def monte_carlo_p_value(n_samples, covariance_matrix, L, quantile):\n",
    "    \"\"\"\n",
    "    Calculate the probability corresponding to a given quantile using the Monte Carlo method.\n",
    "\n",
    "    Parameters:\n",
    "    - n_samples (int): The number of Monte Carlo samples to generate.\n",
    "    - covariance_matrix (ndarray): The covariance matrix of the random vector X.\n",
    "    - L (int): The number of components to sum.\n",
    "    - quantile (float): The quantile value.\n",
    "\n",
    "    Returns:\n",
    "    - probability (float): The estimated probability corresponding to the quantile.\n",
    "    \"\"\"\n",
    "    count = 0\n",
    "    for _ in range(n_samples):\n",
    "        sample = np.random.multivariate_normal(np.zeros(L), covariance_matrix)\n",
    "        squared_sum = np.sum(sample**2)\n",
    "        if squared_sum <= quantile:\n",
    "            count += 1\n",
    "\n",
    "    probability = count / n_samples\n",
    "    return 1-probability\n"
   ]
  },
  {
   "cell_type": "markdown",
   "id": "34841abf",
   "metadata": {},
   "source": [
    "# 生成数据"
   ]
  },
  {
   "cell_type": "code",
   "execution_count": 1584,
   "id": "8a429fec",
   "metadata": {},
   "outputs": [],
   "source": [
    "# Generate Data\n",
    "\n",
    "\n",
    "import numpy as np\n",
    "\n",
    "def generate(ns, nt, p,q, s, t, u, Alpha=0):\n",
    "    Zs_null = np.random.normal(0,0.1, (ns, q))\n",
    "    Zt_null = np.random.normal(0,0.1, (nt, q))\n",
    "    \n",
    "    Z_source = np.hstack((np.random.normal(0, 1, (ns, p)) , Zs_null))\n",
    "    Z_target = np.hstack((np.random.normal(0.2, 1, (nt, p)) , Zt_null))\n",
    "    \n",
    "    X_source = Z_source[:, :p] @ u + np.random.normal(0, 1, ns)\n",
    "    X_target = Z_target[:, :p] @ u + np.random.normal(0, 1, nt)\n",
    "\n",
    "    V_source = Z_source[:, :p] @ s + 2*X_source + np.random.normal(0, 5, ns)\n",
    "    V_target = Z_target[:, :p] @ t - 2*X_target + np.random.normal(0, 5, nt)\n",
    "    \n",
    "    Y_source = (Z_source[:, :p].sum(axis=1))**2 + 2*X_source + V_source + np.random.normal(0, 1, ns) + Alpha * X_source\n",
    "    Y_target = (Z_target[:, :p].sum(axis=1))**2 + 2*X_target + V_target + np.random.normal(0, 1, nt) + Alpha * X_target\n",
    "    \n",
    "    \n",
    "    return Y_source.reshape(-1, 1), X_source.reshape(-1, 1), V_source.reshape(-1, 1), Z_source,\\\n",
    "           Y_target.reshape(-1, 1), X_target.reshape(-1, 1), V_target.reshape(-1, 1), Z_target\n",
    "\n",
    "\n",
    "def true_density_ratio(X, Z, V, s, t,p,q):\n",
    "    zs_prob = multivariate_normal.pdf(Z[:p], mean = 0*np.ones(p), cov= np.identity(p))\n",
    "    vs_prob = norm.pdf(V, loc=Z[:p]@s + 2*X, scale =5)\n",
    "    zt_prob = multivariate_normal.pdf(Z[:p], mean = 0.2*np.ones(p), cov= np.identity(p))\n",
    "    vt_prob = norm.pdf(V, loc=Z[:p]@t - 2*X, scale =5)\n",
    "    # print(zs_prob)\n",
    "    # print(vs_prob)\n",
    "    # print(zt_prob)\n",
    "    # print(vt_prob)\n",
    "    return (zt_prob*vt_prob)/(zs_prob*vs_prob)\n",
    "    # return np.exp(0.5*Z.sum() - 0.25*(1/2) - (1/200)*(V- t@Z +X)**2 + (1/200)*(V - s@Z - X)**2)"
   ]
  },
  {
   "cell_type": "markdown",
   "id": "62f86349-f52a-4f8e-831b-d47cd22b3a98",
   "metadata": {},
   "source": [
    "# Test procedure"
   ]
  },
  {
   "cell_type": "code",
   "execution_count": 1585,
   "id": "b0fdf7e8-fcae-499a-8149-c328d32c395f",
   "metadata": {},
   "outputs": [],
   "source": [
    "# \n",
    "ns,nt, p,q = 2000,5000, 5, 50\n",
    "s = np.random.normal(1, 1, p)\n",
    "t = np.random.normal(1, 1, p)\n",
    "u = np.random.normal(1, 1, p)\n",
    "s = t + 4*u"
   ]
  },
  {
   "cell_type": "code",
   "execution_count": 1576,
   "id": "4c288a9c-deba-4953-8c5b-1a97f4a70d34",
   "metadata": {
    "tags": []
   },
   "outputs": [],
   "source": [
    "#generate data\n",
    "Y_source, X_source, V_source, Z_source, Y_target, X_target, V_target, Z_target = generate(ns,nt, p,q, s, t, u, 0)\n",
    "\n",
    "# calculate density ratio\n",
    "D_s = np.concatenate((X_source, Z_source[:,:p], V_source), axis = 1)\n",
    "D_t = np.concatenate((X_target, Z_target[:,:p], V_target), axis = 1)\n",
    "\n",
    "# densratio_obj = densratio(D_t, D_s)\n",
    "\n",
    "# #calculate density ratio for each sample\n",
    "# sample_density_ratio1 = densratio_obj.compute_density_ratio(D_s)\n",
    "\n",
    "sample_density_ratio2 = density_ratio_estimate_prob_LR(D_t, D_s)\n"
   ]
  },
  {
   "cell_type": "code",
   "execution_count": 1565,
   "id": "20742e06-7dc6-479b-811d-8bb0d8a05fdd",
   "metadata": {
    "tags": []
   },
   "outputs": [
    {
     "data": {
      "text/plain": [
       "(array([177., 233., 203., 192., 195.]), 8.58)"
      ]
     },
     "execution_count": 1565,
     "metadata": {},
     "output_type": "execute_result"
    }
   ],
   "source": [
    "# reg = LassoCV().fit(Z_source,Y_source.ravel())\n",
    "# print(reg.coef_)\n",
    "PCRtest(Y_source, X_source, Z_source,V_source,u,s,t, L = 5, K = 20, covariate_shift = False, density_ratio = sample_density_ratio2, regr = reg)"
   ]
  },
  {
   "cell_type": "code",
   "execution_count": 1566,
   "id": "758a62ef-7797-42ed-94f4-d82e1dbbcb21",
   "metadata": {
    "tags": []
   },
   "outputs": [
    {
     "data": {
      "text/plain": [
       "(array([1300., 1121., 1003.,  898.,  678.]), 218.738)"
      ]
     },
     "execution_count": 1566,
     "metadata": {},
     "output_type": "execute_result"
    }
   ],
   "source": [
    "# reg = LassoCV().fit(Z_target,Y_target.ravel())\n",
    "PCRtest(Y_target, X_target, Z_target,V_target,u,s,t, L = 5, K = 20, covariate_shift = False, density_ratio = sample_density_ratio2, regr = reg)"
   ]
  },
  {
   "cell_type": "code",
   "execution_count": 1577,
   "id": "0c95c825-6eb3-47ea-8a4d-008ee3873701",
   "metadata": {
    "tags": []
   },
   "outputs": [
    {
     "name": "stdout",
     "output_type": "stream",
     "text": [
      "[1.03794974]\n",
      "[33.17555731]\n",
      "[0.00622633]\n"
     ]
    }
   ],
   "source": [
    "sum = 0\n",
    "max = 0\n",
    "min = np.inf\n",
    "true_list = []\n",
    "for i in range(1000):\n",
    "    value = true_density_ratio(X_source[i], Z_source[i], V_source[i], s, t, p,q)\n",
    "    true_list.append(value)\n",
    "    if value <= min:\n",
    "        min = value\n",
    "    elif value >= max:\n",
    "        max = value\n",
    "    sum += value\n",
    "    # print(true_density_ratio(X_source[i], Z_source[i], V_source[i], s, t))\n",
    "    # print(Z_source[i]@s + X_source[i] - Z_source[i]@t + X_source[i])\n",
    "print(sum/1000)\n",
    "print(max)\n",
    "print(min)"
   ]
  },
  {
   "cell_type": "code",
   "execution_count": 1578,
   "id": "986d6200-ccdf-4e3d-82bd-cd974d748e81",
   "metadata": {
    "tags": []
   },
   "outputs": [
    {
     "name": "stdout",
     "output_type": "stream",
     "text": [
      "4.874328176153348\n",
      "0.19673784407867337\n",
      "1.0049442639910147\n"
     ]
    }
   ],
   "source": [
    "print(np.max(sample_density_ratio2))\n",
    "print(np.min(sample_density_ratio2))\n",
    "mean = np.mean(sample_density_ratio2)\n",
    "print(mean)\n",
    "# sample_density_ratio2 = sample_density_ratio2/mean"
   ]
  },
  {
   "cell_type": "code",
   "execution_count": 1581,
   "id": "b1aa708e-edbf-4482-b3f8-9ff4a2532c21",
   "metadata": {
    "tags": []
   },
   "outputs": [
    {
     "data": {
      "image/png": "[encoded data removed]",
      "text/plain": [
       "<Figure size 640x480 with 1 Axes>"
      ]
     },
     "metadata": {},
     "output_type": "display_data"
    },
    {
     "name": "stdout",
     "output_type": "stream",
     "text": [
      "0.5494477212250196\n"
     ]
    }
   ],
   "source": [
    "import matplotlib.pyplot as plt\n",
    "\n",
    "\n",
    "# Generate x-axis values\n",
    "x = range(100)\n",
    "\n",
    "# Create the plot with two lines\n",
    "plt.plot(x, true_list[:100], label='true')\n",
    "plt.plot(x, sample_density_ratio1[:100], label='estimate')\n",
    "\n",
    "# Add labels, title, and legend\n",
    "plt.xlabel('X')\n",
    "plt.ylabel('Y')\n",
    "plt.title('Plot true and estimate dr')\n",
    "plt.legend()\n",
    "\n",
    "# Show the plot\n",
    "plt.show()\n",
    "\n",
    "print(la.norm(true_list - sample_density_ratio2)/10000)"
   ]
  },
  {
   "cell_type": "markdown",
   "id": "525b5686-6068-489f-bf1e-19c97800bd98",
   "metadata": {},
   "source": [
    "## Test"
   ]
  },
  {
   "cell_type": "code",
   "execution_count": 1586,
   "id": "c8fd609a",
   "metadata": {
    "tags": []
   },
   "outputs": [
    {
     "name": "stderr",
     "output_type": "stream",
     "text": [
      "  0%|          | 0/200 [00:00<?, ?it/s]"
     ]
    },
    {
     "name": "stdout",
     "output_type": "stream",
     "text": [
      "[array([429.7209578 , 405.29675443, 377.59870865, 439.73031065,\n",
      "       346.32867922]), 14.680792631141912]\n"
     ]
    },
    {
     "name": "stderr",
     "output_type": "stream",
     "text": [
      "  0%|          | 1/200 [00:10<33:48, 10.20s/it]"
     ]
    },
    {
     "name": "stdout",
     "output_type": "stream",
     "text": [
      "0.020549999999999957\n",
      "[array([420.78181956, 417.60107621, 402.41321849, 354.02846049,\n",
      "       379.11774768]), 8.242391097599064]\n"
     ]
    },
    {
     "name": "stderr",
     "output_type": "stream",
     "text": [
      "  1%|          | 2/200 [00:20<33:13, 10.07s/it]"
     ]
    },
    {
     "name": "stdout",
     "output_type": "stream",
     "text": [
      "0.13354\n",
      "[array([368.87713435, 399.2767385 , 436.01802534, 402.26255422,\n",
      "       389.92995051]), 5.932447678074829]\n"
     ]
    },
    {
     "name": "stderr",
     "output_type": "stream",
     "text": [
      "  2%|▏         | 3/200 [00:30<33:16, 10.13s/it]"
     ]
    },
    {
     "name": "stdout",
     "output_type": "stream",
     "text": [
      "0.30552\n"
     ]
    },
    {
     "name": "stderr",
     "output_type": "stream",
     "text": [
      "  2%|▏         | 3/200 [00:35<38:58, 11.87s/it]\n"
     ]
    },
    {
     "ename": "KeyboardInterrupt",
     "evalue": "",
     "output_type": "error",
     "traceback": [
      "\u001b[0;31m---------------------------------------------------------------------------\u001b[0m",
      "\u001b[0;31mKeyboardInterrupt\u001b[0m                         Traceback (most recent call last)",
      "Cell \u001b[0;32mIn[1586], line 23\u001b[0m\n\u001b[1;32m     20\u001b[0m reg \u001b[38;5;241m=\u001b[39m LassoCV()\u001b[38;5;241m.\u001b[39mfit(Z_source,Y_source\u001b[38;5;241m.\u001b[39mravel())\n\u001b[1;32m     22\u001b[0m cov1 \u001b[38;5;241m=\u001b[39m generate_cov_matrix(Y_source, X_source, Z_source,V_source,u,s,t, L \u001b[38;5;241m=\u001b[39m l, K \u001b[38;5;241m=\u001b[39m \u001b[38;5;241m40\u001b[39m, density_ratio \u001b[38;5;241m=\u001b[39m sample_density_ratio2, regr \u001b[38;5;241m=\u001b[39m reg)\n\u001b[0;32m---> 23\u001b[0m w, statistic \u001b[38;5;241m=\u001b[39m \u001b[43mPCRtest\u001b[49m\u001b[43m(\u001b[49m\u001b[43mY_source\u001b[49m\u001b[43m,\u001b[49m\u001b[43m \u001b[49m\u001b[43mX_source\u001b[49m\u001b[43m,\u001b[49m\u001b[43m \u001b[49m\u001b[43mZ_source\u001b[49m\u001b[43m,\u001b[49m\u001b[43mV_source\u001b[49m\u001b[43m,\u001b[49m\u001b[43mu\u001b[49m\u001b[43m,\u001b[49m\u001b[43ms\u001b[49m\u001b[43m,\u001b[49m\u001b[43mt\u001b[49m\u001b[43m,\u001b[49m\u001b[43m \u001b[49m\u001b[43mL\u001b[49m\u001b[43m \u001b[49m\u001b[38;5;241;43m=\u001b[39;49m\u001b[43m \u001b[49m\u001b[43ml\u001b[49m\u001b[43m,\u001b[49m\u001b[43m \u001b[49m\u001b[43mK\u001b[49m\u001b[43m \u001b[49m\u001b[38;5;241;43m=\u001b[39;49m\u001b[43m \u001b[49m\u001b[38;5;241;43m40\u001b[39;49m\u001b[43m,\u001b[49m\u001b[43m \u001b[49m\u001b[43mcovariate_shift\u001b[49m\u001b[43m \u001b[49m\u001b[38;5;241;43m=\u001b[39;49m\u001b[43m \u001b[49m\u001b[38;5;28;43;01mTrue\u001b[39;49;00m\u001b[43m,\u001b[49m\u001b[43m \u001b[49m\u001b[43mdensity_ratio\u001b[49m\u001b[43m \u001b[49m\u001b[38;5;241;43m=\u001b[39;49m\u001b[43m \u001b[49m\u001b[43msample_density_ratio2\u001b[49m\u001b[43m,\u001b[49m\u001b[43m \u001b[49m\u001b[43mregr\u001b[49m\u001b[43m \u001b[49m\u001b[38;5;241;43m=\u001b[39;49m\u001b[43m \u001b[49m\u001b[43mreg\u001b[49m\u001b[43m)\u001b[49m\n\u001b[1;32m     24\u001b[0m \u001b[38;5;28mprint\u001b[39m([w,statistic])\n\u001b[1;32m     25\u001b[0m p_value \u001b[38;5;241m=\u001b[39m monte_carlo_p_value(\u001b[38;5;241m100000\u001b[39m, cov1, l, statistic)\n",
      "Cell \u001b[0;32mIn[1582], line 107\u001b[0m, in \u001b[0;36mPCRtest\u001b[0;34m(Y, X, Z, V, u, s, t, L, K, covariate_shift, density_ratio, regr)\u001b[0m\n\u001b[1;32m    105\u001b[0m y, x, z, v \u001b[38;5;241m=\u001b[39m Y[j], X[j], Z[j], V[j]\n\u001b[1;32m    106\u001b[0m \u001b[38;5;28;01mif\u001b[39;00m covariate_shift \u001b[38;5;241m==\u001b[39m \u001b[38;5;28;01mTrue\u001b[39;00m:\n\u001b[0;32m--> 107\u001b[0m     ind \u001b[38;5;241m=\u001b[39m \u001b[43mConterfeits\u001b[49m\u001b[43m(\u001b[49m\u001b[43my\u001b[49m\u001b[43m,\u001b[49m\u001b[43m \u001b[49m\u001b[43mx\u001b[49m\u001b[43m,\u001b[49m\u001b[43m \u001b[49m\u001b[43mz\u001b[49m\u001b[43m,\u001b[49m\u001b[43m \u001b[49m\u001b[43mv\u001b[49m\u001b[43m,\u001b[49m\u001b[43m \u001b[49m\u001b[43mu\u001b[49m\u001b[43m,\u001b[49m\u001b[43ms\u001b[49m\u001b[43m,\u001b[49m\u001b[43m \u001b[49m\u001b[43mt\u001b[49m\u001b[43m,\u001b[49m\u001b[43m \u001b[49m\u001b[43mL\u001b[49m\u001b[43m,\u001b[49m\u001b[43m \u001b[49m\u001b[43mK\u001b[49m\u001b[43m,\u001b[49m\u001b[43m \u001b[49m\u001b[43mregr\u001b[49m\u001b[43m)\u001b[49m\n\u001b[1;32m    108\u001b[0m     W[ind] \u001b[38;5;241m+\u001b[39m\u001b[38;5;241m=\u001b[39m density_ratio[j]\n\u001b[1;32m    109\u001b[0m     \u001b[38;5;66;03m# W[ind] += true_density_ratio(x, z, v, s, t, p, q)\u001b[39;00m\n",
      "Cell \u001b[0;32mIn[1582], line 95\u001b[0m, in \u001b[0;36mConterfeits\u001b[0;34m(y, x, z, v, u, s, t, L, K, regr)\u001b[0m\n\u001b[1;32m     93\u001b[0m \u001b[38;5;28;01mfor\u001b[39;00m i \u001b[38;5;129;01min\u001b[39;00m \u001b[38;5;28mrange\u001b[39m(M):\n\u001b[1;32m     94\u001b[0m     x_ \u001b[38;5;241m=\u001b[39m Model_X(z, v, u)\n\u001b[0;32m---> 95\u001b[0m     \u001b[38;5;28;01mif\u001b[39;00m t_stat \u001b[38;5;241m>\u001b[39m \u001b[43mT_statistic\u001b[49m\u001b[43m(\u001b[49m\u001b[43my\u001b[49m\u001b[43m,\u001b[49m\u001b[43m \u001b[49m\u001b[43mx_\u001b[49m\u001b[43m,\u001b[49m\u001b[43m \u001b[49m\u001b[43mz\u001b[49m\u001b[43m,\u001b[49m\u001b[43m \u001b[49m\u001b[43mv\u001b[49m\u001b[43m,\u001b[49m\u001b[43m \u001b[49m\u001b[43mu\u001b[49m\u001b[43m,\u001b[49m\u001b[43ms\u001b[49m\u001b[43m,\u001b[49m\u001b[43m \u001b[49m\u001b[43mt\u001b[49m\u001b[43m,\u001b[49m\u001b[43m \u001b[49m\u001b[43mregr\u001b[49m\u001b[43m)\u001b[49m:\n\u001b[1;32m     96\u001b[0m         cnt\u001b[38;5;241m=\u001b[39mcnt\u001b[38;5;241m+\u001b[39m\u001b[38;5;241m1\u001b[39m\n\u001b[1;32m     98\u001b[0m \u001b[38;5;28;01mreturn\u001b[39;00m cnt \u001b[38;5;241m/\u001b[39m\u001b[38;5;241m/\u001b[39m K\n",
      "Cell \u001b[0;32mIn[1582], line 85\u001b[0m, in \u001b[0;36mT_statistic\u001b[0;34m(y, x, z, v, u, s, t, regr)\u001b[0m\n\u001b[1;32m     79\u001b[0m \u001b[38;5;28;01mdef\u001b[39;00m \u001b[38;5;21mT_statistic\u001b[39m(y, x, z, v, u,s, t,regr):\n\u001b[1;32m     80\u001b[0m \u001b[38;5;66;03m#     d_y = regr.predict(z.reshape(1, z.shape[0]))\u001b[39;00m\n\u001b[1;32m     81\u001b[0m \u001b[38;5;66;03m#     # d_y = (1+s)@z\u001b[39;00m\n\u001b[1;32m     82\u001b[0m \u001b[38;5;66;03m#     d_x = z[:5]@u\u001b[39;00m\n\u001b[1;32m     83\u001b[0m     \n\u001b[1;32m     84\u001b[0m \u001b[38;5;66;03m#     return np.abs(((y-d_y)*(x-d_x)))\u001b[39;00m\n\u001b[0;32m---> 85\u001b[0m     \u001b[38;5;28;01mreturn\u001b[39;00m (\u001b[43my\u001b[49m\u001b[43m \u001b[49m\u001b[38;5;241;43m-\u001b[39;49m\u001b[43m \u001b[49m\u001b[43mz\u001b[49m\u001b[38;5;241;43m.\u001b[39;49m\u001b[43msum\u001b[49m\u001b[43m(\u001b[49m\u001b[43m)\u001b[49m\u001b[38;5;241;43m-\u001b[39;49m\u001b[43m \u001b[49m\u001b[43mx\u001b[49m)\u001b[38;5;241m*\u001b[39m\u001b[38;5;241m*\u001b[39m\u001b[38;5;241m2\u001b[39m\n",
      "\u001b[0;31mKeyboardInterrupt\u001b[0m: "
     ]
    }
   ],
   "source": [
    "# verificaion by the p value\n",
    "l = 5\n",
    "count = 0\n",
    "#calculate covariance matrix\n",
    "\n",
    "for j in trange(200):\n",
    "    #generate data\n",
    "    Y_source, X_source, V_source, Z_source, Y_target, X_target, V_target, Z_target = generate(ns,nt, p,q, s, t, u, 0)\n",
    "\n",
    "    # calculate density ratio\n",
    "    D_s = np.concatenate((X_source, Z_source[:,:p], V_source), axis = 1)\n",
    "    D_t = np.concatenate((X_target, Z_target[:,:p], V_target), axis = 1)\n",
    "\n",
    "    \n",
    "    # densratio_obj = densratio(D_t, D_s)\n",
    "    # #calculate density ratio for each sample\n",
    "    # sample_density_ratio1 = densratio_obj.compute_density_ratio(D_s)\n",
    "\n",
    "    sample_density_ratio2 = density_ratio_estimate_prob_LR(D_t, D_s)\n",
    "    reg = LassoCV().fit(Z_source,Y_source.ravel())\n",
    "    \n",
    "    cov1 = generate_cov_matrix(Y_source, X_source, Z_source,V_source,u,s,t, L = l, K = 40, density_ratio = sample_density_ratio2, regr = reg)\n",
    "    w, statistic = PCRtest(Y_source, X_source, Z_source,V_source,u,s,t, L = l, K = 40, covariate_shift = True, density_ratio = sample_density_ratio2, regr = reg)\n",
    "    print([w,statistic])\n",
    "    p_value = monte_carlo_p_value(100000, cov1, l, statistic)\n",
    "    print(p_value)\n",
    "    if p_value < 0.1:\n",
    "        count += 1\n",
    "probability = count/200\n"
   ]
  },
  {
   "cell_type": "code",
   "execution_count": null,
   "id": "02c10a04-fc70-4732-943b-c284f10a4dcf",
   "metadata": {},
   "outputs": [],
   "source": [
    "x = "
   ]
  },
  {
   "cell_type": "code",
   "execution_count": null,
   "id": "8d9ede72-d347-434f-bd69-362c3a1f4ecb",
   "metadata": {},
   "outputs": [],
   "source": [
    "def multiple_test():"
   ]
  },
  {
   "cell_type": "code",
   "execution_count": null,
   "id": "de20fc20",
   "metadata": {},
   "outputs": [],
   "source": [
    "# previous code\n",
    "\n",
    "# def int_(x):\n",
    "#     if x >= 80: return 79\n",
    "#     return int(x)\n",
    "\n",
    "# def Many_Tests(m, Alpha):\n",
    "#     X = []\n",
    "#     n, p=500, 20\n",
    "#     for i in trange(m):\n",
    "#         s = np.random.normal(0, 1, p)\n",
    "#         t = s + np.random.normal(0, 0.1, p)\n",
    "#         u = np.random.normal(0, 1, p)\n",
    "#         Y_source, X_source, V_source, Z_source, Y_target, X_target, V_target, Z_target = generate(n, p, s, t, u, Alpha)\n",
    "#         u, v = PCRtest(Y_source, X_source, Z_source, L = 5, K = 20, covariate_shift = False)\n",
    "#         X.append(v)\n",
    "#     return X\n",
    "# def Density_Variance(n):\n",
    "#     a, b=0, 0\n",
    "#     for i in range(n):\n",
    "#         z = np.random.normal(0, 1, p)\n",
    "#         x = z @ s + np.random.normal(0, 1, 1)\n",
    "#         a += Covariate_Shift_Weight(x, z)**2\n",
    "#         b += np.exp((z @ t - z @ s)**2)\n",
    "#     return a/n, b/n"
   ]
  },
  {
   "cell_type": "markdown",
   "id": "db806744-0782-403a-bedf-cba165bdc3a9",
   "metadata": {},
   "source": [
    "# Power simulation"
   ]
  },
  {
   "cell_type": "markdown",
   "id": "8b5f843c-7ae5-4742-8983-4d4befc68e7e",
   "metadata": {},
   "source": [
    "1.First, we set the rejection threshold to be 0.05. We will run 1000 simulations to estimate the power and average the results over 1000 trials. Plot the power w.r.t L with fixed K = 50."
   ]
  },
  {
   "cell_type": "code",
   "execution_count": null,
   "id": "c40b676f-3439-4e4a-9dcf-e6d988bb3fc0",
   "metadata": {},
   "outputs": [],
   "source": [
    "# simulation code\n",
    "K = 20\n",
    "L = 10\n",
    "n, p = 1000, 20\n",
    "s = np.random.normal(0, 1, p)\n",
    "t = s + np.random.normal(0, 0.1, p)\n",
    "u = np.random.normal(0, 1, p)\n",
    "\n",
    "result = []\n",
    "for l in range(4, 30):\n",
    "    for i in range\n",
    "    cov1 = generate_cov_matrix(Y_source, X_source, Z_source, L = l, K = 20)\n",
    "    result.append(monte_carlo_p_value(100000, cov1, l, PCRtest(Y_source, X_source, Z_source, L = l, K = 20, covariate_shift = True)[1]))\n",
    "    \n",
    "    "
   ]
  },
  {
   "cell_type": "code",
   "execution_count": 303,
   "id": "4845e6cd-91f5-4c1d-8189-18b4c8b4ff09",
   "metadata": {},
   "outputs": [
    {
     "data": {
      "text/plain": [
       "1.0139707729582619"
      ]
     },
     "execution_count": 303,
     "metadata": {},
     "output_type": "execute_result"
    }
   ],
   "source": [
    "x = np.random.normal(0,25,500)\n",
    "y = np.random.normal(2,1,500)\n",
    "sum = 0\n",
    "for i in range(500):\n",
    "    sum += norm.pdf(x[i], loc = 5, scale = 25)/norm.pdf(x[i], loc = 0, scale = 25)\n",
    "sum/500"
   ]
  },
  {
   "cell_type": "markdown",
   "id": "3cd2a91a-caa4-42e8-b59c-014dfdb76af9",
   "metadata": {},
   "source": [
    "# Comparison with resampling method\n"
   ]
  },
  {
   "cell_type": "code",
   "execution_count": 2,
   "id": "07798c89-1e23-4cdb-93c2-aeb46b402dbf",
   "metadata": {},
   "outputs": [
    {
     "name": "stdout",
     "output_type": "stream",
     "text": [
      "path exists, skipping /Users/bowenxu/Documents/GitHub/Covariate-shift-CRT\n",
      "completed operation for: /Users/bowenxu/Documents/GitHub/Covariate-shift-CRT\n",
      "\n",
      "Note: you may need to restart the kernel to use updated packages.\n"
     ]
    }
   ],
   "source": [
    "conda develop ."
   ]
  },
  {
   "cell_type": "code",
   "execution_count": 1,
   "id": "74c3b46d-1493-457f-86d5-f1a5d3ec32e8",
   "metadata": {},
   "outputs": [
    {
     "ename": "ModuleNotFoundError",
     "evalue": "No module named 'resample_and_test'",
     "output_type": "error",
     "traceback": [
      "\u001b[0;31m---------------------------------------------------------------------------\u001b[0m",
      "\u001b[0;31mModuleNotFoundError\u001b[0m                       Traceback (most recent call last)",
      "Cell \u001b[0;32mIn[1], line 1\u001b[0m\n\u001b[0;32m----> 1\u001b[0m \u001b[38;5;28;01mfrom\u001b[39;00m \u001b[38;5;21;01mresample_and_test\u001b[39;00m \u001b[38;5;28;01mimport\u001b[39;00m ShiftTester\n",
      "\u001b[0;31mModuleNotFoundError\u001b[0m: No module named 'resample_and_test'"
     ]
    }
   ],
   "source": [
    "from resample_and_test import ShiftTester"
   ]
  },
  {
   "cell_type": "markdown",
   "id": "77aeb9ec-c50e-446c-b9db-b56113696c53",
   "metadata": {},
   "source": [
    "# 6. Function testing code"
   ]
  },
  {
   "cell_type": "code",
   "execution_count": 1018,
   "id": "1cbeed86-6367-4fc9-aa65-231c827151c3",
   "metadata": {},
   "outputs": [
    {
     "data": {
      "image/png": "[encoded data removed]",
      "text/plain": [
       "<Figure size 640x480 with 1 Axes>"
      ]
     },
     "metadata": {},
     "output_type": "display_data"
    },
    {
     "name": "stdout",
     "output_type": "stream",
     "text": [
      "3.3901277832440895e-06\n"
     ]
    }
   ],
   "source": [
    "# Test density ratio estimation\n",
    "nn = 500\n",
    "\n",
    "o = np.random.normal(0, 0.1, (nn,5))\n",
    "a = np.random.normal(5, 0.1, (nn,5))\n",
    "d = density_ratio_estimate_prob_NN(o,a)\n",
    "\n",
    "true = []\n",
    "for i in a:\n",
    "    true.append(np.exp(1/2 - i.sum()))\n",
    "\n",
    "import matplotlib.pyplot as plt\n",
    "\n",
    "\n",
    "# Generate x-axis values\n",
    "x = range(nn)\n",
    "\n",
    "# Create the plot with two lines\n",
    "plt.plot(x, true, label='true')\n",
    "plt.plot(x, d, label='estimate')\n",
    "\n",
    "# Add labels, title, and legend\n",
    "plt.xlabel('X')\n",
    "plt.ylabel('Y')\n",
    "plt.title('Plot true and estimate dr')\n",
    "plt.legend()\n",
    "\n",
    "# Show the plot\n",
    "plt.show()\n",
    "print(la.norm(true - d)/nn)"
   ]
  },
  {
   "cell_type": "code",
   "execution_count": null,
   "id": "5f378f23-3458-4080-b91a-1b3f7d1c8705",
   "metadata": {},
   "outputs": [],
   "source": []
  }
 ],
 "metadata": {
  "kernelspec": {
   "display_name": "Python 3 (ipykernel)",
   "language": "python",
   "name": "python3"
  },
  "language_info": {
   "codemirror_mode": {
    "name": "ipython",
    "version": 3
   },
   "file_extension": ".py",
   "mimetype": "text/x-python",
   "name": "python",
   "nbconvert_exporter": "python",
   "pygments_lexer": "ipython3",
   "version": "3.9.16"
  }
 },
 "nbformat": 4,
 "nbformat_minor": 5
}
