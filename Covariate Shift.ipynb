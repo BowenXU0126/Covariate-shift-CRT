{
 "cells": [
  {
   "cell_type": "code",
   "execution_count": 307,
   "id": "f276cf02",
   "metadata": {},
   "outputs": [],
   "source": [
    "import numpy as np\n",
    "import pandas as pd\n",
    "import matplotlib.pyplot as plt\n",
    "from scipy.stats import norm, chi2, multivariate_normal\n",
    "from sklearn import linear_model\n",
    "from sklearn.linear_model import LassoCV\n",
    "from sklearn.linear_model import Lasso\n",
    "from sklearn.linear_model import LinearRegression\n",
    "from sklearn.linear_model import LogisticRegressionCV\n",
    "from sklearn.model_selection import train_test_split\n",
    "\n",
    "from densratio import densratio\n",
    "from numpy import linalg as la\n",
    "import matplotlib.pyplot as plt\n",
    "from densratio import densratio"
   ]
  },
  {
   "cell_type": "markdown",
   "id": "2477d71f-6e89-4daf-ba46-c70817843f11",
   "metadata": {},
   "source": [
    "# Functions"
   ]
  },
  {
   "cell_type": "code",
   "execution_count": 541,
   "id": "350cf0d2-13aa-4f9c-b4b9-389460865eaf",
   "metadata": {},
   "outputs": [],
   "source": [
    "import numpy as np\n",
    "from sklearn.linear_model import LogisticRegression\n",
    "from sklearn.neural_network import MLPClassifier\n",
    "from sklearn.ensemble import RandomForestClassifier\n",
    "from sklearn.svm import SVC\n",
    "from sklearn.model_selection import cross_val_predict\n",
    "from sklearn.linear_model import Lasso\n",
    "\n",
    "    \n",
    "\n",
    "def density_ratio_estimate_prob_RF(D_nu, D_de, n_estimators=100):\n",
    "    l_nu = np.ones(len(D_nu))\n",
    "    l_de = np.zeros(len(D_de))\n",
    "    \n",
    "    l = np.concatenate((l_nu, l_de))\n",
    "    D = np.concatenate((D_nu, D_de))\n",
    "    \n",
    "    # Fit Random Forest model\n",
    "    model = RandomForestClassifier()\n",
    "    model.fit(D, l)\n",
    "    \n",
    "    # Get density ratios for all samples\n",
    "    density_ratios = (model.predict_proba(D_de)[:, 1] / model.predict_proba(D_de)[:, 0]) * (len(D_de) / len(D_nu))\n",
    "    \n",
    "    return density_ratios\n",
    "\n",
    "\n",
    "def density_ratio_estimate_prob_NN(D_nu, D_de, hidden_layer_sizes=(100,), cv=2):\n",
    "    l_nu = np.ones(len(D_nu))\n",
    "    l_de = np.zeros(len(D_de))\n",
    "    \n",
    "    l = np.concatenate((l_nu, l_de))\n",
    "    D = np.concatenate((D_nu, D_de))\n",
    "    \n",
    "    # Fit neural network model with cross-validation\n",
    "    model = MLPClassifier(activation= 'tanh',hidden_layer_sizes = hidden_layer_sizes)\n",
    "    model.fit(D,l)\n",
    "    \n",
    "    # Get density ratios for all samples\n",
    "    density_ratios = (model.predict_proba(D_de)[:, 1] / model.predict_proba(D_de)[:, 0]) * (len(D_de) / len(D_nu))\n",
    "    \n",
    "    return density_ratios\n",
    "\n",
    "from sklearn.linear_model import LogisticRegressionCV\n",
    "\n",
    "def density_ratio_estimate_prob_LR(D_nu, D_de, true_density = None,Z_known = True):\n",
    "    if Z_known == False:\n",
    "        l_nu = np.ones(len(D_nu))\n",
    "        l_de = np.zeros(len(D_de))\n",
    "\n",
    "        l = np.concatenate((l_nu, l_de))\n",
    "        D = np.concatenate((D_nu, D_de))\n",
    "\n",
    "        # Adding cross terms\n",
    "        cross_terms_de = []\n",
    "        n_covariates = D_de.shape[1]\n",
    "        for i in range(n_covariates):\n",
    "            for j in range(i, n_covariates):\n",
    "                cross_term = D_de[:, i] * D_de[:, j]\n",
    "                cross_terms_de.append(cross_term)\n",
    "        cross_terms_de = np.array(cross_terms_de).T\n",
    "\n",
    "        cross_terms_nu = []\n",
    "        n_covariates = D_nu.shape[1]\n",
    "        for i in range(n_covariates):\n",
    "            for j in range(i , n_covariates):\n",
    "                cross_term = D_nu[:, i] * D_nu[:, j]\n",
    "                cross_terms_nu.append(cross_term)\n",
    "        cross_terms_nu = np.array(cross_terms_nu).T\n",
    "\n",
    "\n",
    "        D_nu_with_cross_terms = np.concatenate((D_nu, cross_terms_nu),axis = 1)\n",
    "        D_de_with_cross_terms = np.concatenate((D_de, cross_terms_de), axis = 1)\n",
    "        D_with_cross_terms = np.concatenate((D_nu_with_cross_terms, D_de_with_cross_terms))\n",
    "\n",
    "        # Fit logistic model with cross terms\n",
    "        C = 0.1\n",
    "        model = LogisticRegressionCV(penalty='l1', solver='liblinear', cv=5)\n",
    "        model.fit(D_with_cross_terms, l)\n",
    "\n",
    "        # Get density ratios for samples in D_de\n",
    "        density_ratios = (model.predict_proba(D_de_with_cross_terms)[:, 1] / model.predict_proba(D_de_with_cross_terms)[:, 0]) * (len(D_de) / len(D_nu))\n",
    "        \n",
    "    if Z_known == True:\n",
    "        l_nu = np.ones(len(D_nu))\n",
    "        l_de = np.zeros(len(D_de))\n",
    "\n",
    "        l = np.concatenate((l_nu, l_de))\n",
    "        D = np.concatenate((D_nu, D_de))\n",
    "\n",
    "        # Fit logistic model with cross terms\n",
    "\n",
    "        model = LogisticRegressionCV(penalty='l2', cv = 2)\n",
    "        model.fit(D, l)\n",
    "        print(model.predict_proba(D_de)[:, 1])\n",
    "        # Get density ratios for samples in D_de\n",
    "        v_density_ratios = (model.predict_proba(D_de)[:, 1] / model.predict_proba(D_de)[:, 0]) * (len(D_de) / len(D_nu))\n",
    "        density_ratios = v_density_ratios * np.array(true_density)\n",
    "    return density_ratios\n",
    "\n",
    "\n",
    "\n",
    "\n",
    "# def density_ratio_estimate_prob_KLR(D_nu, D_de, gamma=1.0):\n",
    "#     l_nu = np.ones(len(D_nu))\n",
    "#     l_de = np.zeros(len(D_de))\n",
    "\n",
    "#     l = np.concatenate((l_nu, l_de))\n",
    "#     D = np.concatenate((D_nu, D_de))\n",
    "\n",
    "#     # Feature mapping using Gaussian RBF kernel approximation\n",
    "#     feature_map = RBFSampler(gamma='scale', n_components=200)\n",
    "#     X_mapped = feature_map.fit_transform(D)\n",
    "\n",
    "#     # Fit kernel logistic model\n",
    "#     model = LogisticRegressionCV(penalty='l1', solver='liblinear')\n",
    "#     model.fit(X_mapped, l)\n",
    "\n",
    "#     # Map test data to the feature space\n",
    "#     D_de_mapped = feature_map.transform(D_de)\n",
    "\n",
    "#     # Get density ratios for all samples\n",
    "#     density_ratios = (model.predict_proba(D_de_mapped)[:, 1] / model.predict_proba(D_de_mapped)[:, 0]) * (len(D_de) / len(D_nu))\n",
    "\n",
    "#     return density_ratios\n",
    "\n",
    "  \n",
    "\n",
    "def norm_est_ratio(D_s, D_t):\n",
    "    ns = D_s.shape[0]\n",
    "    nt = D_t.shape[0]\n",
    "    p = D_s.shape[1]\n",
    "    \n",
    "    ED_s = np.mean(D_s, axis=0)\n",
    "    ED_t = np.mean(D_t, axis=0)\n",
    "    \n",
    "    CS = np.cov(D_s.T)\n",
    "    CT = np.cov(D_t.T)\n",
    "    \n",
    "    pdf_s = multivariate_normal.pdf(D_s, mean=ED_s, cov=CS)\n",
    "    pdf_t = multivariate_normal.pdf(D_s, mean=ED_t, cov=CT)\n",
    "    \n",
    "    true_ = pdf_t / pdf_s\n",
    "    \n",
    "    return true_\n",
    "\n",
    "    \n",
    "\n",
    "\n",
    "# def Covariate_Shift_Weight(x, z, v = 0):\n",
    "#     return np.exp(((x - z @ s)**2 - (x - z @ t)**2)/2)\n",
    "\n",
    "def Model_X(z, v, u):\n",
    "    return z[:5] @ u + np.random.normal(0, 1, 1)\n",
    "\n",
    "## group samples together\n",
    "\n",
    "def T_statistic(y, x, z, v, u,s, t,regr):\n",
    "#     d_y = regr.predict(z.reshape(1, z.shape[0]))\n",
    "#     # d_y = (1+s)@z\n",
    "#     d_x = z[:5]@u\n",
    "    \n",
    "#     return np.abs(((y-d_y)*(x-d_x)))\n",
    "    return (y - z.sum()- x)**2\n",
    "    # return coef[0]\n",
    "\n",
    "def Conterfeits(y, x, z, v, u,s, t, L, K, regr):\n",
    "    M = L * K - 1\n",
    "    cnt = 0\n",
    "    t_stat = T_statistic(y, x, z, v, u,s, t,regr)\n",
    "\n",
    "    for i in range(M):\n",
    "        x_ = Model_X(z, v, u)\n",
    "        if t_stat > T_statistic(y, x_, z, v, u,s, t, regr):\n",
    "            cnt=cnt+1\n",
    "            \n",
    "    return cnt // K\n",
    "\n",
    "def PCRtest( Y, X, Z, V, u, s, t, L, K, covariate_shift, density_ratio, regr):\n",
    "    n = Y.size\n",
    "    W = np.array([0.0]*L)\n",
    "\n",
    "    for j in range(n):\n",
    "        y, x, z, v = Y[j], X[j], Z[j], V[j]\n",
    "        if covariate_shift == True:\n",
    "            ind = Conterfeits(y, x, z, v, u,s, t, L, K, regr)\n",
    "            if true_density == False:\n",
    "                W[ind] += density_ratio[j]\n",
    "                \n",
    "        if covariate_shift == False:\n",
    "            W[Conterfeits(y, x, z, v, u,s, t, L, K, regr)] += 1\n",
    "    return W, L/n * np.dot(W - n/L, W - n/L)\n",
    "\n",
    "def generate_cov_matrix(Y, X, Z, V,u, s, t, L, K, density_ratio, regr):\n",
    "    \"\"\"\n",
    "    Generate a covariance matrix for quadratic form normal rv.\n",
    "\n",
    "    Parameters:\n",
    "    - L (int): The size of the covariance matrix.\n",
    "\n",
    "    Returns:\n",
    "    - covariance_matrix (ndarray): The generated covariance matrix.\n",
    "    \"\"\"\n",
    "    n = Y.size\n",
    "    diag = np.array([0.0]*L)\n",
    "    \n",
    "    for j in range(n):\n",
    "        y, x, z, v = Y[j], X[j], Z[j], V[j]\n",
    "        if true_density == False:\n",
    "            diag[Conterfeits(y, x, z, v, u,s,t,L, K, regr)] += (density_ratio[j]**2)\n",
    "    diag = L*(diag/n)- 1/L\n",
    "    covariance_matrix = np.full((L, L), -1/L)  # Fill all entries with 1/L\n",
    "    np.fill_diagonal(covariance_matrix, diag)  # Set diagonal entries to 1 - 1/L^2\n",
    "    return covariance_matrix\n",
    "    "
   ]
  },
  {
   "cell_type": "code",
   "execution_count": 527,
   "id": "93657a58-79da-400b-8064-fc5ba7d5885a",
   "metadata": {},
   "outputs": [],
   "source": [
    "#get p values\n",
    "\n",
    "import scipy.stats as stats\n",
    "\n",
    "def chi_squared_p_value(chi_squared_statistic, df):\n",
    "    \"\"\"\n",
    "    Calculate the p-value from a chi-squared distribution.\n",
    "\n",
    "    Parameters:\n",
    "    - chi_squared_statistic (float): The observed chi-squared test statistic.\n",
    "    - df (int): The degrees of freedom.\n",
    "\n",
    "    Returns:\n",
    "    - p_value (float): The calculated p-value.\n",
    "    \"\"\"\n",
    "    p_value = 1 - stats.chi2.cdf(chi_squared_statistic, df)\n",
    "    return p_value\n",
    "\n",
    "def monte_carlo_p_value(n_samples, covariance_matrix, L, quantile):\n",
    "    \"\"\"\n",
    "    Calculate the probability corresponding to a given quantile using the Monte Carlo method.\n",
    "\n",
    "    Parameters:\n",
    "    - n_samples (int): The number of Monte Carlo samples to generate.\n",
    "    - covariance_matrix (ndarray): The covariance matrix of the random vector X.\n",
    "    - L (int): The number of components to sum.\n",
    "    - quantile (float): The quantile value.\n",
    "\n",
    "    Returns:\n",
    "    - probability (float): The estimated probability corresponding to the quantile.\n",
    "    \"\"\"\n",
    "    count = 0\n",
    "    for _ in range(n_samples):\n",
    "        sample = np.random.multivariate_normal(np.zeros(L), covariance_matrix)\n",
    "        squared_sum = np.sum(sample**2)\n",
    "        if squared_sum <= quantile:\n",
    "            count += 1\n",
    "\n",
    "    probability = count / n_samples\n",
    "    return 1-probability\n"
   ]
  },
  {
   "cell_type": "markdown",
   "id": "34841abf",
   "metadata": {},
   "source": [
    "# 生成数据"
   ]
  },
  {
   "cell_type": "code",
   "execution_count": 669,
   "id": "8a429fec",
   "metadata": {},
   "outputs": [],
   "source": [
    "# Generate Data\n",
    "\n",
    "\n",
    "import numpy as np\n",
    "\n",
    "def generate(ns, nt, p,q, s, t, u, Alpha=0):\n",
    "    Zs_null = np.random.normal(0,0.1, (ns, q))\n",
    "    Zt_null = np.random.normal(0,0.1, (nt, q))\n",
    "    \n",
    "    Z_source = np.hstack((np.random.normal(2, 1, (ns, p)) , Zs_null))\n",
    "    Z_target = np.hstack((np.random.normal(0, 1, (nt, p)) , Zt_null))\n",
    "    \n",
    "    X_source = Z_source[:, :p] @ u + np.random.normal(0, 1, ns)\n",
    "    X_target = Z_target[:, :p] @ u + np.random.normal(0, 1, nt)\n",
    "\n",
    "    V_source = Z_source[:, :p] @ s + 2*X_source + np.random.normal(0, 1, ns)\n",
    "    V_target = Z_target[:, :p] @ t - 2*X_target + np.random.normal(0, 1, nt)\n",
    "    \n",
    "    # V_source = Z_source[:, :p] @ s + 2*X_source \n",
    "    # V_target = Z_target[:, :p] @ t - 2*X_target\n",
    "    \n",
    "    Y_source = (Z_source[:, :p].sum(axis=1))**2 + 2*X_source + V_source + np.random.normal(0, 1, ns) + Alpha * X_source\n",
    "    Y_target = (Z_target[:, :p].sum(axis=1))**2 + 2*X_target + V_target + np.random.normal(0, 1, nt) + Alpha * X_target\n",
    "    \n",
    "    \n",
    "    return Y_source.reshape(-1, 1), X_source.reshape(-1, 1), V_source.reshape(-1, 1), Z_source,\\\n",
    "           Y_target.reshape(-1, 1), X_target.reshape(-1, 1), V_target.reshape(-1, 1), Z_target\n",
    "\n",
    "\n",
    "def true_density_ratio(X, Z, V, s, t,p,q):\n",
    "    ratios = []\n",
    "    for i in range(2000):\n",
    "        zs_prob = multivariate_normal.pdf(Z[i][:p], mean = 0*np.ones(p), cov= 1*np.identity(p))\n",
    "        vs_prob = norm.pdf(V[i], loc=Z[i][:p]@s + 2*X[i], scale =1)\n",
    "        zt_prob = multivariate_normal.pdf(Z[i][:p], mean = 2*np.ones(p), cov= 1*np.identity(p))\n",
    "        vt_prob = norm.pdf(V[i], loc=Z[i][:p]@t - 2*X[i], scale =1)\n",
    "        ratios.append((zt_prob*vt_prob)/(zs_prob*vs_prob))\n",
    "    # zs_probs = multivariate_normal.pdf(Z[:, :p], mean=0*np.ones(p), cov=np.identity(p))\n",
    "    # vs_probs = norm.pdf(V, loc=(Z[:, :p] @ s).reshape(-1,1) + 2*X, scale=5)\n",
    "    # zt_probs = multivariate_normal.pdf(Z[:, :p], mean=0.2*np.ones(p), cov=np.identity(p))\n",
    "    # vt_probs = norm.pdf(V, loc=(Z[:, :p] @ t).reshape(-1,1) - 2*X, scale=5)\n",
    "    # ratios = (zt_probs * vt_probs) / (zs_probs * vs_probs)\n",
    "    return ratios\n",
    "\n",
    "def xz_ratio(X, Z, V, s, t,p,q):\n",
    "    ratios = []\n",
    "    for i in range(2000):\n",
    "        zs_prob = multivariate_normal.pdf(Z[i][:p], mean = 0*np.ones(p), cov= 1*np.identity(p))\n",
    "        zt_prob = multivariate_normal.pdf(Z[i][:p], mean = 2*np.ones(p), cov= 1*np.identity(p))\n",
    "        ratios.append((zt_prob)/(zs_prob))\n",
    "    \n",
    "    return ratios\n",
    "    # return np.exp(0.5*Z.sum() - 0.25*(1/2) - (1/200)*(V- t@Z +X)**2 + (1/200)*(V - s@Z - X)**2)"
   ]
  },
  {
   "cell_type": "markdown",
   "id": "62f86349-f52a-4f8e-831b-d47cd22b3a98",
   "metadata": {},
   "source": [
    "# Test procedure"
   ]
  },
  {
   "cell_type": "code",
   "execution_count": 670,
   "id": "b0fdf7e8-fcae-499a-8149-c328d32c395f",
   "metadata": {},
   "outputs": [],
   "source": [
    "# \n",
    "ns,nt, p,q = 2000,5000, 5, 5\n",
    "s = np.random.normal(1, 1, p)\n",
    "t = np.random.normal(0, 1, p)\n",
    "u = np.random.normal(2, 1, p)\n",
    "# t = s + 4*u"
   ]
  },
  {
   "cell_type": "code",
   "execution_count": 671,
   "id": "4c288a9c-deba-4953-8c5b-1a97f4a70d34",
   "metadata": {
    "tags": []
   },
   "outputs": [
    {
     "name": "stdout",
     "output_type": "stream",
     "text": [
      "[1.03090111e-02 8.13173249e-04 5.17790365e-02 ... 5.24689794e-01\n",
      " 4.10100002e-01 9.88407029e-01]\n"
     ]
    }
   ],
   "source": [
    "#generate data\n",
    "Y_source, X_source, V_source, Z_source, Y_target, X_target, V_target, Z_target = generate(ns,nt, p,q, s, t, u, 0)\n",
    "\n",
    "# calculate density ratio\n",
    "D_s = np.concatenate((X_source, Z_source, V_source), axis = 1)\n",
    "D_t = np.concatenate((X_target, Z_target, V_target), axis = 1)\n",
    "\n",
    "# densratio_obj = densratio(D_t, D_s)\n",
    "reg=1\n",
    "\n",
    "true_dr = true_density_ratio(X_source,Z_source, V_source, s,t,p,q)\n",
    "# xz_dr = xz_ratio(X_source,Z_source, V_source, s,t,p,q)\n",
    "# sample_density_ratio2 = norm_est_ratio(D_s, D_t) * xz_dr\n",
    "xz_dr = xz_ratio(X_source,Z_source, V_source, s,t,p,q)\n",
    "sample_density_ratio2 = density_ratio_estimate_prob_LR(V_target, V_source, true_density= xz_dr, Z_known= True)\n"
   ]
  },
  {
   "cell_type": "code",
   "execution_count": 389,
   "id": "20742e06-7dc6-479b-811d-8bb0d8a05fdd",
   "metadata": {
    "tags": []
   },
   "outputs": [
    {
     "data": {
      "text/plain": [
       "(array([503., 484., 395., 344., 274.]), 91.755)"
      ]
     },
     "execution_count": 389,
     "metadata": {},
     "output_type": "execute_result"
    }
   ],
   "source": [
    "# reg = LassoCV().fit(Z_source,Y_source.ravel())\n",
    "# print(reg.coef_)\n",
    "PCRtest(Y_source, X_source, Z_source,V_source,u,s,t, L = 5, K = 20, covariate_shift = False, density_ratio = sample_density_ratio2, regr = reg)"
   ]
  },
  {
   "cell_type": "code",
   "execution_count": 234,
   "id": "758a62ef-7797-42ed-94f4-d82e1dbbcb21",
   "metadata": {
    "tags": []
   },
   "outputs": [
    {
     "data": {
      "text/plain": [
       "(array([ 989., 1016., 1025.,  953., 1017.]), 3.5)"
      ]
     },
     "execution_count": 234,
     "metadata": {},
     "output_type": "execute_result"
    }
   ],
   "source": [
    "# reg = LassoCV().fit(Z_target,Y_target.ravel())\n",
    "PCRtest(Y_target, X_target, Z_target,V_target,u,s,t, L = 5, K = 20, covariate_shift = False, density_ratio = sample_density_ratio2, regr = reg)"
   ]
  },
  {
   "cell_type": "code",
   "execution_count": 672,
   "id": "81b4f8f4-4d97-4611-ab52-cc7bb1944a0b",
   "metadata": {},
   "outputs": [
    {
     "name": "stdout",
     "output_type": "stream",
     "text": [
      "0.06325306455409861\n",
      "0.0\n",
      "0.00011850671630284597\n"
     ]
    }
   ],
   "source": [
    "print(np.max(true_dr))\n",
    "print(np.min(true_dr))\n",
    "mean = np.mean(true_dr)\n",
    "print(mean)"
   ]
  },
  {
   "cell_type": "code",
   "execution_count": 673,
   "id": "986d6200-ccdf-4e3d-82bd-cd974d748e81",
   "metadata": {
    "tags": []
   },
   "outputs": [
    {
     "name": "stdout",
     "output_type": "stream",
     "text": [
      "0.01897748209430317\n",
      "1.6367889997957233e-11\n",
      "0.00010247158083705735\n"
     ]
    }
   ],
   "source": [
    "print(np.max(sample_density_ratio2))\n",
    "print(np.min(sample_density_ratio2))\n",
    "mean = np.mean(sample_density_ratio2)\n",
    "print(mean)\n",
    "# sample_density_ratio2 = sample_density_ratio2/mean"
   ]
  },
  {
   "cell_type": "code",
   "execution_count": 675,
   "id": "b1aa708e-edbf-4482-b3f8-9ff4a2532c21",
   "metadata": {
    "tags": []
   },
   "outputs": [
    {
     "name": "stdout",
     "output_type": "stream",
     "text": [
      "4.486262901139303e-06\n"
     ]
    },
    {
     "data": {
      "image/png": "[encoded data removed]",
      "text/plain": [
       "<Figure size 640x480 with 1 Axes>"
      ]
     },
     "metadata": {},
     "output_type": "display_data"
    }
   ],
   "source": [
    "import matplotlib.pyplot as plt\n",
    "\n",
    "\n",
    "# Sort the true_list in descending order\n",
    "combined_lists = zip(true_dr, sample_density_ratio2)\n",
    "\n",
    "# Sort the combined_lists based on the values of true_lst\n",
    "sorted_combined_lists = sorted(combined_lists, key=lambda x: x[0],reverse=True)\n",
    "\n",
    "# Separate the sorted lists back into true_lst and other_lst\n",
    "sorted_true, sorted_estimate = zip(*sorted_combined_lists)\n",
    "\n",
    "# Generate x-axis values\n",
    "x_start = 0\n",
    "x_end = 100\n",
    "x = range(x_end - x_start)\n",
    "\n",
    "# Calculate the difference between the true and estimate lists\n",
    "difference = [true - estimate for true, estimate in zip(sorted_true, sorted_estimate)]\n",
    "\n",
    "# # Create the plot for the difference\n",
    "# plt.plot(x, difference[x_start:x_end], label='difference')\n",
    "\n",
    "# # Add labels, title, and legend\n",
    "# plt.xlabel('X')\n",
    "# plt.ylabel('Difference')\n",
    "# plt.title('Difference between true and estimate')\n",
    "# plt.legend()\n",
    "\n",
    "# # Show the plot\n",
    "# plt.show()\n",
    "print(la.norm(difference)**2/2000)\n",
    "# plt.plot(x, true_list[x_start:x_end], label='true')\n",
    "# plt.plot(x, sample_density_ratio2[x_start:x_end], label='estimate')\n",
    "plt.plot(x, sorted_true[x_start:x_end], label='true')\n",
    "plt.plot(x, sorted_estimate[x_start:x_end], label='estimate')\n",
    "plt.legend()\n",
    "plt.show()"
   ]
  },
  {
   "cell_type": "code",
   "execution_count": 87,
   "id": "e7d8c152-e75f-4e68-86b2-222807391662",
   "metadata": {
    "tags": []
   },
   "outputs": [
    {
     "data": {
      "text/plain": [
       "5.516748927860167"
      ]
     },
     "execution_count": 87,
     "metadata": {},
     "output_type": "execute_result"
    }
   ],
   "source": [
    "# Calculate average loss of 2 estimate method\n",
    "for i in range(1000):\n",
    "    Y_source, X_source, V_source, Z_source, Y_target, X_target, V_target, Z_target = generate(ns,nt, p,q, s, t, u, 0)\n",
    "\n",
    "    # calculate density ratio\n",
    "    D_s = np.concatenate((X_source, Z_source, V_source), axis = 1)\n",
    "    D_t = np.concatenate((X_target, Z_target, V_target), axis = 1)\n",
    "\n"
   ]
  },
  {
   "cell_type": "markdown",
   "id": "525b5686-6068-489f-bf1e-19c97800bd98",
   "metadata": {},
   "source": [
    "## Test"
   ]
  },
  {
   "cell_type": "code",
   "execution_count": 292,
   "id": "c8fd609a",
   "metadata": {
    "collapsed": true,
    "jupyter": {
     "outputs_hidden": true
    },
    "tags": []
   },
   "outputs": [
    {
     "name": "stderr",
     "output_type": "stream",
     "text": [
      "  0%|          | 0/400 [00:00<?, ?it/s]"
     ]
    },
    {
     "name": "stdout",
     "output_type": "stream",
     "text": [
      "[array([361.85409439, 354.70963895, 420.92253317, 401.51599682,\n",
      "       429.03605151]), 11.973674618278942]\n"
     ]
    },
    {
     "name": "stderr",
     "output_type": "stream",
     "text": [
      "  0%|          | 1/400 [00:22<2:30:52, 22.69s/it]"
     ]
    },
    {
     "name": "stdout",
     "output_type": "stream",
     "text": [
      "0.10089999999999999\n",
      "[array([378.18127866, 360.28862612, 417.61217696, 406.22032578,\n",
      "       464.95939588]), 16.554135399191118]\n"
     ]
    },
    {
     "name": "stderr",
     "output_type": "stream",
     "text": [
      "  0%|          | 2/400 [00:45<2:32:48, 23.04s/it]"
     ]
    },
    {
     "name": "stdout",
     "output_type": "stream",
     "text": [
      "0.05242999999999998\n",
      "[array([337.18116649, 357.34638191, 401.04273425, 481.9193595 ,\n",
      "       455.11294041]), 38.78710484126609]\n"
     ]
    },
    {
     "name": "stderr",
     "output_type": "stream",
     "text": [
      "  1%|          | 3/400 [01:11<2:38:48, 24.00s/it]"
     ]
    },
    {
     "name": "stdout",
     "output_type": "stream",
     "text": [
      "0.0013499999999999623\n",
      "[array([372.48650473, 343.04949438, 391.71857613, 466.94713397,\n",
      "       431.51484177]), 23.86009622955541]\n"
     ]
    },
    {
     "name": "stderr",
     "output_type": "stream",
     "text": [
      "  1%|          | 4/400 [01:36<2:40:57, 24.39s/it]"
     ]
    },
    {
     "name": "stdout",
     "output_type": "stream",
     "text": [
      "0.022179999999999978\n"
     ]
    },
    {
     "name": "stderr",
     "output_type": "stream",
     "text": [
      "  1%|          | 4/400 [01:38<2:43:11, 24.73s/it]\n"
     ]
    },
    {
     "ename": "KeyboardInterrupt",
     "evalue": "",
     "output_type": "error",
     "traceback": [
      "\u001b[0;31m---------------------------------------------------------------------------\u001b[0m",
      "\u001b[0;31mKeyboardInterrupt\u001b[0m                         Traceback (most recent call last)",
      "Cell \u001b[0;32mIn[292], line 24\u001b[0m\n\u001b[1;32m     12\u001b[0m D_t \u001b[38;5;241m=\u001b[39m np\u001b[38;5;241m.\u001b[39mconcatenate((X_target, Z_target, V_target), axis \u001b[38;5;241m=\u001b[39m \u001b[38;5;241m1\u001b[39m)\n\u001b[1;32m     15\u001b[0m \u001b[38;5;66;03m# densratio_obj = densratio(D_t, D_s)\u001b[39;00m\n\u001b[1;32m     16\u001b[0m \u001b[38;5;66;03m# #calculate density ratio for each sample\u001b[39;00m\n\u001b[1;32m     17\u001b[0m \u001b[38;5;66;03m# sample_density_ratio1 = densratio_obj.compute_density_ratio(D_s)\u001b[39;00m\n\u001b[0;32m   (...)\u001b[0m\n\u001b[1;32m     22\u001b[0m \u001b[38;5;66;03m# z_ratio = density_ratio_estimate_prob_LR(Z_target[:,:p],Z_source[:,:p])\u001b[39;00m\n\u001b[1;32m     23\u001b[0m \u001b[38;5;66;03m# v_ratio = density_ratio_estimate_prob_LR(V_target,V_source)\u001b[39;00m\n\u001b[0;32m---> 24\u001b[0m sample_density_ratio2 \u001b[38;5;241m=\u001b[39m \u001b[43mdensity_ratio_estimate_prob_LR\u001b[49m\u001b[43m(\u001b[49m\u001b[43mD_t\u001b[49m\u001b[43m,\u001b[49m\u001b[43m \u001b[49m\u001b[43mD_s\u001b[49m\u001b[43m)\u001b[49m\n\u001b[1;32m     25\u001b[0m \u001b[38;5;66;03m# sample_density_ratio2 = norm_est_ratio(D_s, D_t)\u001b[39;00m\n\u001b[1;32m     27\u001b[0m cov1 \u001b[38;5;241m=\u001b[39m generate_cov_matrix(Y_source[:\u001b[38;5;241m2000\u001b[39m], X_source[:\u001b[38;5;241m2000\u001b[39m], Z_source[:\u001b[38;5;241m2000\u001b[39m],V_source[:\u001b[38;5;241m2000\u001b[39m],u,s,t, L \u001b[38;5;241m=\u001b[39m l, K \u001b[38;5;241m=\u001b[39m \u001b[38;5;241m20\u001b[39m, density_ratio \u001b[38;5;241m=\u001b[39m sample_density_ratio2, regr \u001b[38;5;241m=\u001b[39m reg,true_density \u001b[38;5;241m=\u001b[39m \u001b[38;5;28;01mFalse\u001b[39;00m)\n",
      "Cell \u001b[0;32mIn[286], line 78\u001b[0m, in \u001b[0;36mdensity_ratio_estimate_prob_LR\u001b[0;34m(D_nu, D_de)\u001b[0m\n\u001b[1;32m     76\u001b[0m C \u001b[38;5;241m=\u001b[39m \u001b[38;5;241m0.1\u001b[39m\n\u001b[1;32m     77\u001b[0m model \u001b[38;5;241m=\u001b[39m LogisticRegressionCV(penalty\u001b[38;5;241m=\u001b[39m\u001b[38;5;124m'\u001b[39m\u001b[38;5;124ml1\u001b[39m\u001b[38;5;124m'\u001b[39m, solver\u001b[38;5;241m=\u001b[39m\u001b[38;5;124m'\u001b[39m\u001b[38;5;124mliblinear\u001b[39m\u001b[38;5;124m'\u001b[39m, cv\u001b[38;5;241m=\u001b[39m\u001b[38;5;241m5\u001b[39m)\n\u001b[0;32m---> 78\u001b[0m \u001b[43mmodel\u001b[49m\u001b[38;5;241;43m.\u001b[39;49m\u001b[43mfit\u001b[49m\u001b[43m(\u001b[49m\u001b[43mD_with_cross_terms\u001b[49m\u001b[43m,\u001b[49m\u001b[43m \u001b[49m\u001b[43ml\u001b[49m\u001b[43m)\u001b[49m\n\u001b[1;32m     80\u001b[0m \u001b[38;5;66;03m# Get density ratios for samples in D_de\u001b[39;00m\n\u001b[1;32m     81\u001b[0m density_ratios \u001b[38;5;241m=\u001b[39m (model\u001b[38;5;241m.\u001b[39mpredict_proba(D_de_with_cross_terms)[:, \u001b[38;5;241m1\u001b[39m] \u001b[38;5;241m/\u001b[39m model\u001b[38;5;241m.\u001b[39mpredict_proba(D_de_with_cross_terms)[:, \u001b[38;5;241m0\u001b[39m]) \u001b[38;5;241m*\u001b[39m (\u001b[38;5;28mlen\u001b[39m(D_de) \u001b[38;5;241m/\u001b[39m \u001b[38;5;28mlen\u001b[39m(D_nu))\n",
      "File \u001b[0;32m~/opt/anaconda3/lib/python3.9/site-packages/sklearn/linear_model/_logistic.py:1869\u001b[0m, in \u001b[0;36mLogisticRegressionCV.fit\u001b[0;34m(self, X, y, sample_weight)\u001b[0m\n\u001b[1;32m   1866\u001b[0m \u001b[38;5;28;01melse\u001b[39;00m:\n\u001b[1;32m   1867\u001b[0m     prefer \u001b[38;5;241m=\u001b[39m \u001b[38;5;124m\"\u001b[39m\u001b[38;5;124mprocesses\u001b[39m\u001b[38;5;124m\"\u001b[39m\n\u001b[0;32m-> 1869\u001b[0m fold_coefs_ \u001b[38;5;241m=\u001b[39m \u001b[43mParallel\u001b[49m\u001b[43m(\u001b[49m\u001b[43mn_jobs\u001b[49m\u001b[38;5;241;43m=\u001b[39;49m\u001b[38;5;28;43mself\u001b[39;49m\u001b[38;5;241;43m.\u001b[39;49m\u001b[43mn_jobs\u001b[49m\u001b[43m,\u001b[49m\u001b[43m \u001b[49m\u001b[43mverbose\u001b[49m\u001b[38;5;241;43m=\u001b[39;49m\u001b[38;5;28;43mself\u001b[39;49m\u001b[38;5;241;43m.\u001b[39;49m\u001b[43mverbose\u001b[49m\u001b[43m,\u001b[49m\u001b[43m \u001b[49m\u001b[43mprefer\u001b[49m\u001b[38;5;241;43m=\u001b[39;49m\u001b[43mprefer\u001b[49m\u001b[43m)\u001b[49m\u001b[43m(\u001b[49m\n\u001b[1;32m   1870\u001b[0m \u001b[43m    \u001b[49m\u001b[43mpath_func\u001b[49m\u001b[43m(\u001b[49m\n\u001b[1;32m   1871\u001b[0m \u001b[43m        \u001b[49m\u001b[43mX\u001b[49m\u001b[43m,\u001b[49m\n\u001b[1;32m   1872\u001b[0m \u001b[43m        \u001b[49m\u001b[43my\u001b[49m\u001b[43m,\u001b[49m\n\u001b[1;32m   1873\u001b[0m \u001b[43m        \u001b[49m\u001b[43mtrain\u001b[49m\u001b[43m,\u001b[49m\n\u001b[1;32m   1874\u001b[0m \u001b[43m        \u001b[49m\u001b[43mtest\u001b[49m\u001b[43m,\u001b[49m\n\u001b[1;32m   1875\u001b[0m \u001b[43m        \u001b[49m\u001b[43mpos_class\u001b[49m\u001b[38;5;241;43m=\u001b[39;49m\u001b[43mlabel\u001b[49m\u001b[43m,\u001b[49m\n\u001b[1;32m   1876\u001b[0m \u001b[43m        \u001b[49m\u001b[43mCs\u001b[49m\u001b[38;5;241;43m=\u001b[39;49m\u001b[38;5;28;43mself\u001b[39;49m\u001b[38;5;241;43m.\u001b[39;49m\u001b[43mCs\u001b[49m\u001b[43m,\u001b[49m\n\u001b[1;32m   1877\u001b[0m \u001b[43m        \u001b[49m\u001b[43mfit_intercept\u001b[49m\u001b[38;5;241;43m=\u001b[39;49m\u001b[38;5;28;43mself\u001b[39;49m\u001b[38;5;241;43m.\u001b[39;49m\u001b[43mfit_intercept\u001b[49m\u001b[43m,\u001b[49m\n\u001b[1;32m   1878\u001b[0m \u001b[43m        \u001b[49m\u001b[43mpenalty\u001b[49m\u001b[38;5;241;43m=\u001b[39;49m\u001b[38;5;28;43mself\u001b[39;49m\u001b[38;5;241;43m.\u001b[39;49m\u001b[43mpenalty\u001b[49m\u001b[43m,\u001b[49m\n\u001b[1;32m   1879\u001b[0m \u001b[43m        \u001b[49m\u001b[43mdual\u001b[49m\u001b[38;5;241;43m=\u001b[39;49m\u001b[38;5;28;43mself\u001b[39;49m\u001b[38;5;241;43m.\u001b[39;49m\u001b[43mdual\u001b[49m\u001b[43m,\u001b[49m\n\u001b[1;32m   1880\u001b[0m \u001b[43m        \u001b[49m\u001b[43msolver\u001b[49m\u001b[38;5;241;43m=\u001b[39;49m\u001b[43msolver\u001b[49m\u001b[43m,\u001b[49m\n\u001b[1;32m   1881\u001b[0m \u001b[43m        \u001b[49m\u001b[43mtol\u001b[49m\u001b[38;5;241;43m=\u001b[39;49m\u001b[38;5;28;43mself\u001b[39;49m\u001b[38;5;241;43m.\u001b[39;49m\u001b[43mtol\u001b[49m\u001b[43m,\u001b[49m\n\u001b[1;32m   1882\u001b[0m \u001b[43m        \u001b[49m\u001b[43mmax_iter\u001b[49m\u001b[38;5;241;43m=\u001b[39;49m\u001b[38;5;28;43mself\u001b[39;49m\u001b[38;5;241;43m.\u001b[39;49m\u001b[43mmax_iter\u001b[49m\u001b[43m,\u001b[49m\n\u001b[1;32m   1883\u001b[0m \u001b[43m        \u001b[49m\u001b[43mverbose\u001b[49m\u001b[38;5;241;43m=\u001b[39;49m\u001b[38;5;28;43mself\u001b[39;49m\u001b[38;5;241;43m.\u001b[39;49m\u001b[43mverbose\u001b[49m\u001b[43m,\u001b[49m\n\u001b[1;32m   1884\u001b[0m \u001b[43m        \u001b[49m\u001b[43mclass_weight\u001b[49m\u001b[38;5;241;43m=\u001b[39;49m\u001b[43mclass_weight\u001b[49m\u001b[43m,\u001b[49m\n\u001b[1;32m   1885\u001b[0m \u001b[43m        \u001b[49m\u001b[43mscoring\u001b[49m\u001b[38;5;241;43m=\u001b[39;49m\u001b[38;5;28;43mself\u001b[39;49m\u001b[38;5;241;43m.\u001b[39;49m\u001b[43mscoring\u001b[49m\u001b[43m,\u001b[49m\n\u001b[1;32m   1886\u001b[0m \u001b[43m        \u001b[49m\u001b[43mmulti_class\u001b[49m\u001b[38;5;241;43m=\u001b[39;49m\u001b[43mmulti_class\u001b[49m\u001b[43m,\u001b[49m\n\u001b[1;32m   1887\u001b[0m \u001b[43m        \u001b[49m\u001b[43mintercept_scaling\u001b[49m\u001b[38;5;241;43m=\u001b[39;49m\u001b[38;5;28;43mself\u001b[39;49m\u001b[38;5;241;43m.\u001b[39;49m\u001b[43mintercept_scaling\u001b[49m\u001b[43m,\u001b[49m\n\u001b[1;32m   1888\u001b[0m \u001b[43m        \u001b[49m\u001b[43mrandom_state\u001b[49m\u001b[38;5;241;43m=\u001b[39;49m\u001b[38;5;28;43mself\u001b[39;49m\u001b[38;5;241;43m.\u001b[39;49m\u001b[43mrandom_state\u001b[49m\u001b[43m,\u001b[49m\n\u001b[1;32m   1889\u001b[0m \u001b[43m        \u001b[49m\u001b[43mmax_squared_sum\u001b[49m\u001b[38;5;241;43m=\u001b[39;49m\u001b[43mmax_squared_sum\u001b[49m\u001b[43m,\u001b[49m\n\u001b[1;32m   1890\u001b[0m \u001b[43m        \u001b[49m\u001b[43msample_weight\u001b[49m\u001b[38;5;241;43m=\u001b[39;49m\u001b[43msample_weight\u001b[49m\u001b[43m,\u001b[49m\n\u001b[1;32m   1891\u001b[0m \u001b[43m        \u001b[49m\u001b[43ml1_ratio\u001b[49m\u001b[38;5;241;43m=\u001b[39;49m\u001b[43ml1_ratio\u001b[49m\u001b[43m,\u001b[49m\n\u001b[1;32m   1892\u001b[0m \u001b[43m    \u001b[49m\u001b[43m)\u001b[49m\n\u001b[1;32m   1893\u001b[0m \u001b[43m    \u001b[49m\u001b[38;5;28;43;01mfor\u001b[39;49;00m\u001b[43m \u001b[49m\u001b[43mlabel\u001b[49m\u001b[43m \u001b[49m\u001b[38;5;129;43;01min\u001b[39;49;00m\u001b[43m \u001b[49m\u001b[43miter_encoded_labels\u001b[49m\n\u001b[1;32m   1894\u001b[0m \u001b[43m    \u001b[49m\u001b[38;5;28;43;01mfor\u001b[39;49;00m\u001b[43m \u001b[49m\u001b[43mtrain\u001b[49m\u001b[43m,\u001b[49m\u001b[43m \u001b[49m\u001b[43mtest\u001b[49m\u001b[43m \u001b[49m\u001b[38;5;129;43;01min\u001b[39;49;00m\u001b[43m \u001b[49m\u001b[43mfolds\u001b[49m\n\u001b[1;32m   1895\u001b[0m \u001b[43m    \u001b[49m\u001b[38;5;28;43;01mfor\u001b[39;49;00m\u001b[43m \u001b[49m\u001b[43ml1_ratio\u001b[49m\u001b[43m \u001b[49m\u001b[38;5;129;43;01min\u001b[39;49;00m\u001b[43m \u001b[49m\u001b[43ml1_ratios_\u001b[49m\n\u001b[1;32m   1896\u001b[0m \u001b[43m\u001b[49m\u001b[43m)\u001b[49m\n\u001b[1;32m   1898\u001b[0m \u001b[38;5;66;03m# _log_reg_scoring_path will output different shapes depending on the\u001b[39;00m\n\u001b[1;32m   1899\u001b[0m \u001b[38;5;66;03m# multi_class param, so we need to reshape the outputs accordingly.\u001b[39;00m\n\u001b[1;32m   1900\u001b[0m \u001b[38;5;66;03m# Cs is of shape (n_classes . n_folds . n_l1_ratios, n_Cs) and all the\u001b[39;00m\n\u001b[0;32m   (...)\u001b[0m\n\u001b[1;32m   1907\u001b[0m \u001b[38;5;66;03m#  (n_classes, n_folds, n_Cs . n_l1_ratios) or\u001b[39;00m\n\u001b[1;32m   1908\u001b[0m \u001b[38;5;66;03m#  (1, n_folds, n_Cs . n_l1_ratios)\u001b[39;00m\n\u001b[1;32m   1909\u001b[0m coefs_paths, Cs, scores, n_iter_ \u001b[38;5;241m=\u001b[39m \u001b[38;5;28mzip\u001b[39m(\u001b[38;5;241m*\u001b[39mfold_coefs_)\n",
      "File \u001b[0;32m~/opt/anaconda3/lib/python3.9/site-packages/sklearn/utils/parallel.py:63\u001b[0m, in \u001b[0;36mParallel.__call__\u001b[0;34m(self, iterable)\u001b[0m\n\u001b[1;32m     58\u001b[0m config \u001b[38;5;241m=\u001b[39m get_config()\n\u001b[1;32m     59\u001b[0m iterable_with_config \u001b[38;5;241m=\u001b[39m (\n\u001b[1;32m     60\u001b[0m     (_with_config(delayed_func, config), args, kwargs)\n\u001b[1;32m     61\u001b[0m     \u001b[38;5;28;01mfor\u001b[39;00m delayed_func, args, kwargs \u001b[38;5;129;01min\u001b[39;00m iterable\n\u001b[1;32m     62\u001b[0m )\n\u001b[0;32m---> 63\u001b[0m \u001b[38;5;28;01mreturn\u001b[39;00m \u001b[38;5;28;43msuper\u001b[39;49m\u001b[43m(\u001b[49m\u001b[43m)\u001b[49m\u001b[38;5;241;43m.\u001b[39;49m\u001b[38;5;21;43m__call__\u001b[39;49m\u001b[43m(\u001b[49m\u001b[43miterable_with_config\u001b[49m\u001b[43m)\u001b[49m\n",
      "File \u001b[0;32m~/opt/anaconda3/lib/python3.9/site-packages/joblib/parallel.py:1048\u001b[0m, in \u001b[0;36mParallel.__call__\u001b[0;34m(self, iterable)\u001b[0m\n\u001b[1;32m   1039\u001b[0m \u001b[38;5;28;01mtry\u001b[39;00m:\n\u001b[1;32m   1040\u001b[0m     \u001b[38;5;66;03m# Only set self._iterating to True if at least a batch\u001b[39;00m\n\u001b[1;32m   1041\u001b[0m     \u001b[38;5;66;03m# was dispatched. In particular this covers the edge\u001b[39;00m\n\u001b[0;32m   (...)\u001b[0m\n\u001b[1;32m   1045\u001b[0m     \u001b[38;5;66;03m# was very quick and its callback already dispatched all the\u001b[39;00m\n\u001b[1;32m   1046\u001b[0m     \u001b[38;5;66;03m# remaining jobs.\u001b[39;00m\n\u001b[1;32m   1047\u001b[0m     \u001b[38;5;28mself\u001b[39m\u001b[38;5;241m.\u001b[39m_iterating \u001b[38;5;241m=\u001b[39m \u001b[38;5;28;01mFalse\u001b[39;00m\n\u001b[0;32m-> 1048\u001b[0m     \u001b[38;5;28;01mif\u001b[39;00m \u001b[38;5;28;43mself\u001b[39;49m\u001b[38;5;241;43m.\u001b[39;49m\u001b[43mdispatch_one_batch\u001b[49m\u001b[43m(\u001b[49m\u001b[43miterator\u001b[49m\u001b[43m)\u001b[49m:\n\u001b[1;32m   1049\u001b[0m         \u001b[38;5;28mself\u001b[39m\u001b[38;5;241m.\u001b[39m_iterating \u001b[38;5;241m=\u001b[39m \u001b[38;5;28mself\u001b[39m\u001b[38;5;241m.\u001b[39m_original_iterator \u001b[38;5;129;01mis\u001b[39;00m \u001b[38;5;129;01mnot\u001b[39;00m \u001b[38;5;28;01mNone\u001b[39;00m\n\u001b[1;32m   1051\u001b[0m     \u001b[38;5;28;01mwhile\u001b[39;00m \u001b[38;5;28mself\u001b[39m\u001b[38;5;241m.\u001b[39mdispatch_one_batch(iterator):\n",
      "File \u001b[0;32m~/opt/anaconda3/lib/python3.9/site-packages/joblib/parallel.py:864\u001b[0m, in \u001b[0;36mParallel.dispatch_one_batch\u001b[0;34m(self, iterator)\u001b[0m\n\u001b[1;32m    862\u001b[0m     \u001b[38;5;28;01mreturn\u001b[39;00m \u001b[38;5;28;01mFalse\u001b[39;00m\n\u001b[1;32m    863\u001b[0m \u001b[38;5;28;01melse\u001b[39;00m:\n\u001b[0;32m--> 864\u001b[0m     \u001b[38;5;28;43mself\u001b[39;49m\u001b[38;5;241;43m.\u001b[39;49m\u001b[43m_dispatch\u001b[49m\u001b[43m(\u001b[49m\u001b[43mtasks\u001b[49m\u001b[43m)\u001b[49m\n\u001b[1;32m    865\u001b[0m     \u001b[38;5;28;01mreturn\u001b[39;00m \u001b[38;5;28;01mTrue\u001b[39;00m\n",
      "File \u001b[0;32m~/opt/anaconda3/lib/python3.9/site-packages/joblib/parallel.py:782\u001b[0m, in \u001b[0;36mParallel._dispatch\u001b[0;34m(self, batch)\u001b[0m\n\u001b[1;32m    780\u001b[0m \u001b[38;5;28;01mwith\u001b[39;00m \u001b[38;5;28mself\u001b[39m\u001b[38;5;241m.\u001b[39m_lock:\n\u001b[1;32m    781\u001b[0m     job_idx \u001b[38;5;241m=\u001b[39m \u001b[38;5;28mlen\u001b[39m(\u001b[38;5;28mself\u001b[39m\u001b[38;5;241m.\u001b[39m_jobs)\n\u001b[0;32m--> 782\u001b[0m     job \u001b[38;5;241m=\u001b[39m \u001b[38;5;28;43mself\u001b[39;49m\u001b[38;5;241;43m.\u001b[39;49m\u001b[43m_backend\u001b[49m\u001b[38;5;241;43m.\u001b[39;49m\u001b[43mapply_async\u001b[49m\u001b[43m(\u001b[49m\u001b[43mbatch\u001b[49m\u001b[43m,\u001b[49m\u001b[43m \u001b[49m\u001b[43mcallback\u001b[49m\u001b[38;5;241;43m=\u001b[39;49m\u001b[43mcb\u001b[49m\u001b[43m)\u001b[49m\n\u001b[1;32m    783\u001b[0m     \u001b[38;5;66;03m# A job can complete so quickly than its callback is\u001b[39;00m\n\u001b[1;32m    784\u001b[0m     \u001b[38;5;66;03m# called before we get here, causing self._jobs to\u001b[39;00m\n\u001b[1;32m    785\u001b[0m     \u001b[38;5;66;03m# grow. To ensure correct results ordering, .insert is\u001b[39;00m\n\u001b[1;32m    786\u001b[0m     \u001b[38;5;66;03m# used (rather than .append) in the following line\u001b[39;00m\n\u001b[1;32m    787\u001b[0m     \u001b[38;5;28mself\u001b[39m\u001b[38;5;241m.\u001b[39m_jobs\u001b[38;5;241m.\u001b[39minsert(job_idx, job)\n",
      "File \u001b[0;32m~/opt/anaconda3/lib/python3.9/site-packages/joblib/_parallel_backends.py:208\u001b[0m, in \u001b[0;36mSequentialBackend.apply_async\u001b[0;34m(self, func, callback)\u001b[0m\n\u001b[1;32m    206\u001b[0m \u001b[38;5;28;01mdef\u001b[39;00m \u001b[38;5;21mapply_async\u001b[39m(\u001b[38;5;28mself\u001b[39m, func, callback\u001b[38;5;241m=\u001b[39m\u001b[38;5;28;01mNone\u001b[39;00m):\n\u001b[1;32m    207\u001b[0m     \u001b[38;5;124;03m\"\"\"Schedule a func to be run\"\"\"\u001b[39;00m\n\u001b[0;32m--> 208\u001b[0m     result \u001b[38;5;241m=\u001b[39m \u001b[43mImmediateResult\u001b[49m\u001b[43m(\u001b[49m\u001b[43mfunc\u001b[49m\u001b[43m)\u001b[49m\n\u001b[1;32m    209\u001b[0m     \u001b[38;5;28;01mif\u001b[39;00m callback:\n\u001b[1;32m    210\u001b[0m         callback(result)\n",
      "File \u001b[0;32m~/opt/anaconda3/lib/python3.9/site-packages/joblib/_parallel_backends.py:572\u001b[0m, in \u001b[0;36mImmediateResult.__init__\u001b[0;34m(self, batch)\u001b[0m\n\u001b[1;32m    569\u001b[0m \u001b[38;5;28;01mdef\u001b[39;00m \u001b[38;5;21m__init__\u001b[39m(\u001b[38;5;28mself\u001b[39m, batch):\n\u001b[1;32m    570\u001b[0m     \u001b[38;5;66;03m# Don't delay the application, to avoid keeping the input\u001b[39;00m\n\u001b[1;32m    571\u001b[0m     \u001b[38;5;66;03m# arguments in memory\u001b[39;00m\n\u001b[0;32m--> 572\u001b[0m     \u001b[38;5;28mself\u001b[39m\u001b[38;5;241m.\u001b[39mresults \u001b[38;5;241m=\u001b[39m \u001b[43mbatch\u001b[49m\u001b[43m(\u001b[49m\u001b[43m)\u001b[49m\n",
      "File \u001b[0;32m~/opt/anaconda3/lib/python3.9/site-packages/joblib/parallel.py:263\u001b[0m, in \u001b[0;36mBatchedCalls.__call__\u001b[0;34m(self)\u001b[0m\n\u001b[1;32m    259\u001b[0m \u001b[38;5;28;01mdef\u001b[39;00m \u001b[38;5;21m__call__\u001b[39m(\u001b[38;5;28mself\u001b[39m):\n\u001b[1;32m    260\u001b[0m     \u001b[38;5;66;03m# Set the default nested backend to self._backend but do not set the\u001b[39;00m\n\u001b[1;32m    261\u001b[0m     \u001b[38;5;66;03m# change the default number of processes to -1\u001b[39;00m\n\u001b[1;32m    262\u001b[0m     \u001b[38;5;28;01mwith\u001b[39;00m parallel_backend(\u001b[38;5;28mself\u001b[39m\u001b[38;5;241m.\u001b[39m_backend, n_jobs\u001b[38;5;241m=\u001b[39m\u001b[38;5;28mself\u001b[39m\u001b[38;5;241m.\u001b[39m_n_jobs):\n\u001b[0;32m--> 263\u001b[0m         \u001b[38;5;28;01mreturn\u001b[39;00m [func(\u001b[38;5;241m*\u001b[39margs, \u001b[38;5;241m*\u001b[39m\u001b[38;5;241m*\u001b[39mkwargs)\n\u001b[1;32m    264\u001b[0m                 \u001b[38;5;28;01mfor\u001b[39;00m func, args, kwargs \u001b[38;5;129;01min\u001b[39;00m \u001b[38;5;28mself\u001b[39m\u001b[38;5;241m.\u001b[39mitems]\n",
      "File \u001b[0;32m~/opt/anaconda3/lib/python3.9/site-packages/joblib/parallel.py:263\u001b[0m, in \u001b[0;36m<listcomp>\u001b[0;34m(.0)\u001b[0m\n\u001b[1;32m    259\u001b[0m \u001b[38;5;28;01mdef\u001b[39;00m \u001b[38;5;21m__call__\u001b[39m(\u001b[38;5;28mself\u001b[39m):\n\u001b[1;32m    260\u001b[0m     \u001b[38;5;66;03m# Set the default nested backend to self._backend but do not set the\u001b[39;00m\n\u001b[1;32m    261\u001b[0m     \u001b[38;5;66;03m# change the default number of processes to -1\u001b[39;00m\n\u001b[1;32m    262\u001b[0m     \u001b[38;5;28;01mwith\u001b[39;00m parallel_backend(\u001b[38;5;28mself\u001b[39m\u001b[38;5;241m.\u001b[39m_backend, n_jobs\u001b[38;5;241m=\u001b[39m\u001b[38;5;28mself\u001b[39m\u001b[38;5;241m.\u001b[39m_n_jobs):\n\u001b[0;32m--> 263\u001b[0m         \u001b[38;5;28;01mreturn\u001b[39;00m [\u001b[43mfunc\u001b[49m\u001b[43m(\u001b[49m\u001b[38;5;241;43m*\u001b[39;49m\u001b[43margs\u001b[49m\u001b[43m,\u001b[49m\u001b[43m \u001b[49m\u001b[38;5;241;43m*\u001b[39;49m\u001b[38;5;241;43m*\u001b[39;49m\u001b[43mkwargs\u001b[49m\u001b[43m)\u001b[49m\n\u001b[1;32m    264\u001b[0m                 \u001b[38;5;28;01mfor\u001b[39;00m func, args, kwargs \u001b[38;5;129;01min\u001b[39;00m \u001b[38;5;28mself\u001b[39m\u001b[38;5;241m.\u001b[39mitems]\n",
      "File \u001b[0;32m~/opt/anaconda3/lib/python3.9/site-packages/sklearn/utils/parallel.py:123\u001b[0m, in \u001b[0;36m_FuncWrapper.__call__\u001b[0;34m(self, *args, **kwargs)\u001b[0m\n\u001b[1;32m    121\u001b[0m     config \u001b[38;5;241m=\u001b[39m {}\n\u001b[1;32m    122\u001b[0m \u001b[38;5;28;01mwith\u001b[39;00m config_context(\u001b[38;5;241m*\u001b[39m\u001b[38;5;241m*\u001b[39mconfig):\n\u001b[0;32m--> 123\u001b[0m     \u001b[38;5;28;01mreturn\u001b[39;00m \u001b[38;5;28;43mself\u001b[39;49m\u001b[38;5;241;43m.\u001b[39;49m\u001b[43mfunction\u001b[49m\u001b[43m(\u001b[49m\u001b[38;5;241;43m*\u001b[39;49m\u001b[43margs\u001b[49m\u001b[43m,\u001b[49m\u001b[43m \u001b[49m\u001b[38;5;241;43m*\u001b[39;49m\u001b[38;5;241;43m*\u001b[39;49m\u001b[43mkwargs\u001b[49m\u001b[43m)\u001b[49m\n",
      "File \u001b[0;32m~/opt/anaconda3/lib/python3.9/site-packages/sklearn/linear_model/_logistic.py:723\u001b[0m, in \u001b[0;36m_log_reg_scoring_path\u001b[0;34m(X, y, train, test, pos_class, Cs, scoring, fit_intercept, max_iter, tol, class_weight, verbose, solver, penalty, dual, intercept_scaling, multi_class, random_state, max_squared_sum, sample_weight, l1_ratio)\u001b[0m\n\u001b[1;32m    720\u001b[0m     sample_weight \u001b[38;5;241m=\u001b[39m _check_sample_weight(sample_weight, X)\n\u001b[1;32m    721\u001b[0m     sample_weight \u001b[38;5;241m=\u001b[39m sample_weight[train]\n\u001b[0;32m--> 723\u001b[0m coefs, Cs, n_iter \u001b[38;5;241m=\u001b[39m \u001b[43m_logistic_regression_path\u001b[49m\u001b[43m(\u001b[49m\n\u001b[1;32m    724\u001b[0m \u001b[43m    \u001b[49m\u001b[43mX_train\u001b[49m\u001b[43m,\u001b[49m\n\u001b[1;32m    725\u001b[0m \u001b[43m    \u001b[49m\u001b[43my_train\u001b[49m\u001b[43m,\u001b[49m\n\u001b[1;32m    726\u001b[0m \u001b[43m    \u001b[49m\u001b[43mCs\u001b[49m\u001b[38;5;241;43m=\u001b[39;49m\u001b[43mCs\u001b[49m\u001b[43m,\u001b[49m\n\u001b[1;32m    727\u001b[0m \u001b[43m    \u001b[49m\u001b[43ml1_ratio\u001b[49m\u001b[38;5;241;43m=\u001b[39;49m\u001b[43ml1_ratio\u001b[49m\u001b[43m,\u001b[49m\n\u001b[1;32m    728\u001b[0m \u001b[43m    \u001b[49m\u001b[43mfit_intercept\u001b[49m\u001b[38;5;241;43m=\u001b[39;49m\u001b[43mfit_intercept\u001b[49m\u001b[43m,\u001b[49m\n\u001b[1;32m    729\u001b[0m \u001b[43m    \u001b[49m\u001b[43msolver\u001b[49m\u001b[38;5;241;43m=\u001b[39;49m\u001b[43msolver\u001b[49m\u001b[43m,\u001b[49m\n\u001b[1;32m    730\u001b[0m \u001b[43m    \u001b[49m\u001b[43mmax_iter\u001b[49m\u001b[38;5;241;43m=\u001b[39;49m\u001b[43mmax_iter\u001b[49m\u001b[43m,\u001b[49m\n\u001b[1;32m    731\u001b[0m \u001b[43m    \u001b[49m\u001b[43mclass_weight\u001b[49m\u001b[38;5;241;43m=\u001b[39;49m\u001b[43mclass_weight\u001b[49m\u001b[43m,\u001b[49m\n\u001b[1;32m    732\u001b[0m \u001b[43m    \u001b[49m\u001b[43mpos_class\u001b[49m\u001b[38;5;241;43m=\u001b[39;49m\u001b[43mpos_class\u001b[49m\u001b[43m,\u001b[49m\n\u001b[1;32m    733\u001b[0m \u001b[43m    \u001b[49m\u001b[43mmulti_class\u001b[49m\u001b[38;5;241;43m=\u001b[39;49m\u001b[43mmulti_class\u001b[49m\u001b[43m,\u001b[49m\n\u001b[1;32m    734\u001b[0m \u001b[43m    \u001b[49m\u001b[43mtol\u001b[49m\u001b[38;5;241;43m=\u001b[39;49m\u001b[43mtol\u001b[49m\u001b[43m,\u001b[49m\n\u001b[1;32m    735\u001b[0m \u001b[43m    \u001b[49m\u001b[43mverbose\u001b[49m\u001b[38;5;241;43m=\u001b[39;49m\u001b[43mverbose\u001b[49m\u001b[43m,\u001b[49m\n\u001b[1;32m    736\u001b[0m \u001b[43m    \u001b[49m\u001b[43mdual\u001b[49m\u001b[38;5;241;43m=\u001b[39;49m\u001b[43mdual\u001b[49m\u001b[43m,\u001b[49m\n\u001b[1;32m    737\u001b[0m \u001b[43m    \u001b[49m\u001b[43mpenalty\u001b[49m\u001b[38;5;241;43m=\u001b[39;49m\u001b[43mpenalty\u001b[49m\u001b[43m,\u001b[49m\n\u001b[1;32m    738\u001b[0m \u001b[43m    \u001b[49m\u001b[43mintercept_scaling\u001b[49m\u001b[38;5;241;43m=\u001b[39;49m\u001b[43mintercept_scaling\u001b[49m\u001b[43m,\u001b[49m\n\u001b[1;32m    739\u001b[0m \u001b[43m    \u001b[49m\u001b[43mrandom_state\u001b[49m\u001b[38;5;241;43m=\u001b[39;49m\u001b[43mrandom_state\u001b[49m\u001b[43m,\u001b[49m\n\u001b[1;32m    740\u001b[0m \u001b[43m    \u001b[49m\u001b[43mcheck_input\u001b[49m\u001b[38;5;241;43m=\u001b[39;49m\u001b[38;5;28;43;01mFalse\u001b[39;49;00m\u001b[43m,\u001b[49m\n\u001b[1;32m    741\u001b[0m \u001b[43m    \u001b[49m\u001b[43mmax_squared_sum\u001b[49m\u001b[38;5;241;43m=\u001b[39;49m\u001b[43mmax_squared_sum\u001b[49m\u001b[43m,\u001b[49m\n\u001b[1;32m    742\u001b[0m \u001b[43m    \u001b[49m\u001b[43msample_weight\u001b[49m\u001b[38;5;241;43m=\u001b[39;49m\u001b[43msample_weight\u001b[49m\u001b[43m,\u001b[49m\n\u001b[1;32m    743\u001b[0m \u001b[43m\u001b[49m\u001b[43m)\u001b[49m\n\u001b[1;32m    745\u001b[0m log_reg \u001b[38;5;241m=\u001b[39m LogisticRegression(solver\u001b[38;5;241m=\u001b[39msolver, multi_class\u001b[38;5;241m=\u001b[39mmulti_class)\n\u001b[1;32m    747\u001b[0m \u001b[38;5;66;03m# The score method of Logistic Regression has a classes_ attribute.\u001b[39;00m\n",
      "File \u001b[0;32m~/opt/anaconda3/lib/python3.9/site-packages/sklearn/linear_model/_logistic.py:487\u001b[0m, in \u001b[0;36m_logistic_regression_path\u001b[0;34m(X, y, pos_class, Cs, fit_intercept, max_iter, tol, verbose, solver, coef, class_weight, dual, penalty, intercept_scaling, multi_class, random_state, check_input, max_squared_sum, sample_weight, l1_ratio, n_threads)\u001b[0m\n\u001b[1;32m    485\u001b[0m     n_iter_i \u001b[38;5;241m=\u001b[39m sol\u001b[38;5;241m.\u001b[39miteration\n\u001b[1;32m    486\u001b[0m \u001b[38;5;28;01melif\u001b[39;00m solver \u001b[38;5;241m==\u001b[39m \u001b[38;5;124m\"\u001b[39m\u001b[38;5;124mliblinear\u001b[39m\u001b[38;5;124m\"\u001b[39m:\n\u001b[0;32m--> 487\u001b[0m     coef_, intercept_, n_iter_i, \u001b[38;5;241m=\u001b[39m \u001b[43m_fit_liblinear\u001b[49m\u001b[43m(\u001b[49m\n\u001b[1;32m    488\u001b[0m \u001b[43m        \u001b[49m\u001b[43mX\u001b[49m\u001b[43m,\u001b[49m\n\u001b[1;32m    489\u001b[0m \u001b[43m        \u001b[49m\u001b[43mtarget\u001b[49m\u001b[43m,\u001b[49m\n\u001b[1;32m    490\u001b[0m \u001b[43m        \u001b[49m\u001b[43mC\u001b[49m\u001b[43m,\u001b[49m\n\u001b[1;32m    491\u001b[0m \u001b[43m        \u001b[49m\u001b[43mfit_intercept\u001b[49m\u001b[43m,\u001b[49m\n\u001b[1;32m    492\u001b[0m \u001b[43m        \u001b[49m\u001b[43mintercept_scaling\u001b[49m\u001b[43m,\u001b[49m\n\u001b[1;32m    493\u001b[0m \u001b[43m        \u001b[49m\u001b[38;5;28;43;01mNone\u001b[39;49;00m\u001b[43m,\u001b[49m\n\u001b[1;32m    494\u001b[0m \u001b[43m        \u001b[49m\u001b[43mpenalty\u001b[49m\u001b[43m,\u001b[49m\n\u001b[1;32m    495\u001b[0m \u001b[43m        \u001b[49m\u001b[43mdual\u001b[49m\u001b[43m,\u001b[49m\n\u001b[1;32m    496\u001b[0m \u001b[43m        \u001b[49m\u001b[43mverbose\u001b[49m\u001b[43m,\u001b[49m\n\u001b[1;32m    497\u001b[0m \u001b[43m        \u001b[49m\u001b[43mmax_iter\u001b[49m\u001b[43m,\u001b[49m\n\u001b[1;32m    498\u001b[0m \u001b[43m        \u001b[49m\u001b[43mtol\u001b[49m\u001b[43m,\u001b[49m\n\u001b[1;32m    499\u001b[0m \u001b[43m        \u001b[49m\u001b[43mrandom_state\u001b[49m\u001b[43m,\u001b[49m\n\u001b[1;32m    500\u001b[0m \u001b[43m        \u001b[49m\u001b[43msample_weight\u001b[49m\u001b[38;5;241;43m=\u001b[39;49m\u001b[43msample_weight\u001b[49m\u001b[43m,\u001b[49m\n\u001b[1;32m    501\u001b[0m \u001b[43m    \u001b[49m\u001b[43m)\u001b[49m\n\u001b[1;32m    502\u001b[0m     \u001b[38;5;28;01mif\u001b[39;00m fit_intercept:\n\u001b[1;32m    503\u001b[0m         w0 \u001b[38;5;241m=\u001b[39m np\u001b[38;5;241m.\u001b[39mconcatenate([coef_\u001b[38;5;241m.\u001b[39mravel(), intercept_])\n",
      "File \u001b[0;32m~/opt/anaconda3/lib/python3.9/site-packages/sklearn/svm/_base.py:1224\u001b[0m, in \u001b[0;36m_fit_liblinear\u001b[0;34m(X, y, C, fit_intercept, intercept_scaling, class_weight, penalty, dual, verbose, max_iter, tol, random_state, multi_class, loss, epsilon, sample_weight)\u001b[0m\n\u001b[1;32m   1221\u001b[0m sample_weight \u001b[38;5;241m=\u001b[39m _check_sample_weight(sample_weight, X, dtype\u001b[38;5;241m=\u001b[39mnp\u001b[38;5;241m.\u001b[39mfloat64)\n\u001b[1;32m   1223\u001b[0m solver_type \u001b[38;5;241m=\u001b[39m _get_liblinear_solver_type(multi_class, penalty, loss, dual)\n\u001b[0;32m-> 1224\u001b[0m raw_coef_, n_iter_ \u001b[38;5;241m=\u001b[39m \u001b[43mliblinear\u001b[49m\u001b[38;5;241;43m.\u001b[39;49m\u001b[43mtrain_wrap\u001b[49m\u001b[43m(\u001b[49m\n\u001b[1;32m   1225\u001b[0m \u001b[43m    \u001b[49m\u001b[43mX\u001b[49m\u001b[43m,\u001b[49m\n\u001b[1;32m   1226\u001b[0m \u001b[43m    \u001b[49m\u001b[43my_ind\u001b[49m\u001b[43m,\u001b[49m\n\u001b[1;32m   1227\u001b[0m \u001b[43m    \u001b[49m\u001b[43msp\u001b[49m\u001b[38;5;241;43m.\u001b[39;49m\u001b[43misspmatrix\u001b[49m\u001b[43m(\u001b[49m\u001b[43mX\u001b[49m\u001b[43m)\u001b[49m\u001b[43m,\u001b[49m\n\u001b[1;32m   1228\u001b[0m \u001b[43m    \u001b[49m\u001b[43msolver_type\u001b[49m\u001b[43m,\u001b[49m\n\u001b[1;32m   1229\u001b[0m \u001b[43m    \u001b[49m\u001b[43mtol\u001b[49m\u001b[43m,\u001b[49m\n\u001b[1;32m   1230\u001b[0m \u001b[43m    \u001b[49m\u001b[43mbias\u001b[49m\u001b[43m,\u001b[49m\n\u001b[1;32m   1231\u001b[0m \u001b[43m    \u001b[49m\u001b[43mC\u001b[49m\u001b[43m,\u001b[49m\n\u001b[1;32m   1232\u001b[0m \u001b[43m    \u001b[49m\u001b[43mclass_weight_\u001b[49m\u001b[43m,\u001b[49m\n\u001b[1;32m   1233\u001b[0m \u001b[43m    \u001b[49m\u001b[43mmax_iter\u001b[49m\u001b[43m,\u001b[49m\n\u001b[1;32m   1234\u001b[0m \u001b[43m    \u001b[49m\u001b[43mrnd\u001b[49m\u001b[38;5;241;43m.\u001b[39;49m\u001b[43mrandint\u001b[49m\u001b[43m(\u001b[49m\u001b[43mnp\u001b[49m\u001b[38;5;241;43m.\u001b[39;49m\u001b[43miinfo\u001b[49m\u001b[43m(\u001b[49m\u001b[38;5;124;43m\"\u001b[39;49m\u001b[38;5;124;43mi\u001b[39;49m\u001b[38;5;124;43m\"\u001b[39;49m\u001b[43m)\u001b[49m\u001b[38;5;241;43m.\u001b[39;49m\u001b[43mmax\u001b[49m\u001b[43m)\u001b[49m\u001b[43m,\u001b[49m\n\u001b[1;32m   1235\u001b[0m \u001b[43m    \u001b[49m\u001b[43mepsilon\u001b[49m\u001b[43m,\u001b[49m\n\u001b[1;32m   1236\u001b[0m \u001b[43m    \u001b[49m\u001b[43msample_weight\u001b[49m\u001b[43m,\u001b[49m\n\u001b[1;32m   1237\u001b[0m \u001b[43m\u001b[49m\u001b[43m)\u001b[49m\n\u001b[1;32m   1238\u001b[0m \u001b[38;5;66;03m# Regarding rnd.randint(..) in the above signature:\u001b[39;00m\n\u001b[1;32m   1239\u001b[0m \u001b[38;5;66;03m# seed for srand in range [0..INT_MAX); due to limitations in Numpy\u001b[39;00m\n\u001b[1;32m   1240\u001b[0m \u001b[38;5;66;03m# on 32-bit platforms, we can't get to the UINT_MAX limit that\u001b[39;00m\n\u001b[1;32m   1241\u001b[0m \u001b[38;5;66;03m# srand supports\u001b[39;00m\n\u001b[1;32m   1242\u001b[0m n_iter_max \u001b[38;5;241m=\u001b[39m \u001b[38;5;28mmax\u001b[39m(n_iter_)\n",
      "\u001b[0;31mKeyboardInterrupt\u001b[0m: "
     ]
    }
   ],
   "source": [
    "# verificaion by the p value\n",
    "l = 5\n",
    "count = 0\n",
    "#calculate covariance matrix\n",
    "\n",
    "for j in trange(400):\n",
    "    #generate data\n",
    "    Y_source, X_source, V_source, Z_source, Y_target, X_target, V_target, Z_target = generate(ns,nt, p,q, s, t, u, 0)\n",
    "\n",
    "    # calculate density ratio\n",
    "    D_s = np.concatenate((X_source, Z_source, V_source), axis = 1)\n",
    "    D_t = np.concatenate((X_target, Z_target, V_target), axis = 1)\n",
    "\n",
    "    \n",
    "    # densratio_obj = densratio(D_t, D_s)\n",
    "    # #calculate density ratio for each sample\n",
    "    # sample_density_ratio1 = densratio_obj.compute_density_ratio(D_s)\n",
    "\n",
    "    # sample_density_ratio2 = density_ratio_estimate_prob_LR(D_t, D_s)\n",
    "    # reg = LassoCV().fit(Z_source,Y_source.ravel())\n",
    "    \n",
    "    # z_ratio = density_ratio_estimate_prob_LR(Z_target[:,:p],Z_source[:,:p])\n",
    "    # v_ratio = density_ratio_estimate_prob_LR(V_target,V_source)\n",
    "    sample_density_ratio2 = density_ratio_estimate_prob_LR(D_t, D_s)\n",
    "    # sample_density_ratio2 = norm_est_ratio(D_s, D_t)\n",
    "    \n",
    "    cov1 = generate_cov_matrix(Y_source[:2000], X_source[:2000], Z_source[:2000],V_source[:2000],u,s,t, L = l, K = 20, density_ratio = sample_density_ratio2, regr = reg,true_density = False)\n",
    "    w, statistic = PCRtest(Y_source[:2000], X_source[:2000], Z_source[:2000],V_source[:2000],u,s,t, L = l, K = 20, covariate_shift = True, density_ratio = sample_density_ratio2, regr = reg,true_density = False)\n",
    "    print([w,statistic])\n",
    "    p_value = monte_carlo_p_value(100000, cov1, l, statistic)\n",
    "    print(p_value)\n",
    "    if p_value < 0.1:\n",
    "        count += 1\n",
    "probability = count/400\n"
   ]
  },
  {
   "cell_type": "code",
   "execution_count": 50,
   "id": "afcac807-7f27-4a4b-a96d-0eb5c5b08bdb",
   "metadata": {},
   "outputs": [
    {
     "data": {
      "text/plain": [
       "0.05333333333333334"
      ]
     },
     "execution_count": 50,
     "metadata": {},
     "output_type": "execute_result"
    }
   ],
   "source": [
    "probability"
   ]
  },
  {
   "cell_type": "code",
   "execution_count": null,
   "id": "8d9ede72-d347-434f-bd69-362c3a1f4ecb",
   "metadata": {},
   "outputs": [],
   "source": [
    "def multiple_test():"
   ]
  },
  {
   "cell_type": "code",
   "execution_count": null,
   "id": "de20fc20",
   "metadata": {},
   "outputs": [],
   "source": [
    "# previous code\n",
    "\n",
    "# def int_(x):\n",
    "#     if x >= 80: return 79\n",
    "#     return int(x)\n",
    "\n",
    "# def Many_Tests(m, Alpha):\n",
    "#     X = []\n",
    "#     n, p=500, 20\n",
    "#     for i in trange(m):\n",
    "#         s = np.random.normal(0, 1, p)\n",
    "#         t = s + np.random.normal(0, 0.1, p)\n",
    "#         u = np.random.normal(0, 1, p)\n",
    "#         Y_source, X_source, V_source, Z_source, Y_target, X_target, V_target, Z_target = generate(n, p, s, t, u, Alpha)\n",
    "#         u, v = PCRtest(Y_source, X_source, Z_source, L = 5, K = 20, covariate_shift = False)\n",
    "#         X.append(v)\n",
    "#     return X\n",
    "# def Density_Variance(n):\n",
    "#     a, b=0, 0\n",
    "#     for i in range(n):\n",
    "#         z = np.random.normal(0, 1, p)\n",
    "#         x = z @ s + np.random.normal(0, 1, 1)\n",
    "#         a += Covariate_Shift_Weight(x, z)**2\n",
    "#         b += np.exp((z @ t - z @ s)**2)\n",
    "#     return a/n, b/n"
   ]
  },
  {
   "cell_type": "markdown",
   "id": "db806744-0782-403a-bedf-cba165bdc3a9",
   "metadata": {},
   "source": [
    "# Power simulation"
   ]
  },
  {
   "cell_type": "markdown",
   "id": "8b5f843c-7ae5-4742-8983-4d4befc68e7e",
   "metadata": {},
   "source": [
    "1.First, we set the rejection threshold to be 0.05. We will run 1000 simulations to estimate the power and average the results over 1000 trials. Plot the power w.r.t L with fixed K = 50."
   ]
  },
  {
   "cell_type": "code",
   "execution_count": null,
   "id": "c40b676f-3439-4e4a-9dcf-e6d988bb3fc0",
   "metadata": {},
   "outputs": [],
   "source": [
    "# simulation code\n",
    "K = 20\n",
    "L = 10\n",
    "n, p = 1000, 20\n",
    "s = np.random.normal(0, 1, p)\n",
    "t = s + np.random.normal(0, 0.1, p)\n",
    "u = np.random.normal(0, 1, p)\n",
    "\n",
    "result = []\n",
    "for l in range(4, 30):\n",
    "    for i in range\n",
    "    cov1 = generate_cov_matrix(Y_source, X_source, Z_source, L = l, K = 20)\n",
    "    result.append(monte_carlo_p_value(100000, cov1, l, PCRtest(Y_source, X_source, Z_source, L = l, K = 20, covariate_shift = True)[1]))\n",
    "    \n",
    "    "
   ]
  },
  {
   "cell_type": "code",
   "execution_count": 303,
   "id": "4845e6cd-91f5-4c1d-8189-18b4c8b4ff09",
   "metadata": {},
   "outputs": [
    {
     "data": {
      "text/plain": [
       "1.0139707729582619"
      ]
     },
     "execution_count": 303,
     "metadata": {},
     "output_type": "execute_result"
    }
   ],
   "source": [
    "x = np.random.normal(0,25,500)\n",
    "y = np.random.normal(2,1,500)\n",
    "sum = 0\n",
    "for i in range(500):\n",
    "    sum += norm.pdf(x[i], loc = 5, scale = 25)/norm.pdf(x[i], loc = 0, scale = 25)\n",
    "sum/500"
   ]
  },
  {
   "cell_type": "markdown",
   "id": "3cd2a91a-caa4-42e8-b59c-014dfdb76af9",
   "metadata": {},
   "source": [
    "# Comparison with resampling method\n"
   ]
  },
  {
   "cell_type": "code",
   "execution_count": 274,
   "id": "07798c89-1e23-4cdb-93c2-aeb46b402dbf",
   "metadata": {},
   "outputs": [],
   "source": [
    "def resample(Y_source, X_source, Z_source, V_source, M, true_density = True,density_ratio = None):\n",
    "    n = Y_source.shape[0]\n",
    "    Y_, X_, Z_, V_ = [], [], [], []\n",
    "    if true_density:\n",
    "        for i in range(n):\n",
    "            value = true_density_ratio(X_source[i], Z_source[i], V_source[i], s, t, p,q)\n",
    "            u = np.random.random()\n",
    "            if value >= u * M:\n",
    "                Y_.append(Y_source[i])\n",
    "                X_.append(X_source[i])\n",
    "                Z_.append(Z_source[i])\n",
    "                V_.append(V_source[i])\n",
    "    else:\n",
    "        for i in range(n):\n",
    "            value = density_ratio[i]\n",
    "            u = np.random.random()\n",
    "            if value >= u * M:\n",
    "                Y_.append(Y_source[i])\n",
    "                X_.append(X_source[i])\n",
    "                Z_.append(Z_source[i])\n",
    "                V_.append(V_source[i])\n",
    "    Y_, X_, Z_, V_ = np.array(Y_) , np.array(X_), np.array(Z_), np.array(V_)\n",
    "    return Y_, X_, Z_, V_"
   ]
  },
  {
   "cell_type": "code",
   "execution_count": 275,
   "id": "74c3b46d-1493-457f-86d5-f1a5d3ec32e8",
   "metadata": {},
   "outputs": [
    {
     "name": "stdout",
     "output_type": "stream",
     "text": [
      "[0.48769668]\n",
      "[12.77072411]\n",
      "[0.00167716]\n"
     ]
    }
   ],
   "source": [
    "Y_source, X_source, V_source, Z_source, Y_target, X_target, V_target, Z_target = generate(ns,nt, p,q, s, t, u, 0)\n",
    "\n",
    "sample_density_ratio2 = norm_est_ratio(D_s, D_t)\n",
    "# sample_density_ratio2 = density_ratio_estimate_prob_LR(D_t, D_s)\n",
    "\n",
    "sum = 0\n",
    "max = 0\n",
    "min = np.inf\n",
    "true_list = []\n",
    "for i in range(1000):\n",
    "    value = true_density_ratio(X_source[i], Z_source[i], V_source[i], s, t, p,q)\n",
    "    true_list.append(value)\n",
    "    if value <= min:\n",
    "        min = value\n",
    "    elif value >= max:\n",
    "        max = value\n",
    "    sum += value\n",
    "    # print(true_density_ratio(X_source[i], Z_source[i], V_source[i], s, t))\n",
    "    # print(Z_source[i]@s + X_source[i] - Z_source[i]@t + X_source[i])\n",
    "print(sum/2000)\n",
    "print(max)\n",
    "print(min)"
   ]
  },
  {
   "cell_type": "code",
   "execution_count": 276,
   "id": "1a8d41d7-2e43-49ca-a3a6-3443c3542734",
   "metadata": {},
   "outputs": [
    {
     "data": {
      "text/plain": [
       "(array([13., 16., 18., 21., 15.]), 2.240963855421687)"
      ]
     },
     "execution_count": 276,
     "metadata": {},
     "output_type": "execute_result"
    }
   ],
   "source": [
    "Y_, X_, Z_, V_ = resample(Y_source, X_source, Z_source, V_source, max,true_density=False, density_ratio=sample_density_ratio2)\n",
    "PCRtest(Y_, X_, Z_, V_, u, s, t, L = 5, K = 20, covariate_shift = False, density_ratio = sample_density_ratio2, regr = reg)"
   ]
  },
  {
   "cell_type": "code",
   "execution_count": 277,
   "id": "d4dfa4f8-b2d6-4a99-900c-b6483e7a4f15",
   "metadata": {},
   "outputs": [
    {
     "data": {
      "text/plain": [
       "(83, 1)"
      ]
     },
     "execution_count": 277,
     "metadata": {},
     "output_type": "execute_result"
    }
   ],
   "source": [
    "Y_.shape"
   ]
  },
  {
   "cell_type": "markdown",
   "id": "77aeb9ec-c50e-446c-b9db-b56113696c53",
   "metadata": {},
   "source": [
    "# 6. Function testing code"
   ]
  },
  {
   "cell_type": "code",
   "execution_count": 660,
   "id": "1cbeed86-6367-4fc9-aa65-231c827151c3",
   "metadata": {},
   "outputs": [
    {
     "data": {
      "image/png": "[encoded data removed]",
      "text/plain": [
       "<Figure size 640x480 with 1 Axes>"
      ]
     },
     "metadata": {},
     "output_type": "display_data"
    }
   ],
   "source": [
    "# Test density ratio estimation\n",
    "nn = 200\n",
    "\n",
    "o = np.random.normal(1, 1, (nn,1))\n",
    "a = np.random.normal(2, 1, (nn,1))\n",
    "d = density_ratio_estimate_prob_LR(o,a,Z_known=False)\n",
    "\n",
    "true = []\n",
    "for i in a:\n",
    "    true.append(np.exp(1/2 - i.sum()))\n",
    "\n",
    "import matplotlib.pyplot as plt\n",
    "\n",
    "\n",
    "# Generate x-axis values\n",
    "x = range(nn)\n",
    "\n",
    "# Create the plot with two lines\n",
    "plt.plot(x, true, label='true')\n",
    "plt.plot(x, d, label='estimate')\n",
    "\n",
    "# Add labels, title, and legend\n",
    "plt.xlabel('X')\n",
    "plt.ylabel('Y')\n",
    "plt.title('Plot true and estimate dr')\n",
    "plt.legend()\n",
    "\n",
    "# Show the plot\n",
    "plt.show()\n"
   ]
  },
  {
   "cell_type": "code",
   "execution_count": null,
   "id": "5f378f23-3458-4080-b91a-1b3f7d1c8705",
   "metadata": {},
   "outputs": [],
   "source": []
  },
  {
   "cell_type": "code",
   "execution_count": null,
   "id": "89c20183-9851-415e-84f0-228512a41e58",
   "metadata": {},
   "outputs": [],
   "source": []
  }
 ],
 "metadata": {
  "kernelspec": {
   "display_name": "Python 3 (ipykernel)",
   "language": "python",
   "name": "python3"
  },
  "language_info": {
   "codemirror_mode": {
    "name": "ipython",
    "version": 3
   },
   "file_extension": ".py",
   "mimetype": "text/x-python",
   "name": "python",
   "nbconvert_exporter": "python",
   "pygments_lexer": "ipython3",
   "version": "3.9.16"
  }
 },
 "nbformat": 4,
 "nbformat_minor": 5
}
