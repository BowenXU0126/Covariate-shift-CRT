{
 "cells": [
  {
   "cell_type": "code",
   "execution_count": 1,
   "id": "f276cf02",
   "metadata": {},
   "outputs": [],
   "source": [
    "import numpy as np\n",
    "import pandas as pd\n",
    "import matplotlib.pyplot as plt\n",
    "from scipy.stats import norm, chi2, truncnorm\n",
    "from tqdm import trange\n",
    "import ite7"
   ]
  },
  {
   "cell_type": "code",
   "execution_count": 249,
   "id": "45050627",
   "metadata": {},
   "outputs": [],
   "source": [
    "def Covariate_Shift_Weight(x, z, v):\n",
    "    return 1\n",
    "\n",
    "def Model_X(z, v):\n",
    "    return z + v**2 + np.random.normal(0, 1, 1)\n",
    "\n",
    "#gi\n",
    "def T_statistic(y, x, z, v):\n",
    "    return (y - 1.5*x - z * v) ** 2"
   ]
  },
  {
   "cell_type": "code",
   "execution_count": 250,
   "id": "4ee27feb",
   "metadata": {},
   "outputs": [],
   "source": [
    "def Conterfeits(y, x, z, v, L = 5, K = 10):\n",
    "    M = L * K - 1\n",
    "    cnt = 0\n",
    "    \n",
    "    for i in range(M):\n",
    "        x_ = Model_X(z, v)\n",
    "        if T_statistic(y, x, z, v) > T_statistic(y, x_, z, v):\n",
    "            cnt=cnt+1\n",
    "            \n",
    "    return cnt // K\n",
    "\n",
    "def PCRtest(Y, X, Z, V, L = 5, K = 20, covariate_shift = True):\n",
    "    n = Y.size\n",
    "    W = np.array([0]*L)\n",
    "    \n",
    "    for j in range(n):\n",
    "        y, x, z, v = Y[j], X[j], Z[j], V[j]\n",
    "        if covariate_shift == True:\n",
    "            W[Conterfeits(y, x, z, v, L, K)] += Covariate_Shift_Weight(x, z, v)\n",
    "        if covariate_shift == False:\n",
    "            W[Conterfeits(y, x, z, v, L, K)] += 1\n",
    "            \n",
    "    return W, L/n * np.dot(W - n/L, W - n/L)"
   ]
  },
  {
   "cell_type": "code",
   "execution_count": 251,
   "id": "b71bf1c8",
   "metadata": {},
   "outputs": [],
   "source": [
    "n=500\n",
    "Z = np.random.normal(1, 1, n)\n",
    "V = np.random.normal(1, 1, n)\n",
    "X = Z + V**2 + np.random.normal(0, 1, n)\n",
    "Y = Z * V + np.random.normal(0, 1, n) + 0.5*X"
   ]
  },
  {
   "cell_type": "code",
   "execution_count": 252,
   "id": "c8fd609a",
   "metadata": {},
   "outputs": [
    {
     "data": {
      "text/plain": [
       "(array([124,  95, 110,  88,  83]), 11.34)"
      ]
     },
     "execution_count": 252,
     "metadata": {},
     "output_type": "execute_result"
    }
   ],
   "source": [
    "PCRtest(Y, X, Z, V, L = 5, K = 20, covariate_shift = True)"
   ]
  },
  {
   "cell_type": "code",
   "execution_count": null,
   "id": "cca187e3",
   "metadata": {},
   "outputs": [],
   "source": []
  }
 ],
 "metadata": {
  "kernelspec": {
   "display_name": "Python 3 (ipykernel)",
   "language": "python",
   "name": "python3"
  },
  "language_info": {
   "codemirror_mode": {
    "name": "ipython",
    "version": 3
   },
   "file_extension": ".py",
   "mimetype": "text/x-python",
   "name": "python",
   "nbconvert_exporter": "python",
   "pygments_lexer": "ipython3",
   "version": "3.9.13"
  }
 },
 "nbformat": 4,
 "nbformat_minor": 5
}
