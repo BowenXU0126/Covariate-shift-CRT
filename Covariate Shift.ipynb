{
 "cells": [
  {
   "cell_type": "code",
   "execution_count": 70,
   "id": "f276cf02",
   "metadata": {},
   "outputs": [],
   "source": [
    "import numpy as np\n",
    "import pandas as pd\n",
    "import matplotlib.pyplot as plt\n",
    "from scipy.stats import norm, chi2, truncnorm\n",
    "from tqdm import trange\n",
    "from sklearn import linear_model\n",
    "from sklearn.linear_model import LassoCV\n",
    "from sklearn.linear_model import Lasso\n",
    "\n",
    "import matplotlib.pyplot as plt"
   ]
  },
  {
   "cell_type": "markdown",
   "id": "2477d71f-6e89-4daf-ba46-c70817843f11",
   "metadata": {},
   "source": [
    "# Functions"
   ]
  },
  {
   "cell_type": "code",
   "execution_count": 197,
   "id": "350cf0d2-13aa-4f9c-b4b9-389460865eaf",
   "metadata": {},
   "outputs": [],
   "source": [
    "import numpy as np\n",
    "from sklearn.linear_model import LogisticRegression\n",
    "\n",
    "def density_ratio_estimate_prob(D_nu, D_de):\n",
    "    l_nu = np.ones(len(D_nu))\n",
    "    l_de = np.zeros(len(D_de))\n",
    "    \n",
    "    l = np.concatenate((l_nu, l_de))\n",
    "    D = np.concatenate((D_nu, D_de))\n",
    "    \n",
    "    #fit losgistic model\n",
    "    C = 0.1\n",
    "    model = LogisticRegression(penalty= 'l2', C= C)\n",
    "    model.fit(D, l)\n",
    "    \n",
    "    # get density ratios for all samples\n",
    "    density_ratios = (model.predict_proba(D_de)[:, 1] / model.predict_proba(D_nu)[:, 0])*(len(D_de)/len(D_nu))\n",
    "    \n",
    "    return density_ratios\n",
    "\n",
    "\n",
    "def Covariate_Shift_Weight(x, z, v = 0):\n",
    "    return np.exp(((x - z @ s)**2 - (x - z @ t)**2)/2)\n",
    "\n",
    "def Model_X(z, v):\n",
    "    return z @ u + np.random.normal(0, 1, 1)\n",
    "\n",
    "def T_statistic(y, x, z, v = 0):\n",
    "    d_y = reg.predict(z.reshape(1,20))\n",
    "    d_x = z @ u\n",
    "    return np.abs((y-d_y)*(x-d_x))\n",
    "\n",
    "def Conterfeits(y, x, z, v = 0, L = 5, K = 10):\n",
    "    M = L * K - 1\n",
    "    cnt = 0 \n",
    "    \n",
    "    for i in range(M):\n",
    "        x_ = Model_X(z, v)\n",
    "        if T_statistic(y, x, z, v) > T_statistic(y, x_, z, v):\n",
    "            cnt=cnt+1\n",
    "            \n",
    "    return cnt // K\n",
    "\n",
    "def PCRtest(Y, X, Z, V = 0, L = 5, K = 20, covariate_shift = True):\n",
    "    n = Y.size\n",
    "    W = np.array([0.0]*L)\n",
    "    \n",
    "    for j in range(n):\n",
    "        y, x, z, v = Y[j], X[j], Z[j], 0\n",
    "        if covariate_shift == True:\n",
    "            W[Conterfeits(y, x, z, v, L, K)] += sample_density_ratio[j]\n",
    "        if covariate_shift == False:\n",
    "            W[Conterfeits(y, x, z, v, L, K)] += 1\n",
    "            \n",
    "    return W, L/n * np.dot(W - n/L, W - n/L)\n",
    "\n",
    "def generate_cov_mat():\n",
    "    "
   ]
  },
  {
   "cell_type": "code",
   "execution_count": 198,
   "id": "93657a58-79da-400b-8064-fc5ba7d5885a",
   "metadata": {},
   "outputs": [],
   "source": [
    "import scipy.stats as stats\n",
    "\n",
    "def chi_squared_p_value(chi_squared_statistic, df):\n",
    "    \"\"\"\n",
    "    Calculate the p-value from a chi-squared distribution.\n",
    "\n",
    "    Parameters:\n",
    "    - chi_squared_statistic (float): The observed chi-squared test statistic.\n",
    "    - df (int): The degrees of freedom.\n",
    "\n",
    "    Returns:\n",
    "    - p_value (float): The calculated p-value.\n",
    "    \"\"\"\n",
    "    p_value = 1 - stats.chi2.cdf(chi_squared_statistic, df)\n",
    "    return p_value\n",
    "\n",
    "def monte_carlo_p_value(n_samples, covariance_matrix, L, quantile):\n",
    "    \"\"\"\n",
    "    Calculate the probability corresponding to a given quantile using the Monte Carlo method.\n",
    "\n",
    "    Parameters:\n",
    "    - n_samples (int): The number of Monte Carlo samples to generate.\n",
    "    - covariance_matrix (ndarray): The covariance matrix of the random vector X.\n",
    "    - L (int): The number of components to sum.\n",
    "    - quantile (float): The quantile value.\n",
    "\n",
    "    Returns:\n",
    "    - probability (float): The estimated probability corresponding to the quantile.\n",
    "    \"\"\"\n",
    "    count = 0\n",
    "    for _ in range(n_samples):\n",
    "        sample = np.random.multivariate_normal(np.zeros(L), covariance_matrix)\n",
    "        squared_sum = np.sum(sample**2)\n",
    "        if squared_sum <= quantile:\n",
    "            count += 1\n",
    "\n",
    "    probability = count / n_samples\n",
    "    return 1-probability\n",
    "\n",
    "\n",
    "\n",
    "def generate_covariance_matrix(L):\n",
    "    \"\"\"\n",
    "    Generate a covariance matrix with the specified properties.\n",
    "\n",
    "    Parameters:\n",
    "    - L (int): The size of the covariance matrix.\n",
    "\n",
    "    Returns:\n",
    "    - covariance_matrix (ndarray): The generated covariance matrix.\n",
    "    \"\"\"\n",
    "    covariance_matrix = np.full((L, L), 1/L)  # Fill all entries with 1/L\n",
    "    np.fill_diagonal(covariance_matrix, 1 - 1/(L**2))  # Set diagonal entries to 1 - 1/L^2\n",
    "    return covariance_matrix"
   ]
  },
  {
   "cell_type": "markdown",
   "id": "34841abf",
   "metadata": {},
   "source": [
    "# 生成数据"
   ]
  },
  {
   "cell_type": "code",
   "execution_count": 217,
   "id": "b71bf1c8",
   "metadata": {},
   "outputs": [],
   "source": [
    "n, p = 2000, 20\n",
    "s = np.random.normal(0, 1, p)\n",
    "t = s + np.random.normal(0, 0.1, p)\n",
    "u = np.random.normal(0, 1, p)"
   ]
  },
  {
   "cell_type": "code",
   "execution_count": 236,
   "id": "8a429fec",
   "metadata": {},
   "outputs": [],
   "source": [
    "def generate(n, p, s, t, u, Alpha = 0):\n",
    "    Z_source, Z_target = np.zeros((n, p)), np.zeros((n, p))\n",
    "    V_source, V_target = 0, 0\n",
    "    for i in range(n):\n",
    "        Z_source[i] = np.random.normal(0, 1, p)\n",
    "        Z_target[i] = np.random.normal(0.1, 1, p)\n",
    "        \n",
    "    X_source = Z_source @ u + np.random.normal(0, 1, n)\n",
    "    X_target = Z_target @ u + np.random.normal(0, 1, n)\n",
    "    \n",
    "    V_source = Z_source @ s - X_source + np.random.normal(0, 1, n)\n",
    "    V_target = Z_target @ t + X_target + np.random.normal(0, 1, n)\n",
    "    \n",
    "    Y_source, Y_target = np.zeros(n), np.zeros(n)\n",
    "    for i in range(n):\n",
    "        Y_source[i] = np.sin(Z_source[i].sum() + X_source[i] + V_source[i]) + np.random.normal(0, 1, 1) + Alpha * X_source[i]\n",
    "        Y_target[i] = np.sin(Z_target[i].sum() + X_target[i] + V_target[i]) + np.random.normal(0, 1, 1) + Alpha * X_target[i]\n",
    "    return Y_source.reshape(-1,1), X_source.reshape(-1,1), V_source.reshape(-1,1), Z_source,\\\n",
    "           Y_target.reshape(-1,1), X_target.reshape(-1,1), V_target.reshape(-1,1), Z_target"
   ]
  },
  {
   "cell_type": "code",
   "execution_count": 237,
   "id": "0083f3ed",
   "metadata": {},
   "outputs": [],
   "source": [
    "Y_source, X_source, V_source, Z_source, Y_target, X_target, V_target, Z_target = generate(n, p, s, t, u, 0)"
   ]
  },
  {
   "cell_type": "code",
   "execution_count": 238,
   "id": "9040e78e",
   "metadata": {},
   "outputs": [
    {
     "name": "stderr",
     "output_type": "stream",
     "text": [
      "/Users/bowenxu/opt/anaconda3/lib/python3.9/site-packages/sklearn/linear_model/_coordinate_descent.py:1568: DataConversionWarning: A column-vector y was passed when a 1d array was expected. Please change the shape of y to (n_samples, ), for example using ravel().\n",
      "  y = column_or_1d(y, warn=True)\n"
     ]
    },
    {
     "data": {
      "text/plain": [
       "array([-0.279046])"
      ]
     },
     "execution_count": 238,
     "metadata": {},
     "output_type": "execute_result"
    }
   ],
   "source": [
    "* add density ratio\n",
    "reg = LassoCV().fit(Z_source,Y_source)\n",
    "Y_source[3]"
   ]
  },
  {
   "cell_type": "code",
   "execution_count": 239,
   "id": "34a97e82-2190-4f7b-b6ba-c7fd901dcbab",
   "metadata": {
    "collapsed": true,
    "jupyter": {
     "outputs_hidden": true
    },
    "tags": []
   },
   "outputs": [
    {
     "name": "stdout",
     "output_type": "stream",
     "text": [
      "RuLSIF starting...\n",
      "Searching for the optimal sigma and lambda...\n",
      "sigma = 0.00100, lambda = 0.00100, score = 0.00000\n",
      "sigma = 0.00100, lambda = 0.01000, score = -0.00000\n",
      "sigma = 0.00100, lambda = 0.10000, score = 0.00000\n",
      "sigma = 0.00100, lambda = 1.00000, score = 0.00000\n",
      "sigma = 0.00100, lambda = 10.00000, score = 0.00000\n",
      "sigma = 0.00100, lambda = 100.00000, score = 0.00000\n",
      "sigma = 0.00100, lambda = 1000.00000, score = 0.00000\n",
      "sigma = 0.00100, lambda = 10000.00000, score = -0.00000\n",
      "sigma = 0.00100, lambda = 100000.00000, score = 0.00000\n",
      "sigma = 0.00100, lambda = 1000000.00000, score = 0.00000\n",
      "sigma = 0.00100, lambda = 10000000.00000, score = -0.00000\n",
      "sigma = 0.00100, lambda = 100000000.00000, score = 0.00000\n",
      "sigma = 0.00100, lambda = 1000000000.00000, score = 0.00000\n",
      "sigma = 0.01000, lambda = 0.00100, score = 0.00000\n",
      "sigma = 0.01000, lambda = 0.01000, score = -0.00000\n",
      "sigma = 0.01000, lambda = 0.10000, score = 0.00000\n",
      "sigma = 0.01000, lambda = 1.00000, score = 0.00000\n",
      "sigma = 0.01000, lambda = 10.00000, score = 0.00000\n",
      "sigma = 0.01000, lambda = 100.00000, score = 0.00000\n",
      "sigma = 0.01000, lambda = 1000.00000, score = 0.00000\n",
      "sigma = 0.01000, lambda = 10000.00000, score = -0.00000\n",
      "sigma = 0.01000, lambda = 100000.00000, score = 0.00000\n",
      "sigma = 0.01000, lambda = 1000000.00000, score = 0.00000\n",
      "sigma = 0.01000, lambda = 10000000.00000, score = -0.00000\n",
      "sigma = 0.01000, lambda = 100000000.00000, score = 0.00000\n",
      "sigma = 0.01000, lambda = 1000000000.00000, score = 0.00000\n",
      "sigma = 0.10000, lambda = 0.00100, score = -0.00000\n",
      "sigma = 0.10000, lambda = 0.01000, score = -0.00000\n",
      "sigma = 0.10000, lambda = 0.10000, score = -0.00000\n",
      "sigma = 0.10000, lambda = 1.00000, score = -0.00000\n",
      "sigma = 0.10000, lambda = 10.00000, score = -0.00000\n",
      "sigma = 0.10000, lambda = 100.00000, score = -0.00000\n",
      "sigma = 0.10000, lambda = 1000.00000, score = -0.00000\n",
      "sigma = 0.10000, lambda = 10000.00000, score = -0.00000\n",
      "sigma = 0.10000, lambda = 100000.00000, score = -0.00000\n",
      "sigma = 0.10000, lambda = 1000000.00000, score = -0.00000\n",
      "sigma = 0.10000, lambda = 10000000.00000, score = -0.00000\n",
      "sigma = 0.10000, lambda = 100000000.00000, score = -0.00000\n",
      "sigma = 0.10000, lambda = 1000000000.00000, score = -0.00000\n",
      "sigma = 1.00000, lambda = 0.00100, score = -0.00011\n",
      "sigma = 1.00000, lambda = 0.01000, score = -0.00001\n",
      "sigma = 1.00000, lambda = 0.10000, score = -0.00000\n",
      "sigma = 1.00000, lambda = 1.00000, score = -0.00000\n",
      "sigma = 1.00000, lambda = 10.00000, score = -0.00000\n",
      "sigma = 1.00000, lambda = 100.00000, score = -0.00000\n",
      "sigma = 1.00000, lambda = 1000.00000, score = -0.00000\n",
      "sigma = 1.00000, lambda = 10000.00000, score = -0.00000\n",
      "sigma = 1.00000, lambda = 100000.00000, score = -0.00000\n",
      "sigma = 1.00000, lambda = 1000000.00000, score = -0.00000\n",
      "sigma = 1.00000, lambda = 10000000.00000, score = -0.00000\n",
      "sigma = 1.00000, lambda = 100000000.00000, score = -0.00000\n",
      "sigma = 1.00000, lambda = 1000000000.00000, score = -0.00000\n",
      "sigma = 10.00000, lambda = 0.00100, score = 2649.48766\n",
      "sigma = 10.00000, lambda = 0.01000, score = 315.85929\n",
      "sigma = 10.00000, lambda = 0.10000, score = 7.96991\n",
      "sigma = 10.00000, lambda = 1.00000, score = -0.62111\n",
      "sigma = 10.00000, lambda = 10.00000, score = -0.47836\n",
      "sigma = 10.00000, lambda = 100.00000, score = -0.20439\n",
      "sigma = 10.00000, lambda = 1000.00000, score = -0.02877\n",
      "sigma = 10.00000, lambda = 10000.00000, score = -0.00299\n",
      "sigma = 10.00000, lambda = 100000.00000, score = -0.00030\n",
      "sigma = 10.00000, lambda = 1000000.00000, score = -0.00003\n",
      "sigma = 10.00000, lambda = 10000000.00000, score = -0.00000\n",
      "sigma = 10.00000, lambda = 100000000.00000, score = -0.00000\n",
      "sigma = 10.00000, lambda = 1000000000.00000, score = -0.00000\n",
      "sigma = 100.00000, lambda = 0.00100, score = 151.72120\n",
      "sigma = 100.00000, lambda = 0.01000, score = 1.41566\n",
      "sigma = 100.00000, lambda = 0.10000, score = -0.50021\n",
      "sigma = 100.00000, lambda = 1.00000, score = -0.49994\n",
      "sigma = 100.00000, lambda = 10.00000, score = -0.49566\n",
      "sigma = 100.00000, lambda = 100.00000, score = -0.37282\n",
      "sigma = 100.00000, lambda = 1000.00000, score = -0.08553\n",
      "sigma = 100.00000, lambda = 10000.00000, score = -0.00969\n",
      "sigma = 100.00000, lambda = 100000.00000, score = -0.00098\n",
      "sigma = 100.00000, lambda = 1000000.00000, score = -0.00010\n",
      "sigma = 100.00000, lambda = 10000000.00000, score = -0.00001\n",
      "sigma = 100.00000, lambda = 100000000.00000, score = -0.00000\n",
      "sigma = 100.00000, lambda = 1000000000.00000, score = -0.00000\n",
      "sigma = 1000.00000, lambda = 0.00100, score = -0.49974\n",
      "sigma = 1000.00000, lambda = 0.01000, score = -0.50000\n",
      "sigma = 1000.00000, lambda = 0.10000, score = -0.50000\n",
      "sigma = 1000.00000, lambda = 1.00000, score = -0.49995\n",
      "sigma = 1000.00000, lambda = 10.00000, score = -0.49583\n",
      "sigma = 1000.00000, lambda = 100.00000, score = -0.37492\n",
      "sigma = 1000.00000, lambda = 1000.00000, score = -0.08676\n",
      "sigma = 1000.00000, lambda = 10000.00000, score = -0.00985\n",
      "sigma = 1000.00000, lambda = 100000.00000, score = -0.00100\n",
      "sigma = 1000.00000, lambda = 1000000.00000, score = -0.00010\n",
      "sigma = 1000.00000, lambda = 10000000.00000, score = -0.00001\n",
      "sigma = 1000.00000, lambda = 100000000.00000, score = -0.00000\n",
      "sigma = 1000.00000, lambda = 1000000000.00000, score = -0.00000\n",
      "sigma = 10000.00000, lambda = 0.00100, score = -0.50000\n",
      "sigma = 10000.00000, lambda = 0.01000, score = -0.50000\n",
      "sigma = 10000.00000, lambda = 0.10000, score = -0.50000\n",
      "sigma = 10000.00000, lambda = 1.00000, score = -0.49995\n",
      "sigma = 10000.00000, lambda = 10.00000, score = -0.49583\n",
      "sigma = 10000.00000, lambda = 100.00000, score = -0.37494\n",
      "sigma = 10000.00000, lambda = 1000.00000, score = -0.08677\n",
      "sigma = 10000.00000, lambda = 10000.00000, score = -0.00985\n",
      "sigma = 10000.00000, lambda = 100000.00000, score = -0.00100\n",
      "sigma = 10000.00000, lambda = 1000000.00000, score = -0.00010\n",
      "sigma = 10000.00000, lambda = 10000000.00000, score = -0.00001\n",
      "sigma = 10000.00000, lambda = 100000000.00000, score = -0.00000\n",
      "sigma = 10000.00000, lambda = 1000000000.00000, score = -0.00000\n",
      "sigma = 100000.00000, lambda = 0.00100, score = -0.50000\n",
      "sigma = 100000.00000, lambda = 0.01000, score = -0.50000\n",
      "sigma = 100000.00000, lambda = 0.10000, score = -0.50000\n",
      "sigma = 100000.00000, lambda = 1.00000, score = -0.49995\n",
      "sigma = 100000.00000, lambda = 10.00000, score = -0.49583\n",
      "sigma = 100000.00000, lambda = 100.00000, score = -0.37494\n",
      "sigma = 100000.00000, lambda = 1000.00000, score = -0.08677\n",
      "sigma = 100000.00000, lambda = 10000.00000, score = -0.00985\n",
      "sigma = 100000.00000, lambda = 100000.00000, score = -0.00100\n",
      "sigma = 100000.00000, lambda = 1000000.00000, score = -0.00010\n",
      "sigma = 100000.00000, lambda = 10000000.00000, score = -0.00001\n",
      "sigma = 100000.00000, lambda = 100000000.00000, score = -0.00000\n",
      "sigma = 100000.00000, lambda = 1000000000.00000, score = -0.00000\n",
      "sigma = 1000000.00000, lambda = 0.00100, score = -0.50000\n",
      "sigma = 1000000.00000, lambda = 0.01000, score = -0.50000\n",
      "sigma = 1000000.00000, lambda = 0.10000, score = -0.50000\n",
      "sigma = 1000000.00000, lambda = 1.00000, score = -0.49995\n",
      "sigma = 1000000.00000, lambda = 10.00000, score = -0.49583\n",
      "sigma = 1000000.00000, lambda = 100.00000, score = -0.37494\n",
      "sigma = 1000000.00000, lambda = 1000.00000, score = -0.08677\n",
      "sigma = 1000000.00000, lambda = 10000.00000, score = -0.00985\n",
      "sigma = 1000000.00000, lambda = 100000.00000, score = -0.00100\n",
      "sigma = 1000000.00000, lambda = 1000000.00000, score = -0.00010\n",
      "sigma = 1000000.00000, lambda = 10000000.00000, score = -0.00001\n",
      "sigma = 1000000.00000, lambda = 100000000.00000, score = -0.00000\n",
      "sigma = 1000000.00000, lambda = 1000000000.00000, score = -0.00000\n",
      "sigma = 10000000.00000, lambda = 0.00100, score = -0.50000\n",
      "sigma = 10000000.00000, lambda = 0.01000, score = -0.50000\n",
      "sigma = 10000000.00000, lambda = 0.10000, score = -0.50000\n",
      "sigma = 10000000.00000, lambda = 1.00000, score = -0.49995\n",
      "sigma = 10000000.00000, lambda = 10.00000, score = -0.49583\n",
      "sigma = 10000000.00000, lambda = 100.00000, score = -0.37494\n",
      "sigma = 10000000.00000, lambda = 1000.00000, score = -0.08677\n",
      "sigma = 10000000.00000, lambda = 10000.00000, score = -0.00985\n",
      "sigma = 10000000.00000, lambda = 100000.00000, score = -0.00100\n",
      "sigma = 10000000.00000, lambda = 1000000.00000, score = -0.00010\n",
      "sigma = 10000000.00000, lambda = 10000000.00000, score = -0.00001\n",
      "sigma = 10000000.00000, lambda = 100000000.00000, score = -0.00000\n",
      "sigma = 10000000.00000, lambda = 1000000000.00000, score = -0.00000\n",
      "sigma = 100000000.00000, lambda = 0.00100, score = -0.50000\n",
      "sigma = 100000000.00000, lambda = 0.01000, score = -0.50000\n",
      "sigma = 100000000.00000, lambda = 0.10000, score = -0.50000\n",
      "sigma = 100000000.00000, lambda = 1.00000, score = -0.49995\n",
      "sigma = 100000000.00000, lambda = 10.00000, score = -0.49583\n",
      "sigma = 100000000.00000, lambda = 100.00000, score = -0.37494\n",
      "sigma = 100000000.00000, lambda = 1000.00000, score = -0.08677\n",
      "sigma = 100000000.00000, lambda = 10000.00000, score = -0.00985\n",
      "sigma = 100000000.00000, lambda = 100000.00000, score = -0.00100\n",
      "sigma = 100000000.00000, lambda = 1000000.00000, score = -0.00010\n",
      "sigma = 100000000.00000, lambda = 10000000.00000, score = -0.00001\n",
      "sigma = 100000000.00000, lambda = 100000000.00000, score = -0.00000\n",
      "sigma = 100000000.00000, lambda = 1000000000.00000, score = -0.00000\n",
      "sigma = 1000000000.00000, lambda = 0.00100, score = -0.50000\n",
      "sigma = 1000000000.00000, lambda = 0.01000, score = -0.50000\n",
      "sigma = 1000000000.00000, lambda = 0.10000, score = -0.50000\n",
      "sigma = 1000000000.00000, lambda = 1.00000, score = -0.49995\n",
      "sigma = 1000000000.00000, lambda = 10.00000, score = -0.49583\n",
      "sigma = 1000000000.00000, lambda = 100.00000, score = -0.37494\n",
      "sigma = 1000000000.00000, lambda = 1000.00000, score = -0.08677\n",
      "sigma = 1000000000.00000, lambda = 10000.00000, score = -0.00985\n",
      "sigma = 1000000000.00000, lambda = 100000.00000, score = -0.00100\n",
      "sigma = 1000000000.00000, lambda = 1000000.00000, score = -0.00010\n",
      "sigma = 1000000000.00000, lambda = 10000000.00000, score = -0.00001\n",
      "sigma = 1000000000.00000, lambda = 100000000.00000, score = -0.00000\n",
      "sigma = 1000000000.00000, lambda = 1000000000.00000, score = -0.00000\n",
      "Found optimal sigma = 10.000, lambda = 1.000.\n",
      "Optimizing theta...\n",
      "Approximate alpha-relative PE-divergence = 0.12\n",
      "Approximate alpha-relative KL-divergence = 0.15\n",
      "RuLSIF completed.\n"
     ]
    }
   ],
   "source": [
    "from densratio import densratio\n",
    "\n",
    "D_s = np.concatenate((X_source, Z_source, V_source), axis = 1)\n",
    "D_t = np.concatenate((X_target, Z_target, V_target), axis = 1)\n",
    "densratio_obj = densratio(D_t, D_s)"
   ]
  },
  {
   "cell_type": "code",
   "execution_count": 240,
   "id": "74db017d-0a28-4798-9be8-d2b1f7c2d514",
   "metadata": {},
   "outputs": [],
   "source": [
    "sample_density_ratio = densratio_obj.compute_density_ratio(D_s)"
   ]
  },
  {
   "cell_type": "markdown",
   "id": "62f86349-f52a-4f8e-831b-d47cd22b3a98",
   "metadata": {},
   "source": [
    "# Test procedure"
   ]
  },
  {
   "cell_type": "markdown",
   "id": "093abc44-dd19-4655-b933-721a0a7572bf",
   "metadata": {},
   "source": [
    "*CompQuadForm package "
   ]
  },
  {
   "cell_type": "code",
   "execution_count": null,
   "id": "4c288a9c-deba-4953-8c5b-1a97f4a70d34",
   "metadata": {},
   "outputs": [],
   "source": [
    "Y_source, X_source, V_source, Z_source, Y_target, X_target, V_target, Z_target = generate(n, p, s, t, u, 0)"
   ]
  },
  {
   "cell_type": "code",
   "execution_count": null,
   "id": "beca6a97-264f-4b4f-8d75-521da66f4a1e",
   "metadata": {},
   "outputs": [],
   "source": [
    "reg = LassoCV().fit(Z_source,Y_source)\n",
    "Y_source[3]"
   ]
  },
  {
   "cell_type": "code",
   "execution_count": null,
   "id": "f3abe205-b14c-470a-a1cc-5be29269260e",
   "metadata": {},
   "outputs": [],
   "source": [
    "D_s = np.concatenate((X_source, Z_source, V_source), axis = 1)\n",
    "D_t = np.concatenate((X_target, Z_target, V_target), axis = 1)\n",
    "densratio_obj = densratio(D_t, D_s)"
   ]
  },
  {
   "cell_type": "code",
   "execution_count": 243,
   "id": "c8fd609a",
   "metadata": {},
   "outputs": [
    {
     "data": {
      "text/plain": [
       "(array([417.09357189, 442.63325981, 400.6408692 , 389.2035551 ,\n",
       "        414.20357414]),\n",
       " 6.071251239354402)"
      ]
     },
     "execution_count": 243,
     "metadata": {},
     "output_type": "execute_result"
    }
   ],
   "source": [
    "PCRtest(Y_source, X_source, Z_source, L = 5, K = 20, covariate_shift = True)"
   ]
  },
  {
   "cell_type": "code",
   "execution_count": 170,
   "id": "5dd1427e-1f29-43fd-bd5e-7784dcb04534",
   "metadata": {},
   "outputs": [],
   "source": [
    "cov1 = generate_covariance_matrix(10)"
   ]
  },
  {
   "cell_type": "code",
   "execution_count": 234,
   "id": "152a0879-1c82-4544-8139-f708886ef638",
   "metadata": {},
   "outputs": [
    {
     "data": {
      "text/plain": [
       "0.23853999999999997"
      ]
     },
     "execution_count": 234,
     "metadata": {},
     "output_type": "execute_result"
    }
   ],
   "source": [
    "monte_carlo_p_value(100000, cov1, 10, 12.6)"
   ]
  },
  {
   "cell_type": "code",
   "execution_count": 222,
   "id": "93bf7bac",
   "metadata": {},
   "outputs": [
    {
     "data": {
      "text/plain": [
       "(array([352., 416., 384., 436., 412.]), 10.64)"
      ]
     },
     "execution_count": 222,
     "metadata": {},
     "output_type": "execute_result"
    }
   ],
   "source": [
    "PCRtest(Y_target, X_target, Z_target, L = 5, K = 20, covariate_shift = False)"
   ]
  },
  {
   "cell_type": "code",
   "execution_count": 223,
   "id": "fb57ec19-c2c3-403a-803b-aeae56e9afce",
   "metadata": {},
   "outputs": [
    {
     "data": {
      "text/plain": [
       "(array([411., 398., 395., 412., 384.]), 1.375)"
      ]
     },
     "execution_count": 223,
     "metadata": {},
     "output_type": "execute_result"
    }
   ],
   "source": [
    "PCRtest(Y_source, X_source, Z_source, L = 5, K = 20, covariate_shift = False)"
   ]
  },
  {
   "cell_type": "code",
   "execution_count": 225,
   "id": "499f136f-bf4f-40c9-b160-4bbe41a01355",
   "metadata": {},
   "outputs": [
    {
     "data": {
      "text/plain": [
       "0.030922203543513493"
      ]
     },
     "execution_count": 225,
     "metadata": {},
     "output_type": "execute_result"
    }
   ],
   "source": [
    "chi_squared_p_value(10.64,4)"
   ]
  },
  {
   "cell_type": "code",
   "execution_count": 13,
   "id": "4d9e0667",
   "metadata": {},
   "outputs": [],
   "source": [
    "def int_(x):\n",
    "    if x >= 80: return 79\n",
    "    return int(x)\n",
    "\n",
    "def Many_Tests(m, Alpha):\n",
    "    X = []\n",
    "    n, p=500, 20\n",
    "    for i in trange(m):\n",
    "        s = np.random.normal(0, 1, p)\n",
    "        t = s + np.random.normal(0, 0.1, p)\n",
    "        u = np.random.normal(0, 1, p)\n",
    "        Y_source, X_source, V_source, Z_source, Y_target, X_target, V_target, Z_target = generate(n, p, s, t, u, Alpha)\n",
    "        u, v = PCRtest(Y_source, X_source, Z_source, L = 5, K = 20, covariate_shift = False)\n",
    "        X.append(v)\n",
    "    return X"
   ]
  },
  {
   "cell_type": "code",
   "execution_count": null,
   "id": "02c10a04-fc70-4732-943b-c284f10a4dcf",
   "metadata": {},
   "outputs": [],
   "source": [
    "*write the function"
   ]
  },
  {
   "cell_type": "code",
   "execution_count": null,
   "id": "8d9ede72-d347-434f-bd69-362c3a1f4ecb",
   "metadata": {},
   "outputs": [],
   "source": [
    "def multiple_test():"
   ]
  },
  {
   "cell_type": "code",
   "execution_count": 14,
   "id": "d3a47289",
   "metadata": {},
   "outputs": [
    {
     "name": "stderr",
     "output_type": "stream",
     "text": [
      "100%|██████████| 10/10 [00:33<00:00,  3.38s/it]\n",
      "100%|██████████| 10/10 [00:32<00:00,  3.26s/it]\n"
     ]
    }
   ],
   "source": [
    "H_0 = Mutiple_Tests(10, 1)\n",
    "H_1 = Mutiple_Tests(10, 0)"
   ]
  },
  {
   "cell_type": "code",
   "execution_count": 15,
   "id": "1a6732a6",
   "metadata": {},
   "outputs": [],
   "source": [
    "H_1.sort()\n",
    "H_0.sort()"
   ]
  },
  {
   "cell_type": "code",
   "execution_count": 16,
   "id": "b348e528",
   "metadata": {},
   "outputs": [
    {
     "data": {
      "text/plain": [
       "[1264.94,\n",
       " 1304.98,\n",
       " 1354.48,\n",
       " 1370.3,\n",
       " 1370.8,\n",
       " 1411.74,\n",
       " 1428.7,\n",
       " 1428.7,\n",
       " 1429.3,\n",
       " 1445.44]"
      ]
     },
     "execution_count": 16,
     "metadata": {},
     "output_type": "execute_result"
    }
   ],
   "source": [
    "H_0"
   ]
  },
  {
   "cell_type": "code",
   "execution_count": 17,
   "id": "de20fc20",
   "metadata": {},
   "outputs": [],
   "source": [
    "def Density_Variance(n):\n",
    "    a, b=0, 0\n",
    "    for i in range(n):\n",
    "        z = np.random.normal(0, 1, p)\n",
    "        x = z @ s + np.random.normal(0, 1, 1)\n",
    "        a += Covariate_Shift_Weight(x, z)**2\n",
    "        b += np.exp((z @ t - z @ s)**2)\n",
    "    return a/n, b/n"
   ]
  },
  {
   "cell_type": "code",
   "execution_count": 18,
   "id": "e1b38b1e",
   "metadata": {},
   "outputs": [
    {
     "ename": "ValueError",
     "evalue": "matmul: Input operand 1 has a mismatch in its core dimension 0, with gufunc signature (n?,k),(k,m?)->(n?,m?) (size 1 is different from 20)",
     "output_type": "error",
     "traceback": [
      "\u001b[0;31m---------------------------------------------------------------------------\u001b[0m",
      "\u001b[0;31mValueError\u001b[0m                                Traceback (most recent call last)",
      "Cell \u001b[0;32mIn[18], line 1\u001b[0m\n\u001b[0;32m----> 1\u001b[0m \u001b[43mDensity_Variance\u001b[49m\u001b[43m(\u001b[49m\u001b[38;5;241;43m100000\u001b[39;49m\u001b[43m)\u001b[49m\n",
      "Cell \u001b[0;32mIn[17], line 6\u001b[0m, in \u001b[0;36mDensity_Variance\u001b[0;34m(n)\u001b[0m\n\u001b[1;32m      4\u001b[0m     z \u001b[38;5;241m=\u001b[39m np\u001b[38;5;241m.\u001b[39mrandom\u001b[38;5;241m.\u001b[39mnormal(\u001b[38;5;241m0\u001b[39m, \u001b[38;5;241m1\u001b[39m, p)\n\u001b[1;32m      5\u001b[0m     x \u001b[38;5;241m=\u001b[39m z \u001b[38;5;241m@\u001b[39m s \u001b[38;5;241m+\u001b[39m np\u001b[38;5;241m.\u001b[39mrandom\u001b[38;5;241m.\u001b[39mnormal(\u001b[38;5;241m0\u001b[39m, \u001b[38;5;241m1\u001b[39m, \u001b[38;5;241m1\u001b[39m)\n\u001b[0;32m----> 6\u001b[0m     a \u001b[38;5;241m+\u001b[39m\u001b[38;5;241m=\u001b[39m \u001b[43mCovariate_Shift_Weight\u001b[49m\u001b[43m(\u001b[49m\u001b[43mx\u001b[49m\u001b[43m,\u001b[49m\u001b[43m \u001b[49m\u001b[43mz\u001b[49m\u001b[43m)\u001b[49m\u001b[38;5;241m*\u001b[39m\u001b[38;5;241m*\u001b[39m\u001b[38;5;241m2\u001b[39m\n\u001b[1;32m      7\u001b[0m     b \u001b[38;5;241m+\u001b[39m\u001b[38;5;241m=\u001b[39m np\u001b[38;5;241m.\u001b[39mexp((z \u001b[38;5;241m@\u001b[39m t \u001b[38;5;241m-\u001b[39m z \u001b[38;5;241m@\u001b[39m s)\u001b[38;5;241m*\u001b[39m\u001b[38;5;241m*\u001b[39m\u001b[38;5;241m2\u001b[39m)\n\u001b[1;32m      8\u001b[0m \u001b[38;5;28;01mreturn\u001b[39;00m a\u001b[38;5;241m/\u001b[39mn, b\u001b[38;5;241m/\u001b[39mn\n",
      "Cell \u001b[0;32mIn[7], line 2\u001b[0m, in \u001b[0;36mCovariate_Shift_Weight\u001b[0;34m(x, z, v)\u001b[0m\n\u001b[1;32m      1\u001b[0m \u001b[38;5;28;01mdef\u001b[39;00m \u001b[38;5;21mCovariate_Shift_Weight\u001b[39m(x, z, v \u001b[38;5;241m=\u001b[39m \u001b[38;5;241m0\u001b[39m):\n\u001b[0;32m----> 2\u001b[0m     \u001b[38;5;28;01mreturn\u001b[39;00m np\u001b[38;5;241m.\u001b[39mexp(((x \u001b[38;5;241m-\u001b[39m z \u001b[38;5;241m@\u001b[39m s)\u001b[38;5;241m*\u001b[39m\u001b[38;5;241m*\u001b[39m\u001b[38;5;241m2\u001b[39m \u001b[38;5;241m-\u001b[39m (x \u001b[38;5;241m-\u001b[39m \u001b[43mz\u001b[49m\u001b[43m \u001b[49m\u001b[38;5;241;43m@\u001b[39;49m\u001b[43m \u001b[49m\u001b[43mt\u001b[49m)\u001b[38;5;241m*\u001b[39m\u001b[38;5;241m*\u001b[39m\u001b[38;5;241m2\u001b[39m)\u001b[38;5;241m/\u001b[39m\u001b[38;5;241m2\u001b[39m)\n",
      "\u001b[0;31mValueError\u001b[0m: matmul: Input operand 1 has a mismatch in its core dimension 0, with gufunc signature (n?,k),(k,m?)->(n?,m?) (size 1 is different from 20)"
     ]
    }
   ],
   "source": [
    "Density_Variance(100000)"
   ]
  },
  {
   "cell_type": "code",
   "execution_count": null,
   "id": "7e17cf81",
   "metadata": {},
   "outputs": [],
   "source": [
    "a=[]\n",
    "for i in range(50):\n",
    "    b=PCRtest(Y_source, X_source, Z_source, L = 5, K = 20, covariate_shift = False)\n",
    "    a.append(b)"
   ]
  },
  {
   "cell_type": "code",
   "execution_count": null,
   "id": "f652e7c0",
   "metadata": {},
   "outputs": [],
   "source": [
    "a.sort\n",
    "a"
   ]
  },
  {
   "cell_type": "markdown",
   "id": "db806744-0782-403a-bedf-cba165bdc3a9",
   "metadata": {},
   "source": [
    "# Power simulation"
   ]
  },
  {
   "cell_type": "code",
   "execution_count": null,
   "id": "a78033a6-d57d-4515-9ff8-53eb5b443aa2",
   "metadata": {},
   "outputs": [],
   "source": []
  }
 ],
 "metadata": {
  "kernelspec": {
   "display_name": "Python 3 (ipykernel)",
   "language": "python",
   "name": "python3"
  },
  "language_info": {
   "codemirror_mode": {
    "name": "ipython",
    "version": 3
   },
   "file_extension": ".py",
   "mimetype": "text/x-python",
   "name": "python",
   "nbconvert_exporter": "python",
   "pygments_lexer": "ipython3",
   "version": "3.9.16"
  }
 },
 "nbformat": 4,
 "nbformat_minor": 5
}
