{
 "cells": [
  {
   "cell_type": "code",
   "execution_count": 529,
   "id": "f276cf02",
   "metadata": {},
   "outputs": [],
   "source": [
    "import numpy as np\n",
    "import pandas as pd\n",
    "import matplotlib.pyplot as plt\n",
    "from scipy.stats import norm, chi2, truncnorm, multivariate_normal\n",
    "from tqdm import trange\n",
    "from sklearn import linear_model\n",
    "from sklearn.linear_model import LassoCV\n",
    "from sklearn.linear_model import Lasso\n",
    "from sklearn.linear_model import LinearRegression\n",
    "from sklearn.model_selection import train_test_split\n",
    "\n",
    "from densratio import densratio\n",
    "from numpy import linalg as la\n",
    "import matplotlib.pyplot as plt"
   ]
  },
  {
   "cell_type": "markdown",
   "id": "2477d71f-6e89-4daf-ba46-c70817843f11",
   "metadata": {},
   "source": [
    "# Functions"
   ]
  },
  {
   "cell_type": "code",
   "execution_count": 565,
   "id": "350cf0d2-13aa-4f9c-b4b9-389460865eaf",
   "metadata": {},
   "outputs": [],
   "source": [
    "import numpy as np\n",
    "from sklearn.linear_model import LogisticRegression\n",
    "\n",
    "def density_ratio_estimate_prob(D_nu, D_de):\n",
    "    l_nu = np.ones(len(D_nu))\n",
    "    l_de = np.zeros(len(D_de))\n",
    "    \n",
    "    l = np.concatenate((l_nu, l_de))\n",
    "    D = np.concatenate((D_nu, D_de))\n",
    "    \n",
    "    #fit losgistic model\n",
    "    C = 0.1\n",
    "    model = LogisticRegression(penalty= 'l2', C= C)\n",
    "    model.fit(D, l)\n",
    "    \n",
    "    # get density ratios for all samples\n",
    "    density_ratios = (model.predict_proba(D_de)[:, 1] / model.predict_proba(D_nu)[:, 0])*(len(D_de)/len(D_nu))\n",
    "    \n",
    "    return density_ratios\n",
    "    \n",
    "\n",
    "\n",
    "# def Covariate_Shift_Weight(x, z, v = 0):\n",
    "#     return np.exp(((x - z @ s)**2 - (x - z @ t)**2)/2)\n",
    "\n",
    "def Model_X(z, v, u):\n",
    "    return z @ u + np.random.normal(0, 1, 1)\n",
    "\n",
    "def T_statistic(y, x, z, v, u,regr):\n",
    "#     d_y = regr.predict(z.reshape(1,20))\n",
    "#     d_x = z@u\n",
    "#     # coef = np.abs(LinearRegression(fit_intercept= False).fit(x.reshape(-1,1), y-d_y).coef_)\n",
    "#     # print([coef, y-d_y, x])\n",
    "    \n",
    "#     return np.abs((y-d_y)*(x-d_x))\n",
    "    return (y - z.sum()- x)**2\n",
    "    # return coef[0]\n",
    "\n",
    "def Conterfeits(y, x, z, v, u, L, K, regr):\n",
    "    M = L * K - 1\n",
    "    cnt = 0\n",
    "    t_stat = T_statistic(y, x, z, v, u,regr)\n",
    "    \n",
    "    for i in range(M):\n",
    "        x_ = Model_X(z, v, u)\n",
    "        if t_stat > T_statistic(y, x_, z, v, u, regr):\n",
    "            cnt=cnt+1\n",
    "            \n",
    "    return cnt // K\n",
    "\n",
    "def PCRtest(Y, X, Z, V, u, s, t, L, K, covariate_shift, density_ratio, regr):\n",
    "    n = Y.size\n",
    "    W = np.array([0.0]*L)\n",
    "\n",
    "    for j in range(n):\n",
    "        y, x, z, v = Y[j], X[j], Z[j], V[j]\n",
    "        if covariate_shift == True:\n",
    "            ind = Conterfeits(y, x, z, v, u, L, K, regr)\n",
    "            # W[ind] += density_ratio[j]\n",
    "            W[ind] += true_density_ratio(x, z, v, s, t)\n",
    "        if covariate_shift == False:\n",
    "            W[Conterfeits(y, x, z, v, u, L, K, regr)] += 1\n",
    "    return W, L/n * np.dot(W - n/L, W - n/L)\n",
    "\n",
    "def generate_cov_matrix(Y, X, Z, V,u, s, t, L, K, density_ratio, regr):\n",
    "    \"\"\"\n",
    "    Generate a covariance matrix for quadratic form normal rv.\n",
    "\n",
    "    Parameters:\n",
    "    - L (int): The size of the covariance matrix.\n",
    "\n",
    "    Returns:\n",
    "    - covariance_matrix (ndarray): The generated covariance matrix.\n",
    "    \"\"\"\n",
    "    n = Y.size\n",
    "    diag = np.array([0.0]*L)\n",
    "    \n",
    "    for j in range(n):\n",
    "        y, x, z, v = Y[j], X[j], Z[j], V[j]\n",
    "        # diag[Conterfeits(y, x, z, v, L, K, regr)] += (density_ratio[j]**2)\n",
    "        diag[Conterfeits(y, x, z, v,u, L, K, regr)] += (true_density_ratio(x,z,v,s,t)**2)\n",
    "    diag = L*(diag/n)- 1/L\n",
    "    covariance_matrix = np.full((L, L), -1/L)  # Fill all entries with 1/L\n",
    "    np.fill_diagonal(covariance_matrix, diag)  # Set diagonal entries to 1 - 1/L^2\n",
    "    return covariance_matrix\n",
    "    "
   ]
  },
  {
   "cell_type": "code",
   "execution_count": 566,
   "id": "93657a58-79da-400b-8064-fc5ba7d5885a",
   "metadata": {},
   "outputs": [],
   "source": [
    "import scipy.stats as stats\n",
    "\n",
    "def chi_squared_p_value(chi_squared_statistic, df):\n",
    "    \"\"\"\n",
    "    Calculate the p-value from a chi-squared distribution.\n",
    "\n",
    "    Parameters:\n",
    "    - chi_squared_statistic (float): The observed chi-squared test statistic.\n",
    "    - df (int): The degrees of freedom.\n",
    "\n",
    "    Returns:\n",
    "    - p_value (float): The calculated p-value.\n",
    "    \"\"\"\n",
    "    p_value = 1 - stats.chi2.cdf(chi_squared_statistic, df)\n",
    "    return p_value\n",
    "\n",
    "def monte_carlo_p_value(n_samples, covariance_matrix, L, quantile):\n",
    "    \"\"\"\n",
    "    Calculate the probability corresponding to a given quantile using the Monte Carlo method.\n",
    "\n",
    "    Parameters:\n",
    "    - n_samples (int): The number of Monte Carlo samples to generate.\n",
    "    - covariance_matrix (ndarray): The covariance matrix of the random vector X.\n",
    "    - L (int): The number of components to sum.\n",
    "    - quantile (float): The quantile value.\n",
    "\n",
    "    Returns:\n",
    "    - probability (float): The estimated probability corresponding to the quantile.\n",
    "    \"\"\"\n",
    "    count = 0\n",
    "    for _ in range(n_samples):\n",
    "        sample = np.random.multivariate_normal(np.zeros(L), covariance_matrix)\n",
    "        squared_sum = np.sum(sample**2)\n",
    "        if squared_sum <= quantile:\n",
    "            count += 1\n",
    "\n",
    "    probability = count / n_samples\n",
    "    return 1-probability\n"
   ]
  },
  {
   "cell_type": "markdown",
   "id": "34841abf",
   "metadata": {},
   "source": [
    "# 生成数据"
   ]
  },
  {
   "cell_type": "code",
   "execution_count": 602,
   "id": "8a429fec",
   "metadata": {},
   "outputs": [],
   "source": [
    "# Generate Data\n",
    "\n",
    "def generate(n, p, s, t, u, Alpha = 0):\n",
    "    Z_source, Z_target = np.zeros((n, p)), np.zeros((n, p))\n",
    "    V_source, V_target = 0, 0\n",
    "    for i in range(n):\n",
    "        Z_source[i] = np.random.normal(0, 1, p)\n",
    "        Z_target[i] = np.random.normal(0.1, 1, p)\n",
    "        \n",
    "    X_source = Z_source @ u + np.random.normal(0, 1, n)\n",
    "    X_target = Z_target @ u + np.random.normal(0, 1, n)\n",
    "\n",
    "    V_source = Z_source @ s + X_source + np.random.normal(0, 10, n)\n",
    "    V_target = Z_target @ t - X_target + np.random.normal(0, 10, n)\n",
    "    \n",
    "    Y_source, Y_target = np.zeros(n), np.zeros(n)\n",
    "    for i in range(n):\n",
    "        Y_source[i] = Z_source[i].sum() + X_source[i] + V_source[i] + np.random.normal(0, 1, 1) + Alpha * X_source[i]\n",
    "        Y_target[i] = Z_target[i].sum() + X_target[i] + V_target[i] + np.random.normal(0, 1, 1) + Alpha * X_target[i]\n",
    "    return Y_source.reshape(-1,1), X_source.reshape(-1,1), V_source.reshape(-1,1), Z_source,\\\n",
    "           Y_target.reshape(-1,1), X_target.reshape(-1,1), V_target.reshape(-1,1), Z_target\n",
    "\n",
    "\n",
    "def true_density_ratio(X, Z, V, s, t):\n",
    "    zs_prob = multivariate_normal.pdf(Z, mean=np.zeros(20), cov= np.identity(20))\n",
    "    vs_prob = norm.pdf(V, loc=Z@s + X, scale=10)\n",
    "    zt_prob = multivariate_normal.pdf(Z, mean= 0.1* np.ones(20), cov=np.identity(20))\n",
    "    vt_prob = norm.pdf(V, loc=Z@t - X, scale=10)\n",
    "    # print(zs_prob)\n",
    "    # print(vs_prob)\n",
    "    # print(zt_prob)\n",
    "    # print(vt_prob)\n",
    "    return (zt_prob*vt_prob)/(zs_prob*vs_prob)\n",
    "    # return np.exp(0.5*Z.sum() - 0.25*(1/2) - (1/200)*(V- t@Z +X)**2 + (1/200)*(V - s@Z - X)**2)"
   ]
  },
  {
   "cell_type": "markdown",
   "id": "62f86349-f52a-4f8e-831b-d47cd22b3a98",
   "metadata": {},
   "source": [
    "# Test procedure"
   ]
  },
  {
   "cell_type": "code",
   "execution_count": 603,
   "id": "b0fdf7e8-fcae-499a-8149-c328d32c395f",
   "metadata": {},
   "outputs": [],
   "source": [
    "K = 30\n",
    "L = 10\n",
    "n, p = 2000, 20\n",
    "s = np.random.normal(0, 1, p)\n",
    "t = np.random.normal(0, 1, p)\n",
    "u = np.random.normal(0, 1, p)"
   ]
  },
  {
   "cell_type": "code",
   "execution_count": 604,
   "id": "4c288a9c-deba-4953-8c5b-1a97f4a70d34",
   "metadata": {
    "collapsed": true,
    "jupyter": {
     "outputs_hidden": true
    },
    "tags": []
   },
   "outputs": [
    {
     "name": "stdout",
     "output_type": "stream",
     "text": [
      "RuLSIF starting...\n",
      "Searching for the optimal sigma and lambda...\n",
      "sigma = 0.00100, lambda = 0.00100, score = 0.00000\n",
      "sigma = 0.00100, lambda = 0.01000, score = -0.00000\n",
      "sigma = 0.00100, lambda = 0.10000, score = 0.00000\n",
      "sigma = 0.00100, lambda = 1.00000, score = 0.00000\n",
      "sigma = 0.00100, lambda = 10.00000, score = 0.00000\n",
      "sigma = 0.00100, lambda = 100.00000, score = 0.00000\n",
      "sigma = 0.00100, lambda = 1000.00000, score = 0.00000\n",
      "sigma = 0.00100, lambda = 10000.00000, score = -0.00000\n",
      "sigma = 0.00100, lambda = 100000.00000, score = 0.00000\n",
      "sigma = 0.00100, lambda = 1000000.00000, score = 0.00000\n",
      "sigma = 0.00100, lambda = 10000000.00000, score = -0.00000\n",
      "sigma = 0.00100, lambda = 100000000.00000, score = 0.00000\n",
      "sigma = 0.00100, lambda = 1000000000.00000, score = 0.00000\n",
      "sigma = 0.01000, lambda = 0.00100, score = 0.00000\n",
      "sigma = 0.01000, lambda = 0.01000, score = -0.00000\n",
      "sigma = 0.01000, lambda = 0.10000, score = 0.00000\n",
      "sigma = 0.01000, lambda = 1.00000, score = 0.00000\n",
      "sigma = 0.01000, lambda = 10.00000, score = 0.00000\n",
      "sigma = 0.01000, lambda = 100.00000, score = 0.00000\n",
      "sigma = 0.01000, lambda = 1000.00000, score = 0.00000\n",
      "sigma = 0.01000, lambda = 10000.00000, score = -0.00000\n",
      "sigma = 0.01000, lambda = 100000.00000, score = 0.00000\n",
      "sigma = 0.01000, lambda = 1000000.00000, score = 0.00000\n",
      "sigma = 0.01000, lambda = 10000000.00000, score = -0.00000\n",
      "sigma = 0.01000, lambda = 100000000.00000, score = 0.00000\n",
      "sigma = 0.01000, lambda = 1000000000.00000, score = 0.00000\n",
      "sigma = 0.10000, lambda = 0.00100, score = -0.00000\n",
      "sigma = 0.10000, lambda = 0.01000, score = -0.00000\n",
      "sigma = 0.10000, lambda = 0.10000, score = -0.00000\n",
      "sigma = 0.10000, lambda = 1.00000, score = -0.00000\n",
      "sigma = 0.10000, lambda = 10.00000, score = -0.00000\n",
      "sigma = 0.10000, lambda = 100.00000, score = -0.00000\n",
      "sigma = 0.10000, lambda = 1000.00000, score = -0.00000\n",
      "sigma = 0.10000, lambda = 10000.00000, score = -0.00000\n",
      "sigma = 0.10000, lambda = 100000.00000, score = -0.00000\n",
      "sigma = 0.10000, lambda = 1000000.00000, score = -0.00000\n",
      "sigma = 0.10000, lambda = 10000000.00000, score = -0.00000\n",
      "sigma = 0.10000, lambda = 100000000.00000, score = -0.00000\n",
      "sigma = 0.10000, lambda = 1000000000.00000, score = -0.00000\n",
      "sigma = 1.00000, lambda = 0.00100, score = -0.00003\n",
      "sigma = 1.00000, lambda = 0.01000, score = -0.00000\n",
      "sigma = 1.00000, lambda = 0.10000, score = -0.00000\n",
      "sigma = 1.00000, lambda = 1.00000, score = -0.00000\n",
      "sigma = 1.00000, lambda = 10.00000, score = -0.00000\n",
      "sigma = 1.00000, lambda = 100.00000, score = -0.00000\n",
      "sigma = 1.00000, lambda = 1000.00000, score = -0.00000\n",
      "sigma = 1.00000, lambda = 10000.00000, score = -0.00000\n",
      "sigma = 1.00000, lambda = 100000.00000, score = -0.00000\n",
      "sigma = 1.00000, lambda = 1000000.00000, score = -0.00000\n",
      "sigma = 1.00000, lambda = 10000000.00000, score = -0.00000\n",
      "sigma = 1.00000, lambda = 100000000.00000, score = -0.00000\n",
      "sigma = 1.00000, lambda = 1000000000.00000, score = -0.00000\n",
      "sigma = 10.00000, lambda = 0.00100, score = 119.99325\n",
      "sigma = 10.00000, lambda = 0.01000, score = 8.70359\n",
      "sigma = 10.00000, lambda = 0.10000, score = -0.22635\n",
      "sigma = 10.00000, lambda = 1.00000, score = -0.50795\n",
      "sigma = 10.00000, lambda = 10.00000, score = -0.38977\n",
      "sigma = 10.00000, lambda = 100.00000, score = -0.11985\n",
      "sigma = 10.00000, lambda = 1000.00000, score = -0.01474\n",
      "sigma = 10.00000, lambda = 10000.00000, score = -0.00151\n",
      "sigma = 10.00000, lambda = 100000.00000, score = -0.00015\n",
      "sigma = 10.00000, lambda = 1000000.00000, score = -0.00002\n",
      "sigma = 10.00000, lambda = 10000000.00000, score = -0.00000\n",
      "sigma = 10.00000, lambda = 100000000.00000, score = -0.00000\n",
      "sigma = 10.00000, lambda = 1000000000.00000, score = -0.00000\n",
      "sigma = 100.00000, lambda = 0.00100, score = 4.72137\n",
      "sigma = 100.00000, lambda = 0.01000, score = 0.66941\n",
      "sigma = 100.00000, lambda = 0.10000, score = -0.49643\n",
      "sigma = 100.00000, lambda = 1.00000, score = -0.49931\n",
      "sigma = 100.00000, lambda = 10.00000, score = -0.49484\n",
      "sigma = 100.00000, lambda = 100.00000, score = -0.37033\n",
      "sigma = 100.00000, lambda = 1000.00000, score = -0.08426\n",
      "sigma = 100.00000, lambda = 10000.00000, score = -0.00953\n",
      "sigma = 100.00000, lambda = 100000.00000, score = -0.00097\n",
      "sigma = 100.00000, lambda = 1000000.00000, score = -0.00010\n",
      "sigma = 100.00000, lambda = 10000000.00000, score = -0.00001\n",
      "sigma = 100.00000, lambda = 100000000.00000, score = -0.00000\n",
      "sigma = 100.00000, lambda = 1000000000.00000, score = -0.00000\n",
      "sigma = 1000.00000, lambda = 0.00100, score = -0.48821\n",
      "sigma = 1000.00000, lambda = 0.01000, score = -0.49999\n",
      "sigma = 1000.00000, lambda = 0.10000, score = -0.49999\n",
      "sigma = 1000.00000, lambda = 1.00000, score = -0.49994\n",
      "sigma = 1000.00000, lambda = 10.00000, score = -0.49582\n",
      "sigma = 1000.00000, lambda = 100.00000, score = -0.37489\n",
      "sigma = 1000.00000, lambda = 1000.00000, score = -0.08675\n",
      "sigma = 1000.00000, lambda = 10000.00000, score = -0.00985\n",
      "sigma = 1000.00000, lambda = 100000.00000, score = -0.00100\n",
      "sigma = 1000.00000, lambda = 1000000.00000, score = -0.00010\n",
      "sigma = 1000.00000, lambda = 10000000.00000, score = -0.00001\n",
      "sigma = 1000.00000, lambda = 100000000.00000, score = -0.00000\n",
      "sigma = 1000.00000, lambda = 1000000000.00000, score = -0.00000\n",
      "sigma = 10000.00000, lambda = 0.00100, score = -0.50000\n",
      "sigma = 10000.00000, lambda = 0.01000, score = -0.50000\n",
      "sigma = 10000.00000, lambda = 0.10000, score = -0.50000\n",
      "sigma = 10000.00000, lambda = 1.00000, score = -0.49995\n",
      "sigma = 10000.00000, lambda = 10.00000, score = -0.49583\n",
      "sigma = 10000.00000, lambda = 100.00000, score = -0.37494\n",
      "sigma = 10000.00000, lambda = 1000.00000, score = -0.08677\n",
      "sigma = 10000.00000, lambda = 10000.00000, score = -0.00985\n",
      "sigma = 10000.00000, lambda = 100000.00000, score = -0.00100\n",
      "sigma = 10000.00000, lambda = 1000000.00000, score = -0.00010\n",
      "sigma = 10000.00000, lambda = 10000000.00000, score = -0.00001\n",
      "sigma = 10000.00000, lambda = 100000000.00000, score = -0.00000\n",
      "sigma = 10000.00000, lambda = 1000000000.00000, score = -0.00000\n",
      "sigma = 100000.00000, lambda = 0.00100, score = -0.50000\n",
      "sigma = 100000.00000, lambda = 0.01000, score = -0.50000\n",
      "sigma = 100000.00000, lambda = 0.10000, score = -0.50000\n",
      "sigma = 100000.00000, lambda = 1.00000, score = -0.49995\n",
      "sigma = 100000.00000, lambda = 10.00000, score = -0.49583\n",
      "sigma = 100000.00000, lambda = 100.00000, score = -0.37494\n",
      "sigma = 100000.00000, lambda = 1000.00000, score = -0.08677\n",
      "sigma = 100000.00000, lambda = 10000.00000, score = -0.00985\n",
      "sigma = 100000.00000, lambda = 100000.00000, score = -0.00100\n",
      "sigma = 100000.00000, lambda = 1000000.00000, score = -0.00010\n",
      "sigma = 100000.00000, lambda = 10000000.00000, score = -0.00001\n",
      "sigma = 100000.00000, lambda = 100000000.00000, score = -0.00000\n",
      "sigma = 100000.00000, lambda = 1000000000.00000, score = -0.00000\n",
      "sigma = 1000000.00000, lambda = 0.00100, score = -0.50000\n",
      "sigma = 1000000.00000, lambda = 0.01000, score = -0.50000\n",
      "sigma = 1000000.00000, lambda = 0.10000, score = -0.50000\n",
      "sigma = 1000000.00000, lambda = 1.00000, score = -0.49995\n",
      "sigma = 1000000.00000, lambda = 10.00000, score = -0.49583\n",
      "sigma = 1000000.00000, lambda = 100.00000, score = -0.37494\n",
      "sigma = 1000000.00000, lambda = 1000.00000, score = -0.08677\n",
      "sigma = 1000000.00000, lambda = 10000.00000, score = -0.00985\n",
      "sigma = 1000000.00000, lambda = 100000.00000, score = -0.00100\n",
      "sigma = 1000000.00000, lambda = 1000000.00000, score = -0.00010\n",
      "sigma = 1000000.00000, lambda = 10000000.00000, score = -0.00001\n",
      "sigma = 1000000.00000, lambda = 100000000.00000, score = -0.00000\n",
      "sigma = 1000000.00000, lambda = 1000000000.00000, score = -0.00000\n",
      "sigma = 10000000.00000, lambda = 0.00100, score = -0.50000\n",
      "sigma = 10000000.00000, lambda = 0.01000, score = -0.50000\n",
      "sigma = 10000000.00000, lambda = 0.10000, score = -0.50000\n",
      "sigma = 10000000.00000, lambda = 1.00000, score = -0.49995\n",
      "sigma = 10000000.00000, lambda = 10.00000, score = -0.49583\n",
      "sigma = 10000000.00000, lambda = 100.00000, score = -0.37494\n",
      "sigma = 10000000.00000, lambda = 1000.00000, score = -0.08677\n",
      "sigma = 10000000.00000, lambda = 10000.00000, score = -0.00985\n",
      "sigma = 10000000.00000, lambda = 100000.00000, score = -0.00100\n",
      "sigma = 10000000.00000, lambda = 1000000.00000, score = -0.00010\n",
      "sigma = 10000000.00000, lambda = 10000000.00000, score = -0.00001\n",
      "sigma = 10000000.00000, lambda = 100000000.00000, score = -0.00000\n",
      "sigma = 10000000.00000, lambda = 1000000000.00000, score = -0.00000\n",
      "sigma = 100000000.00000, lambda = 0.00100, score = -0.50000\n",
      "sigma = 100000000.00000, lambda = 0.01000, score = -0.50000\n",
      "sigma = 100000000.00000, lambda = 0.10000, score = -0.50000\n",
      "sigma = 100000000.00000, lambda = 1.00000, score = -0.49995\n",
      "sigma = 100000000.00000, lambda = 10.00000, score = -0.49583\n",
      "sigma = 100000000.00000, lambda = 100.00000, score = -0.37494\n",
      "sigma = 100000000.00000, lambda = 1000.00000, score = -0.08677\n",
      "sigma = 100000000.00000, lambda = 10000.00000, score = -0.00985\n",
      "sigma = 100000000.00000, lambda = 100000.00000, score = -0.00100\n",
      "sigma = 100000000.00000, lambda = 1000000.00000, score = -0.00010\n",
      "sigma = 100000000.00000, lambda = 10000000.00000, score = -0.00001\n",
      "sigma = 100000000.00000, lambda = 100000000.00000, score = -0.00000\n",
      "sigma = 100000000.00000, lambda = 1000000000.00000, score = -0.00000\n",
      "sigma = 1000000000.00000, lambda = 0.00100, score = -0.50000\n",
      "sigma = 1000000000.00000, lambda = 0.01000, score = -0.50000\n",
      "sigma = 1000000000.00000, lambda = 0.10000, score = -0.50000\n",
      "sigma = 1000000000.00000, lambda = 1.00000, score = -0.49995\n",
      "sigma = 1000000000.00000, lambda = 10.00000, score = -0.49583\n",
      "sigma = 1000000000.00000, lambda = 100.00000, score = -0.37494\n",
      "sigma = 1000000000.00000, lambda = 1000.00000, score = -0.08677\n",
      "sigma = 1000000000.00000, lambda = 10000.00000, score = -0.00985\n",
      "sigma = 1000000000.00000, lambda = 100000.00000, score = -0.00100\n",
      "sigma = 1000000000.00000, lambda = 1000000.00000, score = -0.00010\n",
      "sigma = 1000000000.00000, lambda = 10000000.00000, score = -0.00001\n",
      "sigma = 1000000000.00000, lambda = 100000000.00000, score = -0.00000\n",
      "sigma = 1000000000.00000, lambda = 1000000000.00000, score = -0.00000\n",
      "Found optimal sigma = 10.000, lambda = 1.000.\n",
      "Optimizing theta...\n",
      "Approximate alpha-relative PE-divergence = 0.01\n",
      "Approximate alpha-relative KL-divergence = -0.12\n",
      "RuLSIF completed.\n"
     ]
    }
   ],
   "source": [
    "#generate data\n",
    "Y_source, X_source, V_source, Z_source, Y_target, X_target, V_target, Z_target = generate(n, p, s, t, u, 0)\n",
    "\n",
    "# calculate density ratio\n",
    "D_s = np.concatenate((X_source, Z_source, V_source), axis = 1)\n",
    "D_t = np.concatenate((X_target, Z_target, V_target), axis = 1)\n",
    "densratio_obj = densratio(D_t, D_s)\n",
    "\n",
    "#calculate density ratio for each sample\n",
    "sample_density_ratio = densratio_obj.compute_density_ratio(D_s)\n",
    "\n",
    "\n"
   ]
  },
  {
   "cell_type": "code",
   "execution_count": 594,
   "id": "effad518-2785-4644-9bf4-e2e3cc175174",
   "metadata": {},
   "outputs": [
    {
     "name": "stderr",
     "output_type": "stream",
     "text": [
      "/Users/bowenxu/opt/anaconda3/lib/python3.9/site-packages/sklearn/linear_model/_coordinate_descent.py:1568: DataConversionWarning: A column-vector y was passed when a 1d array was expected. Please change the shape of y to (n_samples, ), for example using ravel().\n",
      "  y = column_or_1d(y, warn=True)\n"
     ]
    },
    {
     "data": {
      "text/plain": [
       "array([-0.39010129, -1.55838832,  4.93204043, -0.43669011, -1.55059672,\n",
       "       -0.19307776,  4.11488835, -2.09585992, -0.65456078,  3.59275488,\n",
       "        1.63229574,  2.57788204,  2.93425853,  1.64019078, -0.6599822 ,\n",
       "        0.17845489, -1.01788505,  0.2576904 ,  1.65782141,  1.68082479])"
      ]
     },
     "execution_count": 594,
     "metadata": {},
     "output_type": "execute_result"
    }
   ],
   "source": [
    "# distill information of Z on Y\n",
    "reg = LassoCV().fit(Z_source,Y_source)\n",
    "\n",
    "reg.coef_\n",
    "\n",
    "# #make random forest for statistic\n",
    "# from sklearn.ensemble import RandomForestRegressor\n",
    "\n",
    "# Ireg = RandomForestRegressor(n_estimators=20)\n",
    "# Ireg.fit(Z_source, Y_source)\n",
    "\n",
    "#Fit neural network for statistics\n"
   ]
  },
  {
   "cell_type": "code",
   "execution_count": 587,
   "id": "85c542bb-d2a1-4ecb-bc20-36f18d8aa32d",
   "metadata": {
    "tags": []
   },
   "outputs": [
    {
     "data": {
      "text/plain": [
       "0.9363575561132237"
      ]
     },
     "execution_count": 587,
     "metadata": {},
     "output_type": "execute_result"
    }
   ],
   "source": [
    "reg.score(Z_source, Y_source)"
   ]
  },
  {
   "cell_type": "code",
   "execution_count": 605,
   "id": "0c95c825-6eb3-47ea-8a4d-008ee3873701",
   "metadata": {
    "tags": []
   },
   "outputs": [
    {
     "data": {
      "text/plain": [
       "array([1.03789167])"
      ]
     },
     "execution_count": 605,
     "metadata": {},
     "output_type": "execute_result"
    }
   ],
   "source": [
    "sum = 0\n",
    "for i in range(1000):\n",
    "    sum += true_density_ratio(X_source[i], Z_source[i], V_source[i], s, t)\n",
    "    # print(true_density_ratio(X_source[i], Z_source[i], V_source[i], s, t))\n",
    "    # print(Z_source[i]@s + X_source[i] - Z_source[i]@t + X_source[i])\n",
    "sum/1000"
   ]
  },
  {
   "cell_type": "code",
   "execution_count": 392,
   "id": "986d6200-ccdf-4e3d-82bd-cd974d748e81",
   "metadata": {},
   "outputs": [
    {
     "name": "stdout",
     "output_type": "stream",
     "text": [
      "1.2570901125932832\n",
      "0.011365891675698814\n",
      "0.8760320576697079\n"
     ]
    }
   ],
   "source": [
    "print(max(sample_density_ratio))\n",
    "print(min(sample_density_ratio))\n",
    "mean = np.mean(sample_density_ratio)\n",
    "print(mean)\n",
    "# sample_density_ratio = sample_density_ratio/mean"
   ]
  },
  {
   "cell_type": "code",
   "execution_count": 137,
   "id": "a8fd1d27-d17f-4b4c-b796-01fa04b5d17c",
   "metadata": {
    "collapsed": true,
    "jupyter": {
     "outputs_hidden": true
    },
    "tags": []
   },
   "outputs": [
    {
     "ename": "TypeError",
     "evalue": "PCRtest() got an unexpected keyword argument 'reg'",
     "output_type": "error",
     "traceback": [
      "\u001b[0;31m---------------------------------------------------------------------------\u001b[0m",
      "\u001b[0;31mTypeError\u001b[0m                                 Traceback (most recent call last)",
      "Cell \u001b[0;32mIn[137], line 1\u001b[0m\n\u001b[0;32m----> 1\u001b[0m \u001b[43mPCRtest\u001b[49m\u001b[43m(\u001b[49m\u001b[43mY_target\u001b[49m\u001b[43m,\u001b[49m\u001b[43m \u001b[49m\u001b[43mX_target\u001b[49m\u001b[43m,\u001b[49m\u001b[43m \u001b[49m\u001b[43mZ_target\u001b[49m\u001b[43m,\u001b[49m\u001b[43mV_target\u001b[49m\u001b[43m,\u001b[49m\u001b[43m \u001b[49m\u001b[43mL\u001b[49m\u001b[43m \u001b[49m\u001b[38;5;241;43m=\u001b[39;49m\u001b[43m \u001b[49m\u001b[38;5;241;43m10\u001b[39;49m\u001b[43m,\u001b[49m\u001b[43m \u001b[49m\u001b[43mK\u001b[49m\u001b[43m \u001b[49m\u001b[38;5;241;43m=\u001b[39;49m\u001b[43m \u001b[49m\u001b[38;5;241;43m30\u001b[39;49m\u001b[43m,\u001b[49m\u001b[43m \u001b[49m\u001b[43mcovariate_shift\u001b[49m\u001b[43m \u001b[49m\u001b[38;5;241;43m=\u001b[39;49m\u001b[43m \u001b[49m\u001b[38;5;28;43;01mFalse\u001b[39;49;00m\u001b[43m,\u001b[49m\u001b[43m \u001b[49m\u001b[43mdensity_ratio\u001b[49m\u001b[43m \u001b[49m\u001b[38;5;241;43m=\u001b[39;49m\u001b[43m \u001b[49m\u001b[43msample_density_ratio\u001b[49m\u001b[43m,\u001b[49m\u001b[43m \u001b[49m\u001b[43mreg\u001b[49m\u001b[43m \u001b[49m\u001b[38;5;241;43m=\u001b[39;49m\u001b[43m \u001b[49m\u001b[43mIreg\u001b[49m\u001b[43m)\u001b[49m\n",
      "\u001b[0;31mTypeError\u001b[0m: PCRtest() got an unexpected keyword argument 'reg'"
     ]
    }
   ],
   "source": [
    "PCRtest(Y_target, X_target, Z_target,V_target, L = 10, K = 30, covariate_shift = False, density_ratio = sample_density_ratio, regr = Ireg)"
   ]
  },
  {
   "cell_type": "code",
   "execution_count": 606,
   "id": "74b8da18-cce3-4f6e-ae61-5f0a52a6f858",
   "metadata": {
    "tags": []
   },
   "outputs": [
    {
     "data": {
      "text/plain": [
       "(array([250., 221., 245., 222., 185., 196., 185., 179., 159., 158.]), 49.01)"
      ]
     },
     "execution_count": 606,
     "metadata": {},
     "output_type": "execute_result"
    }
   ],
   "source": [
    "PCRtest(Y_source, X_source, Z_source,V_source, u, s, t,L = 10, K = 20, covariate_shift = False, density_ratio = sample_density_ratio, regr = reg)"
   ]
  },
  {
   "cell_type": "code",
   "execution_count": 556,
   "id": "bf082b5b-a759-4ebf-872d-3db50fb73853",
   "metadata": {},
   "outputs": [
    {
     "data": {
      "text/plain": [
       "0.12232522803866253"
      ]
     },
     "execution_count": 556,
     "metadata": {},
     "output_type": "execute_result"
    }
   ],
   "source": [
    "chi_squared_p_value(14, 9)"
   ]
  },
  {
   "cell_type": "code",
   "execution_count": 590,
   "id": "c8fd609a",
   "metadata": {
    "tags": []
   },
   "outputs": [
    {
     "name": "stderr",
     "output_type": "stream",
     "text": [
      "  0%|          | 0/500 [00:02<?, ?it/s]\n"
     ]
    },
    {
     "ename": "KeyboardInterrupt",
     "evalue": "",
     "output_type": "error",
     "traceback": [
      "\u001b[0;31m---------------------------------------------------------------------------\u001b[0m",
      "\u001b[0;31mKeyboardInterrupt\u001b[0m                         Traceback (most recent call last)",
      "Cell \u001b[0;32mIn[590], line 6\u001b[0m\n\u001b[1;32m      3\u001b[0m count \u001b[38;5;241m=\u001b[39m \u001b[38;5;241m0\u001b[39m\n\u001b[1;32m      4\u001b[0m \u001b[38;5;28;01mfor\u001b[39;00m j \u001b[38;5;129;01min\u001b[39;00m trange(\u001b[38;5;241m500\u001b[39m):\n\u001b[0;32m----> 6\u001b[0m     cov1 \u001b[38;5;241m=\u001b[39m \u001b[43mgenerate_cov_matrix\u001b[49m\u001b[43m(\u001b[49m\u001b[43mY_source\u001b[49m\u001b[43m,\u001b[49m\u001b[43m \u001b[49m\u001b[43mX_source\u001b[49m\u001b[43m,\u001b[49m\u001b[43m \u001b[49m\u001b[43mZ_source\u001b[49m\u001b[43m,\u001b[49m\u001b[43mV_source\u001b[49m\u001b[43m,\u001b[49m\u001b[43mu\u001b[49m\u001b[43m,\u001b[49m\u001b[43ms\u001b[49m\u001b[43m,\u001b[49m\u001b[43mt\u001b[49m\u001b[43m,\u001b[49m\u001b[43m \u001b[49m\u001b[43mL\u001b[49m\u001b[43m \u001b[49m\u001b[38;5;241;43m=\u001b[39;49m\u001b[43m \u001b[49m\u001b[43ml\u001b[49m\u001b[43m,\u001b[49m\u001b[43m \u001b[49m\u001b[43mK\u001b[49m\u001b[43m \u001b[49m\u001b[38;5;241;43m=\u001b[39;49m\u001b[38;5;241;43m30\u001b[39;49m\u001b[43m,\u001b[49m\u001b[43m \u001b[49m\u001b[43mdensity_ratio\u001b[49m\u001b[43m \u001b[49m\u001b[38;5;241;43m=\u001b[39;49m\u001b[43m \u001b[49m\u001b[43msample_density_ratio\u001b[49m\u001b[43m,\u001b[49m\u001b[43m \u001b[49m\u001b[43mregr\u001b[49m\u001b[43m \u001b[49m\u001b[38;5;241;43m=\u001b[39;49m\u001b[43m \u001b[49m\u001b[43mreg\u001b[49m\u001b[43m)\u001b[49m\n\u001b[1;32m      7\u001b[0m     w, statistic \u001b[38;5;241m=\u001b[39m PCRtest(Y_source, X_source, Z_source,V_source,u,s,t, L \u001b[38;5;241m=\u001b[39m l, K \u001b[38;5;241m=\u001b[39m \u001b[38;5;241m30\u001b[39m, covariate_shift \u001b[38;5;241m=\u001b[39m \u001b[38;5;28;01mTrue\u001b[39;00m, density_ratio \u001b[38;5;241m=\u001b[39m sample_density_ratio, regr \u001b[38;5;241m=\u001b[39m reg)\n\u001b[1;32m      8\u001b[0m     \u001b[38;5;28mprint\u001b[39m(statistic)\n",
      "Cell \u001b[0;32mIn[565], line 81\u001b[0m, in \u001b[0;36mgenerate_cov_matrix\u001b[0;34m(Y, X, Z, V, u, s, t, L, K, density_ratio, regr)\u001b[0m\n\u001b[1;32m     79\u001b[0m     y, x, z, v \u001b[38;5;241m=\u001b[39m Y[j], X[j], Z[j], V[j]\n\u001b[1;32m     80\u001b[0m     \u001b[38;5;66;03m# diag[Conterfeits(y, x, z, v, L, K, regr)] += (density_ratio[j]**2)\u001b[39;00m\n\u001b[0;32m---> 81\u001b[0m     diag[\u001b[43mConterfeits\u001b[49m\u001b[43m(\u001b[49m\u001b[43my\u001b[49m\u001b[43m,\u001b[49m\u001b[43m \u001b[49m\u001b[43mx\u001b[49m\u001b[43m,\u001b[49m\u001b[43m \u001b[49m\u001b[43mz\u001b[49m\u001b[43m,\u001b[49m\u001b[43m \u001b[49m\u001b[43mv\u001b[49m\u001b[43m,\u001b[49m\u001b[43mu\u001b[49m\u001b[43m,\u001b[49m\u001b[43m \u001b[49m\u001b[43mL\u001b[49m\u001b[43m,\u001b[49m\u001b[43m \u001b[49m\u001b[43mK\u001b[49m\u001b[43m,\u001b[49m\u001b[43m \u001b[49m\u001b[43mregr\u001b[49m\u001b[43m)\u001b[49m] \u001b[38;5;241m+\u001b[39m\u001b[38;5;241m=\u001b[39m (true_density_ratio(x,z,v,s,t)\u001b[38;5;241m*\u001b[39m\u001b[38;5;241m*\u001b[39m\u001b[38;5;241m2\u001b[39m)\n\u001b[1;32m     82\u001b[0m diag \u001b[38;5;241m=\u001b[39m L\u001b[38;5;241m*\u001b[39m(diag\u001b[38;5;241m/\u001b[39mn)\u001b[38;5;241m-\u001b[39m \u001b[38;5;241m1\u001b[39m\u001b[38;5;241m/\u001b[39mL\n\u001b[1;32m     83\u001b[0m covariance_matrix \u001b[38;5;241m=\u001b[39m np\u001b[38;5;241m.\u001b[39mfull((L, L), \u001b[38;5;241m-\u001b[39m\u001b[38;5;241m1\u001b[39m\u001b[38;5;241m/\u001b[39mL)  \u001b[38;5;66;03m# Fill all entries with 1/L\u001b[39;00m\n",
      "Cell \u001b[0;32mIn[565], line 46\u001b[0m, in \u001b[0;36mConterfeits\u001b[0;34m(y, x, z, v, u, L, K, regr)\u001b[0m\n\u001b[1;32m     44\u001b[0m \u001b[38;5;28;01mfor\u001b[39;00m i \u001b[38;5;129;01min\u001b[39;00m \u001b[38;5;28mrange\u001b[39m(M):\n\u001b[1;32m     45\u001b[0m     x_ \u001b[38;5;241m=\u001b[39m Model_X(z, v, u)\n\u001b[0;32m---> 46\u001b[0m     \u001b[38;5;28;01mif\u001b[39;00m t_stat \u001b[38;5;241m>\u001b[39m \u001b[43mT_statistic\u001b[49m\u001b[43m(\u001b[49m\u001b[43my\u001b[49m\u001b[43m,\u001b[49m\u001b[43m \u001b[49m\u001b[43mx_\u001b[49m\u001b[43m,\u001b[49m\u001b[43m \u001b[49m\u001b[43mz\u001b[49m\u001b[43m,\u001b[49m\u001b[43m \u001b[49m\u001b[43mv\u001b[49m\u001b[43m,\u001b[49m\u001b[43m \u001b[49m\u001b[43mu\u001b[49m\u001b[43m,\u001b[49m\u001b[43m \u001b[49m\u001b[43mregr\u001b[49m\u001b[43m)\u001b[49m:\n\u001b[1;32m     47\u001b[0m         cnt\u001b[38;5;241m=\u001b[39mcnt\u001b[38;5;241m+\u001b[39m\u001b[38;5;241m1\u001b[39m\n\u001b[1;32m     49\u001b[0m \u001b[38;5;28;01mreturn\u001b[39;00m cnt \u001b[38;5;241m/\u001b[39m\u001b[38;5;241m/\u001b[39m K\n",
      "Cell \u001b[0;32mIn[565], line 36\u001b[0m, in \u001b[0;36mT_statistic\u001b[0;34m(y, x, z, v, u, regr)\u001b[0m\n\u001b[1;32m     29\u001b[0m \u001b[38;5;28;01mdef\u001b[39;00m \u001b[38;5;21mT_statistic\u001b[39m(y, x, z, v, u,regr):\n\u001b[1;32m     30\u001b[0m \u001b[38;5;66;03m#     d_y = regr.predict(z.reshape(1,20))\u001b[39;00m\n\u001b[1;32m     31\u001b[0m \u001b[38;5;66;03m#     d_x = z@u\u001b[39;00m\n\u001b[0;32m   (...)\u001b[0m\n\u001b[1;32m     34\u001b[0m     \n\u001b[1;32m     35\u001b[0m \u001b[38;5;66;03m#     return np.abs((y-d_y)*(x-d_x))\u001b[39;00m\n\u001b[0;32m---> 36\u001b[0m     \u001b[38;5;28;01mreturn\u001b[39;00m (\u001b[43my\u001b[49m\u001b[43m \u001b[49m\u001b[38;5;241;43m-\u001b[39;49m\u001b[43m \u001b[49m\u001b[43mz\u001b[49m\u001b[38;5;241;43m.\u001b[39;49m\u001b[43msum\u001b[49m\u001b[43m(\u001b[49m\u001b[43m)\u001b[49m\u001b[38;5;241;43m-\u001b[39;49m\u001b[43m \u001b[49m\u001b[43mx\u001b[49m)\u001b[38;5;241m*\u001b[39m\u001b[38;5;241m*\u001b[39m\u001b[38;5;241m2\u001b[39m\n",
      "\u001b[0;31mKeyboardInterrupt\u001b[0m: "
     ]
    }
   ],
   "source": [
    "# verifrandomion by the p value\n",
    "l = 10\n",
    "count = 0\n",
    "for j in trange(500):\n",
    "    \n",
    "    cov1 = generate_cov_matrix(Y_source, X_source, Z_source,V_source,u,s,t, L = l, K =30, density_ratio = sample_density_ratio, regr = reg)\n",
    "    w, statistic = PCRtest(Y_source, X_source, Z_source,V_source,u,s,t, L = l, K = 30, covariate_shift = True, density_ratio = sample_density_ratio, regr = reg)\n",
    "    print(statistic)\n",
    "    p_value = monte_carlo_p_value(100000, cov1, l, statistic)\n",
    "    print(p_value)\n",
    "    if p_value < 0.1:\n",
    "        count += 1\n",
    "probability = count/500\n"
   ]
  },
  {
   "cell_type": "code",
   "execution_count": null,
   "id": "9a8f184d-b553-480b-8abf-9e95365bc29e",
   "metadata": {},
   "outputs": [],
   "source": []
  },
  {
   "cell_type": "code",
   "execution_count": null,
   "id": "52670985-f2c3-4a4c-b096-395c875a63c4",
   "metadata": {},
   "outputs": [],
   "source": [
    "PCRtest(Y_source, X_source, Z_source, V_source, L = 10, K = 20, covariate_shift = True)"
   ]
  },
  {
   "cell_type": "code",
   "execution_count": null,
   "id": "02c10a04-fc70-4732-943b-c284f10a4dcf",
   "metadata": {},
   "outputs": [],
   "source": [
    "*write the function"
   ]
  },
  {
   "cell_type": "code",
   "execution_count": null,
   "id": "8d9ede72-d347-434f-bd69-362c3a1f4ecb",
   "metadata": {},
   "outputs": [],
   "source": [
    "def multiple_test():"
   ]
  },
  {
   "cell_type": "code",
   "execution_count": null,
   "id": "de20fc20",
   "metadata": {},
   "outputs": [],
   "source": [
    "# previous code\n",
    "\n",
    "# def int_(x):\n",
    "#     if x >= 80: return 79\n",
    "#     return int(x)\n",
    "\n",
    "# def Many_Tests(m, Alpha):\n",
    "#     X = []\n",
    "#     n, p=500, 20\n",
    "#     for i in trange(m):\n",
    "#         s = np.random.normal(0, 1, p)\n",
    "#         t = s + np.random.normal(0, 0.1, p)\n",
    "#         u = np.random.normal(0, 1, p)\n",
    "#         Y_source, X_source, V_source, Z_source, Y_target, X_target, V_target, Z_target = generate(n, p, s, t, u, Alpha)\n",
    "#         u, v = PCRtest(Y_source, X_source, Z_source, L = 5, K = 20, covariate_shift = False)\n",
    "#         X.append(v)\n",
    "#     return X\n",
    "# def Density_Variance(n):\n",
    "#     a, b=0, 0\n",
    "#     for i in range(n):\n",
    "#         z = np.random.normal(0, 1, p)\n",
    "#         x = z @ s + np.random.normal(0, 1, 1)\n",
    "#         a += Covariate_Shift_Weight(x, z)**2\n",
    "#         b += np.exp((z @ t - z @ s)**2)\n",
    "#     return a/n, b/n"
   ]
  },
  {
   "cell_type": "markdown",
   "id": "db806744-0782-403a-bedf-cba165bdc3a9",
   "metadata": {},
   "source": [
    "# Power simulation"
   ]
  },
  {
   "cell_type": "markdown",
   "id": "8b5f843c-7ae5-4742-8983-4d4befc68e7e",
   "metadata": {},
   "source": [
    "1.First, we set the rejection threshold to be 0.05. We will run 1000 simulations to estimate the power and average the results over 1000 trials. Plot the power w.r.t L with fixed K = 50."
   ]
  },
  {
   "cell_type": "code",
   "execution_count": null,
   "id": "c40b676f-3439-4e4a-9dcf-e6d988bb3fc0",
   "metadata": {},
   "outputs": [],
   "source": [
    "# simulation code\n",
    "K = 20\n",
    "L = 10\n",
    "n, p = 1000, 20\n",
    "s = np.random.normal(0, 1, p)\n",
    "t = s + np.random.normal(0, 0.1, p)\n",
    "u = np.random.normal(0, 1, p)\n",
    "\n",
    "result = []\n",
    "for l in range(4, 30):\n",
    "    for i in range\n",
    "    cov1 = generate_cov_matrix(Y_source, X_source, Z_source, L = l, K = 20)\n",
    "    result.append(monte_carlo_p_value(100000, cov1, l, PCRtest(Y_source, X_source, Z_source, L = l, K = 20, covariate_shift = True)[1]))\n",
    "    \n",
    "    "
   ]
  },
  {
   "cell_type": "code",
   "execution_count": 303,
   "id": "4845e6cd-91f5-4c1d-8189-18b4c8b4ff09",
   "metadata": {},
   "outputs": [
    {
     "data": {
      "text/plain": [
       "1.0139707729582619"
      ]
     },
     "execution_count": 303,
     "metadata": {},
     "output_type": "execute_result"
    }
   ],
   "source": [
    "x = np.random.normal(0,25,500)\n",
    "y = np.random.normal(2,1,500)\n",
    "sum = 0\n",
    "for i in range(500):\n",
    "    sum += norm.pdf(x[i], loc = 5, scale = 25)/norm.pdf(x[i], loc = 0, scale = 25)\n",
    "sum/500"
   ]
  },
  {
   "cell_type": "code",
   "execution_count": null,
   "id": "1d87bed2-576d-4100-b117-5a2e62678c06",
   "metadata": {},
   "outputs": [],
   "source": []
  }
 ],
 "metadata": {
  "kernelspec": {
   "display_name": "Python 3 (ipykernel)",
   "language": "python",
   "name": "python3"
  },
  "language_info": {
   "codemirror_mode": {
    "name": "ipython",
    "version": 3
   },
   "file_extension": ".py",
   "mimetype": "text/x-python",
   "name": "python",
   "nbconvert_exporter": "python",
   "pygments_lexer": "ipython3",
   "version": "3.9.16"
  }
 },
 "nbformat": 4,
 "nbformat_minor": 5
}
