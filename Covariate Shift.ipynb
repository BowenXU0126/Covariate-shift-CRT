{
 "cells": [
  {
   "cell_type": "code",
   "execution_count": 1,
   "id": "f276cf02",
   "metadata": {},
   "outputs": [],
   "source": [
    "import numpy as np\n",
    "import pandas as pd\n",
    "import matplotlib.pyplot as plt\n",
    "from scipy.stats import norm, chi2, truncnorm\n",
    "from tqdm import trange\n",
    "from sklearn import linear_model\n",
    "from sklearn.linear_model import LassoCV\n",
    "from sklearn.linear_model import Lasso\n",
    "from densratio import densratio\n",
    "\n",
    "import matplotlib.pyplot as plt"
   ]
  },
  {
   "cell_type": "markdown",
   "id": "2477d71f-6e89-4daf-ba46-c70817843f11",
   "metadata": {},
   "source": [
    "# Functions"
   ]
  },
  {
   "cell_type": "code",
   "execution_count": 77,
   "id": "350cf0d2-13aa-4f9c-b4b9-389460865eaf",
   "metadata": {},
   "outputs": [],
   "source": [
    "import numpy as np\n",
    "from sklearn.linear_model import LogisticRegression\n",
    "\n",
    "def density_ratio_estimate_prob(D_nu, D_de):\n",
    "    l_nu = np.ones(len(D_nu))\n",
    "    l_de = np.zeros(len(D_de))\n",
    "    \n",
    "    l = np.concatenate((l_nu, l_de))\n",
    "    D = np.concatenate((D_nu, D_de))\n",
    "    \n",
    "    #fit losgistic model\n",
    "    C = 0.1\n",
    "    model = LogisticRegression(penalty= 'l2', C= C)\n",
    "    model.fit(D, l)\n",
    "    \n",
    "    # get density ratios for all samples\n",
    "    density_ratios = (model.predict_proba(D_de)[:, 1] / model.predict_proba(D_nu)[:, 0])*(len(D_de)/len(D_nu))\n",
    "    \n",
    "    return density_ratios\n",
    "\n",
    "\n",
    "# def Covariate_Shift_Weight(x, z, v = 0):\n",
    "#     return np.exp(((x - z @ s)**2 - (x - z @ t)**2)/2)\n",
    "\n",
    "def Model_X(z, v):\n",
    "    return z @ u + np.random.normal(0, 1, 1)\n",
    "\n",
    "def T_statistic(y, x, z, v, reg):\n",
    "    d_y = reg.predict(z.reshape(1,20))\n",
    "    d_x = z @ u\n",
    "    return np.abs((y-d_y)*(x-d_x))\n",
    "    # return (y - z.sum()- x)**2\n",
    "\n",
    "def Conterfeits(y, x, z, v, L, K, reg):\n",
    "    M = L * K - 1\n",
    "    cnt = 0\n",
    "    t_stat = T_statistic(y, x, z, v, reg)\n",
    "    \n",
    "    for i in range(M):\n",
    "        x_ = Model_X(z, v)\n",
    "        if t_stat > T_statistic(y, x_, z, v, reg):\n",
    "            cnt=cnt+1\n",
    "            \n",
    "    return cnt // K\n",
    "\n",
    "def PCRtest(Y, X, Z, V, L, K, covariate_shift, density_ratio, reg):\n",
    "    n = Y.size\n",
    "    W = np.array([0.0]*L)\n",
    "\n",
    "    for j in range(n):\n",
    "        y, x, z, v = Y[j], X[j], Z[j], V[j]\n",
    "        if covariate_shift == True:\n",
    "            ind = Conterfeits(y, x, z, v, L, K, reg)\n",
    "            W[ind] += density_ratio[j]\n",
    "        if covariate_shift == False:\n",
    "            W[Conterfeits(y, x, z, v, L, K, reg)] += 1     \n",
    "    return W, L/n * np.dot(W - n/L, W - n/L)\n",
    "\n",
    "def generate_cov_matrix(Y, X, Z, V, L, K, density_ratio, reg):\n",
    "    \"\"\"\n",
    "    Generate a covariance matrix for quadratic form normal rv.\n",
    "\n",
    "    Parameters:\n",
    "    - L (int): The size of the covariance matrix.\n",
    "\n",
    "    Returns:\n",
    "    - covariance_matrix (ndarray): The generated covariance matrix.\n",
    "    \"\"\"\n",
    "    n = Y.size\n",
    "    diag = np.array([0.0]*L)\n",
    "    \n",
    "    for j in range(n):\n",
    "        y, x, z, v = Y[j], X[j], Z[j], V[j]\n",
    "        diag[Conterfeits(y, x, z, v, L, K, reg)] += (density_ratio[j]**2)\n",
    "    diag = L*(diag/n)- 1/L\n",
    "    covariance_matrix = np.full((L, L), -1/L)  # Fill all entries with 1/L\n",
    "    np.fill_diagonal(covariance_matrix, diag)  # Set diagonal entries to 1 - 1/L^2\n",
    "    return covariance_matrix\n",
    "    "
   ]
  },
  {
   "cell_type": "code",
   "execution_count": 3,
   "id": "93657a58-79da-400b-8064-fc5ba7d5885a",
   "metadata": {},
   "outputs": [],
   "source": [
    "import scipy.stats as stats\n",
    "\n",
    "def chi_squared_p_value(chi_squared_statistic, df):\n",
    "    \"\"\"\n",
    "    Calculate the p-value from a chi-squared distribution.\n",
    "\n",
    "    Parameters:\n",
    "    - chi_squared_statistic (float): The observed chi-squared test statistic.\n",
    "    - df (int): The degrees of freedom.\n",
    "\n",
    "    Returns:\n",
    "    - p_value (float): The calculated p-value.\n",
    "    \"\"\"\n",
    "    p_value = 1 - stats.chi2.cdf(chi_squared_statistic, df)\n",
    "    return p_value\n",
    "\n",
    "def monte_carlo_p_value(n_samples, covariance_matrix, L, quantile):\n",
    "    \"\"\"\n",
    "    Calculate the probability corresponding to a given quantile using the Monte Carlo method.\n",
    "\n",
    "    Parameters:\n",
    "    - n_samples (int): The number of Monte Carlo samples to generate.\n",
    "    - covariance_matrix (ndarray): The covariance matrix of the random vector X.\n",
    "    - L (int): The number of components to sum.\n",
    "    - quantile (float): The quantile value.\n",
    "\n",
    "    Returns:\n",
    "    - probability (float): The estimated probability corresponding to the quantile.\n",
    "    \"\"\"\n",
    "    count = 0\n",
    "    for _ in range(n_samples):\n",
    "        sample = np.random.multivariate_normal(np.zeros(L), covariance_matrix)\n",
    "        squared_sum = np.sum(sample**2)\n",
    "        if squared_sum <= quantile:\n",
    "            count += 1\n",
    "\n",
    "    probability = count / n_samples\n",
    "    return 1-probability\n"
   ]
  },
  {
   "cell_type": "markdown",
   "id": "34841abf",
   "metadata": {},
   "source": [
    "# 生成数据"
   ]
  },
  {
   "cell_type": "code",
   "execution_count": 16,
   "id": "b71bf1c8",
   "metadata": {},
   "outputs": [],
   "source": [
    "n, p = 100, 20\n",
    "s = np.random.normal(0, 1, p)\n",
    "t = s + np.random.normal(0, 0.1, p)\n",
    "u = np.random.normal(0, 1, p)"
   ]
  },
  {
   "cell_type": "code",
   "execution_count": 161,
   "id": "8a429fec",
   "metadata": {},
   "outputs": [],
   "source": [
    "# Generate Data\n",
    "\n",
    "def generate(n, p, s, t, u, Alpha = 0):\n",
    "    Z_source, Z_target = np.zeros((n, p)), np.zeros((n, p))\n",
    "    V_source, V_target = 0, 0\n",
    "    for i in range(n):\n",
    "        Z_source[i] = np.random.normal(0, 1, p)\n",
    "        Z_target[i] = np.random.normal(2, 1, p)\n",
    "        \n",
    "    X_source = Z_source @ u + np.random.normal(0, 1, n)\n",
    "    X_target = Z_target @ u + np.random.normal(0, 1, n)\n",
    "\n",
    "    V_source = Z_source @ s - X_source + np.random.normal(0, 1, n)\n",
    "    V_target = Z_target @ t + X_target + np.random.normal(0, 1, n)\n",
    "    \n",
    "    Y_source, Y_target = np.zeros(n), np.zeros(n)\n",
    "    for i in range(n):\n",
    "        Y_source[i] = Z_source[i].sum() + X_source[i] + V_source[i] + np.random.normal(0, 1, 1) + Alpha * X_source[i]\n",
    "        Y_target[i] = Z_target[i].sum() + X_target[i] + V_target[i] + np.random.normal(0, 1, 1) + Alpha * X_target[i]\n",
    "    return Y_source.reshape(-1,1), X_source.reshape(-1,1), V_source.reshape(-1,1), Z_source,\\\n",
    "           Y_target.reshape(-1,1), X_target.reshape(-1,1), V_target.reshape(-1,1), Z_target"
   ]
  },
  {
   "cell_type": "markdown",
   "id": "62f86349-f52a-4f8e-831b-d47cd22b3a98",
   "metadata": {},
   "source": [
    "# Test procedure"
   ]
  },
  {
   "cell_type": "code",
   "execution_count": 162,
   "id": "b0fdf7e8-fcae-499a-8149-c328d32c395f",
   "metadata": {},
   "outputs": [],
   "source": [
    "K = 30\n",
    "L = 10\n",
    "n, p = 1000, 20\n",
    "s = np.random.normal(0, 1, p)\n",
    "t = s + np.random.normal(0, 0.1, p)\n",
    "u = np.random.normal(0, 1, p)"
   ]
  },
  {
   "cell_type": "code",
   "execution_count": 163,
   "id": "4c288a9c-deba-4953-8c5b-1a97f4a70d34",
   "metadata": {
    "collapsed": true,
    "jupyter": {
     "outputs_hidden": true
    },
    "tags": []
   },
   "outputs": [
    {
     "name": "stdout",
     "output_type": "stream",
     "text": [
      "RuLSIF starting...\n",
      "Searching for the optimal sigma and lambda...\n",
      "sigma = 0.00100, lambda = 0.00100, score = 0.00000\n",
      "sigma = 0.00100, lambda = 0.01000, score = 0.00000\n",
      "sigma = 0.00100, lambda = 0.10000, score = 0.00000\n",
      "sigma = 0.00100, lambda = 1.00000, score = -0.00000\n",
      "sigma = 0.00100, lambda = 10.00000, score = 0.00000\n",
      "sigma = 0.00100, lambda = 100.00000, score = 0.00000\n",
      "sigma = 0.00100, lambda = 1000.00000, score = 0.00000\n",
      "sigma = 0.00100, lambda = 10000.00000, score = -0.00000\n",
      "sigma = 0.00100, lambda = 100000.00000, score = 0.00000\n",
      "sigma = 0.00100, lambda = 1000000.00000, score = 0.00000\n",
      "sigma = 0.00100, lambda = 10000000.00000, score = 0.00000\n",
      "sigma = 0.00100, lambda = 100000000.00000, score = 0.00000\n",
      "sigma = 0.00100, lambda = 1000000000.00000, score = 0.00000\n",
      "sigma = 0.01000, lambda = 0.00100, score = 0.00000\n",
      "sigma = 0.01000, lambda = 0.01000, score = 0.00000\n",
      "sigma = 0.01000, lambda = 0.10000, score = 0.00000\n",
      "sigma = 0.01000, lambda = 1.00000, score = -0.00000\n",
      "sigma = 0.01000, lambda = 10.00000, score = 0.00000\n",
      "sigma = 0.01000, lambda = 100.00000, score = 0.00000\n",
      "sigma = 0.01000, lambda = 1000.00000, score = 0.00000\n",
      "sigma = 0.01000, lambda = 10000.00000, score = -0.00000\n",
      "sigma = 0.01000, lambda = 100000.00000, score = 0.00000\n",
      "sigma = 0.01000, lambda = 1000000.00000, score = 0.00000\n",
      "sigma = 0.01000, lambda = 10000000.00000, score = 0.00000\n",
      "sigma = 0.01000, lambda = 100000000.00000, score = 0.00000\n",
      "sigma = 0.01000, lambda = 1000000000.00000, score = 0.00000\n",
      "sigma = 0.10000, lambda = 0.00100, score = -0.00000\n",
      "sigma = 0.10000, lambda = 0.01000, score = -0.00000\n",
      "sigma = 0.10000, lambda = 0.10000, score = -0.00000\n",
      "sigma = 0.10000, lambda = 1.00000, score = -0.00000\n",
      "sigma = 0.10000, lambda = 10.00000, score = -0.00000\n",
      "sigma = 0.10000, lambda = 100.00000, score = -0.00000\n",
      "sigma = 0.10000, lambda = 1000.00000, score = -0.00000\n",
      "sigma = 0.10000, lambda = 10000.00000, score = -0.00000\n",
      "sigma = 0.10000, lambda = 100000.00000, score = -0.00000\n",
      "sigma = 0.10000, lambda = 1000000.00000, score = -0.00000\n",
      "sigma = 0.10000, lambda = 10000000.00000, score = -0.00000\n",
      "sigma = 0.10000, lambda = 100000000.00000, score = -0.00000\n",
      "sigma = 0.10000, lambda = 1000000000.00000, score = -0.00000\n",
      "sigma = 1.00000, lambda = 0.00100, score = -0.00020\n",
      "sigma = 1.00000, lambda = 0.01000, score = -0.00002\n",
      "sigma = 1.00000, lambda = 0.10000, score = -0.00000\n",
      "sigma = 1.00000, lambda = 1.00000, score = -0.00000\n",
      "sigma = 1.00000, lambda = 10.00000, score = -0.00000\n",
      "sigma = 1.00000, lambda = 100.00000, score = -0.00000\n",
      "sigma = 1.00000, lambda = 1000.00000, score = -0.00000\n",
      "sigma = 1.00000, lambda = 10000.00000, score = -0.00000\n",
      "sigma = 1.00000, lambda = 100000.00000, score = -0.00000\n",
      "sigma = 1.00000, lambda = 1000000.00000, score = -0.00000\n",
      "sigma = 1.00000, lambda = 10000000.00000, score = -0.00000\n",
      "sigma = 1.00000, lambda = 100000000.00000, score = -0.00000\n",
      "sigma = 1.00000, lambda = 1000000000.00000, score = -0.00000\n",
      "sigma = 10.00000, lambda = 0.00100, score = 47960.15100\n",
      "sigma = 10.00000, lambda = 0.01000, score = 1822.30554\n",
      "sigma = 10.00000, lambda = 0.10000, score = 18.71835\n",
      "sigma = 10.00000, lambda = 1.00000, score = -1.30559\n",
      "sigma = 10.00000, lambda = 10.00000, score = -0.84087\n",
      "sigma = 10.00000, lambda = 100.00000, score = -0.22798\n",
      "sigma = 10.00000, lambda = 1000.00000, score = -0.02708\n",
      "sigma = 10.00000, lambda = 10000.00000, score = -0.00276\n",
      "sigma = 10.00000, lambda = 100000.00000, score = -0.00028\n",
      "sigma = 10.00000, lambda = 1000000.00000, score = -0.00003\n",
      "sigma = 10.00000, lambda = 10000000.00000, score = -0.00000\n",
      "sigma = 10.00000, lambda = 100000000.00000, score = -0.00000\n",
      "sigma = 10.00000, lambda = 1000000000.00000, score = -0.00000\n",
      "sigma = 100.00000, lambda = 0.00100, score = 955.48771\n",
      "sigma = 100.00000, lambda = 0.01000, score = 15.12847\n",
      "sigma = 100.00000, lambda = 0.10000, score = -0.47410\n",
      "sigma = 100.00000, lambda = 1.00000, score = -0.50287\n",
      "sigma = 100.00000, lambda = 10.00000, score = -0.49828\n",
      "sigma = 100.00000, lambda = 100.00000, score = -0.37392\n",
      "sigma = 100.00000, lambda = 1000.00000, score = -0.08548\n",
      "sigma = 100.00000, lambda = 10000.00000, score = -0.00968\n",
      "sigma = 100.00000, lambda = 100000.00000, score = -0.00098\n",
      "sigma = 100.00000, lambda = 1000000.00000, score = -0.00010\n",
      "sigma = 100.00000, lambda = 10000000.00000, score = -0.00001\n",
      "sigma = 100.00000, lambda = 100000000.00000, score = -0.00000\n",
      "sigma = 100.00000, lambda = 1000000000.00000, score = -0.00000\n",
      "sigma = 1000.00000, lambda = 0.00100, score = -0.46334\n",
      "sigma = 1000.00000, lambda = 0.01000, score = -0.50003\n",
      "sigma = 1000.00000, lambda = 0.10000, score = -0.50002\n",
      "sigma = 1000.00000, lambda = 1.00000, score = -0.49997\n",
      "sigma = 1000.00000, lambda = 10.00000, score = -0.49582\n",
      "sigma = 1000.00000, lambda = 100.00000, score = -0.37487\n",
      "sigma = 1000.00000, lambda = 1000.00000, score = -0.08676\n",
      "sigma = 1000.00000, lambda = 10000.00000, score = -0.00985\n",
      "sigma = 1000.00000, lambda = 100000.00000, score = -0.00100\n",
      "sigma = 1000.00000, lambda = 1000000.00000, score = -0.00010\n",
      "sigma = 1000.00000, lambda = 10000000.00000, score = -0.00001\n",
      "sigma = 1000.00000, lambda = 100000000.00000, score = -0.00000\n",
      "sigma = 1000.00000, lambda = 1000000000.00000, score = -0.00000\n",
      "sigma = 10000.00000, lambda = 0.00100, score = -0.50000\n",
      "sigma = 10000.00000, lambda = 0.01000, score = -0.50000\n",
      "sigma = 10000.00000, lambda = 0.10000, score = -0.50000\n",
      "sigma = 10000.00000, lambda = 1.00000, score = -0.49994\n",
      "sigma = 10000.00000, lambda = 10.00000, score = -0.49579\n",
      "sigma = 10000.00000, lambda = 100.00000, score = -0.37487\n",
      "sigma = 10000.00000, lambda = 1000.00000, score = -0.08677\n",
      "sigma = 10000.00000, lambda = 10000.00000, score = -0.00985\n",
      "sigma = 10000.00000, lambda = 100000.00000, score = -0.00100\n",
      "sigma = 10000.00000, lambda = 1000000.00000, score = -0.00010\n",
      "sigma = 10000.00000, lambda = 10000000.00000, score = -0.00001\n",
      "sigma = 10000.00000, lambda = 100000000.00000, score = -0.00000\n",
      "sigma = 10000.00000, lambda = 1000000000.00000, score = -0.00000\n",
      "sigma = 100000.00000, lambda = 0.00100, score = -0.50000\n",
      "sigma = 100000.00000, lambda = 0.01000, score = -0.50000\n",
      "sigma = 100000.00000, lambda = 0.10000, score = -0.50000\n",
      "sigma = 100000.00000, lambda = 1.00000, score = -0.49994\n",
      "sigma = 100000.00000, lambda = 10.00000, score = -0.49579\n",
      "sigma = 100000.00000, lambda = 100.00000, score = -0.37487\n",
      "sigma = 100000.00000, lambda = 1000.00000, score = -0.08677\n",
      "sigma = 100000.00000, lambda = 10000.00000, score = -0.00985\n",
      "sigma = 100000.00000, lambda = 100000.00000, score = -0.00100\n",
      "sigma = 100000.00000, lambda = 1000000.00000, score = -0.00010\n",
      "sigma = 100000.00000, lambda = 10000000.00000, score = -0.00001\n",
      "sigma = 100000.00000, lambda = 100000000.00000, score = -0.00000\n",
      "sigma = 100000.00000, lambda = 1000000000.00000, score = -0.00000\n",
      "sigma = 1000000.00000, lambda = 0.00100, score = -0.50000\n",
      "sigma = 1000000.00000, lambda = 0.01000, score = -0.50000\n",
      "sigma = 1000000.00000, lambda = 0.10000, score = -0.50000\n",
      "sigma = 1000000.00000, lambda = 1.00000, score = -0.49994\n",
      "sigma = 1000000.00000, lambda = 10.00000, score = -0.49579\n",
      "sigma = 1000000.00000, lambda = 100.00000, score = -0.37487\n",
      "sigma = 1000000.00000, lambda = 1000.00000, score = -0.08677\n",
      "sigma = 1000000.00000, lambda = 10000.00000, score = -0.00985\n",
      "sigma = 1000000.00000, lambda = 100000.00000, score = -0.00100\n",
      "sigma = 1000000.00000, lambda = 1000000.00000, score = -0.00010\n",
      "sigma = 1000000.00000, lambda = 10000000.00000, score = -0.00001\n",
      "sigma = 1000000.00000, lambda = 100000000.00000, score = -0.00000\n",
      "sigma = 1000000.00000, lambda = 1000000000.00000, score = -0.00000\n",
      "sigma = 10000000.00000, lambda = 0.00100, score = -0.50000\n",
      "sigma = 10000000.00000, lambda = 0.01000, score = -0.50000\n",
      "sigma = 10000000.00000, lambda = 0.10000, score = -0.50000\n",
      "sigma = 10000000.00000, lambda = 1.00000, score = -0.49994\n",
      "sigma = 10000000.00000, lambda = 10.00000, score = -0.49579\n",
      "sigma = 10000000.00000, lambda = 100.00000, score = -0.37487\n",
      "sigma = 10000000.00000, lambda = 1000.00000, score = -0.08677\n",
      "sigma = 10000000.00000, lambda = 10000.00000, score = -0.00985\n",
      "sigma = 10000000.00000, lambda = 100000.00000, score = -0.00100\n",
      "sigma = 10000000.00000, lambda = 1000000.00000, score = -0.00010\n",
      "sigma = 10000000.00000, lambda = 10000000.00000, score = -0.00001\n",
      "sigma = 10000000.00000, lambda = 100000000.00000, score = -0.00000\n",
      "sigma = 10000000.00000, lambda = 1000000000.00000, score = -0.00000\n",
      "sigma = 100000000.00000, lambda = 0.00100, score = -0.50000\n",
      "sigma = 100000000.00000, lambda = 0.01000, score = -0.50000\n",
      "sigma = 100000000.00000, lambda = 0.10000, score = -0.50000\n",
      "sigma = 100000000.00000, lambda = 1.00000, score = -0.49994\n",
      "sigma = 100000000.00000, lambda = 10.00000, score = -0.49579\n",
      "sigma = 100000000.00000, lambda = 100.00000, score = -0.37487\n",
      "sigma = 100000000.00000, lambda = 1000.00000, score = -0.08677\n",
      "sigma = 100000000.00000, lambda = 10000.00000, score = -0.00985\n",
      "sigma = 100000000.00000, lambda = 100000.00000, score = -0.00100\n",
      "sigma = 100000000.00000, lambda = 1000000.00000, score = -0.00010\n",
      "sigma = 100000000.00000, lambda = 10000000.00000, score = -0.00001\n",
      "sigma = 100000000.00000, lambda = 100000000.00000, score = -0.00000\n",
      "sigma = 100000000.00000, lambda = 1000000000.00000, score = -0.00000\n",
      "sigma = 1000000000.00000, lambda = 0.00100, score = -0.50000\n",
      "sigma = 1000000000.00000, lambda = 0.01000, score = -0.50000\n",
      "sigma = 1000000000.00000, lambda = 0.10000, score = -0.50000\n",
      "sigma = 1000000000.00000, lambda = 1.00000, score = -0.49994\n",
      "sigma = 1000000000.00000, lambda = 10.00000, score = -0.49579\n",
      "sigma = 1000000000.00000, lambda = 100.00000, score = -0.37487\n",
      "sigma = 1000000000.00000, lambda = 1000.00000, score = -0.08677\n",
      "sigma = 1000000000.00000, lambda = 10000.00000, score = -0.00985\n",
      "sigma = 1000000000.00000, lambda = 100000.00000, score = -0.00100\n",
      "sigma = 1000000000.00000, lambda = 1000000.00000, score = -0.00010\n",
      "sigma = 1000000000.00000, lambda = 10000000.00000, score = -0.00001\n",
      "sigma = 1000000000.00000, lambda = 100000000.00000, score = -0.00000\n",
      "sigma = 1000000000.00000, lambda = 1000000000.00000, score = -0.00000\n",
      "Found optimal sigma = 10.000, lambda = 1.000.\n",
      "Optimizing theta...\n",
      "Approximate alpha-relative PE-divergence = 0.81\n",
      "Approximate alpha-relative KL-divergence = 0.89\n",
      "RuLSIF completed.\n"
     ]
    },
    {
     "name": "stderr",
     "output_type": "stream",
     "text": [
      "/Users/bowenxu/opt/anaconda3/lib/python3.9/site-packages/sklearn/linear_model/_coordinate_descent.py:1568: DataConversionWarning: A column-vector y was passed when a 1d array was expected. Please change the shape of y to (n_samples, ), for example using ravel().\n",
      "  y = column_or_1d(y, warn=True)\n"
     ]
    }
   ],
   "source": [
    "#generate data\n",
    "Y_source, X_source, V_source, Z_source, Y_target, X_target, V_target, Z_target = generate(n, p, s, t, u, 0)\n",
    "\n",
    "# calculate density ratio\n",
    "D_s = np.concatenate((X_source, Z_source, V_source), axis = 1)\n",
    "D_t = np.concatenate((X_target, Z_target, V_target), axis = 1)\n",
    "densratio_obj = densratio(D_t, D_s)\n",
    "\n",
    "#calculate density ratio for each sample\n",
    "sample_density_ratio = densratio_obj.compute_density_ratio(D_s)\n",
    "\n",
    "# distill information of Z on Y\n",
    "reg = LassoCV().fit(Z_source,Y_source)"
   ]
  },
  {
   "cell_type": "code",
   "execution_count": 164,
   "id": "986d6200-ccdf-4e3d-82bd-cd974d748e81",
   "metadata": {},
   "outputs": [
    {
     "name": "stdout",
     "output_type": "stream",
     "text": [
      "2.3694437717232137\n",
      "0.30300551623361993\n",
      "1.5061475866848595\n"
     ]
    }
   ],
   "source": [
    "print(max(sample_density_ratio))\n",
    "print(min(sample_density_ratio))\n",
    "mean = np.mean(sample_density_ratio)\n",
    "print(mean)\n",
    "sample_density_ratio = sample_density_ratio/mean"
   ]
  },
  {
   "cell_type": "code",
   "execution_count": 165,
   "id": "a8fd1d27-d17f-4b4c-b796-01fa04b5d17c",
   "metadata": {},
   "outputs": [
    {
     "data": {
      "text/plain": [
       "(array([178., 200., 182., 228., 212.]), 8.68)"
      ]
     },
     "execution_count": 165,
     "metadata": {},
     "output_type": "execute_result"
    }
   ],
   "source": [
    "PCRtest(Y_target, X_target, Z_target,V_target, L = 5, K = 30, covariate_shift = False, density_ratio = sample_density_ratio, reg = reg)"
   ]
  },
  {
   "cell_type": "code",
   "execution_count": 166,
   "id": "74b8da18-cce3-4f6e-ae61-5f0a52a6f858",
   "metadata": {},
   "outputs": [
    {
     "data": {
      "text/plain": [
       "(array([215., 219., 188., 195., 183.]), 5.22)"
      ]
     },
     "execution_count": 166,
     "metadata": {},
     "output_type": "execute_result"
    }
   ],
   "source": [
    "PCRtest(Y_source, X_source, Z_source,V_source, L = 5, K = 30, covariate_shift = False, density_ratio = sample_density_ratio, reg = reg)"
   ]
  },
  {
   "cell_type": "code",
   "execution_count": 62,
   "id": "d14625ee-5880-4f8f-9eb2-61e01603f239",
   "metadata": {},
   "outputs": [
    {
     "data": {
      "text/plain": [
       "2.573496971081113e-13"
      ]
     },
     "execution_count": 62,
     "metadata": {},
     "output_type": "execute_result"
    }
   ],
   "source": [
    "chi_squared_p_value(65, 4)"
   ]
  },
  {
   "cell_type": "code",
   "execution_count": null,
   "id": "c8fd609a",
   "metadata": {
    "tags": []
   },
   "outputs": [
    {
     "name": "stderr",
     "output_type": "stream",
     "text": [
      "  0%|          | 0/100 [00:00<?, ?it/s]"
     ]
    }
   ],
   "source": [
    "# verification by the p value\n",
    "count = 0\n",
    "for j in trange(100):\n",
    "    \n",
    "    cov1 = generate_cov_matrix(Y_source, X_source, Z_source,V_source, L = 20, K =30, density_ratio = sample_density_ratio, reg = reg)\n",
    "    w, statistic = PCRtest(Y_source, X_source, Z_source,V_source, L = 20, K = 30, covariate_shift = True, density_ratio = sample_density_ratio, reg = reg)\n",
    "    print(statistic)\n",
    "    p_value = monte_carlo_p_value(100000, cov1, 20, statistic)\n",
    "    print(p_value)\n",
    "    if p_value < 0.1:\n",
    "        count += 1\n",
    "probability = count/100\n"
   ]
  },
  {
   "cell_type": "code",
   "execution_count": 79,
   "id": "a8d2fdc6-9afb-4921-99d2-8a050a42bc83",
   "metadata": {},
   "outputs": [
    {
     "data": {
      "text/plain": [
       "array([42.97221836, 41.13751691, 62.58925636, 58.42852195, 49.19229459,\n",
       "       58.71867837, 57.38112057, 51.79035496, 51.23925774, 63.06646426,\n",
       "       57.83586488, 39.78639711, 50.70822744, 35.20637234, 47.84120816,\n",
       "       52.98122953, 55.47235177, 73.71218198, 49.14257705, 62.86486911])"
      ]
     },
     "execution_count": 79,
     "metadata": {},
     "output_type": "execute_result"
    }
   ],
   "source": [
    "w"
   ]
  },
  {
   "cell_type": "code",
   "execution_count": 531,
   "id": "52670985-f2c3-4a4c-b096-395c875a63c4",
   "metadata": {},
   "outputs": [
    {
     "data": {
      "text/plain": [
       "(array([210.42659433, 194.17036367, 205.77078838, 199.36556849,\n",
       "        226.40790323, 202.13616933, 211.62012152, 213.57050006,\n",
       "        199.14345193, 194.62128313]),\n",
       " 6.135967845352278)"
      ]
     },
     "execution_count": 531,
     "metadata": {},
     "output_type": "execute_result"
    }
   ],
   "source": [
    "PCRtest(Y_source, X_source, Z_source, V_source, L = 10, K = 20, covariate_shift = True)"
   ]
  },
  {
   "cell_type": "code",
   "execution_count": null,
   "id": "02c10a04-fc70-4732-943b-c284f10a4dcf",
   "metadata": {},
   "outputs": [],
   "source": [
    "*write the function"
   ]
  },
  {
   "cell_type": "code",
   "execution_count": null,
   "id": "8d9ede72-d347-434f-bd69-362c3a1f4ecb",
   "metadata": {},
   "outputs": [],
   "source": [
    "def multiple_test():"
   ]
  },
  {
   "cell_type": "code",
   "execution_count": 17,
   "id": "de20fc20",
   "metadata": {},
   "outputs": [],
   "source": [
    "# previous code\n",
    "\n",
    "# def int_(x):\n",
    "#     if x >= 80: return 79\n",
    "#     return int(x)\n",
    "\n",
    "# def Many_Tests(m, Alpha):\n",
    "#     X = []\n",
    "#     n, p=500, 20\n",
    "#     for i in trange(m):\n",
    "#         s = np.random.normal(0, 1, p)\n",
    "#         t = s + np.random.normal(0, 0.1, p)\n",
    "#         u = np.random.normal(0, 1, p)\n",
    "#         Y_source, X_source, V_source, Z_source, Y_target, X_target, V_target, Z_target = generate(n, p, s, t, u, Alpha)\n",
    "#         u, v = PCRtest(Y_source, X_source, Z_source, L = 5, K = 20, covariate_shift = False)\n",
    "#         X.append(v)\n",
    "#     return X\n",
    "# def Density_Variance(n):\n",
    "#     a, b=0, 0\n",
    "#     for i in range(n):\n",
    "#         z = np.random.normal(0, 1, p)\n",
    "#         x = z @ s + np.random.normal(0, 1, 1)\n",
    "#         a += Covariate_Shift_Weight(x, z)**2\n",
    "#         b += np.exp((z @ t - z @ s)**2)\n",
    "#     return a/n, b/n"
   ]
  },
  {
   "cell_type": "markdown",
   "id": "db806744-0782-403a-bedf-cba165bdc3a9",
   "metadata": {},
   "source": [
    "# Power simulation"
   ]
  },
  {
   "cell_type": "markdown",
   "id": "8b5f843c-7ae5-4742-8983-4d4befc68e7e",
   "metadata": {},
   "source": [
    "1.First, we set the rejection threshold to be 0.05. We will run 1000 simulations to estimate the power and average the results over 1000 trials. Plot the power w.r.t L with fixed K = 50."
   ]
  },
  {
   "cell_type": "code",
   "execution_count": null,
   "id": "c40b676f-3439-4e4a-9dcf-e6d988bb3fc0",
   "metadata": {},
   "outputs": [],
   "source": [
    "# simulation code\n",
    "K = 20\n",
    "L = 10\n",
    "n, p = 1000, 20\n",
    "s = np.random.normal(0, 1, p)\n",
    "t = s + np.random.normal(0, 0.1, p)\n",
    "u = np.random.normal(0, 1, p)\n",
    "\n",
    "result = []\n",
    "for l in range(4, 30):\n",
    "    for i in range\n",
    "    cov1 = generate_cov_matrix(Y_source, X_source, Z_source, L = l, K = 20)\n",
    "    result.append(monte_carlo_p_value(100000, cov1, l, PCRtest(Y_source, X_source, Z_source, L = l, K = 20, covariate_shift = True)[1]))\n",
    "    \n",
    "    "
   ]
  }
 ],
 "metadata": {
  "kernelspec": {
   "display_name": "Python 3 (ipykernel)",
   "language": "python",
   "name": "python3"
  },
  "language_info": {
   "codemirror_mode": {
    "name": "ipython",
    "version": 3
   },
   "file_extension": ".py",
   "mimetype": "text/x-python",
   "name": "python",
   "nbconvert_exporter": "python",
   "pygments_lexer": "ipython3",
   "version": "3.9.16"
  }
 },
 "nbformat": 4,
 "nbformat_minor": 5
}
