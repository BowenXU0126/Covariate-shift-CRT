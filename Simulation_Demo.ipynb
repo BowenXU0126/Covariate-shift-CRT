{
 "cells": [
  {
   "cell_type": "code",
   "execution_count": null,
   "id": "1096c99d-4952-4734-b66a-5ecc469923c6",
   "metadata": {},
   "outputs": [],
   "source": [
    "import numpy as np\n",
    "from csPCR_functions import *\n",
    "from Benchmark_functions import *\n",
    "import warnings\n",
    "import matplotlib.pyplot as plt\n",
    "import time\n",
    "from tqdm import tqdm\n",
    "warnings.filterwarnings(\"ignore\")"
   ]
  },
  {
   "cell_type": "code",
   "execution_count": 2,
   "id": "535eddf8-b4e1-4295-8a99-11c280e9a4b4",
   "metadata": {},
   "outputs": [],
   "source": [
    "'''\n",
    "First, we generate a dataset, we can change the Alpha_s, Alpha_t and effect parameter to change the distribution of\n",
    "the generated dataset.\n",
    "'''\n",
    "\n",
    "import numpy as np\n",
    "\n",
    "def generate_binary(ns, nt, p, q, s, t, u, Alpha_s=1, Alpha_t=0, effect=1, x_effect=0, z_diff=0.1, threshold_X=0.5, threshold_Y=0.5):\n",
    "    # Generate normal distributions for Z\n",
    "    Zs_null = np.random.normal(0, 1, (ns, q))\n",
    "    Zt_null = np.random.normal(0, 1, (nt, q))\n",
    "    \n",
    "    # Generate Z variables with and without shift\n",
    "    Z_source = np.hstack((np.random.normal(0, 1, (ns, p)), Zs_null))\n",
    "    Z_target = np.hstack((np.random.normal(z_diff, 1, (nt, p)), Zt_null))\n",
    "    \n",
    "    # Generate X variables\n",
    "    X_source = Z_source[:, :p] @ u + np.random.normal(0, 1, ns)\n",
    "    X_target = Z_target[:, :p] @ u + np.random.normal(0, 1, nt)\n",
    "    \n",
    "    # Convert X to binary\n",
    "    X_source = (np.random.rand(ns) < 1 / (1 + np.exp(-X_source))).astype(int)\n",
    "    X_target = (np.random.rand(nt) < 1 / (1 + np.exp(-X_target))).astype(int)\n",
    "    \n",
    "    # Generate V variables\n",
    "    V_source = Z_source[:, :p] @ s + Alpha_s * X_source + np.random.normal(0, 5, ns)\n",
    "    V_target = Z_target[:, :p] @ t + Alpha_t * X_target + np.random.normal(0, 5, nt)\n",
    "    \n",
    "    # Generate Y variables\n",
    "    Y_source = (Z_source[:, :p].sum(axis=1))**2 + effect * V_source + np.random.normal(0, 1, ns) + x_effect * X_source\n",
    "    Y_target = (Z_target[:, :p].sum(axis=1))**2 + effect * V_target + np.random.normal(0, 1, nt) + x_effect * X_target\n",
    "    \n",
    "    # Convert Y to binary\n",
    "    Y_source = (np.random.rand(ns) < 1 / (1 + np.exp(-Y_source))).astype(int)\n",
    "    Y_target = (np.random.rand(nt) < 1 / (1 + np.exp(-Y_target))).astype(int)\n",
    "    \n",
    "    return Y_source.reshape(-1, 1), X_source.reshape(-1, 1), V_source.reshape(-1, 1), Z_source,\\\n",
    "           Y_target.reshape(-1, 1), X_target.reshape(-1, 1), V_target.reshape(-1, 1), Z_target\n",
    "\n",
    "\n",
    "\n",
    "def generate(ns, nt, p,q, s, t, u, Alpha_s=0, Alpha_t = 2,effect=1,x_effect = 0, non_lin = 0, z_diff = 0.1):\n",
    "    Zs_null = np.random.normal(0,0.1, (ns, q))\n",
    "    Zt_null = np.random.normal(0,0.1, (nt, q))\n",
    "    \n",
    "    Z_source = np.hstack((np.random.normal(0, 1, (ns, p)) , Zs_null))\n",
    "    Z_target = np.hstack((np.random.normal(z_diff, 1, (nt, p)) , Zt_null))\n",
    "    \n",
    "    X_source = Z_source[:, :p] @ u + np.random.normal(0, 1, ns)\n",
    "    X_target = Z_target[:, :p] @ u + np.random.normal(0, 1, nt)\n",
    "\n",
    "    V_source = Z_source[:, :p] @ s + (1-non_lin)*Alpha_s * X_source + non_lin * Alpha_s * np.sin(X_source) + np.random.normal(0, 5, ns)\n",
    "    V_target = Z_target[:, :p] @ t + (1-non_lin)*Alpha_t * X_target + non_lin * Alpha_t * np.sin(X_target) + np.random.normal(0, 5, nt)\n",
    "    \n",
    "    # V_source = Z_source[:, :p] @ s + 2*X_source \n",
    "    # V_target = Z_target[:, :p] @ t - 2*X_target\n",
    "    \n",
    "    Y_source = (Z_source[:, :p].sum(axis=1))**2 + effect*V_source + x_effect*X_source + np.random.normal(0, 1, ns) \n",
    "    Y_target = (Z_target[:, :p].sum(axis=1))**2 + effect*V_target + x_effect*X_target +np.random.normal(0, 1, nt) \n",
    "    \n",
    "    \n",
    "    return Y_source.reshape(-1, 1), X_source.reshape(-1, 1), V_source.reshape(-1, 1), Z_source,\\\n",
    "           Y_target.reshape(-1, 1), X_target.reshape(-1, 1), V_target.reshape(-1, 1), Z_target"
   ]
  },
  {
   "cell_type": "code",
   "execution_count": 3,
   "id": "3c9c88b4-c59d-405b-940d-5b260bb9a9c5",
   "metadata": {},
   "outputs": [],
   "source": [
    "#Set parameter for the generation of data\n",
    "ns, p,q = 1000, 5, 50\n",
    "nt = 2000\n",
    "\n",
    "s = np.array([-1, -0.5, 0, 1, 1.5])\n",
    "t = np.array([ 1, -1, 0.5 , -0.5, -1])\n",
    "u = np.array([ 0, -1, 0.5, -0.5, 1])\n",
    "\n",
    "Y_source, X_source, V_source, Z_source,Y_target, X_target, V_target, Z_target = \\\n",
    "generate_binary(ns,nt, p,q, s, t, u, Alpha_s=1, Alpha_t = 0,effect=1, z_diff = 0.1)\n",
    "            "
   ]
  },
  {
   "cell_type": "code",
   "execution_count": 4,
   "id": "c10a39c1-9118-4ec7-92d7-af65562e11fa",
   "metadata": {},
   "outputs": [],
   "source": [
    "# Data Separation:\n",
    "# # The data arrays X_e, Z_e, V_e are designated for density ratio estimation.\n",
    "# # The arrays Z_source, X_source, V_source, Y_source are used for testing.\n",
    "# # Here, we split the source data based on a specified proportion.\n",
    "\n",
    "# proportion = 0.5\n",
    "# num = int(proportion * X_source.shape[0])\n",
    "# Z_e = Z_source[:num]\n",
    "# X_e = X_source[:num]\n",
    "# V_e = V_source[:num]\n",
    "# Z_source = Z_source[num+1:]\n",
    "# X_source = X_source[num+1:]\n",
    "# V_source = V_source[num+1:]\n",
    "# Y_source = Y_source[num+1:]\n",
    "# Y_shuffle = Y_source\n"
   ]
  },
  {
   "cell_type": "markdown",
   "id": "5e2cf4f3-81e0-4b87-9ad9-83ba166b65eb",
   "metadata": {
    "tags": []
   },
   "source": [
    "# Real data experiments to run"
   ]
  },
  {
   "cell_type": "code",
   "execution_count": 5,
   "id": "cbd1da27-941c-4edf-92a1-cb20f35df397",
   "metadata": {},
   "outputs": [],
   "source": [
    "# Data Separation:\n",
    "# The data arrays X_e, Z_e, V_e are designated for density ratio estimation.\n",
    "# The arrays Z_source, X_source, V_source, Y_source are used for testing.\n",
    "# Here, we split the source data based on a specified proportion.\n",
    "\n",
    "proportion = 0.5\n",
    "num = int(proportion * X_source.shape[0])\n",
    "Z_e = Z_source[:num]\n",
    "X_e = X_source[:num]\n",
    "V_e = V_source[:num]\n",
    "Z_source = Z_source[num+1:]\n",
    "X_source = X_source[num+1:]\n",
    "V_source = V_source[num+1:]\n",
    "Y_source = Y_source[num+1:]\n",
    "Y_shuffle = Y_source"
   ]
  },
  {
   "cell_type": "markdown",
   "id": "9b3381aa-a776-41f8-b122-d2a38eb8136a",
   "metadata": {},
   "source": [
    "## Check the Type-I error control with random shuffle Y"
   ]
  },
  {
   "cell_type": "code",
   "execution_count": 6,
   "id": "6e8f6125-bfc6-4c1d-9eee-c085623d3868",
   "metadata": {
    "tags": []
   },
   "outputs": [
    {
     "name": "stderr",
     "output_type": "stream",
     "text": [
      "Shuffling Y:   1%|          | 1/100 [00:05<09:03,  5.49s/it]"
     ]
    },
    {
     "name": "stdout",
     "output_type": "stream",
     "text": [
      "weight distribution:[147.82083076 198.88683355 152.29233569], test statistic:9.616790034645762\n",
      "Max density ratio:7.910513579154344\n",
      "X model coef:[[-0.0514032  -0.9353809   0.42996786 -0.45622697  0.94892472  0.04966199\n",
      "  -0.04342069  0.07328284 -0.00300043 -0.0500641   0.00990582  0.03391019\n",
      "   0.00820105  0.00119926 -0.02915687  0.00715326  0.0615861   0.06306997\n",
      "  -0.08851392 -0.04639393 -0.00621893 -0.02607277 -0.08627543  0.00433713\n",
      "   0.02898531  0.0405801   0.13655379  0.0149951  -0.00817237 -0.03681633\n",
      "   0.03633029  0.01305593 -0.11428264 -0.00804348 -0.04357021 -0.04462247\n",
      "   0.05084868 -0.05723329 -0.07386105  0.01113687  0.05813658  0.02751246\n",
      "  -0.03783302 -0.07357355 -0.00945742  0.04549016 -0.06542091  0.03985588\n",
      "  -0.05113283 -0.07067943  0.03416644 -0.03603247 -0.07138034 -0.09013238\n",
      "  -0.07004714]]\n",
      "covariance matrix[[ 0.95011504 -0.33333333 -0.33333333]\n",
      " [-0.33333333  1.7684016  -0.33333333]\n",
      " [-0.33333333 -0.33333333  0.98719433]]\n",
      "0.06360285479644634\n"
     ]
    },
    {
     "name": "stderr",
     "output_type": "stream",
     "text": [
      "Shuffling Y:   2%|▏         | 2/100 [00:10<08:57,  5.48s/it]"
     ]
    },
    {
     "name": "stdout",
     "output_type": "stream",
     "text": [
      "weight distribution:[186.57783569 147.04687721 165.37528709], test statistic:4.705762231965645\n",
      "Max density ratio:8.270649598110472\n",
      "X model coef:[[-0.0514032  -0.9353809   0.42996786 -0.45622697  0.94892472  0.04966199\n",
      "  -0.04342069  0.07328284 -0.00300043 -0.0500641   0.00990582  0.03391019\n",
      "   0.00820105  0.00119926 -0.02915687  0.00715326  0.0615861   0.06306997\n",
      "  -0.08851392 -0.04639393 -0.00621893 -0.02607277 -0.08627543  0.00433713\n",
      "   0.02898531  0.0405801   0.13655379  0.0149951  -0.00817237 -0.03681633\n",
      "   0.03633029  0.01305593 -0.11428264 -0.00804348 -0.04357021 -0.04462247\n",
      "   0.05084868 -0.05723329 -0.07386105  0.01113687  0.05813658  0.02751246\n",
      "  -0.03783302 -0.07357355 -0.00945742  0.04549016 -0.06542091  0.03985588\n",
      "  -0.05113283 -0.07067943  0.03416644 -0.03603247 -0.07138034 -0.09013238\n",
      "  -0.07004714]]\n",
      "covariance matrix[[ 0.9489675  -0.33333333 -0.33333333]\n",
      " [-0.33333333  1.85701984 -0.33333333]\n",
      " [-0.33333333 -0.33333333  0.92260727]]\n",
      "0.27392587083312137\n"
     ]
    },
    {
     "name": "stderr",
     "output_type": "stream",
     "text": [
      "Shuffling Y:   3%|▎         | 3/100 [00:16<08:50,  5.46s/it]"
     ]
    },
    {
     "name": "stdout",
     "output_type": "stream",
     "text": [
      "weight distribution:[169.26030092 171.74731551 157.99238357], test statistic:0.6459906921285017\n",
      "Max density ratio:7.86282992659381\n",
      "X model coef:[[-0.0514032  -0.9353809   0.42996786 -0.45622697  0.94892472  0.04966199\n",
      "  -0.04342069  0.07328284 -0.00300043 -0.0500641   0.00990582  0.03391019\n",
      "   0.00820105  0.00119926 -0.02915687  0.00715326  0.0615861   0.06306997\n",
      "  -0.08851392 -0.04639393 -0.00621893 -0.02607277 -0.08627543  0.00433713\n",
      "   0.02898531  0.0405801   0.13655379  0.0149951  -0.00817237 -0.03681633\n",
      "   0.03633029  0.01305593 -0.11428264 -0.00804348 -0.04357021 -0.04462247\n",
      "   0.05084868 -0.05723329 -0.07386105  0.01113687  0.05813658  0.02751246\n",
      "  -0.03783302 -0.07357355 -0.00945742  0.04549016 -0.06542091  0.03985588\n",
      "  -0.05113283 -0.07067943  0.03416644 -0.03603247 -0.07138034 -0.09013238\n",
      "  -0.07004714]]\n",
      "covariance matrix[[ 1.50670753 -0.33333333 -0.33333333]\n",
      " [-0.33333333  1.35760772 -0.33333333]\n",
      " [-0.33333333 -0.33333333  0.82228383]]\n",
      "0.9074999119509516\n"
     ]
    },
    {
     "name": "stderr",
     "output_type": "stream",
     "text": [
      "Shuffling Y:   4%|▍         | 4/100 [00:21<08:43,  5.46s/it]"
     ]
    },
    {
     "name": "stdout",
     "output_type": "stream",
     "text": [
      "weight distribution:[179.51000586 175.35083062 144.13916353], test statistic:4.494115006485091\n",
      "Max density ratio:7.625102944616324\n",
      "X model coef:[[-0.0514032  -0.9353809   0.42996786 -0.45622697  0.94892472  0.04966199\n",
      "  -0.04342069  0.07328284 -0.00300043 -0.0500641   0.00990582  0.03391019\n",
      "   0.00820105  0.00119926 -0.02915687  0.00715326  0.0615861   0.06306997\n",
      "  -0.08851392 -0.04639393 -0.00621893 -0.02607277 -0.08627543  0.00433713\n",
      "   0.02898531  0.0405801   0.13655379  0.0149951  -0.00817237 -0.03681633\n",
      "   0.03633029  0.01305593 -0.11428264 -0.00804348 -0.04357021 -0.04462247\n",
      "   0.05084868 -0.05723329 -0.07386105  0.01113687  0.05813658  0.02751246\n",
      "  -0.03783302 -0.07357355 -0.00945742  0.04549016 -0.06542091  0.03985588\n",
      "  -0.05113283 -0.07067943  0.03416644 -0.03603247 -0.07138034 -0.09013238\n",
      "  -0.07004714]]\n",
      "covariance matrix[[ 1.07545818 -0.33333333 -0.33333333]\n",
      " [-0.33333333  1.36569073 -0.33333333]\n",
      " [-0.33333333 -0.33333333  1.23493772]]\n",
      "0.29210203811418256\n"
     ]
    },
    {
     "name": "stderr",
     "output_type": "stream",
     "text": [
      "Shuffling Y:   4%|▍         | 4/100 [00:27<10:53,  6.81s/it]\n"
     ]
    },
    {
     "ename": "KeyboardInterrupt",
     "evalue": "",
     "output_type": "error",
     "traceback": [
      "\u001b[0;31m---------------------------------------------------------------------------\u001b[0m",
      "\u001b[0;31mKeyboardInterrupt\u001b[0m                         Traceback (most recent call last)",
      "Cell \u001b[0;32mIn[6], line 4\u001b[0m\n\u001b[1;32m      2\u001b[0m \u001b[38;5;28;01mfor\u001b[39;00m _ \u001b[38;5;129;01min\u001b[39;00m tqdm(\u001b[38;5;28mrange\u001b[39m(\u001b[38;5;241m100\u001b[39m), desc\u001b[38;5;241m=\u001b[39m\u001b[38;5;124m'\u001b[39m\u001b[38;5;124mShuffling Y\u001b[39m\u001b[38;5;124m'\u001b[39m):\n\u001b[1;32m      3\u001b[0m     np\u001b[38;5;241m.\u001b[39mrandom\u001b[38;5;241m.\u001b[39mshuffle(Y_shuffle)\n\u001b[0;32m----> 4\u001b[0m     p_value \u001b[38;5;241m=\u001b[39m \u001b[43mTest\u001b[49m\u001b[43m(\u001b[49m\u001b[43mX_e\u001b[49m\u001b[43m,\u001b[49m\u001b[43m \u001b[49m\u001b[43mZ_e\u001b[49m\u001b[43m,\u001b[49m\u001b[43m \u001b[49m\u001b[43mV_e\u001b[49m\u001b[43m,\u001b[49m\u001b[43m \u001b[49m\u001b[43mX_source\u001b[49m\u001b[43m,\u001b[49m\u001b[43m \u001b[49m\u001b[43mZ_source\u001b[49m\u001b[43m,\u001b[49m\u001b[43m \u001b[49m\u001b[43mV_source\u001b[49m\u001b[43m,\u001b[49m\u001b[43m \u001b[49m\u001b[43mY_source\u001b[49m\u001b[43m,\u001b[49m\u001b[43m \u001b[49m\u001b[43m\\\u001b[49m\n\u001b[1;32m      5\u001b[0m \u001b[43m     \u001b[49m\u001b[43mX_target\u001b[49m\u001b[43m,\u001b[49m\u001b[43m \u001b[49m\u001b[43mZ_target\u001b[49m\u001b[43m,\u001b[49m\u001b[43m \u001b[49m\u001b[43mV_target\u001b[49m\u001b[43m,\u001b[49m\u001b[43m \u001b[49m\u001b[43mL\u001b[49m\u001b[38;5;241;43m=\u001b[39;49m\u001b[38;5;241;43m3\u001b[39;49m\u001b[43m,\u001b[49m\u001b[43m \u001b[49m\u001b[43mK\u001b[49m\u001b[38;5;241;43m=\u001b[39;49m\u001b[38;5;241;43m20\u001b[39;49m\u001b[43m,\u001b[49m\u001b[43m \u001b[49m\u001b[43mdatatype\u001b[49m\u001b[38;5;241;43m=\u001b[39;49m\u001b[38;5;124;43m'\u001b[39;49m\u001b[38;5;124;43mbinary\u001b[39;49m\u001b[38;5;124;43m'\u001b[39;49m\u001b[43m)\u001b[49m\n\u001b[1;32m      6\u001b[0m     \u001b[38;5;28mprint\u001b[39m(p_value)\n\u001b[1;32m      7\u001b[0m     \u001b[38;5;28;01mif\u001b[39;00m p_value \u001b[38;5;241m<\u001b[39m \u001b[38;5;241m0.05\u001b[39m:\n",
      "File \u001b[0;32m~/Documents/GitHub/Covariate-shift-CRT/New_functions.py:410\u001b[0m, in \u001b[0;36mTest\u001b[0;34m(X_e, Z_e, V_e, X_source, Z_source, V_source, Y_source, X_target, Z_target, V_target, L, K, datatype)\u001b[0m\n\u001b[1;32m    407\u001b[0m cov1 \u001b[38;5;241m=\u001b[39m generate_cov_matrix(Y_source, X_source, Z_source,V_source,model_X_binary, model\u001b[38;5;241m=\u001b[39mmodel,L \u001b[38;5;241m=\u001b[39m L, K \u001b[38;5;241m=\u001b[39m K, density_ratio \u001b[38;5;241m=\u001b[39m est_dr)\n\u001b[1;32m    409\u001b[0m \u001b[38;5;66;03m# Get the csPCR test statistic\u001b[39;00m\n\u001b[0;32m--> 410\u001b[0m w, statistic \u001b[38;5;241m=\u001b[39m \u001b[43mPCRtest\u001b[49m\u001b[43m(\u001b[49m\u001b[43mY_source\u001b[49m\u001b[43m,\u001b[49m\u001b[43m \u001b[49m\u001b[43mX_source\u001b[49m\u001b[43m,\u001b[49m\u001b[43m \u001b[49m\u001b[43mZ_source\u001b[49m\u001b[43m,\u001b[49m\u001b[43mV_source\u001b[49m\u001b[43m,\u001b[49m\u001b[43mmodel_X_binary\u001b[49m\u001b[43m,\u001b[49m\u001b[43m \u001b[49m\u001b[43mmodel\u001b[49m\u001b[38;5;241;43m=\u001b[39;49m\u001b[43mmodel\u001b[49m\u001b[43m,\u001b[49m\u001b[43m \u001b[49m\u001b[43mL\u001b[49m\u001b[43m \u001b[49m\u001b[38;5;241;43m=\u001b[39;49m\u001b[43m \u001b[49m\u001b[43mL\u001b[49m\u001b[43m,\u001b[49m\u001b[43m \u001b[49m\u001b[43mK\u001b[49m\u001b[43m \u001b[49m\u001b[38;5;241;43m=\u001b[39;49m\u001b[43m \u001b[49m\u001b[43mK\u001b[49m\u001b[43m,\u001b[49m\u001b[43m \u001b[49m\u001b[43mcovariate_shift\u001b[49m\u001b[43m \u001b[49m\u001b[38;5;241;43m=\u001b[39;49m\u001b[43m \u001b[49m\u001b[38;5;28;43;01mTrue\u001b[39;49;00m\u001b[43m,\u001b[49m\u001b[43m \u001b[49m\u001b[43mdensity_ratio\u001b[49m\u001b[43m \u001b[49m\u001b[38;5;241;43m=\u001b[39;49m\u001b[43m \u001b[49m\u001b[43mest_dr\u001b[49m\u001b[43m)\u001b[49m\n\u001b[1;32m    411\u001b[0m \u001b[38;5;28mprint\u001b[39m(\u001b[38;5;124mf\u001b[39m\u001b[38;5;124m'\u001b[39m\u001b[38;5;124mweight distribution:\u001b[39m\u001b[38;5;132;01m{\u001b[39;00mw\u001b[38;5;132;01m}\u001b[39;00m\u001b[38;5;124m, test statistic:\u001b[39m\u001b[38;5;132;01m{\u001b[39;00mstatistic\u001b[38;5;132;01m}\u001b[39;00m\u001b[38;5;124m'\u001b[39m)\n\u001b[1;32m    412\u001b[0m \u001b[38;5;28mprint\u001b[39m(\u001b[38;5;124mf\u001b[39m\u001b[38;5;124m'\u001b[39m\u001b[38;5;124mMax density ratio:\u001b[39m\u001b[38;5;132;01m{\u001b[39;00m\u001b[38;5;28mmax\u001b[39m(est_dr)\u001b[38;5;132;01m}\u001b[39;00m\u001b[38;5;124m'\u001b[39m)\n",
      "File \u001b[0;32m~/Documents/GitHub/Covariate-shift-CRT/New_functions.py:241\u001b[0m, in \u001b[0;36mPCRtest\u001b[0;34m(Y, X, Z, V, model_X, model, L, K, covariate_shift, density_ratio)\u001b[0m\n\u001b[1;32m    239\u001b[0m \u001b[38;5;66;03m# With Covariate shift\u001b[39;00m\n\u001b[1;32m    240\u001b[0m \u001b[38;5;28;01mif\u001b[39;00m covariate_shift \u001b[38;5;241m==\u001b[39m \u001b[38;5;28;01mTrue\u001b[39;00m:\n\u001b[0;32m--> 241\u001b[0m     ind \u001b[38;5;241m=\u001b[39m \u001b[43mBin_pvalue\u001b[49m\u001b[43m(\u001b[49m\u001b[43my\u001b[49m\u001b[43m,\u001b[49m\u001b[43m \u001b[49m\u001b[43mx\u001b[49m\u001b[43m,\u001b[49m\u001b[43m \u001b[49m\u001b[43mz\u001b[49m\u001b[43m,\u001b[49m\u001b[43m \u001b[49m\u001b[43mv\u001b[49m\u001b[43m,\u001b[49m\u001b[43mmodel_X\u001b[49m\u001b[43m,\u001b[49m\u001b[43m \u001b[49m\u001b[43mmodel\u001b[49m\u001b[43m,\u001b[49m\u001b[43mL\u001b[49m\u001b[43m,\u001b[49m\u001b[43m \u001b[49m\u001b[43mK\u001b[49m\u001b[43m)\u001b[49m\n\u001b[1;32m    242\u001b[0m     W[ind] \u001b[38;5;241m+\u001b[39m\u001b[38;5;241m=\u001b[39m density_ratio[j]\n\u001b[1;32m    244\u001b[0m \u001b[38;5;66;03m# Normal PCR test\u001b[39;00m\n",
      "File \u001b[0;32m~/Documents/GitHub/Covariate-shift-CRT/New_functions.py:208\u001b[0m, in \u001b[0;36mBin_pvalue\u001b[0;34m(y, x, z, v, model_X, model, L, K)\u001b[0m\n\u001b[1;32m    206\u001b[0m \u001b[38;5;66;03m# Generate M counterfeits\u001b[39;00m\n\u001b[1;32m    207\u001b[0m \u001b[38;5;28;01mfor\u001b[39;00m i \u001b[38;5;129;01min\u001b[39;00m \u001b[38;5;28mrange\u001b[39m(M):\n\u001b[0;32m--> 208\u001b[0m     x_ \u001b[38;5;241m=\u001b[39m \u001b[43mmodel_X\u001b[49m\u001b[43m(\u001b[49m\u001b[43mz\u001b[49m\u001b[43m,\u001b[49m\u001b[43m \u001b[49m\u001b[43mmodel\u001b[49m\u001b[43m)\u001b[49m\n\u001b[1;32m    209\u001b[0m     \u001b[38;5;28;01mif\u001b[39;00m t_stat \u001b[38;5;241m>\u001b[39m T_statistic(y, x_, z, v):\n\u001b[1;32m    210\u001b[0m         cnt\u001b[38;5;241m=\u001b[39mcnt\u001b[38;5;241m+\u001b[39m\u001b[38;5;241m1\u001b[39m\n",
      "File \u001b[0;32m~/Documents/GitHub/Covariate-shift-CRT/New_functions.py:100\u001b[0m, in \u001b[0;36mmodel_X_binary\u001b[0;34m(Z, model)\u001b[0m\n\u001b[1;32m     98\u001b[0m \u001b[38;5;28;01mdef\u001b[39;00m \u001b[38;5;21mmodel_X_binary\u001b[39m(Z, model):\n\u001b[1;32m     99\u001b[0m     Z \u001b[38;5;241m=\u001b[39m Z\u001b[38;5;241m.\u001b[39mreshape(\u001b[38;5;241m1\u001b[39m,\u001b[38;5;241m-\u001b[39m\u001b[38;5;241m1\u001b[39m)\n\u001b[0;32m--> 100\u001b[0m     prob_X_is_1 \u001b[38;5;241m=\u001b[39m \u001b[43mmodel\u001b[49m\u001b[38;5;241;43m.\u001b[39;49m\u001b[43mpredict_proba\u001b[49m\u001b[43m(\u001b[49m\u001b[43mZ\u001b[49m\u001b[43m)\u001b[49m[:, \u001b[38;5;241m1\u001b[39m]\n\u001b[1;32m    102\u001b[0m         \u001b[38;5;66;03m# Sample new binary values for X based on the predicted probabilities\u001b[39;00m\n\u001b[1;32m    103\u001b[0m     sampled_X \u001b[38;5;241m=\u001b[39m np\u001b[38;5;241m.\u001b[39mrandom\u001b[38;5;241m.\u001b[39mbinomial(\u001b[38;5;241m1\u001b[39m, prob_X_is_1)\n",
      "File \u001b[0;32m~/opt/anaconda3/lib/python3.9/site-packages/sklearn/linear_model/_logistic.py:1372\u001b[0m, in \u001b[0;36mLogisticRegression.predict_proba\u001b[0;34m(self, X)\u001b[0m\n\u001b[1;32m   1364\u001b[0m ovr \u001b[38;5;241m=\u001b[39m \u001b[38;5;28mself\u001b[39m\u001b[38;5;241m.\u001b[39mmulti_class \u001b[38;5;129;01min\u001b[39;00m [\u001b[38;5;124m\"\u001b[39m\u001b[38;5;124movr\u001b[39m\u001b[38;5;124m\"\u001b[39m, \u001b[38;5;124m\"\u001b[39m\u001b[38;5;124mwarn\u001b[39m\u001b[38;5;124m\"\u001b[39m] \u001b[38;5;129;01mor\u001b[39;00m (\n\u001b[1;32m   1365\u001b[0m     \u001b[38;5;28mself\u001b[39m\u001b[38;5;241m.\u001b[39mmulti_class \u001b[38;5;241m==\u001b[39m \u001b[38;5;124m\"\u001b[39m\u001b[38;5;124mauto\u001b[39m\u001b[38;5;124m\"\u001b[39m\n\u001b[1;32m   1366\u001b[0m     \u001b[38;5;129;01mand\u001b[39;00m (\n\u001b[0;32m   (...)\u001b[0m\n\u001b[1;32m   1369\u001b[0m     )\n\u001b[1;32m   1370\u001b[0m )\n\u001b[1;32m   1371\u001b[0m \u001b[38;5;28;01mif\u001b[39;00m ovr:\n\u001b[0;32m-> 1372\u001b[0m     \u001b[38;5;28;01mreturn\u001b[39;00m \u001b[38;5;28;43msuper\u001b[39;49m\u001b[43m(\u001b[49m\u001b[43m)\u001b[49m\u001b[38;5;241;43m.\u001b[39;49m\u001b[43m_predict_proba_lr\u001b[49m\u001b[43m(\u001b[49m\u001b[43mX\u001b[49m\u001b[43m)\u001b[49m\n\u001b[1;32m   1373\u001b[0m \u001b[38;5;28;01melse\u001b[39;00m:\n\u001b[1;32m   1374\u001b[0m     decision \u001b[38;5;241m=\u001b[39m \u001b[38;5;28mself\u001b[39m\u001b[38;5;241m.\u001b[39mdecision_function(X)\n",
      "File \u001b[0;32m~/opt/anaconda3/lib/python3.9/site-packages/sklearn/linear_model/_base.py:434\u001b[0m, in \u001b[0;36mLinearClassifierMixin._predict_proba_lr\u001b[0;34m(self, X)\u001b[0m\n\u001b[1;32m    427\u001b[0m \u001b[38;5;28;01mdef\u001b[39;00m \u001b[38;5;21m_predict_proba_lr\u001b[39m(\u001b[38;5;28mself\u001b[39m, X):\n\u001b[1;32m    428\u001b[0m     \u001b[38;5;124;03m\"\"\"Probability estimation for OvR logistic regression.\u001b[39;00m\n\u001b[1;32m    429\u001b[0m \n\u001b[1;32m    430\u001b[0m \u001b[38;5;124;03m    Positive class probabilities are computed as\u001b[39;00m\n\u001b[1;32m    431\u001b[0m \u001b[38;5;124;03m    1. / (1. + np.exp(-self.decision_function(X)));\u001b[39;00m\n\u001b[1;32m    432\u001b[0m \u001b[38;5;124;03m    multiclass is handled by normalizing that over all classes.\u001b[39;00m\n\u001b[1;32m    433\u001b[0m \u001b[38;5;124;03m    \"\"\"\u001b[39;00m\n\u001b[0;32m--> 434\u001b[0m     prob \u001b[38;5;241m=\u001b[39m \u001b[38;5;28;43mself\u001b[39;49m\u001b[38;5;241;43m.\u001b[39;49m\u001b[43mdecision_function\u001b[49m\u001b[43m(\u001b[49m\u001b[43mX\u001b[49m\u001b[43m)\u001b[49m\n\u001b[1;32m    435\u001b[0m     expit(prob, out\u001b[38;5;241m=\u001b[39mprob)\n\u001b[1;32m    436\u001b[0m     \u001b[38;5;28;01mif\u001b[39;00m prob\u001b[38;5;241m.\u001b[39mndim \u001b[38;5;241m==\u001b[39m \u001b[38;5;241m1\u001b[39m:\n",
      "File \u001b[0;32m~/opt/anaconda3/lib/python3.9/site-packages/sklearn/linear_model/_base.py:400\u001b[0m, in \u001b[0;36mLinearClassifierMixin.decision_function\u001b[0;34m(self, X)\u001b[0m\n\u001b[1;32m    397\u001b[0m check_is_fitted(\u001b[38;5;28mself\u001b[39m)\n\u001b[1;32m    398\u001b[0m xp, _ \u001b[38;5;241m=\u001b[39m get_namespace(X)\n\u001b[0;32m--> 400\u001b[0m X \u001b[38;5;241m=\u001b[39m \u001b[38;5;28;43mself\u001b[39;49m\u001b[38;5;241;43m.\u001b[39;49m\u001b[43m_validate_data\u001b[49m\u001b[43m(\u001b[49m\u001b[43mX\u001b[49m\u001b[43m,\u001b[49m\u001b[43m \u001b[49m\u001b[43maccept_sparse\u001b[49m\u001b[38;5;241;43m=\u001b[39;49m\u001b[38;5;124;43m\"\u001b[39;49m\u001b[38;5;124;43mcsr\u001b[39;49m\u001b[38;5;124;43m\"\u001b[39;49m\u001b[43m,\u001b[49m\u001b[43m \u001b[49m\u001b[43mreset\u001b[49m\u001b[38;5;241;43m=\u001b[39;49m\u001b[38;5;28;43;01mFalse\u001b[39;49;00m\u001b[43m)\u001b[49m\n\u001b[1;32m    401\u001b[0m scores \u001b[38;5;241m=\u001b[39m safe_sparse_dot(X, \u001b[38;5;28mself\u001b[39m\u001b[38;5;241m.\u001b[39mcoef_\u001b[38;5;241m.\u001b[39mT, dense_output\u001b[38;5;241m=\u001b[39m\u001b[38;5;28;01mTrue\u001b[39;00m) \u001b[38;5;241m+\u001b[39m \u001b[38;5;28mself\u001b[39m\u001b[38;5;241m.\u001b[39mintercept_\n\u001b[1;32m    402\u001b[0m \u001b[38;5;28;01mreturn\u001b[39;00m xp\u001b[38;5;241m.\u001b[39mreshape(scores, \u001b[38;5;241m-\u001b[39m\u001b[38;5;241m1\u001b[39m) \u001b[38;5;28;01mif\u001b[39;00m scores\u001b[38;5;241m.\u001b[39mshape[\u001b[38;5;241m1\u001b[39m] \u001b[38;5;241m==\u001b[39m \u001b[38;5;241m1\u001b[39m \u001b[38;5;28;01melse\u001b[39;00m scores\n",
      "File \u001b[0;32m~/opt/anaconda3/lib/python3.9/site-packages/sklearn/base.py:546\u001b[0m, in \u001b[0;36mBaseEstimator._validate_data\u001b[0;34m(self, X, y, reset, validate_separately, **check_params)\u001b[0m\n\u001b[1;32m    544\u001b[0m     \u001b[38;5;28;01mraise\u001b[39;00m \u001b[38;5;167;01mValueError\u001b[39;00m(\u001b[38;5;124m\"\u001b[39m\u001b[38;5;124mValidation should be done on X, y or both.\u001b[39m\u001b[38;5;124m\"\u001b[39m)\n\u001b[1;32m    545\u001b[0m \u001b[38;5;28;01melif\u001b[39;00m \u001b[38;5;129;01mnot\u001b[39;00m no_val_X \u001b[38;5;129;01mand\u001b[39;00m no_val_y:\n\u001b[0;32m--> 546\u001b[0m     X \u001b[38;5;241m=\u001b[39m \u001b[43mcheck_array\u001b[49m\u001b[43m(\u001b[49m\u001b[43mX\u001b[49m\u001b[43m,\u001b[49m\u001b[43m \u001b[49m\u001b[43minput_name\u001b[49m\u001b[38;5;241;43m=\u001b[39;49m\u001b[38;5;124;43m\"\u001b[39;49m\u001b[38;5;124;43mX\u001b[39;49m\u001b[38;5;124;43m\"\u001b[39;49m\u001b[43m,\u001b[49m\u001b[43m \u001b[49m\u001b[38;5;241;43m*\u001b[39;49m\u001b[38;5;241;43m*\u001b[39;49m\u001b[43mcheck_params\u001b[49m\u001b[43m)\u001b[49m\n\u001b[1;32m    547\u001b[0m     out \u001b[38;5;241m=\u001b[39m X\n\u001b[1;32m    548\u001b[0m \u001b[38;5;28;01melif\u001b[39;00m no_val_X \u001b[38;5;129;01mand\u001b[39;00m \u001b[38;5;129;01mnot\u001b[39;00m no_val_y:\n",
      "File \u001b[0;32m~/opt/anaconda3/lib/python3.9/site-packages/sklearn/utils/validation.py:921\u001b[0m, in \u001b[0;36mcheck_array\u001b[0;34m(array, accept_sparse, accept_large_sparse, dtype, order, copy, force_all_finite, ensure_2d, allow_nd, ensure_min_samples, ensure_min_features, estimator, input_name)\u001b[0m\n\u001b[1;32m    915\u001b[0m         \u001b[38;5;28;01mraise\u001b[39;00m \u001b[38;5;167;01mValueError\u001b[39;00m(\n\u001b[1;32m    916\u001b[0m             \u001b[38;5;124m\"\u001b[39m\u001b[38;5;124mFound array with dim \u001b[39m\u001b[38;5;132;01m%d\u001b[39;00m\u001b[38;5;124m. \u001b[39m\u001b[38;5;132;01m%s\u001b[39;00m\u001b[38;5;124m expected <= 2.\u001b[39m\u001b[38;5;124m\"\u001b[39m\n\u001b[1;32m    917\u001b[0m             \u001b[38;5;241m%\u001b[39m (array\u001b[38;5;241m.\u001b[39mndim, estimator_name)\n\u001b[1;32m    918\u001b[0m         )\n\u001b[1;32m    920\u001b[0m     \u001b[38;5;28;01mif\u001b[39;00m force_all_finite:\n\u001b[0;32m--> 921\u001b[0m         \u001b[43m_assert_all_finite\u001b[49m\u001b[43m(\u001b[49m\n\u001b[1;32m    922\u001b[0m \u001b[43m            \u001b[49m\u001b[43marray\u001b[49m\u001b[43m,\u001b[49m\n\u001b[1;32m    923\u001b[0m \u001b[43m            \u001b[49m\u001b[43minput_name\u001b[49m\u001b[38;5;241;43m=\u001b[39;49m\u001b[43minput_name\u001b[49m\u001b[43m,\u001b[49m\n\u001b[1;32m    924\u001b[0m \u001b[43m            \u001b[49m\u001b[43mestimator_name\u001b[49m\u001b[38;5;241;43m=\u001b[39;49m\u001b[43mestimator_name\u001b[49m\u001b[43m,\u001b[49m\n\u001b[1;32m    925\u001b[0m \u001b[43m            \u001b[49m\u001b[43mallow_nan\u001b[49m\u001b[38;5;241;43m=\u001b[39;49m\u001b[43mforce_all_finite\u001b[49m\u001b[43m \u001b[49m\u001b[38;5;241;43m==\u001b[39;49m\u001b[43m \u001b[49m\u001b[38;5;124;43m\"\u001b[39;49m\u001b[38;5;124;43mallow-nan\u001b[39;49m\u001b[38;5;124;43m\"\u001b[39;49m\u001b[43m,\u001b[49m\n\u001b[1;32m    926\u001b[0m \u001b[43m        \u001b[49m\u001b[43m)\u001b[49m\n\u001b[1;32m    928\u001b[0m \u001b[38;5;28;01mif\u001b[39;00m ensure_min_samples \u001b[38;5;241m>\u001b[39m \u001b[38;5;241m0\u001b[39m:\n\u001b[1;32m    929\u001b[0m     n_samples \u001b[38;5;241m=\u001b[39m _num_samples(array)\n",
      "File \u001b[0;32m~/opt/anaconda3/lib/python3.9/site-packages/sklearn/utils/validation.py:122\u001b[0m, in \u001b[0;36m_assert_all_finite\u001b[0;34m(X, allow_nan, msg_dtype, estimator_name, input_name)\u001b[0m\n\u001b[1;32m    117\u001b[0m \u001b[38;5;66;03m# First try an O(n) time, O(1) space solution for the common case that\u001b[39;00m\n\u001b[1;32m    118\u001b[0m \u001b[38;5;66;03m# everything is finite; fall back to O(n) space `np.isinf/isnan` or custom\u001b[39;00m\n\u001b[1;32m    119\u001b[0m \u001b[38;5;66;03m# Cython implementation to prevent false positives and provide a detailed\u001b[39;00m\n\u001b[1;32m    120\u001b[0m \u001b[38;5;66;03m# error message.\u001b[39;00m\n\u001b[1;32m    121\u001b[0m \u001b[38;5;28;01mwith\u001b[39;00m np\u001b[38;5;241m.\u001b[39merrstate(over\u001b[38;5;241m=\u001b[39m\u001b[38;5;124m\"\u001b[39m\u001b[38;5;124mignore\u001b[39m\u001b[38;5;124m\"\u001b[39m):\n\u001b[0;32m--> 122\u001b[0m     first_pass_isfinite \u001b[38;5;241m=\u001b[39m \u001b[43mxp\u001b[49m\u001b[38;5;241;43m.\u001b[39;49m\u001b[43misfinite\u001b[49m(xp\u001b[38;5;241m.\u001b[39msum(X))\n\u001b[1;32m    123\u001b[0m \u001b[38;5;28;01mif\u001b[39;00m first_pass_isfinite:\n\u001b[1;32m    124\u001b[0m     \u001b[38;5;28;01mreturn\u001b[39;00m\n",
      "File \u001b[0;32m~/opt/anaconda3/lib/python3.9/site-packages/sklearn/utils/_array_api.py:63\u001b[0m, in \u001b[0;36m_NumPyApiWrapper.__getattr__\u001b[0;34m(self, name)\u001b[0m\n\u001b[1;32m     52\u001b[0m \u001b[38;5;28;01mclass\u001b[39;00m \u001b[38;5;21;01m_NumPyApiWrapper\u001b[39;00m:\n\u001b[1;32m     53\u001b[0m     \u001b[38;5;124;03m\"\"\"Array API compat wrapper for any numpy version\u001b[39;00m\n\u001b[1;32m     54\u001b[0m \n\u001b[1;32m     55\u001b[0m \u001b[38;5;124;03m    NumPy < 1.22 does not expose the numpy.array_api namespace. This\u001b[39;00m\n\u001b[0;32m   (...)\u001b[0m\n\u001b[1;32m     60\u001b[0m \u001b[38;5;124;03m    See the `get_namespace()` public function for more details.\u001b[39;00m\n\u001b[1;32m     61\u001b[0m \u001b[38;5;124;03m    \"\"\"\u001b[39;00m\n\u001b[0;32m---> 63\u001b[0m     \u001b[38;5;28;01mdef\u001b[39;00m \u001b[38;5;21m__getattr__\u001b[39m(\u001b[38;5;28mself\u001b[39m, name):\n\u001b[1;32m     64\u001b[0m         \u001b[38;5;28;01mreturn\u001b[39;00m \u001b[38;5;28mgetattr\u001b[39m(numpy, name)\n\u001b[1;32m     66\u001b[0m     \u001b[38;5;28;01mdef\u001b[39;00m \u001b[38;5;21mastype\u001b[39m(\u001b[38;5;28mself\u001b[39m, x, dtype, \u001b[38;5;241m*\u001b[39m, copy\u001b[38;5;241m=\u001b[39m\u001b[38;5;28;01mTrue\u001b[39;00m, casting\u001b[38;5;241m=\u001b[39m\u001b[38;5;124m\"\u001b[39m\u001b[38;5;124munsafe\u001b[39m\u001b[38;5;124m\"\u001b[39m):\n\u001b[1;32m     67\u001b[0m         \u001b[38;5;66;03m# astype is not defined in the top level NumPy namespace\u001b[39;00m\n",
      "\u001b[0;31mKeyboardInterrupt\u001b[0m: "
     ]
    }
   ],
   "source": [
    "count = 0\n",
    "for _ in tqdm(range(100), desc='Shuffling Y'):\n",
    "    np.random.shuffle(Y_shuffle)\n",
    "    p_value = Test(X_e, Z_e, V_e, X_source, Z_source, V_source, Y_source, \\\n",
    "     X_target, Z_target, V_target, L=3, K=20, datatype='binary')\n",
    "    print(p_value)\n",
    "    if p_value < 0.05:\n",
    "        count += 1\n",
    "print(f'Simulated Type-I error rate for csPCR is {count/100}')\n",
    "    \n",
    "    "
   ]
  },
  {
   "cell_type": "code",
   "execution_count": 7,
   "id": "47e78bb7-5e41-4c43-aefe-f3356ee17cbb",
   "metadata": {
    "collapsed": true,
    "jupyter": {
     "outputs_hidden": true
    },
    "tags": []
   },
   "outputs": [
    {
     "name": "stderr",
     "output_type": "stream",
     "text": [
      "Shuffling Y:   0%|          | 0/100 [00:00<?, ?it/s]\n"
     ]
    },
    {
     "ename": "ValueError",
     "evalue": "Unknown label type: 'continuous'",
     "output_type": "error",
     "traceback": [
      "\u001b[0;31m---------------------------------------------------------------------------\u001b[0m",
      "\u001b[0;31mValueError\u001b[0m                                Traceback (most recent call last)",
      "Cell \u001b[0;32mIn[7], line 4\u001b[0m\n\u001b[1;32m      2\u001b[0m \u001b[38;5;28;01mfor\u001b[39;00m _ \u001b[38;5;129;01min\u001b[39;00m tqdm(\u001b[38;5;28mrange\u001b[39m(\u001b[38;5;241m100\u001b[39m), desc\u001b[38;5;241m=\u001b[39m\u001b[38;5;124m'\u001b[39m\u001b[38;5;124mShuffling Y\u001b[39m\u001b[38;5;124m'\u001b[39m):\n\u001b[1;32m      3\u001b[0m     np\u001b[38;5;241m.\u001b[39mrandom\u001b[38;5;241m.\u001b[39mshuffle(Y_shuffle)\n\u001b[0;32m----> 4\u001b[0m     p_value \u001b[38;5;241m=\u001b[39m \u001b[43mTest_pe\u001b[49m\u001b[43m(\u001b[49m\u001b[43mX_e\u001b[49m\u001b[43m,\u001b[49m\u001b[43m \u001b[49m\u001b[43mZ_e\u001b[49m\u001b[43m,\u001b[49m\u001b[43m \u001b[49m\u001b[43mV_e\u001b[49m\u001b[43m,\u001b[49m\u001b[43m \u001b[49m\u001b[43mX_source\u001b[49m\u001b[43m,\u001b[49m\u001b[43m \u001b[49m\u001b[43mZ_source\u001b[49m\u001b[43m,\u001b[49m\u001b[43m \u001b[49m\u001b[43mV_source\u001b[49m\u001b[43m,\u001b[49m\u001b[43m \u001b[49m\u001b[43mY_shuffle\u001b[49m\u001b[43m,\u001b[49m\u001b[43m \u001b[49m\u001b[43m\\\u001b[49m\n\u001b[1;32m      5\u001b[0m \u001b[43m     \u001b[49m\u001b[43mX_target\u001b[49m\u001b[43m,\u001b[49m\u001b[43m \u001b[49m\u001b[43mZ_target\u001b[49m\u001b[43m,\u001b[49m\u001b[43m \u001b[49m\u001b[43mV_target\u001b[49m\u001b[43m,\u001b[49m\u001b[43m \u001b[49m\u001b[43mL\u001b[49m\u001b[38;5;241;43m=\u001b[39;49m\u001b[38;5;241;43m3\u001b[39;49m\u001b[43m,\u001b[49m\u001b[43m \u001b[49m\u001b[43mK\u001b[49m\u001b[38;5;241;43m=\u001b[39;49m\u001b[38;5;241;43m20\u001b[39;49m\u001b[43m,\u001b[49m\u001b[43m \u001b[49m\u001b[43mdatatype\u001b[49m\u001b[38;5;241;43m=\u001b[39;49m\u001b[38;5;124;43m'\u001b[39;49m\u001b[38;5;124;43mbinary\u001b[39;49m\u001b[38;5;124;43m'\u001b[39;49m\u001b[43m)\u001b[49m\n\u001b[1;32m      6\u001b[0m     \u001b[38;5;28mprint\u001b[39m(p_value)\n\u001b[1;32m      7\u001b[0m     \u001b[38;5;28;01mif\u001b[39;00m p_value \u001b[38;5;241m<\u001b[39m \u001b[38;5;241m0.05\u001b[39m:\n",
      "File \u001b[0;32m~/Documents/GitHub/Covariate-shift-CRT/New_functions.py:637\u001b[0m, in \u001b[0;36mTest_pe\u001b[0;34m(X_e, Z_e, V_e, X_source, Z_source, V_source, Y_source, X_target, Z_target, V_target, L, K, datatype, score)\u001b[0m\n\u001b[1;32m    632\u001b[0m     V_target \u001b[38;5;241m=\u001b[39m \u001b[38;5;241m-\u001b[39mV_target\n\u001b[1;32m    635\u001b[0m \u001b[38;5;28;01mif\u001b[39;00m datatype \u001b[38;5;241m==\u001b[39m \u001b[38;5;124m'\u001b[39m\u001b[38;5;124mbinary\u001b[39m\u001b[38;5;124m'\u001b[39m:\n\u001b[1;32m    636\u001b[0m \u001b[38;5;66;03m#print(max(est_dr))\u001b[39;00m\n\u001b[0;32m--> 637\u001b[0m     model \u001b[38;5;241m=\u001b[39m \u001b[43mest_x\u001b[49m\u001b[43m(\u001b[49m\u001b[43mX_target\u001b[49m\u001b[43m,\u001b[49m\u001b[43m \u001b[49m\u001b[43mZ_target\u001b[49m\u001b[43m,\u001b[49m\u001b[43m \u001b[49m\u001b[43mdatatype\u001b[49m\u001b[43m \u001b[49m\u001b[38;5;241;43m=\u001b[39;49m\u001b[43m \u001b[49m\u001b[38;5;124;43m'\u001b[39;49m\u001b[38;5;124;43mbinary\u001b[39;49m\u001b[38;5;124;43m'\u001b[39;49m\u001b[43m)\u001b[49m\n\u001b[1;32m    638\u001b[0m     WV, statistic, a,b,c,g \u001b[38;5;241m=\u001b[39m PCRtest_Powen(Y_source, X_source, Z_source, V_source, X_target, Z_target, V_target, model_X_binary, model, L, K, est_dr)\n\u001b[1;32m    639\u001b[0m     \u001b[38;5;66;03m# print(WV)\u001b[39;00m\n",
      "File \u001b[0;32m~/Documents/GitHub/Covariate-shift-CRT/New_functions.py:73\u001b[0m, in \u001b[0;36mest_x\u001b[0;34m(X_e, Z_e, datatype, method)\u001b[0m\n\u001b[1;32m     71\u001b[0m \u001b[38;5;28;01mif\u001b[39;00m method \u001b[38;5;241m==\u001b[39m \u001b[38;5;124m'\u001b[39m\u001b[38;5;124mLR\u001b[39m\u001b[38;5;124m'\u001b[39m:\n\u001b[1;32m     72\u001b[0m     \u001b[38;5;28;01mif\u001b[39;00m datatype \u001b[38;5;241m==\u001b[39m \u001b[38;5;124m'\u001b[39m\u001b[38;5;124mbinary\u001b[39m\u001b[38;5;124m'\u001b[39m:\n\u001b[0;32m---> 73\u001b[0m         model \u001b[38;5;241m=\u001b[39m \u001b[43mLogisticRegression\u001b[49m\u001b[43m(\u001b[49m\u001b[43mrandom_state\u001b[49m\u001b[38;5;241;43m=\u001b[39;49m\u001b[38;5;241;43m0\u001b[39;49m\u001b[43m)\u001b[49m\u001b[38;5;241;43m.\u001b[39;49m\u001b[43mfit\u001b[49m\u001b[43m(\u001b[49m\u001b[43mZ_e\u001b[49m\u001b[43m,\u001b[49m\u001b[43m \u001b[49m\u001b[43mX_e\u001b[49m\u001b[43m)\u001b[49m\n\u001b[1;32m     74\u001b[0m         \u001b[38;5;66;03m# print(f'Training accuracy for X|Z: {model.score(Z_e, X_e)}')\u001b[39;00m\n\u001b[1;32m     75\u001b[0m         \u001b[38;5;28;01mreturn\u001b[39;00m model\n",
      "File \u001b[0;32m~/opt/anaconda3/lib/python3.9/site-packages/sklearn/linear_model/_logistic.py:1204\u001b[0m, in \u001b[0;36mLogisticRegression.fit\u001b[0;34m(self, X, y, sample_weight)\u001b[0m\n\u001b[1;32m   1194\u001b[0m     _dtype \u001b[38;5;241m=\u001b[39m [np\u001b[38;5;241m.\u001b[39mfloat64, np\u001b[38;5;241m.\u001b[39mfloat32]\n\u001b[1;32m   1196\u001b[0m X, y \u001b[38;5;241m=\u001b[39m \u001b[38;5;28mself\u001b[39m\u001b[38;5;241m.\u001b[39m_validate_data(\n\u001b[1;32m   1197\u001b[0m     X,\n\u001b[1;32m   1198\u001b[0m     y,\n\u001b[0;32m   (...)\u001b[0m\n\u001b[1;32m   1202\u001b[0m     accept_large_sparse\u001b[38;5;241m=\u001b[39msolver \u001b[38;5;129;01mnot\u001b[39;00m \u001b[38;5;129;01min\u001b[39;00m [\u001b[38;5;124m\"\u001b[39m\u001b[38;5;124mliblinear\u001b[39m\u001b[38;5;124m\"\u001b[39m, \u001b[38;5;124m\"\u001b[39m\u001b[38;5;124msag\u001b[39m\u001b[38;5;124m\"\u001b[39m, \u001b[38;5;124m\"\u001b[39m\u001b[38;5;124msaga\u001b[39m\u001b[38;5;124m\"\u001b[39m],\n\u001b[1;32m   1203\u001b[0m )\n\u001b[0;32m-> 1204\u001b[0m \u001b[43mcheck_classification_targets\u001b[49m\u001b[43m(\u001b[49m\u001b[43my\u001b[49m\u001b[43m)\u001b[49m\n\u001b[1;32m   1205\u001b[0m \u001b[38;5;28mself\u001b[39m\u001b[38;5;241m.\u001b[39mclasses_ \u001b[38;5;241m=\u001b[39m np\u001b[38;5;241m.\u001b[39munique(y)\n\u001b[1;32m   1207\u001b[0m multi_class \u001b[38;5;241m=\u001b[39m _check_multi_class(\u001b[38;5;28mself\u001b[39m\u001b[38;5;241m.\u001b[39mmulti_class, solver, \u001b[38;5;28mlen\u001b[39m(\u001b[38;5;28mself\u001b[39m\u001b[38;5;241m.\u001b[39mclasses_))\n",
      "File \u001b[0;32m~/opt/anaconda3/lib/python3.9/site-packages/sklearn/utils/multiclass.py:207\u001b[0m, in \u001b[0;36mcheck_classification_targets\u001b[0;34m(y)\u001b[0m\n\u001b[1;32m    199\u001b[0m y_type \u001b[38;5;241m=\u001b[39m type_of_target(y, input_name\u001b[38;5;241m=\u001b[39m\u001b[38;5;124m\"\u001b[39m\u001b[38;5;124my\u001b[39m\u001b[38;5;124m\"\u001b[39m)\n\u001b[1;32m    200\u001b[0m \u001b[38;5;28;01mif\u001b[39;00m y_type \u001b[38;5;129;01mnot\u001b[39;00m \u001b[38;5;129;01min\u001b[39;00m [\n\u001b[1;32m    201\u001b[0m     \u001b[38;5;124m\"\u001b[39m\u001b[38;5;124mbinary\u001b[39m\u001b[38;5;124m\"\u001b[39m,\n\u001b[1;32m    202\u001b[0m     \u001b[38;5;124m\"\u001b[39m\u001b[38;5;124mmulticlass\u001b[39m\u001b[38;5;124m\"\u001b[39m,\n\u001b[0;32m   (...)\u001b[0m\n\u001b[1;32m    205\u001b[0m     \u001b[38;5;124m\"\u001b[39m\u001b[38;5;124mmultilabel-sequences\u001b[39m\u001b[38;5;124m\"\u001b[39m,\n\u001b[1;32m    206\u001b[0m ]:\n\u001b[0;32m--> 207\u001b[0m     \u001b[38;5;28;01mraise\u001b[39;00m \u001b[38;5;167;01mValueError\u001b[39;00m(\u001b[38;5;124m\"\u001b[39m\u001b[38;5;124mUnknown label type: \u001b[39m\u001b[38;5;132;01m%r\u001b[39;00m\u001b[38;5;124m\"\u001b[39m \u001b[38;5;241m%\u001b[39m y_type)\n",
      "\u001b[0;31mValueError\u001b[0m: Unknown label type: 'continuous'"
     ]
    }
   ],
   "source": [
    "count = 0\n",
    "for _ in tqdm(range(100), desc='Shuffling Y'):\n",
    "    np.random.shuffle(Y_shuffle)\n",
    "    p_value = Test_pe(X_e, Z_e, V_e, X_source, Z_source, V_source, Y_shuffle, \\\n",
    "     X_target, Z_target, V_target, L=3, K=20, datatype='continuous')\n",
    "    print(p_value)\n",
    "    if p_value < 0.05:\n",
    "        count += 1\n",
    "print(f'Simulated Type-I error rate for csPCR(pe) is {count/100}')\n",
    "    "
   ]
  },
  {
   "cell_type": "code",
   "execution_count": 10,
   "id": "500258c7-610e-44e3-a1ec-370d85798cb9",
   "metadata": {},
   "outputs": [
    {
     "name": "stderr",
     "output_type": "stream",
     "text": [
      "Shuffling Y: 100%|██████████| 100/100 [01:12<00:00,  1.39it/s]"
     ]
    },
    {
     "name": "stdout",
     "output_type": "stream",
     "text": [
      "Simulated Type-I error rate for IS is 0.04\n"
     ]
    },
    {
     "name": "stderr",
     "output_type": "stream",
     "text": [
      "\n"
     ]
    }
   ],
   "source": [
    "count = 0\n",
    "for _ in tqdm(range(100), desc='Shuffling Y'):\n",
    "    np.random.shuffle(Y_shuffle)\n",
    "    p_value = IS_test(X_e, Z_e, V_e, X_source, Z_source, V_source, Y_shuffle,\\\n",
    "        X_target, Z_target, V_target, L=3, K=20, datatype='binary')\n",
    "    if p_value < 0.05:\n",
    "        count += 1\n",
    "print(f'Simulated Type-I error rate for IS is {count/100}')\n",
    "    "
   ]
  },
  {
   "cell_type": "markdown",
   "id": "21f66334-515f-4245-b726-98a1e975696d",
   "metadata": {},
   "source": [
    "## Our method"
   ]
  },
  {
   "cell_type": "code",
   "execution_count": 15,
   "id": "79610af9-6d81-4dbc-bc16-24a98147e511",
   "metadata": {
    "tags": []
   },
   "outputs": [
    {
     "name": "stdout",
     "output_type": "stream",
     "text": [
      "P-value for csPCR is 0.15300633499865168\n"
     ]
    }
   ],
   "source": [
    "#1. Test without power enhancement\n",
    "p_value = Test(X_e, Z_e, V_e, X_source, Z_source, V_source, Y_source, \\\n",
    "     X_target, Z_target, V_target, L=3, K=20, datatype='binary')\n",
    "print(f'P-value for csPCR is {p_value}')\n",
    "    "
   ]
  },
  {
   "cell_type": "code",
   "execution_count": 10,
   "id": "8a5e103d-3a4a-43fd-a211-c5c06221e6e0",
   "metadata": {},
   "outputs": [
    {
     "name": "stdout",
     "output_type": "stream",
     "text": [
      "[0.08218237 0.69528804 0.14130273]\n",
      "P-value for csPCR(pe) is 1.0\n"
     ]
    }
   ],
   "source": [
    "#2. Test with power enhancement\n",
    "\n",
    "p_value = Test_pe(X_e, Z_e, V_e, X_source, Z_source, V_source, Y_source, \\\n",
    "        X_target, Z_target, V_target, L=3, K=20, datatype='continuous')\n",
    "print(f'P-value for csPCR(pe) is {p_value}')"
   ]
  },
  {
   "cell_type": "markdown",
   "id": "22968a9d-8980-44b3-9bf0-bcb716051aa8",
   "metadata": {},
   "source": [
    "### Use a different scoring function for testing V for the Power enhancement"
   ]
  },
  {
   "cell_type": "code",
   "execution_count": 17,
   "id": "26f3b42b-91e1-4b0f-aacc-fd482282e35f",
   "metadata": {},
   "outputs": [
    {
     "name": "stdout",
     "output_type": "stream",
     "text": [
      "P-value for csPCR(pe) with negative scoring function is 0.7262152709691574\n"
     ]
    }
   ],
   "source": [
    "# Originally, we use v*x for scoring, here we use (-v)*x to detect \n",
    "# the negative correlation between Y and V\n",
    "p_value = Test_pe(X_e, Z_e, V_e, X_source, Z_source, V_source, Y_source, \\\n",
    "        X_target, Z_target, V_target, L=3, K=20, datatype='binary', score = 'neg')\n",
    "print(f'P-value for csPCR(pe) with negative scoring function is {p_value}')"
   ]
  },
  {
   "cell_type": "markdown",
   "id": "cc094742-8470-45e6-86a9-f1393f7431ae",
   "metadata": {},
   "source": [
    "## Benchmark\n",
    "there are 3 benchmarks:1. Use source only data, 2. Use target only data, 3. Importance sampling method (the benchmark from others)"
   ]
  },
  {
   "cell_type": "code",
   "execution_count": 18,
   "id": "9251a4ab-1f4e-4856-be09-22a44f42bffd",
   "metadata": {},
   "outputs": [
    {
     "name": "stdout",
     "output_type": "stream",
     "text": [
      "P-value for PCR with source data is 0.6250775742972228\n"
     ]
    }
   ],
   "source": [
    "#1. Use source data only\n",
    "#2. Test with power enhancement\n",
    "\n",
    "p_value = PCR_test(X_source,Z_source,V_source,Y_source)\n",
    "print(f'P-value for PCR with source data is {p_value}')"
   ]
  },
  {
   "cell_type": "code",
   "execution_count": 19,
   "id": "5a2f8c8f-53ab-40ea-a0b5-3e83967dc13c",
   "metadata": {},
   "outputs": [
    {
     "name": "stdout",
     "output_type": "stream",
     "text": [
      "P-value for PCR with target data is 0.39537210168587544\n"
     ]
    }
   ],
   "source": [
    "#2. Use target data only\n",
    "\n",
    "p_value = PCR_test(X_target,Z_target,V_target,Y_target)\n",
    "print(f'P-value for PCR with target data is {p_value}')"
   ]
  },
  {
   "cell_type": "code",
   "execution_count": 21,
   "id": "cb824e77-a28c-4122-9e25-f603c317843a",
   "metadata": {},
   "outputs": [
    {
     "name": "stdout",
     "output_type": "stream",
     "text": [
      "P-value for IS is 0.7824830494337698\n"
     ]
    }
   ],
   "source": [
    "#3. Use Importance Sampling benchmark method\n",
    "\n",
    "p_value = IS_test(X_e, Z_e, V_e, X_source, Z_source, V_source, Y_source,\\\n",
    "        X_target, Z_target, V_target, L=3, K=20, datatype='binary')\n",
    "print(f'P-value for IS is {p_value}')"
   ]
  },
  {
   "cell_type": "markdown",
   "id": "065e3620-442d-45b9-a89b-6002c61c784a",
   "metadata": {},
   "source": [
    "## Tune hyperparameter L"
   ]
  },
  {
   "cell_type": "code",
   "execution_count": 9,
   "id": "41fb6f19-94d2-4934-9e11-e88147f7a404",
   "metadata": {},
   "outputs": [
    {
     "name": "stdout",
     "output_type": "stream",
     "text": [
      "Training accuracy for X|Z: 0.717\n",
      "[0.23433064 0.19167032 0.28155873]\n",
      "[167.95443516 165.08707733 174.75729811]\n",
      "L is 2, pvalue: 0.933563916771966\n",
      "Training accuracy for X|Z: 0.717\n",
      "[0.2952632  0.20613484 0.31138347]\n",
      "[140.64749537 187.91719237 174.08845475]\n",
      "L is 5, pvalue: 0.06342484042790109\n",
      "Training accuracy for X|Z: 0.717\n",
      "[0.2715509  0.20274784 0.29688373]\n",
      "[148.2607481  172.03479922 184.74858996]\n",
      "L is 8, pvalue: 0.21636110362760874\n",
      "Training accuracy for X|Z: 0.717\n",
      "[0.29121139 0.13614264 0.34778643]\n",
      "[146.78635223 166.57257311 184.67772408]\n",
      "L is 10, pvalue: 0.195118444312963\n"
     ]
    }
   ],
   "source": [
    "l_lst = [2, 5, 8, 10]\n",
    "result_lst = []\n",
    "for l in l_lst:\n",
    "    # Use any test function above\n",
    "    pvalue = Test_pe(X_e, Z_e, V_e, X_source, Z_source, V_source, Y_source, X_target, Z_target, V_target, L=3, K=20, datatype='binary')\n",
    "    result_lst.append(pvalue)\n",
    "    print(f'L is {l}, pvalue: {pvalue}')"
   ]
  }
 ],
 "metadata": {
  "kernelspec": {
   "display_name": "Python 3 (ipykernel)",
   "language": "python",
   "name": "python3"
  },
  "language_info": {
   "codemirror_mode": {
    "name": "ipython",
    "version": 3
   },
   "file_extension": ".py",
   "mimetype": "text/x-python",
   "name": "python",
   "nbconvert_exporter": "python",
   "pygments_lexer": "ipython3",
   "version": "3.9.16"
  }
 },
 "nbformat": 4,
 "nbformat_minor": 5
}
