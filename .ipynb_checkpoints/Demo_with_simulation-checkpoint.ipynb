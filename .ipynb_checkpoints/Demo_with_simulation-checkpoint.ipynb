{
 "cells": [
  {
   "cell_type": "markdown",
   "id": "741650e7-168c-4b6c-bc56-94cd769fd12b",
   "metadata": {},
   "source": [
    "In this short demo, I will show how to use the csPCR test on a simulated dataset."
   ]
  },
  {
   "cell_type": "code",
   "execution_count": 1,
   "id": "c023c568-8629-45b4-a974-7b7784a5772f",
   "metadata": {},
   "outputs": [],
   "source": [
    "'''\n",
    "First, we generate a dataset, we can change the Alpha_s, Alpha_t and effect parameter to change the distribution of\n",
    "the generated dataset.\n",
    "'''\n",
    "\n",
    "import numpy as np\n",
    "\n",
    "def generate(ns, nt, p,q, s, t, u, Alpha_s=0, Alpha_t = 1, effect = 2,z_diff = 0.1):\n",
    "    Zs_null = np.random.normal(0,0.1, (ns, q))\n",
    "    Zt_null = np.random.normal(0,0.1, (nt, q))\n",
    "    \n",
    "    Z_source = np.hstack((np.random.normal(0, 1, (ns, p)) , Zs_null))\n",
    "    Z_target = np.hstack((np.random.normal(z_diff, 1, (nt, p)) , Zt_null))\n",
    "    \n",
    "    X_source = Z_source[:, :p] @ u + np.random.normal(0, 1, ns)\n",
    "    X_target = Z_target[:, :p] @ u + np.random.normal(0, 1, nt)\n",
    "\n",
    "    V_source = Z_source[:, :p] @ s + Alpha_s * X_source + np.random.normal(0, 5, ns)\n",
    "    V_target = Z_target[:, :p] @ t + Alpha_t * X_target + np.random.normal(0, 5, nt)\n",
    "    \n",
    "    # V_source = Z_source[:, :p] @ s + 2*X_source \n",
    "    # V_target = Z_target[:, :p] @ t - 2*X_target\n",
    "    \n",
    "    Y_source = (Z_source[:, :p].sum(axis=1))**2 + effect*V_source + np.random.normal(0, 1, ns) \n",
    "    Y_target = (Z_target[:, :p].sum(axis=1))**2 + effect*V_target + np.random.normal(0, 1, nt) \n",
    "    \n",
    "    \n",
    "    return Y_source.reshape(-1, 1), X_source.reshape(-1, 1), V_source.reshape(-1, 1), Z_source,\\\n",
    "           Y_target.reshape(-1, 1), X_target.reshape(-1, 1), V_target.reshape(-1, 1), Z_target\n",
    "\n",
    "\n",
    "'''\n",
    "According to the generation process, \n",
    "we write 2 functions to calculate the xz_ratio and true density ratio of the data\n",
    "'''\n",
    "def xz_ratio(X, Z, V, s, t,p,q,z_diff = 0.1):\n",
    "    ratios = []\n",
    "    for i in range(V.shape[0]):\n",
    "        zs_prob = multivariate_normal.pdf(Z[i][:p], mean = 0*np.ones(p), cov= 1*np.identity(p))\n",
    "        zt_prob = multivariate_normal.pdf(Z[i][:p], mean = z_diff*np.ones(p), cov= 1*np.identity(p))\n",
    "        ratios.append((zt_prob)/(zs_prob))\n",
    "    \n",
    "    return np.array(ratios)\n",
    "\n",
    "def true_density_ratio(X, Z, V, s, t,p,q, Alpha_s = 0, Alpha_t = 1,z_diff = 0.1):\n",
    "    ratios = []\n",
    "    size = V.shape[0]\n",
    "    for i in range(size):\n",
    "        zs_prob = multivariate_normal.pdf(Z[i][:p], mean = 0*np.ones(p), cov= 1*np.identity(p))\n",
    "        vs_prob = norm.pdf(V[i], loc=Z[i][:p]@s + Alpha_s*X[i], scale =5)\n",
    "        zt_prob = multivariate_normal.pdf(Z[i][:p], mean = z_diff*np.ones(p), cov= 1*np.identity(p))\n",
    "        vt_prob = norm.pdf(V[i], loc=Z[i][:p]@t + Alpha_t*X[i], scale =5)\n",
    "        ratios.append((zt_prob*vt_prob)/(zs_prob*vs_prob))\n",
    "\n",
    "    return np.array(ratios)"
   ]
  },
  {
   "cell_type": "code",
   "execution_count": 14,
   "id": "a950bcf5-7ccf-409b-b896-29279c4b5cdd",
   "metadata": {},
   "outputs": [],
   "source": [
    "'''\n",
    "Define some parameters for data generation\n",
    "'''\n",
    "ns,nt, p,q = 2000,2000, 5, 50\n",
    "\n",
    "s = np.array([-0.56228753, -1.01283112,  0.31424733, -0.90802408, -1.4123037 ])\n",
    "t = np.array([ 1.46564877, -0.2257763 ,  0.0675282 , -1.42474819, -0.54438272])\n",
    "u = np.array([ 0.11092259, -1.15099358,  0.37569802, -0.60063869, -0.29169375])"
   ]
  },
  {
   "cell_type": "code",
   "execution_count": 15,
   "id": "df8cd705-3b10-4a8e-b392-88a750fe16ce",
   "metadata": {},
   "outputs": [],
   "source": [
    "from csPCR_functions import *"
   ]
  },
  {
   "cell_type": "code",
   "execution_count": 16,
   "id": "5bf44c25-48e4-45db-9c33-46cbb853159a",
   "metadata": {},
   "outputs": [
    {
     "data": {
      "text/plain": [
       "0.041140270575848126"
      ]
     },
     "execution_count": 16,
     "metadata": {},
     "output_type": "execute_result"
    }
   ],
   "source": [
    "Y_source, X_source, V_source, Z_source, Y_target, X_target, V_target, Z_target = generate(ns,nt, p,q, s, t, u)\n",
    "\n",
    "'''\n",
    "Since this method is model_X framework, we assume that the X|Z,V and Z distribution are known. So we need to define three \n",
    "extra functions as the input of the test.\n",
    "1. Model_X: Should be a function of the conditional model of X|Z,V\n",
    "   Input: z, v values(float)\n",
    "   Return: one X sample follows the X|Z,V distribution\n",
    "\n",
    "2. E_X: Should be a function of the conditional expectaion of X|Z,V\n",
    "   Input: z,v values(float)\n",
    "   Return: the calculated conditional expectation E[X|Z,V]\n",
    "\n",
    "3. xz_ratio: Should a function for calculating the (X,Z) density ratio (i.e. P_t(X,Z,V)/P_s(X,Z,V))\n",
    "   Input: X, Z (ndarrays)\n",
    "   Return: density ratio array (ndarray)\n",
    "'''\n",
    "\n",
    "def Model_X(z, v):\n",
    "    # Conditional distribution of X|Z\n",
    "    return z[:5] @ u + np.random.normal(0, 1, 1)\n",
    "\n",
    "def E_X(z, v):\n",
    "    # Conditional expectation of X|Z\n",
    "    return z[:5] @ u\n",
    "\n",
    "\n",
    "def xz_ratio(X, Z, z_diff = 0.1):\n",
    "    ratios = []\n",
    "    for i in range(X.shape[0]):\n",
    "        zs_prob = multivariate_normal.pdf(Z[i][:p], mean = 0*np.ones(p), cov= 1*np.identity(p))\n",
    "        zt_prob = multivariate_normal.pdf(Z[i][:p], mean = z_diff*np.ones(p), cov= 1*np.identity(p))\n",
    "        ratios.append((zt_prob)/(zs_prob))\n",
    "    \n",
    "    return np.array(ratios)\n",
    "\n",
    "'''\n",
    "To use the Test function, need input of source and target X,Z,V and source Y data into the function,\n",
    "Also take 3 functions mentioned above as inputs.\n",
    "'''\n",
    "Test(X_source, Z_source, V_source, Y_source, X_target, Z_target, V_target,\\\n",
    "     model_X = Model_X, E_X = E_X, xz_ratio = xz_ratio)\n"
   ]
  },
  {
   "cell_type": "code",
   "execution_count": null,
   "id": "247c4a83-c4d5-4c07-9579-2dac16ee0ba6",
   "metadata": {},
   "outputs": [],
   "source": []
  }
 ],
 "metadata": {
  "kernelspec": {
   "display_name": "Python 3 (ipykernel)",
   "language": "python",
   "name": "python3"
  },
  "language_info": {
   "codemirror_mode": {
    "name": "ipython",
    "version": 3
   },
   "file_extension": ".py",
   "mimetype": "text/x-python",
   "name": "python",
   "nbconvert_exporter": "python",
   "pygments_lexer": "ipython3",
   "version": "3.9.16"
  }
 },
 "nbformat": 4,
 "nbformat_minor": 5
}
