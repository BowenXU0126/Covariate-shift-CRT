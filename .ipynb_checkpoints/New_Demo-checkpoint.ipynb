{
 "cells": [
  {
   "cell_type": "code",
   "execution_count": 1,
   "id": "1096c99d-4952-4734-b66a-5ecc469923c6",
   "metadata": {},
   "outputs": [],
   "source": [
    "import numpy as np\n",
    "from New_functions import *\n",
    "from Benchmark_functions import *\n",
    "import warnings\n",
    "import matplotlib.pyplot as plt\n",
    "import time\n",
    "from tqdm import tqdm\n",
    "warnings.filterwarnings(\"ignore\")"
   ]
  },
  {
   "cell_type": "code",
   "execution_count": 2,
   "id": "535eddf8-b4e1-4295-8a99-11c280e9a4b4",
   "metadata": {},
   "outputs": [],
   "source": [
    "'''\n",
    "First, we generate a dataset, we can change the Alpha_s, Alpha_t and effect parameter to change the distribution of\n",
    "the generated dataset.\n",
    "'''\n",
    "\n",
    "import numpy as np\n",
    "\n",
    "def generate_binary(ns, nt, p, q, s, t, u, Alpha_s=1, Alpha_t=0, effect=1, x_effect=0, z_diff=0.1, threshold_X=0.5, threshold_Y=0.5):\n",
    "    # Generate normal distributions for Z\n",
    "    Zs_null = np.random.normal(0, 1, (ns, q))\n",
    "    Zt_null = np.random.normal(0, 1, (nt, q))\n",
    "    \n",
    "    # Generate Z variables with and without shift\n",
    "    Z_source = np.hstack((np.random.normal(0, 1, (ns, p)), Zs_null))\n",
    "    Z_target = np.hstack((np.random.normal(z_diff, 1, (nt, p)), Zt_null))\n",
    "    \n",
    "    # Generate X variables\n",
    "    X_source = Z_source[:, :p] @ u + np.random.normal(0, 1, ns)\n",
    "    X_target = Z_target[:, :p] @ u + np.random.normal(0, 1, nt)\n",
    "    \n",
    "    # Convert X to binary\n",
    "    X_source = (np.random.rand(ns) < 1 / (1 + np.exp(-X_source))).astype(int)\n",
    "    X_target = (np.random.rand(nt) < 1 / (1 + np.exp(-X_target))).astype(int)\n",
    "    \n",
    "    # Generate V variables\n",
    "    V_source = Z_source[:, :p] @ s + Alpha_s * X_source + np.random.normal(0, 5, ns)\n",
    "    V_target = Z_target[:, :p] @ t + Alpha_t * X_target + np.random.normal(0, 5, nt)\n",
    "    \n",
    "    # Generate Y variables\n",
    "    Y_source = (Z_source[:, :p].sum(axis=1))**2 + effect * V_source + np.random.normal(0, 1, ns) + x_effect * X_source\n",
    "    Y_target = (Z_target[:, :p].sum(axis=1))**2 + effect * V_target + np.random.normal(0, 1, nt) + x_effect * X_target\n",
    "    \n",
    "    # Convert Y to binary\n",
    "    Y_source = (np.random.rand(ns) < 1 / (1 + np.exp(-Y_source))).astype(int)\n",
    "    Y_target = (np.random.rand(nt) < 1 / (1 + np.exp(-Y_target))).astype(int)\n",
    "    \n",
    "    return Y_source.reshape(-1, 1), X_source.reshape(-1, 1), V_source.reshape(-1, 1), Z_source,\\\n",
    "           Y_target.reshape(-1, 1), X_target.reshape(-1, 1), V_target.reshape(-1, 1), Z_target\n",
    "\n",
    "\n",
    "\n",
    "def generate(ns, nt, p,q, s, t, u, Alpha_s=0, Alpha_t = 2,effect=1,x_effect = 0, non_lin = 0, z_diff = 0.1):\n",
    "    Zs_null = np.random.normal(0,0.1, (ns, q))\n",
    "    Zt_null = np.random.normal(0,0.1, (nt, q))\n",
    "    \n",
    "    Z_source = np.hstack((np.random.normal(0, 1, (ns, p)) , Zs_null))\n",
    "    Z_target = np.hstack((np.random.normal(z_diff, 1, (nt, p)) , Zt_null))\n",
    "    \n",
    "    X_source = Z_source[:, :p] @ u + np.random.normal(0, 1, ns)\n",
    "    X_target = Z_target[:, :p] @ u + np.random.normal(0, 1, nt)\n",
    "\n",
    "    V_source = Z_source[:, :p] @ s + (1-non_lin)*Alpha_s * X_source + non_lin * Alpha_s * np.sin(X_source) + np.random.normal(0, 5, ns)\n",
    "    V_target = Z_target[:, :p] @ t + (1-non_lin)*Alpha_t * X_target + non_lin * Alpha_t * np.sin(X_target) + np.random.normal(0, 5, nt)\n",
    "    \n",
    "    # V_source = Z_source[:, :p] @ s + 2*X_source \n",
    "    # V_target = Z_target[:, :p] @ t - 2*X_target\n",
    "    \n",
    "    Y_source = (Z_source[:, :p].sum(axis=1))**2 + effect*V_source + x_effect*X_source + np.random.normal(0, 1, ns) \n",
    "    Y_target = (Z_target[:, :p].sum(axis=1))**2 + effect*V_target + x_effect*X_target +np.random.normal(0, 1, nt) \n",
    "    \n",
    "    \n",
    "    return Y_source.reshape(-1, 1), X_source.reshape(-1, 1), V_source.reshape(-1, 1), Z_source,\\\n",
    "           Y_target.reshape(-1, 1), X_target.reshape(-1, 1), V_target.reshape(-1, 1), Z_target"
   ]
  },
  {
   "cell_type": "code",
   "execution_count": 3,
   "id": "3c9c88b4-c59d-405b-940d-5b260bb9a9c5",
   "metadata": {},
   "outputs": [],
   "source": [
    "#Set parameter for the generation of data\n",
    "ns, p,q = 1000, 5, 50\n",
    "nt = 2000\n",
    "\n",
    "s = np.array([-1, -0.5, 0, 1, 1.5])\n",
    "t = np.array([ 1, -1, 0.5 , -0.5, -1])\n",
    "u = np.array([ 0, -1, 0.5, -0.5, 1])\n",
    "\n",
    "Y_source, X_source, V_source, Z_source,Y_target, X_target, V_target, Z_target = \\\n",
    "generate_binary(ns,nt, p,q, s, t, u, Alpha_s=0, Alpha_t = 1,effect=2, z_diff = 0.1)\n",
    "            "
   ]
  },
  {
   "cell_type": "code",
   "execution_count": 4,
   "id": "c10a39c1-9118-4ec7-92d7-af65562e11fa",
   "metadata": {},
   "outputs": [],
   "source": [
    "# Data Separation:\n",
    "# # The data arrays X_e, Z_e, V_e are designated for density ratio estimation.\n",
    "# # The arrays Z_source, X_source, V_source, Y_source are used for testing.\n",
    "# # Here, we split the source data based on a specified proportion.\n",
    "\n",
    "# proportion = 0.5\n",
    "# num = int(proportion * X_source.shape[0])\n",
    "# Z_e = Z_source[:num]\n",
    "# X_e = X_source[:num]\n",
    "# V_e = V_source[:num]\n",
    "# Z_source = Z_source[num+1:]\n",
    "# X_source = X_source[num+1:]\n",
    "# V_source = V_source[num+1:]\n",
    "# Y_source = Y_source[num+1:]\n",
    "# Y_shuffle = Y_source\n"
   ]
  },
  {
   "cell_type": "markdown",
   "id": "5e2cf4f3-81e0-4b87-9ad9-83ba166b65eb",
   "metadata": {
    "tags": []
   },
   "source": [
    "# Real data experiments to run"
   ]
  },
  {
   "cell_type": "code",
   "execution_count": 5,
   "id": "cbd1da27-941c-4edf-92a1-cb20f35df397",
   "metadata": {},
   "outputs": [],
   "source": [
    "# Data Separation:\n",
    "# The data arrays X_e, Z_e, V_e are designated for density ratio estimation.\n",
    "# The arrays Z_source, X_source, V_source, Y_source are used for testing.\n",
    "# Here, we split the source data based on a specified proportion.\n",
    "\n",
    "proportion = 0.5\n",
    "num = int(proportion * X_source.shape[0])\n",
    "Z_e = Z_source[:num]\n",
    "X_e = X_source[:num]\n",
    "V_e = V_source[:num]\n",
    "Z_source = Z_source[num+1:]\n",
    "X_source = X_source[num+1:]\n",
    "V_source = V_source[num+1:]\n",
    "Y_source = Y_source[num+1:]\n",
    "Y_shuffle = Y_source"
   ]
  },
  {
   "cell_type": "markdown",
   "id": "9b3381aa-a776-41f8-b122-d2a38eb8136a",
   "metadata": {},
   "source": [
    "## Check the Type-I error control with random shuffle Y"
   ]
  },
  {
   "cell_type": "code",
   "execution_count": 6,
   "id": "6e8f6125-bfc6-4c1d-9eee-c085623d3868",
   "metadata": {
    "collapsed": true,
    "jupyter": {
     "outputs_hidden": true
    },
    "tags": []
   },
   "outputs": [
    {
     "name": "stderr",
     "output_type": "stream",
     "text": [
      "Shuffling Y:   1%|          | 1/100 [00:03<05:13,  3.17s/it]"
     ]
    },
    {
     "name": "stdout",
     "output_type": "stream",
     "text": [
      "0.1316244092041311\n"
     ]
    },
    {
     "name": "stderr",
     "output_type": "stream",
     "text": [
      "Shuffling Y:   2%|▏         | 2/100 [00:06<05:12,  3.19s/it]"
     ]
    },
    {
     "name": "stdout",
     "output_type": "stream",
     "text": [
      "0.19622971429265224\n"
     ]
    },
    {
     "name": "stderr",
     "output_type": "stream",
     "text": [
      "Shuffling Y:   3%|▎         | 3/100 [00:09<05:08,  3.18s/it]"
     ]
    },
    {
     "name": "stdout",
     "output_type": "stream",
     "text": [
      "0.23034358340321526\n"
     ]
    },
    {
     "name": "stderr",
     "output_type": "stream",
     "text": [
      "Shuffling Y:   4%|▍         | 4/100 [00:12<05:04,  3.17s/it]"
     ]
    },
    {
     "name": "stdout",
     "output_type": "stream",
     "text": [
      "0.21141531953416282\n"
     ]
    },
    {
     "name": "stderr",
     "output_type": "stream",
     "text": [
      "Shuffling Y:   5%|▌         | 5/100 [00:15<05:00,  3.17s/it]"
     ]
    },
    {
     "name": "stdout",
     "output_type": "stream",
     "text": [
      "0.06790872673989001\n"
     ]
    },
    {
     "name": "stderr",
     "output_type": "stream",
     "text": [
      "Shuffling Y:   6%|▌         | 6/100 [00:19<04:57,  3.17s/it]"
     ]
    },
    {
     "name": "stdout",
     "output_type": "stream",
     "text": [
      "0.17456094838338754\n"
     ]
    },
    {
     "name": "stderr",
     "output_type": "stream",
     "text": [
      "Shuffling Y:   7%|▋         | 7/100 [00:22<04:56,  3.19s/it]"
     ]
    },
    {
     "name": "stdout",
     "output_type": "stream",
     "text": [
      "0.11256711624928473\n"
     ]
    },
    {
     "name": "stderr",
     "output_type": "stream",
     "text": [
      "Shuffling Y:   8%|▊         | 8/100 [00:25<04:52,  3.18s/it]"
     ]
    },
    {
     "name": "stdout",
     "output_type": "stream",
     "text": [
      "0.10940476387662001\n"
     ]
    },
    {
     "name": "stderr",
     "output_type": "stream",
     "text": [
      "Shuffling Y:   9%|▉         | 9/100 [00:28<04:49,  3.18s/it]"
     ]
    },
    {
     "name": "stdout",
     "output_type": "stream",
     "text": [
      "0.21923207206874418\n"
     ]
    },
    {
     "name": "stderr",
     "output_type": "stream",
     "text": [
      "Shuffling Y:  10%|█         | 10/100 [00:31<04:46,  3.19s/it]"
     ]
    },
    {
     "name": "stdout",
     "output_type": "stream",
     "text": [
      "0.14238376651665707\n"
     ]
    },
    {
     "name": "stderr",
     "output_type": "stream",
     "text": [
      "Shuffling Y:  11%|█         | 11/100 [00:35<04:45,  3.20s/it]"
     ]
    },
    {
     "name": "stdout",
     "output_type": "stream",
     "text": [
      "0.19101901839891688\n"
     ]
    },
    {
     "name": "stderr",
     "output_type": "stream",
     "text": [
      "Shuffling Y:  12%|█▏        | 12/100 [00:38<04:41,  3.20s/it]"
     ]
    },
    {
     "name": "stdout",
     "output_type": "stream",
     "text": [
      "0.19161170544546835\n"
     ]
    },
    {
     "name": "stderr",
     "output_type": "stream",
     "text": [
      "Shuffling Y:  12%|█▏        | 12/100 [00:40<04:57,  3.38s/it]\n"
     ]
    },
    {
     "ename": "KeyboardInterrupt",
     "evalue": "",
     "output_type": "error",
     "traceback": [
      "\u001b[0;31m---------------------------------------------------------------------------\u001b[0m",
      "\u001b[0;31mKeyboardInterrupt\u001b[0m                         Traceback (most recent call last)",
      "Cell \u001b[0;32mIn[6], line 4\u001b[0m\n\u001b[1;32m      2\u001b[0m \u001b[38;5;28;01mfor\u001b[39;00m _ \u001b[38;5;129;01min\u001b[39;00m tqdm(\u001b[38;5;28mrange\u001b[39m(\u001b[38;5;241m100\u001b[39m), desc\u001b[38;5;241m=\u001b[39m\u001b[38;5;124m'\u001b[39m\u001b[38;5;124mShuffling Y\u001b[39m\u001b[38;5;124m'\u001b[39m):\n\u001b[1;32m      3\u001b[0m     np\u001b[38;5;241m.\u001b[39mrandom\u001b[38;5;241m.\u001b[39mshuffle(Y_shuffle)\n\u001b[0;32m----> 4\u001b[0m     p_value \u001b[38;5;241m=\u001b[39m \u001b[43mTest\u001b[49m\u001b[43m(\u001b[49m\u001b[43mX_e\u001b[49m\u001b[43m,\u001b[49m\u001b[43m \u001b[49m\u001b[43mZ_e\u001b[49m\u001b[43m,\u001b[49m\u001b[43m \u001b[49m\u001b[43mV_e\u001b[49m\u001b[43m,\u001b[49m\u001b[43m \u001b[49m\u001b[43mX_source\u001b[49m\u001b[43m,\u001b[49m\u001b[43m \u001b[49m\u001b[43mZ_source\u001b[49m\u001b[43m,\u001b[49m\u001b[43m \u001b[49m\u001b[43mV_source\u001b[49m\u001b[43m,\u001b[49m\u001b[43m \u001b[49m\u001b[43mY_source\u001b[49m\u001b[43m,\u001b[49m\u001b[43m \u001b[49m\u001b[43m\\\u001b[49m\n\u001b[1;32m      5\u001b[0m \u001b[43m     \u001b[49m\u001b[43mX_target\u001b[49m\u001b[43m,\u001b[49m\u001b[43m \u001b[49m\u001b[43mZ_target\u001b[49m\u001b[43m,\u001b[49m\u001b[43m \u001b[49m\u001b[43mV_target\u001b[49m\u001b[43m,\u001b[49m\u001b[43m \u001b[49m\u001b[43mL\u001b[49m\u001b[38;5;241;43m=\u001b[39;49m\u001b[38;5;241;43m3\u001b[39;49m\u001b[43m,\u001b[49m\u001b[43m \u001b[49m\u001b[43mK\u001b[49m\u001b[38;5;241;43m=\u001b[39;49m\u001b[38;5;241;43m20\u001b[39;49m\u001b[43m,\u001b[49m\u001b[43m \u001b[49m\u001b[43mdatatype\u001b[49m\u001b[38;5;241;43m=\u001b[39;49m\u001b[38;5;124;43m'\u001b[39;49m\u001b[38;5;124;43mbinary\u001b[39;49m\u001b[38;5;124;43m'\u001b[39;49m\u001b[43m)\u001b[49m\n\u001b[1;32m      6\u001b[0m     \u001b[38;5;28mprint\u001b[39m(p_value)\n\u001b[1;32m      7\u001b[0m     \u001b[38;5;28;01mif\u001b[39;00m p_value \u001b[38;5;241m<\u001b[39m \u001b[38;5;241m0.05\u001b[39m:\n",
      "File \u001b[0;32m~/Documents/GitHub/Covariate-shift-CRT/New_functions.py:410\u001b[0m, in \u001b[0;36mTest\u001b[0;34m(X_e, Z_e, V_e, X_source, Z_source, V_source, Y_source, X_target, Z_target, V_target, L, K, datatype)\u001b[0m\n\u001b[1;32m    407\u001b[0m     cov1 \u001b[38;5;241m=\u001b[39m generate_cov_matrix(Y_source, X_source, Z_source,V_source,model_X_binary, model\u001b[38;5;241m=\u001b[39mmodel,L \u001b[38;5;241m=\u001b[39m L, K \u001b[38;5;241m=\u001b[39m K, density_ratio \u001b[38;5;241m=\u001b[39m est_dr)\n\u001b[1;32m    409\u001b[0m     \u001b[38;5;66;03m# Get the csPCR test statistic\u001b[39;00m\n\u001b[0;32m--> 410\u001b[0m     w, statistic \u001b[38;5;241m=\u001b[39m \u001b[43mPCRtest\u001b[49m\u001b[43m(\u001b[49m\u001b[43mY_source\u001b[49m\u001b[43m,\u001b[49m\u001b[43m \u001b[49m\u001b[43mX_source\u001b[49m\u001b[43m,\u001b[49m\u001b[43m \u001b[49m\u001b[43mZ_source\u001b[49m\u001b[43m,\u001b[49m\u001b[43mV_source\u001b[49m\u001b[43m,\u001b[49m\u001b[43mmodel_X_binary\u001b[49m\u001b[43m,\u001b[49m\u001b[43m \u001b[49m\u001b[43mmodel\u001b[49m\u001b[38;5;241;43m=\u001b[39;49m\u001b[43mmodel\u001b[49m\u001b[43m,\u001b[49m\u001b[43m \u001b[49m\u001b[43mL\u001b[49m\u001b[43m \u001b[49m\u001b[38;5;241;43m=\u001b[39;49m\u001b[43m \u001b[49m\u001b[43mL\u001b[49m\u001b[43m,\u001b[49m\u001b[43m \u001b[49m\u001b[43mK\u001b[49m\u001b[43m \u001b[49m\u001b[38;5;241;43m=\u001b[39;49m\u001b[43m \u001b[49m\u001b[43mK\u001b[49m\u001b[43m,\u001b[49m\u001b[43m \u001b[49m\u001b[43mcovariate_shift\u001b[49m\u001b[43m \u001b[49m\u001b[38;5;241;43m=\u001b[39;49m\u001b[43m \u001b[49m\u001b[38;5;28;43;01mTrue\u001b[39;49;00m\u001b[43m,\u001b[49m\u001b[43m \u001b[49m\u001b[43mdensity_ratio\u001b[49m\u001b[43m \u001b[49m\u001b[38;5;241;43m=\u001b[39;49m\u001b[43m \u001b[49m\u001b[43mest_dr\u001b[49m\u001b[43m)\u001b[49m\n\u001b[1;32m    411\u001b[0m \u001b[38;5;28;01melse\u001b[39;00m:\n\u001b[1;32m    412\u001b[0m     model,std \u001b[38;5;241m=\u001b[39m est_x(X_target, Z_target, datatype \u001b[38;5;241m=\u001b[39m \u001b[38;5;124m'\u001b[39m\u001b[38;5;124mcontinuous\u001b[39m\u001b[38;5;124m'\u001b[39m)\n",
      "File \u001b[0;32m~/Documents/GitHub/Covariate-shift-CRT/New_functions.py:241\u001b[0m, in \u001b[0;36mPCRtest\u001b[0;34m(Y, X, Z, V, model_X, model, L, K, covariate_shift, density_ratio)\u001b[0m\n\u001b[1;32m    239\u001b[0m \u001b[38;5;66;03m# With Covariate shift\u001b[39;00m\n\u001b[1;32m    240\u001b[0m \u001b[38;5;28;01mif\u001b[39;00m covariate_shift \u001b[38;5;241m==\u001b[39m \u001b[38;5;28;01mTrue\u001b[39;00m:\n\u001b[0;32m--> 241\u001b[0m     ind \u001b[38;5;241m=\u001b[39m \u001b[43mBin_pvalue\u001b[49m\u001b[43m(\u001b[49m\u001b[43my\u001b[49m\u001b[43m,\u001b[49m\u001b[43m \u001b[49m\u001b[43mx\u001b[49m\u001b[43m,\u001b[49m\u001b[43m \u001b[49m\u001b[43mz\u001b[49m\u001b[43m,\u001b[49m\u001b[43m \u001b[49m\u001b[43mv\u001b[49m\u001b[43m,\u001b[49m\u001b[43mmodel_X\u001b[49m\u001b[43m,\u001b[49m\u001b[43m \u001b[49m\u001b[43mmodel\u001b[49m\u001b[43m,\u001b[49m\u001b[43mL\u001b[49m\u001b[43m,\u001b[49m\u001b[43m \u001b[49m\u001b[43mK\u001b[49m\u001b[43m)\u001b[49m\n\u001b[1;32m    242\u001b[0m     W[ind] \u001b[38;5;241m+\u001b[39m\u001b[38;5;241m=\u001b[39m density_ratio[j]\n\u001b[1;32m    244\u001b[0m \u001b[38;5;66;03m# Normal PCR test\u001b[39;00m\n",
      "File \u001b[0;32m~/Documents/GitHub/Covariate-shift-CRT/New_functions.py:208\u001b[0m, in \u001b[0;36mBin_pvalue\u001b[0;34m(y, x, z, v, model_X, model, L, K)\u001b[0m\n\u001b[1;32m    206\u001b[0m \u001b[38;5;66;03m# Generate M counterfeits\u001b[39;00m\n\u001b[1;32m    207\u001b[0m \u001b[38;5;28;01mfor\u001b[39;00m i \u001b[38;5;129;01min\u001b[39;00m \u001b[38;5;28mrange\u001b[39m(M):\n\u001b[0;32m--> 208\u001b[0m     x_ \u001b[38;5;241m=\u001b[39m \u001b[43mmodel_X\u001b[49m\u001b[43m(\u001b[49m\u001b[43mz\u001b[49m\u001b[43m,\u001b[49m\u001b[43m \u001b[49m\u001b[43mmodel\u001b[49m\u001b[43m)\u001b[49m\n\u001b[1;32m    209\u001b[0m     \u001b[38;5;28;01mif\u001b[39;00m t_stat \u001b[38;5;241m>\u001b[39m T_statistic(y, x_, z, v):\n\u001b[1;32m    210\u001b[0m         cnt\u001b[38;5;241m=\u001b[39mcnt\u001b[38;5;241m+\u001b[39m\u001b[38;5;241m1\u001b[39m\n",
      "File \u001b[0;32m~/Documents/GitHub/Covariate-shift-CRT/New_functions.py:100\u001b[0m, in \u001b[0;36mmodel_X_binary\u001b[0;34m(Z, model)\u001b[0m\n\u001b[1;32m     98\u001b[0m \u001b[38;5;28;01mdef\u001b[39;00m \u001b[38;5;21mmodel_X_binary\u001b[39m(Z, model):\n\u001b[1;32m     99\u001b[0m     Z \u001b[38;5;241m=\u001b[39m Z\u001b[38;5;241m.\u001b[39mreshape(\u001b[38;5;241m1\u001b[39m,\u001b[38;5;241m-\u001b[39m\u001b[38;5;241m1\u001b[39m)\n\u001b[0;32m--> 100\u001b[0m     prob_X_is_1 \u001b[38;5;241m=\u001b[39m \u001b[43mmodel\u001b[49m\u001b[38;5;241;43m.\u001b[39;49m\u001b[43mpredict_proba\u001b[49m\u001b[43m(\u001b[49m\u001b[43mZ\u001b[49m\u001b[43m)\u001b[49m[:, \u001b[38;5;241m1\u001b[39m]\n\u001b[1;32m    102\u001b[0m         \u001b[38;5;66;03m# Sample new binary values for X based on the predicted probabilities\u001b[39;00m\n\u001b[1;32m    103\u001b[0m     sampled_X \u001b[38;5;241m=\u001b[39m np\u001b[38;5;241m.\u001b[39mrandom\u001b[38;5;241m.\u001b[39mbinomial(\u001b[38;5;241m1\u001b[39m, prob_X_is_1)\n",
      "File \u001b[0;32m~/opt/anaconda3/lib/python3.9/site-packages/sklearn/linear_model/_logistic.py:1372\u001b[0m, in \u001b[0;36mLogisticRegression.predict_proba\u001b[0;34m(self, X)\u001b[0m\n\u001b[1;32m   1364\u001b[0m ovr \u001b[38;5;241m=\u001b[39m \u001b[38;5;28mself\u001b[39m\u001b[38;5;241m.\u001b[39mmulti_class \u001b[38;5;129;01min\u001b[39;00m [\u001b[38;5;124m\"\u001b[39m\u001b[38;5;124movr\u001b[39m\u001b[38;5;124m\"\u001b[39m, \u001b[38;5;124m\"\u001b[39m\u001b[38;5;124mwarn\u001b[39m\u001b[38;5;124m\"\u001b[39m] \u001b[38;5;129;01mor\u001b[39;00m (\n\u001b[1;32m   1365\u001b[0m     \u001b[38;5;28mself\u001b[39m\u001b[38;5;241m.\u001b[39mmulti_class \u001b[38;5;241m==\u001b[39m \u001b[38;5;124m\"\u001b[39m\u001b[38;5;124mauto\u001b[39m\u001b[38;5;124m\"\u001b[39m\n\u001b[1;32m   1366\u001b[0m     \u001b[38;5;129;01mand\u001b[39;00m (\n\u001b[0;32m   (...)\u001b[0m\n\u001b[1;32m   1369\u001b[0m     )\n\u001b[1;32m   1370\u001b[0m )\n\u001b[1;32m   1371\u001b[0m \u001b[38;5;28;01mif\u001b[39;00m ovr:\n\u001b[0;32m-> 1372\u001b[0m     \u001b[38;5;28;01mreturn\u001b[39;00m \u001b[38;5;28;43msuper\u001b[39;49m\u001b[43m(\u001b[49m\u001b[43m)\u001b[49m\u001b[38;5;241;43m.\u001b[39;49m\u001b[43m_predict_proba_lr\u001b[49m\u001b[43m(\u001b[49m\u001b[43mX\u001b[49m\u001b[43m)\u001b[49m\n\u001b[1;32m   1373\u001b[0m \u001b[38;5;28;01melse\u001b[39;00m:\n\u001b[1;32m   1374\u001b[0m     decision \u001b[38;5;241m=\u001b[39m \u001b[38;5;28mself\u001b[39m\u001b[38;5;241m.\u001b[39mdecision_function(X)\n",
      "File \u001b[0;32m~/opt/anaconda3/lib/python3.9/site-packages/sklearn/linear_model/_base.py:434\u001b[0m, in \u001b[0;36mLinearClassifierMixin._predict_proba_lr\u001b[0;34m(self, X)\u001b[0m\n\u001b[1;32m    427\u001b[0m \u001b[38;5;28;01mdef\u001b[39;00m \u001b[38;5;21m_predict_proba_lr\u001b[39m(\u001b[38;5;28mself\u001b[39m, X):\n\u001b[1;32m    428\u001b[0m     \u001b[38;5;124;03m\"\"\"Probability estimation for OvR logistic regression.\u001b[39;00m\n\u001b[1;32m    429\u001b[0m \n\u001b[1;32m    430\u001b[0m \u001b[38;5;124;03m    Positive class probabilities are computed as\u001b[39;00m\n\u001b[1;32m    431\u001b[0m \u001b[38;5;124;03m    1. / (1. + np.exp(-self.decision_function(X)));\u001b[39;00m\n\u001b[1;32m    432\u001b[0m \u001b[38;5;124;03m    multiclass is handled by normalizing that over all classes.\u001b[39;00m\n\u001b[1;32m    433\u001b[0m \u001b[38;5;124;03m    \"\"\"\u001b[39;00m\n\u001b[0;32m--> 434\u001b[0m     prob \u001b[38;5;241m=\u001b[39m \u001b[38;5;28;43mself\u001b[39;49m\u001b[38;5;241;43m.\u001b[39;49m\u001b[43mdecision_function\u001b[49m\u001b[43m(\u001b[49m\u001b[43mX\u001b[49m\u001b[43m)\u001b[49m\n\u001b[1;32m    435\u001b[0m     expit(prob, out\u001b[38;5;241m=\u001b[39mprob)\n\u001b[1;32m    436\u001b[0m     \u001b[38;5;28;01mif\u001b[39;00m prob\u001b[38;5;241m.\u001b[39mndim \u001b[38;5;241m==\u001b[39m \u001b[38;5;241m1\u001b[39m:\n",
      "File \u001b[0;32m~/opt/anaconda3/lib/python3.9/site-packages/sklearn/linear_model/_base.py:402\u001b[0m, in \u001b[0;36mLinearClassifierMixin.decision_function\u001b[0;34m(self, X)\u001b[0m\n\u001b[1;32m    400\u001b[0m X \u001b[38;5;241m=\u001b[39m \u001b[38;5;28mself\u001b[39m\u001b[38;5;241m.\u001b[39m_validate_data(X, accept_sparse\u001b[38;5;241m=\u001b[39m\u001b[38;5;124m\"\u001b[39m\u001b[38;5;124mcsr\u001b[39m\u001b[38;5;124m\"\u001b[39m, reset\u001b[38;5;241m=\u001b[39m\u001b[38;5;28;01mFalse\u001b[39;00m)\n\u001b[1;32m    401\u001b[0m scores \u001b[38;5;241m=\u001b[39m safe_sparse_dot(X, \u001b[38;5;28mself\u001b[39m\u001b[38;5;241m.\u001b[39mcoef_\u001b[38;5;241m.\u001b[39mT, dense_output\u001b[38;5;241m=\u001b[39m\u001b[38;5;28;01mTrue\u001b[39;00m) \u001b[38;5;241m+\u001b[39m \u001b[38;5;28mself\u001b[39m\u001b[38;5;241m.\u001b[39mintercept_\n\u001b[0;32m--> 402\u001b[0m \u001b[38;5;28;01mreturn\u001b[39;00m \u001b[43mxp\u001b[49m\u001b[38;5;241;43m.\u001b[39;49m\u001b[43mreshape\u001b[49m(scores, \u001b[38;5;241m-\u001b[39m\u001b[38;5;241m1\u001b[39m) \u001b[38;5;28;01mif\u001b[39;00m scores\u001b[38;5;241m.\u001b[39mshape[\u001b[38;5;241m1\u001b[39m] \u001b[38;5;241m==\u001b[39m \u001b[38;5;241m1\u001b[39m \u001b[38;5;28;01melse\u001b[39;00m scores\n",
      "File \u001b[0;32m~/opt/anaconda3/lib/python3.9/site-packages/sklearn/utils/_array_api.py:63\u001b[0m, in \u001b[0;36m_NumPyApiWrapper.__getattr__\u001b[0;34m(self, name)\u001b[0m\n\u001b[1;32m     52\u001b[0m \u001b[38;5;28;01mclass\u001b[39;00m \u001b[38;5;21;01m_NumPyApiWrapper\u001b[39;00m:\n\u001b[1;32m     53\u001b[0m     \u001b[38;5;124;03m\"\"\"Array API compat wrapper for any numpy version\u001b[39;00m\n\u001b[1;32m     54\u001b[0m \n\u001b[1;32m     55\u001b[0m \u001b[38;5;124;03m    NumPy < 1.22 does not expose the numpy.array_api namespace. This\u001b[39;00m\n\u001b[0;32m   (...)\u001b[0m\n\u001b[1;32m     60\u001b[0m \u001b[38;5;124;03m    See the `get_namespace()` public function for more details.\u001b[39;00m\n\u001b[1;32m     61\u001b[0m \u001b[38;5;124;03m    \"\"\"\u001b[39;00m\n\u001b[0;32m---> 63\u001b[0m     \u001b[38;5;28;01mdef\u001b[39;00m \u001b[38;5;21m__getattr__\u001b[39m(\u001b[38;5;28mself\u001b[39m, name):\n\u001b[1;32m     64\u001b[0m         \u001b[38;5;28;01mreturn\u001b[39;00m \u001b[38;5;28mgetattr\u001b[39m(numpy, name)\n\u001b[1;32m     66\u001b[0m     \u001b[38;5;28;01mdef\u001b[39;00m \u001b[38;5;21mastype\u001b[39m(\u001b[38;5;28mself\u001b[39m, x, dtype, \u001b[38;5;241m*\u001b[39m, copy\u001b[38;5;241m=\u001b[39m\u001b[38;5;28;01mTrue\u001b[39;00m, casting\u001b[38;5;241m=\u001b[39m\u001b[38;5;124m\"\u001b[39m\u001b[38;5;124munsafe\u001b[39m\u001b[38;5;124m\"\u001b[39m):\n\u001b[1;32m     67\u001b[0m         \u001b[38;5;66;03m# astype is not defined in the top level NumPy namespace\u001b[39;00m\n",
      "\u001b[0;31mKeyboardInterrupt\u001b[0m: "
     ]
    }
   ],
   "source": [
    "count = 0\n",
    "for _ in tqdm(range(100), desc='Shuffling Y'):\n",
    "    np.random.shuffle(Y_shuffle)\n",
    "    p_value = Test(X_e, Z_e, V_e, X_source, Z_source, V_source, Y_shuffle, \\\n",
    "     X_target, Z_target, V_target, L=3, K=20, datatype='binary')\n",
    "    print(p_value)\n",
    "    if p_value < 0.05:\n",
    "        count += 1\n",
    "print(f'Simulated Type-I error rate for csPCR is {count/100}')\n",
    "    \n",
    "    "
   ]
  },
  {
   "cell_type": "code",
   "execution_count": 8,
   "id": "47e78bb7-5e41-4c43-aefe-f3356ee17cbb",
   "metadata": {
    "collapsed": true,
    "jupyter": {
     "outputs_hidden": true
    },
    "tags": []
   },
   "outputs": [
    {
     "name": "stderr",
     "output_type": "stream",
     "text": [
      "Shuffling Y:   0%|          | 0/100 [00:00<?, ?it/s]"
     ]
    },
    {
     "name": "stdout",
     "output_type": "stream",
     "text": [
      "[0.1470994  0.22118357 0.16352529]\n"
     ]
    },
    {
     "name": "stderr",
     "output_type": "stream",
     "text": [
      "Shuffling Y:   1%|          | 1/100 [00:09<15:19,  9.29s/it]"
     ]
    },
    {
     "name": "stdout",
     "output_type": "stream",
     "text": [
      "0.6166357013102293\n",
      "[0.04906191 0.12899593 0.05459335]\n"
     ]
    },
    {
     "name": "stderr",
     "output_type": "stream",
     "text": [
      "Shuffling Y:   2%|▏         | 2/100 [00:18<15:11,  9.30s/it]"
     ]
    },
    {
     "name": "stdout",
     "output_type": "stream",
     "text": [
      "0.252169568120723\n",
      "[0.12948721 0.14835543 0.08889146]\n"
     ]
    },
    {
     "name": "stderr",
     "output_type": "stream",
     "text": [
      "Shuffling Y:   3%|▎         | 3/100 [00:27<15:01,  9.29s/it]"
     ]
    },
    {
     "name": "stdout",
     "output_type": "stream",
     "text": [
      "0.7278822224133394\n",
      "[0.08700511 0.20639202 0.08064044]\n"
     ]
    },
    {
     "name": "stderr",
     "output_type": "stream",
     "text": [
      "Shuffling Y:   4%|▍         | 4/100 [00:37<14:56,  9.34s/it]"
     ]
    },
    {
     "name": "stdout",
     "output_type": "stream",
     "text": [
      "0.6022853570374143\n",
      "[0.00502327 0.15479621 0.10967168]\n"
     ]
    },
    {
     "name": "stderr",
     "output_type": "stream",
     "text": [
      "Shuffling Y:   5%|▌         | 5/100 [00:46<14:50,  9.38s/it]"
     ]
    },
    {
     "name": "stdout",
     "output_type": "stream",
     "text": [
      "0.15434054639702932\n",
      "[0.2208907  0.18506196 0.08948592]\n"
     ]
    },
    {
     "name": "stderr",
     "output_type": "stream",
     "text": [
      "Shuffling Y:   6%|▌         | 6/100 [00:56<14:40,  9.37s/it]"
     ]
    },
    {
     "name": "stdout",
     "output_type": "stream",
     "text": [
      "0.20094823404188278\n",
      "[0.17382799 0.18290783 0.0901834 ]\n"
     ]
    },
    {
     "name": "stderr",
     "output_type": "stream",
     "text": [
      "Shuffling Y:   7%|▋         | 7/100 [01:05<14:31,  9.37s/it]"
     ]
    },
    {
     "name": "stdout",
     "output_type": "stream",
     "text": [
      "0.4173208762356868\n",
      "[0.10537095 0.19669362 0.05271453]\n"
     ]
    },
    {
     "name": "stderr",
     "output_type": "stream",
     "text": [
      "Shuffling Y:   8%|▊         | 8/100 [01:14<14:21,  9.36s/it]"
     ]
    },
    {
     "name": "stdout",
     "output_type": "stream",
     "text": [
      "0.9473402793749636\n",
      "[0.06356616 0.19450524 0.24356806]\n"
     ]
    },
    {
     "name": "stderr",
     "output_type": "stream",
     "text": [
      "Shuffling Y:   9%|▉         | 9/100 [01:24<14:11,  9.36s/it]"
     ]
    },
    {
     "name": "stdout",
     "output_type": "stream",
     "text": [
      "0.8013036074904593\n",
      "[0.17593596 0.22124156 0.17833011]\n"
     ]
    },
    {
     "name": "stderr",
     "output_type": "stream",
     "text": [
      "Shuffling Y:  10%|█         | 10/100 [01:33<14:02,  9.37s/it]"
     ]
    },
    {
     "name": "stdout",
     "output_type": "stream",
     "text": [
      "1.0\n",
      "[0.22366614 0.16895261 0.16395273]\n"
     ]
    },
    {
     "name": "stderr",
     "output_type": "stream",
     "text": [
      "Shuffling Y:  11%|█         | 11/100 [01:42<13:52,  9.36s/it]"
     ]
    },
    {
     "name": "stdout",
     "output_type": "stream",
     "text": [
      "0.8063693684002105\n",
      "[0.28534744 0.18316859 0.18196553]\n"
     ]
    },
    {
     "name": "stderr",
     "output_type": "stream",
     "text": [
      "Shuffling Y:  12%|█▏        | 12/100 [01:52<13:44,  9.37s/it]"
     ]
    },
    {
     "name": "stdout",
     "output_type": "stream",
     "text": [
      "0.4351914482698487\n",
      "[0.18387156 0.31868854 0.29874866]\n"
     ]
    },
    {
     "name": "stderr",
     "output_type": "stream",
     "text": [
      "Shuffling Y:  13%|█▎        | 13/100 [02:01<13:33,  9.35s/it]"
     ]
    },
    {
     "name": "stdout",
     "output_type": "stream",
     "text": [
      "0.06556625178678643\n",
      "[0.18902843 0.12228656 0.15873888]\n"
     ]
    },
    {
     "name": "stderr",
     "output_type": "stream",
     "text": [
      "Shuffling Y:  14%|█▍        | 14/100 [02:10<13:24,  9.36s/it]"
     ]
    },
    {
     "name": "stdout",
     "output_type": "stream",
     "text": [
      "0.32195130904816227\n",
      "[0.15849357 0.13757403 0.13795839]\n"
     ]
    },
    {
     "name": "stderr",
     "output_type": "stream",
     "text": [
      "Shuffling Y:  15%|█▌        | 15/100 [02:20<13:14,  9.35s/it]"
     ]
    },
    {
     "name": "stdout",
     "output_type": "stream",
     "text": [
      "0.15754228100829692\n",
      "[0.15957868 0.18373809 0.12778599]\n"
     ]
    },
    {
     "name": "stderr",
     "output_type": "stream",
     "text": [
      "Shuffling Y:  16%|█▌        | 16/100 [02:29<13:06,  9.36s/it]"
     ]
    },
    {
     "name": "stdout",
     "output_type": "stream",
     "text": [
      "0.354340399396492\n",
      "[0.16869009 0.17187504 0.17842525]\n"
     ]
    },
    {
     "name": "stderr",
     "output_type": "stream",
     "text": [
      "Shuffling Y:  17%|█▋        | 17/100 [02:38<12:55,  9.35s/it]"
     ]
    },
    {
     "name": "stdout",
     "output_type": "stream",
     "text": [
      "0.5612809668403604\n",
      "[0.11509307 0.26923504 0.15104661]\n"
     ]
    },
    {
     "name": "stderr",
     "output_type": "stream",
     "text": [
      "Shuffling Y:  18%|█▊        | 18/100 [02:48<12:47,  9.36s/it]"
     ]
    },
    {
     "name": "stdout",
     "output_type": "stream",
     "text": [
      "0.18221797654564886\n",
      "[0.13295061 0.19317418 0.16846665]\n"
     ]
    },
    {
     "name": "stderr",
     "output_type": "stream",
     "text": [
      "Shuffling Y:  19%|█▉        | 19/100 [02:57<12:38,  9.37s/it]"
     ]
    },
    {
     "name": "stdout",
     "output_type": "stream",
     "text": [
      "0.6783686704807059\n",
      "[0.15442211 0.2391136  0.09984427]\n"
     ]
    },
    {
     "name": "stderr",
     "output_type": "stream",
     "text": [
      "Shuffling Y:  20%|██        | 20/100 [03:07<12:28,  9.35s/it]"
     ]
    },
    {
     "name": "stdout",
     "output_type": "stream",
     "text": [
      "0.3794406281118784\n",
      "[0.2277457  0.25784416 0.25728668]\n"
     ]
    },
    {
     "name": "stderr",
     "output_type": "stream",
     "text": [
      "Shuffling Y:  21%|██        | 21/100 [03:16<12:19,  9.36s/it]"
     ]
    },
    {
     "name": "stdout",
     "output_type": "stream",
     "text": [
      "0.8574494912768665\n",
      "[0.22458586 0.10619777 0.05828369]\n"
     ]
    },
    {
     "name": "stderr",
     "output_type": "stream",
     "text": [
      "Shuffling Y:  22%|██▏       | 22/100 [03:25<12:09,  9.35s/it]"
     ]
    },
    {
     "name": "stdout",
     "output_type": "stream",
     "text": [
      "0.973194607582782\n",
      "[0.11452328 0.26529192 0.17945201]\n"
     ]
    },
    {
     "name": "stderr",
     "output_type": "stream",
     "text": [
      "Shuffling Y:  23%|██▎       | 23/100 [03:35<11:59,  9.34s/it]"
     ]
    },
    {
     "name": "stdout",
     "output_type": "stream",
     "text": [
      "0.511156695172407\n",
      "[0.06185925 0.08947887 0.28495505]\n"
     ]
    },
    {
     "name": "stderr",
     "output_type": "stream",
     "text": [
      "Shuffling Y:  24%|██▍       | 24/100 [03:44<11:50,  9.35s/it]"
     ]
    },
    {
     "name": "stdout",
     "output_type": "stream",
     "text": [
      "1.0\n",
      "[0.05211497 0.2753209  0.08660241]\n"
     ]
    },
    {
     "name": "stderr",
     "output_type": "stream",
     "text": [
      "Shuffling Y:  25%|██▌       | 25/100 [03:53<11:40,  9.34s/it]"
     ]
    },
    {
     "name": "stdout",
     "output_type": "stream",
     "text": [
      "0.5550045311594005\n",
      "[0.11278807 0.18505434 0.19341118]\n"
     ]
    },
    {
     "name": "stderr",
     "output_type": "stream",
     "text": [
      "Shuffling Y:  26%|██▌       | 26/100 [04:03<11:32,  9.36s/it]"
     ]
    },
    {
     "name": "stdout",
     "output_type": "stream",
     "text": [
      "0.6874411957304738\n",
      "[0.16206995 0.24128898 0.08323232]\n"
     ]
    },
    {
     "name": "stderr",
     "output_type": "stream",
     "text": [
      "Shuffling Y:  27%|██▋       | 27/100 [04:12<11:22,  9.35s/it]"
     ]
    },
    {
     "name": "stdout",
     "output_type": "stream",
     "text": [
      "0.1957678290440189\n",
      "[0.05296746 0.05255974 0.11446782]\n"
     ]
    },
    {
     "name": "stderr",
     "output_type": "stream",
     "text": [
      "Shuffling Y:  28%|██▊       | 28/100 [04:21<11:13,  9.35s/it]"
     ]
    },
    {
     "name": "stdout",
     "output_type": "stream",
     "text": [
      "1.0\n",
      "[ 0.19103952  0.17689916 -0.00568575]\n"
     ]
    },
    {
     "name": "stderr",
     "output_type": "stream",
     "text": [
      "Shuffling Y:  29%|██▉       | 29/100 [04:31<11:05,  9.37s/it]"
     ]
    },
    {
     "name": "stdout",
     "output_type": "stream",
     "text": [
      "1.0\n",
      "[0.19855924 0.30231543 0.26166369]\n"
     ]
    },
    {
     "name": "stderr",
     "output_type": "stream",
     "text": [
      "Shuffling Y:  30%|███       | 30/100 [04:40<10:54,  9.36s/it]"
     ]
    },
    {
     "name": "stdout",
     "output_type": "stream",
     "text": [
      "0.1880901955908093\n",
      "[0.027663   0.18277958 0.10781286]\n"
     ]
    },
    {
     "name": "stderr",
     "output_type": "stream",
     "text": [
      "Shuffling Y:  31%|███       | 31/100 [04:49<10:45,  9.35s/it]"
     ]
    },
    {
     "name": "stdout",
     "output_type": "stream",
     "text": [
      "0.32547840549685314\n",
      "[0.09829608 0.0971261  0.08863729]\n"
     ]
    },
    {
     "name": "stderr",
     "output_type": "stream",
     "text": [
      "Shuffling Y:  32%|███▏      | 32/100 [04:59<10:34,  9.34s/it]"
     ]
    },
    {
     "name": "stdout",
     "output_type": "stream",
     "text": [
      "0.3239513161176927\n",
      "[0.02666172 0.13386578 0.0757348 ]\n"
     ]
    },
    {
     "name": "stderr",
     "output_type": "stream",
     "text": [
      "Shuffling Y:  33%|███▎      | 33/100 [05:08<10:26,  9.36s/it]"
     ]
    },
    {
     "name": "stdout",
     "output_type": "stream",
     "text": [
      "0.16426972231497938\n",
      "[0.09990766 0.21137531 0.20567281]\n"
     ]
    },
    {
     "name": "stderr",
     "output_type": "stream",
     "text": [
      "Shuffling Y:  34%|███▍      | 34/100 [05:18<10:18,  9.37s/it]"
     ]
    },
    {
     "name": "stdout",
     "output_type": "stream",
     "text": [
      "0.5007668553183311\n",
      "[0.25434773 0.26949544 0.1303596 ]\n"
     ]
    },
    {
     "name": "stderr",
     "output_type": "stream",
     "text": [
      "Shuffling Y:  35%|███▌      | 35/100 [05:27<10:08,  9.37s/it]"
     ]
    },
    {
     "name": "stdout",
     "output_type": "stream",
     "text": [
      "0.7412787868677391\n",
      "[0.11994284 0.27201547 0.14323936]\n"
     ]
    },
    {
     "name": "stderr",
     "output_type": "stream",
     "text": [
      "Shuffling Y:  36%|███▌      | 36/100 [05:36<10:00,  9.38s/it]"
     ]
    },
    {
     "name": "stdout",
     "output_type": "stream",
     "text": [
      "0.9239305186406774\n",
      "[0.18920278 0.08264786 0.01936203]\n"
     ]
    },
    {
     "name": "stderr",
     "output_type": "stream",
     "text": [
      "Shuffling Y:  37%|███▋      | 37/100 [05:46<09:50,  9.37s/it]"
     ]
    },
    {
     "name": "stdout",
     "output_type": "stream",
     "text": [
      "0.40867525419040474\n",
      "[-0.03010261  0.06048428  0.13454153]\n"
     ]
    },
    {
     "name": "stderr",
     "output_type": "stream",
     "text": [
      "Shuffling Y:  38%|███▊      | 38/100 [05:55<09:41,  9.38s/it]"
     ]
    },
    {
     "name": "stdout",
     "output_type": "stream",
     "text": [
      "1.0\n",
      "[0.01307295 0.15534795 0.16850473]\n"
     ]
    },
    {
     "name": "stderr",
     "output_type": "stream",
     "text": [
      "Shuffling Y:  39%|███▉      | 39/100 [06:04<09:32,  9.38s/it]"
     ]
    },
    {
     "name": "stdout",
     "output_type": "stream",
     "text": [
      "0.9532905354895921\n",
      "[0.14764142 0.2013955  0.06201066]\n"
     ]
    },
    {
     "name": "stderr",
     "output_type": "stream",
     "text": [
      "Shuffling Y:  40%|████      | 40/100 [06:14<09:23,  9.38s/it]"
     ]
    },
    {
     "name": "stdout",
     "output_type": "stream",
     "text": [
      "0.8834601289102414\n",
      "[0.08500292 0.18913136 0.17473487]\n"
     ]
    },
    {
     "name": "stderr",
     "output_type": "stream",
     "text": [
      "Shuffling Y:  41%|████      | 41/100 [06:23<09:14,  9.39s/it]"
     ]
    },
    {
     "name": "stdout",
     "output_type": "stream",
     "text": [
      "1.0\n",
      "[0.06426069 0.19095604 0.13368604]\n"
     ]
    },
    {
     "name": "stderr",
     "output_type": "stream",
     "text": [
      "Shuffling Y:  42%|████▏     | 42/100 [06:33<09:04,  9.38s/it]"
     ]
    },
    {
     "name": "stdout",
     "output_type": "stream",
     "text": [
      "1.0\n",
      "[0.12715965 0.27593476 0.15362281]\n"
     ]
    },
    {
     "name": "stderr",
     "output_type": "stream",
     "text": [
      "Shuffling Y:  43%|████▎     | 43/100 [06:42<08:53,  9.36s/it]"
     ]
    },
    {
     "name": "stdout",
     "output_type": "stream",
     "text": [
      "0.5249671714720114\n",
      "[0.10732199 0.209162   0.13116328]\n"
     ]
    },
    {
     "name": "stderr",
     "output_type": "stream",
     "text": [
      "Shuffling Y:  44%|████▍     | 44/100 [06:51<08:43,  9.36s/it]"
     ]
    },
    {
     "name": "stdout",
     "output_type": "stream",
     "text": [
      "0.6621761521891085\n",
      "[0.11186983 0.19948362 0.1362505 ]\n"
     ]
    },
    {
     "name": "stderr",
     "output_type": "stream",
     "text": [
      "Shuffling Y:  45%|████▌     | 45/100 [07:01<08:35,  9.36s/it]"
     ]
    },
    {
     "name": "stdout",
     "output_type": "stream",
     "text": [
      "0.9573505673625111\n",
      "[0.06055277 0.20184788 0.03377142]\n"
     ]
    },
    {
     "name": "stderr",
     "output_type": "stream",
     "text": [
      "Shuffling Y:  46%|████▌     | 46/100 [07:10<08:25,  9.36s/it]"
     ]
    },
    {
     "name": "stdout",
     "output_type": "stream",
     "text": [
      "0.5136510872058693\n",
      "[0.17966537 0.17006499 0.1064804 ]\n"
     ]
    },
    {
     "name": "stderr",
     "output_type": "stream",
     "text": [
      "Shuffling Y:  47%|████▋     | 47/100 [07:19<08:14,  9.34s/it]"
     ]
    },
    {
     "name": "stdout",
     "output_type": "stream",
     "text": [
      "0.2152085101177328\n",
      "[0.15362367 0.2076238  0.13155463]\n"
     ]
    },
    {
     "name": "stderr",
     "output_type": "stream",
     "text": [
      "Shuffling Y:  48%|████▊     | 48/100 [07:29<08:05,  9.34s/it]"
     ]
    },
    {
     "name": "stdout",
     "output_type": "stream",
     "text": [
      "0.8258904294200724\n",
      "[0.17561313 0.26754947 0.16709064]\n"
     ]
    },
    {
     "name": "stderr",
     "output_type": "stream",
     "text": [
      "Shuffling Y:  49%|████▉     | 49/100 [07:38<07:56,  9.35s/it]"
     ]
    },
    {
     "name": "stdout",
     "output_type": "stream",
     "text": [
      "0.6306377638041192\n",
      "[0.18273942 0.22006062 0.04197615]\n"
     ]
    },
    {
     "name": "stderr",
     "output_type": "stream",
     "text": [
      "Shuffling Y:  50%|█████     | 50/100 [07:47<07:47,  9.36s/it]"
     ]
    },
    {
     "name": "stdout",
     "output_type": "stream",
     "text": [
      "0.27085906740279064\n",
      "[0.16492278 0.28195007 0.16697609]\n"
     ]
    },
    {
     "name": "stderr",
     "output_type": "stream",
     "text": [
      "Shuffling Y:  51%|█████     | 51/100 [07:57<07:39,  9.37s/it]"
     ]
    },
    {
     "name": "stdout",
     "output_type": "stream",
     "text": [
      "0.30363000989763744\n",
      "[0.19622066 0.14867673 0.08111286]\n"
     ]
    },
    {
     "name": "stderr",
     "output_type": "stream",
     "text": [
      "Shuffling Y:  52%|█████▏    | 52/100 [08:06<07:30,  9.38s/it]"
     ]
    },
    {
     "name": "stdout",
     "output_type": "stream",
     "text": [
      "0.2867493362977187\n",
      "[0.08553305 0.13665557 0.03188594]\n"
     ]
    },
    {
     "name": "stderr",
     "output_type": "stream",
     "text": [
      "Shuffling Y:  53%|█████▎    | 53/100 [08:16<07:21,  9.40s/it]"
     ]
    },
    {
     "name": "stdout",
     "output_type": "stream",
     "text": [
      "0.3726478801763029\n",
      "[0.08868148 0.15644607 0.04648562]\n"
     ]
    },
    {
     "name": "stderr",
     "output_type": "stream",
     "text": [
      "Shuffling Y:  54%|█████▍    | 54/100 [08:25<07:11,  9.38s/it]"
     ]
    },
    {
     "name": "stdout",
     "output_type": "stream",
     "text": [
      "0.6331584769145567\n",
      "[0.08498552 0.05764042 0.10424691]\n"
     ]
    },
    {
     "name": "stderr",
     "output_type": "stream",
     "text": [
      "Shuffling Y:  55%|█████▌    | 55/100 [08:34<07:02,  9.38s/it]"
     ]
    },
    {
     "name": "stdout",
     "output_type": "stream",
     "text": [
      "0.25262391439555\n",
      "[0.19810017 0.34689062 0.21614283]\n"
     ]
    },
    {
     "name": "stderr",
     "output_type": "stream",
     "text": [
      "Shuffling Y:  56%|█████▌    | 56/100 [08:44<06:52,  9.37s/it]"
     ]
    },
    {
     "name": "stdout",
     "output_type": "stream",
     "text": [
      "0.3454641553251969\n",
      "[0.1867481  0.11606766 0.10914338]\n"
     ]
    },
    {
     "name": "stderr",
     "output_type": "stream",
     "text": [
      "Shuffling Y:  57%|█████▋    | 57/100 [08:53<06:42,  9.35s/it]"
     ]
    },
    {
     "name": "stdout",
     "output_type": "stream",
     "text": [
      "0.7595206005322173\n",
      "[0.23934317 0.24235929 0.17091361]\n"
     ]
    },
    {
     "name": "stderr",
     "output_type": "stream",
     "text": [
      "Shuffling Y:  58%|█████▊    | 58/100 [09:02<06:33,  9.36s/it]"
     ]
    },
    {
     "name": "stdout",
     "output_type": "stream",
     "text": [
      "0.43306376896985976\n",
      "[0.01466225 0.27858454 0.07933551]\n"
     ]
    },
    {
     "name": "stderr",
     "output_type": "stream",
     "text": [
      "Shuffling Y:  59%|█████▉    | 59/100 [09:12<06:23,  9.35s/it]"
     ]
    },
    {
     "name": "stdout",
     "output_type": "stream",
     "text": [
      "0.3310534306566819\n",
      "[0.09181809 0.05183601 0.01881439]\n"
     ]
    },
    {
     "name": "stderr",
     "output_type": "stream",
     "text": [
      "Shuffling Y:  60%|██████    | 60/100 [09:21<06:14,  9.37s/it]"
     ]
    },
    {
     "name": "stdout",
     "output_type": "stream",
     "text": [
      "1.0\n",
      "[0.05337873 0.21144178 0.21372319]\n"
     ]
    },
    {
     "name": "stderr",
     "output_type": "stream",
     "text": [
      "Shuffling Y:  61%|██████    | 61/100 [09:31<06:05,  9.38s/it]"
     ]
    },
    {
     "name": "stdout",
     "output_type": "stream",
     "text": [
      "0.5903336551627438\n",
      "[0.13701029 0.11908525 0.05004466]\n"
     ]
    },
    {
     "name": "stderr",
     "output_type": "stream",
     "text": [
      "Shuffling Y:  62%|██████▏   | 62/100 [09:40<05:57,  9.42s/it]"
     ]
    },
    {
     "name": "stdout",
     "output_type": "stream",
     "text": [
      "0.6780629841426933\n",
      "[0.04128682 0.18650993 0.03932941]\n"
     ]
    },
    {
     "name": "stderr",
     "output_type": "stream",
     "text": [
      "Shuffling Y:  63%|██████▎   | 63/100 [09:49<05:48,  9.41s/it]"
     ]
    },
    {
     "name": "stdout",
     "output_type": "stream",
     "text": [
      "0.07941072639871805\n",
      "[0.11983359 0.12768714 0.0558174 ]\n"
     ]
    },
    {
     "name": "stderr",
     "output_type": "stream",
     "text": [
      "Shuffling Y:  64%|██████▍   | 64/100 [09:59<05:38,  9.39s/it]"
     ]
    },
    {
     "name": "stdout",
     "output_type": "stream",
     "text": [
      "0.7717828628226561\n",
      "[0.07700695 0.13856183 0.11449413]\n"
     ]
    },
    {
     "name": "stderr",
     "output_type": "stream",
     "text": [
      "Shuffling Y:  65%|██████▌   | 65/100 [10:08<05:28,  9.39s/it]"
     ]
    },
    {
     "name": "stdout",
     "output_type": "stream",
     "text": [
      "0.7397750603405093\n",
      "[0.1649479  0.30686191 0.12649154]\n"
     ]
    },
    {
     "name": "stderr",
     "output_type": "stream",
     "text": [
      "Shuffling Y:  66%|██████▌   | 66/100 [10:17<05:18,  9.36s/it]"
     ]
    },
    {
     "name": "stdout",
     "output_type": "stream",
     "text": [
      "0.6012862666000385\n",
      "[0.09471215 0.23073738 0.16425114]\n"
     ]
    },
    {
     "name": "stderr",
     "output_type": "stream",
     "text": [
      "Shuffling Y:  67%|██████▋   | 67/100 [10:27<05:08,  9.34s/it]"
     ]
    },
    {
     "name": "stdout",
     "output_type": "stream",
     "text": [
      "0.3071403045219667\n",
      "[0.12342123 0.13621075 0.0473534 ]\n"
     ]
    },
    {
     "name": "stderr",
     "output_type": "stream",
     "text": [
      "Shuffling Y:  68%|██████▊   | 68/100 [10:36<04:59,  9.36s/it]"
     ]
    },
    {
     "name": "stdout",
     "output_type": "stream",
     "text": [
      "0.39883718132562185\n",
      "[0.22119813 0.23882009 0.05034369]\n"
     ]
    },
    {
     "name": "stderr",
     "output_type": "stream",
     "text": [
      "Shuffling Y:  69%|██████▉   | 69/100 [10:45<04:49,  9.34s/it]"
     ]
    },
    {
     "name": "stdout",
     "output_type": "stream",
     "text": [
      "0.30728695608507106\n",
      "[0.28670182 0.18408653 0.15367733]\n"
     ]
    },
    {
     "name": "stderr",
     "output_type": "stream",
     "text": [
      "Shuffling Y:  70%|███████   | 70/100 [10:55<04:40,  9.34s/it]"
     ]
    },
    {
     "name": "stdout",
     "output_type": "stream",
     "text": [
      "0.6985113768121058\n",
      "[0.15828327 0.26260842 0.14679679]\n"
     ]
    },
    {
     "name": "stderr",
     "output_type": "stream",
     "text": [
      "Shuffling Y:  71%|███████   | 71/100 [11:04<04:30,  9.34s/it]"
     ]
    },
    {
     "name": "stdout",
     "output_type": "stream",
     "text": [
      "0.05886328710448563\n",
      "[0.26644865 0.31777917 0.20092618]\n"
     ]
    },
    {
     "name": "stderr",
     "output_type": "stream",
     "text": [
      "Shuffling Y:  72%|███████▏  | 72/100 [11:13<04:21,  9.35s/it]"
     ]
    },
    {
     "name": "stdout",
     "output_type": "stream",
     "text": [
      "0.5033553586284498\n",
      "[0.16726894 0.17510878 0.12916196]\n"
     ]
    },
    {
     "name": "stderr",
     "output_type": "stream",
     "text": [
      "Shuffling Y:  73%|███████▎  | 73/100 [11:23<04:12,  9.37s/it]"
     ]
    },
    {
     "name": "stdout",
     "output_type": "stream",
     "text": [
      "0.18401142603404252\n",
      "[0.12373758 0.35752782 0.14277711]\n"
     ]
    },
    {
     "name": "stderr",
     "output_type": "stream",
     "text": [
      "Shuffling Y:  74%|███████▍  | 74/100 [11:32<04:03,  9.35s/it]"
     ]
    },
    {
     "name": "stdout",
     "output_type": "stream",
     "text": [
      "0.0945592235541185\n",
      "[0.12336481 0.27826665 0.12098945]\n"
     ]
    },
    {
     "name": "stderr",
     "output_type": "stream",
     "text": [
      "Shuffling Y:  75%|███████▌  | 75/100 [11:42<03:53,  9.36s/it]"
     ]
    },
    {
     "name": "stdout",
     "output_type": "stream",
     "text": [
      "0.2841387520288945\n",
      "[0.10375873 0.1873088  0.1448101 ]\n"
     ]
    },
    {
     "name": "stderr",
     "output_type": "stream",
     "text": [
      "Shuffling Y:  76%|███████▌  | 76/100 [11:51<03:44,  9.35s/it]"
     ]
    },
    {
     "name": "stdout",
     "output_type": "stream",
     "text": [
      "0.8685248962380887\n",
      "[0.07850009 0.07706094 0.16698733]\n"
     ]
    },
    {
     "name": "stderr",
     "output_type": "stream",
     "text": [
      "Shuffling Y:  77%|███████▋  | 77/100 [12:00<03:35,  9.35s/it]"
     ]
    },
    {
     "name": "stdout",
     "output_type": "stream",
     "text": [
      "0.3019536523880839\n",
      "[0.056218   0.18555556 0.11523638]\n"
     ]
    },
    {
     "name": "stderr",
     "output_type": "stream",
     "text": [
      "Shuffling Y:  78%|███████▊  | 78/100 [12:10<03:25,  9.35s/it]"
     ]
    },
    {
     "name": "stdout",
     "output_type": "stream",
     "text": [
      "0.6302230258205606\n",
      "[0.15213285 0.21817059 0.08861272]\n"
     ]
    },
    {
     "name": "stderr",
     "output_type": "stream",
     "text": [
      "Shuffling Y:  79%|███████▉  | 79/100 [12:19<03:16,  9.37s/it]"
     ]
    },
    {
     "name": "stdout",
     "output_type": "stream",
     "text": [
      "0.1711395105145026\n",
      "[0.06334899 0.22900605 0.05158519]\n"
     ]
    },
    {
     "name": "stderr",
     "output_type": "stream",
     "text": [
      "Shuffling Y:  80%|████████  | 80/100 [12:28<03:07,  9.40s/it]"
     ]
    },
    {
     "name": "stdout",
     "output_type": "stream",
     "text": [
      "0.9461058486611102\n",
      "[0.21061048 0.23469304 0.28983749]\n"
     ]
    },
    {
     "name": "stderr",
     "output_type": "stream",
     "text": [
      "Shuffling Y:  81%|████████  | 81/100 [12:38<02:58,  9.38s/it]"
     ]
    },
    {
     "name": "stdout",
     "output_type": "stream",
     "text": [
      "0.9218559876101942\n",
      "[0.27310399 0.28134376 0.20757699]\n"
     ]
    },
    {
     "name": "stderr",
     "output_type": "stream",
     "text": [
      "Shuffling Y:  82%|████████▏ | 82/100 [12:47<02:48,  9.38s/it]"
     ]
    },
    {
     "name": "stdout",
     "output_type": "stream",
     "text": [
      "0.3116703375041834\n",
      "[0.18539295 0.33507655 0.20982345]\n"
     ]
    },
    {
     "name": "stderr",
     "output_type": "stream",
     "text": [
      "Shuffling Y:  83%|████████▎ | 83/100 [12:57<02:39,  9.38s/it]"
     ]
    },
    {
     "name": "stdout",
     "output_type": "stream",
     "text": [
      "0.34746728231915924\n",
      "[0.19194922 0.12237262 0.05403661]\n"
     ]
    },
    {
     "name": "stderr",
     "output_type": "stream",
     "text": [
      "Shuffling Y:  84%|████████▍ | 84/100 [13:06<02:29,  9.37s/it]"
     ]
    },
    {
     "name": "stdout",
     "output_type": "stream",
     "text": [
      "0.21361519711084365\n",
      "[0.19384941 0.19060434 0.10502801]\n"
     ]
    },
    {
     "name": "stderr",
     "output_type": "stream",
     "text": [
      "Shuffling Y:  85%|████████▌ | 85/100 [13:15<02:21,  9.42s/it]"
     ]
    },
    {
     "name": "stdout",
     "output_type": "stream",
     "text": [
      "0.20256629767301937\n",
      "[0.04184606 0.18073058 0.13780768]\n"
     ]
    },
    {
     "name": "stderr",
     "output_type": "stream",
     "text": [
      "Shuffling Y:  85%|████████▌ | 85/100 [13:19<02:21,  9.41s/it]\n"
     ]
    },
    {
     "ename": "KeyboardInterrupt",
     "evalue": "",
     "output_type": "error",
     "traceback": [
      "\u001b[0;31m---------------------------------------------------------------------------\u001b[0m",
      "\u001b[0;31mKeyboardInterrupt\u001b[0m                         Traceback (most recent call last)",
      "Cell \u001b[0;32mIn[8], line 4\u001b[0m\n\u001b[1;32m      2\u001b[0m \u001b[38;5;28;01mfor\u001b[39;00m _ \u001b[38;5;129;01min\u001b[39;00m tqdm(\u001b[38;5;28mrange\u001b[39m(\u001b[38;5;241m100\u001b[39m), desc\u001b[38;5;241m=\u001b[39m\u001b[38;5;124m'\u001b[39m\u001b[38;5;124mShuffling Y\u001b[39m\u001b[38;5;124m'\u001b[39m):\n\u001b[1;32m      3\u001b[0m     np\u001b[38;5;241m.\u001b[39mrandom\u001b[38;5;241m.\u001b[39mshuffle(Y_shuffle)\n\u001b[0;32m----> 4\u001b[0m     p_value \u001b[38;5;241m=\u001b[39m \u001b[43mTest_pe\u001b[49m\u001b[43m(\u001b[49m\u001b[43mX_e\u001b[49m\u001b[43m,\u001b[49m\u001b[43m \u001b[49m\u001b[43mZ_e\u001b[49m\u001b[43m,\u001b[49m\u001b[43m \u001b[49m\u001b[43mV_e\u001b[49m\u001b[43m,\u001b[49m\u001b[43m \u001b[49m\u001b[43mX_source\u001b[49m\u001b[43m,\u001b[49m\u001b[43m \u001b[49m\u001b[43mZ_source\u001b[49m\u001b[43m,\u001b[49m\u001b[43m \u001b[49m\u001b[43mV_source\u001b[49m\u001b[43m,\u001b[49m\u001b[43m \u001b[49m\u001b[43mY_shuffle\u001b[49m\u001b[43m,\u001b[49m\u001b[43m \u001b[49m\u001b[43m\\\u001b[49m\n\u001b[1;32m      5\u001b[0m \u001b[43m     \u001b[49m\u001b[43mX_target\u001b[49m\u001b[43m,\u001b[49m\u001b[43m \u001b[49m\u001b[43mZ_target\u001b[49m\u001b[43m,\u001b[49m\u001b[43m \u001b[49m\u001b[43mV_target\u001b[49m\u001b[43m,\u001b[49m\u001b[43m \u001b[49m\u001b[43mL\u001b[49m\u001b[38;5;241;43m=\u001b[39;49m\u001b[38;5;241;43m3\u001b[39;49m\u001b[43m,\u001b[49m\u001b[43m \u001b[49m\u001b[43mK\u001b[49m\u001b[38;5;241;43m=\u001b[39;49m\u001b[38;5;241;43m20\u001b[39;49m\u001b[43m,\u001b[49m\u001b[43m \u001b[49m\u001b[43mdatatype\u001b[49m\u001b[38;5;241;43m=\u001b[39;49m\u001b[38;5;124;43m'\u001b[39;49m\u001b[38;5;124;43mbinary\u001b[39;49m\u001b[38;5;124;43m'\u001b[39;49m\u001b[43m)\u001b[49m\n\u001b[1;32m      6\u001b[0m     \u001b[38;5;28mprint\u001b[39m(p_value)\n\u001b[1;32m      7\u001b[0m     \u001b[38;5;28;01mif\u001b[39;00m p_value \u001b[38;5;241m<\u001b[39m \u001b[38;5;241m0.05\u001b[39m:\n",
      "File \u001b[0;32m~/Documents/GitHub/Covariate-shift-CRT/New_functions.py:638\u001b[0m, in \u001b[0;36mTest_pe\u001b[0;34m(X_e, Z_e, V_e, X_source, Z_source, V_source, Y_source, X_target, Z_target, V_target, L, K, datatype, score)\u001b[0m\n\u001b[1;32m    635\u001b[0m \u001b[38;5;28;01mif\u001b[39;00m datatype \u001b[38;5;241m==\u001b[39m \u001b[38;5;124m'\u001b[39m\u001b[38;5;124mbinary\u001b[39m\u001b[38;5;124m'\u001b[39m:\n\u001b[1;32m    636\u001b[0m \u001b[38;5;66;03m#print(max(est_dr))\u001b[39;00m\n\u001b[1;32m    637\u001b[0m     model \u001b[38;5;241m=\u001b[39m est_x(X_target, Z_target, datatype \u001b[38;5;241m=\u001b[39m \u001b[38;5;124m'\u001b[39m\u001b[38;5;124mbinary\u001b[39m\u001b[38;5;124m'\u001b[39m)\n\u001b[0;32m--> 638\u001b[0m     WV, statistic, a,b,c,g \u001b[38;5;241m=\u001b[39m \u001b[43mPCRtest_Powen\u001b[49m\u001b[43m(\u001b[49m\u001b[43mY_source\u001b[49m\u001b[43m,\u001b[49m\u001b[43m \u001b[49m\u001b[43mX_source\u001b[49m\u001b[43m,\u001b[49m\u001b[43m \u001b[49m\u001b[43mZ_source\u001b[49m\u001b[43m,\u001b[49m\u001b[43m \u001b[49m\u001b[43mV_source\u001b[49m\u001b[43m,\u001b[49m\u001b[43m \u001b[49m\u001b[43mX_target\u001b[49m\u001b[43m,\u001b[49m\u001b[43m \u001b[49m\u001b[43mZ_target\u001b[49m\u001b[43m,\u001b[49m\u001b[43m \u001b[49m\u001b[43mV_target\u001b[49m\u001b[43m,\u001b[49m\u001b[43m \u001b[49m\u001b[43mmodel_X_binary\u001b[49m\u001b[43m,\u001b[49m\u001b[43m \u001b[49m\u001b[43mmodel\u001b[49m\u001b[43m,\u001b[49m\u001b[43m \u001b[49m\u001b[43mL\u001b[49m\u001b[43m,\u001b[49m\u001b[43m \u001b[49m\u001b[43mK\u001b[49m\u001b[43m,\u001b[49m\u001b[43m \u001b[49m\u001b[43mest_dr\u001b[49m\u001b[43m)\u001b[49m\n\u001b[1;32m    639\u001b[0m     \u001b[38;5;66;03m# print(WV)\u001b[39;00m\n\u001b[1;32m    640\u001b[0m     cov \u001b[38;5;241m=\u001b[39m generate_cov_matrix_powen(a, b, c, g, L, K, density_ratio \u001b[38;5;241m=\u001b[39m est_dr)\n",
      "File \u001b[0;32m~/Documents/GitHub/Covariate-shift-CRT/New_functions.py:499\u001b[0m, in \u001b[0;36mPCRtest_Powen\u001b[0;34m(Y, X, Z, V, X_, Z_, V_, model_X, model, L, K, density_ratio)\u001b[0m\n\u001b[1;32m    497\u001b[0m \u001b[38;5;28;01mfor\u001b[39;00m j \u001b[38;5;129;01min\u001b[39;00m \u001b[38;5;28mrange\u001b[39m(nt):\n\u001b[1;32m    498\u001b[0m     x_, z_, v_ \u001b[38;5;241m=\u001b[39m X_[j], Z_[j], V_[j]\n\u001b[0;32m--> 499\u001b[0m     ind_v_ \u001b[38;5;241m=\u001b[39m \u001b[43mBin_pvalue\u001b[49m\u001b[43m(\u001b[49m\u001b[43mv_\u001b[49m\u001b[43m,\u001b[49m\u001b[43m \u001b[49m\u001b[43mx_\u001b[49m\u001b[43m,\u001b[49m\u001b[43m \u001b[49m\u001b[43mz_\u001b[49m\u001b[43m,\u001b[49m\u001b[43m \u001b[49m\u001b[43mv_\u001b[49m\u001b[43m,\u001b[49m\u001b[43mmodel_X\u001b[49m\u001b[43m,\u001b[49m\u001b[43m \u001b[49m\u001b[43mmodel\u001b[49m\u001b[43m,\u001b[49m\u001b[43mL\u001b[49m\u001b[43m,\u001b[49m\u001b[43m \u001b[49m\u001b[43mK\u001b[49m\u001b[43m)\u001b[49m\n\u001b[1;32m    500\u001b[0m     W[ind_v_] \u001b[38;5;241m+\u001b[39m\u001b[38;5;241m=\u001b[39m (ns\u001b[38;5;241m/\u001b[39mnt)\u001b[38;5;241m*\u001b[39mg_lst[ind_v_]\n\u001b[1;32m    501\u001b[0m     c\u001b[38;5;241m.\u001b[39mappend(ind_v_)\n",
      "File \u001b[0;32m~/Documents/GitHub/Covariate-shift-CRT/New_functions.py:208\u001b[0m, in \u001b[0;36mBin_pvalue\u001b[0;34m(y, x, z, v, model_X, model, L, K)\u001b[0m\n\u001b[1;32m    206\u001b[0m \u001b[38;5;66;03m# Generate M counterfeits\u001b[39;00m\n\u001b[1;32m    207\u001b[0m \u001b[38;5;28;01mfor\u001b[39;00m i \u001b[38;5;129;01min\u001b[39;00m \u001b[38;5;28mrange\u001b[39m(M):\n\u001b[0;32m--> 208\u001b[0m     x_ \u001b[38;5;241m=\u001b[39m \u001b[43mmodel_X\u001b[49m\u001b[43m(\u001b[49m\u001b[43mz\u001b[49m\u001b[43m,\u001b[49m\u001b[43m \u001b[49m\u001b[43mmodel\u001b[49m\u001b[43m)\u001b[49m\n\u001b[1;32m    209\u001b[0m     \u001b[38;5;28;01mif\u001b[39;00m t_stat \u001b[38;5;241m>\u001b[39m T_statistic(y, x_, z, v):\n\u001b[1;32m    210\u001b[0m         cnt\u001b[38;5;241m=\u001b[39mcnt\u001b[38;5;241m+\u001b[39m\u001b[38;5;241m1\u001b[39m\n",
      "File \u001b[0;32m~/Documents/GitHub/Covariate-shift-CRT/New_functions.py:100\u001b[0m, in \u001b[0;36mmodel_X_binary\u001b[0;34m(Z, model)\u001b[0m\n\u001b[1;32m     98\u001b[0m \u001b[38;5;28;01mdef\u001b[39;00m \u001b[38;5;21mmodel_X_binary\u001b[39m(Z, model):\n\u001b[1;32m     99\u001b[0m     Z \u001b[38;5;241m=\u001b[39m Z\u001b[38;5;241m.\u001b[39mreshape(\u001b[38;5;241m1\u001b[39m,\u001b[38;5;241m-\u001b[39m\u001b[38;5;241m1\u001b[39m)\n\u001b[0;32m--> 100\u001b[0m     prob_X_is_1 \u001b[38;5;241m=\u001b[39m \u001b[43mmodel\u001b[49m\u001b[38;5;241;43m.\u001b[39;49m\u001b[43mpredict_proba\u001b[49m\u001b[43m(\u001b[49m\u001b[43mZ\u001b[49m\u001b[43m)\u001b[49m[:, \u001b[38;5;241m1\u001b[39m]\n\u001b[1;32m    102\u001b[0m         \u001b[38;5;66;03m# Sample new binary values for X based on the predicted probabilities\u001b[39;00m\n\u001b[1;32m    103\u001b[0m     sampled_X \u001b[38;5;241m=\u001b[39m np\u001b[38;5;241m.\u001b[39mrandom\u001b[38;5;241m.\u001b[39mbinomial(\u001b[38;5;241m1\u001b[39m, prob_X_is_1)\n",
      "File \u001b[0;32m~/opt/anaconda3/lib/python3.9/site-packages/sklearn/linear_model/_logistic.py:1372\u001b[0m, in \u001b[0;36mLogisticRegression.predict_proba\u001b[0;34m(self, X)\u001b[0m\n\u001b[1;32m   1364\u001b[0m ovr \u001b[38;5;241m=\u001b[39m \u001b[38;5;28mself\u001b[39m\u001b[38;5;241m.\u001b[39mmulti_class \u001b[38;5;129;01min\u001b[39;00m [\u001b[38;5;124m\"\u001b[39m\u001b[38;5;124movr\u001b[39m\u001b[38;5;124m\"\u001b[39m, \u001b[38;5;124m\"\u001b[39m\u001b[38;5;124mwarn\u001b[39m\u001b[38;5;124m\"\u001b[39m] \u001b[38;5;129;01mor\u001b[39;00m (\n\u001b[1;32m   1365\u001b[0m     \u001b[38;5;28mself\u001b[39m\u001b[38;5;241m.\u001b[39mmulti_class \u001b[38;5;241m==\u001b[39m \u001b[38;5;124m\"\u001b[39m\u001b[38;5;124mauto\u001b[39m\u001b[38;5;124m\"\u001b[39m\n\u001b[1;32m   1366\u001b[0m     \u001b[38;5;129;01mand\u001b[39;00m (\n\u001b[0;32m   (...)\u001b[0m\n\u001b[1;32m   1369\u001b[0m     )\n\u001b[1;32m   1370\u001b[0m )\n\u001b[1;32m   1371\u001b[0m \u001b[38;5;28;01mif\u001b[39;00m ovr:\n\u001b[0;32m-> 1372\u001b[0m     \u001b[38;5;28;01mreturn\u001b[39;00m \u001b[38;5;28;43msuper\u001b[39;49m\u001b[43m(\u001b[49m\u001b[43m)\u001b[49m\u001b[38;5;241;43m.\u001b[39;49m\u001b[43m_predict_proba_lr\u001b[49m\u001b[43m(\u001b[49m\u001b[43mX\u001b[49m\u001b[43m)\u001b[49m\n\u001b[1;32m   1373\u001b[0m \u001b[38;5;28;01melse\u001b[39;00m:\n\u001b[1;32m   1374\u001b[0m     decision \u001b[38;5;241m=\u001b[39m \u001b[38;5;28mself\u001b[39m\u001b[38;5;241m.\u001b[39mdecision_function(X)\n",
      "File \u001b[0;32m~/opt/anaconda3/lib/python3.9/site-packages/sklearn/linear_model/_base.py:434\u001b[0m, in \u001b[0;36mLinearClassifierMixin._predict_proba_lr\u001b[0;34m(self, X)\u001b[0m\n\u001b[1;32m    427\u001b[0m \u001b[38;5;28;01mdef\u001b[39;00m \u001b[38;5;21m_predict_proba_lr\u001b[39m(\u001b[38;5;28mself\u001b[39m, X):\n\u001b[1;32m    428\u001b[0m     \u001b[38;5;124;03m\"\"\"Probability estimation for OvR logistic regression.\u001b[39;00m\n\u001b[1;32m    429\u001b[0m \n\u001b[1;32m    430\u001b[0m \u001b[38;5;124;03m    Positive class probabilities are computed as\u001b[39;00m\n\u001b[1;32m    431\u001b[0m \u001b[38;5;124;03m    1. / (1. + np.exp(-self.decision_function(X)));\u001b[39;00m\n\u001b[1;32m    432\u001b[0m \u001b[38;5;124;03m    multiclass is handled by normalizing that over all classes.\u001b[39;00m\n\u001b[1;32m    433\u001b[0m \u001b[38;5;124;03m    \"\"\"\u001b[39;00m\n\u001b[0;32m--> 434\u001b[0m     prob \u001b[38;5;241m=\u001b[39m \u001b[38;5;28;43mself\u001b[39;49m\u001b[38;5;241;43m.\u001b[39;49m\u001b[43mdecision_function\u001b[49m\u001b[43m(\u001b[49m\u001b[43mX\u001b[49m\u001b[43m)\u001b[49m\n\u001b[1;32m    435\u001b[0m     expit(prob, out\u001b[38;5;241m=\u001b[39mprob)\n\u001b[1;32m    436\u001b[0m     \u001b[38;5;28;01mif\u001b[39;00m prob\u001b[38;5;241m.\u001b[39mndim \u001b[38;5;241m==\u001b[39m \u001b[38;5;241m1\u001b[39m:\n",
      "File \u001b[0;32m~/opt/anaconda3/lib/python3.9/site-packages/sklearn/linear_model/_base.py:400\u001b[0m, in \u001b[0;36mLinearClassifierMixin.decision_function\u001b[0;34m(self, X)\u001b[0m\n\u001b[1;32m    397\u001b[0m check_is_fitted(\u001b[38;5;28mself\u001b[39m)\n\u001b[1;32m    398\u001b[0m xp, _ \u001b[38;5;241m=\u001b[39m get_namespace(X)\n\u001b[0;32m--> 400\u001b[0m X \u001b[38;5;241m=\u001b[39m \u001b[38;5;28;43mself\u001b[39;49m\u001b[38;5;241;43m.\u001b[39;49m\u001b[43m_validate_data\u001b[49m\u001b[43m(\u001b[49m\u001b[43mX\u001b[49m\u001b[43m,\u001b[49m\u001b[43m \u001b[49m\u001b[43maccept_sparse\u001b[49m\u001b[38;5;241;43m=\u001b[39;49m\u001b[38;5;124;43m\"\u001b[39;49m\u001b[38;5;124;43mcsr\u001b[39;49m\u001b[38;5;124;43m\"\u001b[39;49m\u001b[43m,\u001b[49m\u001b[43m \u001b[49m\u001b[43mreset\u001b[49m\u001b[38;5;241;43m=\u001b[39;49m\u001b[38;5;28;43;01mFalse\u001b[39;49;00m\u001b[43m)\u001b[49m\n\u001b[1;32m    401\u001b[0m scores \u001b[38;5;241m=\u001b[39m safe_sparse_dot(X, \u001b[38;5;28mself\u001b[39m\u001b[38;5;241m.\u001b[39mcoef_\u001b[38;5;241m.\u001b[39mT, dense_output\u001b[38;5;241m=\u001b[39m\u001b[38;5;28;01mTrue\u001b[39;00m) \u001b[38;5;241m+\u001b[39m \u001b[38;5;28mself\u001b[39m\u001b[38;5;241m.\u001b[39mintercept_\n\u001b[1;32m    402\u001b[0m \u001b[38;5;28;01mreturn\u001b[39;00m xp\u001b[38;5;241m.\u001b[39mreshape(scores, \u001b[38;5;241m-\u001b[39m\u001b[38;5;241m1\u001b[39m) \u001b[38;5;28;01mif\u001b[39;00m scores\u001b[38;5;241m.\u001b[39mshape[\u001b[38;5;241m1\u001b[39m] \u001b[38;5;241m==\u001b[39m \u001b[38;5;241m1\u001b[39m \u001b[38;5;28;01melse\u001b[39;00m scores\n",
      "File \u001b[0;32m~/opt/anaconda3/lib/python3.9/site-packages/sklearn/base.py:546\u001b[0m, in \u001b[0;36mBaseEstimator._validate_data\u001b[0;34m(self, X, y, reset, validate_separately, **check_params)\u001b[0m\n\u001b[1;32m    544\u001b[0m     \u001b[38;5;28;01mraise\u001b[39;00m \u001b[38;5;167;01mValueError\u001b[39;00m(\u001b[38;5;124m\"\u001b[39m\u001b[38;5;124mValidation should be done on X, y or both.\u001b[39m\u001b[38;5;124m\"\u001b[39m)\n\u001b[1;32m    545\u001b[0m \u001b[38;5;28;01melif\u001b[39;00m \u001b[38;5;129;01mnot\u001b[39;00m no_val_X \u001b[38;5;129;01mand\u001b[39;00m no_val_y:\n\u001b[0;32m--> 546\u001b[0m     X \u001b[38;5;241m=\u001b[39m \u001b[43mcheck_array\u001b[49m\u001b[43m(\u001b[49m\u001b[43mX\u001b[49m\u001b[43m,\u001b[49m\u001b[43m \u001b[49m\u001b[43minput_name\u001b[49m\u001b[38;5;241;43m=\u001b[39;49m\u001b[38;5;124;43m\"\u001b[39;49m\u001b[38;5;124;43mX\u001b[39;49m\u001b[38;5;124;43m\"\u001b[39;49m\u001b[43m,\u001b[49m\u001b[43m \u001b[49m\u001b[38;5;241;43m*\u001b[39;49m\u001b[38;5;241;43m*\u001b[39;49m\u001b[43mcheck_params\u001b[49m\u001b[43m)\u001b[49m\n\u001b[1;32m    547\u001b[0m     out \u001b[38;5;241m=\u001b[39m X\n\u001b[1;32m    548\u001b[0m \u001b[38;5;28;01melif\u001b[39;00m no_val_X \u001b[38;5;129;01mand\u001b[39;00m \u001b[38;5;129;01mnot\u001b[39;00m no_val_y:\n",
      "File \u001b[0;32m~/opt/anaconda3/lib/python3.9/site-packages/sklearn/utils/validation.py:881\u001b[0m, in \u001b[0;36mcheck_array\u001b[0;34m(array, accept_sparse, accept_large_sparse, dtype, order, copy, force_all_finite, ensure_2d, allow_nd, ensure_min_samples, ensure_min_features, estimator, input_name)\u001b[0m\n\u001b[1;32m    879\u001b[0m             array \u001b[38;5;241m=\u001b[39m _asarray_with_order(array, order\u001b[38;5;241m=\u001b[39morder, dtype\u001b[38;5;241m=\u001b[39mdtype, xp\u001b[38;5;241m=\u001b[39mxp)\n\u001b[1;32m    880\u001b[0m     \u001b[38;5;28;01mexcept\u001b[39;00m ComplexWarning \u001b[38;5;28;01mas\u001b[39;00m complex_warning:\n\u001b[0;32m--> 881\u001b[0m         \u001b[38;5;28;01mraise\u001b[39;00m \u001b[38;5;167;01mValueError\u001b[39;00m(\n\u001b[1;32m    882\u001b[0m             \u001b[38;5;124m\"\u001b[39m\u001b[38;5;124mComplex data not supported\u001b[39m\u001b[38;5;130;01m\\n\u001b[39;00m\u001b[38;5;132;01m{}\u001b[39;00m\u001b[38;5;130;01m\\n\u001b[39;00m\u001b[38;5;124m\"\u001b[39m\u001b[38;5;241m.\u001b[39mformat(array)\n\u001b[1;32m    883\u001b[0m         ) \u001b[38;5;28;01mfrom\u001b[39;00m \u001b[38;5;21;01mcomplex_warning\u001b[39;00m\n\u001b[1;32m    885\u001b[0m \u001b[38;5;66;03m# It is possible that the np.array(..) gave no warning. This happens\u001b[39;00m\n\u001b[1;32m    886\u001b[0m \u001b[38;5;66;03m# when no dtype conversion happened, for example dtype = None. The\u001b[39;00m\n\u001b[1;32m    887\u001b[0m \u001b[38;5;66;03m# result is that np.array(..) produces an array of complex dtype\u001b[39;00m\n\u001b[1;32m    888\u001b[0m \u001b[38;5;66;03m# and we need to catch and raise exception for such cases.\u001b[39;00m\n\u001b[1;32m    889\u001b[0m _ensure_no_complex_data(array)\n",
      "\u001b[0;31mKeyboardInterrupt\u001b[0m: "
     ]
    }
   ],
   "source": [
    "count = 0\n",
    "for _ in tqdm(range(100), desc='Shuffling Y'):\n",
    "    np.random.shuffle(Y_shuffle)\n",
    "    p_value = Test_pe(X_e, Z_e, V_e, X_source, Z_source, V_source, Y_shuffle, \\\n",
    "     X_target, Z_target, V_target, L=3, K=20, datatype='binary')\n",
    "    print(p_value)\n",
    "    if p_value < 0.05:\n",
    "        count += 1\n",
    "print(f'Simulated Type-I error rate for csPCR(pe) is {count/100}')\n",
    "    "
   ]
  },
  {
   "cell_type": "code",
   "execution_count": 10,
   "id": "500258c7-610e-44e3-a1ec-370d85798cb9",
   "metadata": {},
   "outputs": [
    {
     "name": "stderr",
     "output_type": "stream",
     "text": [
      "Shuffling Y: 100%|██████████| 100/100 [01:12<00:00,  1.39it/s]"
     ]
    },
    {
     "name": "stdout",
     "output_type": "stream",
     "text": [
      "Simulated Type-I error rate for IS is 0.04\n"
     ]
    },
    {
     "name": "stderr",
     "output_type": "stream",
     "text": [
      "\n"
     ]
    }
   ],
   "source": [
    "count = 0\n",
    "for _ in tqdm(range(100), desc='Shuffling Y'):\n",
    "    np.random.shuffle(Y_shuffle)\n",
    "    p_value = IS_test(X_e, Z_e, V_e, X_source, Z_source, V_source, Y_shuffle,\\\n",
    "        X_target, Z_target, V_target, L=3, K=20, datatype='binary')\n",
    "    if p_value < 0.05:\n",
    "        count += 1\n",
    "print(f'Simulated Type-I error rate for IS is {count/100}')\n",
    "    "
   ]
  },
  {
   "cell_type": "markdown",
   "id": "21f66334-515f-4245-b726-98a1e975696d",
   "metadata": {},
   "source": [
    "## Our method"
   ]
  },
  {
   "cell_type": "code",
   "execution_count": 15,
   "id": "79610af9-6d81-4dbc-bc16-24a98147e511",
   "metadata": {
    "tags": []
   },
   "outputs": [
    {
     "name": "stdout",
     "output_type": "stream",
     "text": [
      "P-value for csPCR is 0.15300633499865168\n"
     ]
    }
   ],
   "source": [
    "#1. Test without power enhancement\n",
    "p_value = Test(X_e, Z_e, V_e, X_source, Z_source, V_source, Y_source, \\\n",
    "     X_target, Z_target, V_target, L=3, K=20, datatype='binary')\n",
    "print(f'P-value for csPCR is {p_value}')\n",
    "    "
   ]
  },
  {
   "cell_type": "code",
   "execution_count": 16,
   "id": "8a5e103d-3a4a-43fd-a211-c5c06221e6e0",
   "metadata": {},
   "outputs": [
    {
     "name": "stdout",
     "output_type": "stream",
     "text": [
      "P-value for csPCR(pe) is 0.28085925797367395\n"
     ]
    }
   ],
   "source": [
    "#2. Test with power enhancement\n",
    "\n",
    "p_value = Test_pe(X_e, Z_e, V_e, X_source, Z_source, V_source, Y_source, \\\n",
    "        X_target, Z_target, V_target, L=3, K=20, datatype='binary')\n",
    "print(f'P-value for csPCR(pe) is {p_value}')"
   ]
  },
  {
   "cell_type": "markdown",
   "id": "22968a9d-8980-44b3-9bf0-bcb716051aa8",
   "metadata": {},
   "source": [
    "### Use a different scoring function for testing V for the Power enhancement"
   ]
  },
  {
   "cell_type": "code",
   "execution_count": 17,
   "id": "26f3b42b-91e1-4b0f-aacc-fd482282e35f",
   "metadata": {},
   "outputs": [
    {
     "name": "stdout",
     "output_type": "stream",
     "text": [
      "P-value for csPCR(pe) with negative scoring function is 0.7262152709691574\n"
     ]
    }
   ],
   "source": [
    "# Originally, we use v*x for scoring, here we use (-v)*x to detect \n",
    "# the negative correlation between Y and V\n",
    "p_value = Test_pe(X_e, Z_e, V_e, X_source, Z_source, V_source, Y_source, \\\n",
    "        X_target, Z_target, V_target, L=3, K=20, datatype='binary', score = 'neg')\n",
    "print(f'P-value for csPCR(pe) with negative scoring function is {p_value}')"
   ]
  },
  {
   "cell_type": "markdown",
   "id": "cc094742-8470-45e6-86a9-f1393f7431ae",
   "metadata": {},
   "source": [
    "## Benchmark\n",
    "there are 3 benchmarks:1. Use source only data, 2. Use target only data, 3. Importance sampling method (the benchmark from others)"
   ]
  },
  {
   "cell_type": "code",
   "execution_count": 18,
   "id": "9251a4ab-1f4e-4856-be09-22a44f42bffd",
   "metadata": {},
   "outputs": [
    {
     "name": "stdout",
     "output_type": "stream",
     "text": [
      "P-value for PCR with source data is 0.6250775742972228\n"
     ]
    }
   ],
   "source": [
    "#1. Use source data only\n",
    "#2. Test with power enhancement\n",
    "\n",
    "p_value = PCR_test(X_source,Z_source,V_source,Y_source)\n",
    "print(f'P-value for PCR with source data is {p_value}')"
   ]
  },
  {
   "cell_type": "code",
   "execution_count": 19,
   "id": "5a2f8c8f-53ab-40ea-a0b5-3e83967dc13c",
   "metadata": {},
   "outputs": [
    {
     "name": "stdout",
     "output_type": "stream",
     "text": [
      "P-value for PCR with target data is 0.39537210168587544\n"
     ]
    }
   ],
   "source": [
    "#2. Use target data only\n",
    "\n",
    "p_value = PCR_test(X_target,Z_target,V_target,Y_target)\n",
    "print(f'P-value for PCR with target data is {p_value}')"
   ]
  },
  {
   "cell_type": "code",
   "execution_count": 21,
   "id": "cb824e77-a28c-4122-9e25-f603c317843a",
   "metadata": {},
   "outputs": [
    {
     "name": "stdout",
     "output_type": "stream",
     "text": [
      "P-value for IS is 0.7824830494337698\n"
     ]
    }
   ],
   "source": [
    "#3. Use Importance Sampling benchmark method\n",
    "\n",
    "p_value = IS_test(X_e, Z_e, V_e, X_source, Z_source, V_source, Y_source,\\\n",
    "        X_target, Z_target, V_target, L=3, K=20, datatype='binary')\n",
    "print(f'P-value for IS is {p_value}')"
   ]
  },
  {
   "cell_type": "markdown",
   "id": "065e3620-442d-45b9-a89b-6002c61c784a",
   "metadata": {},
   "source": [
    "## Tune hyperparameter L"
   ]
  },
  {
   "cell_type": "code",
   "execution_count": 9,
   "id": "41fb6f19-94d2-4934-9e11-e88147f7a404",
   "metadata": {},
   "outputs": [
    {
     "name": "stdout",
     "output_type": "stream",
     "text": [
      "Training accuracy for X|Z: 0.717\n",
      "[0.23433064 0.19167032 0.28155873]\n",
      "[167.95443516 165.08707733 174.75729811]\n",
      "L is 2, pvalue: 0.933563916771966\n",
      "Training accuracy for X|Z: 0.717\n",
      "[0.2952632  0.20613484 0.31138347]\n",
      "[140.64749537 187.91719237 174.08845475]\n",
      "L is 5, pvalue: 0.06342484042790109\n",
      "Training accuracy for X|Z: 0.717\n",
      "[0.2715509  0.20274784 0.29688373]\n",
      "[148.2607481  172.03479922 184.74858996]\n",
      "L is 8, pvalue: 0.21636110362760874\n",
      "Training accuracy for X|Z: 0.717\n",
      "[0.29121139 0.13614264 0.34778643]\n",
      "[146.78635223 166.57257311 184.67772408]\n",
      "L is 10, pvalue: 0.195118444312963\n"
     ]
    }
   ],
   "source": [
    "l_lst = [2, 5, 8, 10]\n",
    "result_lst = []\n",
    "for l in l_lst:\n",
    "    # Use any test function above\n",
    "    pvalue = Test_pe(X_e, Z_e, V_e, X_source, Z_source, V_source, Y_source, X_target, Z_target, V_target, L=3, K=20, datatype='binary')\n",
    "    result_lst.append(pvalue)\n",
    "    print(f'L is {l}, pvalue: {pvalue}')"
   ]
  }
 ],
 "metadata": {
  "kernelspec": {
   "display_name": "Python 3 (ipykernel)",
   "language": "python",
   "name": "python3"
  },
  "language_info": {
   "codemirror_mode": {
    "name": "ipython",
    "version": 3
   },
   "file_extension": ".py",
   "mimetype": "text/x-python",
   "name": "python",
   "nbconvert_exporter": "python",
   "pygments_lexer": "ipython3",
   "version": "3.9.16"
  }
 },
 "nbformat": 4,
 "nbformat_minor": 5
}
