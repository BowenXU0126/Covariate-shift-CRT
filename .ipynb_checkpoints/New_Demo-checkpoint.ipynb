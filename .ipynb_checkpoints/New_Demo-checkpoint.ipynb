{
 "cells": [
  {
   "cell_type": "code",
   "execution_count": 1,
   "id": "1096c99d-4952-4734-b66a-5ecc469923c6",
   "metadata": {},
   "outputs": [],
   "source": [
    "import numpy as np\n",
    "from New_functions import *\n",
    "from Benchmark_functions import *\n",
    "import warnings\n",
    "import matplotlib.pyplot as plt\n",
    "import time\n",
    "warnings.filterwarnings(\"ignore\")"
   ]
  },
  {
   "cell_type": "code",
   "execution_count": 2,
   "id": "535eddf8-b4e1-4295-8a99-11c280e9a4b4",
   "metadata": {},
   "outputs": [],
   "source": [
    "'''\n",
    "First, we generate a dataset, we can change the Alpha_s, Alpha_t and effect parameter to change the distribution of\n",
    "the generated dataset.\n",
    "'''\n",
    "\n",
    "import numpy as np\n",
    "\n",
    "def generate_binary(ns, nt, p, q, s, t, u, Alpha_s=1, Alpha_t=0, effect=1, x_effect=0, z_diff=0.1, threshold_X=0.5, threshold_Y=0.5):\n",
    "    # Generate normal distributions for Z\n",
    "    Zs_null = np.random.normal(0, 1, (ns, q))\n",
    "    Zt_null = np.random.normal(0, 1, (nt, q))\n",
    "    \n",
    "    # Generate Z variables with and without shift\n",
    "    Z_source = np.hstack((np.random.normal(0, 1, (ns, p)), Zs_null))\n",
    "    Z_target = np.hstack((np.random.normal(z_diff, 1, (nt, p)), Zt_null))\n",
    "    \n",
    "    # Generate X variables\n",
    "    X_source = Z_source[:, :p] @ u + np.random.normal(0, 1, ns)\n",
    "    X_target = Z_target[:, :p] @ u + np.random.normal(0, 1, nt)\n",
    "    \n",
    "    # Convert X to binary\n",
    "    X_source = (np.random.rand(ns) < 1 / (1 + np.exp(-X_source))).astype(int)\n",
    "    X_target = (np.random.rand(nt) < 1 / (1 + np.exp(-X_target))).astype(int)\n",
    "    \n",
    "    # Generate V variables\n",
    "    V_source = Z_source[:, :p] @ s + Alpha_s * X_source + np.random.normal(0, 5, ns)\n",
    "    V_target = Z_target[:, :p] @ t + Alpha_t * X_target + np.random.normal(0, 5, nt)\n",
    "    \n",
    "    # Generate Y variables\n",
    "    Y_source = (Z_source[:, :p].sum(axis=1))**2 + effect * V_source + np.random.normal(0, 1, ns) + x_effect * X_source\n",
    "    Y_target = (Z_target[:, :p].sum(axis=1))**2 + effect * V_target + np.random.normal(0, 1, nt) + x_effect * X_target\n",
    "    \n",
    "    # Convert Y to binary\n",
    "    Y_source = (np.random.rand(ns) < 1 / (1 + np.exp(-Y_source))).astype(int)\n",
    "    Y_target = (np.random.rand(nt) < 1 / (1 + np.exp(-Y_target))).astype(int)\n",
    "    \n",
    "    return Y_source.reshape(-1, 1), X_source.reshape(-1, 1), V_source.reshape(-1, 1), Z_source,\\\n",
    "           Y_target.reshape(-1, 1), X_target.reshape(-1, 1), V_target.reshape(-1, 1), Z_target\n",
    "\n",
    "\n",
    "\n",
    "def generate(ns, nt, p,q, s, t, u, Alpha_s=0, Alpha_t = 2,effect=1,x_effect = 0, non_lin = 0, z_diff = 0.1):\n",
    "    Zs_null = np.random.normal(0,0.1, (ns, q))\n",
    "    Zt_null = np.random.normal(0,0.1, (nt, q))\n",
    "    \n",
    "    Z_source = np.hstack((np.random.normal(0, 1, (ns, p)) , Zs_null))\n",
    "    Z_target = np.hstack((np.random.normal(z_diff, 1, (nt, p)) , Zt_null))\n",
    "    \n",
    "    X_source = Z_source[:, :p] @ u + np.random.normal(0, 1, ns)\n",
    "    X_target = Z_target[:, :p] @ u + np.random.normal(0, 1, nt)\n",
    "\n",
    "    V_source = Z_source[:, :p] @ s + (1-non_lin)*Alpha_s * X_source + non_lin * Alpha_s * np.sin(X_source) + np.random.normal(0, 5, ns)\n",
    "    V_target = Z_target[:, :p] @ t + (1-non_lin)*Alpha_t * X_target + non_lin * Alpha_t * np.sin(X_target) + np.random.normal(0, 5, nt)\n",
    "    \n",
    "    # V_source = Z_source[:, :p] @ s + 2*X_source \n",
    "    # V_target = Z_target[:, :p] @ t - 2*X_target\n",
    "    \n",
    "    Y_source = (Z_source[:, :p].sum(axis=1))**2 + effect*V_source + x_effect*X_source + np.random.normal(0, 1, ns) \n",
    "    Y_target = (Z_target[:, :p].sum(axis=1))**2 + effect*V_target + x_effect*X_target +np.random.normal(0, 1, nt) \n",
    "    \n",
    "    \n",
    "    return Y_source.reshape(-1, 1), X_source.reshape(-1, 1), V_source.reshape(-1, 1), Z_source,\\\n",
    "           Y_target.reshape(-1, 1), X_target.reshape(-1, 1), V_target.reshape(-1, 1), Z_target"
   ]
  },
  {
   "cell_type": "code",
   "execution_count": 7,
   "id": "3c9c88b4-c59d-405b-940d-5b260bb9a9c5",
   "metadata": {},
   "outputs": [],
   "source": [
    "#Set parameter for the generation of data\n",
    "ns, p,q = 1000, 5, 50\n",
    "nt = 2000\n",
    "\n",
    "s = np.array([-1, -0.5, 0, 1, 1.5])\n",
    "t = np.array([ 1, -1, 0.5 , -0.5, -1])\n",
    "u = np.array([ 0, -1, 0.5, -0.5, 1])\n",
    "\n",
    "Y_source, X_source, V_source, Z_source,Y_target, X_target, V_target, Z_target = \\\n",
    "generate_binary(ns,nt, p,q, s, t, u, Alpha_s=0, Alpha_t = 2,effect=1, z_diff = 0.1)\n",
    "            "
   ]
  },
  {
   "cell_type": "code",
   "execution_count": 11,
   "id": "f3bf792b-d2ac-4036-9634-3eb6f7da30e2",
   "metadata": {},
   "outputs": [],
   "source": [
    "def xz_ratio(Z, V, s, t,p,q, z_diff=0.1):\n",
    "    ratios = []\n",
    "    size = V.size\n",
    "    for i in range(size):\n",
    "        zs_prob = multivariate_normal.pdf(Z[i][:p], mean = 0*np.ones(p), cov= 1*np.identity(p))\n",
    "        zt_prob = multivariate_normal.pdf(Z[i][:p], mean = z_diff*np.ones(p), cov= 1*np.identity(p))\n",
    "        ratios.append((zt_prob)/(zs_prob))\n",
    "    \n",
    "    return ratios"
   ]
  },
  {
   "cell_type": "code",
   "execution_count": 12,
   "id": "c10a39c1-9118-4ec7-92d7-af65562e11fa",
   "metadata": {},
   "outputs": [],
   "source": [
    "# Data Separation:\n",
    "# The data arrays X_e, Z_e, V_e are designated for density ratio estimation.\n",
    "# The arrays Z_source, X_source, V_source, Y_source are used for testing.\n",
    "# Here, we split the source data based on a specified proportion.\n",
    "\n",
    "proportion = 0.5\n",
    "num = int(proportion * X_source.shape[0])\n",
    "Z_e = Z_source[:num]\n",
    "X_e = X_source[:num]\n",
    "V_e = V_source[:num]\n",
    "Z_source = Z_source[num+1:]\n",
    "X_source = X_source[num+1:]\n",
    "V_source = V_source[num+1:]\n",
    "Y_source = Y_source[num+1:]\n"
   ]
  },
  {
   "cell_type": "markdown",
   "id": "5e2cf4f3-81e0-4b87-9ad9-83ba166b65eb",
   "metadata": {
    "tags": []
   },
   "source": [
    "# Real data experiments to run"
   ]
  },
  {
   "cell_type": "markdown",
   "id": "21f66334-515f-4245-b726-98a1e975696d",
   "metadata": {},
   "source": [
    "## Our method"
   ]
  },
  {
   "cell_type": "code",
   "execution_count": 13,
   "id": "79610af9-6d81-4dbc-bc16-24a98147e511",
   "metadata": {
    "tags": []
   },
   "outputs": [
    {
     "data": {
      "text/plain": [
       "1.0"
      ]
     },
     "execution_count": 13,
     "metadata": {},
     "output_type": "execute_result"
    }
   ],
   "source": [
    "#1. Test without power enhancement\n",
    "Test(X_e, Z_e, V_e, X_source, Z_source, V_source, Y_source, \\\n",
    "     X_target, Z_target, V_target, L=3, K=20, datatype='binary')\n"
   ]
  },
  {
   "cell_type": "code",
   "execution_count": 7,
   "id": "8a5e103d-3a4a-43fd-a211-c5c06221e6e0",
   "metadata": {},
   "outputs": [
    {
     "ename": "TypeError",
     "evalue": "model_X_continuous() missing 1 required positional argument: 'std'",
     "output_type": "error",
     "traceback": [
      "\u001b[0;31m---------------------------------------------------------------------------\u001b[0m",
      "\u001b[0;31mTypeError\u001b[0m                                 Traceback (most recent call last)",
      "Cell \u001b[0;32mIn[7], line 3\u001b[0m\n\u001b[1;32m      1\u001b[0m \u001b[38;5;66;03m#2. Test with power enhancement\u001b[39;00m\n\u001b[0;32m----> 3\u001b[0m \u001b[43mTest_pe\u001b[49m\u001b[43m(\u001b[49m\u001b[43mX_e\u001b[49m\u001b[43m,\u001b[49m\u001b[43m \u001b[49m\u001b[43mZ_e\u001b[49m\u001b[43m,\u001b[49m\u001b[43m \u001b[49m\u001b[43mV_e\u001b[49m\u001b[43m,\u001b[49m\u001b[43m \u001b[49m\u001b[43mX_source\u001b[49m\u001b[43m,\u001b[49m\u001b[43m \u001b[49m\u001b[43mZ_source\u001b[49m\u001b[43m,\u001b[49m\u001b[43m \u001b[49m\u001b[43mV_source\u001b[49m\u001b[43m,\u001b[49m\u001b[43m \u001b[49m\u001b[43mY_source\u001b[49m\u001b[43m,\u001b[49m\u001b[43m \u001b[49m\u001b[43m\\\u001b[49m\n\u001b[1;32m      4\u001b[0m \u001b[43m        \u001b[49m\u001b[43mX_target\u001b[49m\u001b[43m,\u001b[49m\u001b[43m \u001b[49m\u001b[43mZ_target\u001b[49m\u001b[43m,\u001b[49m\u001b[43m \u001b[49m\u001b[43mV_target\u001b[49m\u001b[43m,\u001b[49m\u001b[43m \u001b[49m\u001b[43mL\u001b[49m\u001b[38;5;241;43m=\u001b[39;49m\u001b[38;5;241;43m3\u001b[39;49m\u001b[43m,\u001b[49m\u001b[43m \u001b[49m\u001b[43mK\u001b[49m\u001b[38;5;241;43m=\u001b[39;49m\u001b[38;5;241;43m20\u001b[39;49m\u001b[43m,\u001b[49m\u001b[43m \u001b[49m\u001b[43mdatatype\u001b[49m\u001b[38;5;241;43m=\u001b[39;49m\u001b[38;5;124;43m'\u001b[39;49m\u001b[38;5;124;43mcontinuous\u001b[39;49m\u001b[38;5;124;43m'\u001b[39;49m\u001b[43m)\u001b[49m\n",
      "File \u001b[0;32m~/Documents/GitHub/Covariate-shift-CRT/New_functions.py:591\u001b[0m, in \u001b[0;36mTest_pe\u001b[0;34m(X_e, Z_e, V_e, X_source, Z_source, V_source, Y_source, X_target, Z_target, V_target, L, K, datatype, score)\u001b[0m\n\u001b[1;32m    589\u001b[0m \u001b[38;5;28;01melse\u001b[39;00m:\n\u001b[1;32m    590\u001b[0m     model \u001b[38;5;241m=\u001b[39m est_x(X_target, Z_target, datatype \u001b[38;5;241m=\u001b[39m \u001b[38;5;124m'\u001b[39m\u001b[38;5;124mcontinuous\u001b[39m\u001b[38;5;124m'\u001b[39m)\n\u001b[0;32m--> 591\u001b[0m     WV, statistic, a,b,c,g \u001b[38;5;241m=\u001b[39m \u001b[43mPCRtest_Powen\u001b[49m\u001b[43m(\u001b[49m\u001b[43mY_source\u001b[49m\u001b[43m,\u001b[49m\u001b[43m \u001b[49m\u001b[43mX_source\u001b[49m\u001b[43m,\u001b[49m\u001b[43m \u001b[49m\u001b[43mZ_source\u001b[49m\u001b[43m,\u001b[49m\u001b[43m \u001b[49m\u001b[43mV_source\u001b[49m\u001b[43m,\u001b[49m\u001b[43m \u001b[49m\u001b[43mX_target\u001b[49m\u001b[43m,\u001b[49m\u001b[43m \u001b[49m\u001b[43mZ_target\u001b[49m\u001b[43m,\u001b[49m\u001b[43m \u001b[49m\u001b[43mV_target\u001b[49m\u001b[43m,\u001b[49m\u001b[43m \u001b[49m\u001b[43mmodel_X_continuous\u001b[49m\u001b[43m,\u001b[49m\u001b[43m \u001b[49m\u001b[43mmodel\u001b[49m\u001b[43m,\u001b[49m\u001b[43m \u001b[49m\u001b[43mL\u001b[49m\u001b[43m,\u001b[49m\u001b[43m \u001b[49m\u001b[43mK\u001b[49m\u001b[43m,\u001b[49m\u001b[43m \u001b[49m\u001b[43mest_dr\u001b[49m\u001b[43m)\u001b[49m\n\u001b[1;32m    592\u001b[0m     \u001b[38;5;66;03m# print(WV)\u001b[39;00m\n\u001b[1;32m    593\u001b[0m     cov \u001b[38;5;241m=\u001b[39m generate_cov_matrix_powen(a, b, c, g, L, K, density_ratio \u001b[38;5;241m=\u001b[39m est_dr)\n",
      "File \u001b[0;32m~/Documents/GitHub/Covariate-shift-CRT/New_functions.py:475\u001b[0m, in \u001b[0;36mPCRtest_Powen\u001b[0;34m(Y, X, Z, V, X_, Z_, V_, model_X, model, L, K, density_ratio)\u001b[0m\n\u001b[1;32m    473\u001b[0m \u001b[38;5;28;01mfor\u001b[39;00m j \u001b[38;5;129;01min\u001b[39;00m \u001b[38;5;28mrange\u001b[39m(ns):\n\u001b[1;32m    474\u001b[0m     y, x, z, v \u001b[38;5;241m=\u001b[39m Y[j], X[j], Z[j], V[j]\n\u001b[0;32m--> 475\u001b[0m     ind_y \u001b[38;5;241m=\u001b[39m \u001b[43mBin_pvalue\u001b[49m\u001b[43m(\u001b[49m\u001b[43my\u001b[49m\u001b[43m,\u001b[49m\u001b[43m \u001b[49m\u001b[43mx\u001b[49m\u001b[43m,\u001b[49m\u001b[43m \u001b[49m\u001b[43mz\u001b[49m\u001b[43m,\u001b[49m\u001b[43m \u001b[49m\u001b[43mv\u001b[49m\u001b[43m,\u001b[49m\u001b[43m \u001b[49m\u001b[43mmodel_X\u001b[49m\u001b[43m,\u001b[49m\u001b[43m \u001b[49m\u001b[43mmodel\u001b[49m\u001b[43m,\u001b[49m\u001b[43m \u001b[49m\u001b[43mL\u001b[49m\u001b[43m,\u001b[49m\u001b[43m \u001b[49m\u001b[43mK\u001b[49m\u001b[43m)\u001b[49m\n\u001b[1;32m    476\u001b[0m     ind_v \u001b[38;5;241m=\u001b[39m Bin_pvalue(v, x, z, v, model_X, model, L, K)\n\u001b[1;32m    477\u001b[0m     y_ind\u001b[38;5;241m.\u001b[39mappend(ind_y)\n",
      "File \u001b[0;32m~/Documents/GitHub/Covariate-shift-CRT/New_functions.py:206\u001b[0m, in \u001b[0;36mBin_pvalue\u001b[0;34m(y, x, z, v, model_X, model, L, K)\u001b[0m\n\u001b[1;32m    204\u001b[0m \u001b[38;5;66;03m# Generate M counterfeits\u001b[39;00m\n\u001b[1;32m    205\u001b[0m \u001b[38;5;28;01mfor\u001b[39;00m i \u001b[38;5;129;01min\u001b[39;00m \u001b[38;5;28mrange\u001b[39m(M):\n\u001b[0;32m--> 206\u001b[0m     x_ \u001b[38;5;241m=\u001b[39m \u001b[43mmodel_X\u001b[49m\u001b[43m(\u001b[49m\u001b[43mz\u001b[49m\u001b[43m,\u001b[49m\u001b[43m \u001b[49m\u001b[43mmodel\u001b[49m\u001b[43m)\u001b[49m\n\u001b[1;32m    207\u001b[0m     \u001b[38;5;28;01mif\u001b[39;00m t_stat \u001b[38;5;241m>\u001b[39m T_statistic(y, x_, z, v):\n\u001b[1;32m    208\u001b[0m         cnt\u001b[38;5;241m=\u001b[39mcnt\u001b[38;5;241m+\u001b[39m\u001b[38;5;241m1\u001b[39m\n",
      "\u001b[0;31mTypeError\u001b[0m: model_X_continuous() missing 1 required positional argument: 'std'"
     ]
    }
   ],
   "source": [
    "#2. Test with power enhancement\n",
    "\n",
    "Test_pe(X_e, Z_e, V_e, X_source, Z_source, V_source, Y_source, \\\n",
    "        X_target, Z_target, V_target, L=3, K=20, datatype='binary')"
   ]
  },
  {
   "cell_type": "markdown",
   "id": "22968a9d-8980-44b3-9bf0-bcb716051aa8",
   "metadata": {},
   "source": [
    "### Use a different scoring function for testing V for the Power enhancement"
   ]
  },
  {
   "cell_type": "code",
   "execution_count": 17,
   "id": "26f3b42b-91e1-4b0f-aacc-fd482282e35f",
   "metadata": {},
   "outputs": [
    {
     "name": "stdout",
     "output_type": "stream",
     "text": [
      "[-0.24195826  0.22223624 -0.23156712]\n"
     ]
    },
    {
     "data": {
      "text/plain": [
       "0.11639344900462212"
      ]
     },
     "execution_count": 17,
     "metadata": {},
     "output_type": "execute_result"
    }
   ],
   "source": [
    "# Originally, we use v*x for scoring, here we use (-v)*x to detect \n",
    "# the negative correlation between Y and V\n",
    "Test_pe(X_e, Z_e, V_e, X_source, Z_source, V_source, Y_source, \\\n",
    "        X_target, Z_target, V_target, L=3, K=20, datatype='binary', score = 'neg')"
   ]
  },
  {
   "cell_type": "markdown",
   "id": "cc094742-8470-45e6-86a9-f1393f7431ae",
   "metadata": {},
   "source": [
    "## Benchmark\n",
    "there are 3 benchmarks:1. Use source only data, 2. Use target only data, 3. Importance sampling method (the benchmark from others)"
   ]
  },
  {
   "cell_type": "code",
   "execution_count": 15,
   "id": "9251a4ab-1f4e-4856-be09-22a44f42bffd",
   "metadata": {},
   "outputs": [
    {
     "ename": "UnboundLocalError",
     "evalue": "local variable 'p_value' referenced before assignment",
     "output_type": "error",
     "traceback": [
      "\u001b[0;31m---------------------------------------------------------------------------\u001b[0m",
      "\u001b[0;31mUnboundLocalError\u001b[0m                         Traceback (most recent call last)",
      "Cell \u001b[0;32mIn[15], line 4\u001b[0m\n\u001b[1;32m      1\u001b[0m \u001b[38;5;66;03m#1. Use source data only\u001b[39;00m\n\u001b[1;32m      2\u001b[0m \u001b[38;5;66;03m#2. Test with power enhancement\u001b[39;00m\n\u001b[0;32m----> 4\u001b[0m \u001b[43mPCR_test\u001b[49m\u001b[43m(\u001b[49m\u001b[43mX_source\u001b[49m\u001b[43m,\u001b[49m\u001b[43mZ_source\u001b[49m\u001b[43m,\u001b[49m\u001b[43mV_source\u001b[49m\u001b[43m,\u001b[49m\u001b[43mY_source\u001b[49m\u001b[43m,\u001b[49m\u001b[43m \u001b[49m\u001b[43mdatatype\u001b[49m\u001b[43m \u001b[49m\u001b[38;5;241;43m=\u001b[39;49m\u001b[43m \u001b[49m\u001b[38;5;124;43m'\u001b[39;49m\u001b[38;5;124;43mcontinuous\u001b[39;49m\u001b[38;5;124;43m'\u001b[39;49m\u001b[43m)\u001b[49m\n",
      "File \u001b[0;32m~/Documents/GitHub/Covariate-shift-CRT/New_functions.py:356\u001b[0m, in \u001b[0;36mPCR_test\u001b[0;34m(X, Z, V, Y, L, K, datatype)\u001b[0m\n\u001b[1;32m    352\u001b[0m     w, statistic \u001b[38;5;241m=\u001b[39m PCRtest(Y, X, Z, V, model_X_binary, model\u001b[38;5;241m=\u001b[39mmodel, L\u001b[38;5;241m=\u001b[39mL, K\u001b[38;5;241m=\u001b[39mK, covariate_shift\u001b[38;5;241m=\u001b[39m\u001b[38;5;28;01mFalse\u001b[39;00m)\n\u001b[1;32m    353\u001b[0m     p_value \u001b[38;5;241m=\u001b[39m chi_squared_p_value(statistic, L\u001b[38;5;241m-\u001b[39m\u001b[38;5;241m1\u001b[39m)\n\u001b[0;32m--> 356\u001b[0m \u001b[38;5;28;01mreturn\u001b[39;00m \u001b[43mp_value\u001b[49m\n",
      "\u001b[0;31mUnboundLocalError\u001b[0m: local variable 'p_value' referenced before assignment"
     ]
    }
   ],
   "source": [
    "#1. Use source data only\n",
    "#2. Test with power enhancement\n",
    "\n",
    "PCR_test(X_source,Z_source,V_source,Y_source, datatype = 'continuous')\n"
   ]
  },
  {
   "cell_type": "code",
   "execution_count": 19,
   "id": "5a2f8c8f-53ab-40ea-a0b5-3e83967dc13c",
   "metadata": {},
   "outputs": [
    {
     "data": {
      "text/plain": [
       "0.518063396234775"
      ]
     },
     "execution_count": 19,
     "metadata": {},
     "output_type": "execute_result"
    }
   ],
   "source": [
    "#2. Use target data only\n",
    "\n",
    "PCR_test(X_target,Z_target,V_target,Y_target)"
   ]
  },
  {
   "cell_type": "code",
   "execution_count": 7,
   "id": "cb824e77-a28c-4122-9e25-f603c317843a",
   "metadata": {},
   "outputs": [
    {
     "data": {
      "text/plain": [
       "0.7555308017855782"
      ]
     },
     "execution_count": 7,
     "metadata": {},
     "output_type": "execute_result"
    }
   ],
   "source": [
    "#3. Use Importance Sampling benchmark method\n",
    "\n",
    "IS_test(X_e, Z_e, V_e, X_source, Z_source, V_source, Y_source, X_target, Z_target, V_target, L=3, K=20, datatype='binary')\n"
   ]
  },
  {
   "cell_type": "markdown",
   "id": "065e3620-442d-45b9-a89b-6002c61c784a",
   "metadata": {},
   "source": [
    "## Tune hyperparameter L"
   ]
  },
  {
   "cell_type": "code",
   "execution_count": 9,
   "id": "41fb6f19-94d2-4934-9e11-e88147f7a404",
   "metadata": {},
   "outputs": [
    {
     "name": "stdout",
     "output_type": "stream",
     "text": [
      "Training accuracy for X|Z: 0.717\n",
      "[0.23433064 0.19167032 0.28155873]\n",
      "[167.95443516 165.08707733 174.75729811]\n",
      "L is 2, pvalue: 0.933563916771966\n",
      "Training accuracy for X|Z: 0.717\n",
      "[0.2952632  0.20613484 0.31138347]\n",
      "[140.64749537 187.91719237 174.08845475]\n",
      "L is 5, pvalue: 0.06342484042790109\n",
      "Training accuracy for X|Z: 0.717\n",
      "[0.2715509  0.20274784 0.29688373]\n",
      "[148.2607481  172.03479922 184.74858996]\n",
      "L is 8, pvalue: 0.21636110362760874\n",
      "Training accuracy for X|Z: 0.717\n",
      "[0.29121139 0.13614264 0.34778643]\n",
      "[146.78635223 166.57257311 184.67772408]\n",
      "L is 10, pvalue: 0.195118444312963\n"
     ]
    }
   ],
   "source": [
    "l_lst = [2, 5, 8, 10]\n",
    "result_lst = []\n",
    "for l in l_lst:\n",
    "    # Use any test function above\n",
    "    pvalue = Test_pe(X_e, Z_e, V_e, X_source, Z_source, V_source, Y_source, X_target, Z_target, V_target, L=3, K=20, datatype='binary')\n",
    "    result_lst.append(pvalue)\n",
    "    print(f'L is {l}, pvalue: {pvalue}')"
   ]
  }
 ],
 "metadata": {
  "kernelspec": {
   "display_name": "Python 3 (ipykernel)",
   "language": "python",
   "name": "python3"
  },
  "language_info": {
   "codemirror_mode": {
    "name": "ipython",
    "version": 3
   },
   "file_extension": ".py",
   "mimetype": "text/x-python",
   "name": "python",
   "nbconvert_exporter": "python",
   "pygments_lexer": "ipython3",
   "version": "3.9.16"
  }
 },
 "nbformat": 4,
 "nbformat_minor": 5
}
