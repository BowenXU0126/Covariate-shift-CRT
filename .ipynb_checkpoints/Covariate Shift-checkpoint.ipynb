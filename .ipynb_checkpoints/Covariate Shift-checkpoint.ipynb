{
 "cells": [
  {
   "cell_type": "code",
   "execution_count": 115,
   "id": "f276cf02",
   "metadata": {},
   "outputs": [],
   "source": [
    "import numpy as np\n",
    "import pandas as pd\n",
    "import matplotlib.pyplot as plt\n",
    "from scipy.stats import norm, chi2, multivariate_normal\n",
    "from sklearn import linear_model\n",
    "from sklearn.linear_model import LassoCV\n",
    "from sklearn.linear_model import Lasso\n",
    "from sklearn.linear_model import LinearRegression\n",
    "from sklearn.linear_model import LogisticRegressionCV\n",
    "from sklearn.model_selection import train_test_split\n",
    "from tqdm import trange\n",
    "from densratio import densratio\n",
    "from numpy import linalg as la\n",
    "import matplotlib.pyplot as plt\n",
    "from densratio import densratio\n",
    "np.random.seed(42)"
   ]
  },
  {
   "cell_type": "markdown",
   "id": "2477d71f-6e89-4daf-ba46-c70817843f11",
   "metadata": {},
   "source": [
    "# Functions"
   ]
  },
  {
   "cell_type": "code",
   "execution_count": 220,
   "id": "350cf0d2-13aa-4f9c-b4b9-389460865eaf",
   "metadata": {},
   "outputs": [],
   "source": [
    "import numpy as np\n",
    "from sklearn.linear_model import LogisticRegression\n",
    "from sklearn.neural_network import MLPClassifier\n",
    "from sklearn.ensemble import RandomForestClassifier\n",
    "from sklearn.svm import SVC\n",
    "from sklearn.model_selection import cross_val_predict\n",
    "from sklearn.linear_model import Lasso\n",
    "\n",
    "    \n",
    "\n",
    "def density_ratio_estimate_prob_RF(D_nu, D_de, n_estimators=100):\n",
    "    l_nu = np.ones(len(D_nu))\n",
    "    l_de = np.zeros(len(D_de))\n",
    "    \n",
    "    l = np.concatenate((l_nu, l_de))\n",
    "    D = np.concatenate((D_nu, D_de))\n",
    "    \n",
    "    # Fit Random Forest model\n",
    "    model = RandomForestClassifier()\n",
    "    model.fit(D, l)\n",
    "    \n",
    "    # Get density ratios for all samples\n",
    "    density_ratios = (model.predict_proba(D_de)[:, 1] / model.predict_proba(D_de)[:, 0]) * (len(D_de) / len(D_nu))\n",
    "    \n",
    "    return density_ratios\n",
    "\n",
    "\n",
    "from sklearn.linear_model import LogisticRegressionCV\n",
    "\n",
    "def density_ratio_estimate_prob_LR(D_nu, D_de, true_density = None,Z_known = True):\n",
    "    if Z_known == False:\n",
    "        l_nu = np.ones(len(D_nu))\n",
    "        l_de = np.zeros(len(D_de))\n",
    "\n",
    "        l = np.concatenate((l_nu, l_de))\n",
    "        D = np.concatenate((D_nu, D_de))\n",
    "\n",
    "        # Adding cross terms\n",
    "        cross_terms_de = []\n",
    "        n_covariates = D_de.shape[1]\n",
    "        for i in range(n_covariates):\n",
    "            for j in range(i, n_covariates):\n",
    "                cross_term = D_de[:, i] * D_de[:, j]\n",
    "                cross_terms_de.append(cross_term)\n",
    "        cross_terms_de = np.array(cross_terms_de).T\n",
    "\n",
    "        cross_terms_nu = []\n",
    "        n_covariates = D_nu.shape[1]\n",
    "        for i in range(n_covariates):\n",
    "            for j in range(i , n_covariates):\n",
    "                cross_term = D_nu[:, i] * D_nu[:, j]\n",
    "                cross_terms_nu.append(cross_term)\n",
    "        cross_terms_nu = np.array(cross_terms_nu).T\n",
    "\n",
    "\n",
    "        D_nu_with_cross_terms = np.concatenate((D_nu, cross_terms_nu),axis = 1)\n",
    "        D_de_with_cross_terms = np.concatenate((D_de, cross_terms_de), axis = 1)\n",
    "        D_with_cross_terms = np.concatenate((D_nu_with_cross_terms, D_de_with_cross_terms))\n",
    "\n",
    "        # Fit logistic model with cross terms\n",
    "        C = 0.1\n",
    "        model = LogisticRegressionCV(penalty='l1', solver='liblinear', cv=5)\n",
    "        model.fit(D_with_cross_terms, l)\n",
    "\n",
    "        # Get density ratios for samples in D_de\n",
    "        density_ratios = (model.predict_proba(D_de_with_cross_terms)[:, 1] / model.predict_proba(D_de_with_cross_terms)[:, 0]) * (len(D_de) / len(D_nu))\n",
    "        \n",
    "    if Z_known == True:\n",
    "        l_nu = np.ones(len(D_nu))\n",
    "        l_de = np.zeros(len(D_de))\n",
    "\n",
    "        l = np.concatenate((l_nu, l_de))\n",
    "        D = np.concatenate((D_nu, D_de))\n",
    "\n",
    "        # Fit logistic model with cross terms\n",
    "\n",
    "        model = LogisticRegressionCV(penalty='l2', cv = 2)\n",
    "        model.fit(D, l)\n",
    "        print(model.score(D,l))\n",
    "        # Get density ratios for samples in D_de\n",
    "        v_density_ratios = (model.predict_proba(D_de)[:, 1] / model.predict_proba(D_de)[:, 0]) * (len(D_de) / len(D_nu))\n",
    "        density_ratios = v_density_ratios * np.array(true_density)\n",
    "    return density_ratios\n",
    "\n",
    "\n",
    "\n",
    "\n",
    "\n",
    "from sklearn.linear_model import RidgeCV\n",
    "from sklearn.metrics import r2_score\n",
    "\n",
    "def est_v_ratio(X_s, Z_s, V_s, X_t, Z_t, V_t):\n",
    "    # Generate cross-terms between X_s and Z_s\n",
    "    # concatenate the data and fit the lasso model\n",
    "    D_s = np.concatenate((Z_s, X_s), axis=1)\n",
    "    model_s = LassoCV(cv=5)\n",
    "    model_s.fit(D_s, V_s.ravel())\n",
    "    # print(np.var(V_s))\n",
    "    # Estimate the variance of the V|X,Z model\n",
    "    V_pred_s = model_s.predict(D_s)\n",
    "    residual_s = V_s.ravel() - V_pred_s\n",
    "    est_var_s = np.var(residual_s)\n",
    "    # print(est_var_s)\n",
    "    \n",
    "    # print(model_s.coef_)\n",
    "    # Compute the R^2 score for the source model\n",
    "    r2_s = r2_score(V_s, V_pred_s)\n",
    "    # print(f\"Source Model R^2 Score: {r2_s}\")\n",
    "    \n",
    "    # Estimate the V probability for each sample\n",
    "    V_s_prob = norm.pdf(V_s.ravel(), loc=V_pred_s, scale=np.sqrt(est_var_s))\n",
    "    \n",
    "    # Generate cross-terms between X_t and Z_t\n",
    "    \n",
    "    D_t = np.concatenate((Z_t, X_t), axis=1)\n",
    "    # print(np.var(V_t))\n",
    "    model_t = LassoCV(cv=5)\n",
    "    model_t.fit(D_t, V_t.ravel())\n",
    "    \n",
    "    V_pred_t = model_t.predict(D_t)\n",
    "    residual_t = V_t.ravel() - V_pred_t\n",
    "    est_var_t = np.var(residual_t)\n",
    "    \n",
    "    # print(est_var_t)\n",
    "    V_pred_st = model_t.predict(D_s)\n",
    "    # print(model_t.coef_)\n",
    "    # Compute the R^2 score for the target model\n",
    "    r2_t = r2_score(V_t, V_pred_t)\n",
    "    # print(f\"Target Model R^2 Score: {r2_t}\")\n",
    "\n",
    "    V_t_prob = norm.pdf(V_s.ravel(), loc=V_pred_st, scale=np.sqrt(est_var_t))\n",
    "    \n",
    "    v_ratio = V_t_prob / V_s_prob\n",
    "    \n",
    "    return v_ratio\n",
    "\n",
    "\n",
    "  \n",
    "\n",
    "def norm_est_ratio(D_s, D_t):\n",
    "    ns = D_s.shape[0]\n",
    "    nt = D_t.shape[0]\n",
    "    p = D_s.shape[1]\n",
    "    \n",
    "    ED_s = np.mean(D_s, axis=0)\n",
    "    ED_t = np.mean(D_t, axis=0)\n",
    "    \n",
    "    CS = np.cov(D_s.T)\n",
    "    CT = np.cov(D_t.T)\n",
    "    \n",
    "    pdf_s = multivariate_normal.pdf(D_s, mean=ED_s, cov=CS)\n",
    "    pdf_t = multivariate_normal.pdf(D_s, mean=ED_t, cov=CT)\n",
    "    \n",
    "    true_ = pdf_t / pdf_s\n",
    "    \n",
    "    return true_\n",
    "\n",
    "    \n",
    "\n",
    "\n",
    "# def Covariate_Shift_Weight(x, z, v = 0):\n",
    "#     return np.exp(((x - z @ s)**2 - (x - z @ t)**2)/2)\n",
    "\n",
    "def Model_X(z, v, u):\n",
    "    return z[:5] @ u + np.random.normal(0, 1, 1)\n",
    "\n",
    "## group samples together\n",
    "\n",
    "def T_statistic(y, x, z, v, u,s, t,regr):\n",
    "#     d_y = regr.predict(z.reshape(1, z.shape[0]))\n",
    "#     # d_y = (1+s)@z\n",
    "    d_x = z[:5]@u\n",
    "    \n",
    "#     return np.abs(((y-d_y)*(x-d_x)))\n",
    "    return y*(x-d_x)\n",
    "    # return coef[0]\n",
    "\n",
    "def Conterfeits(y, x, z, v, u,s, t, L, K, regr):\n",
    "    M = L * K - 1\n",
    "    cnt = 0\n",
    "    t_stat = T_statistic(y, x, z, v, u,s, t,regr)\n",
    "\n",
    "    for i in range(M):\n",
    "        x_ = Model_X(z, v, u)\n",
    "        if t_stat > T_statistic(y, x_, z, v, u,s, t, regr):\n",
    "            cnt=cnt+1\n",
    "            \n",
    "    return cnt // K\n",
    "\n",
    "def PCRtest( Y, X, Z, V, u, s, t, L, K, covariate_shift, density_ratio, regr):\n",
    "    n = Y.size\n",
    "    W = np.array([0.0]*L)\n",
    "\n",
    "\n",
    "    for j in range(n):\n",
    "        y, x, z, v = Y[j], X[j], Z[j], V[j]\n",
    "        if covariate_shift == True:\n",
    "            ind = Conterfeits(y, x, z, v, u,s, t, L, K, regr)\n",
    "            W[ind] += density_ratio[j]\n",
    "           \n",
    "                \n",
    "        if covariate_shift == False:\n",
    "            W[Conterfeits(y, x, z, v, u,s, t, L, K, regr)] += 1\n",
    "            \n",
    "    return W, L/n * np.dot(W - n/L, W - n/L)\n",
    "\n",
    "def generate_cov_matrix(Y, X, Z, V,u, s, t, L, K, density_ratio, regr):\n",
    "    \"\"\"\n",
    "    Generate a covariance matrix for quadratic form normal rv.\n",
    "\n",
    "    Parameters:\n",
    "    - L (int): The size of the covariance matrix.\n",
    "\n",
    "    Returns:\n",
    "    - covariance_matrix (ndarray): The generated covariance matrix.\n",
    "    \"\"\"\n",
    "    n = Y.size\n",
    "    diag = np.array([0.0]*L)\n",
    "    \n",
    "    for j in range(n):\n",
    "        y, x, z, v = Y[j], X[j], Z[j], V[j]\n",
    "        diag[Conterfeits(y, x, z, v, u,s,t,L, K, regr)] += (density_ratio[j]**2)\n",
    "    diag = L*(diag/n)- 1/L\n",
    "    covariance_matrix = np.full((L, L), -1/L)  # Fill all entries with 1/L\n",
    "    np.fill_diagonal(covariance_matrix, diag)  # Set diagonal entries to 1 - 1/L^2\n",
    "    return covariance_matrix\n",
    "\n",
    "\n",
    "def multiple_test(Y, X, Z, V, u, s, t, L, K, covariate_shift, density_ratio, regr):\n",
    "    "
   ]
  },
  {
   "cell_type": "code",
   "execution_count": 221,
   "id": "93657a58-79da-400b-8064-fc5ba7d5885a",
   "metadata": {},
   "outputs": [],
   "source": [
    "#get p values\n",
    "\n",
    "import scipy.stats as stats\n",
    "\n",
    "def chi_squared_p_value(chi_squared_statistic, df):\n",
    "    \"\"\"\n",
    "    Calculate the p-value from a chi-squared distribution.\n",
    "\n",
    "    Parameters:\n",
    "    - chi_squared_statistic (float): The observed chi-squared test statistic.\n",
    "    - df (int): The degrees of freedom.\n",
    "\n",
    "    Returns:\n",
    "    - p_value (float): The calculated p-value.\n",
    "    \"\"\"\n",
    "    p_value = 1 - stats.chi2.cdf(chi_squared_statistic, df)\n",
    "    return p_value\n",
    "\n",
    "def monte_carlo_p_value(n_samples, covariance_matrix, L, quantile):\n",
    "    \n",
    "    count = 0\n",
    "    for _ in range(n_samples):\n",
    "        sample = np.random.multivariate_normal(np.zeros(L), covariance_matrix)\n",
    "        squared_sum = np.sum(sample**2)\n",
    "        if squared_sum <= quantile:\n",
    "            count += 1\n",
    "\n",
    "    probability = count / n_samples\n",
    "    return 1-probability\n"
   ]
  },
  {
   "cell_type": "markdown",
   "id": "34841abf",
   "metadata": {},
   "source": [
    "# 生成数据"
   ]
  },
  {
   "cell_type": "code",
   "execution_count": 292,
   "id": "8a429fec",
   "metadata": {},
   "outputs": [],
   "source": [
    "# Generate Data\n",
    "\n",
    "\n",
    "import numpy as np\n",
    "\n",
    "def generate(ns, nt, p,q, s, t, u, Alpha_s=0, Alpha_t = 2):\n",
    "    Zs_null = np.random.normal(0,0.1, (ns, q))\n",
    "    Zt_null = np.random.normal(0,0.1, (nt, q))\n",
    "    \n",
    "    Z_source = np.hstack((np.random.normal(0, 1, (ns, p)) , Zs_null))\n",
    "    Z_target = np.hstack((np.random.normal(0.1, 1, (nt, p)) , Zt_null))\n",
    "    \n",
    "    X_source = Z_source[:, :p] @ u + np.random.normal(0, 1, ns)\n",
    "    X_target = Z_target[:, :p] @ u + np.random.normal(0, 1, nt)\n",
    "\n",
    "    V_source = Z_source[:, :p] @ s + Alpha_s * X_source + np.random.normal(0, 2, ns)\n",
    "    V_target = Z_target[:, :p] @ t + Alpha_t * X_target + np.random.normal(0, 2, nt)\n",
    "    \n",
    "    # V_source = Z_source[:, :p] @ s + 2*X_source \n",
    "    # V_target = Z_target[:, :p] @ t - 2*X_target\n",
    "    \n",
    "    Y_source = (Z_source[:, :p].sum(axis=1))**2 + V_source + np.random.normal(0, 1, ns) \n",
    "    Y_target = (Z_target[:, :p].sum(axis=1))**2 + V_target + np.random.normal(0, 1, nt) \n",
    "    \n",
    "    \n",
    "    return Y_source.reshape(-1, 1), X_source.reshape(-1, 1), V_source.reshape(-1, 1), Z_source,\\\n",
    "           Y_target.reshape(-1, 1), X_target.reshape(-1, 1), V_target.reshape(-1, 1), Z_target\n",
    "\n",
    "\n",
    "\n",
    "\n",
    "def generate_multiple(ns, nt, p, q, s, t, u_matrix, Alpha_s=None, Alpha_t=2):\n",
    "    \n",
    "    Zs_null = np.random.normal(0, 0.1, (ns, q))\n",
    "    Zt_null = np.random.normal(0, 0.1, (nt, q))\n",
    "    \n",
    "    Z_source = np.hstack((np.random.normal(0, 1, (ns, p)), Zs_null))\n",
    "    Z_target = np.hstack((np.random.normal(0.1, 1, (nt, p)), Zt_null))\n",
    "    \n",
    "    k = u_matrix.shape[1]  # Number of different u vectors\n",
    "    X_source = np.zeros((ns, k))\n",
    "    X_target = np.zeros((nt, k))\n",
    "    \n",
    "    for i in range(k):\n",
    "        X_source[:, i] = (Z_source[:, :p] @ u_matrix[:, i]) + np.random.normal(0, 1, ns)\n",
    "        X_target[:, i] = (Z_target[:, :p] @ u_matrix[:, i]) + np.random.normal(0, 1, nt)\n",
    "\n",
    "    V_source = (Z_source[:, :p] @ s) + (Alpha_s * X_source).sum(axis=1) + np.random.normal(0, 5, ns)\n",
    "    V_target = (Z_target[:, :p] @ t) + (Alpha_t * X_target).sum(axis=1) + np.random.normal(0, 5, nt)\n",
    "    \n",
    "    Y_source = (Z_source[:, :p].sum(axis=1))**2 + V_source + np.random.normal(0, 1, ns) \n",
    "    Y_target = (Z_target[:, :p].sum(axis=1))**2 + V_target + np.random.normal(0, 1, nt) \n",
    "    \n",
    "    return Y_source.reshape(-1, 1), X_source, V_source.reshape(-1, 1), Z_source,\\\n",
    "           Y_target.reshape(-1, 1), X_target, V_target.reshape(-1, 1), Z_target\n",
    "\n",
    "\n",
    "\n",
    "\n",
    "\n",
    "def true_density_ratio(X, Z, V, s, t,p,q, Alpha_s = 0, Alpha_t = 2):\n",
    "    ratios = []\n",
    "    for i in range(2000):\n",
    "        zs_prob = multivariate_normal.pdf(Z[i][:p], mean = 0*np.ones(p), cov= 1*np.identity(p))\n",
    "        vs_prob = norm.pdf(V[i], loc=Z[i][:p]@s + Alpha_s*X[i], scale =2)\n",
    "        zt_prob = multivariate_normal.pdf(Z[i][:p], mean = 0.1*np.ones(p), cov= 1*np.identity(p))\n",
    "        vt_prob = norm.pdf(V[i], loc=Z[i][:p]@t + Alpha_t*X[i], scale =2)\n",
    "        ratios.append((zt_prob*vt_prob)/(zs_prob*vs_prob))\n",
    "    # zs_probs = multivariate_normal.pdf(Z[:, :p], mean=0*np.ones(p), cov=np.identity(p))\n",
    "    # vs_probs = norm.pdf(V, loc=(Z[:, :p] @ s).reshape(-1,1) + 2*X, scale=5)\n",
    "    # zt_probs = multivariate_normal.pdf(Z[:, :p], mean=0.2*np.ones(p), cov=np.identity(p))\n",
    "    # vt_probs = norm.pdf(V, loc=(Z[:, :p] @ t).reshape(-1,1) - 2*X, scale=5)\n",
    "    # ratios = (zt_probs * vt_probs) / (zs_probs * vs_probs)\n",
    "    return ratios\n",
    "\n",
    "def xz_ratio(X, Z, V, s, t,p,q):\n",
    "    ratios = []\n",
    "    for i in range(2000):\n",
    "        zs_prob = multivariate_normal.pdf(Z[i][:p], mean = 0*np.ones(p), cov= 1*np.identity(p))\n",
    "        zt_prob = multivariate_normal.pdf(Z[i][:p], mean = 0.1*np.ones(p), cov= 1*np.identity(p))\n",
    "        ratios.append((zt_prob)/(zs_prob))\n",
    "    \n",
    "    return ratios\n",
    "\n",
    "def v_true_ratio(X, Z, V, s, t, p, q, Alpha_s = 0, Alpha_t = 2):\n",
    "    ratios = []\n",
    "    for i in range(2000):\n",
    "        vs_prob = vs_prob = norm.pdf(V[i], loc=Z[i][:p]@s + Alpha_s*X[i], scale =2)\n",
    "        vt_prob = norm.pdf(V[i], loc=Z[i][:p]@t + Alpha_t*X[i], scale =2)\n",
    "        ratios.append((vt_prob/vs_prob))\n",
    "        \n",
    "    return ratios\n",
    "    # return np.exp(0.5*Z.sum() - 0.25*(1/2) - (1/200)*(V- t@Z +X)**2 + (1/200)*(V - s@Z - X)**2)"
   ]
  },
  {
   "cell_type": "markdown",
   "id": "62f86349-f52a-4f8e-831b-d47cd22b3a98",
   "metadata": {},
   "source": [
    "# Test procedure"
   ]
  },
  {
   "cell_type": "code",
   "execution_count": 307,
   "id": "b0fdf7e8-fcae-499a-8149-c328d32c395f",
   "metadata": {},
   "outputs": [],
   "source": [
    "# \n",
    "ns,nt, p,q = 5000,5000, 5, 50\n",
    "s = np.random.normal(1, 1, p)\n",
    "t = np.random.normal(1, 1, p)\n",
    "u = np.random.normal(0, 1, p)\n",
    "# s = t+1"
   ]
  },
  {
   "cell_type": "code",
   "execution_count": 318,
   "id": "4c288a9c-deba-4953-8c5b-1a97f4a70d34",
   "metadata": {
    "tags": []
   },
   "outputs": [],
   "source": [
    "#generate data\n",
    "Y_source, X_source, V_source, Z_source, Y_target, X_target, V_target, Z_target = generate(ns,nt, p,q, s, t, u, 0,2)\n",
    "\n",
    "# # calculate density ratio\n",
    "# D_s = np.concatenate((X_source, Z_source, V_source), axis = 1)\n",
    "# D_t = np.concatenate((X_target, Z_target, V_target), axis = 1)\n",
    "\n",
    "# # densratio_obj = densratio(D_t, D_s)\n",
    "# reg=1\n",
    "\n",
    "true_dr = true_density_ratio(X_source,Z_source, V_source, s,t,p,q,0,2)\n",
    "# xz_dr = xz_ratio(X_source,Z_source, V_source, s,t,p,q)\n",
    "# sample_density_ratio2 = norm_est_ratio(D_s, D_t)\n",
    "\n",
    "# sample_density_ratio2 = density_ratio_estimate_prob_LR(V_target, V_source, true_density= xz_dr, Z_known= True)\n",
    "xz_dr = xz_ratio(X_source,Z_source, V_source, s,t,p,q)\n",
    "# v_true_dr = v_true_ratio(X_source,Z_source, V_source, s,t,p,q,0,2)\n",
    "v_dr = est_v_ratio(X_source, Z_source, V_source, X_target, Z_target, V_target)\n",
    "sample_density_ratio2 = xz_dr * v_dr[:2000]"
   ]
  },
  {
   "cell_type": "code",
   "execution_count": 382,
   "id": "999f8b52-6089-44ed-b69a-7e3708886a4c",
   "metadata": {},
   "outputs": [
    {
     "data": {
      "text/plain": [
       "758347433.0433"
      ]
     },
     "execution_count": 382,
     "metadata": {},
     "output_type": "execute_result"
    }
   ],
   "source": [
    "la.norm(v_true_dr - v_dr)**2"
   ]
  },
  {
   "cell_type": "code",
   "execution_count": 234,
   "id": "20742e06-7dc6-479b-811d-8bb0d8a05fdd",
   "metadata": {
    "tags": []
   },
   "outputs": [
    {
     "data": {
      "text/plain": [
       "(array([437., 393., 419., 389., 362.]), 8.36)"
      ]
     },
     "execution_count": 234,
     "metadata": {},
     "output_type": "execute_result"
    }
   ],
   "source": [
    "# reg = LassoCV().fit(Z_source,Y_source.ravel())\n",
    "# print(reg.coef_)\n",
    "PCRtest(Y_source, X_source, Z_source,V_source,u,s,t, L = 5, K = 20, covariate_shift = False, density_ratio = sample_density_ratio2, regr = reg)"
   ]
  },
  {
   "cell_type": "code",
   "execution_count": 235,
   "id": "758a62ef-7797-42ed-94f4-d82e1dbbcb21",
   "metadata": {
    "tags": []
   },
   "outputs": [
    {
     "data": {
      "text/plain": [
       "(array([ 766.,  981.,  990., 1062., 1201.]), 99.462)"
      ]
     },
     "execution_count": 235,
     "metadata": {},
     "output_type": "execute_result"
    }
   ],
   "source": [
    "# reg = LassoCV().fit(Z_target,Y_target.ravel())\n",
    "PCRtest(Y_target, X_target, Z_target,V_target,u,s,t, L = 5, K = 20, covariate_shift = False, density_ratio = sample_density_ratio2, regr = reg)"
   ]
  },
  {
   "cell_type": "code",
   "execution_count": 263,
   "id": "81b4f8f4-4d97-4611-ab52-cc7bb1944a0b",
   "metadata": {},
   "outputs": [
    {
     "name": "stdout",
     "output_type": "stream",
     "text": [
      "48.168131449446655\n",
      "1.0131935508527135e-10\n",
      "0.955983500949201\n"
     ]
    }
   ],
   "source": [
    "print(np.max(true_dr))\n",
    "print(np.min(true_dr))\n",
    "mean = np.mean(true_dr)\n",
    "print(mean)"
   ]
  },
  {
   "cell_type": "code",
   "execution_count": 264,
   "id": "986d6200-ccdf-4e3d-82bd-cd974d748e81",
   "metadata": {
    "tags": []
   },
   "outputs": [
    {
     "name": "stdout",
     "output_type": "stream",
     "text": [
      "43.06240900372854\n",
      "4.0680195678002374e-11\n",
      "0.941211116715151\n"
     ]
    }
   ],
   "source": [
    "print(np.max(sample_density_ratio2))\n",
    "print(np.min(sample_density_ratio2))\n",
    "mean = np.mean(sample_density_ratio2)\n",
    "print(mean)\n",
    "# sample_density_ratio2 = sample_density_ratio2/mean"
   ]
  },
  {
   "cell_type": "code",
   "execution_count": 319,
   "id": "b1aa708e-edbf-4482-b3f8-9ff4a2532c21",
   "metadata": {
    "tags": []
   },
   "outputs": [
    {
     "name": "stdout",
     "output_type": "stream",
     "text": [
      "0.2094838890348042\n"
     ]
    },
    {
     "data": {
      "image/png": "[encoded data removed]",
      "text/plain": [
       "<Figure size 640x480 with 1 Axes>"
      ]
     },
     "metadata": {},
     "output_type": "display_data"
    }
   ],
   "source": [
    "import matplotlib.pyplot as plt\n",
    "\n",
    "\n",
    "# Sort the true_list in descending order\n",
    "combined_lists = zip(true_dr, sample_density_ratio2)\n",
    "\n",
    "# Sort the combined_lists based on the values of true_lst\n",
    "sorted_combined_lists = sorted(combined_lists, key=lambda x: x[0],reverse=True)\n",
    "\n",
    "# Separate the sorted lists back into true_lst and other_lst\n",
    "sorted_true, sorted_estimate = zip(*sorted_combined_lists)\n",
    "\n",
    "# Generate x-axis values\n",
    "x_start =0\n",
    "x_end = 50\n",
    "x = range(x_end - x_start)\n",
    "\n",
    "# Calculate the difference between the true and estimate lists\n",
    "difference = [true - estimate for true, estimate in zip(sorted_true, sorted_estimate)]\n",
    "\n",
    "# # Create the plot for the difference\n",
    "# plt.plot(x, difference[x_start:x_end], label='difference')\n",
    "\n",
    "# # Add labels, title, and legend\n",
    "# plt.xlabel('X')\n",
    "# plt.ylabel('Difference')\n",
    "# plt.title('Difference between true and estimate')\n",
    "# plt.legend()\n",
    "\n",
    "# # Show the plot\n",
    "# plt.show()\n",
    "print(la.norm(difference)**2/2000)\n",
    "# plt.plot(x, true_list[x_start:x_end], label='true')\n",
    "# plt.plot(x, sample_density_ratio2[x_start:x_end], label='estimate')\n",
    "plt.plot(x, sorted_true[x_start:x_end], label='true')\n",
    "plt.plot(x, sorted_estimate[x_start:x_end], label='estimate')\n",
    "plt.legend()\n",
    "plt.show()"
   ]
  },
  {
   "cell_type": "code",
   "execution_count": 61,
   "id": "e7d8c152-e75f-4e68-86b2-222807391662",
   "metadata": {
    "collapsed": true,
    "jupyter": {
     "outputs_hidden": true
    },
    "tags": []
   },
   "outputs": [
    {
     "ename": "KeyboardInterrupt",
     "evalue": "",
     "output_type": "error",
     "traceback": [
      "\u001b[0;31m---------------------------------------------------------------------------\u001b[0m",
      "\u001b[0;31mKeyboardInterrupt\u001b[0m                         Traceback (most recent call last)",
      "Cell \u001b[0;32mIn[61], line 3\u001b[0m\n\u001b[1;32m      1\u001b[0m \u001b[38;5;66;03m# Calculate average loss of 2 estimate method\u001b[39;00m\n\u001b[1;32m      2\u001b[0m \u001b[38;5;28;01mfor\u001b[39;00m i \u001b[38;5;129;01min\u001b[39;00m \u001b[38;5;28mrange\u001b[39m(\u001b[38;5;241m1000\u001b[39m):\n\u001b[0;32m----> 3\u001b[0m     Y_source, X_source, V_source, Z_source, Y_target, X_target, V_target, Z_target \u001b[38;5;241m=\u001b[39m \u001b[43mgenerate\u001b[49m\u001b[43m(\u001b[49m\u001b[43mns\u001b[49m\u001b[43m,\u001b[49m\u001b[43mnt\u001b[49m\u001b[43m,\u001b[49m\u001b[43m \u001b[49m\u001b[43mp\u001b[49m\u001b[43m,\u001b[49m\u001b[43mq\u001b[49m\u001b[43m,\u001b[49m\u001b[43m \u001b[49m\u001b[43ms\u001b[49m\u001b[43m,\u001b[49m\u001b[43m \u001b[49m\u001b[43mt\u001b[49m\u001b[43m,\u001b[49m\u001b[43m \u001b[49m\u001b[43mu\u001b[49m\u001b[43m,\u001b[49m\u001b[43m \u001b[49m\u001b[38;5;241;43m0\u001b[39;49m\u001b[43m)\u001b[49m\n\u001b[1;32m      5\u001b[0m     \u001b[38;5;66;03m# calculate density ratio\u001b[39;00m\n\u001b[1;32m      6\u001b[0m     D_s \u001b[38;5;241m=\u001b[39m np\u001b[38;5;241m.\u001b[39mconcatenate((X_source, Z_source, V_source), axis \u001b[38;5;241m=\u001b[39m \u001b[38;5;241m1\u001b[39m)\n",
      "Cell \u001b[0;32mIn[51], line 8\u001b[0m, in \u001b[0;36mgenerate\u001b[0;34m(ns, nt, p, q, s, t, u, Alpha)\u001b[0m\n\u001b[1;32m      6\u001b[0m \u001b[38;5;28;01mdef\u001b[39;00m \u001b[38;5;21mgenerate\u001b[39m(ns, nt, p,q, s, t, u, Alpha\u001b[38;5;241m=\u001b[39m\u001b[38;5;241m0\u001b[39m):\n\u001b[1;32m      7\u001b[0m     Zs_null \u001b[38;5;241m=\u001b[39m np\u001b[38;5;241m.\u001b[39mrandom\u001b[38;5;241m.\u001b[39mnormal(\u001b[38;5;241m0\u001b[39m,\u001b[38;5;241m0.1\u001b[39m, (ns, q))\n\u001b[0;32m----> 8\u001b[0m     Zt_null \u001b[38;5;241m=\u001b[39m \u001b[43mnp\u001b[49m\u001b[38;5;241;43m.\u001b[39;49m\u001b[43mrandom\u001b[49m\u001b[38;5;241;43m.\u001b[39;49m\u001b[43mnormal\u001b[49m\u001b[43m(\u001b[49m\u001b[38;5;241;43m0\u001b[39;49m\u001b[43m,\u001b[49m\u001b[38;5;241;43m0.1\u001b[39;49m\u001b[43m,\u001b[49m\u001b[43m \u001b[49m\u001b[43m(\u001b[49m\u001b[43mnt\u001b[49m\u001b[43m,\u001b[49m\u001b[43m \u001b[49m\u001b[43mq\u001b[49m\u001b[43m)\u001b[49m\u001b[43m)\u001b[49m\n\u001b[1;32m     10\u001b[0m     Z_source \u001b[38;5;241m=\u001b[39m np\u001b[38;5;241m.\u001b[39mhstack((np\u001b[38;5;241m.\u001b[39mrandom\u001b[38;5;241m.\u001b[39mnormal(\u001b[38;5;241m0\u001b[39m, \u001b[38;5;241m0.1\u001b[39m, (ns, p)) , Zs_null))\n\u001b[1;32m     11\u001b[0m     Z_target \u001b[38;5;241m=\u001b[39m np\u001b[38;5;241m.\u001b[39mhstack((np\u001b[38;5;241m.\u001b[39mrandom\u001b[38;5;241m.\u001b[39mnormal(\u001b[38;5;241m0.1\u001b[39m, \u001b[38;5;241m0.1\u001b[39m, (nt, p)) , Zt_null))\n",
      "\u001b[0;31mKeyboardInterrupt\u001b[0m: "
     ]
    }
   ],
   "source": [
    "# Calculate average loss of 2 estimate method\n",
    "for i in range(1000):\n",
    "    Y_source, X_source, V_source, Z_source, Y_target, X_target, V_target, Z_target = generate(ns,nt, p,q, s, t, u, 0)\n",
    "\n",
    "    # calculate density ratio\n",
    "    D_s = np.concatenate((X_source, Z_source, V_source), axis = 1)\n",
    "    D_t = np.concatenate((X_target, Z_target, V_target), axis = 1)\n",
    "\n"
   ]
  },
  {
   "cell_type": "code",
   "execution_count": 407,
   "id": "98a870aa-891e-46a2-9155-ef5cc7e161b4",
   "metadata": {},
   "outputs": [
    {
     "name": "stdout",
     "output_type": "stream",
     "text": [
      "[630.38181074 459.08392409 359.4596067  351.67719155 199.39746693] 251.96670595586986\n"
     ]
    }
   ],
   "source": [
    "# Power enhancement\n",
    "\n",
    "L, K = 5, 20\n",
    "Y_source, X_source, V_source, Z_source, Y_target, X_target, V_target, Z_target = generate(ns,nt, p,q, s, t, u, 0, 2)\n",
    "#print(V_source.mean(), V_target.mean())\n",
    "sum=0\n",
    "max = 0\n",
    "min = np.inf\n",
    "a, b = [], []\n",
    "W = np.array([0.0]*L)\n",
    "true_list = true_density_ratio(X_source,Z_source, V_source, s,t,p,q,0,2)\n",
    "\n",
    "for j in range(ns):\n",
    "    y, x, z, v = Y_source[j], X_source[j], Z_source[j], V_source[j]\n",
    "    ind_y = Conterfeits(y, x, z, v, u, s, t, L, K, 1)\n",
    "    ind_v = Conterfeits(v, x, z, v, u, s, t, L, K, 1)\n",
    "    W[ind_y] += true_list[j]\n",
    "    W[ind_v] -= true_list[j]\n",
    "    a.append(ind_y)\n",
    "    b.append(ind_v)\n",
    "    \n",
    "for j in range(nt):\n",
    "    y_, x_, z_, v_ = Y_target[j], X_target[j], Z_target[j], V_target[j]\n",
    "    ind_v_ = Conterfeits(v_, x_, z_, v_, u, s, t, L, K, 1)\n",
    "    W[ind_v_] += ns/nt\n",
    "    sum += ind_v_\n",
    "#for i in range(L):\n",
    "#    W[i] += sum*ns/nt\n",
    "a = np.array(a)\n",
    "b = np.array(b)\n",
    "g = (a@b.T)/(b@b.T)\n",
    "print(W, L/ns * np.dot(W - ns/L, W - ns/L))"
   ]
  },
  {
   "cell_type": "code",
   "execution_count": 311,
   "id": "46582903-5ff2-4571-8b79-63b71796d98d",
   "metadata": {},
   "outputs": [],
   "source": [
    "s = np.array([-0.56228753, -1.01283112,  0.31424733, -0.90802408, -1.4123037 ])\n",
    "t = np.array([ 1.46564877, -0.2257763 ,  0.0675282 , -1.42474819, -0.54438272])\n",
    "u = np.array([ 0.11092259, -1.15099358,  0.37569802, -0.60063869, -0.29169375])"
   ]
  },
  {
   "cell_type": "code",
   "execution_count": 323,
   "id": "57f76488-ac37-4ea6-bc75-d062c3ccd9c2",
   "metadata": {},
   "outputs": [],
   "source": [
    "import momentchi2 as mchi\n"
   ]
  },
  {
   "cell_type": "markdown",
   "id": "525b5686-6068-489f-bf1e-19c97800bd98",
   "metadata": {},
   "source": [
    "## Test"
   ]
  },
  {
   "cell_type": "code",
   "execution_count": 322,
   "id": "c8fd609a",
   "metadata": {
    "tags": []
   },
   "outputs": [
    {
     "name": "stderr",
     "output_type": "stream",
     "text": [
      "  0%|          | 1/200 [00:07<26:29,  7.99s/it]"
     ]
    },
    {
     "name": "stdout",
     "output_type": "stream",
     "text": [
      "0.27463000000000004\n"
     ]
    },
    {
     "name": "stderr",
     "output_type": "stream",
     "text": [
      "  1%|          | 2/200 [00:15<25:01,  7.59s/it]"
     ]
    },
    {
     "name": "stdout",
     "output_type": "stream",
     "text": [
      "0.015539999999999998\n"
     ]
    },
    {
     "name": "stderr",
     "output_type": "stream",
     "text": [
      "  2%|▏         | 3/200 [00:22<24:21,  7.42s/it]"
     ]
    },
    {
     "name": "stdout",
     "output_type": "stream",
     "text": [
      "0.008889999999999953\n"
     ]
    },
    {
     "name": "stderr",
     "output_type": "stream",
     "text": [
      "  2%|▏         | 4/200 [00:29<24:04,  7.37s/it]"
     ]
    },
    {
     "name": "stdout",
     "output_type": "stream",
     "text": [
      "0.3579\n"
     ]
    },
    {
     "name": "stderr",
     "output_type": "stream",
     "text": [
      "  2%|▎         | 5/200 [00:37<23:45,  7.31s/it]"
     ]
    },
    {
     "name": "stdout",
     "output_type": "stream",
     "text": [
      "0.62359\n"
     ]
    },
    {
     "name": "stderr",
     "output_type": "stream",
     "text": [
      "  3%|▎         | 6/200 [00:44<23:39,  7.32s/it]"
     ]
    },
    {
     "name": "stdout",
     "output_type": "stream",
     "text": [
      "0.19689\n"
     ]
    },
    {
     "name": "stderr",
     "output_type": "stream",
     "text": [
      "  4%|▎         | 7/200 [00:51<23:35,  7.34s/it]"
     ]
    },
    {
     "name": "stdout",
     "output_type": "stream",
     "text": [
      "0.8434699999999999\n"
     ]
    },
    {
     "name": "stderr",
     "output_type": "stream",
     "text": [
      "  4%|▍         | 8/200 [00:58<23:20,  7.29s/it]"
     ]
    },
    {
     "name": "stdout",
     "output_type": "stream",
     "text": [
      "0.06315000000000004\n"
     ]
    },
    {
     "name": "stderr",
     "output_type": "stream",
     "text": [
      "  4%|▍         | 9/200 [01:06<23:03,  7.24s/it]"
     ]
    },
    {
     "name": "stdout",
     "output_type": "stream",
     "text": [
      "0.52644\n"
     ]
    },
    {
     "name": "stderr",
     "output_type": "stream",
     "text": [
      "  5%|▌         | 10/200 [01:13<22:50,  7.21s/it]"
     ]
    },
    {
     "name": "stdout",
     "output_type": "stream",
     "text": [
      "0.41807000000000005\n"
     ]
    },
    {
     "name": "stderr",
     "output_type": "stream",
     "text": [
      "  6%|▌         | 11/200 [01:20<22:36,  7.18s/it]"
     ]
    },
    {
     "name": "stdout",
     "output_type": "stream",
     "text": [
      "0.88565\n"
     ]
    },
    {
     "name": "stderr",
     "output_type": "stream",
     "text": [
      "  6%|▌         | 12/200 [01:27<22:32,  7.20s/it]"
     ]
    },
    {
     "name": "stdout",
     "output_type": "stream",
     "text": [
      "0.032200000000000006\n"
     ]
    },
    {
     "name": "stderr",
     "output_type": "stream",
     "text": [
      "  6%|▋         | 13/200 [01:34<22:31,  7.23s/it]"
     ]
    },
    {
     "name": "stdout",
     "output_type": "stream",
     "text": [
      "0.12051\n"
     ]
    },
    {
     "name": "stderr",
     "output_type": "stream",
     "text": [
      "  7%|▋         | 14/200 [01:42<22:55,  7.39s/it]"
     ]
    },
    {
     "name": "stdout",
     "output_type": "stream",
     "text": [
      "0.00036999999999998145\n"
     ]
    },
    {
     "name": "stderr",
     "output_type": "stream",
     "text": [
      "  8%|▊         | 15/200 [01:49<22:44,  7.38s/it]"
     ]
    },
    {
     "name": "stdout",
     "output_type": "stream",
     "text": [
      "0.33099999999999996\n"
     ]
    },
    {
     "name": "stderr",
     "output_type": "stream",
     "text": [
      "  8%|▊         | 16/200 [01:57<22:31,  7.35s/it]"
     ]
    },
    {
     "name": "stdout",
     "output_type": "stream",
     "text": [
      "0.45503000000000005\n"
     ]
    },
    {
     "name": "stderr",
     "output_type": "stream",
     "text": [
      "  8%|▊         | 17/200 [02:04<22:16,  7.30s/it]"
     ]
    },
    {
     "name": "stdout",
     "output_type": "stream",
     "text": [
      "0.45516\n"
     ]
    },
    {
     "name": "stderr",
     "output_type": "stream",
     "text": [
      "  9%|▉         | 18/200 [02:11<21:58,  7.25s/it]"
     ]
    },
    {
     "name": "stdout",
     "output_type": "stream",
     "text": [
      "0.35014999999999996\n"
     ]
    },
    {
     "name": "stderr",
     "output_type": "stream",
     "text": [
      " 10%|▉         | 19/200 [02:18<21:47,  7.23s/it]"
     ]
    },
    {
     "name": "stdout",
     "output_type": "stream",
     "text": [
      "0.22380999999999995\n"
     ]
    },
    {
     "name": "stderr",
     "output_type": "stream",
     "text": [
      " 10%|█         | 20/200 [02:25<21:33,  7.18s/it]"
     ]
    },
    {
     "name": "stdout",
     "output_type": "stream",
     "text": [
      "0.11185\n"
     ]
    },
    {
     "name": "stderr",
     "output_type": "stream",
     "text": [
      " 10%|█         | 21/200 [02:33<21:28,  7.20s/it]"
     ]
    },
    {
     "name": "stdout",
     "output_type": "stream",
     "text": [
      "0.09133999999999998\n"
     ]
    },
    {
     "name": "stderr",
     "output_type": "stream",
     "text": [
      " 11%|█         | 22/200 [02:40<21:20,  7.19s/it]"
     ]
    },
    {
     "name": "stdout",
     "output_type": "stream",
     "text": [
      "0.42369999999999997\n"
     ]
    },
    {
     "name": "stderr",
     "output_type": "stream",
     "text": [
      " 12%|█▏        | 23/200 [02:47<21:31,  7.29s/it]"
     ]
    },
    {
     "name": "stdout",
     "output_type": "stream",
     "text": [
      "0.71587\n"
     ]
    },
    {
     "name": "stderr",
     "output_type": "stream",
     "text": [
      " 12%|█▏        | 24/200 [02:55<21:33,  7.35s/it]"
     ]
    },
    {
     "name": "stdout",
     "output_type": "stream",
     "text": [
      "0.15866000000000002\n"
     ]
    },
    {
     "name": "stderr",
     "output_type": "stream",
     "text": [
      " 12%|█▎        | 25/200 [03:02<21:25,  7.34s/it]"
     ]
    },
    {
     "name": "stdout",
     "output_type": "stream",
     "text": [
      "0.00385000000000002\n"
     ]
    },
    {
     "name": "stderr",
     "output_type": "stream",
     "text": [
      " 13%|█▎        | 26/200 [03:09<21:09,  7.29s/it]"
     ]
    },
    {
     "name": "stdout",
     "output_type": "stream",
     "text": [
      "0.14354999999999996\n"
     ]
    },
    {
     "name": "stderr",
     "output_type": "stream",
     "text": [
      " 14%|█▎        | 27/200 [03:16<20:58,  7.27s/it]"
     ]
    },
    {
     "name": "stdout",
     "output_type": "stream",
     "text": [
      "0.49061\n"
     ]
    },
    {
     "name": "stderr",
     "output_type": "stream",
     "text": [
      " 14%|█▍        | 28/200 [03:24<20:52,  7.28s/it]"
     ]
    },
    {
     "name": "stdout",
     "output_type": "stream",
     "text": [
      "0.058089999999999975\n"
     ]
    },
    {
     "name": "stderr",
     "output_type": "stream",
     "text": [
      " 14%|█▍        | 29/200 [03:31<20:44,  7.28s/it]"
     ]
    },
    {
     "name": "stdout",
     "output_type": "stream",
     "text": [
      "0.2663\n"
     ]
    },
    {
     "name": "stderr",
     "output_type": "stream",
     "text": [
      " 14%|█▍        | 29/200 [03:38<21:25,  7.52s/it]\n"
     ]
    },
    {
     "ename": "KeyboardInterrupt",
     "evalue": "",
     "output_type": "error",
     "traceback": [
      "\u001b[0;31m---------------------------------------------------------------------------\u001b[0m",
      "\u001b[0;31mKeyboardInterrupt\u001b[0m                         Traceback (most recent call last)",
      "Cell \u001b[0;32mIn[322], line 36\u001b[0m\n\u001b[1;32m     32\u001b[0m w, statistic \u001b[38;5;241m=\u001b[39m PCRtest(Y_source[:\u001b[38;5;241m2000\u001b[39m], X_source[:\u001b[38;5;241m2000\u001b[39m], Z_source[:\u001b[38;5;241m2000\u001b[39m],V_source[:\u001b[38;5;241m2000\u001b[39m],u,s,t, L \u001b[38;5;241m=\u001b[39m l, K \u001b[38;5;241m=\u001b[39m \u001b[38;5;241m20\u001b[39m, covariate_shift \u001b[38;5;241m=\u001b[39m \u001b[38;5;28;01mTrue\u001b[39;00m, density_ratio \u001b[38;5;241m=\u001b[39m true_dr, regr \u001b[38;5;241m=\u001b[39m reg)\n\u001b[1;32m     33\u001b[0m \u001b[38;5;66;03m# weight = la.eigh(cov1)[0]\u001b[39;00m\n\u001b[1;32m     34\u001b[0m \u001b[38;5;66;03m# print([w,statistic])\u001b[39;00m\n\u001b[1;32m     35\u001b[0m \u001b[38;5;66;03m# p_value = 1-hbe(coeff=weight, x=statistic)\u001b[39;00m\n\u001b[0;32m---> 36\u001b[0m p_value \u001b[38;5;241m=\u001b[39m \u001b[43mmonte_carlo_p_value\u001b[49m\u001b[43m(\u001b[49m\u001b[38;5;241;43m100000\u001b[39;49m\u001b[43m,\u001b[49m\u001b[43m \u001b[49m\u001b[43mcov1\u001b[49m\u001b[43m,\u001b[49m\u001b[43m \u001b[49m\u001b[43ml\u001b[49m\u001b[43m,\u001b[49m\u001b[43m \u001b[49m\u001b[43mstatistic\u001b[49m\u001b[43m)\u001b[49m\n\u001b[1;32m     37\u001b[0m \u001b[38;5;28mprint\u001b[39m(p_value)\n\u001b[1;32m     38\u001b[0m \u001b[38;5;28;01mif\u001b[39;00m p_value \u001b[38;5;241m<\u001b[39m \u001b[38;5;241m0.1\u001b[39m:\n",
      "Cell \u001b[0;32mIn[221], line 23\u001b[0m, in \u001b[0;36mmonte_carlo_p_value\u001b[0;34m(n_samples, covariance_matrix, L, quantile)\u001b[0m\n\u001b[1;32m     21\u001b[0m count \u001b[38;5;241m=\u001b[39m \u001b[38;5;241m0\u001b[39m\n\u001b[1;32m     22\u001b[0m \u001b[38;5;28;01mfor\u001b[39;00m _ \u001b[38;5;129;01min\u001b[39;00m \u001b[38;5;28mrange\u001b[39m(n_samples):\n\u001b[0;32m---> 23\u001b[0m     sample \u001b[38;5;241m=\u001b[39m \u001b[43mnp\u001b[49m\u001b[38;5;241;43m.\u001b[39;49m\u001b[43mrandom\u001b[49m\u001b[38;5;241;43m.\u001b[39;49m\u001b[43mmultivariate_normal\u001b[49m\u001b[43m(\u001b[49m\u001b[43mnp\u001b[49m\u001b[38;5;241;43m.\u001b[39;49m\u001b[43mzeros\u001b[49m\u001b[43m(\u001b[49m\u001b[43mL\u001b[49m\u001b[43m)\u001b[49m\u001b[43m,\u001b[49m\u001b[43m \u001b[49m\u001b[43mcovariance_matrix\u001b[49m\u001b[43m)\u001b[49m\n\u001b[1;32m     24\u001b[0m     squared_sum \u001b[38;5;241m=\u001b[39m np\u001b[38;5;241m.\u001b[39msum(sample\u001b[38;5;241m*\u001b[39m\u001b[38;5;241m*\u001b[39m\u001b[38;5;241m2\u001b[39m)\n\u001b[1;32m     25\u001b[0m     \u001b[38;5;28;01mif\u001b[39;00m squared_sum \u001b[38;5;241m<\u001b[39m\u001b[38;5;241m=\u001b[39m quantile:\n",
      "File \u001b[0;32mmtrand.pyx:4155\u001b[0m, in \u001b[0;36mnumpy.random.mtrand.RandomState.multivariate_normal\u001b[0;34m()\u001b[0m\n",
      "File \u001b[0;32m<__array_function__ internals>:180\u001b[0m, in \u001b[0;36msvd\u001b[0;34m(*args, **kwargs)\u001b[0m\n",
      "File \u001b[0;32m~/opt/anaconda3/lib/python3.9/site-packages/numpy/linalg/linalg.py:1657\u001b[0m, in \u001b[0;36msvd\u001b[0;34m(a, full_matrices, compute_uv, hermitian)\u001b[0m\n\u001b[1;32m   1654\u001b[0m         gufunc \u001b[38;5;241m=\u001b[39m _umath_linalg\u001b[38;5;241m.\u001b[39msvd_n_s\n\u001b[1;32m   1656\u001b[0m signature \u001b[38;5;241m=\u001b[39m \u001b[38;5;124m'\u001b[39m\u001b[38;5;124mD->DdD\u001b[39m\u001b[38;5;124m'\u001b[39m \u001b[38;5;28;01mif\u001b[39;00m isComplexType(t) \u001b[38;5;28;01melse\u001b[39;00m \u001b[38;5;124m'\u001b[39m\u001b[38;5;124md->ddd\u001b[39m\u001b[38;5;124m'\u001b[39m\n\u001b[0;32m-> 1657\u001b[0m u, s, vh \u001b[38;5;241m=\u001b[39m \u001b[43mgufunc\u001b[49m\u001b[43m(\u001b[49m\u001b[43ma\u001b[49m\u001b[43m,\u001b[49m\u001b[43m \u001b[49m\u001b[43msignature\u001b[49m\u001b[38;5;241;43m=\u001b[39;49m\u001b[43msignature\u001b[49m\u001b[43m,\u001b[49m\u001b[43m \u001b[49m\u001b[43mextobj\u001b[49m\u001b[38;5;241;43m=\u001b[39;49m\u001b[43mextobj\u001b[49m\u001b[43m)\u001b[49m\n\u001b[1;32m   1658\u001b[0m u \u001b[38;5;241m=\u001b[39m u\u001b[38;5;241m.\u001b[39mastype(result_t, copy\u001b[38;5;241m=\u001b[39m\u001b[38;5;28;01mFalse\u001b[39;00m)\n\u001b[1;32m   1659\u001b[0m s \u001b[38;5;241m=\u001b[39m s\u001b[38;5;241m.\u001b[39mastype(_realType(result_t), copy\u001b[38;5;241m=\u001b[39m\u001b[38;5;28;01mFalse\u001b[39;00m)\n",
      "\u001b[0;31mKeyboardInterrupt\u001b[0m: "
     ]
    }
   ],
   "source": [
    "# verificaion by the p value\n",
    "l = 5\n",
    "count = 0\n",
    "#calculate covariance matrix\n",
    "probability= 0\n",
    "for j in trange(200):\n",
    "    #generate data\n",
    "    Y_source, X_source, V_source, Z_source, Y_target, X_target, V_target, Z_target = generate(ns,nt, p,q, s, t, u, Alpha_s = 1, Alpha_t = 0)\n",
    "\n",
    "    # calculate density ratio\n",
    "    D_s = np.concatenate((X_source, Z_source, V_source), axis = 1)\n",
    "    D_t = np.concatenate((X_target, Z_target, V_target), axis = 1)\n",
    "\n",
    "    v_dr = est_v_ratio(X_source, Z_source, V_source, X_target, Z_target, V_target)\n",
    "    xz_dr = xz_ratio(X_source,Z_source, V_source, s,t,p,q)\n",
    "    # densratio_obj = densratio(D_t, D_s)\n",
    "    # #calculate density ratio for each sample\n",
    "    # sample_density_ratio1 = densratio_obj.compute_density_ratio(D_s)\n",
    "    true_dr = true_density_ratio(X_source, Z_source, V_source,s,t,p,q,Alpha_s = 1, Alpha_t = 0)\n",
    "    est_dr = v_dr[:2000] * xz_dr[:2000]\n",
    "    # v_dr = v_true_ratio(X_source, Z_source, V_source, s, t, p, q, Alpha_s = 0, Alpha_t = 1)\n",
    "    # sample_density_ratio2 = density_ratio_estimate_prob_LR(D_t, D_s)\n",
    "    # reg = LassoCV().fit(Z_source,Y_source.ravel())\n",
    "    # print('Error'+ str((true_dr-est_dr)**2))\n",
    "    # z_ratio = density_ratio_estimate_prob_LR(Z_target[:,:p],Z_source[:,:p])\n",
    "    # v_ratio = density_ratio_estimate_prob_LR(V_target,V_source)\n",
    "    # sample_density_ratio2 = density_ratio_estimate_prob_LR(D_t, D_s)\n",
    "    # sample_density_rtio2 = norm_est_ratio(D_s, D_t)\n",
    "    \n",
    "    cov1 = generate_cov_matrix(Y_source[:2000], X_source[:2000], Z_source[:2000],V_source[:2000],u,s,t, L = l, K = 20, density_ratio = true_dr, regr = reg)\n",
    "    # print(cov1)\n",
    "    w, statistic = PCRtest(Y_source[:2000], X_source[:2000], Z_source[:2000],V_source[:2000],u,s,t, L = l, K = 20, covariate_shift = True, density_ratio = true_dr, regr = reg)\n",
    "    weight = la.eigh(cov1)[0]\n",
    "    print([w,statistic])\n",
    "    p_value = 1-mchi.lpb4(coeff=weight, x=statistic)\n",
    "    p_value = monte_carlo_p_value(100000, cov1, l, statistic)\n",
    "    print(p_value)\n",
    "    if p_value < 0.1:\n",
    "        count += 1\n",
    "    probability = count/(j+1)\n"
   ]
  },
  {
   "cell_type": "code",
   "execution_count": 321,
   "id": "afcac807-7f27-4a4b-a96d-0eb5c5b08bdb",
   "metadata": {},
   "outputs": [
    {
     "data": {
      "text/plain": [
       "0.24"
      ]
     },
     "execution_count": 321,
     "metadata": {},
     "output_type": "execute_result"
    }
   ],
   "source": [
    "probability"
   ]
  },
  {
   "cell_type": "code",
   "execution_count": 304,
   "id": "4a85f408-477f-4ed9-8e29-e81d75d690bc",
   "metadata": {},
   "outputs": [
    {
     "data": {
      "text/plain": [
       "array([0.70341848, 1.29206088, 0.35744003, 0.38478732, 0.32454079])"
      ]
     },
     "execution_count": 304,
     "metadata": {},
     "output_type": "execute_result"
    }
   ],
   "source": [
    "s"
   ]
  },
  {
   "cell_type": "code",
   "execution_count": 305,
   "id": "74e29a38-a63a-42c3-a991-9d4391a77cae",
   "metadata": {},
   "outputs": [
    {
     "data": {
      "text/plain": [
       "array([1.61465282, 0.65321767, 0.19118526, 0.49086974, 1.19765683])"
      ]
     },
     "execution_count": 305,
     "metadata": {},
     "output_type": "execute_result"
    }
   ],
   "source": [
    "t"
   ]
  },
  {
   "cell_type": "code",
   "execution_count": null,
   "id": "de20fc20",
   "metadata": {},
   "outputs": [],
   "source": [
    "# previous code\n",
    "\n",
    "# def int_(x):\n",
    "#     if x >= 80: return 79\n",
    "#     return int(x)\n",
    "\n",
    "# def Many_Tests(m, Alpha):\n",
    "#     X = []\n",
    "#     n, p=500, 20\n",
    "#     for i in trange(m):\n",
    "#         s = np.random.normal(0, 1, p)\n",
    "#         t = s + np.random.normal(0, 0.1, p)\n",
    "#         u = np.random.normal(0, 1, p)\n",
    "#         Y_source, X_source, V_source, Z_source, Y_target, X_target, V_target, Z_target = generate(n, p, s, t, u, Alpha)\n",
    "#         u, v = PCRtest(Y_source, X_source, Z_source, L = 5, K = 20, covariate_shift = False)\n",
    "#         X.append(v)\n",
    "#     return X\n",
    "# def Density_Variance(n):\n",
    "#     a, b=0, 0\n",
    "#     for i in range(n):\n",
    "#         z = np.random.normal(0, 1, p)\n",
    "#         x = z @ s + np.random.normal(0, 1, 1)\n",
    "#         a += Covariate_Shift_Weight(x, z)**2\n",
    "#         b += np.exp((z @ t - z @ s)**2)\n",
    "#     return a/n, b/n"
   ]
  },
  {
   "cell_type": "markdown",
   "id": "db806744-0782-403a-bedf-cba165bdc3a9",
   "metadata": {},
   "source": [
    "# Power simulation"
   ]
  },
  {
   "cell_type": "markdown",
   "id": "8b5f843c-7ae5-4742-8983-4d4befc68e7e",
   "metadata": {},
   "source": [
    "1.First, we set the rejection threshold to be 0.05. We will run 1000 simulations to estimate the power and average the results over 1000 trials. Plot the power w.r.t L with fixed K = 50."
   ]
  },
  {
   "cell_type": "code",
   "execution_count": null,
   "id": "c40b676f-3439-4e4a-9dcf-e6d988bb3fc0",
   "metadata": {},
   "outputs": [],
   "source": [
    "# simulation code\n",
    "K = 20\n",
    "L = 10\n",
    "n, p = 1000, 20\n",
    "s = np.random.normal(0, 1, p)\n",
    "t = s + np.random.normal(0, 0.1, p)\n",
    "u = np.random.normal(0, 1, p)\n",
    "\n",
    "result = []\n",
    "for l in range(4, 30):\n",
    "    for i in range\n",
    "    cov1 = generate_cov_matrix(Y_source, X_source, Z_source, L = l, K = 20)\n",
    "    result.append(monte_carlo_p_value(100000, cov1, l, PCRtest(Y_source, X_source, Z_source, L = l, K = 20, covariate_shift = True)[1]))\n",
    "    \n",
    "    "
   ]
  },
  {
   "cell_type": "code",
   "execution_count": 303,
   "id": "4845e6cd-91f5-4c1d-8189-18b4c8b4ff09",
   "metadata": {},
   "outputs": [
    {
     "data": {
      "text/plain": [
       "1.0139707729582619"
      ]
     },
     "execution_count": 303,
     "metadata": {},
     "output_type": "execute_result"
    }
   ],
   "source": [
    "x = np.random.normal(0,25,500)\n",
    "y = np.random.normal(2,1,500)\n",
    "sum = 0\n",
    "for i in range(500):\n",
    "    sum += norm.pdf(x[i], loc = 5, scale = 25)/norm.pdf(x[i], loc = 0, scale = 25)\n",
    "sum/500"
   ]
  },
  {
   "cell_type": "markdown",
   "id": "3cd2a91a-caa4-42e8-b59c-014dfdb76af9",
   "metadata": {},
   "source": [
    "# Comparison with resampling method\n"
   ]
  },
  {
   "cell_type": "code",
   "execution_count": 274,
   "id": "07798c89-1e23-4cdb-93c2-aeb46b402dbf",
   "metadata": {},
   "outputs": [],
   "source": [
    "def resample(Y_source, X_source, Z_source, V_source, M, true_density = True,density_ratio = None):\n",
    "    n = Y_source.shape[0]\n",
    "    Y_, X_, Z_, V_ = [], [], [], []\n",
    "    if true_density:\n",
    "        for i in range(n):\n",
    "            value = true_density_ratio(X_source[i], Z_source[i], V_source[i], s, t, p,q)\n",
    "            u = np.random.random()\n",
    "            if value >= u * M:\n",
    "                Y_.append(Y_source[i])\n",
    "                X_.append(X_source[i])\n",
    "                Z_.append(Z_source[i])\n",
    "                V_.append(V_source[i])\n",
    "    else:\n",
    "        for i in range(n):\n",
    "            value = density_ratio[i]\n",
    "            u = np.random.random()\n",
    "            if value >= u * M:\n",
    "                Y_.append(Y_source[i])\n",
    "                X_.append(X_source[i])\n",
    "                Z_.append(Z_source[i])\n",
    "                V_.append(V_source[i])\n",
    "    Y_, X_, Z_, V_ = np.array(Y_) , np.array(X_), np.array(Z_), np.array(V_)\n",
    "    return Y_, X_, Z_, V_"
   ]
  },
  {
   "cell_type": "code",
   "execution_count": 275,
   "id": "74c3b46d-1493-457f-86d5-f1a5d3ec32e8",
   "metadata": {},
   "outputs": [
    {
     "name": "stdout",
     "output_type": "stream",
     "text": [
      "[0.48769668]\n",
      "[12.77072411]\n",
      "[0.00167716]\n"
     ]
    }
   ],
   "source": [
    "Y_source, X_source, V_source, Z_source, Y_target, X_target, V_target, Z_target = generate(ns,nt, p,q, s, t, u, 0)\n",
    "\n",
    "sample_density_ratio2 = norm_est_ratio(D_s, D_t)\n",
    "# sample_density_ratio2 = density_ratio_estimate_prob_LR(D_t, D_s)\n",
    "\n",
    "sum = 0\n",
    "max = 0\n",
    "min = np.inf\n",
    "true_list = []\n",
    "for i in range(1000):\n",
    "    value = true_density_ratio(X_source[i], Z_source[i], V_source[i], s, t, p,q)\n",
    "    true_list.append(value)\n",
    "    if value <= min:\n",
    "        min = value\n",
    "    elif value >= max:\n",
    "        max = value\n",
    "    sum += value\n",
    "    # print(true_density_ratio(X_source[i], Z_source[i], V_source[i], s, t))\n",
    "    # print(Z_source[i]@s + X_source[i] - Z_source[i]@t + X_source[i])\n",
    "print(sum/2000)\n",
    "print(max)\n",
    "print(min)"
   ]
  },
  {
   "cell_type": "code",
   "execution_count": 276,
   "id": "1a8d41d7-2e43-49ca-a3a6-3443c3542734",
   "metadata": {},
   "outputs": [
    {
     "data": {
      "text/plain": [
       "(array([13., 16., 18., 21., 15.]), 2.240963855421687)"
      ]
     },
     "execution_count": 276,
     "metadata": {},
     "output_type": "execute_result"
    }
   ],
   "source": [
    "Y_, X_, Z_, V_ = resample(Y_source, X_source, Z_source, V_source, max,true_density=False, density_ratio=sample_density_ratio2)\n",
    "PCRtest(Y_, X_, Z_, V_, u, s, t, L = 5, K = 20, covariate_shift = False, density_ratio = sample_density_ratio2, regr = reg)"
   ]
  },
  {
   "cell_type": "code",
   "execution_count": 277,
   "id": "d4dfa4f8-b2d6-4a99-900c-b6483e7a4f15",
   "metadata": {},
   "outputs": [
    {
     "data": {
      "text/plain": [
       "(83, 1)"
      ]
     },
     "execution_count": 277,
     "metadata": {},
     "output_type": "execute_result"
    }
   ],
   "source": [
    "Y_.shape"
   ]
  },
  {
   "cell_type": "markdown",
   "id": "77aeb9ec-c50e-446c-b9db-b56113696c53",
   "metadata": {},
   "source": [
    "# 6. Function testing code"
   ]
  },
  {
   "cell_type": "code",
   "execution_count": 689,
   "id": "1cbeed86-6367-4fc9-aa65-231c827151c3",
   "metadata": {},
   "outputs": [
    {
     "data": {
      "image/png": "[encoded data removed]",
      "text/plain": [
       "<Figure size 640x480 with 1 Axes>"
      ]
     },
     "metadata": {},
     "output_type": "display_data"
    }
   ],
   "source": [
    "# Test density ratio estimation\n",
    "nn = 200\n",
    "\n",
    "o = np.random.normal(0, 3, (nn,1))\n",
    "a = np.random.normal(5, 3, (nn,1))\n",
    "d = density_ratio_estimate_prob_LR(o,a,Z_known=False)\n",
    "\n",
    "true = []\n",
    "for i in a:\n",
    "    true.append(np.exp(1/2 - i.sum()))\n",
    "\n",
    "import matplotlib.pyplot as plt\n",
    "\n",
    "\n",
    "# Generate x-axis values\n",
    "x = range(nn)\n",
    "\n",
    "# Create the plot with two lines\n",
    "plt.plot(x, true, label='true')\n",
    "plt.plot(x, d, label='estimate')\n",
    "\n",
    "# Add labels, title, and legend\n",
    "plt.xlabel('X')\n",
    "plt.ylabel('Y')\n",
    "plt.title('Plot true and estimate dr')\n",
    "plt.legend()\n",
    "\n",
    "# Show the plot\n",
    "plt.show()\n"
   ]
  },
  {
   "cell_type": "code",
   "execution_count": 110,
   "id": "5f378f23-3458-4080-b91a-1b3f7d1c8705",
   "metadata": {},
   "outputs": [
    {
     "data": {
      "text/plain": [
       "0.9490824254306831"
      ]
     },
     "execution_count": 110,
     "metadata": {},
     "output_type": "execute_result"
    }
   ],
   "source": [
    "## Hall-Buckley-Eagleson method\n",
    "from momentchi2 import hbe\n",
    "\n",
    "# should give value close to 0.95, actually 0.94908\n",
    "hbe(coeff=[1.5, 1.5, 0.5, 0.5], x=10.203)"
   ]
  },
  {
   "cell_type": "code",
   "execution_count": null,
   "id": "89c20183-9851-415e-84f0-228512a41e58",
   "metadata": {},
   "outputs": [],
   "source": []
  }
 ],
 "metadata": {
  "kernelspec": {
   "display_name": "Python 3 (ipykernel)",
   "language": "python",
   "name": "python3"
  },
  "language_info": {
   "codemirror_mode": {
    "name": "ipython",
    "version": 3
   },
   "file_extension": ".py",
   "mimetype": "text/x-python",
   "name": "python",
   "nbconvert_exporter": "python",
   "pygments_lexer": "ipython3",
   "version": "3.9.16"
  }
 },
 "nbformat": 4,
 "nbformat_minor": 5
}
