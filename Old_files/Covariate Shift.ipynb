{
 "cells": [
  {
   "cell_type": "code",
   "execution_count": 1,
   "id": "f276cf02",
   "metadata": {},
   "outputs": [],
   "source": [
    "import numpy as np\n",
    "import pandas as pd\n",
    "import matplotlib.pyplot as plt\n",
    "from scipy.stats import norm, chi2, multivariate_normal\n",
    "from sklearn import linear_model\n",
    "from sklearn.linear_model import LassoCV\n",
    "from sklearn.linear_model import Lasso\n",
    "from sklearn.linear_model import LinearRegression\n",
    "from sklearn.linear_model import LogisticRegressionCV\n",
    "from sklearn.model_selection import train_test_split\n",
    "from tqdm import trange\n",
    "from densratio import densratio\n",
    "from numpy import linalg as la\n",
    "import matplotlib.pyplot as plt\n",
    "from densratio import densratio\n",
    "np.random.seed(None)\n",
    "import momentchi2 as mchi"
   ]
  },
  {
   "cell_type": "markdown",
   "id": "2477d71f-6e89-4daf-ba46-c70817843f11",
   "metadata": {},
   "source": [
    "# Functions"
   ]
  },
  {
   "cell_type": "code",
   "execution_count": 2,
   "id": "350cf0d2-13aa-4f9c-b4b9-389460865eaf",
   "metadata": {},
   "outputs": [],
   "source": [
    "import numpy as np\n",
    "from sklearn.linear_model import LogisticRegression\n",
    "from sklearn.neural_network import MLPClassifier\n",
    "from sklearn.ensemble import RandomForestClassifier\n",
    "from sklearn.svm import SVC\n",
    "from sklearn.model_selection import cross_val_predict\n",
    "from sklearn.linear_model import Lasso\n",
    "\n",
    "    \n",
    "\n",
    "def density_ratio_estimate_prob_RF(D_nu, D_de, n_estimators=100):\n",
    "    l_nu = np.ones(len(D_nu))\n",
    "    l_de = np.zeros(len(D_de))\n",
    "    \n",
    "    l = np.concatenate((l_nu, l_de))\n",
    "    D = np.concatenate((D_nu, D_de))\n",
    "    \n",
    "    # Fit Random Forest model\n",
    "    model = RandomForestClassifier()\n",
    "    model.fit(D, l)\n",
    "    \n",
    "    # Get density ratios for all samples\n",
    "    density_ratios = (model.predict_proba(D_de)[:, 1] / model.predict_proba(D_de)[:, 0]) * (len(D_de) / len(D_nu))\n",
    "    \n",
    "    return density_ratios\n",
    "\n",
    "\n",
    "from sklearn.linear_model import LogisticRegressionCV\n",
    "\n",
    "def density_ratio_estimate_prob_LR(D_nu, D_de, true_density = None,Z_known = True):\n",
    "    if Z_known == False:\n",
    "        l_nu = np.ones(len(D_nu))\n",
    "        l_de = np.zeros(len(D_de))\n",
    "\n",
    "        l = np.concatenate((l_nu, l_de))\n",
    "        D = np.concatenate((D_nu, D_de))\n",
    "\n",
    "        # Adding cross terms\n",
    "        cross_terms_de = []\n",
    "        n_covariates = D_de.shape[1]\n",
    "        for i in range(n_covariates):\n",
    "            for j in range(i, n_covariates):\n",
    "                cross_term = D_de[:, i] * D_de[:, j]\n",
    "                cross_terms_de.append(cross_term)\n",
    "        cross_terms_de = np.array(cross_terms_de).T\n",
    "\n",
    "        cross_terms_nu = []\n",
    "        n_covariates = D_nu.shape[1]\n",
    "        for i in range(n_covariates):\n",
    "            for j in range(i , n_covariates):\n",
    "                cross_term = D_nu[:, i] * D_nu[:, j]\n",
    "                cross_terms_nu.append(cross_term)\n",
    "        cross_terms_nu = np.array(cross_terms_nu).T\n",
    "\n",
    "\n",
    "        D_nu_with_cross_terms = np.concatenate((D_nu, cross_terms_nu),axis = 1)\n",
    "        D_de_with_cross_terms = np.concatenate((D_de, cross_terms_de), axis = 1)\n",
    "        D_with_cross_terms = np.concatenate((D_nu_with_cross_terms, D_de_with_cross_terms))\n",
    "\n",
    "        # Fit logistic model with cross terms\n",
    "        C = 0.1\n",
    "        model = LogisticRegressionCV(penalty='l1', solver='liblinear', cv=5)\n",
    "        model.fit(D_with_cross_terms, l)\n",
    "\n",
    "        # Get density ratios for samples in D_de\n",
    "        density_ratios = (model.predict_proba(D_de_with_cross_terms)[:, 1] / model.predict_proba(D_de_with_cross_terms)[:, 0]) * (len(D_de) / len(D_nu))\n",
    "        \n",
    "    if Z_known == True:\n",
    "        l_nu = np.ones(len(D_nu))\n",
    "        l_de = np.zeros(len(D_de))\n",
    "\n",
    "        l = np.concatenate((l_nu, l_de))\n",
    "        D = np.concatenate((D_nu, D_de))\n",
    "\n",
    "        # Fit logistic model with cross terms\n",
    "\n",
    "        model = LogisticRegressionCV(penalty='l2', cv = 2)\n",
    "        model.fit(D, l)\n",
    "        print(model.score(D,l))\n",
    "        # Get density ratios for samples in D_de\n",
    "        v_density_ratios = (model.predict_proba(D_de)[:, 1] / model.predict_proba(D_de)[:, 0]) * (len(D_de) / len(D_nu))\n",
    "        density_ratios = v_density_ratios * np.array(true_density)\n",
    "    return density_ratios\n",
    "\n",
    "\n",
    "\n",
    "\n",
    "\n",
    "from sklearn.linear_model import LassoCV\n",
    "from sklearn.model_selection import train_test_split\n",
    "from sklearn.preprocessing import StandardScaler\n",
    "from scipy.stats import norm\n",
    "\n",
    "def est_v_ratio(X_s, Z_s, V_s, X_t, Z_t, V_t, test_size=0.2):\n",
    "    # Train-test split for source domain\n",
    "    X_s_train, X_s_test, Z_s_train, Z_s_test, V_s_train, V_s_test = train_test_split(\n",
    "        X_s, Z_s, V_s, test_size=test_size, random_state=42\n",
    "    )\n",
    "   \n",
    "\n",
    "    # Concacanate the X and Z data\n",
    "    D_s_train = np.concatenate((Z_s_train, X_s_train), axis=1)\n",
    "    model_s = LassoCV(cv=5)\n",
    "    model_s.fit(D_s_train, V_s_train.ravel())\n",
    "\n",
    "    # Estimate the variance of the V|X,Z model for testing data\n",
    "    D_s_test = np.concatenate((Z_s_test, X_s_test), axis=1)\n",
    "    V_pred_s_test = model_s.predict(D_s_test)\n",
    "    residual_s_test = V_s_test.ravel() - V_pred_s_test\n",
    "    est_var_s_test = np.var(residual_s_test)\n",
    "\n",
    "    # Estimate the V probability for each sample in the testing set\n",
    "    V_s_prob_test = norm.pdf(V_s_test.ravel(), loc=V_pred_s_test, scale=np.sqrt(est_var_s_test))\n",
    "\n",
    "    # Train-test split for target domain\n",
    "    X_t_train, X_t_test, Z_t_train, Z_t_test, V_t_train, V_t_test = train_test_split(\n",
    "        X_t, Z_t, V_t, test_size=test_size, random_state=42\n",
    "    )\n",
    "\n",
    "    # Generate cross-terms between X_t and Z_t for training data\n",
    "    D_t_train = np.concatenate((Z_t_train, X_t_train), axis=1)\n",
    "    model_t = LassoCV(cv=5)\n",
    "    model_t.fit(D_t_train, V_t_train.ravel())\n",
    "\n",
    "    # Estimate the variance of the V|X,Z model for testing data\n",
    "    D_t_test = np.concatenate((Z_t_test, X_t_test), axis=1)\n",
    "    V_pred_t_test = model_t.predict(D_t_test)\n",
    "    residual_t_test = V_t_test.ravel() - V_pred_t_test\n",
    "    est_var_t_test = np.var(residual_t_test)\n",
    "\n",
    "    # Generate cross-terms between X_s and Z_t for testing data\n",
    "    D_st_test = np.concatenate((Z_t_test, X_s_test), axis=1)\n",
    "    V_pred_st_test = model_t.predict(D_st_test)\n",
    "\n",
    "    V_t_prob_test = norm.pdf(V_s_test.ravel(), loc=V_pred_st_test, scale=np.sqrt(est_var_t_test))\n",
    "\n",
    "    v_ratio_test = V_t_prob_test / V_s_prob_test\n",
    "\n",
    "    return v_ratio_test\n",
    "\n",
    "  \n",
    "\n",
    "def norm_est_ratio(D_s, D_t):\n",
    "    ns = D_s.shape[0]\n",
    "    nt = D_t.shape[0]\n",
    "    p = D_s.shape[1]\n",
    "    \n",
    "    ED_s = np.mean(D_s, axis=0)\n",
    "    ED_t = np.mean(D_t, axis=0)\n",
    "    \n",
    "    CS = np.cov(D_s.T)\n",
    "    CT = np.cov(D_t.T)\n",
    "    \n",
    "    pdf_s = multivariate_normal.pdf(D_s, mean=ED_s, cov=CS)\n",
    "    pdf_t = multivariate_normal.pdf(D_s, mean=ED_t, cov=CT)\n",
    "    \n",
    "    true_ = pdf_t / pdf_s\n",
    "    \n",
    "    return true_\n",
    "\n",
    "    \n",
    "\n",
    "\n",
    "# def Covariate_Shift_Weight(x, z, v = 0):\n",
    "#     return np.exp(((x - z @ s)**2 - (x - z @ t)**2)/2)\n",
    "\n",
    "def Model_X(z, v, u):\n",
    "    return z[:5] @ u + np.random.normal(0, 1, 1)\n",
    "\n",
    "## group samples together\n",
    "\n",
    "def T_statistic(y, x, z, v, u,s, t,regr):\n",
    "#     d_y = regr.predict(z.reshape(1, z.shape[0]))\n",
    "#     # d_y = (1+s)@z\n",
    "    d_x = z[:5]@u\n",
    "    \n",
    "#     return np.abs(((y-d_y)*(x-d_x)))\n",
    "    return y*(x-d_x)\n",
    "    # return coef[0]\n",
    "\n",
    "def Conterfeits(y, x, z, v, u,s, t, L, K, regr):\n",
    "    M = L * K - 1\n",
    "    cnt = 0\n",
    "    t_stat = T_statistic(y, x, z, v, u,s, t,regr)\n",
    "\n",
    "    for i in range(M):\n",
    "        x_ = Model_X(z, v, u)\n",
    "        if t_stat > T_statistic(y, x_, z, v, u,s, t, regr):\n",
    "            cnt=cnt+1\n",
    "            \n",
    "    return cnt // K\n",
    "\n",
    "def PCRtest( Y, X, Z, V, u, s, t, L, K, covariate_shift, density_ratio, regr):\n",
    "    n = Y.size\n",
    "    W = np.array([0.0]*L)\n",
    "\n",
    "\n",
    "    for j in range(n):\n",
    "        y, x, z, v = Y[j], X[j], Z[j], V[j]\n",
    "        if covariate_shift == True:\n",
    "            ind = Conterfeits(y, x, z, v, u,s, t, L, K, regr)\n",
    "            W[ind] += density_ratio[j]\n",
    "           \n",
    "                \n",
    "        if covariate_shift == False:\n",
    "            W[Conterfeits(y, x, z, v, u,s, t, L, K, regr)] += 1\n",
    "            \n",
    "    return W, L/n * np.dot(W - n/L, W - n/L)\n",
    "\n",
    "def generate_cov_matrix(Y, X, Z, V,u, s, t, L, K, density_ratio, regr):\n",
    "    \"\"\"\n",
    "    Generate a covariance matrix for quadratic form normal rv.\n",
    "\n",
    "    Parameters:\n",
    "    - L (int): The size of the covariance matrix.\n",
    "\n",
    "    Returns:\n",
    "    - covariance_matrix (ndarray): The generated covariance matrix.\n",
    "    \"\"\"\n",
    "    n = Y.size\n",
    "    diag = np.array([0.0]*L)\n",
    "    \n",
    "    for j in range(n):\n",
    "        y, x, z, v = Y[j], X[j], Z[j], V[j]\n",
    "        diag[Conterfeits(y, x, z, v, u,s,t,L, K, regr)] += (density_ratio[j]**2)\n",
    "    diag = L*(diag/n)- 1/L\n",
    "    covariance_matrix = np.full((L, L), -1/L)  # Fill all entries with 1/L\n",
    "    np.fill_diagonal(covariance_matrix, diag)  # Set diagonal entries to 1 - 1/L^2\n",
    "    return covariance_matrix\n",
    "\n",
    "\n",
    "def PCRtest_Powen(Y, X, Z, V, Y_, X_, Z_, V_, u, s, t, L, K, density_ratio, regr):\n",
    "    a, b, c = [], [], []\n",
    "    W = np.array([0.0]*L)\n",
    "    ns, nt = Y.size, Y_.size\n",
    "    for j in range(ns):\n",
    "        y, x, z, v = Y[j], X[j], Z[j], V[j]\n",
    "        ind_y = Conterfeits(y, x, z, v, u, s, t, L, K, regr)\n",
    "        ind_v = Conterfeits(v, x, z, v, u, s, t, L, K, regr)\n",
    "        a.append(ind_y)\n",
    "        b.append(ind_v)\n",
    "    \n",
    "    a = np.array(a)\n",
    "    b = np.array(b)\n",
    "    density_ratio=np.array(density_ratio).ravel()\n",
    "\n",
    "    g = (a*density_ratio)@(b*density_ratio)/((b*density_ratio)@((b*density_ratio).T))\n",
    "    \n",
    "    for j in range(nt):\n",
    "        y_, x_, z_, v_ = Y_[j], X_[j], Z_[j], V_[j]\n",
    "        ind_v_ = Conterfeits(v_, x_, z_, v_, u, s, t, L, K, regr)\n",
    "        W[ind_v_] += ns/nt*g\n",
    "        c.append(ind_v_)\n",
    "\n",
    "    c = np.array(c)\n",
    "    for j in range(ns):\n",
    "        W[a[j]] += density_ratio[j]\n",
    "        W[b[j]] -= density_ratio[j]*g    \n",
    "\n",
    "    return W, L/ns * np.dot(W - ns/L, W - ns/L), a, b, c, g\n",
    "\n",
    "def I(a, b):\n",
    "    if a == b:\n",
    "        return 1\n",
    "    else:\n",
    "        return 0\n",
    "    \n",
    "\n",
    "def generate_cov_matrix_powen(ind_y_source, ind_v_source, ind_v_target ,gamma, L, K, density_ratio):\n",
    "    ns = ind_y_source.size\n",
    "    nt = ind_v_target.size\n",
    "\n",
    "    cov_matrix = np.zeros((L, L))\n",
    "    E_t = []\n",
    "    E_s = []\n",
    "    V_t = []\n",
    "    for l in range(L):\n",
    "        e = 0\n",
    "        f = 0\n",
    "        for i in range(nt):\n",
    "            e += I(ind_v_target[i], l)\n",
    "        for j in range(ns):\n",
    "            f += float(density_ratio[j]*(I(ind_y_source[j], l) - gamma*I(ind_v_source[j], l)))\n",
    "        E_t.append(e*gamma*ns/nt)\n",
    "        V_t.append(e*(nt - e) * gamma**2 *ns**2 / (nt**3))\n",
    "        E_s.append(f)\n",
    "\n",
    "    for l_1 in range(L):\n",
    "        for l_2 in range(l_1+1):\n",
    "            e = 0\n",
    "            for j in range(ns):\n",
    "                ind_v_source[j]\n",
    "                e += density_ratio[j]**2*(I(ind_y_source[j], l_1) - gamma*I(ind_v_source[j], l_1))*(I(ind_y_source[j], l_2) - gamma*I(ind_v_source[j], l_2))\n",
    "\n",
    "            cov_matrix[l_1, l_2] = e - E_s[l_1]*E_s[l_2]/ns + I(l_1, l_2)*V_t[l_1] - (1 - I(l_1, l_2))*E_t[l_1]*E_t[l_2]/(nt**2)\n",
    "            cov_matrix[l_2, l_1] = e - E_s[l_1]*E_s[l_2]/ns + I(l_1, l_2)*V_t[l_1] - (1 - I(l_1, l_2))*E_t[l_1]*E_t[l_2]/(nt**2)\n",
    "    \n",
    "#    print(V_t)\n",
    "#    print(ind_y_source.sum(), ind_v_source.sum(), ind_v_target.sum())\n",
    "    return cov_matrix*L/ns\n",
    "   "
   ]
  },
  {
   "cell_type": "code",
   "execution_count": 3,
   "id": "93657a58-79da-400b-8064-fc5ba7d5885a",
   "metadata": {},
   "outputs": [],
   "source": [
    "#get p values\n",
    "\n",
    "import scipy.stats as stats\n",
    "\n",
    "def chi_squared_p_value(chi_squared_statistic, df):\n",
    "    \"\"\"\n",
    "    Calculate the p-value from a chi-squared distribution.\n",
    "\n",
    "    Parameters:\n",
    "    - chi_squared_statistic (float): The observed chi-squared test statistic.\n",
    "    - df (int): The degrees of freedom.\n",
    "\n",
    "    Returns:\n",
    "    - p_value (float): The calculated p-value.\n",
    "    \"\"\"\n",
    "    p_value = 1 - stats.chi2.cdf(chi_squared_statistic, df)\n",
    "    return p_value\n",
    "\n",
    "def monte_carlo_p_value(n_samples, covariance_matrix, L, quantile):\n",
    "    \n",
    "    count = 0\n",
    "    for _ in range(n_samples):\n",
    "        sample = np.random.multivariate_normal(np.zeros(L), covariance_matrix)\n",
    "        squared_sum = np.sum(sample**2)\n",
    "        if squared_sum <= quantile:\n",
    "            count += 1\n",
    "\n",
    "    probability = count / n_samples\n",
    "    return 1-probability\n",
    "\n",
    "\n"
   ]
  },
  {
   "cell_type": "markdown",
   "id": "34841abf",
   "metadata": {},
   "source": [
    "# 生成数据"
   ]
  },
  {
   "cell_type": "code",
   "execution_count": 4,
   "id": "8a429fec",
   "metadata": {},
   "outputs": [],
   "source": [
    "# Generate Data\n",
    "\n",
    "\n",
    "import numpy as np\n",
    "\n",
    "def generate(ns, nt, p,q, s, t, u, Alpha_s=0, Alpha_t = 2, effect = 1,z_diff = 0.1):\n",
    "    Zs_null = np.random.normal(0,0.1, (ns, q))\n",
    "    Zt_null = np.random.normal(0,0.1, (nt, q))\n",
    "    \n",
    "    Z_source = np.hstack((np.random.normal(0, 1, (ns, p)) , Zs_null))\n",
    "    Z_target = np.hstack((np.random.normal(z_diff, 1, (nt, p)) , Zt_null))\n",
    "    \n",
    "    X_source = Z_source[:, :p] @ u + np.random.normal(0, 1, ns)\n",
    "    X_target = Z_target[:, :p] @ u + np.random.normal(0, 1, nt)\n",
    "\n",
    "    V_source = Z_source[:, :p] @ s + Alpha_s * X_source + np.random.normal(0, 5, ns)\n",
    "    V_target = Z_target[:, :p] @ t + Alpha_t * X_target + np.random.normal(0, 5, nt)\n",
    "    \n",
    "    # V_source = Z_source[:, :p] @ s + 2*X_source \n",
    "    # V_target = Z_target[:, :p] @ t - 2*X_target\n",
    "    \n",
    "    Y_source = (Z_source[:, :p].sum(axis=1))**2 + effect*V_source + np.random.normal(0, 1, ns) \n",
    "    Y_target = (Z_target[:, :p].sum(axis=1))**2 + effect*V_target + np.random.normal(0, 1, nt) \n",
    "    \n",
    "    \n",
    "    return Y_source.reshape(-1, 1), X_source.reshape(-1, 1), V_source.reshape(-1, 1), Z_source,\\\n",
    "           Y_target.reshape(-1, 1), X_target.reshape(-1, 1), V_target.reshape(-1, 1), Z_target\n",
    "\n",
    "\n",
    "\n",
    "\n",
    "def generate_multiple(ns, nt, p, q, s, t, u_matrix, Alpha_s=np.zeros(10), Alpha_t=np.ones(10)):\n",
    "    \n",
    "    Zs_null = np.random.normal(0, 0.1, (ns, q))\n",
    "    Zt_null = np.random.normal(0, 0.1, (nt, q))\n",
    "    \n",
    "    Z_source = np.hstack((np.random.normal(0, 1, (ns, p)), Zs_null))\n",
    "    Z_target = np.hstack((np.random.normal(0.1, 1, (nt, p)), Zt_null))\n",
    "    \n",
    "    k = u_matrix.shape[1]  # Number of different u vectors\n",
    "    X_source = np.zeros((ns, k))\n",
    "    X_target = np.zeros((nt, k))\n",
    "    \n",
    "    for i in range(k):\n",
    "        X_source[:, i] = (Z_source[:, :p] @ u_matrix[:, i]) + np.random.normal(0, 1, ns)\n",
    "        X_target[:, i] = (Z_target[:, :p] @ u_matrix[:, i]) + np.random.normal(0, 1, nt)\n",
    "\n",
    "    V_source = (Z_source[:, :p] @ s) + (X_source @ Alpha_s) + np.random.normal(0, 5, ns)\n",
    "    V_target = (Z_target[:, :p] @ t) + (X_target @ Alpha_t) + np.random.normal(0, 5, nt)\n",
    "    \n",
    "    Y_source = (Z_source[:, :p].sum(axis=1))**2 + V_source + np.random.normal(0, 1, ns) \n",
    "    Y_target = (Z_target[:, :p].sum(axis=1))**2 + V_target + np.random.normal(0, 1, nt) \n",
    "    \n",
    "    return Y_source.reshape(-1, 1), X_source, V_source.reshape(-1, 1), Z_source,\\\n",
    "           Y_target.reshape(-1, 1), X_target, V_target.reshape(-1, 1), Z_target\n",
    "\n",
    "\n",
    "\n",
    "\n",
    "\n",
    "\n",
    "def true_density_ratio(X, Z, V, s, t,p,q, Alpha_s = 0, Alpha_t = 2,z_diff = 0.1):\n",
    "    ratios = []\n",
    "    size = V.shape[0]\n",
    "    for i in range(size):\n",
    "        zs_prob = multivariate_normal.pdf(Z[i][:p], mean = 0*np.ones(p), cov= 1*np.identity(p))\n",
    "        vs_prob = norm.pdf(V[i], loc=Z[i][:p]@s + Alpha_s*X[i], scale =5)\n",
    "        zt_prob = multivariate_normal.pdf(Z[i][:p], mean = z_diff*np.ones(p), cov= 1*np.identity(p))\n",
    "        vt_prob = norm.pdf(V[i], loc=Z[i][:p]@t + Alpha_t*X[i], scale =5)\n",
    "        ratios.append((zt_prob*vt_prob)/(zs_prob*vs_prob))\n",
    "    # zs_probs = multivariate_normal.pdf(Z[:, :p], mean=0*np.ones(p), cov=np.identity(p))\n",
    "    # vs_probs = norm.pdf(V, loc=(Z[:, :p] @ s).reshape(-1,1) + 2*X, scale=5)\n",
    "    # zt_probs = multivariate_normal.pdf(Z[:, :p], mean=0.2*np.ones(p), cov=np.identity(p))\n",
    "    # vt_probs = norm.pdf(V, loc=(Z[:, :p] @ t).reshape(-1,1) - 2*X, scale=5)\n",
    "    # ratios = (zt_probs * vt_probs) / (zs_probs * vs_probs)\n",
    "    return np.array(ratios)\n",
    "\n",
    "def xz_ratio(X, Z, V, s, t,p,q,z_diff = 0.1):\n",
    "    ratios = []\n",
    "    for i in range(2000):\n",
    "        zs_prob = multivariate_normal.pdf(Z[i][:p], mean = 0*np.ones(p), cov= 1*np.identity(p))\n",
    "        zt_prob = multivariate_normal.pdf(Z[i][:p], mean = z_diff*np.ones(p), cov= 1*np.identity(p))\n",
    "        ratios.append((zt_prob)/(zs_prob))\n",
    "    \n",
    "    return np.array(ratios)\n",
    "\n",
    "def xz_ratio_multiple(X, Z, V, s, t,p,q):\n",
    "    ratios = []\n",
    "    for i in range(2000):\n",
    "        zs_prob = multivariate_normal.pdf(Z[i][:p], mean = 0*np.ones(p), cov= 1*np.identity(p))\n",
    "        zt_prob = multivariate_normal.pdf(Z[i][:p], mean = 0.1*np.ones(p), cov= 1*np.identity(p))\n",
    "        ratios.append((zt_prob)/(zs_prob))\n",
    "    \n",
    "    return ratios\n",
    "\n",
    "def v_true_ratio_multiple(X, Z, V, s, t, p, q, Alpha_s = 0, Alpha_t = 2):\n",
    "    ratios = []\n",
    "    for i in range(1000):\n",
    "        vs_prob = norm.pdf(V[i], loc=Z[i][:p]@s + X[i]@Alpha_s, scale =5)\n",
    "        vt_prob = norm.pdf(V[i], loc=Z[i][:p]@t + X[i]@Alpha_t, scale =5)\n",
    "        ratios.append((vt_prob/vs_prob))\n",
    "        \n",
    "    return np.array(ratios)\n",
    "    # return np.exp(0.5*Z.sum() - 0.25*(1/2) - (1/200)*(V- t@Z +X)**2 + (1/200)*(V - s@Z - X)**2)"
   ]
  },
  {
   "cell_type": "markdown",
   "id": "62f86349-f52a-4f8e-831b-d47cd22b3a98",
   "metadata": {},
   "source": [
    "# Test procedure"
   ]
  },
  {
   "cell_type": "code",
   "execution_count": 5,
   "id": "b0fdf7e8-fcae-499a-8149-c328d32c395f",
   "metadata": {},
   "outputs": [],
   "source": [
    "# \n",
    "ns,nt, p,q = 2000,2000, 5, 50\n",
    "s = np.random.normal(1, 1, p)\n",
    "t = np.random.normal(1, 1, p)\n",
    "u = np.random.normal(0, 1, p)\n",
    "# s = t+1"
   ]
  },
  {
   "cell_type": "code",
   "execution_count": 6,
   "id": "4c288a9c-deba-4953-8c5b-1a97f4a70d34",
   "metadata": {
    "tags": []
   },
   "outputs": [
    {
     "ename": "ValueError",
     "evalue": "operands could not be broadcast together with shapes (1000,) (400,) ",
     "output_type": "error",
     "traceback": [
      "\u001b[0;31m---------------------------------------------------------------------------\u001b[0m",
      "\u001b[0;31mValueError\u001b[0m                                Traceback (most recent call last)",
      "Cell \u001b[0;32mIn[6], line 19\u001b[0m\n\u001b[1;32m     17\u001b[0m \u001b[38;5;66;03m# v_true_dr = v_true_ratio(X_source,Z_source, V_source, s,t,p,q,0,2)\u001b[39;00m\n\u001b[1;32m     18\u001b[0m v_dr \u001b[38;5;241m=\u001b[39m est_v_ratio(X_source, Z_source, V_source, X_target, Z_target, V_target)\n\u001b[0;32m---> 19\u001b[0m sample_density_ratio2 \u001b[38;5;241m=\u001b[39m \u001b[43mxz_dr\u001b[49m\u001b[43m[\u001b[49m\u001b[43m:\u001b[49m\u001b[38;5;241;43m1000\u001b[39;49m\u001b[43m]\u001b[49m\u001b[43m \u001b[49m\u001b[38;5;241;43m*\u001b[39;49m\u001b[43m \u001b[49m\u001b[43mv_dr\u001b[49m\u001b[43m[\u001b[49m\u001b[43m:\u001b[49m\u001b[38;5;241;43m1000\u001b[39;49m\u001b[43m]\u001b[49m\n",
      "\u001b[0;31mValueError\u001b[0m: operands could not be broadcast together with shapes (1000,) (400,) "
     ]
    }
   ],
   "source": [
    "#generate data\n",
    "Y_source, X_source, V_source, Z_source, Y_target, X_target, V_target, Z_target = generate(ns,nt, p,q, s, t, u, 0,2,0.1)\n",
    "\n",
    "# # calculate density ratio\n",
    "# D_s = np.concatenate((X_source, Z_source, V_source), axis = 1)\n",
    "# D_t = np.concatenate((X_target, Z_target, V_target), axis = 1)\n",
    "\n",
    "# # densratio_obj = densratio(D_t, D_s)\n",
    "# reg=1\n",
    "\n",
    "true_dr = true_density_ratio(X_source,Z_source, V_source, s,t,p,q,0,2,0.1)[:1000]\n",
    "# xz_dr = xz_ratio(X_source,Z_source, V_source, s,t,p,q)\n",
    "# sample_density_ratio2 = norm_est_ratio(D_s, D_t)\n",
    "\n",
    "# sample_density_ratio2 = density_ratio_estimate_prob_LR(V_target, V_source, true_density= xz_dr, Z_known= True)\n",
    "xz_dr = xz_ratio(X_source,Z_source, V_source, s,t,p,q, 0.1)\n",
    "# v_true_dr = v_true_ratio(X_source,Z_source, V_source, s,t,p,q,0,2)\n",
    "v_dr = est_v_ratio(X_source, Z_source, V_source, X_target, Z_target, V_target)\n",
    "sample_density_ratio2 = xz_dr[:1000] * v_dr[:1000]"
   ]
  },
  {
   "cell_type": "code",
   "execution_count": 234,
   "id": "20742e06-7dc6-479b-811d-8bb0d8a05fdd",
   "metadata": {
    "tags": []
   },
   "outputs": [
    {
     "data": {
      "text/plain": [
       "(array([437., 393., 419., 389., 362.]), 8.36)"
      ]
     },
     "execution_count": 234,
     "metadata": {},
     "output_type": "execute_result"
    }
   ],
   "source": [
    "# reg = LassoCV().fit(Z_source,Y_source.ravel())\n",
    "# print(reg.coef_)\n",
    "PCRtest(Y_source, X_source, Z_source,V_source,u,s,t, L = 5, K = 20, covariate_shift = False, density_ratio = sample_density_ratio2, regr = reg)"
   ]
  },
  {
   "cell_type": "code",
   "execution_count": 235,
   "id": "758a62ef-7797-42ed-94f4-d82e1dbbcb21",
   "metadata": {
    "tags": []
   },
   "outputs": [
    {
     "data": {
      "text/plain": [
       "(array([ 766.,  981.,  990., 1062., 1201.]), 99.462)"
      ]
     },
     "execution_count": 235,
     "metadata": {},
     "output_type": "execute_result"
    }
   ],
   "source": [
    "# reg = LassoCV().fit(Z_target,Y_target.ravel())\n",
    "PCRtest(Y_target, X_target, Z_target,V_target,u,s,t, L = 5, K = 20, covariate_shift = False, density_ratio = sample_density_ratio2, regr = reg)"
   ]
  },
  {
   "cell_type": "code",
   "execution_count": 109,
   "id": "81b4f8f4-4d97-4611-ab52-cc7bb1944a0b",
   "metadata": {},
   "outputs": [
    {
     "name": "stdout",
     "output_type": "stream",
     "text": [
      "26.562876818749984\n",
      "0.00017175438231546337\n",
      "1.0510153073178172\n"
     ]
    }
   ],
   "source": [
    "print(np.max(true_dr))\n",
    "print(np.min(true_dr))\n",
    "mean = np.mean(true_dr)\n",
    "print(mean)"
   ]
  },
  {
   "cell_type": "code",
   "execution_count": 110,
   "id": "986d6200-ccdf-4e3d-82bd-cd974d748e81",
   "metadata": {
    "tags": []
   },
   "outputs": [
    {
     "name": "stdout",
     "output_type": "stream",
     "text": [
      "23.388960692740348\n",
      "0.000252656954404033\n",
      "1.0399395012760106\n"
     ]
    }
   ],
   "source": [
    "print(np.max(sample_density_ratio2))\n",
    "print(np.min(sample_density_ratio2))\n",
    "mean = np.mean(sample_density_ratio2)\n",
    "print(mean)\n",
    "# sample_density_ratio2 = sample_density_ratio2/mean"
   ]
  },
  {
   "cell_type": "code",
   "execution_count": 111,
   "id": "b1aa708e-edbf-4482-b3f8-9ff4a2532c21",
   "metadata": {
    "tags": []
   },
   "outputs": [
    {
     "name": "stdout",
     "output_type": "stream",
     "text": [
      "0.050586400423791554\n"
     ]
    },
    {
     "data": {
      "image/png": "[encoded data removed]",
      "text/plain": [
       "<Figure size 640x480 with 1 Axes>"
      ]
     },
     "metadata": {},
     "output_type": "display_data"
    }
   ],
   "source": [
    "import matplotlib.pyplot as plt\n",
    "\n",
    "\n",
    "# Sort the true_list in descending order\n",
    "combined_lists = zip(true_dr, sample_density_ratio2)\n",
    "\n",
    "# Sort the combined_lists based on the values of true_lst\n",
    "sorted_combined_lists = sorted(combined_lists, key=lambda x: x[0],reverse=True)\n",
    "\n",
    "# Separate the sorted lists back into true_lst and other_lst\n",
    "sorted_true, sorted_estimate = zip(*sorted_combined_lists)\n",
    "\n",
    "# Generate x-axis values\n",
    "x_start =0\n",
    "x_end = 200\n",
    "x = range(x_end - x_start)\n",
    "\n",
    "# Calculate the difference between the true and estimate lists\n",
    "difference = [true - estimate for true, estimate in zip(sorted_true, sorted_estimate)]\n",
    "print(la.norm(difference)**2/1000)\n",
    "# plt.plot(x, true_list[x_start:x_end], label='true')\n",
    "# plt.plot(x, sample_density_ratio2[x_start:x_end], label='estimate')\n",
    "plt.plot(x, sorted_true[x_start:x_end], label='true')\n",
    "plt.plot(x, sorted_estimate[x_start:x_end], label='estimate')\n",
    "plt.legend()\n",
    "plt.show()"
   ]
  },
  {
   "cell_type": "code",
   "execution_count": 61,
   "id": "e7d8c152-e75f-4e68-86b2-222807391662",
   "metadata": {
    "collapsed": true,
    "jupyter": {
     "outputs_hidden": true
    },
    "tags": []
   },
   "outputs": [
    {
     "ename": "KeyboardInterrupt",
     "evalue": "",
     "output_type": "error",
     "traceback": [
      "\u001b[0;31m---------------------------------------------------------------------------\u001b[0m",
      "\u001b[0;31mKeyboardInterrupt\u001b[0m                         Traceback (most recent call last)",
      "Cell \u001b[0;32mIn[61], line 3\u001b[0m\n\u001b[1;32m      1\u001b[0m \u001b[38;5;66;03m# Calculate average loss of 2 estimate method\u001b[39;00m\n\u001b[1;32m      2\u001b[0m \u001b[38;5;28;01mfor\u001b[39;00m i \u001b[38;5;129;01min\u001b[39;00m \u001b[38;5;28mrange\u001b[39m(\u001b[38;5;241m1000\u001b[39m):\n\u001b[0;32m----> 3\u001b[0m     Y_source, X_source, V_source, Z_source, Y_target, X_target, V_target, Z_target \u001b[38;5;241m=\u001b[39m \u001b[43mgenerate\u001b[49m\u001b[43m(\u001b[49m\u001b[43mns\u001b[49m\u001b[43m,\u001b[49m\u001b[43mnt\u001b[49m\u001b[43m,\u001b[49m\u001b[43m \u001b[49m\u001b[43mp\u001b[49m\u001b[43m,\u001b[49m\u001b[43mq\u001b[49m\u001b[43m,\u001b[49m\u001b[43m \u001b[49m\u001b[43ms\u001b[49m\u001b[43m,\u001b[49m\u001b[43m \u001b[49m\u001b[43mt\u001b[49m\u001b[43m,\u001b[49m\u001b[43m \u001b[49m\u001b[43mu\u001b[49m\u001b[43m,\u001b[49m\u001b[43m \u001b[49m\u001b[38;5;241;43m0\u001b[39;49m\u001b[43m)\u001b[49m\n\u001b[1;32m      5\u001b[0m     \u001b[38;5;66;03m# calculate density ratio\u001b[39;00m\n\u001b[1;32m      6\u001b[0m     D_s \u001b[38;5;241m=\u001b[39m np\u001b[38;5;241m.\u001b[39mconcatenate((X_source, Z_source, V_source), axis \u001b[38;5;241m=\u001b[39m \u001b[38;5;241m1\u001b[39m)\n",
      "Cell \u001b[0;32mIn[51], line 8\u001b[0m, in \u001b[0;36mgenerate\u001b[0;34m(ns, nt, p, q, s, t, u, Alpha)\u001b[0m\n\u001b[1;32m      6\u001b[0m \u001b[38;5;28;01mdef\u001b[39;00m \u001b[38;5;21mgenerate\u001b[39m(ns, nt, p,q, s, t, u, Alpha\u001b[38;5;241m=\u001b[39m\u001b[38;5;241m0\u001b[39m):\n\u001b[1;32m      7\u001b[0m     Zs_null \u001b[38;5;241m=\u001b[39m np\u001b[38;5;241m.\u001b[39mrandom\u001b[38;5;241m.\u001b[39mnormal(\u001b[38;5;241m0\u001b[39m,\u001b[38;5;241m0.1\u001b[39m, (ns, q))\n\u001b[0;32m----> 8\u001b[0m     Zt_null \u001b[38;5;241m=\u001b[39m \u001b[43mnp\u001b[49m\u001b[38;5;241;43m.\u001b[39;49m\u001b[43mrandom\u001b[49m\u001b[38;5;241;43m.\u001b[39;49m\u001b[43mnormal\u001b[49m\u001b[43m(\u001b[49m\u001b[38;5;241;43m0\u001b[39;49m\u001b[43m,\u001b[49m\u001b[38;5;241;43m0.1\u001b[39;49m\u001b[43m,\u001b[49m\u001b[43m \u001b[49m\u001b[43m(\u001b[49m\u001b[43mnt\u001b[49m\u001b[43m,\u001b[49m\u001b[43m \u001b[49m\u001b[43mq\u001b[49m\u001b[43m)\u001b[49m\u001b[43m)\u001b[49m\n\u001b[1;32m     10\u001b[0m     Z_source \u001b[38;5;241m=\u001b[39m np\u001b[38;5;241m.\u001b[39mhstack((np\u001b[38;5;241m.\u001b[39mrandom\u001b[38;5;241m.\u001b[39mnormal(\u001b[38;5;241m0\u001b[39m, \u001b[38;5;241m0.1\u001b[39m, (ns, p)) , Zs_null))\n\u001b[1;32m     11\u001b[0m     Z_target \u001b[38;5;241m=\u001b[39m np\u001b[38;5;241m.\u001b[39mhstack((np\u001b[38;5;241m.\u001b[39mrandom\u001b[38;5;241m.\u001b[39mnormal(\u001b[38;5;241m0.1\u001b[39m, \u001b[38;5;241m0.1\u001b[39m, (nt, p)) , Zt_null))\n",
      "\u001b[0;31mKeyboardInterrupt\u001b[0m: "
     ]
    }
   ],
   "source": [
    "# Calculate average loss of 2 estimate method\n",
    "for i in range(1000):\n",
    "    Y_source, X_source, V_source, Z_source, Y_target, X_target, V_target, Z_target = generate(ns,nt, p,q, s, t, u, 0)\n",
    "\n",
    "    # calculate density ratio\n",
    "    D_s = np.concatenate((X_source, Z_source, V_source), axis = 1)\n",
    "    D_t = np.concatenate((X_target, Z_target, V_target), axis = 1)\n",
    "\n"
   ]
  },
  {
   "cell_type": "code",
   "execution_count": 311,
   "id": "46582903-5ff2-4571-8b79-63b71796d98d",
   "metadata": {},
   "outputs": [],
   "source": [
    "s = np.array([-0.56228753, -1.01283112,  0.31424733, -0.90802408, -1.4123037 ])\n",
    "t = np.array([ 1.46564877, -0.2257763 ,  0.0675282 , -1.42474819, -0.54438272])\n",
    "u = np.array([ 0.11092259, -1.15099358,  0.37569802, -0.60063869, -0.29169375])"
   ]
  },
  {
   "cell_type": "markdown",
   "id": "525b5686-6068-489f-bf1e-19c97800bd98",
   "metadata": {},
   "source": [
    "# Simulation study"
   ]
  },
  {
   "cell_type": "code",
   "execution_count": 7,
   "id": "c8fd609a",
   "metadata": {
    "tags": []
   },
   "outputs": [
    {
     "name": "stderr",
     "output_type": "stream",
     "text": [
      "  0%|          | 0/200 [00:00<?, ?it/s]\n"
     ]
    },
    {
     "ename": "ValueError",
     "evalue": "operands could not be broadcast together with shapes (400,) (2000,) ",
     "output_type": "error",
     "traceback": [
      "\u001b[0;31m---------------------------------------------------------------------------\u001b[0m",
      "\u001b[0;31mValueError\u001b[0m                                Traceback (most recent call last)",
      "Cell \u001b[0;32mIn[7], line 20\u001b[0m\n\u001b[1;32m     15\u001b[0m xz_dr \u001b[38;5;241m=\u001b[39m xz_ratio(X_source,Z_source, V_source, s,t,p,q)\n\u001b[1;32m     16\u001b[0m \u001b[38;5;66;03m# densratio_obj = densratio(D_t, D_s)\u001b[39;00m\n\u001b[1;32m     17\u001b[0m \u001b[38;5;66;03m# #calculate density ratio for each sample\u001b[39;00m\n\u001b[1;32m     18\u001b[0m \u001b[38;5;66;03m# sample_density_ratio1 = densratio_obj.compute_density_ratio(D_s)\u001b[39;00m\n\u001b[1;32m     19\u001b[0m \u001b[38;5;66;03m# true_dr = true_density_ratio(X_source, Z_source, V_source,s,t,p,q,Alpha_s = 1, Alpha_t = 0)\u001b[39;00m\n\u001b[0;32m---> 20\u001b[0m est_dr \u001b[38;5;241m=\u001b[39m \u001b[43mv_dr\u001b[49m\u001b[43m[\u001b[49m\u001b[43m:\u001b[49m\u001b[38;5;241;43m2000\u001b[39;49m\u001b[43m]\u001b[49m\u001b[43m \u001b[49m\u001b[38;5;241;43m*\u001b[39;49m\u001b[43m \u001b[49m\u001b[43mxz_dr\u001b[49m\u001b[43m[\u001b[49m\u001b[43m:\u001b[49m\u001b[38;5;241;43m2000\u001b[39;49m\u001b[43m]\u001b[49m\n\u001b[1;32m     21\u001b[0m reg \u001b[38;5;241m=\u001b[39m \u001b[38;5;241m1\u001b[39m\n\u001b[1;32m     22\u001b[0m cov1 \u001b[38;5;241m=\u001b[39m generate_cov_matrix(Y_source[:\u001b[38;5;241m2000\u001b[39m], X_source[:\u001b[38;5;241m2000\u001b[39m], Z_source[:\u001b[38;5;241m2000\u001b[39m],V_source[:\u001b[38;5;241m2000\u001b[39m],u,s,t, L \u001b[38;5;241m=\u001b[39m l, K \u001b[38;5;241m=\u001b[39m \u001b[38;5;241m20\u001b[39m, density_ratio \u001b[38;5;241m=\u001b[39m est_dr, regr \u001b[38;5;241m=\u001b[39m reg)\n",
      "\u001b[0;31mValueError\u001b[0m: operands could not be broadcast together with shapes (400,) (2000,) "
     ]
    }
   ],
   "source": [
    "# verificaion by the p value\n",
    "l = 3\n",
    "count = 0\n",
    "#calculate covariance matrix\n",
    "probability= 0\n",
    "for j in trange(200):\n",
    "    #generate data\n",
    "    Y_source, X_source, V_source, Z_source, Y_target, X_target, V_target, Z_target = generate(ns,nt, p,q, s, t, u, Alpha_s = 1, Alpha_t = 0)\n",
    "\n",
    "    # calculate density ratio\n",
    "    D_s = np.concatenate((X_source, Z_source, V_source), axis = 1)\n",
    "    D_t = np.concatenate((X_target, Z_target, V_target), axis = 1)\n",
    "\n",
    "    v_dr = est_v_ratio(X_source, Z_source, V_source, X_target, Z_target, V_target)\n",
    "    xz_dr = xz_ratio(X_source,Z_source, V_source, s,t,p,q)\n",
    "    # densratio_obj = densratio(D_t, D_s)\n",
    "    # #calculate density ratio for each sample\n",
    "    # sample_density_ratio1 = densratio_obj.compute_density_ratio(D_s)\n",
    "    # true_dr = true_density_ratio(X_source, Z_source, V_source,s,t,p,q,Alpha_s = 1, Alpha_t = 0)\n",
    "    est_dr = v_dr[:2000] * xz_dr[:2000]\n",
    "    reg = 1\n",
    "    cov1 = generate_cov_matrix(Y_source[:2000], X_source[:2000], Z_source[:2000],V_source[:2000],u,s,t, L = l, K = 20, density_ratio = est_dr, regr = reg)\n",
    "    # print(cov1)\n",
    "    w, statistic = PCRtest(Y_source[:2000], X_source[:2000], Z_source[:2000],V_source[:2000],u,s,t, L = l, K = 20, covariate_shift = True, density_ratio = est_dr, regr = reg)\n",
    "    weight = la.eigh(cov1)[0]\n",
    "    # print([w,statistic])\n",
    "    p_value = 1-mchi.hbe(coeff=weight, x=statistic)\n",
    "    # #p_value = monte_carlo_p_value(100000, cov1, l, statistic)\n",
    "    # w, statistic = PCRtest(Y_source[:2000], X_source[:2000], Z_source[:2000],V_source[:2000],u,s,t, L = l, K = 20, covariate_shift = False, density_ratio = est_dr, regr = reg)\n",
    "    # p_value = chi_squared_p_value(statistic, l-1)\n",
    "    print(p_value)\n",
    "    if p_value < 0.1:\n",
    "        count += 1\n",
    "    probability = count/(j+1)\n"
   ]
  },
  {
   "cell_type": "code",
   "execution_count": 37,
   "id": "f346c5de-4d52-48de-b339-1b56197a4dfa",
   "metadata": {},
   "outputs": [
    {
     "data": {
      "text/plain": [
       "0.08"
      ]
     },
     "execution_count": 37,
     "metadata": {},
     "output_type": "execute_result"
    }
   ],
   "source": [
    "probability"
   ]
  },
  {
   "cell_type": "code",
   "execution_count": 27,
   "id": "afcac807-7f27-4a4b-a96d-0eb5c5b08bdb",
   "metadata": {
    "collapsed": true,
    "jupyter": {
     "outputs_hidden": true
    },
    "tags": []
   },
   "outputs": [
    {
     "name": "stderr",
     "output_type": "stream",
     "text": [
      "  0%|          | 1/200 [00:04<14:18,  4.32s/it]"
     ]
    },
    {
     "name": "stdout",
     "output_type": "stream",
     "text": [
      "0.01612985856628457\n"
     ]
    },
    {
     "name": "stderr",
     "output_type": "stream",
     "text": [
      "  1%|          | 2/200 [00:08<14:09,  4.29s/it]"
     ]
    },
    {
     "name": "stdout",
     "output_type": "stream",
     "text": [
      "0.00017110323746560852\n"
     ]
    },
    {
     "name": "stderr",
     "output_type": "stream",
     "text": [
      "  2%|▏         | 3/200 [00:12<14:08,  4.31s/it]"
     ]
    },
    {
     "name": "stdout",
     "output_type": "stream",
     "text": [
      "1.6415635431088482e-05\n"
     ]
    },
    {
     "name": "stderr",
     "output_type": "stream",
     "text": [
      "  2%|▏         | 4/200 [00:17<14:10,  4.34s/it]"
     ]
    },
    {
     "name": "stdout",
     "output_type": "stream",
     "text": [
      "0.03732714269572346\n"
     ]
    },
    {
     "name": "stderr",
     "output_type": "stream",
     "text": [
      "  2%|▎         | 5/200 [00:21<14:06,  4.34s/it]"
     ]
    },
    {
     "name": "stdout",
     "output_type": "stream",
     "text": [
      "1.2202567756247618e-07\n"
     ]
    },
    {
     "name": "stderr",
     "output_type": "stream",
     "text": [
      "  3%|▎         | 6/200 [00:25<14:00,  4.33s/it]"
     ]
    },
    {
     "name": "stdout",
     "output_type": "stream",
     "text": [
      "0.010494790711144342\n"
     ]
    },
    {
     "name": "stderr",
     "output_type": "stream",
     "text": [
      "  4%|▎         | 7/200 [00:30<13:49,  4.30s/it]"
     ]
    },
    {
     "name": "stdout",
     "output_type": "stream",
     "text": [
      "0.266489794419144\n"
     ]
    },
    {
     "name": "stderr",
     "output_type": "stream",
     "text": [
      "  4%|▍         | 8/200 [00:34<13:47,  4.31s/it]"
     ]
    },
    {
     "name": "stdout",
     "output_type": "stream",
     "text": [
      "0.5853667133722258\n"
     ]
    },
    {
     "name": "stderr",
     "output_type": "stream",
     "text": [
      "  4%|▍         | 9/200 [00:38<13:42,  4.30s/it]"
     ]
    },
    {
     "name": "stdout",
     "output_type": "stream",
     "text": [
      "0.025496497621961378\n"
     ]
    },
    {
     "name": "stderr",
     "output_type": "stream",
     "text": [
      "  5%|▌         | 10/200 [00:43<13:40,  4.32s/it]"
     ]
    },
    {
     "name": "stdout",
     "output_type": "stream",
     "text": [
      "1.1128771237878254e-09\n"
     ]
    },
    {
     "name": "stderr",
     "output_type": "stream",
     "text": [
      "  6%|▌         | 11/200 [00:47<13:32,  4.30s/it]"
     ]
    },
    {
     "name": "stdout",
     "output_type": "stream",
     "text": [
      "0.0019244439437492433\n"
     ]
    },
    {
     "name": "stderr",
     "output_type": "stream",
     "text": [
      "  6%|▌         | 12/200 [00:51<13:28,  4.30s/it]"
     ]
    },
    {
     "name": "stdout",
     "output_type": "stream",
     "text": [
      "0.038430806682498986\n"
     ]
    },
    {
     "name": "stderr",
     "output_type": "stream",
     "text": [
      "  6%|▋         | 13/200 [00:55<13:21,  4.28s/it]"
     ]
    },
    {
     "name": "stdout",
     "output_type": "stream",
     "text": [
      "0.00037099251994621163\n"
     ]
    },
    {
     "name": "stderr",
     "output_type": "stream",
     "text": [
      "  7%|▋         | 14/200 [01:00<13:18,  4.29s/it]"
     ]
    },
    {
     "name": "stdout",
     "output_type": "stream",
     "text": [
      "0.2611410426748193\n"
     ]
    },
    {
     "name": "stderr",
     "output_type": "stream",
     "text": [
      "  8%|▊         | 15/200 [01:04<13:14,  4.29s/it]"
     ]
    },
    {
     "name": "stdout",
     "output_type": "stream",
     "text": [
      "0.289440492899824\n"
     ]
    },
    {
     "name": "stderr",
     "output_type": "stream",
     "text": [
      "  8%|▊         | 16/200 [01:08<13:04,  4.26s/it]"
     ]
    },
    {
     "name": "stdout",
     "output_type": "stream",
     "text": [
      "0.46845767838378916\n"
     ]
    },
    {
     "name": "stderr",
     "output_type": "stream",
     "text": [
      "  8%|▊         | 17/200 [01:13<13:00,  4.27s/it]"
     ]
    },
    {
     "name": "stdout",
     "output_type": "stream",
     "text": [
      "0.7310305404475037\n"
     ]
    },
    {
     "name": "stderr",
     "output_type": "stream",
     "text": [
      "  9%|▉         | 18/200 [01:17<12:57,  4.27s/it]"
     ]
    },
    {
     "name": "stdout",
     "output_type": "stream",
     "text": [
      "0.23417449910574373\n"
     ]
    },
    {
     "name": "stderr",
     "output_type": "stream",
     "text": [
      " 10%|▉         | 19/200 [01:21<12:49,  4.25s/it]"
     ]
    },
    {
     "name": "stdout",
     "output_type": "stream",
     "text": [
      "0.3909351583091142\n"
     ]
    },
    {
     "name": "stderr",
     "output_type": "stream",
     "text": [
      " 10%|█         | 20/200 [01:25<12:45,  4.25s/it]"
     ]
    },
    {
     "name": "stdout",
     "output_type": "stream",
     "text": [
      "0.00022738606041150522\n"
     ]
    },
    {
     "name": "stderr",
     "output_type": "stream",
     "text": [
      " 10%|█         | 21/200 [01:29<12:37,  4.23s/it]"
     ]
    },
    {
     "name": "stdout",
     "output_type": "stream",
     "text": [
      "0.03473552416261905\n"
     ]
    },
    {
     "name": "stderr",
     "output_type": "stream",
     "text": [
      " 11%|█         | 22/200 [01:34<12:36,  4.25s/it]"
     ]
    },
    {
     "name": "stdout",
     "output_type": "stream",
     "text": [
      "0.016589606037921034\n"
     ]
    },
    {
     "name": "stderr",
     "output_type": "stream",
     "text": [
      " 12%|█▏        | 23/200 [01:38<12:33,  4.26s/it]"
     ]
    },
    {
     "name": "stdout",
     "output_type": "stream",
     "text": [
      "0.0027846327502402124\n"
     ]
    },
    {
     "name": "stderr",
     "output_type": "stream",
     "text": [
      " 12%|█▏        | 24/200 [01:42<12:25,  4.23s/it]"
     ]
    },
    {
     "name": "stdout",
     "output_type": "stream",
     "text": [
      "0.00015914674467587542\n"
     ]
    },
    {
     "name": "stderr",
     "output_type": "stream",
     "text": [
      " 12%|█▎        | 25/200 [01:47<12:27,  4.27s/it]"
     ]
    },
    {
     "name": "stdout",
     "output_type": "stream",
     "text": [
      "0.15813494895917002\n"
     ]
    },
    {
     "name": "stderr",
     "output_type": "stream",
     "text": [
      " 13%|█▎        | 26/200 [01:51<12:21,  4.26s/it]"
     ]
    },
    {
     "name": "stdout",
     "output_type": "stream",
     "text": [
      "0.03390060695889807\n"
     ]
    },
    {
     "name": "stderr",
     "output_type": "stream",
     "text": [
      " 14%|█▎        | 27/200 [01:55<12:18,  4.27s/it]"
     ]
    },
    {
     "name": "stdout",
     "output_type": "stream",
     "text": [
      "0.41492390347032804\n"
     ]
    },
    {
     "name": "stderr",
     "output_type": "stream",
     "text": [
      " 14%|█▍        | 28/200 [01:59<12:15,  4.28s/it]"
     ]
    },
    {
     "name": "stdout",
     "output_type": "stream",
     "text": [
      "0.0342360320458488\n"
     ]
    },
    {
     "name": "stderr",
     "output_type": "stream",
     "text": [
      " 14%|█▍        | 29/200 [02:04<12:10,  4.27s/it]"
     ]
    },
    {
     "name": "stdout",
     "output_type": "stream",
     "text": [
      "0.30924678242159664\n"
     ]
    },
    {
     "name": "stderr",
     "output_type": "stream",
     "text": [
      " 15%|█▌        | 30/200 [02:08<12:03,  4.26s/it]"
     ]
    },
    {
     "name": "stdout",
     "output_type": "stream",
     "text": [
      "0.05640831458370732\n"
     ]
    },
    {
     "name": "stderr",
     "output_type": "stream",
     "text": [
      " 16%|█▌        | 31/200 [02:12<11:58,  4.25s/it]"
     ]
    },
    {
     "name": "stdout",
     "output_type": "stream",
     "text": [
      "6.015327540076498e-06\n"
     ]
    },
    {
     "name": "stderr",
     "output_type": "stream",
     "text": [
      " 16%|█▌        | 32/200 [02:16<11:57,  4.27s/it]"
     ]
    },
    {
     "name": "stdout",
     "output_type": "stream",
     "text": [
      "0.06360429432456327\n"
     ]
    },
    {
     "name": "stderr",
     "output_type": "stream",
     "text": [
      " 16%|█▋        | 33/200 [02:21<11:52,  4.27s/it]"
     ]
    },
    {
     "name": "stdout",
     "output_type": "stream",
     "text": [
      "0.021403159391347626\n"
     ]
    },
    {
     "name": "stderr",
     "output_type": "stream",
     "text": [
      " 17%|█▋        | 34/200 [02:25<11:48,  4.27s/it]"
     ]
    },
    {
     "name": "stdout",
     "output_type": "stream",
     "text": [
      "0.06574214524224364\n"
     ]
    },
    {
     "name": "stderr",
     "output_type": "stream",
     "text": [
      " 18%|█▊        | 35/200 [02:29<11:44,  4.27s/it]"
     ]
    },
    {
     "name": "stdout",
     "output_type": "stream",
     "text": [
      "0.19923789383317747\n"
     ]
    },
    {
     "name": "stderr",
     "output_type": "stream",
     "text": [
      " 18%|█▊        | 36/200 [02:34<11:41,  4.28s/it]"
     ]
    },
    {
     "name": "stdout",
     "output_type": "stream",
     "text": [
      "0.09986108221104906\n"
     ]
    },
    {
     "name": "stderr",
     "output_type": "stream",
     "text": [
      " 18%|█▊        | 37/200 [02:38<11:37,  4.28s/it]"
     ]
    },
    {
     "name": "stdout",
     "output_type": "stream",
     "text": [
      "0.000301557220502513\n"
     ]
    },
    {
     "name": "stderr",
     "output_type": "stream",
     "text": [
      " 19%|█▉        | 38/200 [02:42<11:33,  4.28s/it]"
     ]
    },
    {
     "name": "stdout",
     "output_type": "stream",
     "text": [
      "0.0003936531549276756\n"
     ]
    },
    {
     "name": "stderr",
     "output_type": "stream",
     "text": [
      " 20%|█▉        | 39/200 [02:46<11:31,  4.30s/it]"
     ]
    },
    {
     "name": "stdout",
     "output_type": "stream",
     "text": [
      "6.733042972384418e-06\n"
     ]
    },
    {
     "name": "stderr",
     "output_type": "stream",
     "text": [
      " 20%|██        | 40/200 [02:51<11:26,  4.29s/it]"
     ]
    },
    {
     "name": "stdout",
     "output_type": "stream",
     "text": [
      "0.0019275258989864819\n"
     ]
    },
    {
     "name": "stderr",
     "output_type": "stream",
     "text": [
      " 20%|██        | 41/200 [02:55<11:17,  4.26s/it]"
     ]
    },
    {
     "name": "stdout",
     "output_type": "stream",
     "text": [
      "0.02829013210687381\n"
     ]
    },
    {
     "name": "stderr",
     "output_type": "stream",
     "text": [
      " 21%|██        | 42/200 [02:59<11:13,  4.26s/it]"
     ]
    },
    {
     "name": "stdout",
     "output_type": "stream",
     "text": [
      "2.6988347352485675e-06\n"
     ]
    },
    {
     "name": "stderr",
     "output_type": "stream",
     "text": [
      " 22%|██▏       | 43/200 [03:03<11:05,  4.24s/it]"
     ]
    },
    {
     "name": "stdout",
     "output_type": "stream",
     "text": [
      "0.012981769852767111\n"
     ]
    },
    {
     "name": "stderr",
     "output_type": "stream",
     "text": [
      " 22%|██▏       | 44/200 [03:08<11:07,  4.28s/it]"
     ]
    },
    {
     "name": "stdout",
     "output_type": "stream",
     "text": [
      "9.01691805421656e-06\n"
     ]
    },
    {
     "name": "stderr",
     "output_type": "stream",
     "text": [
      " 22%|██▎       | 45/200 [03:12<11:01,  4.27s/it]"
     ]
    },
    {
     "name": "stdout",
     "output_type": "stream",
     "text": [
      "0.0005870942499720533\n"
     ]
    },
    {
     "name": "stderr",
     "output_type": "stream",
     "text": [
      " 23%|██▎       | 46/200 [03:16<10:53,  4.25s/it]"
     ]
    },
    {
     "name": "stdout",
     "output_type": "stream",
     "text": [
      "0.10546778647240118\n"
     ]
    },
    {
     "name": "stderr",
     "output_type": "stream",
     "text": [
      " 24%|██▎       | 47/200 [03:20<10:48,  4.24s/it]"
     ]
    },
    {
     "name": "stdout",
     "output_type": "stream",
     "text": [
      "0.03004955511455798\n"
     ]
    },
    {
     "name": "stderr",
     "output_type": "stream",
     "text": [
      " 24%|██▍       | 48/200 [03:25<10:47,  4.26s/it]"
     ]
    },
    {
     "name": "stdout",
     "output_type": "stream",
     "text": [
      "7.009330557639082e-06\n"
     ]
    },
    {
     "name": "stderr",
     "output_type": "stream",
     "text": [
      " 24%|██▍       | 49/200 [03:29<10:38,  4.23s/it]"
     ]
    },
    {
     "name": "stdout",
     "output_type": "stream",
     "text": [
      "0.15062183673184404\n"
     ]
    },
    {
     "name": "stderr",
     "output_type": "stream",
     "text": [
      " 25%|██▌       | 50/200 [03:33<10:32,  4.21s/it]"
     ]
    },
    {
     "name": "stdout",
     "output_type": "stream",
     "text": [
      "0.10592554290775058\n"
     ]
    },
    {
     "name": "stderr",
     "output_type": "stream",
     "text": [
      " 26%|██▌       | 51/200 [03:37<10:31,  4.24s/it]"
     ]
    },
    {
     "name": "stdout",
     "output_type": "stream",
     "text": [
      "0.22080416688011062\n"
     ]
    },
    {
     "name": "stderr",
     "output_type": "stream",
     "text": [
      " 26%|██▌       | 52/200 [03:42<10:27,  4.24s/it]"
     ]
    },
    {
     "name": "stdout",
     "output_type": "stream",
     "text": [
      "0.0007498042694711327\n"
     ]
    },
    {
     "name": "stderr",
     "output_type": "stream",
     "text": [
      " 26%|██▋       | 53/200 [03:46<10:26,  4.26s/it]"
     ]
    },
    {
     "name": "stdout",
     "output_type": "stream",
     "text": [
      "0.006868089424333035\n"
     ]
    },
    {
     "name": "stderr",
     "output_type": "stream",
     "text": [
      " 27%|██▋       | 54/200 [03:50<10:23,  4.27s/it]"
     ]
    },
    {
     "name": "stdout",
     "output_type": "stream",
     "text": [
      "0.060592736496563604\n"
     ]
    },
    {
     "name": "stderr",
     "output_type": "stream",
     "text": [
      " 28%|██▊       | 55/200 [03:54<10:17,  4.26s/it]"
     ]
    },
    {
     "name": "stdout",
     "output_type": "stream",
     "text": [
      "2.8006847492267894e-06\n"
     ]
    },
    {
     "name": "stderr",
     "output_type": "stream",
     "text": [
      " 28%|██▊       | 56/200 [03:59<10:10,  4.24s/it]"
     ]
    },
    {
     "name": "stdout",
     "output_type": "stream",
     "text": [
      "0.04293258786744736\n"
     ]
    },
    {
     "name": "stderr",
     "output_type": "stream",
     "text": [
      " 28%|██▊       | 57/200 [04:03<10:05,  4.23s/it]"
     ]
    },
    {
     "name": "stdout",
     "output_type": "stream",
     "text": [
      "0.0035748303185586527\n"
     ]
    },
    {
     "name": "stderr",
     "output_type": "stream",
     "text": [
      " 29%|██▉       | 58/200 [04:07<10:03,  4.25s/it]"
     ]
    },
    {
     "name": "stdout",
     "output_type": "stream",
     "text": [
      "0.00023480279363896628\n"
     ]
    },
    {
     "name": "stderr",
     "output_type": "stream",
     "text": [
      " 30%|██▉       | 59/200 [04:11<10:02,  4.27s/it]"
     ]
    },
    {
     "name": "stdout",
     "output_type": "stream",
     "text": [
      "5.293013027873883e-08\n"
     ]
    },
    {
     "name": "stderr",
     "output_type": "stream",
     "text": [
      " 30%|███       | 60/200 [04:16<09:54,  4.25s/it]"
     ]
    },
    {
     "name": "stdout",
     "output_type": "stream",
     "text": [
      "0.00012062808377799605\n"
     ]
    },
    {
     "name": "stderr",
     "output_type": "stream",
     "text": [
      " 30%|███       | 61/200 [04:20<09:50,  4.25s/it]"
     ]
    },
    {
     "name": "stdout",
     "output_type": "stream",
     "text": [
      "0.00032932715111599897\n"
     ]
    },
    {
     "name": "stderr",
     "output_type": "stream",
     "text": [
      " 31%|███       | 62/200 [04:24<09:47,  4.26s/it]"
     ]
    },
    {
     "name": "stdout",
     "output_type": "stream",
     "text": [
      "5.0240056559403e-10\n"
     ]
    },
    {
     "name": "stderr",
     "output_type": "stream",
     "text": [
      " 32%|███▏      | 63/200 [04:28<09:44,  4.27s/it]"
     ]
    },
    {
     "name": "stdout",
     "output_type": "stream",
     "text": [
      "0.004957468380039742\n"
     ]
    },
    {
     "name": "stderr",
     "output_type": "stream",
     "text": [
      " 32%|███▏      | 64/200 [04:33<09:40,  4.27s/it]"
     ]
    },
    {
     "name": "stdout",
     "output_type": "stream",
     "text": [
      "0.3397428257050048\n"
     ]
    },
    {
     "name": "stderr",
     "output_type": "stream",
     "text": [
      " 32%|███▎      | 65/200 [04:37<09:37,  4.28s/it]"
     ]
    },
    {
     "name": "stdout",
     "output_type": "stream",
     "text": [
      "0.011561520265675695\n"
     ]
    },
    {
     "name": "stderr",
     "output_type": "stream",
     "text": [
      " 33%|███▎      | 66/200 [04:42<09:43,  4.35s/it]"
     ]
    },
    {
     "name": "stdout",
     "output_type": "stream",
     "text": [
      "0.11464386321904563\n"
     ]
    },
    {
     "name": "stderr",
     "output_type": "stream",
     "text": [
      " 34%|███▎      | 67/200 [04:46<09:39,  4.36s/it]"
     ]
    },
    {
     "name": "stdout",
     "output_type": "stream",
     "text": [
      "0.7968502093028718\n"
     ]
    },
    {
     "name": "stderr",
     "output_type": "stream",
     "text": [
      " 34%|███▍      | 68/200 [04:50<09:35,  4.36s/it]"
     ]
    },
    {
     "name": "stdout",
     "output_type": "stream",
     "text": [
      "0.36725192356845304\n"
     ]
    },
    {
     "name": "stderr",
     "output_type": "stream",
     "text": [
      " 34%|███▍      | 69/200 [04:55<09:25,  4.32s/it]"
     ]
    },
    {
     "name": "stdout",
     "output_type": "stream",
     "text": [
      "0.0009465496163892917\n"
     ]
    },
    {
     "name": "stderr",
     "output_type": "stream",
     "text": [
      " 35%|███▌      | 70/200 [04:59<09:20,  4.31s/it]"
     ]
    },
    {
     "name": "stdout",
     "output_type": "stream",
     "text": [
      "0.00020892464328337024\n"
     ]
    },
    {
     "name": "stderr",
     "output_type": "stream",
     "text": [
      " 36%|███▌      | 71/200 [05:03<09:16,  4.32s/it]"
     ]
    },
    {
     "name": "stdout",
     "output_type": "stream",
     "text": [
      "3.380784578954632e-07\n"
     ]
    },
    {
     "name": "stderr",
     "output_type": "stream",
     "text": [
      " 36%|███▌      | 72/200 [05:07<09:12,  4.32s/it]"
     ]
    },
    {
     "name": "stdout",
     "output_type": "stream",
     "text": [
      "0.012111027702128574\n"
     ]
    },
    {
     "name": "stderr",
     "output_type": "stream",
     "text": [
      " 36%|███▋      | 73/200 [05:12<09:06,  4.30s/it]"
     ]
    },
    {
     "name": "stdout",
     "output_type": "stream",
     "text": [
      "0.00194134344208019\n"
     ]
    },
    {
     "name": "stderr",
     "output_type": "stream",
     "text": [
      " 37%|███▋      | 74/200 [05:16<09:07,  4.34s/it]"
     ]
    },
    {
     "name": "stdout",
     "output_type": "stream",
     "text": [
      "0.06703747824348893\n"
     ]
    },
    {
     "name": "stderr",
     "output_type": "stream",
     "text": [
      " 38%|███▊      | 75/200 [05:20<09:02,  4.34s/it]"
     ]
    },
    {
     "name": "stdout",
     "output_type": "stream",
     "text": [
      "0.00010950712270940688\n"
     ]
    },
    {
     "name": "stderr",
     "output_type": "stream",
     "text": [
      " 38%|███▊      | 76/200 [05:25<08:55,  4.32s/it]"
     ]
    },
    {
     "name": "stdout",
     "output_type": "stream",
     "text": [
      "0.22970182886813262\n"
     ]
    },
    {
     "name": "stderr",
     "output_type": "stream",
     "text": [
      " 38%|███▊      | 77/200 [05:29<08:53,  4.34s/it]"
     ]
    },
    {
     "name": "stdout",
     "output_type": "stream",
     "text": [
      "0.22812341741494602\n"
     ]
    },
    {
     "name": "stderr",
     "output_type": "stream",
     "text": [
      " 39%|███▉      | 78/200 [05:33<08:48,  4.33s/it]"
     ]
    },
    {
     "name": "stdout",
     "output_type": "stream",
     "text": [
      "0.010092056841911168\n"
     ]
    },
    {
     "name": "stderr",
     "output_type": "stream",
     "text": [
      " 40%|███▉      | 79/200 [05:38<08:44,  4.34s/it]"
     ]
    },
    {
     "name": "stdout",
     "output_type": "stream",
     "text": [
      "0.0017150334764597375\n"
     ]
    },
    {
     "name": "stderr",
     "output_type": "stream",
     "text": [
      " 40%|████      | 80/200 [05:42<08:37,  4.31s/it]"
     ]
    },
    {
     "name": "stdout",
     "output_type": "stream",
     "text": [
      "0.0015719774486816496\n"
     ]
    },
    {
     "name": "stderr",
     "output_type": "stream",
     "text": [
      " 40%|████      | 81/200 [05:46<08:31,  4.30s/it]"
     ]
    },
    {
     "name": "stdout",
     "output_type": "stream",
     "text": [
      "0.06429087115259735\n"
     ]
    },
    {
     "name": "stderr",
     "output_type": "stream",
     "text": [
      " 41%|████      | 82/200 [05:51<08:26,  4.29s/it]"
     ]
    },
    {
     "name": "stdout",
     "output_type": "stream",
     "text": [
      "1.0664721616926442e-06\n"
     ]
    },
    {
     "name": "stderr",
     "output_type": "stream",
     "text": [
      " 42%|████▏     | 83/200 [05:55<08:19,  4.27s/it]"
     ]
    },
    {
     "name": "stdout",
     "output_type": "stream",
     "text": [
      "0.47780701455469177\n"
     ]
    },
    {
     "name": "stderr",
     "output_type": "stream",
     "text": [
      " 42%|████▏     | 84/200 [05:59<08:15,  4.27s/it]"
     ]
    },
    {
     "name": "stdout",
     "output_type": "stream",
     "text": [
      "0.24054882229396535\n"
     ]
    },
    {
     "name": "stderr",
     "output_type": "stream",
     "text": [
      " 42%|████▎     | 85/200 [06:03<08:10,  4.26s/it]"
     ]
    },
    {
     "name": "stdout",
     "output_type": "stream",
     "text": [
      "0.017857271911815742\n"
     ]
    },
    {
     "name": "stderr",
     "output_type": "stream",
     "text": [
      " 43%|████▎     | 86/200 [06:08<08:02,  4.24s/it]"
     ]
    },
    {
     "name": "stdout",
     "output_type": "stream",
     "text": [
      "0.41956060581063215\n"
     ]
    },
    {
     "name": "stderr",
     "output_type": "stream",
     "text": [
      " 44%|████▎     | 87/200 [06:12<07:56,  4.22s/it]"
     ]
    },
    {
     "name": "stdout",
     "output_type": "stream",
     "text": [
      "0.0003252522757986043\n"
     ]
    },
    {
     "name": "stderr",
     "output_type": "stream",
     "text": [
      " 44%|████▍     | 88/200 [06:16<07:53,  4.22s/it]"
     ]
    },
    {
     "name": "stdout",
     "output_type": "stream",
     "text": [
      "8.470871714960637e-06\n"
     ]
    },
    {
     "name": "stderr",
     "output_type": "stream",
     "text": [
      " 44%|████▍     | 89/200 [06:20<07:56,  4.29s/it]"
     ]
    },
    {
     "name": "stdout",
     "output_type": "stream",
     "text": [
      "0.2417769439234575\n"
     ]
    },
    {
     "name": "stderr",
     "output_type": "stream",
     "text": [
      " 45%|████▌     | 90/200 [06:25<07:51,  4.29s/it]"
     ]
    },
    {
     "name": "stdout",
     "output_type": "stream",
     "text": [
      "0.6629169925268615\n"
     ]
    },
    {
     "name": "stderr",
     "output_type": "stream",
     "text": [
      " 46%|████▌     | 91/200 [06:29<07:51,  4.32s/it]"
     ]
    },
    {
     "name": "stdout",
     "output_type": "stream",
     "text": [
      "4.036092779102773e-06\n"
     ]
    },
    {
     "name": "stderr",
     "output_type": "stream",
     "text": [
      " 46%|████▌     | 92/200 [06:34<07:51,  4.36s/it]"
     ]
    },
    {
     "name": "stdout",
     "output_type": "stream",
     "text": [
      "0.018791676693148296\n"
     ]
    },
    {
     "name": "stderr",
     "output_type": "stream",
     "text": [
      " 46%|████▋     | 93/200 [06:38<07:47,  4.37s/it]"
     ]
    },
    {
     "name": "stdout",
     "output_type": "stream",
     "text": [
      "0.009840600075340378\n"
     ]
    },
    {
     "name": "stderr",
     "output_type": "stream",
     "text": [
      " 47%|████▋     | 94/200 [06:42<07:42,  4.36s/it]"
     ]
    },
    {
     "name": "stdout",
     "output_type": "stream",
     "text": [
      "0.04066261136029026\n"
     ]
    },
    {
     "name": "stderr",
     "output_type": "stream",
     "text": [
      " 48%|████▊     | 95/200 [06:47<07:37,  4.35s/it]"
     ]
    },
    {
     "name": "stdout",
     "output_type": "stream",
     "text": [
      "0.0006981030416721712\n"
     ]
    },
    {
     "name": "stderr",
     "output_type": "stream",
     "text": [
      " 48%|████▊     | 96/200 [06:51<07:32,  4.35s/it]"
     ]
    },
    {
     "name": "stdout",
     "output_type": "stream",
     "text": [
      "0.40696281499127906\n"
     ]
    },
    {
     "name": "stderr",
     "output_type": "stream",
     "text": [
      " 48%|████▊     | 97/200 [06:55<07:22,  4.30s/it]"
     ]
    },
    {
     "name": "stdout",
     "output_type": "stream",
     "text": [
      "0.0007566619288560394\n"
     ]
    },
    {
     "name": "stderr",
     "output_type": "stream",
     "text": [
      " 49%|████▉     | 98/200 [07:00<07:22,  4.34s/it]"
     ]
    },
    {
     "name": "stdout",
     "output_type": "stream",
     "text": [
      "0.18787563042701572\n"
     ]
    },
    {
     "name": "stderr",
     "output_type": "stream",
     "text": [
      " 50%|████▉     | 99/200 [07:04<07:20,  4.36s/it]"
     ]
    },
    {
     "name": "stdout",
     "output_type": "stream",
     "text": [
      "0.02892824093728874\n"
     ]
    },
    {
     "name": "stderr",
     "output_type": "stream",
     "text": [
      " 50%|█████     | 100/200 [07:08<07:14,  4.34s/it]"
     ]
    },
    {
     "name": "stdout",
     "output_type": "stream",
     "text": [
      "4.324486846285502e-06\n"
     ]
    },
    {
     "name": "stderr",
     "output_type": "stream",
     "text": [
      " 50%|█████     | 101/200 [07:12<07:06,  4.31s/it]"
     ]
    },
    {
     "name": "stdout",
     "output_type": "stream",
     "text": [
      "0.06459993647696505\n"
     ]
    },
    {
     "name": "stderr",
     "output_type": "stream",
     "text": [
      " 51%|█████     | 102/200 [07:17<06:59,  4.29s/it]"
     ]
    },
    {
     "name": "stdout",
     "output_type": "stream",
     "text": [
      "6.499720187536084e-05\n"
     ]
    },
    {
     "name": "stderr",
     "output_type": "stream",
     "text": [
      " 52%|█████▏    | 103/200 [07:21<06:53,  4.27s/it]"
     ]
    },
    {
     "name": "stdout",
     "output_type": "stream",
     "text": [
      "0.001059764640133909\n"
     ]
    },
    {
     "name": "stderr",
     "output_type": "stream",
     "text": [
      " 52%|█████▏    | 104/200 [07:25<06:48,  4.26s/it]"
     ]
    },
    {
     "name": "stdout",
     "output_type": "stream",
     "text": [
      "0.00022655685971628703\n"
     ]
    },
    {
     "name": "stderr",
     "output_type": "stream",
     "text": [
      " 52%|█████▎    | 105/200 [07:30<06:46,  4.28s/it]"
     ]
    },
    {
     "name": "stdout",
     "output_type": "stream",
     "text": [
      "6.5576851911997025e-06\n"
     ]
    },
    {
     "name": "stderr",
     "output_type": "stream",
     "text": [
      " 53%|█████▎    | 106/200 [07:34<06:40,  4.26s/it]"
     ]
    },
    {
     "name": "stdout",
     "output_type": "stream",
     "text": [
      "0.007967898639938187\n"
     ]
    },
    {
     "name": "stderr",
     "output_type": "stream",
     "text": [
      " 54%|█████▎    | 107/200 [07:38<06:39,  4.30s/it]"
     ]
    },
    {
     "name": "stdout",
     "output_type": "stream",
     "text": [
      "0.0031287439953773255\n"
     ]
    },
    {
     "name": "stderr",
     "output_type": "stream",
     "text": [
      " 54%|█████▍    | 108/200 [07:42<06:32,  4.27s/it]"
     ]
    },
    {
     "name": "stdout",
     "output_type": "stream",
     "text": [
      "0.0004132560458482981\n"
     ]
    },
    {
     "name": "stderr",
     "output_type": "stream",
     "text": [
      " 55%|█████▍    | 109/200 [07:47<06:31,  4.31s/it]"
     ]
    },
    {
     "name": "stdout",
     "output_type": "stream",
     "text": [
      "0.0020237721612481607\n"
     ]
    },
    {
     "name": "stderr",
     "output_type": "stream",
     "text": [
      " 55%|█████▌    | 110/200 [07:51<06:23,  4.27s/it]"
     ]
    },
    {
     "name": "stdout",
     "output_type": "stream",
     "text": [
      "0.22390968259740385\n"
     ]
    },
    {
     "name": "stderr",
     "output_type": "stream",
     "text": [
      " 56%|█████▌    | 111/200 [07:55<06:18,  4.25s/it]"
     ]
    },
    {
     "name": "stdout",
     "output_type": "stream",
     "text": [
      "0.46594182732571165\n"
     ]
    },
    {
     "name": "stderr",
     "output_type": "stream",
     "text": [
      " 56%|█████▌    | 112/200 [07:59<06:15,  4.27s/it]"
     ]
    },
    {
     "name": "stdout",
     "output_type": "stream",
     "text": [
      "0.0010191771685638118\n"
     ]
    },
    {
     "name": "stderr",
     "output_type": "stream",
     "text": [
      " 56%|█████▋    | 113/200 [08:04<06:11,  4.27s/it]"
     ]
    },
    {
     "name": "stdout",
     "output_type": "stream",
     "text": [
      "0.09187214987445158\n"
     ]
    },
    {
     "name": "stderr",
     "output_type": "stream",
     "text": [
      " 57%|█████▋    | 114/200 [08:08<06:06,  4.26s/it]"
     ]
    },
    {
     "name": "stdout",
     "output_type": "stream",
     "text": [
      "0.00019563167726499575\n"
     ]
    },
    {
     "name": "stderr",
     "output_type": "stream",
     "text": [
      " 57%|█████▊    | 115/200 [08:12<06:02,  4.26s/it]"
     ]
    },
    {
     "name": "stdout",
     "output_type": "stream",
     "text": [
      "0.0036342814089067588\n"
     ]
    },
    {
     "name": "stderr",
     "output_type": "stream",
     "text": [
      " 58%|█████▊    | 116/200 [08:16<05:56,  4.24s/it]"
     ]
    },
    {
     "name": "stdout",
     "output_type": "stream",
     "text": [
      "0.10121047710326592\n"
     ]
    },
    {
     "name": "stderr",
     "output_type": "stream",
     "text": [
      " 58%|█████▊    | 117/200 [08:21<05:53,  4.26s/it]"
     ]
    },
    {
     "name": "stdout",
     "output_type": "stream",
     "text": [
      "5.7999194114088937e-08\n"
     ]
    },
    {
     "name": "stderr",
     "output_type": "stream",
     "text": [
      " 59%|█████▉    | 118/200 [08:25<05:51,  4.29s/it]"
     ]
    },
    {
     "name": "stdout",
     "output_type": "stream",
     "text": [
      "0.04184799313684018\n"
     ]
    },
    {
     "name": "stderr",
     "output_type": "stream",
     "text": [
      " 60%|█████▉    | 119/200 [08:30<05:55,  4.39s/it]"
     ]
    },
    {
     "name": "stdout",
     "output_type": "stream",
     "text": [
      "0.0009845561347232579\n"
     ]
    },
    {
     "name": "stderr",
     "output_type": "stream",
     "text": [
      " 60%|██████    | 120/200 [08:34<05:48,  4.36s/it]"
     ]
    },
    {
     "name": "stdout",
     "output_type": "stream",
     "text": [
      "0.0002801369666619591\n"
     ]
    },
    {
     "name": "stderr",
     "output_type": "stream",
     "text": [
      " 60%|██████    | 121/200 [08:38<05:46,  4.39s/it]"
     ]
    },
    {
     "name": "stdout",
     "output_type": "stream",
     "text": [
      "0.04214999563248756\n"
     ]
    },
    {
     "name": "stderr",
     "output_type": "stream",
     "text": [
      " 61%|██████    | 122/200 [08:43<05:42,  4.40s/it]"
     ]
    },
    {
     "name": "stdout",
     "output_type": "stream",
     "text": [
      "0.08123643819621884\n"
     ]
    },
    {
     "name": "stderr",
     "output_type": "stream",
     "text": [
      " 62%|██████▏   | 123/200 [08:47<05:33,  4.34s/it]"
     ]
    },
    {
     "name": "stdout",
     "output_type": "stream",
     "text": [
      "0.3248285348792471\n"
     ]
    },
    {
     "name": "stderr",
     "output_type": "stream",
     "text": [
      " 62%|██████▏   | 124/200 [08:51<05:29,  4.34s/it]"
     ]
    },
    {
     "name": "stdout",
     "output_type": "stream",
     "text": [
      "9.469939864326093e-05\n"
     ]
    },
    {
     "name": "stderr",
     "output_type": "stream",
     "text": [
      " 62%|██████▎   | 125/200 [08:56<05:23,  4.31s/it]"
     ]
    },
    {
     "name": "stdout",
     "output_type": "stream",
     "text": [
      "0.14506060410919497\n"
     ]
    },
    {
     "name": "stderr",
     "output_type": "stream",
     "text": [
      " 63%|██████▎   | 126/200 [09:00<05:17,  4.29s/it]"
     ]
    },
    {
     "name": "stdout",
     "output_type": "stream",
     "text": [
      "0.06082583213195514\n"
     ]
    },
    {
     "name": "stderr",
     "output_type": "stream",
     "text": [
      " 64%|██████▎   | 127/200 [09:04<05:14,  4.30s/it]"
     ]
    },
    {
     "name": "stdout",
     "output_type": "stream",
     "text": [
      "0.2207791898394491\n"
     ]
    },
    {
     "name": "stderr",
     "output_type": "stream",
     "text": [
      " 64%|██████▍   | 128/200 [09:09<05:13,  4.35s/it]"
     ]
    },
    {
     "name": "stdout",
     "output_type": "stream",
     "text": [
      "0.31840391670281787\n"
     ]
    },
    {
     "name": "stderr",
     "output_type": "stream",
     "text": [
      " 64%|██████▍   | 129/200 [09:13<05:05,  4.30s/it]"
     ]
    },
    {
     "name": "stdout",
     "output_type": "stream",
     "text": [
      "0.09215557402764962\n"
     ]
    },
    {
     "name": "stderr",
     "output_type": "stream",
     "text": [
      " 65%|██████▌   | 130/200 [09:17<05:00,  4.30s/it]"
     ]
    },
    {
     "name": "stdout",
     "output_type": "stream",
     "text": [
      "0.74002230261072\n"
     ]
    },
    {
     "name": "stderr",
     "output_type": "stream",
     "text": [
      " 66%|██████▌   | 131/200 [09:21<04:55,  4.29s/it]"
     ]
    },
    {
     "name": "stdout",
     "output_type": "stream",
     "text": [
      "5.474145642714312e-05\n"
     ]
    },
    {
     "name": "stderr",
     "output_type": "stream",
     "text": [
      " 66%|██████▌   | 132/200 [09:26<04:48,  4.25s/it]"
     ]
    },
    {
     "name": "stdout",
     "output_type": "stream",
     "text": [
      "0.00028766637142418894\n"
     ]
    },
    {
     "name": "stderr",
     "output_type": "stream",
     "text": [
      " 66%|██████▋   | 133/200 [09:30<04:50,  4.33s/it]"
     ]
    },
    {
     "name": "stdout",
     "output_type": "stream",
     "text": [
      "0.7426433977932313\n"
     ]
    },
    {
     "name": "stderr",
     "output_type": "stream",
     "text": [
      " 67%|██████▋   | 134/200 [09:34<04:45,  4.32s/it]"
     ]
    },
    {
     "name": "stdout",
     "output_type": "stream",
     "text": [
      "0.02486664941012451\n"
     ]
    },
    {
     "name": "stderr",
     "output_type": "stream",
     "text": [
      " 68%|██████▊   | 135/200 [09:39<04:42,  4.34s/it]"
     ]
    },
    {
     "name": "stdout",
     "output_type": "stream",
     "text": [
      "0.0005286124970013129\n"
     ]
    },
    {
     "name": "stderr",
     "output_type": "stream",
     "text": [
      " 68%|██████▊   | 136/200 [09:43<04:37,  4.33s/it]"
     ]
    },
    {
     "name": "stdout",
     "output_type": "stream",
     "text": [
      "0.00695743955163608\n"
     ]
    },
    {
     "name": "stderr",
     "output_type": "stream",
     "text": [
      " 68%|██████▊   | 137/200 [09:47<04:33,  4.34s/it]"
     ]
    },
    {
     "name": "stdout",
     "output_type": "stream",
     "text": [
      "0.011612319237388258\n"
     ]
    },
    {
     "name": "stderr",
     "output_type": "stream",
     "text": [
      " 69%|██████▉   | 138/200 [09:52<04:27,  4.31s/it]"
     ]
    },
    {
     "name": "stdout",
     "output_type": "stream",
     "text": [
      "2.398570364547936e-08\n"
     ]
    },
    {
     "name": "stderr",
     "output_type": "stream",
     "text": [
      " 70%|██████▉   | 139/200 [09:56<04:22,  4.30s/it]"
     ]
    },
    {
     "name": "stdout",
     "output_type": "stream",
     "text": [
      "0.0031042390374503848\n"
     ]
    },
    {
     "name": "stderr",
     "output_type": "stream",
     "text": [
      " 70%|███████   | 140/200 [10:00<04:18,  4.30s/it]"
     ]
    },
    {
     "name": "stdout",
     "output_type": "stream",
     "text": [
      "0.006380264883440234\n"
     ]
    },
    {
     "name": "stderr",
     "output_type": "stream",
     "text": [
      " 70%|███████   | 141/200 [10:05<04:16,  4.34s/it]"
     ]
    },
    {
     "name": "stdout",
     "output_type": "stream",
     "text": [
      "0.008866534033643125\n"
     ]
    },
    {
     "name": "stderr",
     "output_type": "stream",
     "text": [
      " 71%|███████   | 142/200 [10:09<04:10,  4.32s/it]"
     ]
    },
    {
     "name": "stdout",
     "output_type": "stream",
     "text": [
      "0.03495083848682934\n"
     ]
    },
    {
     "name": "stderr",
     "output_type": "stream",
     "text": [
      " 72%|███████▏  | 143/200 [10:13<04:04,  4.29s/it]"
     ]
    },
    {
     "name": "stdout",
     "output_type": "stream",
     "text": [
      "0.0036723455136730143\n"
     ]
    },
    {
     "name": "stderr",
     "output_type": "stream",
     "text": [
      " 72%|███████▏  | 144/200 [10:17<04:01,  4.31s/it]"
     ]
    },
    {
     "name": "stdout",
     "output_type": "stream",
     "text": [
      "0.00015344147661522367\n"
     ]
    },
    {
     "name": "stderr",
     "output_type": "stream",
     "text": [
      " 72%|███████▎  | 145/200 [10:22<03:55,  4.28s/it]"
     ]
    },
    {
     "name": "stdout",
     "output_type": "stream",
     "text": [
      "6.925810205704597e-05\n"
     ]
    },
    {
     "name": "stderr",
     "output_type": "stream",
     "text": [
      " 73%|███████▎  | 146/200 [10:26<03:51,  4.29s/it]"
     ]
    },
    {
     "name": "stdout",
     "output_type": "stream",
     "text": [
      "0.23613799974005978\n"
     ]
    },
    {
     "name": "stderr",
     "output_type": "stream",
     "text": [
      " 74%|███████▎  | 147/200 [10:30<03:49,  4.32s/it]"
     ]
    },
    {
     "name": "stdout",
     "output_type": "stream",
     "text": [
      "0.0005343304682976502\n"
     ]
    },
    {
     "name": "stderr",
     "output_type": "stream",
     "text": [
      " 74%|███████▍  | 148/200 [10:35<03:45,  4.34s/it]"
     ]
    },
    {
     "name": "stdout",
     "output_type": "stream",
     "text": [
      "0.2710313209361698\n"
     ]
    },
    {
     "name": "stderr",
     "output_type": "stream",
     "text": [
      " 74%|███████▍  | 149/200 [10:39<03:40,  4.33s/it]"
     ]
    },
    {
     "name": "stdout",
     "output_type": "stream",
     "text": [
      "0.014530927146516381\n"
     ]
    },
    {
     "name": "stderr",
     "output_type": "stream",
     "text": [
      " 75%|███████▌  | 150/200 [10:43<03:34,  4.29s/it]"
     ]
    },
    {
     "name": "stdout",
     "output_type": "stream",
     "text": [
      "0.19112888026362995\n"
     ]
    },
    {
     "name": "stderr",
     "output_type": "stream",
     "text": [
      " 76%|███████▌  | 151/200 [10:47<03:28,  4.26s/it]"
     ]
    },
    {
     "name": "stdout",
     "output_type": "stream",
     "text": [
      "0.1749926317223105\n"
     ]
    },
    {
     "name": "stderr",
     "output_type": "stream",
     "text": [
      " 76%|███████▌  | 152/200 [10:52<03:23,  4.23s/it]"
     ]
    },
    {
     "name": "stdout",
     "output_type": "stream",
     "text": [
      "0.007138060933290724\n"
     ]
    },
    {
     "name": "stderr",
     "output_type": "stream",
     "text": [
      " 76%|███████▋  | 153/200 [10:56<03:17,  4.20s/it]"
     ]
    },
    {
     "name": "stdout",
     "output_type": "stream",
     "text": [
      "0.6408767115033491\n"
     ]
    },
    {
     "name": "stderr",
     "output_type": "stream",
     "text": [
      " 77%|███████▋  | 154/200 [11:00<03:12,  4.18s/it]"
     ]
    },
    {
     "name": "stdout",
     "output_type": "stream",
     "text": [
      "1.1592006212146622e-05\n"
     ]
    },
    {
     "name": "stderr",
     "output_type": "stream",
     "text": [
      " 78%|███████▊  | 155/200 [11:04<03:07,  4.16s/it]"
     ]
    },
    {
     "name": "stdout",
     "output_type": "stream",
     "text": [
      "0.0020436550389959507\n"
     ]
    },
    {
     "name": "stderr",
     "output_type": "stream",
     "text": [
      " 78%|███████▊  | 156/200 [11:08<03:03,  4.17s/it]"
     ]
    },
    {
     "name": "stdout",
     "output_type": "stream",
     "text": [
      "0.2883899037973655\n"
     ]
    },
    {
     "name": "stderr",
     "output_type": "stream",
     "text": [
      " 78%|███████▊  | 157/200 [11:12<02:58,  4.15s/it]"
     ]
    },
    {
     "name": "stdout",
     "output_type": "stream",
     "text": [
      "0.010964120596617999\n"
     ]
    },
    {
     "name": "stderr",
     "output_type": "stream",
     "text": [
      " 79%|███████▉  | 158/200 [11:16<02:54,  4.15s/it]"
     ]
    },
    {
     "name": "stdout",
     "output_type": "stream",
     "text": [
      "0.00021342173558758226\n"
     ]
    },
    {
     "name": "stderr",
     "output_type": "stream",
     "text": [
      " 80%|███████▉  | 159/200 [11:21<02:50,  4.15s/it]"
     ]
    },
    {
     "name": "stdout",
     "output_type": "stream",
     "text": [
      "0.29972030469550537\n"
     ]
    },
    {
     "name": "stderr",
     "output_type": "stream",
     "text": [
      " 80%|████████  | 160/200 [11:25<02:46,  4.16s/it]"
     ]
    },
    {
     "name": "stdout",
     "output_type": "stream",
     "text": [
      "3.803266157542673e-05\n"
     ]
    },
    {
     "name": "stderr",
     "output_type": "stream",
     "text": [
      " 80%|████████  | 161/200 [11:29<02:41,  4.14s/it]"
     ]
    },
    {
     "name": "stdout",
     "output_type": "stream",
     "text": [
      "0.0006746166069885318\n"
     ]
    },
    {
     "name": "stderr",
     "output_type": "stream",
     "text": [
      " 81%|████████  | 162/200 [11:33<02:36,  4.13s/it]"
     ]
    },
    {
     "name": "stdout",
     "output_type": "stream",
     "text": [
      "0.001192460503478654\n"
     ]
    },
    {
     "name": "stderr",
     "output_type": "stream",
     "text": [
      " 82%|████████▏ | 163/200 [11:37<02:33,  4.14s/it]"
     ]
    },
    {
     "name": "stdout",
     "output_type": "stream",
     "text": [
      "0.2454633150633374\n"
     ]
    },
    {
     "name": "stderr",
     "output_type": "stream",
     "text": [
      " 82%|████████▏ | 164/200 [11:41<02:29,  4.14s/it]"
     ]
    },
    {
     "name": "stdout",
     "output_type": "stream",
     "text": [
      "0.002164224268266346\n"
     ]
    },
    {
     "name": "stderr",
     "output_type": "stream",
     "text": [
      " 82%|████████▎ | 165/200 [11:45<02:25,  4.15s/it]"
     ]
    },
    {
     "name": "stdout",
     "output_type": "stream",
     "text": [
      "0.013168767826127192\n"
     ]
    },
    {
     "name": "stderr",
     "output_type": "stream",
     "text": [
      " 83%|████████▎ | 166/200 [11:50<02:20,  4.14s/it]"
     ]
    },
    {
     "name": "stdout",
     "output_type": "stream",
     "text": [
      "0.0002716177145852816\n"
     ]
    },
    {
     "name": "stderr",
     "output_type": "stream",
     "text": [
      " 84%|████████▎ | 167/200 [11:54<02:16,  4.14s/it]"
     ]
    },
    {
     "name": "stdout",
     "output_type": "stream",
     "text": [
      "0.005278216416427228\n"
     ]
    },
    {
     "name": "stderr",
     "output_type": "stream",
     "text": [
      " 84%|████████▍ | 168/200 [11:58<02:12,  4.14s/it]"
     ]
    },
    {
     "name": "stdout",
     "output_type": "stream",
     "text": [
      "0.001986697899704404\n"
     ]
    },
    {
     "name": "stderr",
     "output_type": "stream",
     "text": [
      " 84%|████████▍ | 169/200 [12:02<02:08,  4.14s/it]"
     ]
    },
    {
     "name": "stdout",
     "output_type": "stream",
     "text": [
      "5.209335525835357e-06\n"
     ]
    },
    {
     "name": "stderr",
     "output_type": "stream",
     "text": [
      " 85%|████████▌ | 170/200 [12:06<02:03,  4.13s/it]"
     ]
    },
    {
     "name": "stdout",
     "output_type": "stream",
     "text": [
      "0.7824557887042309\n"
     ]
    },
    {
     "name": "stderr",
     "output_type": "stream",
     "text": [
      " 86%|████████▌ | 171/200 [12:10<02:00,  4.14s/it]"
     ]
    },
    {
     "name": "stdout",
     "output_type": "stream",
     "text": [
      "0.000168944833629614\n"
     ]
    },
    {
     "name": "stderr",
     "output_type": "stream",
     "text": [
      " 86%|████████▌ | 172/200 [12:14<01:55,  4.14s/it]"
     ]
    },
    {
     "name": "stdout",
     "output_type": "stream",
     "text": [
      "0.0013207014139425821\n"
     ]
    },
    {
     "name": "stderr",
     "output_type": "stream",
     "text": [
      " 86%|████████▋ | 173/200 [12:19<01:51,  4.14s/it]"
     ]
    },
    {
     "name": "stdout",
     "output_type": "stream",
     "text": [
      "0.0021396704913487774\n"
     ]
    },
    {
     "name": "stderr",
     "output_type": "stream",
     "text": [
      " 87%|████████▋ | 174/200 [12:23<01:47,  4.13s/it]"
     ]
    },
    {
     "name": "stdout",
     "output_type": "stream",
     "text": [
      "0.08459509397599829\n"
     ]
    },
    {
     "name": "stderr",
     "output_type": "stream",
     "text": [
      " 88%|████████▊ | 175/200 [12:27<01:43,  4.15s/it]"
     ]
    },
    {
     "name": "stdout",
     "output_type": "stream",
     "text": [
      "3.931893860520397e-05\n"
     ]
    },
    {
     "name": "stderr",
     "output_type": "stream",
     "text": [
      " 88%|████████▊ | 176/200 [12:31<01:39,  4.15s/it]"
     ]
    },
    {
     "name": "stdout",
     "output_type": "stream",
     "text": [
      "2.2002567345857926e-07\n"
     ]
    },
    {
     "name": "stderr",
     "output_type": "stream",
     "text": [
      " 88%|████████▊ | 177/200 [12:35<01:35,  4.15s/it]"
     ]
    },
    {
     "name": "stdout",
     "output_type": "stream",
     "text": [
      "0.00025033532848084405\n"
     ]
    },
    {
     "name": "stderr",
     "output_type": "stream",
     "text": [
      " 89%|████████▉ | 178/200 [12:39<01:31,  4.14s/it]"
     ]
    },
    {
     "name": "stdout",
     "output_type": "stream",
     "text": [
      "0.0005408503588753\n"
     ]
    },
    {
     "name": "stderr",
     "output_type": "stream",
     "text": [
      " 90%|████████▉ | 179/200 [12:43<01:27,  4.15s/it]"
     ]
    },
    {
     "name": "stdout",
     "output_type": "stream",
     "text": [
      "5.3417637302377585e-06\n"
     ]
    },
    {
     "name": "stderr",
     "output_type": "stream",
     "text": [
      " 90%|█████████ | 180/200 [12:48<01:22,  4.14s/it]"
     ]
    },
    {
     "name": "stdout",
     "output_type": "stream",
     "text": [
      "5.0135973886700214e-05\n"
     ]
    },
    {
     "name": "stderr",
     "output_type": "stream",
     "text": [
      " 90%|█████████ | 181/200 [12:52<01:18,  4.14s/it]"
     ]
    },
    {
     "name": "stdout",
     "output_type": "stream",
     "text": [
      "9.850442030157058e-05\n"
     ]
    },
    {
     "name": "stderr",
     "output_type": "stream",
     "text": [
      " 91%|█████████ | 182/200 [12:56<01:14,  4.13s/it]"
     ]
    },
    {
     "name": "stdout",
     "output_type": "stream",
     "text": [
      "0.03878099567748872\n"
     ]
    },
    {
     "name": "stderr",
     "output_type": "stream",
     "text": [
      " 92%|█████████▏| 183/200 [13:00<01:10,  4.17s/it]"
     ]
    },
    {
     "name": "stdout",
     "output_type": "stream",
     "text": [
      "3.0350248103605537e-06\n"
     ]
    },
    {
     "name": "stderr",
     "output_type": "stream",
     "text": [
      " 92%|█████████▏| 184/200 [13:04<01:06,  4.17s/it]"
     ]
    },
    {
     "name": "stdout",
     "output_type": "stream",
     "text": [
      "2.2824761469197874e-05\n"
     ]
    },
    {
     "name": "stderr",
     "output_type": "stream",
     "text": [
      " 92%|█████████▎| 185/200 [13:08<01:02,  4.16s/it]"
     ]
    },
    {
     "name": "stdout",
     "output_type": "stream",
     "text": [
      "0.0003567649533202655\n"
     ]
    },
    {
     "name": "stderr",
     "output_type": "stream",
     "text": [
      " 93%|█████████▎| 186/200 [13:13<00:58,  4.16s/it]"
     ]
    },
    {
     "name": "stdout",
     "output_type": "stream",
     "text": [
      "0.000858774274196672\n"
     ]
    },
    {
     "name": "stderr",
     "output_type": "stream",
     "text": [
      " 94%|█████████▎| 187/200 [13:17<00:54,  4.16s/it]"
     ]
    },
    {
     "name": "stdout",
     "output_type": "stream",
     "text": [
      "0.001737131760028876\n"
     ]
    },
    {
     "name": "stderr",
     "output_type": "stream",
     "text": [
      " 94%|█████████▍| 188/200 [13:21<00:49,  4.15s/it]"
     ]
    },
    {
     "name": "stdout",
     "output_type": "stream",
     "text": [
      "0.00043680121142630757\n"
     ]
    },
    {
     "name": "stderr",
     "output_type": "stream",
     "text": [
      " 94%|█████████▍| 189/200 [13:25<00:45,  4.15s/it]"
     ]
    },
    {
     "name": "stdout",
     "output_type": "stream",
     "text": [
      "0.0006024734211712568\n"
     ]
    },
    {
     "name": "stderr",
     "output_type": "stream",
     "text": [
      " 95%|█████████▌| 190/200 [13:29<00:41,  4.16s/it]"
     ]
    },
    {
     "name": "stdout",
     "output_type": "stream",
     "text": [
      "0.0075923194435346675\n"
     ]
    },
    {
     "name": "stderr",
     "output_type": "stream",
     "text": [
      " 96%|█████████▌| 191/200 [13:33<00:37,  4.16s/it]"
     ]
    },
    {
     "name": "stdout",
     "output_type": "stream",
     "text": [
      "0.009425926148228458\n"
     ]
    },
    {
     "name": "stderr",
     "output_type": "stream",
     "text": [
      " 96%|█████████▌| 192/200 [13:38<00:33,  4.18s/it]"
     ]
    },
    {
     "name": "stdout",
     "output_type": "stream",
     "text": [
      "0.0008155793189974503\n"
     ]
    },
    {
     "name": "stderr",
     "output_type": "stream",
     "text": [
      " 96%|█████████▋| 193/200 [13:42<00:29,  4.17s/it]"
     ]
    },
    {
     "name": "stdout",
     "output_type": "stream",
     "text": [
      "0.009631634050868199\n"
     ]
    },
    {
     "name": "stderr",
     "output_type": "stream",
     "text": [
      " 97%|█████████▋| 194/200 [13:46<00:25,  4.17s/it]"
     ]
    },
    {
     "name": "stdout",
     "output_type": "stream",
     "text": [
      "0.06068013716251952\n"
     ]
    },
    {
     "name": "stderr",
     "output_type": "stream",
     "text": [
      " 98%|█████████▊| 195/200 [13:50<00:20,  4.16s/it]"
     ]
    },
    {
     "name": "stdout",
     "output_type": "stream",
     "text": [
      "0.3150136326283637\n"
     ]
    },
    {
     "name": "stderr",
     "output_type": "stream",
     "text": [
      " 98%|█████████▊| 196/200 [13:54<00:16,  4.15s/it]"
     ]
    },
    {
     "name": "stdout",
     "output_type": "stream",
     "text": [
      "0.061741341536992955\n"
     ]
    },
    {
     "name": "stderr",
     "output_type": "stream",
     "text": [
      " 98%|█████████▊| 197/200 [13:58<00:12,  4.15s/it]"
     ]
    },
    {
     "name": "stdout",
     "output_type": "stream",
     "text": [
      "0.012796335803043402\n"
     ]
    },
    {
     "name": "stderr",
     "output_type": "stream",
     "text": [
      " 99%|█████████▉| 198/200 [14:02<00:08,  4.15s/it]"
     ]
    },
    {
     "name": "stdout",
     "output_type": "stream",
     "text": [
      "4.428169933845538e-06\n"
     ]
    },
    {
     "name": "stderr",
     "output_type": "stream",
     "text": [
      "100%|█████████▉| 199/200 [14:07<00:04,  4.16s/it]"
     ]
    },
    {
     "name": "stdout",
     "output_type": "stream",
     "text": [
      "0.1387114059566812\n"
     ]
    },
    {
     "name": "stderr",
     "output_type": "stream",
     "text": [
      "100%|██████████| 200/200 [14:11<00:00,  4.26s/it]"
     ]
    },
    {
     "name": "stdout",
     "output_type": "stream",
     "text": [
      "0.00033912844483974247\n"
     ]
    },
    {
     "name": "stderr",
     "output_type": "stream",
     "text": [
      "\n"
     ]
    }
   ],
   "source": [
    "# Power enhancement\n",
    "l = 5\n",
    "count = 0\n",
    "#calculate covariance matrix\n",
    "probability= 0\n",
    "for j in trange(200):\n",
    "    #generate data\n",
    "    Y_source, X_source, V_source, Z_source, Y_target, X_target, V_target, Z_target = generate(ns,nt, p,q, s, t, u, Alpha_s = 0, Alpha_t = 2)\n",
    "\n",
    "    # calculate density ratio\n",
    "    D_s = np.concatenate((X_source, Z_source, V_source), axis = 1)\n",
    "    D_t = np.concatenate((X_target, Z_target, V_target), axis = 1)\n",
    "\n",
    "    v_dr = est_v_ratio(X_source, Z_source, V_source, X_target, Z_target, V_target)\n",
    "    xz_dr = xz_ratio(X_source,Z_source, V_source, s,t,p,q)\n",
    "    reg=1\n",
    "    \n",
    "    true_dr = true_density_ratio(X_source[:2000], Z_source[:2000], V_source[:2000],s,t,p,q,Alpha_s = 0, Alpha_t = 2)\n",
    "    est_dr = v_dr[:2000] * xz_dr[:2000]\n",
    "    \n",
    "    WV, statistic, a, b, c, g = PCRtest_Powen(Y_source[:2000], X_source[:2000], Z_source[:2000], V_source[:2000], Y_target[:2000], X_target[:2000], Z_target[:2000], V_target[:2000], u, s, t, l, 20, true_dr, reg)\n",
    "    cov = generate_cov_matrix_powen(a, b, c, g, l, 20, density_ratio = true_dr)\n",
    "    weight = la.eigh(cov)[0]\n",
    "    p_value = 1-mchi.lpb4(coeff=weight, x=statistic)\n",
    "    print(p_value)\n",
    "\n",
    "    if p_value < 0.1:\n",
    "        count += 1\n",
    "    probability = count/(j+1)"
   ]
  },
  {
   "cell_type": "markdown",
   "id": "6165881b-5d03-4100-882c-22a06e7ce59d",
   "metadata": {},
   "source": [
    "## Benchmark for no covariate shift"
   ]
  },
  {
   "cell_type": "code",
   "execution_count": 35,
   "id": "f6bc7ba8-adfa-48fc-8e62-ba15a8cbf9c7",
   "metadata": {},
   "outputs": [
    {
     "name": "stderr",
     "output_type": "stream",
     "text": [
      "100%|██████████| 200/200 [03:58<00:00,  1.19s/it]\n",
      "100%|██████████| 200/200 [06:09<00:00,  1.85s/it]\n",
      "100%|██████████| 200/200 [09:44<00:00,  2.92s/it]\n",
      "100%|██████████| 200/200 [13:22<00:00,  4.01s/it]\n",
      "100%|██████████| 200/200 [17:19<00:00,  5.20s/it]\n",
      "100%|██████████| 200/200 [24:14<00:00,  7.27s/it]\n"
     ]
    }
   ],
   "source": [
    "# verificaion by the p value\n",
    "prob_lst = []\n",
    "for l in [2,5,10,15,20,30]:\n",
    "\n",
    "    count = 0\n",
    "    #calculate covariance matrix\n",
    "    probability= 0\n",
    "    for j in trange(200):\n",
    "        #generate data\n",
    "        Y_source, X_source, V_source, Z_source, Y_target, X_target, V_target, Z_target = generate(ns,nt, p,q, s, t, u, Alpha_s = 1, Alpha_t = 0)\n",
    "\n",
    "        # calculate density ratio\n",
    "        D_s = np.concatenate((X_source, Z_source, V_source), axis = 1)\n",
    "        D_t = np.concatenate((X_target, Z_target, V_target), axis = 1)\n",
    "\n",
    "        v_dr = est_v_ratio(X_source, Z_source, V_source, X_target, Z_target, V_target)\n",
    "        xz_dr = xz_ratio(X_source,Z_source, V_source, s,t,p,q)\n",
    "        # densratio_obj = densratio(D_t, D_s)\n",
    "        # #calculate density ratio for each sample\n",
    "        # sample_density_ratio1 = densratio_obj.compute_density_ratio(D_s)\n",
    "        true_dr = true_density_ratio(X_source, Z_source, V_source,s,t,p,q,Alpha_s = 1, Alpha_t = 0)\n",
    "        est_dr = v_dr[:2000] * xz_dr[:2000]\n",
    "\n",
    "        # cov1 = generate_cov_matrix(Y_source[:2000], X_source[:2000], Z_source[:2000],V_source[:2000],u,s,t, L = l, K = 20, density_ratio = est_dr, regr = reg)\n",
    "        # # print(cov1)\n",
    "        # w, statistic = PCRtest(Y_source[:2000], X_source[:2000], Z_source[:2000],V_source[:2000],u,s,t, L = l, K = 20, covariate_shift = False, density_ratio = est_dr, regr = reg)\n",
    "        # weight = la.eigh(cov1)[0]\n",
    "        # print([w,statistic])\n",
    "        # p_value = 1-mchi.lpb4(coeff=weight, x=statistic)\n",
    "        # #p_value = monte_carlo_p_value(100000, cov1, l, statistic)\n",
    "        w, statistic = PCRtest(Y_source[:2000], X_source[:2000], Z_source[:2000],V_source[:2000],u,s,t, L = l, K = 20, covariate_shift = False, density_ratio = est_dr, regr = reg)\n",
    "        p_value = chi_squared_p_value(statistic, l-1)\n",
    "        #print(p_value)\n",
    "        if p_value < 0.1:\n",
    "            count += 1\n",
    "        probability = count/(j+1)\n",
    "    prob_lst.append(probability)"
   ]
  },
  {
   "cell_type": "markdown",
   "id": "719e356d-318a-493d-8e73-9ad21f76ed67",
   "metadata": {},
   "source": [
    "## Benchmark method: Resampling from source\n"
   ]
  },
  {
   "cell_type": "code",
   "execution_count": 66,
   "id": "f419c238-9b3c-4793-a89d-b82dacfb20d0",
   "metadata": {
    "tags": []
   },
   "outputs": [],
   "source": [
    "from tqdm import tqdm\n",
    "def resample(Y_source, X_source, Z_source, V_source, M, density_ratio = None):\n",
    "    n = Y_source.shape[0]\n",
    "    Y_, X_, Z_, V_ = [], [], [], []\n",
    "    for i in range(n):\n",
    "        value = density_ratio[i]\n",
    "        u = np.random.random()\n",
    "        if value >= u * M:\n",
    "            Y_.append(Y_source[i])\n",
    "            X_.append(X_source[i])\n",
    "            Z_.append(Z_source[i])\n",
    "            V_.append(V_source[i])\n",
    "    Y_, X_, Z_, V_ = np.array(Y_) , np.array(X_), np.array(Z_), np.array(V_)\n",
    "    return Y_, X_, Z_, V_\n",
    "\n",
    "def resample_DR(num_samples, density_ratio, rate = lambda n: n**0.5, replacement='NO-REPL-gibbs', m=None):\n",
    "        \"\"\"\n",
    "        Resampling function that returns a weighted resample of X\n",
    "        Return the index of the resampled data\n",
    "        \"\"\"\n",
    "\n",
    "        # Compute sample and resample size\n",
    "        n = num_samples\n",
    "        m = int(rate(num_samples)) if m is None else m\n",
    "\n",
    "        # Draw weights\n",
    "        w = np.array(density_ratio[:num_samples]).ravel()\n",
    "        w /= w.sum()\n",
    "        \n",
    "        # Resample with modified replacement scheme:\n",
    "        # Sample w replace, but reject if non-distinct\n",
    "        if replacement == \"REPL-reject\":\n",
    "            idx = np.random.choice(n, size=m, p=w, replace=True)\n",
    "            count = 0\n",
    "            while count < 100 and (len(np.unique(idx)) != len(idx)):\n",
    "                count += 1\n",
    "                idx = np.random.choice(n, size=m, p=w, replace=True)\n",
    "\n",
    "            print(f\"Rejections: {count}\")\n",
    "            raise ValueError(\"Unable to draw sample from REPL rejection sampler\")\n",
    "\n",
    "        elif replacement == \"NO-REPL-gibbs\":\n",
    "            # Initialize space\n",
    "            space = np.arange(n)\n",
    "            # Initialize Gibbs sampler in NO-REPL distribution and shuffle to mimick dist\n",
    "            idx = np.random.choice(space, size=m, p=w, replace=False)\n",
    "            np.random.shuffle(idx)\n",
    "\n",
    "            # Loop, sampling from conditional\n",
    "            for _ in range(10):\n",
    "                for j, i in (enumerate(idx)):\n",
    "                    retain = np.delete(idx, j)\n",
    "                    vacant = np.setdiff1d(space, retain)\n",
    "                    idx[j] = np.random.choice(vacant, 1, p=w[vacant]/w[vacant].sum())\n",
    "\n",
    "        elif replacement == \"NO-REPL-reject\":\n",
    "            # Denominator for rejection sampler is smallest weights\n",
    "            m_smallest = np.cumsum(w[np.argsort(w)][:(m-1)])\n",
    "\n",
    "            # Sample from proposal, and compute bound p/Mq\n",
    "            count = 0\n",
    "            idx = np.random.choice(n, size=m, p=w, replace=False)\n",
    "            bound = np.prod(1 - np.cumsum(w[idx])[:-1])/np.prod(1 - m_smallest)\n",
    "\n",
    "            while ((np.random.uniform() > bound) and count < 100):\n",
    "                count += 1\n",
    "                idx = np.random.choice(n, size=m, p=w, replace=False)\n",
    "                bound = np.prod(1 - np.cumsum(w[idx])[:-1])/np.prod(1 - m_smallest)\n",
    "\n",
    "            if count == 100:\n",
    "                raise ValueError(\"Unable to draw sample from NO-REPL rejection sampler\")\n",
    "                \n",
    "\n",
    "        # If nothing else, just sample with or without replacement\n",
    "        else:\n",
    "            idx = np.random.choice(n, size=m, p=w, replace=replacement)\n",
    "\n",
    "\n",
    "        return idx\n",
    "    \n",
    "\n",
    "def benchmark(test_n, alpha, L, K):\n",
    "    sample_density_ratio2=1\n",
    "    count = 0\n",
    "    beta = 0.2\n",
    "    chi_list_1=[3.841, 5.991, 7.815, 9.488, 11.07]\n",
    "    chi_list_2=[2.706, 4.605, 6.251, 7.779, 9.236]\n",
    "    p_list=[]\n",
    "    sample_num=[]\n",
    "    eff_size=[]\n",
    "    Las = LassoCV()\n",
    "    for i in trange(test_n):\n",
    "        Y_source, X_source, V_source, Z_source, Y_target, X_target, V_target, Z_target = generate(ns,nt, p,q, s, t, u, alpha, beta)\n",
    "        W = np.hstack((X_source, Z_source))\n",
    "        reg = Las.fit(W, Y_source.ravel())\n",
    "\n",
    "        Y_, X_, Z_, V_ , size = resample(Y_source, X_source, Z_source, V_source, Y_target, X_target, V_target, Z_target)\n",
    "        xp, p_value = PCRtest(Y_, X_, Z_, V_, u, s, t, L, K, covariate_shift = False, density_ratio = 1, regr = reg)\n",
    "        #print(xp)\n",
    "        if p_value > chi_list_1[L-2]:\n",
    "            count += 1\n",
    "        p_list.append(p_value)\n",
    "        sample_num.append(Y_.size)\n",
    "        eff_size.append(size)\n",
    "\n",
    "    print(\"count = \", count, \"score =\",  count/test_n)\n",
    "    print(p_list)\n",
    "    #print(sample_num)\n",
    "    #print(np.array(eff_size)*np.array(sample_num))\n",
    "    return count, count/test_n\n",
    "\n"
   ]
  },
  {
   "cell_type": "code",
   "execution_count": 67,
   "id": "80a2a79f-349f-4f59-ba50-6661b50f4335",
   "metadata": {},
   "outputs": [],
   "source": [
    "ns,nt, p,q = 2000,2000, 5, 50\n",
    "n_labeled = 1000\n",
    "s = np.array([-0.56228753, -1.01283112,  0.31424733, -0.90802408, -1.4123037 ])\n",
    "t = np.array([ 1.46564877, -0.2257763 ,  0.0675282 , -1.42474819, -0.54438272])\n",
    "u = np.array([ 0.11092259, -1.15099358,  0.37569802, -0.60063869, -0.29169375])"
   ]
  },
  {
   "cell_type": "code",
   "execution_count": 10,
   "id": "b3df49cf-a67e-4afb-925c-9d21d4074d7d",
   "metadata": {},
   "outputs": [],
   "source": [
    "Y_source, X_source, V_source, Z_source, Y_target, X_target, V_target, Z_target = generate(ns,nt, p,q, s, t, u, Alpha_s = 0, Alpha_t = 2)\n",
    "# calculate density ratio\n",
    "D_s = np.concatenate((X_source, Z_source, V_source), axis = 1)\n",
    "D_t = np.concatenate((X_target, Z_target, V_target), axis = 1)\n",
    "\n",
    "true_dr = true_density_ratio(X_source[:5000], Z_source[:5000], V_source[:5000],s,t,p,q,Alpha_s = 0, Alpha_t = 2)"
   ]
  },
  {
   "cell_type": "code",
   "execution_count": 11,
   "id": "49c28eb3-1917-44f3-b561-e9b3e069977e",
   "metadata": {},
   "outputs": [
    {
     "data": {
      "text/plain": [
       "array([0.62454695, 1.02426892, 1.21447491, ..., 0.05938951, 0.76308974,\n",
       "       0.66330679])"
      ]
     },
     "execution_count": 11,
     "metadata": {},
     "output_type": "execute_result"
    }
   ],
   "source": [
    "true_dr.ravel()"
   ]
  },
  {
   "cell_type": "code",
   "execution_count": 12,
   "id": "6f846503-7e5e-4d84-ae79-1a599ea21187",
   "metadata": {
    "tags": []
   },
   "outputs": [],
   "source": [
    "index = resample_DR(1000, true_dr)"
   ]
  },
  {
   "cell_type": "code",
   "execution_count": 13,
   "id": "813137d4-821a-49a8-8762-4e9dc2700623",
   "metadata": {},
   "outputs": [
    {
     "data": {
      "text/plain": [
       "array([669, 162, 722, 557, 204, 868, 278, 637, 235, 863, 123, 337,  68,\n",
       "        53, 237, 624, 845, 904, 196, 833, 192, 306, 777, 265, 668, 888,\n",
       "       535, 984,  14,  58, 286])"
      ]
     },
     "execution_count": 13,
     "metadata": {},
     "output_type": "execute_result"
    }
   ],
   "source": [
    "index"
   ]
  },
  {
   "cell_type": "code",
   "execution_count": 70,
   "id": "1f3eca38-b6cc-4421-bc54-c5307420cfea",
   "metadata": {
    "collapsed": true,
    "jupyter": {
     "outputs_hidden": true
    },
    "tags": []
   },
   "outputs": [
    {
     "name": "stderr",
     "output_type": "stream",
     "text": [
      "  1%|          | 1/100 [00:00<00:45,  2.20it/s]"
     ]
    },
    {
     "name": "stdout",
     "output_type": "stream",
     "text": [
      "[23.26644367]\n",
      "0.039723733386441085\n"
     ]
    },
    {
     "name": "stderr",
     "output_type": "stream",
     "text": [
      "  2%|▏         | 2/100 [00:00<00:46,  2.12it/s]"
     ]
    },
    {
     "name": "stdout",
     "output_type": "stream",
     "text": [
      "[43.72664644]\n",
      "0.4464393987758163\n"
     ]
    },
    {
     "name": "stderr",
     "output_type": "stream",
     "text": [
      "  3%|▎         | 3/100 [00:01<00:46,  2.09it/s]"
     ]
    },
    {
     "name": "stdout",
     "output_type": "stream",
     "text": [
      "[16.33444201]\n",
      "0.016626221963982668\n"
     ]
    },
    {
     "name": "stderr",
     "output_type": "stream",
     "text": [
      "  4%|▍         | 4/100 [00:01<00:46,  2.06it/s]"
     ]
    },
    {
     "name": "stdout",
     "output_type": "stream",
     "text": [
      "[13.46115948]\n",
      "0.5417756864712342\n"
     ]
    },
    {
     "name": "stderr",
     "output_type": "stream",
     "text": [
      "  5%|▌         | 5/100 [00:02<00:45,  2.09it/s]"
     ]
    },
    {
     "name": "stdout",
     "output_type": "stream",
     "text": [
      "[12.59449202]\n",
      "0.36787944117144233\n"
     ]
    },
    {
     "name": "stderr",
     "output_type": "stream",
     "text": [
      "  6%|▌         | 6/100 [00:02<00:44,  2.11it/s]"
     ]
    },
    {
     "name": "stdout",
     "output_type": "stream",
     "text": [
      "[90.22175782]\n",
      "0.7978725136602237\n"
     ]
    },
    {
     "name": "stderr",
     "output_type": "stream",
     "text": [
      "  7%|▋         | 7/100 [00:03<00:44,  2.10it/s]"
     ]
    },
    {
     "name": "stdout",
     "output_type": "stream",
     "text": [
      "[17.77075777]\n",
      "0.6574708577608569\n"
     ]
    },
    {
     "name": "stderr",
     "output_type": "stream",
     "text": [
      "  8%|▊         | 8/100 [00:03<00:43,  2.12it/s]"
     ]
    },
    {
     "name": "stdout",
     "output_type": "stream",
     "text": [
      "[22.39892168]\n",
      "0.24979947719340545\n"
     ]
    },
    {
     "name": "stderr",
     "output_type": "stream",
     "text": [
      "  9%|▉         | 9/100 [00:04<00:42,  2.15it/s]"
     ]
    },
    {
     "name": "stdout",
     "output_type": "stream",
     "text": [
      "[29.31450592]\n",
      "0.24979947719340545\n"
     ]
    },
    {
     "name": "stderr",
     "output_type": "stream",
     "text": [
      " 10%|█         | 10/100 [00:04<00:42,  2.11it/s]"
     ]
    },
    {
     "name": "stdout",
     "output_type": "stream",
     "text": [
      "[42.55762666]\n",
      "0.5417756864712342\n"
     ]
    },
    {
     "name": "stderr",
     "output_type": "stream",
     "text": [
      " 11%|█         | 11/100 [00:05<00:41,  2.14it/s]"
     ]
    },
    {
     "name": "stdout",
     "output_type": "stream",
     "text": [
      "[14.62224425]\n",
      "0.00766594304250845\n"
     ]
    },
    {
     "name": "stderr",
     "output_type": "stream",
     "text": [
      " 12%|█▏        | 12/100 [00:05<00:41,  2.14it/s]"
     ]
    },
    {
     "name": "stdout",
     "output_type": "stream",
     "text": [
      "[68.20344773]\n",
      "0.029714235677790413\n"
     ]
    },
    {
     "name": "stderr",
     "output_type": "stream",
     "text": [
      " 13%|█▎        | 13/100 [00:06<00:41,  2.08it/s]"
     ]
    },
    {
     "name": "stdout",
     "output_type": "stream",
     "text": [
      "[45.74030776]\n",
      "0.186855562273189\n"
     ]
    },
    {
     "name": "stderr",
     "output_type": "stream",
     "text": [
      " 14%|█▍        | 14/100 [00:06<00:40,  2.10it/s]"
     ]
    },
    {
     "name": "stdout",
     "output_type": "stream",
     "text": [
      "[22.79942137]\n",
      "0.08615451547953645\n"
     ]
    },
    {
     "name": "stderr",
     "output_type": "stream",
     "text": [
      " 15%|█▌        | 15/100 [00:07<00:39,  2.13it/s]"
     ]
    },
    {
     "name": "stdout",
     "output_type": "stream",
     "text": [
      "[17.74653135]\n",
      "0.3031436822281285\n"
     ]
    },
    {
     "name": "stderr",
     "output_type": "stream",
     "text": [
      " 16%|█▌        | 16/100 [00:07<00:39,  2.13it/s]"
     ]
    },
    {
     "name": "stdout",
     "output_type": "stream",
     "text": [
      "[40.28045014]\n",
      "0.07820770578978964\n"
     ]
    },
    {
     "name": "stderr",
     "output_type": "stream",
     "text": [
      " 17%|█▋        | 17/100 [00:08<00:39,  2.13it/s]"
     ]
    },
    {
     "name": "stdout",
     "output_type": "stream",
     "text": [
      "[18.34692255]\n",
      "0.8789456120040122\n"
     ]
    },
    {
     "name": "stderr",
     "output_type": "stream",
     "text": [
      " 18%|█▊        | 18/100 [00:08<00:38,  2.13it/s]"
     ]
    },
    {
     "name": "stdout",
     "output_type": "stream",
     "text": [
      "[20.07312664]\n",
      "0.039723733386441085\n"
     ]
    },
    {
     "name": "stderr",
     "output_type": "stream",
     "text": [
      " 19%|█▉        | 19/100 [00:08<00:37,  2.16it/s]"
     ]
    },
    {
     "name": "stdout",
     "output_type": "stream",
     "text": [
      "[24.63008031]\n",
      "0.7978725136602237\n"
     ]
    },
    {
     "name": "stderr",
     "output_type": "stream",
     "text": [
      " 20%|██        | 20/100 [00:09<00:37,  2.16it/s]"
     ]
    },
    {
     "name": "stdout",
     "output_type": "stream",
     "text": [
      "[27.58522271]\n",
      "0.7978725136602237\n"
     ]
    },
    {
     "name": "stderr",
     "output_type": "stream",
     "text": [
      " 21%|██        | 21/100 [00:09<00:36,  2.14it/s]"
     ]
    },
    {
     "name": "stdout",
     "output_type": "stream",
     "text": [
      "[31.78795275]\n",
      "0.07820770578978964\n"
     ]
    },
    {
     "name": "stderr",
     "output_type": "stream",
     "text": [
      " 22%|██▏       | 22/100 [00:10<00:36,  2.13it/s]"
     ]
    },
    {
     "name": "stdout",
     "output_type": "stream",
     "text": [
      "[23.73105816]\n",
      "0.59682637785056\n"
     ]
    },
    {
     "name": "stderr",
     "output_type": "stream",
     "text": [
      " 23%|██▎       | 23/100 [00:10<00:35,  2.14it/s]"
     ]
    },
    {
     "name": "stdout",
     "output_type": "stream",
     "text": [
      "[16.99186359]\n",
      "0.01128962668063005\n"
     ]
    },
    {
     "name": "stderr",
     "output_type": "stream",
     "text": [
      " 24%|██▍       | 24/100 [00:11<00:35,  2.13it/s]"
     ]
    },
    {
     "name": "stdout",
     "output_type": "stream",
     "text": [
      "[68.80813948]\n",
      "0.657470857760857\n"
     ]
    },
    {
     "name": "stderr",
     "output_type": "stream",
     "text": [
      " 25%|██▌       | 25/100 [00:11<00:36,  2.05it/s]"
     ]
    },
    {
     "name": "stdout",
     "output_type": "stream",
     "text": [
      "[21.36483623]\n",
      "0.05310501711260529\n"
     ]
    },
    {
     "name": "stderr",
     "output_type": "stream",
     "text": [
      " 26%|██▌       | 26/100 [00:12<00:36,  2.03it/s]"
     ]
    },
    {
     "name": "stdout",
     "output_type": "stream",
     "text": [
      "[15.97211786]\n",
      "0.8789456120040122\n"
     ]
    },
    {
     "name": "stderr",
     "output_type": "stream",
     "text": [
      " 27%|██▋       | 27/100 [00:12<00:36,  2.03it/s]"
     ]
    },
    {
     "name": "stdout",
     "output_type": "stream",
     "text": [
      "[46.39193853]\n",
      "0.0007514180621656097\n"
     ]
    },
    {
     "name": "stderr",
     "output_type": "stream",
     "text": [
      " 28%|██▊       | 28/100 [00:13<00:34,  2.09it/s]"
     ]
    },
    {
     "name": "stdout",
     "output_type": "stream",
     "text": [
      "[29.70257912]\n",
      "0.36787944117144233\n"
     ]
    },
    {
     "name": "stderr",
     "output_type": "stream",
     "text": [
      " 29%|██▉       | 29/100 [00:13<00:34,  2.07it/s]"
     ]
    },
    {
     "name": "stdout",
     "output_type": "stream",
     "text": [
      "[25.16112552]\n",
      "0.7978725136602237\n"
     ]
    },
    {
     "name": "stderr",
     "output_type": "stream",
     "text": [
      " 30%|███       | 30/100 [00:14<00:33,  2.11it/s]"
     ]
    },
    {
     "name": "stdout",
     "output_type": "stream",
     "text": [
      "[29.73300355]\n",
      "0.08615451547953645\n"
     ]
    },
    {
     "name": "stderr",
     "output_type": "stream",
     "text": [
      " 31%|███       | 31/100 [00:14<00:33,  2.09it/s]"
     ]
    },
    {
     "name": "stdout",
     "output_type": "stream",
     "text": [
      "[13.4038757]\n",
      "0.20584225390235988\n"
     ]
    },
    {
     "name": "stderr",
     "output_type": "stream",
     "text": [
      " 32%|███▏      | 32/100 [00:15<00:32,  2.11it/s]"
     ]
    },
    {
     "name": "stdout",
     "output_type": "stream",
     "text": [
      "[15.4286471]\n",
      "0.186855562273189\n"
     ]
    },
    {
     "name": "stderr",
     "output_type": "stream",
     "text": [
      " 33%|███▎      | 33/100 [00:15<00:31,  2.12it/s]"
     ]
    },
    {
     "name": "stdout",
     "output_type": "stream",
     "text": [
      "[36.63701882]\n",
      "0.8789456120040122\n"
     ]
    },
    {
     "name": "stderr",
     "output_type": "stream",
     "text": [
      " 34%|███▍      | 34/100 [00:16<00:31,  2.10it/s]"
     ]
    },
    {
     "name": "stdout",
     "output_type": "stream",
     "text": [
      "[26.64577782]\n",
      "0.12687966910542814\n"
     ]
    },
    {
     "name": "stderr",
     "output_type": "stream",
     "text": [
      " 35%|███▌      | 35/100 [00:16<00:30,  2.11it/s]"
     ]
    },
    {
     "name": "stdout",
     "output_type": "stream",
     "text": [
      "[63.97169936]\n",
      "0.07820770578978964\n"
     ]
    },
    {
     "name": "stderr",
     "output_type": "stream",
     "text": [
      " 36%|███▌      | 36/100 [00:17<00:32,  1.94it/s]"
     ]
    },
    {
     "name": "stdout",
     "output_type": "stream",
     "text": [
      "[27.13570889]\n",
      "0.36787944117144233\n"
     ]
    },
    {
     "name": "stderr",
     "output_type": "stream",
     "text": [
      " 37%|███▋      | 37/100 [00:17<00:31,  1.98it/s]"
     ]
    },
    {
     "name": "stdout",
     "output_type": "stream",
     "text": [
      "[36.15138066]\n",
      "0.036059654404263175\n"
     ]
    },
    {
     "name": "stderr",
     "output_type": "stream",
     "text": [
      " 38%|███▊      | 38/100 [00:18<00:30,  2.02it/s]"
     ]
    },
    {
     "name": "stdout",
     "output_type": "stream",
     "text": [
      "[40.56860607]\n",
      "0.5417756864712342\n"
     ]
    },
    {
     "name": "stderr",
     "output_type": "stream",
     "text": [
      " 39%|███▉      | 39/100 [00:18<00:29,  2.09it/s]"
     ]
    },
    {
     "name": "stdout",
     "output_type": "stream",
     "text": [
      "[15.58271981]\n",
      "0.59682637785056\n"
     ]
    },
    {
     "name": "stderr",
     "output_type": "stream",
     "text": [
      " 40%|████      | 40/100 [00:19<00:29,  2.06it/s]"
     ]
    },
    {
     "name": "stdout",
     "output_type": "stream",
     "text": [
      "[12.46255975]\n",
      "0.8789456120040122\n"
     ]
    },
    {
     "name": "stderr",
     "output_type": "stream",
     "text": [
      " 41%|████      | 41/100 [00:19<00:27,  2.12it/s]"
     ]
    },
    {
     "name": "stdout",
     "output_type": "stream",
     "text": [
      "[42.08910321]\n",
      "0.6574708577608569\n"
     ]
    },
    {
     "name": "stderr",
     "output_type": "stream",
     "text": [
      " 42%|████▏     | 42/100 [00:20<00:27,  2.09it/s]"
     ]
    },
    {
     "name": "stdout",
     "output_type": "stream",
     "text": [
      "[15.52730447]\n",
      "0.09490881317327604\n"
     ]
    },
    {
     "name": "stderr",
     "output_type": "stream",
     "text": [
      " 43%|████▎     | 43/100 [00:20<00:26,  2.13it/s]"
     ]
    },
    {
     "name": "stdout",
     "output_type": "stream",
     "text": [
      "[45.99211082]\n",
      "0.7978725136602237\n"
     ]
    },
    {
     "name": "stderr",
     "output_type": "stream",
     "text": [
      " 44%|████▍     | 44/100 [00:20<00:26,  2.11it/s]"
     ]
    },
    {
     "name": "stdout",
     "output_type": "stream",
     "text": [
      "[14.24751125]\n",
      "0.7978725136602237\n"
     ]
    },
    {
     "name": "stderr",
     "output_type": "stream",
     "text": [
      " 45%|████▌     | 45/100 [00:21<00:25,  2.12it/s]"
     ]
    },
    {
     "name": "stdout",
     "output_type": "stream",
     "text": [
      "[15.74912282]\n",
      "0.36787944117144233\n"
     ]
    },
    {
     "name": "stderr",
     "output_type": "stream",
     "text": [
      " 46%|████▌     | 46/100 [00:21<00:25,  2.14it/s]"
     ]
    },
    {
     "name": "stdout",
     "output_type": "stream",
     "text": [
      "[17.81851454]\n",
      "0.36787944117144233\n"
     ]
    },
    {
     "name": "stderr",
     "output_type": "stream",
     "text": [
      " 47%|████▋     | 47/100 [00:22<00:25,  2.09it/s]"
     ]
    },
    {
     "name": "stdout",
     "output_type": "stream",
     "text": [
      "[28.84324591]\n",
      "0.07820770578978964\n"
     ]
    },
    {
     "name": "stderr",
     "output_type": "stream",
     "text": [
      " 48%|████▊     | 48/100 [00:22<00:24,  2.09it/s]"
     ]
    },
    {
     "name": "stdout",
     "output_type": "stream",
     "text": [
      "[18.37893597]\n",
      "0.008444891738625393\n"
     ]
    },
    {
     "name": "stderr",
     "output_type": "stream",
     "text": [
      " 49%|████▉     | 49/100 [00:23<00:24,  2.05it/s]"
     ]
    },
    {
     "name": "stdout",
     "output_type": "stream",
     "text": [
      "[12.3938456]\n",
      "0.036059654404263175\n"
     ]
    },
    {
     "name": "stderr",
     "output_type": "stream",
     "text": [
      " 50%|█████     | 50/100 [00:23<00:25,  1.96it/s]"
     ]
    },
    {
     "name": "stdout",
     "output_type": "stream",
     "text": [
      "[20.85266823]\n",
      "0.4052602577832697\n"
     ]
    },
    {
     "name": "stderr",
     "output_type": "stream",
     "text": [
      " 51%|█████     | 51/100 [00:24<00:25,  1.93it/s]"
     ]
    },
    {
     "name": "stdout",
     "output_type": "stream",
     "text": [
      "[10.56879522]\n",
      "0.186855562273189\n"
     ]
    },
    {
     "name": "stderr",
     "output_type": "stream",
     "text": [
      " 52%|█████▏    | 52/100 [00:25<00:25,  1.89it/s]"
     ]
    },
    {
     "name": "stdout",
     "output_type": "stream",
     "text": [
      "[12.77362493]\n",
      "0.4464393987758163\n"
     ]
    },
    {
     "name": "stderr",
     "output_type": "stream",
     "text": [
      " 53%|█████▎    | 53/100 [00:25<00:25,  1.81it/s]"
     ]
    },
    {
     "name": "stdout",
     "output_type": "stream",
     "text": [
      "[18.01008444]\n",
      "0.0035345782618738664\n"
     ]
    },
    {
     "name": "stderr",
     "output_type": "stream",
     "text": [
      " 54%|█████▍    | 54/100 [00:26<00:25,  1.82it/s]"
     ]
    },
    {
     "name": "stdout",
     "output_type": "stream",
     "text": [
      "[137.72347623]\n",
      "0.4052602577832697\n"
     ]
    },
    {
     "name": "stderr",
     "output_type": "stream",
     "text": [
      " 55%|█████▌    | 55/100 [00:26<00:25,  1.75it/s]"
     ]
    },
    {
     "name": "stdout",
     "output_type": "stream",
     "text": [
      "[30.08161408]\n",
      "0.186855562273189\n"
     ]
    },
    {
     "name": "stderr",
     "output_type": "stream",
     "text": [
      " 56%|█████▌    | 56/100 [00:27<00:25,  1.73it/s]"
     ]
    },
    {
     "name": "stdout",
     "output_type": "stream",
     "text": [
      "[15.4694752]\n",
      "0.186855562273189\n"
     ]
    },
    {
     "name": "stderr",
     "output_type": "stream",
     "text": [
      " 57%|█████▋    | 57/100 [00:27<00:24,  1.78it/s]"
     ]
    },
    {
     "name": "stdout",
     "output_type": "stream",
     "text": [
      "[55.78825532]\n",
      "0.036059654404263175\n"
     ]
    },
    {
     "name": "stderr",
     "output_type": "stream",
     "text": [
      " 58%|█████▊    | 58/100 [00:28<00:22,  1.86it/s]"
     ]
    },
    {
     "name": "stdout",
     "output_type": "stream",
     "text": [
      "[10.19411776]\n",
      "0.9682566771439105\n"
     ]
    },
    {
     "name": "stderr",
     "output_type": "stream",
     "text": [
      " 59%|█████▉    | 59/100 [00:28<00:20,  1.95it/s]"
     ]
    },
    {
     "name": "stdout",
     "output_type": "stream",
     "text": [
      "[54.73358572]\n",
      "0.036059654404263175\n"
     ]
    },
    {
     "name": "stderr",
     "output_type": "stream",
     "text": [
      " 60%|██████    | 60/100 [00:29<00:20,  1.98it/s]"
     ]
    },
    {
     "name": "stdout",
     "output_type": "stream",
     "text": [
      "[34.67948187]\n",
      "0.5417756864712342\n"
     ]
    },
    {
     "name": "stderr",
     "output_type": "stream",
     "text": [
      " 61%|██████    | 61/100 [00:29<00:18,  2.07it/s]"
     ]
    },
    {
     "name": "stdout",
     "output_type": "stream",
     "text": [
      "[14.29098029]\n",
      "0.5417756864712342\n"
     ]
    },
    {
     "name": "stderr",
     "output_type": "stream",
     "text": [
      " 62%|██████▏   | 62/100 [00:30<00:18,  2.09it/s]"
     ]
    },
    {
     "name": "stdout",
     "output_type": "stream",
     "text": [
      "[15.50743726]\n",
      "0.5417756864712342\n"
     ]
    },
    {
     "name": "stderr",
     "output_type": "stream",
     "text": [
      " 63%|██████▎   | 63/100 [00:30<00:17,  2.10it/s]"
     ]
    },
    {
     "name": "stdout",
     "output_type": "stream",
     "text": [
      "[27.1942973]\n",
      "0.1397721145965286\n"
     ]
    },
    {
     "name": "stderr",
     "output_type": "stream",
     "text": [
      " 64%|██████▍   | 64/100 [00:31<00:17,  2.05it/s]"
     ]
    },
    {
     "name": "stdout",
     "output_type": "stream",
     "text": [
      "[11.20916121]\n",
      "0.8789456120040122\n"
     ]
    },
    {
     "name": "stderr",
     "output_type": "stream",
     "text": [
      " 65%|██████▌   | 65/100 [00:31<00:16,  2.07it/s]"
     ]
    },
    {
     "name": "stdout",
     "output_type": "stream",
     "text": [
      "[38.68575942]\n",
      "0.20584225390235988\n"
     ]
    },
    {
     "name": "stderr",
     "output_type": "stream",
     "text": [
      " 66%|██████▌   | 66/100 [00:32<00:16,  2.05it/s]"
     ]
    },
    {
     "name": "stdout",
     "output_type": "stream",
     "text": [
      "[21.50324607]\n",
      "0.20584225390235988\n"
     ]
    },
    {
     "name": "stderr",
     "output_type": "stream",
     "text": [
      " 67%|██████▋   | 67/100 [00:32<00:16,  2.02it/s]"
     ]
    },
    {
     "name": "stdout",
     "output_type": "stream",
     "text": [
      "[11.80961618]\n",
      "0.7978725136602237\n"
     ]
    },
    {
     "name": "stderr",
     "output_type": "stream",
     "text": [
      " 68%|██████▊   | 68/100 [00:33<00:15,  2.04it/s]"
     ]
    },
    {
     "name": "stdout",
     "output_type": "stream",
     "text": [
      "[42.24262346]\n",
      "0.4052602577832697\n"
     ]
    },
    {
     "name": "stderr",
     "output_type": "stream",
     "text": [
      " 69%|██████▉   | 69/100 [00:33<00:14,  2.08it/s]"
     ]
    },
    {
     "name": "stdout",
     "output_type": "stream",
     "text": [
      "[18.72639904]\n",
      "0.5417756864712342\n"
     ]
    },
    {
     "name": "stderr",
     "output_type": "stream",
     "text": [
      " 70%|███████   | 70/100 [00:34<00:14,  2.11it/s]"
     ]
    },
    {
     "name": "stdout",
     "output_type": "stream",
     "text": [
      "[10.11493553]\n",
      "0.3031436822281285\n"
     ]
    },
    {
     "name": "stderr",
     "output_type": "stream",
     "text": [
      " 71%|███████   | 71/100 [00:34<00:13,  2.08it/s]"
     ]
    },
    {
     "name": "stdout",
     "output_type": "stream",
     "text": [
      "[15.84157557]\n",
      "0.4464393987758163\n"
     ]
    },
    {
     "name": "stderr",
     "output_type": "stream",
     "text": [
      " 72%|███████▏  | 72/100 [00:35<00:13,  2.06it/s]"
     ]
    },
    {
     "name": "stdout",
     "output_type": "stream",
     "text": [
      "[52.41381418]\n",
      "0.05310501711260529\n"
     ]
    },
    {
     "name": "stderr",
     "output_type": "stream",
     "text": [
      " 73%|███████▎  | 73/100 [00:35<00:12,  2.11it/s]"
     ]
    },
    {
     "name": "stdout",
     "output_type": "stream",
     "text": [
      "[31.50330295]\n",
      "0.02697342314238982\n"
     ]
    },
    {
     "name": "stderr",
     "output_type": "stream",
     "text": [
      " 74%|███████▍  | 74/100 [00:36<00:12,  2.13it/s]"
     ]
    },
    {
     "name": "stdout",
     "output_type": "stream",
     "text": [
      "[73.46523116]\n",
      "0.8789456120040122\n"
     ]
    },
    {
     "name": "stderr",
     "output_type": "stream",
     "text": [
      " 75%|███████▌  | 75/100 [00:36<00:11,  2.15it/s]"
     ]
    },
    {
     "name": "stdout",
     "output_type": "stream",
     "text": [
      "[46.43093311]\n",
      "0.04376012527647777\n"
     ]
    },
    {
     "name": "stderr",
     "output_type": "stream",
     "text": [
      " 76%|███████▌  | 76/100 [00:36<00:11,  2.08it/s]"
     ]
    },
    {
     "name": "stdout",
     "output_type": "stream",
     "text": [
      "[14.43610367]\n",
      "0.8789456120040122\n"
     ]
    },
    {
     "name": "stderr",
     "output_type": "stream",
     "text": [
      " 77%|███████▋  | 77/100 [00:37<00:11,  2.07it/s]"
     ]
    },
    {
     "name": "stdout",
     "output_type": "stream",
     "text": [
      "[22.08551719]\n",
      "0.11517641039325577\n"
     ]
    },
    {
     "name": "stderr",
     "output_type": "stream",
     "text": [
      " 78%|███████▊  | 78/100 [00:37<00:10,  2.11it/s]"
     ]
    },
    {
     "name": "stdout",
     "output_type": "stream",
     "text": [
      "[19.72729759]\n",
      "0.186855562273189\n"
     ]
    },
    {
     "name": "stderr",
     "output_type": "stream",
     "text": [
      " 79%|███████▉  | 79/100 [00:38<00:10,  2.02it/s]"
     ]
    },
    {
     "name": "stdout",
     "output_type": "stream",
     "text": [
      "[20.74710027]\n",
      "0.036059654404263175\n"
     ]
    },
    {
     "name": "stderr",
     "output_type": "stream",
     "text": [
      " 80%|████████  | 80/100 [00:38<00:09,  2.03it/s]"
     ]
    },
    {
     "name": "stdout",
     "output_type": "stream",
     "text": [
      "[15.61468648]\n",
      "0.4052602577832697\n"
     ]
    },
    {
     "name": "stderr",
     "output_type": "stream",
     "text": [
      " 81%|████████  | 81/100 [00:39<00:09,  2.05it/s]"
     ]
    },
    {
     "name": "stdout",
     "output_type": "stream",
     "text": [
      "[31.18878515]\n",
      "0.00766594304250845\n"
     ]
    },
    {
     "name": "stderr",
     "output_type": "stream",
     "text": [
      " 82%|████████▏ | 82/100 [00:39<00:08,  2.05it/s]"
     ]
    },
    {
     "name": "stdout",
     "output_type": "stream",
     "text": [
      "[17.71270322]\n",
      "0.7978725136602237\n"
     ]
    },
    {
     "name": "stderr",
     "output_type": "stream",
     "text": [
      " 83%|████████▎ | 83/100 [00:40<00:08,  2.11it/s]"
     ]
    },
    {
     "name": "stdout",
     "output_type": "stream",
     "text": [
      "[14.48319356]\n",
      "0.6574708577608569\n"
     ]
    },
    {
     "name": "stderr",
     "output_type": "stream",
     "text": [
      " 84%|████████▍ | 84/100 [00:40<00:07,  2.13it/s]"
     ]
    },
    {
     "name": "stdout",
     "output_type": "stream",
     "text": [
      "[31.00512015]\n",
      "0.1397721145965286\n"
     ]
    },
    {
     "name": "stderr",
     "output_type": "stream",
     "text": [
      " 85%|████████▌ | 85/100 [00:41<00:07,  2.14it/s]"
     ]
    },
    {
     "name": "stdout",
     "output_type": "stream",
     "text": [
      "[12.40655034]\n",
      "0.09490881317327604\n"
     ]
    },
    {
     "name": "stderr",
     "output_type": "stream",
     "text": [
      " 86%|████████▌ | 86/100 [00:41<00:06,  2.15it/s]"
     ]
    },
    {
     "name": "stdout",
     "output_type": "stream",
     "text": [
      "[11.81593814]\n",
      "0.36787944117144233\n"
     ]
    },
    {
     "name": "stderr",
     "output_type": "stream",
     "text": [
      " 87%|████████▋ | 87/100 [00:42<00:06,  2.11it/s]"
     ]
    },
    {
     "name": "stdout",
     "output_type": "stream",
     "text": [
      "[29.20131344]\n",
      "0.013700505066699398\n"
     ]
    },
    {
     "name": "stderr",
     "output_type": "stream",
     "text": [
      " 88%|████████▊ | 88/100 [00:42<00:05,  2.07it/s]"
     ]
    },
    {
     "name": "stdout",
     "output_type": "stream",
     "text": [
      "[11.40785755]\n",
      "0.0531050171126054\n"
     ]
    },
    {
     "name": "stderr",
     "output_type": "stream",
     "text": [
      " 89%|████████▉ | 89/100 [00:43<00:05,  2.04it/s]"
     ]
    },
    {
     "name": "stdout",
     "output_type": "stream",
     "text": [
      "[22.05645388]\n",
      "0.24979947719340545\n"
     ]
    },
    {
     "name": "stderr",
     "output_type": "stream",
     "text": [
      " 90%|█████████ | 90/100 [00:43<00:04,  2.05it/s]"
     ]
    },
    {
     "name": "stdout",
     "output_type": "stream",
     "text": [
      "[33.7152419]\n",
      "0.05310501711260529\n"
     ]
    },
    {
     "name": "stderr",
     "output_type": "stream",
     "text": [
      " 91%|█████████ | 91/100 [00:44<00:04,  2.08it/s]"
     ]
    },
    {
     "name": "stdout",
     "output_type": "stream",
     "text": [
      "[13.81959535]\n",
      "0.036059654404263175\n"
     ]
    },
    {
     "name": "stderr",
     "output_type": "stream",
     "text": [
      " 92%|█████████▏| 92/100 [00:44<00:04,  1.91it/s]"
     ]
    },
    {
     "name": "stdout",
     "output_type": "stream",
     "text": [
      "[49.96826971]\n",
      "0.07820770578978964\n"
     ]
    },
    {
     "name": "stderr",
     "output_type": "stream",
     "text": [
      " 93%|█████████▎| 93/100 [00:45<00:03,  1.96it/s]"
     ]
    },
    {
     "name": "stdout",
     "output_type": "stream",
     "text": [
      "[20.2460118]\n",
      "0.8789456120040122\n"
     ]
    },
    {
     "name": "stderr",
     "output_type": "stream",
     "text": [
      " 94%|█████████▍| 94/100 [00:45<00:03,  1.97it/s]"
     ]
    },
    {
     "name": "stdout",
     "output_type": "stream",
     "text": [
      "[38.69055206]\n",
      "0.4052602577832697\n"
     ]
    },
    {
     "name": "stderr",
     "output_type": "stream",
     "text": [
      " 95%|█████████▌| 95/100 [00:46<00:02,  2.01it/s]"
     ]
    },
    {
     "name": "stdout",
     "output_type": "stream",
     "text": [
      "[78.30425787]\n",
      "0.1397721145965286\n"
     ]
    },
    {
     "name": "stderr",
     "output_type": "stream",
     "text": [
      " 96%|█████████▌| 96/100 [00:46<00:01,  2.04it/s]"
     ]
    },
    {
     "name": "stdout",
     "output_type": "stream",
     "text": [
      "[14.5824875]\n",
      "0.24979947719340545\n"
     ]
    },
    {
     "name": "stderr",
     "output_type": "stream",
     "text": [
      " 97%|█████████▋| 97/100 [00:47<00:01,  2.07it/s]"
     ]
    },
    {
     "name": "stdout",
     "output_type": "stream",
     "text": [
      "[16.55105214]\n",
      "0.24979947719340545\n"
     ]
    },
    {
     "name": "stderr",
     "output_type": "stream",
     "text": [
      " 98%|█████████▊| 98/100 [00:47<00:00,  2.10it/s]"
     ]
    },
    {
     "name": "stdout",
     "output_type": "stream",
     "text": [
      "[16.20289797]\n",
      "0.029714235677790413\n"
     ]
    },
    {
     "name": "stderr",
     "output_type": "stream",
     "text": [
      " 99%|█████████▉| 99/100 [00:48<00:00,  2.09it/s]"
     ]
    },
    {
     "name": "stdout",
     "output_type": "stream",
     "text": [
      "[11.56012867]\n",
      "0.8789456120040122\n"
     ]
    },
    {
     "name": "stderr",
     "output_type": "stream",
     "text": [
      "100%|██████████| 100/100 [00:48<00:00,  2.05it/s]"
     ]
    },
    {
     "name": "stdout",
     "output_type": "stream",
     "text": [
      "[14.3511009]\n",
      "0.9682566771439105\n"
     ]
    },
    {
     "name": "stderr",
     "output_type": "stream",
     "text": [
      "\n"
     ]
    }
   ],
   "source": [
    "# Resample with Dinstinct replacement resampling method\n",
    "\n",
    "l = 3\n",
    "\n",
    "count = 0\n",
    "\n",
    "for i in trange(100):\n",
    "    Y_source, X_source, V_source, Z_source, Y_target, X_target, V_target, Z_target = generate(ns,nt, p,q, s, t, u, Alpha_s = 0, Alpha_t = 2,effect=0)\n",
    "    # calculate density ratio\n",
    "    \n",
    "    true_dr = true_density_ratio(X_source[:5000], Z_source[:5000], V_source[:5000],s,t,p,q,Alpha_s = 0, Alpha_t = 2)\n",
    "    print(max(true_dr))\n",
    "    reg = 1\n",
    "    index = resample_DR(1000, true_dr)\n",
    "    Y_, X_, Z_, V_ = Y_source[index], X_source[index], Z_source[index], V_source[index]\n",
    "    _,statistic = PCRtest(Y_, X_, Z_, V_, u, s, t, L = l, K = 20, covariate_shift = False, density_ratio = None, regr = reg)\n",
    "    p_value = chi_squared_p_value(statistic, l-1)\n",
    "    print(p_value)\n",
    "    if p_value < 0.1:\n",
    "        count += 1\n",
    "probability = count/100"
   ]
  },
  {
   "cell_type": "code",
   "execution_count": 71,
   "id": "f157f112-e35d-4e56-8aca-59e13100d23e",
   "metadata": {},
   "outputs": [
    {
     "data": {
      "text/plain": [
       "0.33"
      ]
     },
     "execution_count": 71,
     "metadata": {},
     "output_type": "execute_result"
    }
   ],
   "source": [
    "probability"
   ]
  },
  {
   "cell_type": "code",
   "execution_count": 52,
   "id": "63cbe1fa-5d49-4e6c-84e3-fb67929e39e9",
   "metadata": {},
   "outputs": [
    {
     "name": "stderr",
     "output_type": "stream",
     "text": [
      "  0%|          | 1/200 [00:01<04:42,  1.42s/it]"
     ]
    },
    {
     "name": "stdout",
     "output_type": "stream",
     "text": [
      "0.23594642392730525\n"
     ]
    },
    {
     "name": "stderr",
     "output_type": "stream",
     "text": [
      "  1%|          | 2/200 [00:02<04:23,  1.33s/it]"
     ]
    },
    {
     "name": "stdout",
     "output_type": "stream",
     "text": [
      "0.2842562586689543\n"
     ]
    },
    {
     "name": "stderr",
     "output_type": "stream",
     "text": [
      "  2%|▏         | 3/200 [00:03<04:15,  1.30s/it]"
     ]
    },
    {
     "name": "stdout",
     "output_type": "stream",
     "text": [
      "0.16643334427146916\n"
     ]
    },
    {
     "name": "stderr",
     "output_type": "stream",
     "text": [
      "  2%|▏         | 4/200 [00:05<04:01,  1.23s/it]"
     ]
    },
    {
     "name": "stdout",
     "output_type": "stream",
     "text": [
      "0.06956187048195461\n"
     ]
    },
    {
     "name": "stderr",
     "output_type": "stream",
     "text": [
      "  2%|▎         | 5/200 [00:06<04:10,  1.28s/it]"
     ]
    },
    {
     "name": "stdout",
     "output_type": "stream",
     "text": [
      "0.026537828746792336\n"
     ]
    },
    {
     "name": "stderr",
     "output_type": "stream",
     "text": [
      "  3%|▎         | 6/200 [00:07<04:12,  1.30s/it]"
     ]
    },
    {
     "name": "stdout",
     "output_type": "stream",
     "text": [
      "0.7905631566364135\n"
     ]
    },
    {
     "name": "stderr",
     "output_type": "stream",
     "text": [
      "  4%|▎         | 7/200 [00:08<04:00,  1.24s/it]"
     ]
    },
    {
     "name": "stdout",
     "output_type": "stream",
     "text": [
      "0.12302182575282239\n"
     ]
    },
    {
     "name": "stderr",
     "output_type": "stream",
     "text": [
      "  4%|▍         | 8/200 [00:10<04:00,  1.25s/it]"
     ]
    },
    {
     "name": "stdout",
     "output_type": "stream",
     "text": [
      "0.9267287560963762\n"
     ]
    },
    {
     "name": "stderr",
     "output_type": "stream",
     "text": [
      "  4%|▍         | 9/200 [00:11<03:53,  1.22s/it]"
     ]
    },
    {
     "name": "stdout",
     "output_type": "stream",
     "text": [
      "0.5323538111859532\n"
     ]
    },
    {
     "name": "stderr",
     "output_type": "stream",
     "text": [
      "  5%|▌         | 10/200 [00:12<03:55,  1.24s/it]"
     ]
    },
    {
     "name": "stdout",
     "output_type": "stream",
     "text": [
      "0.6868495652678883\n"
     ]
    },
    {
     "name": "stderr",
     "output_type": "stream",
     "text": [
      "  6%|▌         | 11/200 [00:13<03:58,  1.26s/it]"
     ]
    },
    {
     "name": "stdout",
     "output_type": "stream",
     "text": [
      "0.3840302785619858\n"
     ]
    },
    {
     "name": "stderr",
     "output_type": "stream",
     "text": [
      "  6%|▌         | 12/200 [00:15<03:53,  1.24s/it]"
     ]
    },
    {
     "name": "stdout",
     "output_type": "stream",
     "text": [
      "0.8566553233339844\n"
     ]
    },
    {
     "name": "stderr",
     "output_type": "stream",
     "text": [
      "  6%|▋         | 13/200 [00:16<03:46,  1.21s/it]"
     ]
    },
    {
     "name": "stdout",
     "output_type": "stream",
     "text": [
      "0.987709662920052\n"
     ]
    },
    {
     "name": "stderr",
     "output_type": "stream",
     "text": [
      "  7%|▋         | 14/200 [00:17<03:43,  1.20s/it]"
     ]
    },
    {
     "name": "stdout",
     "output_type": "stream",
     "text": [
      "0.15757154297703235\n"
     ]
    },
    {
     "name": "stderr",
     "output_type": "stream",
     "text": [
      "  8%|▊         | 15/200 [00:18<03:38,  1.18s/it]"
     ]
    },
    {
     "name": "stdout",
     "output_type": "stream",
     "text": [
      "0.12665613936291065\n"
     ]
    },
    {
     "name": "stderr",
     "output_type": "stream",
     "text": [
      "  8%|▊         | 16/200 [00:19<03:31,  1.15s/it]"
     ]
    },
    {
     "name": "stdout",
     "output_type": "stream",
     "text": [
      "0.560857539478349\n"
     ]
    },
    {
     "name": "stderr",
     "output_type": "stream",
     "text": [
      "  8%|▊         | 17/200 [00:20<03:33,  1.17s/it]"
     ]
    },
    {
     "name": "stdout",
     "output_type": "stream",
     "text": [
      "0.20533330214780698\n"
     ]
    },
    {
     "name": "stderr",
     "output_type": "stream",
     "text": [
      "  9%|▉         | 18/200 [00:22<03:33,  1.18s/it]"
     ]
    },
    {
     "name": "stdout",
     "output_type": "stream",
     "text": [
      "0.560857539478349\n"
     ]
    },
    {
     "name": "stderr",
     "output_type": "stream",
     "text": [
      " 10%|▉         | 19/200 [00:23<03:35,  1.19s/it]"
     ]
    },
    {
     "name": "stdout",
     "output_type": "stream",
     "text": [
      "0.6324414509404743\n"
     ]
    },
    {
     "name": "stderr",
     "output_type": "stream",
     "text": [
      " 10%|█         | 20/200 [00:24<03:49,  1.28s/it]"
     ]
    },
    {
     "name": "stdout",
     "output_type": "stream",
     "text": [
      "0.6801467340878377\n"
     ]
    },
    {
     "name": "stderr",
     "output_type": "stream",
     "text": [
      " 10%|█         | 20/200 [00:25<03:52,  1.29s/it]\n"
     ]
    },
    {
     "ename": "KeyboardInterrupt",
     "evalue": "",
     "output_type": "error",
     "traceback": [
      "\u001b[0;31m---------------------------------------------------------------------------\u001b[0m",
      "\u001b[0;31mKeyboardInterrupt\u001b[0m                         Traceback (most recent call last)",
      "Cell \u001b[0;32mIn[52], line 13\u001b[0m\n\u001b[1;32m     10\u001b[0m D_s \u001b[38;5;241m=\u001b[39m np\u001b[38;5;241m.\u001b[39mconcatenate((X_source, Z_source, V_source), axis \u001b[38;5;241m=\u001b[39m \u001b[38;5;241m1\u001b[39m)\n\u001b[1;32m     11\u001b[0m D_t \u001b[38;5;241m=\u001b[39m np\u001b[38;5;241m.\u001b[39mconcatenate((X_target, Z_target, V_target), axis \u001b[38;5;241m=\u001b[39m \u001b[38;5;241m1\u001b[39m)\n\u001b[0;32m---> 13\u001b[0m true_dr \u001b[38;5;241m=\u001b[39m \u001b[43mtrue_density_ratio\u001b[49m\u001b[43m(\u001b[49m\u001b[43mX_source\u001b[49m\u001b[43m[\u001b[49m\u001b[43m:\u001b[49m\u001b[38;5;241;43m5000\u001b[39;49m\u001b[43m]\u001b[49m\u001b[43m,\u001b[49m\u001b[43m \u001b[49m\u001b[43mZ_source\u001b[49m\u001b[43m[\u001b[49m\u001b[43m:\u001b[49m\u001b[38;5;241;43m5000\u001b[39;49m\u001b[43m]\u001b[49m\u001b[43m,\u001b[49m\u001b[43m \u001b[49m\u001b[43mV_source\u001b[49m\u001b[43m[\u001b[49m\u001b[43m:\u001b[49m\u001b[38;5;241;43m5000\u001b[39;49m\u001b[43m]\u001b[49m\u001b[43m,\u001b[49m\u001b[43ms\u001b[49m\u001b[43m,\u001b[49m\u001b[43mt\u001b[49m\u001b[43m,\u001b[49m\u001b[43mp\u001b[49m\u001b[43m,\u001b[49m\u001b[43mq\u001b[49m\u001b[43m,\u001b[49m\u001b[43mAlpha_s\u001b[49m\u001b[43m \u001b[49m\u001b[38;5;241;43m=\u001b[39;49m\u001b[43m \u001b[49m\u001b[38;5;241;43m0\u001b[39;49m\u001b[43m,\u001b[49m\u001b[43m \u001b[49m\u001b[43mAlpha_t\u001b[49m\u001b[43m \u001b[49m\u001b[38;5;241;43m=\u001b[39;49m\u001b[43m \u001b[49m\u001b[38;5;241;43m2\u001b[39;49m\u001b[43m)\u001b[49m\n\u001b[1;32m     14\u001b[0m Max \u001b[38;5;241m=\u001b[39m np\u001b[38;5;241m.\u001b[39mmax(true_dr)\n\u001b[1;32m     15\u001b[0m Min \u001b[38;5;241m=\u001b[39m np\u001b[38;5;241m.\u001b[39mmin(true_dr)\n",
      "Cell \u001b[0;32mIn[50], line 67\u001b[0m, in \u001b[0;36mtrue_density_ratio\u001b[0;34m(X, Z, V, s, t, p, q, Alpha_s, Alpha_t, z_diff)\u001b[0m\n\u001b[1;32m     65\u001b[0m \u001b[38;5;28;01mfor\u001b[39;00m i \u001b[38;5;129;01min\u001b[39;00m \u001b[38;5;28mrange\u001b[39m(size):\n\u001b[1;32m     66\u001b[0m     zs_prob \u001b[38;5;241m=\u001b[39m multivariate_normal\u001b[38;5;241m.\u001b[39mpdf(Z[i][:p], mean \u001b[38;5;241m=\u001b[39m \u001b[38;5;241m0\u001b[39m\u001b[38;5;241m*\u001b[39mnp\u001b[38;5;241m.\u001b[39mones(p), cov\u001b[38;5;241m=\u001b[39m \u001b[38;5;241m1\u001b[39m\u001b[38;5;241m*\u001b[39mnp\u001b[38;5;241m.\u001b[39midentity(p))\n\u001b[0;32m---> 67\u001b[0m     vs_prob \u001b[38;5;241m=\u001b[39m \u001b[43mnorm\u001b[49m\u001b[38;5;241;43m.\u001b[39;49m\u001b[43mpdf\u001b[49m\u001b[43m(\u001b[49m\u001b[43mV\u001b[49m\u001b[43m[\u001b[49m\u001b[43mi\u001b[49m\u001b[43m]\u001b[49m\u001b[43m,\u001b[49m\u001b[43m \u001b[49m\u001b[43mloc\u001b[49m\u001b[38;5;241;43m=\u001b[39;49m\u001b[43mZ\u001b[49m\u001b[43m[\u001b[49m\u001b[43mi\u001b[49m\u001b[43m]\u001b[49m\u001b[43m[\u001b[49m\u001b[43m:\u001b[49m\u001b[43mp\u001b[49m\u001b[43m]\u001b[49m\u001b[38;5;129;43m@s\u001b[39;49m\u001b[43m \u001b[49m\u001b[38;5;241;43m+\u001b[39;49m\u001b[43m \u001b[49m\u001b[43mAlpha_s\u001b[49m\u001b[38;5;241;43m*\u001b[39;49m\u001b[43mX\u001b[49m\u001b[43m[\u001b[49m\u001b[43mi\u001b[49m\u001b[43m]\u001b[49m\u001b[43m,\u001b[49m\u001b[43m \u001b[49m\u001b[43mscale\u001b[49m\u001b[43m \u001b[49m\u001b[38;5;241;43m=\u001b[39;49m\u001b[38;5;241;43m5\u001b[39;49m\u001b[43m)\u001b[49m\n\u001b[1;32m     68\u001b[0m     zt_prob \u001b[38;5;241m=\u001b[39m multivariate_normal\u001b[38;5;241m.\u001b[39mpdf(Z[i][:p], mean \u001b[38;5;241m=\u001b[39m z_diff\u001b[38;5;241m*\u001b[39mnp\u001b[38;5;241m.\u001b[39mones(p), cov\u001b[38;5;241m=\u001b[39m \u001b[38;5;241m1\u001b[39m\u001b[38;5;241m*\u001b[39mnp\u001b[38;5;241m.\u001b[39midentity(p))\n\u001b[1;32m     69\u001b[0m     vt_prob \u001b[38;5;241m=\u001b[39m norm\u001b[38;5;241m.\u001b[39mpdf(V[i], loc\u001b[38;5;241m=\u001b[39mZ[i][:p]\u001b[38;5;129m@t\u001b[39m \u001b[38;5;241m+\u001b[39m Alpha_t\u001b[38;5;241m*\u001b[39mX[i], scale \u001b[38;5;241m=\u001b[39m\u001b[38;5;241m5\u001b[39m)\n",
      "File \u001b[0;32m~/opt/anaconda3/lib/python3.9/site-packages/scipy/stats/_distn_infrastructure.py:2094\u001b[0m, in \u001b[0;36mrv_continuous.pdf\u001b[0;34m(self, x, *args, **kwds)\u001b[0m\n\u001b[1;32m   2092\u001b[0m dtyp \u001b[38;5;241m=\u001b[39m np\u001b[38;5;241m.\u001b[39mpromote_types(x\u001b[38;5;241m.\u001b[39mdtype, np\u001b[38;5;241m.\u001b[39mfloat64)\n\u001b[1;32m   2093\u001b[0m x \u001b[38;5;241m=\u001b[39m np\u001b[38;5;241m.\u001b[39masarray((x \u001b[38;5;241m-\u001b[39m loc)\u001b[38;5;241m/\u001b[39mscale, dtype\u001b[38;5;241m=\u001b[39mdtyp)\n\u001b[0;32m-> 2094\u001b[0m cond0 \u001b[38;5;241m=\u001b[39m \u001b[38;5;28;43mself\u001b[39;49m\u001b[38;5;241;43m.\u001b[39;49m\u001b[43m_argcheck\u001b[49m\u001b[43m(\u001b[49m\u001b[38;5;241;43m*\u001b[39;49m\u001b[43margs\u001b[49m\u001b[43m)\u001b[49m\u001b[43m \u001b[49m\u001b[38;5;241;43m&\u001b[39;49m\u001b[43m \u001b[49m\u001b[43m(\u001b[49m\u001b[43mscale\u001b[49m\u001b[43m \u001b[49m\u001b[38;5;241;43m>\u001b[39;49m\u001b[43m \u001b[49m\u001b[38;5;241;43m0\u001b[39;49m\u001b[43m)\u001b[49m\n\u001b[1;32m   2095\u001b[0m cond1 \u001b[38;5;241m=\u001b[39m \u001b[38;5;28mself\u001b[39m\u001b[38;5;241m.\u001b[39m_support_mask(x, \u001b[38;5;241m*\u001b[39margs) \u001b[38;5;241m&\u001b[39m (scale \u001b[38;5;241m>\u001b[39m \u001b[38;5;241m0\u001b[39m)\n\u001b[1;32m   2096\u001b[0m cond \u001b[38;5;241m=\u001b[39m cond0 \u001b[38;5;241m&\u001b[39m cond1\n",
      "\u001b[0;31mKeyboardInterrupt\u001b[0m: "
     ]
    }
   ],
   "source": [
    "# Resample with a uniformly bounded density ratio\n",
    "\n",
    "l = 20\n",
    "\n",
    "count = 0\n",
    "\n",
    "for i in trange(200):\n",
    "    Y_source, X_source, V_source, Z_source, Y_target, X_target, V_target, Z_target = generate(ns,nt, p,q, s, t, u, Alpha_s = 0, Alpha_t = 2)\n",
    "    # calculate density ratio\n",
    "    D_s = np.concatenate((X_source, Z_source, V_source), axis = 1)\n",
    "    D_t = np.concatenate((X_target, Z_target, V_target), axis = 1)\n",
    "\n",
    "    true_dr = true_density_ratio(X_source[:5000], Z_source[:5000], V_source[:5000],s,t,p,q,Alpha_s = 0, Alpha_t = 2)\n",
    "    Max = np.max(true_dr)\n",
    "    Min = np.min(true_dr)\n",
    "\n",
    "    \n",
    "    # sample_density_ratio2 = density_ratio_estimate_prob_LR(D_t, D_s)\n",
    "\n",
    "    reg = 1\n",
    "    Y_, X_, Z_, V_ = resample(Y_source[:5000], X_source[:5000], Z_source[:5000], V_source[:5000], M =Max, density_ratio=true_dr)\n",
    "    _,statistic = PCRtest(Y_, X_, Z_, V_, u, s, t, L = l, K = 20, covariate_shift = False, density_ratio = None, regr = reg)\n",
    "    p_value = chi_squared_p_value(statistic, l-1)\n",
    "    print(p_value)\n",
    "    if p_value < 0.1:\n",
    "        count += 1\n",
    "probability = count/200"
   ]
  },
  {
   "cell_type": "code",
   "execution_count": null,
   "id": "72d64dc8-ec3e-42ae-bf3f-84c59ebe9618",
   "metadata": {},
   "outputs": [],
   "source": [
    "probability"
   ]
  },
  {
   "cell_type": "markdown",
   "id": "db806744-0782-403a-bedf-cba165bdc3a9",
   "metadata": {},
   "source": [
    "# Multiple testing"
   ]
  },
  {
   "cell_type": "code",
   "execution_count": 87,
   "id": "8aa0f9be-c722-489d-9eca-31d0b7c99607",
   "metadata": {},
   "outputs": [],
   "source": [
    "import numpy as np\n",
    "\n",
    "# 定义矩阵的维度和列数\n",
    "p = 5  # 维度\n",
    "k = 200  # 列数\n",
    "\n",
    "# 生成u_matrix，每列都是从N(0, 1, p)中随机采样的值\n",
    "u_matrix = np.random.normal(0, 1, (p, k))\n",
    "\n"
   ]
  },
  {
   "cell_type": "code",
   "execution_count": 135,
   "id": "34c0a496-48fc-4709-b702-f2d5b1aad2f9",
   "metadata": {},
   "outputs": [],
   "source": [
    "Y_source, X_source, V_source, Z_source, Y_target, X_target, V_target, Z_target = generate_multiple(ns,nt, p,q, s, t, u_matrix, Alpha_s = np.zeros(200),Alpha_t = np.concatenate((np.ones(100), np.zeros(100))))"
   ]
  },
  {
   "cell_type": "code",
   "execution_count": 140,
   "id": "e1cf349a-d00d-47dd-bb00-2de692bf04c7",
   "metadata": {},
   "outputs": [
    {
     "data": {
      "text/plain": [
       "(200,)"
      ]
     },
     "execution_count": 140,
     "metadata": {},
     "output_type": "execute_result"
    }
   ],
   "source": [
    "X_source[1].shape"
   ]
  },
  {
   "cell_type": "code",
   "execution_count": 250,
   "id": "804d2db2-3ffd-4b4c-aece-69f11b075201",
   "metadata": {},
   "outputs": [],
   "source": [
    "# Carry out multiple testing\n",
    "import numpy as np\n",
    "\n",
    "\n",
    "def multiple_test(u_mat, l, K):\n",
    "    n_labeled = 1000\n",
    "    \n",
    "    Y_source, X_source, V_source, Z_source, Y_target, X_target, V_target, Z_target = \\\n",
    "    generate_multiple(ns,nt, p,q, s, t, u_matrix, Alpha_s = np.zeros(200),Alpha_t = np.concatenate((np.zeros(150), 2*np.ones(50))))\n",
    "    \n",
    "    # geerate a list to store the p-values\n",
    "    p_value_lst = []\n",
    "    \n",
    "    # Do testing for each X, since they are independent, we just condition on Z\n",
    "    for i in range(X_source.shape[1]):\n",
    "        \n",
    "        new_X_s, new_X_t = X_source[:,i].reshape(-1,1), X_target[:,i].reshape(-1,1)\n",
    "        \n",
    "        # Should consider all X and Z when estimating conditional model of V\n",
    "        v_dr = v_true_ratio_multiple(X_source, Z_source, V_source, s,t,p,q,Alpha_s = np.zeros(200),Alpha_t = np.concatenate((np.zeros(150), 2*np.ones(50))))[:1000]\n",
    "        xz_dr = xz_ratio(X_source,Z_source, V_source, s,t,p,q)[:1000].reshape(-1,1)\n",
    "        # print(v_dr.shape)\n",
    "        # print(xz_dr.shape)\n",
    "        est_dr = v_dr * xz_dr\n",
    "        reg=1\n",
    "    \n",
    "        # true_dr = true_density_ratio(new_X[:n_labeled], new_Z[:n_labeled], new_V[:n_labeled],s,t,p,q,Alpha_s = 1, Alpha_t = 0)\n",
    "        u = u_mat[:,i]\n",
    "        \n",
    "        cov1 = generate_cov_matrix(Y_source[:n_labeled], new_X_s[:n_labeled], Z_source[:n_labeled],V_source[:n_labeled],u,s,t, L = l, K = 20, density_ratio = est_dr, regr = reg)\n",
    "\n",
    "        w, statistic = PCRtest(Y_source[:n_labeled], new_X_s[:n_labeled], Z_source[:n_labeled],V_source[:n_labeled],u,s,t, L = l, K = 20, covariate_shift = True, density_ratio = est_dr, regr = reg)\n",
    "        \n",
    "        weight = abs(la.eigh(cov1)[0])\n",
    "        print(weight)\n",
    "        p_value = 1-mchi.hbe(coeff=weight, x=statistic)\n",
    "        p_value_lst.append(p_value)\n",
    "        print(p_value)\n",
    "    # Rank the p-values and get the ranked index\n",
    "    rejection_list = [0] * len(p_value_lst)\n",
    "\n",
    "   \n",
    "    sorted_indices = sorted(range(len(p_value_lst)), key=lambda i: p_value_lst[i])\n",
    "\n",
    "    # calculate the threshold value after Benjamini-Hochberg correction\n",
    "    threshold_values = [(i / len(sorted_indices)) * q for i in range(1, len(sorted_indices) + 1)]\n",
    "\n",
    "    # Decide to reject the hypothesis or not\n",
    "    for i in range(len(sorted_indices)):\n",
    "        if p_value_lst[sorted_indices[i]] <= threshold_values[i]:\n",
    "            rejection_list[sorted_indices[i]] = 1\n",
    "\n",
    "    return rejection_list\n",
    "\n",
    "\n",
    "\n",
    "\n",
    "\n",
    "\n",
    "        \n",
    "        "
   ]
  },
  {
   "cell_type": "code",
   "execution_count": 251,
   "id": "adf0f86c-d907-47aa-bb31-8c0cf15bc635",
   "metadata": {
    "tags": []
   },
   "outputs": [
    {
     "name": "stdout",
     "output_type": "stream",
     "text": [
      "[ 1.26147706  8.36886849 52.45419243]\n",
      "0.034424667569626255\n",
      "[ 7.36781895 10.4852422  44.23147683]\n",
      "0.01866303024663052\n",
      "[ 0.65760652  3.91217083 57.51476063]\n",
      "0.019348305891388917\n",
      "[ 3.95626649  5.04887211 53.07939938]\n",
      "0.03595559525138947\n",
      "[ 1.92583283 10.50596979 49.65273537]\n",
      "0.03720346689005716\n",
      "[ 0.12899036  5.72670814 56.4868202 ]\n",
      "0.03821887485677067\n",
      "[3.87822091e-02 8.13500406e+00 5.39107517e+01]\n",
      "0.03440932300833488\n",
      "[ 0.51284895  1.19115929 60.38052973]\n",
      "0.01910986840108686\n",
      "[ 4.34388781 15.51529611 42.22535406]\n",
      "0.03979910491184002\n",
      "[ 4.27200537 11.03667635 46.77585626]\n",
      "0.03640353586416434\n",
      "[ 1.05566803  8.79322613 52.23564382]\n",
      "0.03830957466494389\n",
      "[ 0.12051044  1.38474944 60.5792781 ]\n",
      "0.027960984802488764\n",
      "[ 0.48580025  3.9096108  57.68912694]\n",
      "0.021266776854250713\n"
     ]
    },
    {
     "ename": "KeyboardInterrupt",
     "evalue": "",
     "output_type": "error",
     "traceback": [
      "\u001b[0;31m---------------------------------------------------------------------------\u001b[0m",
      "\u001b[0;31mKeyboardInterrupt\u001b[0m                         Traceback (most recent call last)",
      "Cell \u001b[0;32mIn[251], line 1\u001b[0m\n\u001b[0;32m----> 1\u001b[0m rejection_lst \u001b[38;5;241m=\u001b[39m \u001b[43mmultiple_test\u001b[49m\u001b[43m(\u001b[49m\u001b[43mu_matrix\u001b[49m\u001b[43m,\u001b[49m\u001b[43m \u001b[49m\u001b[38;5;241;43m3\u001b[39;49m\u001b[43m,\u001b[49m\u001b[43m \u001b[49m\u001b[38;5;241;43m20\u001b[39;49m\u001b[43m)\u001b[49m\n",
      "Cell \u001b[0;32mIn[250], line 32\u001b[0m, in \u001b[0;36mmultiple_test\u001b[0;34m(u_mat, l, K)\u001b[0m\n\u001b[1;32m     28\u001b[0m u \u001b[38;5;241m=\u001b[39m u_mat[:,i]\n\u001b[1;32m     30\u001b[0m cov1 \u001b[38;5;241m=\u001b[39m generate_cov_matrix(Y_source[:n_labeled], new_X_s[:n_labeled], Z_source[:n_labeled],V_source[:n_labeled],u,s,t, L \u001b[38;5;241m=\u001b[39m l, K \u001b[38;5;241m=\u001b[39m \u001b[38;5;241m20\u001b[39m, density_ratio \u001b[38;5;241m=\u001b[39m est_dr, regr \u001b[38;5;241m=\u001b[39m reg)\n\u001b[0;32m---> 32\u001b[0m w, statistic \u001b[38;5;241m=\u001b[39m \u001b[43mPCRtest\u001b[49m\u001b[43m(\u001b[49m\u001b[43mY_source\u001b[49m\u001b[43m[\u001b[49m\u001b[43m:\u001b[49m\u001b[43mn_labeled\u001b[49m\u001b[43m]\u001b[49m\u001b[43m,\u001b[49m\u001b[43m \u001b[49m\u001b[43mnew_X_s\u001b[49m\u001b[43m[\u001b[49m\u001b[43m:\u001b[49m\u001b[43mn_labeled\u001b[49m\u001b[43m]\u001b[49m\u001b[43m,\u001b[49m\u001b[43m \u001b[49m\u001b[43mZ_source\u001b[49m\u001b[43m[\u001b[49m\u001b[43m:\u001b[49m\u001b[43mn_labeled\u001b[49m\u001b[43m]\u001b[49m\u001b[43m,\u001b[49m\u001b[43mV_source\u001b[49m\u001b[43m[\u001b[49m\u001b[43m:\u001b[49m\u001b[43mn_labeled\u001b[49m\u001b[43m]\u001b[49m\u001b[43m,\u001b[49m\u001b[43mu\u001b[49m\u001b[43m,\u001b[49m\u001b[43ms\u001b[49m\u001b[43m,\u001b[49m\u001b[43mt\u001b[49m\u001b[43m,\u001b[49m\u001b[43m \u001b[49m\u001b[43mL\u001b[49m\u001b[43m \u001b[49m\u001b[38;5;241;43m=\u001b[39;49m\u001b[43m \u001b[49m\u001b[43ml\u001b[49m\u001b[43m,\u001b[49m\u001b[43m \u001b[49m\u001b[43mK\u001b[49m\u001b[43m \u001b[49m\u001b[38;5;241;43m=\u001b[39;49m\u001b[43m \u001b[49m\u001b[38;5;241;43m20\u001b[39;49m\u001b[43m,\u001b[49m\u001b[43m \u001b[49m\u001b[43mcovariate_shift\u001b[49m\u001b[43m \u001b[49m\u001b[38;5;241;43m=\u001b[39;49m\u001b[43m \u001b[49m\u001b[38;5;28;43;01mTrue\u001b[39;49;00m\u001b[43m,\u001b[49m\u001b[43m \u001b[49m\u001b[43mdensity_ratio\u001b[49m\u001b[43m \u001b[49m\u001b[38;5;241;43m=\u001b[39;49m\u001b[43m \u001b[49m\u001b[43mest_dr\u001b[49m\u001b[43m,\u001b[49m\u001b[43m \u001b[49m\u001b[43mregr\u001b[49m\u001b[43m \u001b[49m\u001b[38;5;241;43m=\u001b[39;49m\u001b[43m \u001b[49m\u001b[43mreg\u001b[49m\u001b[43m)\u001b[49m\n\u001b[1;32m     34\u001b[0m weight \u001b[38;5;241m=\u001b[39m \u001b[38;5;28mabs\u001b[39m(la\u001b[38;5;241m.\u001b[39meigh(cov1)[\u001b[38;5;241m0\u001b[39m])\n\u001b[1;32m     35\u001b[0m \u001b[38;5;28mprint\u001b[39m(weight)\n",
      "Cell \u001b[0;32mIn[154], line 198\u001b[0m, in \u001b[0;36mPCRtest\u001b[0;34m(Y, X, Z, V, u, s, t, L, K, covariate_shift, density_ratio, regr)\u001b[0m\n\u001b[1;32m    196\u001b[0m y, x, z, v \u001b[38;5;241m=\u001b[39m Y[j], X[j], Z[j], V[j]\n\u001b[1;32m    197\u001b[0m \u001b[38;5;28;01mif\u001b[39;00m covariate_shift \u001b[38;5;241m==\u001b[39m \u001b[38;5;28;01mTrue\u001b[39;00m:\n\u001b[0;32m--> 198\u001b[0m     ind \u001b[38;5;241m=\u001b[39m \u001b[43mConterfeits\u001b[49m\u001b[43m(\u001b[49m\u001b[43my\u001b[49m\u001b[43m,\u001b[49m\u001b[43m \u001b[49m\u001b[43mx\u001b[49m\u001b[43m,\u001b[49m\u001b[43m \u001b[49m\u001b[43mz\u001b[49m\u001b[43m,\u001b[49m\u001b[43m \u001b[49m\u001b[43mv\u001b[49m\u001b[43m,\u001b[49m\u001b[43m \u001b[49m\u001b[43mu\u001b[49m\u001b[43m,\u001b[49m\u001b[43ms\u001b[49m\u001b[43m,\u001b[49m\u001b[43m \u001b[49m\u001b[43mt\u001b[49m\u001b[43m,\u001b[49m\u001b[43m \u001b[49m\u001b[43mL\u001b[49m\u001b[43m,\u001b[49m\u001b[43m \u001b[49m\u001b[43mK\u001b[49m\u001b[43m,\u001b[49m\u001b[43m \u001b[49m\u001b[43mregr\u001b[49m\u001b[43m)\u001b[49m\n\u001b[1;32m    199\u001b[0m     W[ind] \u001b[38;5;241m+\u001b[39m\u001b[38;5;241m=\u001b[39m density_ratio[j]\n\u001b[1;32m    202\u001b[0m \u001b[38;5;28;01mif\u001b[39;00m covariate_shift \u001b[38;5;241m==\u001b[39m \u001b[38;5;28;01mFalse\u001b[39;00m:\n",
      "Cell \u001b[0;32mIn[154], line 185\u001b[0m, in \u001b[0;36mConterfeits\u001b[0;34m(y, x, z, v, u, s, t, L, K, regr)\u001b[0m\n\u001b[1;32m    183\u001b[0m \u001b[38;5;28;01mfor\u001b[39;00m i \u001b[38;5;129;01min\u001b[39;00m \u001b[38;5;28mrange\u001b[39m(M):\n\u001b[1;32m    184\u001b[0m     x_ \u001b[38;5;241m=\u001b[39m Model_X(z, v, u)\n\u001b[0;32m--> 185\u001b[0m     \u001b[38;5;28;01mif\u001b[39;00m t_stat \u001b[38;5;241m>\u001b[39m \u001b[43mT_statistic\u001b[49m\u001b[43m(\u001b[49m\u001b[43my\u001b[49m\u001b[43m,\u001b[49m\u001b[43m \u001b[49m\u001b[43mx_\u001b[49m\u001b[43m,\u001b[49m\u001b[43m \u001b[49m\u001b[43mz\u001b[49m\u001b[43m,\u001b[49m\u001b[43m \u001b[49m\u001b[43mv\u001b[49m\u001b[43m,\u001b[49m\u001b[43m \u001b[49m\u001b[43mu\u001b[49m\u001b[43m,\u001b[49m\u001b[43ms\u001b[49m\u001b[43m,\u001b[49m\u001b[43m \u001b[49m\u001b[43mt\u001b[49m\u001b[43m,\u001b[49m\u001b[43m \u001b[49m\u001b[43mregr\u001b[49m\u001b[43m)\u001b[49m:\n\u001b[1;32m    186\u001b[0m         cnt\u001b[38;5;241m=\u001b[39mcnt\u001b[38;5;241m+\u001b[39m\u001b[38;5;241m1\u001b[39m\n\u001b[1;32m    188\u001b[0m \u001b[38;5;28;01mreturn\u001b[39;00m cnt \u001b[38;5;241m/\u001b[39m\u001b[38;5;241m/\u001b[39m K\n",
      "Cell \u001b[0;32mIn[154], line 175\u001b[0m, in \u001b[0;36mT_statistic\u001b[0;34m(y, x, z, v, u, s, t, regr)\u001b[0m\n\u001b[1;32m    172\u001b[0m     d_x \u001b[38;5;241m=\u001b[39m z[:\u001b[38;5;241m5\u001b[39m]\u001b[38;5;129m@u\u001b[39m\n\u001b[1;32m    174\u001b[0m \u001b[38;5;66;03m#     return np.abs(((y-d_y)*(x-d_x)))\u001b[39;00m\n\u001b[0;32m--> 175\u001b[0m     \u001b[38;5;28;01mreturn\u001b[39;00m y\u001b[38;5;241m*\u001b[39m(\u001b[43mx\u001b[49m\u001b[38;5;241;43m-\u001b[39;49m\u001b[43md_x\u001b[49m)\n",
      "\u001b[0;31mKeyboardInterrupt\u001b[0m: "
     ]
    }
   ],
   "source": [
    "rejection_lst = multiple_test(u_matrix, 3, 20)"
   ]
  },
  {
   "cell_type": "code",
   "execution_count": 125,
   "id": "cccca581-56df-400a-85ec-f668def69456",
   "metadata": {},
   "outputs": [
    {
     "data": {
      "text/plain": [
       "(5000, 55)"
      ]
     },
     "execution_count": 125,
     "metadata": {},
     "output_type": "execute_result"
    }
   ],
   "source": [
    "Z_source.shape"
   ]
  },
  {
   "cell_type": "code",
   "execution_count": 36,
   "id": "a705175a-2068-404e-a7c0-576147a91fd7",
   "metadata": {},
   "outputs": [
    {
     "data": {
      "text/plain": [
       "(5, 200)"
      ]
     },
     "execution_count": 36,
     "metadata": {},
     "output_type": "execute_result"
    }
   ],
   "source": [
    "u_matrix.shape"
   ]
  },
  {
   "cell_type": "code",
   "execution_count": 53,
   "id": "a6488935-818f-428a-b08a-e7a5f6b6eec7",
   "metadata": {
    "collapsed": true,
    "jupyter": {
     "outputs_hidden": true
    },
    "tags": []
   },
   "outputs": [
    {
     "name": "stdout",
     "output_type": "stream",
     "text": [
      "0.0006231139347590009\n",
      "0.07058784135313068\n",
      "0.020930697653550268\n",
      "0.013119360640405753\n",
      "0.0013731189617061101\n",
      "0.008252373416082981\n",
      "0.25061072800489625\n",
      "0.00028092024125525583\n",
      "0.001889040259746011\n",
      "0.0038197962135700925\n",
      "0.07460385088205834\n",
      "1.2529361060775734e-05\n",
      "0.006202319922406385\n",
      "0.00012952626273410317\n",
      "0.009710609157052574\n",
      "0.004973018417564923\n",
      "0.0037990480202837462\n",
      "5.475431506984929e-05\n",
      "0.024191368369945843\n",
      "0.4832876205987019\n",
      "0.013749540529800375\n",
      "0.00014637129551764438\n",
      "4.8451048859199375e-05\n",
      "0.0049515091024346924\n",
      "0.0011781527434436834\n",
      "0.05310265008891191\n",
      "0.15346380967158335\n",
      "0.3754186887614075\n",
      "0.03551443414371924\n",
      "5.5059825702419296e-05\n",
      "0.005463430070472786\n",
      "0.019667690914556668\n",
      "0.0009266266771663645\n",
      "0.31738184439782224\n",
      "0.027714898373963903\n",
      "0.0032501953327529476\n",
      "0.00185954680874989\n",
      "0.044060562126457814\n",
      "0.004202556114190403\n",
      "0.061570336312325336\n",
      "0.0033092978189966926\n",
      "2.5276712478650154e-06\n",
      "0.037988784517291374\n",
      "0.0028149193580552234\n",
      "0.01163535172277319\n",
      "7.232689105229895e-05\n",
      "0.0038376820586200067\n",
      "0.004816336822575429\n",
      "0.2465769533701777\n",
      "0.0001120829449033911\n",
      "0.054772741089959553\n",
      "0.12285644961331699\n",
      "0.02068217001812056\n",
      "0.0015109986735134529\n",
      "0.008199706883927016\n",
      "0.08777630564529748\n",
      "0.0007422830481946807\n",
      "0.2546667371897662\n",
      "0.010186636913971925\n",
      "0.004585924819368481\n",
      "0.00010894101898373254\n",
      "0.06809018624629326\n",
      "0.0010788750921856272\n",
      "0.5084309916071221\n",
      "0.09520529805326705\n",
      "0.029047077831046098\n",
      "6.447476599580337e-05\n",
      "0.0007626615842304396\n",
      "0.005160560599485553\n",
      "0.0004080500206784521\n",
      "0.00016273995519022755\n",
      "0.016966710237670823\n",
      "0.10879109573846624\n",
      "0.0032931225544120535\n",
      "0.3070093591716506\n",
      "0.007777498291346219\n",
      "0.487376981863597\n",
      "0.023521777411427358\n",
      "0.0006212086417600737\n",
      "0.0024861406119974783\n",
      "9.313321983439593e-05\n",
      "0.008151443267546243\n",
      "0.0763506204340838\n",
      "0.00165340931582314\n",
      "0.00028422997039434517\n",
      "0.017304536524785474\n",
      "2.7002761497807448e-05\n",
      "0.0004162336952778789\n",
      "0.0016871465115428919\n",
      "0.000500475056138594\n",
      "0.07474877415523962\n",
      "0.0014288482890498777\n",
      "0.004934860978695332\n",
      "0.0024135061136072444\n",
      "0.010306406349527952\n",
      "0.002251667791338008\n",
      "5.285449650616059e-06\n",
      "0.0020547722571825355\n",
      "0.009900140129843527\n",
      "0.00024113254323843147\n"
     ]
    }
   ],
   "source": [
    "\n",
    "l = 3\n",
    "effect_s = 0\n",
    "effect_t = 2\n",
    "z_difference = 0.1\n",
    "ns,nt, p,q = 5000,5000, 5, 50\n",
    "n_labeled = 1000\n",
    "s = np.array([-0.56228753, -1.01283112,  0.31424733, -0.90802408, -1.4123037 ])\n",
    "t = np.array([ 1.46564877, -0.2257763 ,  0.0675282 , -1.42474819, -0.54438272])\n",
    "u = np.array([ 0.11092259, -1.15099358,  0.37569802, -0.60063869, -0.29169375])\n",
    "\n",
    "power_enhance = False\n",
    "\n",
    "if power_enhance ==  False:\n",
    "    count = 0\n",
    "    #calculate covariance matrix\n",
    "\n",
    "    for j in range(100):\n",
    "        #generate data\n",
    "        Y_source, X_source, V_source, Z_source, Y_target, X_target, V_target, Z_target = \\\n",
    "        generate(ns,nt, p,q, s, t, u, Alpha_s = effect_s, Alpha_t = effect_t, z_diff = z_difference)\n",
    "\n",
    "        # # concatenate X,Z,V together\n",
    "        # D_s = np.concatenate((X_source, Z_source, V_source), axis = 1)\n",
    "        # D_t = np.concatenate((X_target, Z_target, V_target), axis = 1)\n",
    "\n",
    "\n",
    "\n",
    "        reg = 1\n",
    "        v_dr = est_v_ratio(X_source, Z_source, V_source, X_target, Z_target, V_target)\n",
    "        xz_dr = xz_ratio(X_source,Z_source, V_source, s,t,p,q,z_diff=z_difference)\n",
    "        # densratio_obj = densratio(D_t, D_s)\n",
    "        # #calculate density ratio for each sample\n",
    "        # sample_density_ratio1 = densratio_obj.compute_density_ratio(D_s)\n",
    "        true_dr = true_density_ratio(X_source, Z_source, V_source,s,t,p,q,Alpha_s = effect_s, Alpha_t = effect_t, z_diff= z_difference)[:n_labeled]\n",
    "        est_dr = v_dr[:n_labeled] * xz_dr[:n_labeled]\n",
    "    \n",
    "        \n",
    "        cov1 = generate_cov_matrix(Y_source[:n_labeled], X_source[:n_labeled], Z_source[:n_labeled],\n",
    "                                V_source[:n_labeled],u,s,t, L = l, K = 20, density_ratio = est_dr, regr = reg)\n",
    "        w, statistic = PCRtest(Y_source[:n_labeled], X_source[:n_labeled], Z_source[:n_labeled],\n",
    "                            V_source[:n_labeled],u,s,t, L = l, K = 20, covariate_shift = True, density_ratio = est_dr, regr = reg)\n",
    "        weight = la.eigh(cov1)[0]\n",
    "        # print([w,statistic])\n",
    "\n",
    "        # calculate the p value as weighted sum of chi squared random variables\n",
    "        p_value = 1-mchi.hbe(coeff=weight, x=statistic)\n",
    "        print(p_value)\n",
    "        if p_value < 0.1:\n",
    "            count += 1\n",
    "    probability = count/100\n"
   ]
  },
  {
   "cell_type": "code",
   "execution_count": 54,
   "id": "a33b1967-40d0-4a8a-aee7-d6d0626a60be",
   "metadata": {},
   "outputs": [
    {
     "data": {
      "text/plain": [
       "0.88"
      ]
     },
     "execution_count": 54,
     "metadata": {},
     "output_type": "execute_result"
    }
   ],
   "source": [
    "probability"
   ]
  },
  {
   "cell_type": "markdown",
   "id": "3cd2a91a-caa4-42e8-b59c-014dfdb76af9",
   "metadata": {},
   "source": [
    "# Comparison with resampling method\n"
   ]
  },
  {
   "cell_type": "code",
   "execution_count": 67,
   "id": "07798c89-1e23-4cdb-93c2-aeb46b402dbf",
   "metadata": {},
   "outputs": [],
   "source": [
    "def resample(Y_source, X_source, Z_source, V_source, density_ratio = None):\n",
    "    \n",
    "    M =  max(density_ratio)\n",
    "    n = density_ratio.shape[0]\n",
    "    Y_, X_, Z_, V_ = [], [], [], []\n",
    "    for i in range(n):\n",
    "        value = density_ratio[i]\n",
    "        u = np.random.random()\n",
    "        if value >= u * M:\n",
    "            Y_.append(Y_source[i])\n",
    "            X_.append(X_source[i])\n",
    "            Z_.append(Z_source[i])\n",
    "            V_.append(V_source[i])\n",
    "    Y_, X_, Z_, V_ = np.array(Y_) , np.array(X_), np.array(Z_), np.array(V_)\n",
    "    return Y_, X_, Z_, V_\n",
    "\n"
   ]
  },
  {
   "cell_type": "code",
   "execution_count": 79,
   "id": "74c3b46d-1493-457f-86d5-f1a5d3ec32e8",
   "metadata": {},
   "outputs": [],
   "source": [
    "Y_source, X_source, V_source, Z_source, Y_target, X_target, V_target, Z_target = generate(ns,nt, p,q, s, t, u, 1,0,0.1)\n",
    "\n",
    "v_dr = est_v_ratio(X_source, Z_source, V_source, X_target, Z_target, V_target)\n",
    "xz_dr = xz_ratio(X_source,Z_source, V_source, s,t,p,q)\n",
    "est_dr = v_dr[:1000] * xz_dr[:1000]\n",
    "\n"
   ]
  },
  {
   "cell_type": "code",
   "execution_count": 83,
   "id": "1a8d41d7-2e43-49ca-a3a6-3443c3542734",
   "metadata": {
    "collapsed": true,
    "jupyter": {
     "outputs_hidden": true
    },
    "tags": []
   },
   "outputs": [
    {
     "name": "stdout",
     "output_type": "stream",
     "text": [
      "(16, 1)\n",
      "(87, 1)\n",
      "(21, 1)\n",
      "(71, 1)\n",
      "(121, 1)\n",
      "(43, 1)\n",
      "(42, 1)\n",
      "(16, 1)\n",
      "(49, 1)\n",
      "(139, 1)\n",
      "(176, 1)\n",
      "(90, 1)\n",
      "(90, 1)\n",
      "(36, 1)\n",
      "(66, 1)\n",
      "(81, 1)\n",
      "(34, 1)\n",
      "(85, 1)\n",
      "(128, 1)\n",
      "(92, 1)\n",
      "(110, 1)\n",
      "(133, 1)\n",
      "(43, 1)\n",
      "(87, 1)\n",
      "(80, 1)\n",
      "(136, 1)\n",
      "(57, 1)\n",
      "(63, 1)\n",
      "(120, 1)\n",
      "(41, 1)\n",
      "(11, 1)\n",
      "(131, 1)\n",
      "(39, 1)\n",
      "(108, 1)\n",
      "(198, 1)\n",
      "(48, 1)\n",
      "(98, 1)\n",
      "(60, 1)\n",
      "(13, 1)\n",
      "(120, 1)\n",
      "(62, 1)\n",
      "(99, 1)\n",
      "(122, 1)\n",
      "(158, 1)\n",
      "(106, 1)\n",
      "(19, 1)\n",
      "(17, 1)\n",
      "(98, 1)\n",
      "(87, 1)\n",
      "(106, 1)\n",
      "(67, 1)\n",
      "(42, 1)\n",
      "(199, 1)\n",
      "(112, 1)\n",
      "(45, 1)\n",
      "(21, 1)\n",
      "(118, 1)\n",
      "(128, 1)\n",
      "(176, 1)\n",
      "(80, 1)\n",
      "(90, 1)\n",
      "(114, 1)\n",
      "(136, 1)\n",
      "(86, 1)\n",
      "(115, 1)\n",
      "(88, 1)\n",
      "(61, 1)\n",
      "(133, 1)\n",
      "(95, 1)\n",
      "(25, 1)\n",
      "(31, 1)\n",
      "(130, 1)\n",
      "(138, 1)\n",
      "(46, 1)\n",
      "(137, 1)\n",
      "(73, 1)\n",
      "(108, 1)\n",
      "(50, 1)\n",
      "(113, 1)\n",
      "(154, 1)\n",
      "(74, 1)\n",
      "(48, 1)\n",
      "(104, 1)\n",
      "(69, 1)\n",
      "(71, 1)\n",
      "(61, 1)\n",
      "(101, 1)\n",
      "(66, 1)\n",
      "(116, 1)\n",
      "(171, 1)\n",
      "(25, 1)\n",
      "(75, 1)\n",
      "(87, 1)\n",
      "(128, 1)\n",
      "(36, 1)\n",
      "(11, 1)\n",
      "(140, 1)\n",
      "(127, 1)\n",
      "(35, 1)\n",
      "(93, 1)\n",
      "(123, 1)\n",
      "(26, 1)\n",
      "(154, 1)\n",
      "(88, 1)\n",
      "(149, 1)\n",
      "(63, 1)\n",
      "(94, 1)\n",
      "(73, 1)\n",
      "(134, 1)\n",
      "(9, 1)\n",
      "(135, 1)\n",
      "(84, 1)\n",
      "(54, 1)\n",
      "(15, 1)\n",
      "(118, 1)\n",
      "(19, 1)\n",
      "(121, 1)\n",
      "(21, 1)\n",
      "(73, 1)\n",
      "(199, 1)\n",
      "(99, 1)\n",
      "(112, 1)\n",
      "(69, 1)\n",
      "(44, 1)\n",
      "(83, 1)\n",
      "(46, 1)\n",
      "(70, 1)\n",
      "(126, 1)\n",
      "(143, 1)\n",
      "(139, 1)\n",
      "(53, 1)\n",
      "(55, 1)\n",
      "(115, 1)\n",
      "(61, 1)\n",
      "(43, 1)\n",
      "(65, 1)\n",
      "(16, 1)\n",
      "(187, 1)\n",
      "(93, 1)\n",
      "(41, 1)\n",
      "(69, 1)\n",
      "(49, 1)\n",
      "(50, 1)\n",
      "(4, 1)\n",
      "(66, 1)\n",
      "(59, 1)\n",
      "(104, 1)\n",
      "(47, 1)\n",
      "(70, 1)\n",
      "(54, 1)\n",
      "(98, 1)\n",
      "(26, 1)\n",
      "(12, 1)\n",
      "(148, 1)\n",
      "(119, 1)\n",
      "(142, 1)\n",
      "(34, 1)\n",
      "(101, 1)\n",
      "(37, 1)\n",
      "(108, 1)\n",
      "(109, 1)\n",
      "(130, 1)\n",
      "(30, 1)\n",
      "(78, 1)\n",
      "(62, 1)\n",
      "(170, 1)\n",
      "(165, 1)\n",
      "(46, 1)\n",
      "(162, 1)\n",
      "(144, 1)\n",
      "(41, 1)\n",
      "(18, 1)\n",
      "(22, 1)\n",
      "(128, 1)\n",
      "(89, 1)\n",
      "(29, 1)\n",
      "(149, 1)\n",
      "(59, 1)\n",
      "(40, 1)\n",
      "(38, 1)\n",
      "(67, 1)\n",
      "(93, 1)\n",
      "(95, 1)\n",
      "(72, 1)\n",
      "(56, 1)\n",
      "(117, 1)\n",
      "(60, 1)\n",
      "(104, 1)\n",
      "(67, 1)\n",
      "(39, 1)\n",
      "(37, 1)\n",
      "(193, 1)\n",
      "(2, 1)\n",
      "(43, 1)\n",
      "(212, 1)\n",
      "(54, 1)\n",
      "(35, 1)\n",
      "(87, 1)\n",
      "(54, 1)\n",
      "(70, 1)\n"
     ]
    }
   ],
   "source": [
    "count = 0\n",
    "probability = 0\n",
    "for i in range(200):\n",
    "    Y_source, X_source, V_source, Z_source, Y_target, X_target, V_target, Z_target = generate(ns,nt, p,q, s, t, u, 0,20,0.1)\n",
    "    reg = 1\n",
    "    # v_dr = est_v_ratio(X_source, Z_source, V_source, X_target, Z_target, V_target)\n",
    "    # xz_dr = xz_ratio(X_source,Z_source, V_source, s,t,p,q)\n",
    "    # est_dr = v_dr[:2000] * xz_dr[:2000]\n",
    "    true_dr = np.array(true_density_ratio(X_source, Z_source, V_source,s,t,p,q,Alpha_s = 0, Alpha_t = 1))\n",
    "    Y_, X_, Z_, V_ = resample(Y_source, X_source, Z_source, V_source, density_ratio=true_dr)\n",
    "    print(Y_.shape)\n",
    "    W, T = PCRtest(Y_, X_, Z_, V_, u, s, t, L = 3, K = 20, covariate_shift = False, density_ratio = true_dr, regr = reg)\n",
    "    p_value = chi_squared_p_value(T, 2)\n",
    "    if p_value < 0.1:\n",
    "        count += 1\n",
    "probability = count/200"
   ]
  },
  {
   "cell_type": "code",
   "execution_count": 84,
   "id": "ed398b8c-dba9-49d0-aac1-e1c332a42e9f",
   "metadata": {},
   "outputs": [
    {
     "data": {
      "text/plain": [
       "0.16"
      ]
     },
     "execution_count": 84,
     "metadata": {},
     "output_type": "execute_result"
    }
   ],
   "source": [
    "probability"
   ]
  },
  {
   "cell_type": "code",
   "execution_count": null,
   "id": "d2c36dff-b2dd-45e7-974d-d03abfc61f13",
   "metadata": {},
   "outputs": [],
   "source": [
    "def benchmark(test_n, alpha, L, K):\n",
    "    sample_density_ratio2=1\n",
    "    count = 0\n",
    "    beta = 0.2\n",
    "    chi_list_1=[3.841, 5.991, 7.815, 9.488, 11.07]\n",
    "    chi_list_2=[2.706, 4.605, 6.251, 7.779, 9.236]\n",
    "    p_list=[]\n",
    "    sample_num=[]\n",
    "    eff_size=[]\n",
    "    Las = LassoCV()\n",
    "    for i in trange(test_n):\n",
    "        Y_source, X_source, V_source, Z_source, Y_target, X_target, V_target, Z_target = generate(ns,nt, p,q, s, t, u, alpha, beta)\n",
    "        W = np.hstack((X_source, Z_source))\n",
    "        reg = Las.fit(W, Y_source.ravel())\n",
    "\n",
    "        Y_, X_, Z_, V_ , size = resample(Y_source, X_source, Z_source, V_source, Y_target, X_target, V_target, Z_target)\n",
    "        xp, p_value = PCRtest(Y_, X_, Z_, V_, u, s, t, L, K, covariate_shift = False, density_ratio = 1, regr = reg)\n",
    "        #print(xp)\n",
    "        if p_value > chi_list_1[L-2]:\n",
    "            count += 1\n",
    "        p_list.append(p_value)\n",
    "        sample_num.append(Y_.size)\n",
    "        eff_size.append(size)\n",
    "\n",
    "    print(\"count = \", count, \"score =\",  count/test_n)\n",
    "    print(p_list)\n",
    "    #print(sample_num)\n",
    "    #print(np.array(eff_size)*np.array(sample_num))\n",
    "    return count, count/test_n"
   ]
  },
  {
   "cell_type": "code",
   "execution_count": 277,
   "id": "d4dfa4f8-b2d6-4a99-900c-b6483e7a4f15",
   "metadata": {},
   "outputs": [
    {
     "data": {
      "text/plain": [
       "(83, 1)"
      ]
     },
     "execution_count": 277,
     "metadata": {},
     "output_type": "execute_result"
    }
   ],
   "source": [
    "Y_.shape"
   ]
  },
  {
   "cell_type": "markdown",
   "id": "f3a64401-bdbe-48de-81ee-467cf45eed00",
   "metadata": {},
   "source": [
    "# How density ratio estimation change with z difference size"
   ]
  },
  {
   "cell_type": "code",
   "execution_count": 122,
   "id": "6ea5cdb8-a119-4dc7-859a-2209cc29ff9e",
   "metadata": {},
   "outputs": [
    {
     "name": "stdout",
     "output_type": "stream",
     "text": [
      "0.04517312117491362\n",
      "[16.43872429]\n",
      "0.07128429510715607\n",
      "[36.80030336]\n",
      "0.01495204975716172\n",
      "[23.35892972]\n",
      "0.22025412148494042\n",
      "[104.62115877]\n",
      "0.30376094654071306\n",
      "[99.97787286]\n",
      "0.4191210060228746\n",
      "[204.42733383]\n",
      "0.2651825028586374\n",
      "[130.64450855]\n",
      "0.09189472351344798\n",
      "[191.71857609]\n",
      "0.12387653275254705\n",
      "[150.11756876]\n",
      "0.12503657469708426\n",
      "[83.35850542]\n"
     ]
    }
   ],
   "source": [
    "diff_lst = []\n",
    "for z_difference in [0.1, 0.2, 0.3, 0.4, 0.5, 0.6, 0.7, 0.8, 0.9, 1]:\n",
    "    #generate data\n",
    "    Y_source, X_source, V_source, Z_source, Y_target, X_target, V_target, Z_target = generate(ns,nt, p,q, s, t, u, 0,2,z_difference)\n",
    "\n",
    "    true_dr = true_density_ratio(X_source,Z_source, V_source, s,t,p,q,0,2,z_difference)[:1000]\n",
    "    # xz_dr = xz_ratio(X_source,Z_source, V_source, s,t,p,q)\n",
    "    # sample_density_ratio2 = norm_est_ratio(D_s, D_t)\n",
    "\n",
    "    # sample_density_ratio2 = density_ratio_estimate_prob_LR(V_target, V_source, true_density= xz_dr, Z_known= True)\n",
    "    xz_dr = xz_ratio(X_source,Z_source, V_source, s,t,p,q,z_difference)\n",
    "    # v_true_dr = v_true_ratio(X_source,Z_source, V_source, s,t,p,q,0,2)\n",
    "    v_dr = est_v_ratio(X_source, Z_source, V_source, X_target, Z_target, V_target)\n",
    "    sample_density_ratio2 = xz_dr[:1000]* v_dr[:1000]\n",
    "    \n",
    "    combined_lists = zip(true_dr, sample_density_ratio2)\n",
    "\n",
    "    # Sort the combined_lists based on the values of true_lst\n",
    "    sorted_combined_lists = sorted(combined_lists, key=lambda x: x[0],reverse=True)\n",
    "\n",
    "    # Separate the sorted lists back into true_lst and other_lst\n",
    "    sorted_true, sorted_estimate = zip(*sorted_combined_lists)\n",
    "\n",
    "    # Calculate the difference between the true and estimate lists\n",
    "    difference = [true - estimate for true, estimate in zip(sorted_true, sorted_estimate)]\n",
    "    print(la.norm(difference)**2/1000)\n",
    "    print(max(true_dr))"
   ]
  },
  {
   "cell_type": "code",
   "execution_count": 32,
   "id": "9b33a119-cd28-4343-8e2c-1778747ad90e",
   "metadata": {},
   "outputs": [
    {
     "ename": "TypeError",
     "evalue": "'float' object cannot be interpreted as an integer",
     "output_type": "error",
     "traceback": [
      "\u001b[0;31m---------------------------------------------------------------------------\u001b[0m",
      "\u001b[0;31mTypeError\u001b[0m                                 Traceback (most recent call last)",
      "Cell \u001b[0;32mIn[32], line 2\u001b[0m\n\u001b[1;32m      1\u001b[0m step \u001b[38;5;241m=\u001b[39m \u001b[38;5;241m0.5\u001b[39m\n\u001b[0;32m----> 2\u001b[0m integer_list \u001b[38;5;241m=\u001b[39m [i \u001b[38;5;28;01mfor\u001b[39;00m i \u001b[38;5;129;01min\u001b[39;00m \u001b[38;5;28;43mrange\u001b[39;49m\u001b[43m(\u001b[49m\u001b[38;5;241;43m-\u001b[39;49m\u001b[38;5;241;43m4\u001b[39;49m\u001b[43m,\u001b[49m\u001b[43m \u001b[49m\u001b[38;5;241;43m5\u001b[39;49m\u001b[43m,\u001b[49m\u001b[43m \u001b[49m\u001b[43mstep\u001b[49m\u001b[43m)\u001b[49m]\n\u001b[1;32m      3\u001b[0m \u001b[38;5;28mprint\u001b[39m(integer_list)\n",
      "\u001b[0;31mTypeError\u001b[0m: 'float' object cannot be interpreted as an integer"
     ]
    }
   ],
   "source": []
  },
  {
   "cell_type": "markdown",
   "id": "eeb37029-e8f0-43f6-b387-0b4ce697c75d",
   "metadata": {},
   "source": [
    "# Real data usage"
   ]
  },
  {
   "cell_type": "code",
   "execution_count": 79,
   "id": "9d8e8917-9029-4b77-9882-5ce5eb8ad6bb",
   "metadata": {},
   "outputs": [],
   "source": [
    "def est_v_ratio(X_s, Z_s, V_s, Y_s, X_t, Z_t, V_t, test_size=0.5):\n",
    "    # Input the X,Z,V data on both source and target\n",
    "    # Return the density ratio for V|X,Z, and the (X,Z,V,Y)s data used for the test\n",
    "    \n",
    "    # Train-test split for source domain\n",
    "    X_s_train, X_s_test, Z_s_train, Z_s_test, V_s_train, V_s_test, Y_s_train, Y_s_test= train_test_split(\n",
    "        X_s, Z_s, V_s, Y_s, test_size=test_size, random_state=42\n",
    "    )\n",
    "   \n",
    "    # Concacanate the X and Z data\n",
    "    D_s_train = np.concatenate((Z_s_train, X_s_train), axis=1)\n",
    "    model_s = LassoCV(cv=5)\n",
    "    model_s.fit(D_s_train, V_s_train.ravel())\n",
    "\n",
    "    # Estimate the variance of the V|X,Z model for testing data\n",
    "    D_s_test = np.concatenate((Z_s_test, X_s_test), axis=1)\n",
    "    V_pred_s_test = model_s.predict(D_s_test)\n",
    "    residual_s_test = V_s_test.ravel() - V_pred_s_test\n",
    "    est_var_s_test = np.var(residual_s_test)\n",
    "\n",
    "    # Estimate the V probability for each sample in the testing set\n",
    "    V_s_prob_test = norm.pdf(V_s_test.ravel(), loc=V_pred_s_test, scale=np.sqrt(est_var_s_test))\n",
    "\n",
    "    # No need to test train split, use all samples in the target domain\n",
    "    X_t_train, X_t_test, Z_t_train, Z_t_test, V_t_train, V_t_test = train_test_split(\n",
    "        X_t, Z_t, V_t, test_size=0.01, random_state=42\n",
    "    )\n",
    "\n",
    "    # Train the conditional model V|X,Z on target\n",
    "    D_t_train = np.concatenate((Z_t_train, X_t_train), axis=1)\n",
    "    model_t = LassoCV(cv=5)\n",
    "    model_t.fit(D_t_train, V_t_train.ravel())\n",
    "\n",
    "    # Estimate the variance of the V|X,Z model for testing data\n",
    "    D_t_test = np.concatenate((Z_t_test, X_t_test), axis=1)\n",
    "    V_pred_t_test = model_t.predict(D_t_test)\n",
    "    residual_t_test = V_t_test.ravel() - V_pred_t_test\n",
    "    est_var_t_test = np.var(residual_t_test)\n",
    "\n",
    "    V_pred_st_test = model_t.predict(D_s_test)\n",
    "\n",
    "    V_t_prob_test = norm.pdf(V_s_test.ravel(), loc=V_pred_st_test, scale=np.sqrt(est_var_t_test))\n",
    "\n",
    "    v_ratio_test = V_t_prob_test / V_s_prob_test\n",
    "\n",
    "    return v_ratio_test, X_s_test,Z_s_test, V_s_test, Y_s_test\n",
    "   \n",
    "\n",
    "def T_statistic(y, x, z, v, E_X):\n",
    "    # Calculate the expectation of X|Z\n",
    "    d_x = E_X(z,v)\n",
    "    \n",
    "    # Return the test statistic\n",
    "    return y*(x-d_x)\n",
    "\n",
    "def Bin_pvalue(y, x, z, v, model_X, E_X, L, K):\n",
    "    \n",
    "    # The total number of bins\n",
    "    M = L * K - 1\n",
    "    cnt = 0\n",
    "    \n",
    "    # Calculate the test statistic of current sample\n",
    "    t_stat = T_statistic(y, x, z, v, E_X)\n",
    "    \n",
    "    # Generate M counterfeits\n",
    "    for i in range(M):\n",
    "        x_ = model_X(z, v)\n",
    "        if t_stat > T_statistic(y, x_, z, v, E_X):\n",
    "            cnt=cnt+1\n",
    "    # Find the bin index for the current sample \n",
    "    return cnt // K\n",
    "\n",
    "def PCRtest( Y, X, Z, V,model_X, E_X,density_ratio, L, K,covariate_shift):\n",
    "    \n",
    "    n = Y.size\n",
    "    # initialize the weight in each bin\n",
    "    W = np.array([0.0]*L)\n",
    "\n",
    "    # Loop over all samples\n",
    "    for j in range(n):\n",
    "        y, x, z, v = Y[j], X[j], Z[j], V[j]\n",
    "        \n",
    "        # With Covariate shift\n",
    "        if covariate_shift == True:\n",
    "            ind = Bin_pvalue(y, x, z, v,model_X, E_X, L, K)\n",
    "            W[ind] += density_ratio[j]\n",
    "           \n",
    "        # Normal PCR test\n",
    "        if covariate_shift == False:\n",
    "            W[Bin_pvalue(y, x, z, v, L, K, model_X, E_X)] += 1\n",
    "    \n",
    "    # Return the weights and the test statistic for csPCR test\n",
    "    return W, L/n * np.dot(W - n/L, W - n/L)\n",
    "\n",
    "\n",
    "def generate_cov_matrix(Y, X, Z, V, model_X, E_X, density_ratio,L, K):\n",
    "    \"\"\"\n",
    "    Generate a covariance matrix for quadratic form normal rv through Monte Carlo.\n",
    "\n",
    "    Parameters:\n",
    "    - L (int): The size of the covariance matrix.\n",
    "\n",
    "    Returns:\n",
    "    - covariance_matrix (ndarray): The generated covariance matrix.\n",
    "    \"\"\"\n",
    "    \n",
    "    n = Y.size\n",
    "    diag = np.array([0.0]*L)\n",
    "    \n",
    "    # Loop over all samples and add corresponding weights\n",
    "    for j in range(n):\n",
    "        y, x, z, v = Y[j], X[j], Z[j], V[j]\n",
    "        diag[Bin_pvalue(y, x, z, v,model_X, E_X,L, K)] += (density_ratio[j]**2)\n",
    "        \n",
    "    diag = L*(diag/n)- 1/L\n",
    "     # Fill all entries with 1/L\n",
    "    covariance_matrix = np.full((L, L), -1/L)\n",
    "    \n",
    "    # Set diagonal entries to 1 - 1/L^2\n",
    "    np.fill_diagonal(covariance_matrix, diag) \n",
    "    \n",
    "    # Return the \n",
    "    return covariance_matrix\n",
    "\n",
    "import scipy.stats as stats\n",
    "\n",
    "def chi_squared_p_value(chi_squared_statistic, df):\n",
    "    \"\"\"\n",
    "    Calculate the p-value from a chi-squared distribution.\n",
    "\n",
    "    Parameters:\n",
    "    - chi_squared_statistic (float): The observed chi-squared test statistic.\n",
    "    - df (int): The degrees of freedom.\n",
    "\n",
    "    Returns:\n",
    "    - p_value (float): The calculated p-value.\n",
    "    \"\"\"\n",
    "    p_value = 1 - stats.chi2.cdf(chi_squared_statistic, df)\n",
    "    return p_value\n",
    "\n",
    "def moment_chi_pvalue(statistic, cov1):\n",
    "    \n",
    "    weight = la.eigh(cov1)[0]\n",
    "    p_value = 1-mchi.hbe(coeff=weight, x=statistic)\n",
    "    \n",
    "    return p_value\n",
    "\n",
    "def Test(X_source, Z_source, V_source, Y_source, X_target, Z_target, V_target, model_X, E_X, xz_ratio, L=3, K=20):\n",
    "    '''\n",
    "    Input:\n",
    "    \n",
    "    '''\n",
    "    v_dr, X_source, Z_source, V_source, Y_source = est_v_ratio(X_source, Z_source, V_source,Y_source, X_target, Z_target, V_target)\n",
    "    xz_dr = xz_ratio(X_source,Z_source)\n",
    "\n",
    "    est_dr = v_dr * xz_dr\n",
    "    \n",
    "    cov1 = generate_cov_matrix(Y_source, X_source, Z_source,V_source,model_X, E_X, L = L, K = K, density_ratio = est_dr)\n",
    "    \n",
    "    w, statistic = PCRtest(Y_source, X_source, Z_source,V_source,model_X, E_X, L = L, K = K, covariate_shift = True, density_ratio = est_dr)\n",
    "    weight = la.eigh(cov1)[0]\n",
    "    \n",
    "    p_value = moment_chi_pvalue(statistic, cov1)\n",
    "    \n",
    "    return p_value\n",
    "    "
   ]
  },
  {
   "cell_type": "code",
   "execution_count": 1,
   "id": "dcbf4cf0-0de3-49d8-bbe7-ec14c04aa4a8",
   "metadata": {},
   "outputs": [],
   "source": [
    "import numpy as np\n",
    "\n",
    "def generate(ns, nt, p,q, s, t, u, Alpha_s=0, Alpha_t = 1, effect = 2,z_diff = 0.1):\n",
    "    Zs_null = np.random.normal(0,0.1, (ns, q))\n",
    "    Zt_null = np.random.normal(0,0.1, (nt, q))\n",
    "    \n",
    "    Z_source = np.hstack((np.random.normal(0, 1, (ns, p)) , Zs_null))\n",
    "    Z_target = np.hstack((np.random.normal(z_diff, 1, (nt, p)) , Zt_null))\n",
    "    \n",
    "    X_source = Z_source[:, :p] @ u + np.random.normal(0, 1, ns)\n",
    "    X_target = Z_target[:, :p] @ u + np.random.normal(0, 1, nt)\n",
    "\n",
    "    V_source = Z_source[:, :p] @ s + Alpha_s * X_source + np.random.normal(0, 5, ns)\n",
    "    V_target = Z_target[:, :p] @ t + Alpha_t * X_target + np.random.normal(0, 5, nt)\n",
    "    \n",
    "    # V_source = Z_source[:, :p] @ s + 2*X_source \n",
    "    # V_target = Z_target[:, :p] @ t - 2*X_target\n",
    "    \n",
    "    Y_source = (Z_source[:, :p].sum(axis=1))**2 + effect*V_source + np.random.normal(0, 1, ns) \n",
    "    Y_target = (Z_target[:, :p].sum(axis=1))**2 + effect*V_target + np.random.normal(0, 1, nt) \n",
    "    \n",
    "    \n",
    "    return Y_source.reshape(-1, 1), X_source.reshape(-1, 1), V_source.reshape(-1, 1), Z_source,\\\n",
    "           Y_target.reshape(-1, 1), X_target.reshape(-1, 1), V_target.reshape(-1, 1), Z_target\n",
    "\n",
    "def xz_ratio(X, Z, V, s, t,p,q,z_diff = 0.1):\n",
    "    ratios = []\n",
    "    for i in range(V.shape[0]):\n",
    "        zs_prob = multivariate_normal.pdf(Z[i][:p], mean = 0*np.ones(p), cov= 1*np.identity(p))\n",
    "        zt_prob = multivariate_normal.pdf(Z[i][:p], mean = z_diff*np.ones(p), cov= 1*np.identity(p))\n",
    "        ratios.append((zt_prob)/(zs_prob))\n",
    "    \n",
    "    return np.array(ratios)\n",
    "\n",
    "def true_density_ratio(X, Z, V, s, t,p,q, Alpha_s = 0, Alpha_t = 1,z_diff = 0.1):\n",
    "    ratios = []\n",
    "    size = V.shape[0]\n",
    "    for i in range(size):\n",
    "        zs_prob = multivariate_normal.pdf(Z[i][:p], mean = 0*np.ones(p), cov= 1*np.identity(p))\n",
    "        vs_prob = norm.pdf(V[i], loc=Z[i][:p]@s + Alpha_s*X[i], scale =5)\n",
    "        zt_prob = multivariate_normal.pdf(Z[i][:p], mean = z_diff*np.ones(p), cov= 1*np.identity(p))\n",
    "        vt_prob = norm.pdf(V[i], loc=Z[i][:p]@t + Alpha_t*X[i], scale =5)\n",
    "        ratios.append((zt_prob*vt_prob)/(zs_prob*vs_prob))\n",
    "    # zs_probs = multivariate_normal.pdf(Z[:, :p], mean=0*np.ones(p), cov=np.identity(p))\n",
    "    # vs_probs = norm.pdf(V, loc=(Z[:, :p] @ s).reshape(-1,1) + 2*X, scale=5)\n",
    "    # zt_probs = multivariate_normal.pdf(Z[:, :p], mean=0.2*np.ones(p), cov=np.identity(p))\n",
    "    # vt_probs = norm.pdf(V, loc=(Z[:, :p] @ t).reshape(-1,1) - 2*X, scale=5)\n",
    "    # ratios = (zt_probs * vt_probs) / (zs_probs * vs_probs)\n",
    "    return np.array(ratios)"
   ]
  },
  {
   "cell_type": "code",
   "execution_count": 4,
   "id": "f451fd73-ca98-44e7-9bea-28ca6cab39dc",
   "metadata": {},
   "outputs": [],
   "source": [
    "ns,nt, p,q = 3000,3000, 5, 50\n",
    "\n",
    "s = np.array([-0.56228753, -1.01283112,  0.31424733, -0.90802408, -1.4123037 ])\n",
    "t = np.array([ 1.46564877, -0.2257763 ,  0.0675282 , -1.42474819, -0.54438272])\n",
    "u = np.array([ 0.11092259, -1.15099358,  0.37569802, -0.60063869, -0.29169375])"
   ]
  },
  {
   "cell_type": "code",
   "execution_count": 70,
   "id": "1cd1821d-8b24-4417-b60c-53d742d061fc",
   "metadata": {
    "collapsed": true,
    "jupyter": {
     "outputs_hidden": true
    },
    "tags": []
   },
   "outputs": [
    {
     "name": "stderr",
     "output_type": "stream",
     "text": [
      "  1%|          | 1/100 [00:02<04:18,  2.61s/it]"
     ]
    },
    {
     "name": "stdout",
     "output_type": "stream",
     "text": [
      "0.00030857578300813593\n"
     ]
    },
    {
     "name": "stderr",
     "output_type": "stream",
     "text": [
      "  2%|▏         | 2/100 [00:04<03:20,  2.05s/it]"
     ]
    },
    {
     "name": "stdout",
     "output_type": "stream",
     "text": [
      "0.00979335839682205\n"
     ]
    },
    {
     "name": "stderr",
     "output_type": "stream",
     "text": [
      "  3%|▎         | 3/100 [00:05<03:01,  1.87s/it]"
     ]
    },
    {
     "name": "stdout",
     "output_type": "stream",
     "text": [
      "0.000598960270490001\n"
     ]
    },
    {
     "name": "stderr",
     "output_type": "stream",
     "text": [
      "  4%|▍         | 4/100 [00:07<02:42,  1.69s/it]"
     ]
    },
    {
     "name": "stdout",
     "output_type": "stream",
     "text": [
      "0.000776816157895488\n"
     ]
    },
    {
     "name": "stderr",
     "output_type": "stream",
     "text": [
      "  5%|▌         | 5/100 [00:08<02:34,  1.63s/it]"
     ]
    },
    {
     "name": "stdout",
     "output_type": "stream",
     "text": [
      "0.004300486232952205\n"
     ]
    },
    {
     "name": "stderr",
     "output_type": "stream",
     "text": [
      "  6%|▌         | 6/100 [00:10<02:31,  1.61s/it]"
     ]
    },
    {
     "name": "stdout",
     "output_type": "stream",
     "text": [
      "4.0859323279685e-05\n"
     ]
    },
    {
     "name": "stderr",
     "output_type": "stream",
     "text": [
      "  7%|▋         | 7/100 [00:11<02:18,  1.49s/it]"
     ]
    },
    {
     "name": "stdout",
     "output_type": "stream",
     "text": [
      "0.013847383847827799\n"
     ]
    },
    {
     "name": "stderr",
     "output_type": "stream",
     "text": [
      "  8%|▊         | 8/100 [00:13<02:17,  1.49s/it]"
     ]
    },
    {
     "name": "stdout",
     "output_type": "stream",
     "text": [
      "8.134858318042948e-05\n"
     ]
    },
    {
     "name": "stderr",
     "output_type": "stream",
     "text": [
      "  9%|▉         | 9/100 [00:14<02:09,  1.42s/it]"
     ]
    },
    {
     "name": "stdout",
     "output_type": "stream",
     "text": [
      "0.001219288709724431\n"
     ]
    },
    {
     "name": "stderr",
     "output_type": "stream",
     "text": [
      " 10%|█         | 10/100 [00:15<02:03,  1.37s/it]"
     ]
    },
    {
     "name": "stdout",
     "output_type": "stream",
     "text": [
      "0.023974760869871936\n"
     ]
    },
    {
     "name": "stderr",
     "output_type": "stream",
     "text": [
      " 11%|█         | 11/100 [00:17<02:02,  1.38s/it]"
     ]
    },
    {
     "name": "stdout",
     "output_type": "stream",
     "text": [
      "0.21676984675898803\n"
     ]
    },
    {
     "name": "stderr",
     "output_type": "stream",
     "text": [
      " 12%|█▏        | 12/100 [00:18<02:08,  1.46s/it]"
     ]
    },
    {
     "name": "stdout",
     "output_type": "stream",
     "text": [
      "0.002148364226419286\n"
     ]
    },
    {
     "name": "stderr",
     "output_type": "stream",
     "text": [
      " 13%|█▎        | 13/100 [00:20<02:07,  1.47s/it]"
     ]
    },
    {
     "name": "stdout",
     "output_type": "stream",
     "text": [
      "0.018467125646669746\n"
     ]
    },
    {
     "name": "stderr",
     "output_type": "stream",
     "text": [
      " 14%|█▍        | 14/100 [00:21<02:02,  1.42s/it]"
     ]
    },
    {
     "name": "stdout",
     "output_type": "stream",
     "text": [
      "0.00032078721888639805\n"
     ]
    },
    {
     "name": "stderr",
     "output_type": "stream",
     "text": [
      " 15%|█▌        | 15/100 [00:22<01:57,  1.39s/it]"
     ]
    },
    {
     "name": "stdout",
     "output_type": "stream",
     "text": [
      "0.0004452991753760571\n"
     ]
    },
    {
     "name": "stderr",
     "output_type": "stream",
     "text": [
      " 16%|█▌        | 16/100 [00:24<01:52,  1.34s/it]"
     ]
    },
    {
     "name": "stdout",
     "output_type": "stream",
     "text": [
      "0.00011906891326407543\n"
     ]
    },
    {
     "name": "stderr",
     "output_type": "stream",
     "text": [
      " 17%|█▋        | 17/100 [00:25<01:48,  1.31s/it]"
     ]
    },
    {
     "name": "stdout",
     "output_type": "stream",
     "text": [
      "0.3730580690470483\n"
     ]
    },
    {
     "name": "stderr",
     "output_type": "stream",
     "text": [
      " 18%|█▊        | 18/100 [00:26<01:45,  1.28s/it]"
     ]
    },
    {
     "name": "stdout",
     "output_type": "stream",
     "text": [
      "0.006295076120437781\n"
     ]
    },
    {
     "name": "stderr",
     "output_type": "stream",
     "text": [
      " 19%|█▉        | 19/100 [00:27<01:42,  1.27s/it]"
     ]
    },
    {
     "name": "stdout",
     "output_type": "stream",
     "text": [
      "0.001736972528053382\n"
     ]
    },
    {
     "name": "stderr",
     "output_type": "stream",
     "text": [
      " 20%|██        | 20/100 [00:29<01:40,  1.26s/it]"
     ]
    },
    {
     "name": "stdout",
     "output_type": "stream",
     "text": [
      "0.013332175443673377\n"
     ]
    },
    {
     "name": "stderr",
     "output_type": "stream",
     "text": [
      " 21%|██        | 21/100 [00:30<01:38,  1.25s/it]"
     ]
    },
    {
     "name": "stdout",
     "output_type": "stream",
     "text": [
      "0.009383045235641374\n"
     ]
    },
    {
     "name": "stderr",
     "output_type": "stream",
     "text": [
      " 22%|██▏       | 22/100 [00:31<01:37,  1.24s/it]"
     ]
    },
    {
     "name": "stdout",
     "output_type": "stream",
     "text": [
      "4.1957109297996453e-07\n"
     ]
    },
    {
     "name": "stderr",
     "output_type": "stream",
     "text": [
      " 23%|██▎       | 23/100 [00:32<01:36,  1.25s/it]"
     ]
    },
    {
     "name": "stdout",
     "output_type": "stream",
     "text": [
      "0.003945983728360525\n"
     ]
    },
    {
     "name": "stderr",
     "output_type": "stream",
     "text": [
      " 24%|██▍       | 24/100 [00:34<01:38,  1.29s/it]"
     ]
    },
    {
     "name": "stdout",
     "output_type": "stream",
     "text": [
      "0.0015279214447528888\n"
     ]
    },
    {
     "name": "stderr",
     "output_type": "stream",
     "text": [
      " 25%|██▌       | 25/100 [00:35<01:35,  1.28s/it]"
     ]
    },
    {
     "name": "stdout",
     "output_type": "stream",
     "text": [
      "0.0018883411554246887\n"
     ]
    },
    {
     "name": "stderr",
     "output_type": "stream",
     "text": [
      " 26%|██▌       | 26/100 [00:36<01:33,  1.27s/it]"
     ]
    },
    {
     "name": "stdout",
     "output_type": "stream",
     "text": [
      "0.02344364591241732\n"
     ]
    },
    {
     "name": "stderr",
     "output_type": "stream",
     "text": [
      " 27%|██▋       | 27/100 [00:37<01:31,  1.26s/it]"
     ]
    },
    {
     "name": "stdout",
     "output_type": "stream",
     "text": [
      "0.8018958198790631\n"
     ]
    },
    {
     "name": "stderr",
     "output_type": "stream",
     "text": [
      " 28%|██▊       | 28/100 [00:39<01:33,  1.31s/it]"
     ]
    },
    {
     "name": "stdout",
     "output_type": "stream",
     "text": [
      "2.4566972278705634e-07\n"
     ]
    },
    {
     "name": "stderr",
     "output_type": "stream",
     "text": [
      " 29%|██▉       | 29/100 [00:40<01:35,  1.35s/it]"
     ]
    },
    {
     "name": "stdout",
     "output_type": "stream",
     "text": [
      "1.3719673884082795e-05\n"
     ]
    },
    {
     "name": "stderr",
     "output_type": "stream",
     "text": [
      " 30%|███       | 30/100 [00:42<01:33,  1.34s/it]"
     ]
    },
    {
     "name": "stdout",
     "output_type": "stream",
     "text": [
      "0.03474872890302905\n"
     ]
    },
    {
     "name": "stderr",
     "output_type": "stream",
     "text": [
      " 31%|███       | 31/100 [00:43<01:30,  1.31s/it]"
     ]
    },
    {
     "name": "stdout",
     "output_type": "stream",
     "text": [
      "0.0034937031353243775\n"
     ]
    },
    {
     "name": "stderr",
     "output_type": "stream",
     "text": [
      " 32%|███▏      | 32/100 [00:44<01:32,  1.37s/it]"
     ]
    },
    {
     "name": "stdout",
     "output_type": "stream",
     "text": [
      "0.3637541583268613\n"
     ]
    },
    {
     "name": "stderr",
     "output_type": "stream",
     "text": [
      " 33%|███▎      | 33/100 [00:46<01:29,  1.33s/it]"
     ]
    },
    {
     "name": "stdout",
     "output_type": "stream",
     "text": [
      "0.01172535696773247\n"
     ]
    },
    {
     "name": "stderr",
     "output_type": "stream",
     "text": [
      " 34%|███▍      | 34/100 [00:47<01:27,  1.33s/it]"
     ]
    },
    {
     "name": "stdout",
     "output_type": "stream",
     "text": [
      "1.8414078002959577e-05\n"
     ]
    },
    {
     "name": "stderr",
     "output_type": "stream",
     "text": [
      " 35%|███▌      | 35/100 [00:48<01:24,  1.30s/it]"
     ]
    },
    {
     "name": "stdout",
     "output_type": "stream",
     "text": [
      "0.07687830616612645\n"
     ]
    },
    {
     "name": "stderr",
     "output_type": "stream",
     "text": [
      " 36%|███▌      | 36/100 [00:49<01:24,  1.32s/it]"
     ]
    },
    {
     "name": "stdout",
     "output_type": "stream",
     "text": [
      "8.12133869043663e-08\n"
     ]
    },
    {
     "name": "stderr",
     "output_type": "stream",
     "text": [
      " 37%|███▋      | 37/100 [00:51<01:21,  1.30s/it]"
     ]
    },
    {
     "name": "stdout",
     "output_type": "stream",
     "text": [
      "0.04046864865182487\n"
     ]
    },
    {
     "name": "stderr",
     "output_type": "stream",
     "text": [
      " 38%|███▊      | 38/100 [00:52<01:20,  1.30s/it]"
     ]
    },
    {
     "name": "stdout",
     "output_type": "stream",
     "text": [
      "0.8819690099013954\n"
     ]
    },
    {
     "name": "stderr",
     "output_type": "stream",
     "text": [
      " 39%|███▉      | 39/100 [00:53<01:21,  1.34s/it]"
     ]
    },
    {
     "name": "stdout",
     "output_type": "stream",
     "text": [
      "0.0019939123987056107\n"
     ]
    },
    {
     "name": "stderr",
     "output_type": "stream",
     "text": [
      " 40%|████      | 40/100 [00:55<01:19,  1.32s/it]"
     ]
    },
    {
     "name": "stdout",
     "output_type": "stream",
     "text": [
      "1.2276673233557744e-08\n"
     ]
    },
    {
     "name": "stderr",
     "output_type": "stream",
     "text": [
      " 41%|████      | 41/100 [00:56<01:18,  1.33s/it]"
     ]
    },
    {
     "name": "stdout",
     "output_type": "stream",
     "text": [
      "0.05952536260627339\n"
     ]
    },
    {
     "name": "stderr",
     "output_type": "stream",
     "text": [
      " 42%|████▏     | 42/100 [00:58<01:20,  1.38s/it]"
     ]
    },
    {
     "name": "stdout",
     "output_type": "stream",
     "text": [
      "0.04875369612720293\n"
     ]
    },
    {
     "name": "stderr",
     "output_type": "stream",
     "text": [
      " 43%|████▎     | 43/100 [00:59<01:24,  1.49s/it]"
     ]
    },
    {
     "name": "stdout",
     "output_type": "stream",
     "text": [
      "0.0038719286630179983\n"
     ]
    },
    {
     "name": "stderr",
     "output_type": "stream",
     "text": [
      " 44%|████▍     | 44/100 [01:01<01:20,  1.43s/it]"
     ]
    },
    {
     "name": "stdout",
     "output_type": "stream",
     "text": [
      "0.3974874583861927\n"
     ]
    },
    {
     "name": "stderr",
     "output_type": "stream",
     "text": [
      " 45%|████▌     | 45/100 [01:02<01:16,  1.39s/it]"
     ]
    },
    {
     "name": "stdout",
     "output_type": "stream",
     "text": [
      "0.328182457191874\n"
     ]
    },
    {
     "name": "stderr",
     "output_type": "stream",
     "text": [
      " 46%|████▌     | 46/100 [01:03<01:13,  1.37s/it]"
     ]
    },
    {
     "name": "stdout",
     "output_type": "stream",
     "text": [
      "0.05342961142022862\n"
     ]
    },
    {
     "name": "stderr",
     "output_type": "stream",
     "text": [
      " 47%|████▋     | 47/100 [01:05<01:11,  1.34s/it]"
     ]
    },
    {
     "name": "stdout",
     "output_type": "stream",
     "text": [
      "0.0008858742243517126\n"
     ]
    },
    {
     "name": "stderr",
     "output_type": "stream",
     "text": [
      " 48%|████▊     | 48/100 [01:06<01:10,  1.35s/it]"
     ]
    },
    {
     "name": "stdout",
     "output_type": "stream",
     "text": [
      "2.9402870523442814e-05\n"
     ]
    },
    {
     "name": "stderr",
     "output_type": "stream",
     "text": [
      " 49%|████▉     | 49/100 [01:07<01:07,  1.32s/it]"
     ]
    },
    {
     "name": "stdout",
     "output_type": "stream",
     "text": [
      "0.012295385448993335\n"
     ]
    },
    {
     "name": "stderr",
     "output_type": "stream",
     "text": [
      " 50%|█████     | 50/100 [01:08<01:05,  1.31s/it]"
     ]
    },
    {
     "name": "stdout",
     "output_type": "stream",
     "text": [
      "8.867590179650886e-05\n"
     ]
    },
    {
     "name": "stderr",
     "output_type": "stream",
     "text": [
      " 51%|█████     | 51/100 [01:10<01:05,  1.34s/it]"
     ]
    },
    {
     "name": "stdout",
     "output_type": "stream",
     "text": [
      "0.0016956444664134596\n"
     ]
    },
    {
     "name": "stderr",
     "output_type": "stream",
     "text": [
      " 52%|█████▏    | 52/100 [01:11<01:03,  1.31s/it]"
     ]
    },
    {
     "name": "stdout",
     "output_type": "stream",
     "text": [
      "0.027007567203152227\n"
     ]
    },
    {
     "name": "stderr",
     "output_type": "stream",
     "text": [
      " 53%|█████▎    | 53/100 [01:12<01:00,  1.30s/it]"
     ]
    },
    {
     "name": "stdout",
     "output_type": "stream",
     "text": [
      "0.0024066622048117825\n"
     ]
    },
    {
     "name": "stderr",
     "output_type": "stream",
     "text": [
      " 54%|█████▍    | 54/100 [01:14<00:59,  1.30s/it]"
     ]
    },
    {
     "name": "stdout",
     "output_type": "stream",
     "text": [
      "0.01785056284325437\n"
     ]
    },
    {
     "name": "stderr",
     "output_type": "stream",
     "text": [
      " 55%|█████▌    | 55/100 [01:15<01:01,  1.36s/it]"
     ]
    },
    {
     "name": "stdout",
     "output_type": "stream",
     "text": [
      "0.015718882614768948\n"
     ]
    },
    {
     "name": "stderr",
     "output_type": "stream",
     "text": [
      " 56%|█████▌    | 56/100 [01:16<00:59,  1.35s/it]"
     ]
    },
    {
     "name": "stdout",
     "output_type": "stream",
     "text": [
      "0.00011505904542608025\n"
     ]
    },
    {
     "name": "stderr",
     "output_type": "stream",
     "text": [
      " 57%|█████▋    | 57/100 [01:18<00:57,  1.33s/it]"
     ]
    },
    {
     "name": "stdout",
     "output_type": "stream",
     "text": [
      "0.04868378678636487\n"
     ]
    },
    {
     "name": "stderr",
     "output_type": "stream",
     "text": [
      " 58%|█████▊    | 58/100 [01:19<00:56,  1.34s/it]"
     ]
    },
    {
     "name": "stdout",
     "output_type": "stream",
     "text": [
      "0.10016319914936667\n"
     ]
    },
    {
     "name": "stderr",
     "output_type": "stream",
     "text": [
      " 59%|█████▉    | 59/100 [01:20<00:54,  1.33s/it]"
     ]
    },
    {
     "name": "stdout",
     "output_type": "stream",
     "text": [
      "0.00023420032932375268\n"
     ]
    },
    {
     "name": "stderr",
     "output_type": "stream",
     "text": [
      " 60%|██████    | 60/100 [01:22<00:53,  1.33s/it]"
     ]
    },
    {
     "name": "stdout",
     "output_type": "stream",
     "text": [
      "0.01127641349870001\n"
     ]
    },
    {
     "name": "stderr",
     "output_type": "stream",
     "text": [
      " 61%|██████    | 61/100 [01:23<00:52,  1.34s/it]"
     ]
    },
    {
     "name": "stdout",
     "output_type": "stream",
     "text": [
      "0.0919954254280485\n"
     ]
    },
    {
     "name": "stderr",
     "output_type": "stream",
     "text": [
      " 62%|██████▏   | 62/100 [01:24<00:49,  1.31s/it]"
     ]
    },
    {
     "name": "stdout",
     "output_type": "stream",
     "text": [
      "0.10793582654359923\n"
     ]
    },
    {
     "name": "stderr",
     "output_type": "stream",
     "text": [
      " 63%|██████▎   | 63/100 [01:26<00:47,  1.29s/it]"
     ]
    },
    {
     "name": "stdout",
     "output_type": "stream",
     "text": [
      "0.11421823452097368\n"
     ]
    },
    {
     "name": "stderr",
     "output_type": "stream",
     "text": [
      " 64%|██████▍   | 64/100 [01:27<00:45,  1.27s/it]"
     ]
    },
    {
     "name": "stdout",
     "output_type": "stream",
     "text": [
      "0.0046866526226451155\n"
     ]
    },
    {
     "name": "stderr",
     "output_type": "stream",
     "text": [
      " 65%|██████▌   | 65/100 [01:28<00:43,  1.26s/it]"
     ]
    },
    {
     "name": "stdout",
     "output_type": "stream",
     "text": [
      "0.003148432326332773\n"
     ]
    },
    {
     "name": "stderr",
     "output_type": "stream",
     "text": [
      " 66%|██████▌   | 66/100 [01:29<00:42,  1.26s/it]"
     ]
    },
    {
     "name": "stdout",
     "output_type": "stream",
     "text": [
      "0.7586622546583117\n"
     ]
    },
    {
     "name": "stderr",
     "output_type": "stream",
     "text": [
      " 67%|██████▋   | 67/100 [01:31<00:41,  1.27s/it]"
     ]
    },
    {
     "name": "stdout",
     "output_type": "stream",
     "text": [
      "0.049987918583112245\n"
     ]
    },
    {
     "name": "stderr",
     "output_type": "stream",
     "text": [
      " 68%|██████▊   | 68/100 [01:32<00:40,  1.25s/it]"
     ]
    },
    {
     "name": "stdout",
     "output_type": "stream",
     "text": [
      "0.006836359871295827\n"
     ]
    },
    {
     "name": "stderr",
     "output_type": "stream",
     "text": [
      " 69%|██████▉   | 69/100 [01:33<00:39,  1.26s/it]"
     ]
    },
    {
     "name": "stdout",
     "output_type": "stream",
     "text": [
      "0.05059126427146288\n"
     ]
    },
    {
     "name": "stderr",
     "output_type": "stream",
     "text": [
      " 70%|███████   | 70/100 [01:34<00:38,  1.29s/it]"
     ]
    },
    {
     "name": "stdout",
     "output_type": "stream",
     "text": [
      "0.01849226028080886\n"
     ]
    },
    {
     "name": "stderr",
     "output_type": "stream",
     "text": [
      " 71%|███████   | 71/100 [01:36<00:39,  1.37s/it]"
     ]
    },
    {
     "name": "stdout",
     "output_type": "stream",
     "text": [
      "5.8920285488373025e-06\n"
     ]
    },
    {
     "name": "stderr",
     "output_type": "stream",
     "text": [
      " 72%|███████▏  | 72/100 [01:37<00:37,  1.35s/it]"
     ]
    },
    {
     "name": "stdout",
     "output_type": "stream",
     "text": [
      "8.864793227258971e-07\n"
     ]
    },
    {
     "name": "stderr",
     "output_type": "stream",
     "text": [
      " 73%|███████▎  | 73/100 [01:39<00:35,  1.33s/it]"
     ]
    },
    {
     "name": "stdout",
     "output_type": "stream",
     "text": [
      "0.0813798511300361\n"
     ]
    },
    {
     "name": "stderr",
     "output_type": "stream",
     "text": [
      " 74%|███████▍  | 74/100 [01:40<00:33,  1.31s/it]"
     ]
    },
    {
     "name": "stdout",
     "output_type": "stream",
     "text": [
      "0.0034278632016502275\n"
     ]
    },
    {
     "name": "stderr",
     "output_type": "stream",
     "text": [
      " 75%|███████▌  | 75/100 [01:41<00:32,  1.29s/it]"
     ]
    },
    {
     "name": "stdout",
     "output_type": "stream",
     "text": [
      "0.0002038935435293432\n"
     ]
    },
    {
     "name": "stderr",
     "output_type": "stream",
     "text": [
      " 76%|███████▌  | 76/100 [01:42<00:30,  1.27s/it]"
     ]
    },
    {
     "name": "stdout",
     "output_type": "stream",
     "text": [
      "0.0013780703756897106\n"
     ]
    },
    {
     "name": "stderr",
     "output_type": "stream",
     "text": [
      " 77%|███████▋  | 77/100 [01:44<00:28,  1.26s/it]"
     ]
    },
    {
     "name": "stdout",
     "output_type": "stream",
     "text": [
      "0.3411363871556149\n"
     ]
    },
    {
     "name": "stderr",
     "output_type": "stream",
     "text": [
      " 78%|███████▊  | 78/100 [01:45<00:27,  1.26s/it]"
     ]
    },
    {
     "name": "stdout",
     "output_type": "stream",
     "text": [
      "0.007836370603055753\n"
     ]
    },
    {
     "name": "stderr",
     "output_type": "stream",
     "text": [
      " 79%|███████▉  | 79/100 [01:46<00:26,  1.25s/it]"
     ]
    },
    {
     "name": "stdout",
     "output_type": "stream",
     "text": [
      "5.6011054521909465e-05\n"
     ]
    },
    {
     "name": "stderr",
     "output_type": "stream",
     "text": [
      " 80%|████████  | 80/100 [01:47<00:25,  1.26s/it]"
     ]
    },
    {
     "name": "stdout",
     "output_type": "stream",
     "text": [
      "0.0011051628322997775\n"
     ]
    },
    {
     "name": "stderr",
     "output_type": "stream",
     "text": [
      " 81%|████████  | 81/100 [01:49<00:23,  1.26s/it]"
     ]
    },
    {
     "name": "stdout",
     "output_type": "stream",
     "text": [
      "0.20855666350491098\n"
     ]
    },
    {
     "name": "stderr",
     "output_type": "stream",
     "text": [
      " 82%|████████▏ | 82/100 [01:50<00:22,  1.25s/it]"
     ]
    },
    {
     "name": "stdout",
     "output_type": "stream",
     "text": [
      "0.009605321552195734\n"
     ]
    },
    {
     "name": "stderr",
     "output_type": "stream",
     "text": [
      " 83%|████████▎ | 83/100 [01:51<00:21,  1.24s/it]"
     ]
    },
    {
     "name": "stdout",
     "output_type": "stream",
     "text": [
      "0.007795159413532371\n"
     ]
    },
    {
     "name": "stderr",
     "output_type": "stream",
     "text": [
      " 84%|████████▍ | 84/100 [01:52<00:19,  1.24s/it]"
     ]
    },
    {
     "name": "stdout",
     "output_type": "stream",
     "text": [
      "0.0014539525109107387\n"
     ]
    },
    {
     "name": "stderr",
     "output_type": "stream",
     "text": [
      " 85%|████████▌ | 85/100 [01:53<00:18,  1.25s/it]"
     ]
    },
    {
     "name": "stdout",
     "output_type": "stream",
     "text": [
      "0.025889626514457698\n"
     ]
    },
    {
     "name": "stderr",
     "output_type": "stream",
     "text": [
      " 86%|████████▌ | 86/100 [01:55<00:17,  1.24s/it]"
     ]
    },
    {
     "name": "stdout",
     "output_type": "stream",
     "text": [
      "0.0024944037869795155\n"
     ]
    },
    {
     "name": "stderr",
     "output_type": "stream",
     "text": [
      " 87%|████████▋ | 87/100 [01:56<00:16,  1.24s/it]"
     ]
    },
    {
     "name": "stdout",
     "output_type": "stream",
     "text": [
      "2.969848580391954e-07\n"
     ]
    },
    {
     "name": "stderr",
     "output_type": "stream",
     "text": [
      " 88%|████████▊ | 88/100 [01:57<00:14,  1.24s/it]"
     ]
    },
    {
     "name": "stdout",
     "output_type": "stream",
     "text": [
      "0.05811945362869231\n"
     ]
    },
    {
     "name": "stderr",
     "output_type": "stream",
     "text": [
      " 89%|████████▉ | 89/100 [01:59<00:14,  1.28s/it]"
     ]
    },
    {
     "name": "stdout",
     "output_type": "stream",
     "text": [
      "0.04143300923515547\n"
     ]
    },
    {
     "name": "stderr",
     "output_type": "stream",
     "text": [
      " 90%|█████████ | 90/100 [02:00<00:12,  1.27s/it]"
     ]
    },
    {
     "name": "stdout",
     "output_type": "stream",
     "text": [
      "0.008566805784107179\n"
     ]
    },
    {
     "name": "stderr",
     "output_type": "stream",
     "text": [
      " 91%|█████████ | 91/100 [02:01<00:11,  1.26s/it]"
     ]
    },
    {
     "name": "stdout",
     "output_type": "stream",
     "text": [
      "7.840937321179631e-05\n"
     ]
    },
    {
     "name": "stderr",
     "output_type": "stream",
     "text": [
      " 92%|█████████▏| 92/100 [02:02<00:10,  1.25s/it]"
     ]
    },
    {
     "name": "stdout",
     "output_type": "stream",
     "text": [
      "3.8672742059486787e-05\n"
     ]
    },
    {
     "name": "stderr",
     "output_type": "stream",
     "text": [
      " 93%|█████████▎| 93/100 [02:04<00:08,  1.24s/it]"
     ]
    },
    {
     "name": "stdout",
     "output_type": "stream",
     "text": [
      "0.0108449193269895\n"
     ]
    },
    {
     "name": "stderr",
     "output_type": "stream",
     "text": [
      " 94%|█████████▍| 94/100 [02:05<00:07,  1.24s/it]"
     ]
    },
    {
     "name": "stdout",
     "output_type": "stream",
     "text": [
      "0.0018572800994441918\n"
     ]
    },
    {
     "name": "stderr",
     "output_type": "stream",
     "text": [
      " 95%|█████████▌| 95/100 [02:06<00:06,  1.24s/it]"
     ]
    },
    {
     "name": "stdout",
     "output_type": "stream",
     "text": [
      "0.10288330738102014\n"
     ]
    },
    {
     "name": "stderr",
     "output_type": "stream",
     "text": [
      " 96%|█████████▌| 96/100 [02:07<00:04,  1.24s/it]"
     ]
    },
    {
     "name": "stdout",
     "output_type": "stream",
     "text": [
      "6.679359024763798e-07\n"
     ]
    },
    {
     "name": "stderr",
     "output_type": "stream",
     "text": [
      " 97%|█████████▋| 97/100 [02:08<00:03,  1.25s/it]"
     ]
    },
    {
     "name": "stdout",
     "output_type": "stream",
     "text": [
      "0.11907651186292867\n"
     ]
    },
    {
     "name": "stderr",
     "output_type": "stream",
     "text": [
      " 98%|█████████▊| 98/100 [02:10<00:02,  1.25s/it]"
     ]
    },
    {
     "name": "stdout",
     "output_type": "stream",
     "text": [
      "0.0019444423346952622\n"
     ]
    },
    {
     "name": "stderr",
     "output_type": "stream",
     "text": [
      " 99%|█████████▉| 99/100 [02:11<00:01,  1.26s/it]"
     ]
    },
    {
     "name": "stdout",
     "output_type": "stream",
     "text": [
      "0.0036707492240630746\n"
     ]
    },
    {
     "name": "stderr",
     "output_type": "stream",
     "text": [
      "100%|██████████| 100/100 [02:12<00:00,  1.33s/it]"
     ]
    },
    {
     "name": "stdout",
     "output_type": "stream",
     "text": [
      "0.005627439172232296\n"
     ]
    },
    {
     "name": "stderr",
     "output_type": "stream",
     "text": [
      "\n"
     ]
    }
   ],
   "source": [
    "l = 3\n",
    "count = 0\n",
    "#calculate covariance matrix\n",
    "probability= 0\n",
    "for j in trange(100):\n",
    "    #generate data\n",
    "    Y_source, X_source, V_source, Z_source, Y_target, X_target, V_target, Z_target = generate(ns,nt, p,q, s, t, u)\n",
    "\n",
    "    # calculate density ratio\n",
    "    D_s = np.concatenate((X_source, Z_source, V_source), axis = 1)\n",
    "    D_t = np.concatenate((X_target, Z_target, V_target), axis = 1)\n",
    "\n",
    "    v_dr, X_source, Z_source, V_source, Y_source = est_v_ratio(X_source, Z_source, V_source,Y_source, X_target, Z_target, V_target)\n",
    "    xz_dr = xz_ratio(X_source,Z_source, V_source, s,t,p,q)\n",
    "\n",
    "    est_dr = v_dr * xz_dr\n",
    "    # est_dr = true_density_ratio(X_source, Z_source, V_source,s,t,p,q,Alpha_s = 0, Alpha_t = 1)\n",
    "    cov1 = generate_cov_matrix(Y_source, X_source, Z_source,V_source,L = l, K = 20, density_ratio = est_dr)\n",
    "    # print(cov1)\n",
    "    w, statistic = PCRtest(Y_source, X_source, Z_source,V_source, L = l, K = 20, covariate_shift = True, density_ratio = est_dr)\n",
    "    weight = la.eigh(cov1)[0]\n",
    "    # print([w,statistic])\n",
    "    p_value = 1-mchi.hbe(coeff=weight, x=statistic)\n",
    "    # #p_value = monte_carlo_p_value(100000, cov1, l, statistic)\n",
    "    # w, statistic = PCRtest(Y_source[:2000], X_source[:2000], Z_source[:2000],V_source[:2000],u,s,t, L = l, K = 20, covariate_shift = False, density_ratio = est_dr, regr = reg)\n",
    "    # p_value = chi_squared_p_value(statistic, l-1)\n",
    "    print(p_value)\n",
    "    if p_value < 0.1:\n",
    "        count += 1\n",
    "    probability = count/(j+1)\n"
   ]
  },
  {
   "cell_type": "code",
   "execution_count": 71,
   "id": "0730dc90-a531-4f22-840e-ed6f68f5bfd0",
   "metadata": {},
   "outputs": [
    {
     "data": {
      "text/plain": [
       "0.85"
      ]
     },
     "execution_count": 71,
     "metadata": {},
     "output_type": "execute_result"
    }
   ],
   "source": [
    "probability"
   ]
  },
  {
   "cell_type": "code",
   "execution_count": 5,
   "id": "ae506260-d819-466b-9ebd-ea2cfb92d3b3",
   "metadata": {},
   "outputs": [],
   "source": [
    "Y_source, X_source, V_source, Z_source, Y_target, X_target, V_target, Z_target = generate(ns,nt, p,q, s, t, u)"
   ]
  },
  {
   "cell_type": "code",
   "execution_count": 89,
   "id": "ce9bc367-9767-4896-8dff-d4884d612827",
   "metadata": {},
   "outputs": [
    {
     "data": {
      "text/plain": [
       "0.0002223383623920494"
      ]
     },
     "execution_count": 89,
     "metadata": {},
     "output_type": "execute_result"
    }
   ],
   "source": [
    "def Model_X(z, v):\n",
    "    # Conditional distribution of X|Z\n",
    "    return z[:5] @ u + np.random.normal(0, 1, 1)\n",
    "\n",
    "def E_X(z, v):\n",
    "    # Conditional expectation of X|Z\n",
    "    return z[:5] @ u\n",
    "\n",
    "\n",
    "def xz_ratio(X, Z, z_diff = 0.1):\n",
    "    ratios = []\n",
    "    for i in range(X.shape[0]):\n",
    "        zs_prob = multivariate_normal.pdf(Z[i][:p], mean = 0*np.ones(p), cov= 1*np.identity(p))\n",
    "        zt_prob = multivariate_normal.pdf(Z[i][:p], mean = z_diff*np.ones(p), cov= 1*np.identity(p))\n",
    "        ratios.append((zt_prob)/(zs_prob))\n",
    "    \n",
    "    return np.array(ratios)\n",
    "\n",
    "Test(X_source, Z_source, V_source, Y_source, X_target, Z_target, V_target, Model_X, E_X, xz_ratio)"
   ]
  },
  {
   "cell_type": "code",
   "execution_count": 6,
   "id": "52f29bf1-56d3-4337-8a00-ae0c781e23a4",
   "metadata": {},
   "outputs": [
    {
     "data": {
      "text/plain": [
       "0.00014633902545735378"
      ]
     },
     "execution_count": 6,
     "metadata": {},
     "output_type": "execute_result"
    }
   ],
   "source": [
    "from csPCR_functions import *\n",
    "\n",
    "def Model_X(z, v):\n",
    "    # Conditional distribution of X|Z\n",
    "    return z[:5] @ u + np.random.normal(0, 1, 1)\n",
    "\n",
    "def E_X(z, v):\n",
    "    # Conditional expectation of X|Z\n",
    "    return z[:5] @ u\n",
    "\n",
    "\n",
    "def xz_ratio(X, Z, z_diff = 0.1):\n",
    "    ratios = []\n",
    "    for i in range(X.shape[0]):\n",
    "        zs_prob = multivariate_normal.pdf(Z[i][:p], mean = 0*np.ones(p), cov= 1*np.identity(p))\n",
    "        zt_prob = multivariate_normal.pdf(Z[i][:p], mean = z_diff*np.ones(p), cov= 1*np.identity(p))\n",
    "        ratios.append((zt_prob)/(zs_prob))\n",
    "    \n",
    "    return np.array(ratios)\n",
    "\n",
    "Test(X_source, Z_source, V_source, Y_source, X_target, Z_target, V_target, Model_X, E_X, xz_ratio)"
   ]
  },
  {
   "cell_type": "code",
   "execution_count": null,
   "id": "b25f4f51-4e7b-4a43-af66-c48275b31339",
   "metadata": {},
   "outputs": [],
   "source": []
  }
 ],
 "metadata": {
  "kernelspec": {
   "display_name": "Python 3 (ipykernel)",
   "language": "python",
   "name": "python3"
  },
  "language_info": {
   "codemirror_mode": {
    "name": "ipython",
    "version": 3
   },
   "file_extension": ".py",
   "mimetype": "text/x-python",
   "name": "python",
   "nbconvert_exporter": "python",
   "pygments_lexer": "ipython3",
   "version": "3.9.16"
  }
 },
 "nbformat": 4,
 "nbformat_minor": 5
}
